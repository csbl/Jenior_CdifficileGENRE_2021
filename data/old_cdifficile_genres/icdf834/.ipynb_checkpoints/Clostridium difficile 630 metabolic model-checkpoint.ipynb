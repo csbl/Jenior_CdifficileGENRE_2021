{
 "cells": [
  {
   "cell_type": "code",
   "execution_count": 1,
   "metadata": {
    "collapsed": true
   },
   "outputs": [],
   "source": [
    "# Import libraries\n",
    "import cobra\n",
    "import cobra.test\n",
    "from cobra.io import write_sbml_model\n",
    "import pandas\n",
    "from read_excel import read_excel\n",
    "\n",
    "import os\n",
    "from os.path import join\n",
    "\n",
    "#import memote"
   ]
  },
  {
   "cell_type": "code",
   "execution_count": 2,
   "metadata": {
    "collapsed": true
   },
   "outputs": [],
   "source": [
    "# Read in sbml file\n",
    "icdf834 = cobra.io.read_sbml_model('icdf834.sbml')"
   ]
  },
  {
   "cell_type": "code",
   "execution_count": 3,
   "metadata": {
    "collapsed": true
   },
   "outputs": [],
   "source": [
    "# Read in metabolite description dictionary\n",
    "metabolite_dict = {}\n",
    "with open('metabolite_dictionary.tsv', 'r') as metabolites:\n",
    "    for line in metabolites:\n",
    "        met_id = line.split()[0]\n",
    "        compartment = met_id.split('[')[1].rstrip(']')\n",
    "        if compartment == 'c':\n",
    "            compartment = 'cytosolic'\n",
    "        else:\n",
    "            compartment = 'extracellular'\n",
    "        description = line.split()[1] + '_[' + compartment + ']'\n",
    "        metabolite_dict[met_id] = description"
   ]
  },
  {
   "cell_type": "code",
   "execution_count": 3,
   "metadata": {},
   "outputs": [
    {
     "data": {
      "text/html": [
       "\n",
       "        <table>\n",
       "            <tr>\n",
       "                <td><strong>Reaction identifier</strong></td><td>Biomass</td>\n",
       "            </tr><tr>\n",
       "                <td><strong>Name</strong></td><td>Biomass Reaction</td>\n",
       "            </tr><tr>\n",
       "                <td><strong>Memory address</strong></td>\n",
       "                <td>0x07f6a42d9ce90</td>\n",
       "            </tr><tr>\n",
       "                <td><strong>Stoichiometry</strong></td>\n",
       "                <td>\n",
       "                    <p style='text-align:right'>0.24 CW[c] + 0.03 DNA[c] + 0.07 Lip[c] + 0.4 Prot[c] + 0.12 RNA[c] + 0.14 SPs[c] + 40.0 atp[c] + 40.0 h2o[c] --> 40.0 adp[c] + biomass[c] + 40.0 pi[c]</p>\n",
       "                    <p style='text-align:right'>0.24 CW[c] + 0.03 DNA[c] + 0.07 Lip[c] + 0.4 Prot[c] + 0.12 RNA[c] + 0.14 SPs[c] + 40.0 atp[c] + 40.0 h2o[c] --> 40.0 adp[c] + biomass[c] + 40.0 pi[c]</p>\n",
       "                </td>\n",
       "            </tr><tr>\n",
       "                <td><strong>GPR</strong></td><td></td>\n",
       "            </tr><tr>\n",
       "                <td><strong>Lower bound</strong></td><td>0.0</td>\n",
       "            </tr><tr>\n",
       "                <td><strong>Upper bound</strong></td><td>1000.0</td>\n",
       "            </tr>\n",
       "        </table>\n",
       "        "
      ],
      "text/plain": [
       "<Reaction Biomass at 0x7f6a42d9ce90>"
      ]
     },
     "execution_count": 3,
     "metadata": {},
     "output_type": "execute_result"
    }
   ],
   "source": [
    "# Read in published Kashaf et al. (2017) model\n",
    "# Convert to cobra model (manually added reactions)\n",
    "#icdf834 = read_excel('icdf834.xlsx', rxn_sheet_name='reactions', met_sheet_name='metabolites',\n",
    "#                     rxn_id_key='Abbreviation', rxn_name_key='Description', rxn_str_key='Reaction',\n",
    "#                     rxn_gpr_key=\"GPR\", rxn_lb_key='Lower bound', rxn_ub_key='Upper bound',\n",
    "#                     met_id_key='Abbreviation', met_name_key='Description', met_formula_key='Neutral formula',\n",
    "#                     verbose=True)\n",
    "## Extract biomass excange equation\n",
    "#bm = [reaction for reaction in icdf834.reactions if reaction.id.startswith('Biomass')][0]\n",
    "#icdf834.objective = bm"
   ]
  },
  {
   "cell_type": "code",
   "execution_count": 4,
   "metadata": {
    "collapsed": true
   },
   "outputs": [],
   "source": [
    "# Write to sbml for future use\n",
    "#cobra.io.write_sbml_model(icdf834, 'icdf834.sbml')"
   ]
  },
  {
   "cell_type": "code",
   "execution_count": 4,
   "metadata": {},
   "outputs": [
    {
     "name": "stdout",
     "output_type": "stream",
     "text": [
      "Total reactions: 1227\n",
      "Total metabolites: 807\n",
      "Total genes: 834\n"
     ]
    }
   ],
   "source": [
    "print('Total reactions: ' + str(len(icdf834.reactions)))\n",
    "print('Total metabolites: ' + str(len(icdf834.metabolites)))\n",
    "print('Total genes: ' + str(len(icdf834.genes)))"
   ]
  },
  {
   "cell_type": "code",
   "execution_count": 5,
   "metadata": {
    "scrolled": true
   },
   "outputs": [
    {
     "name": "stdout",
     "output_type": "stream",
     "text": [
      "IN FLUXES    OUT FLUXES           OBJECTIVES\n",
      "-----------  -------------------  ------------\n",
      "gth[e]  4.9  ac[e]         1e+03  Biomass  140\n",
      "             co2[e]        1e+03\n",
      "             for[e]        1e+03\n",
      "             nh3[e]        1e+03\n",
      "             2mbut[e]    960\n",
      "             actid[e]    541\n",
      "             glyo[e]     447\n",
      "             hco3[e]     350\n",
      "             biomass[c]  140\n",
      "             at[e]        67.5\n",
      "             succ[e]      52.8\n"
     ]
    }
   ],
   "source": [
    "icdf834.summary()"
   ]
  },
  {
   "cell_type": "code",
   "execution_count": null,
   "metadata": {
    "collapsed": true
   },
   "outputs": [],
   "source": [
    "# Contraint based on metabolomics data"
   ]
  },
  {
   "cell_type": "code",
   "execution_count": null,
   "metadata": {
    "collapsed": true
   },
   "outputs": [],
   "source": [
    "# Integrate transcriptomic results"
   ]
  },
  {
   "cell_type": "code",
   "execution_count": 6,
   "metadata": {
    "collapsed": true,
    "scrolled": true
   },
   "outputs": [],
   "source": [
    "solution = icdf834.optimize()"
   ]
  },
  {
   "cell_type": "code",
   "execution_count": 7,
   "metadata": {},
   "outputs": [
    {
     "name": "stdout",
     "output_type": "stream",
     "text": [
      "Predicted doubling time (min): 25.6\n",
      "Actual doubling time (min): 29.7\n"
     ]
    }
   ],
   "source": [
    "# Evaluate predicted doubling time relative to measured\n",
    "obj_val = solution.objective_value\n",
    "print('Predicted doubling time (min): ' + str(round(((1 / obj_val) * 60 * 60),1)))\n",
    "print('Actual doubling time (min): 29.7')"
   ]
  },
  {
   "cell_type": "code",
   "execution_count": null,
   "metadata": {
    "collapsed": true
   },
   "outputs": [],
   "source": []
  },
  {
   "cell_type": "code",
   "execution_count": 35,
   "metadata": {},
   "outputs": [],
   "source": [
    "# Shadow price analysis\n",
    "icdf834_neg_shadow = [[metabolite_dict[price.id], price.shadow_price] for price in icdf834.metabolites if price.shadow_price < 0]"
   ]
  }
 ],
 "metadata": {
  "kernelspec": {
   "display_name": "Python 2",
   "language": "python",
   "name": "python2"
  },
  "language_info": {
   "codemirror_mode": {
    "name": "ipython",
    "version": 2
   },
   "file_extension": ".py",
   "mimetype": "text/x-python",
   "name": "python",
   "nbconvert_exporter": "python",
   "pygments_lexer": "ipython2",
   "version": "2.7.14"
  }
 },
 "nbformat": 4,
 "nbformat_minor": 2
}
