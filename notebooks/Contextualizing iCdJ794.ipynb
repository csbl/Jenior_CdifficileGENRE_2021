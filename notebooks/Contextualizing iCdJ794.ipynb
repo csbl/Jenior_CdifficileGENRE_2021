{
 "cells": [
  {
   "cell_type": "code",
   "execution_count": 1,
   "metadata": {},
   "outputs": [],
   "source": [
    "from riptide import *"
   ]
  },
  {
   "cell_type": "code",
   "execution_count": 2,
   "metadata": {},
   "outputs": [],
   "source": [
    "#iCdJ794 = cobra.io.read_sbml_model('/home/mjenior/Desktop/repos/Jenior_iCdJ794_2019/data/iCdJ794.sbml')\n",
    "iCdJ794 = cobra.io.load_json_model('/home/mjenior/Desktop/repos/Jenior_iCdJ794_2019/data/iCdJ794.json')\n",
    "#iCdJ794 = cobra.io.read_sbml_model('/home/mjenior/Desktop/iCdJ794.sbml')"
   ]
  },
  {
   "cell_type": "markdown",
   "metadata": {},
   "source": [
    "### Base Model Statistics"
   ]
  },
  {
   "cell_type": "code",
   "execution_count": 3,
   "metadata": {},
   "outputs": [
    {
     "data": {
      "text/html": [
       "\n",
       "        <table>\n",
       "            <tr>\n",
       "                <td><strong>Name</strong></td>\n",
       "                <td>iCdJ794</td>\n",
       "            </tr><tr>\n",
       "                <td><strong>Memory address</strong></td>\n",
       "                <td>0x07f042d308d68</td>\n",
       "            </tr><tr>\n",
       "                <td><strong>Number of metabolites</strong></td>\n",
       "                <td>1132</td>\n",
       "            </tr><tr>\n",
       "                <td><strong>Number of reactions</strong></td>\n",
       "                <td>1129</td>\n",
       "            </tr><tr>\n",
       "                <td><strong>Number of groups</strong></td>\n",
       "                <td>0</td>\n",
       "            </tr><tr>\n",
       "                <td><strong>Objective expression</strong></td>\n",
       "                <td>1.0*biomass - 1.0*biomass_reverse_01e59</td>\n",
       "            </tr><tr>\n",
       "                <td><strong>Compartments</strong></td>\n",
       "                <td>cytosol, extracellular</td>\n",
       "            </tr>\n",
       "          </table>"
      ],
      "text/plain": [
       "<Model iCdJ794 at 0x7f042d308d68>"
      ]
     },
     "execution_count": 3,
     "metadata": {},
     "output_type": "execute_result"
    }
   ],
   "source": [
    "iCdJ794"
   ]
  },
  {
   "cell_type": "code",
   "execution_count": 4,
   "metadata": {},
   "outputs": [
    {
     "data": {
      "text/plain": [
       "65.43231982360457"
      ]
     },
     "execution_count": 4,
     "metadata": {},
     "output_type": "execute_result"
    }
   ],
   "source": [
    "iCdJ794.slim_optimize()"
   ]
  },
  {
   "cell_type": "code",
   "execution_count": 5,
   "metadata": {},
   "outputs": [
    {
     "name": "stdout",
     "output_type": "stream",
     "text": [
      "Genes: 794\n",
      "Exchanges: 99\n",
      "Transporters: 104\n",
      "Metabolic reactions: 926\n"
     ]
    }
   ],
   "source": [
    "# Report some additional stats\n",
    "exch = 0\n",
    "for rxn in iCdJ794.reactions:\n",
    "    if len(list(rxn.products)) == 0:\n",
    "        exch += 1\n",
    "trans = 0\n",
    "for rxn in iCdJ794.reactions:\n",
    "    comps = set([x.compartment for x in list(rxn.reactants)] + [x.compartment for x in list(rxn.products)])\n",
    "    if len(comps) > 1:\n",
    "        trans += 1\n",
    "metab = len(list(iCdJ794.reactions)) - exch - trans\n",
    "\n",
    "print('Genes: ' + str(len(list(iCdJ794.genes))))\n",
    "print('Exchanges: ' + str(exch))\n",
    "print('Transporters: ' + str(trans))\n",
    "print('Metabolic reactions: ' + str(metab))"
   ]
  },
  {
   "cell_type": "markdown",
   "metadata": {},
   "source": [
    "### RIPTiDe *in vivo* Contextualization"
   ]
  },
  {
   "cell_type": "code",
   "execution_count": 3,
   "metadata": {},
   "outputs": [],
   "source": [
    "# Read in formatted transcription files\n",
    "def read_transcription(infile):\n",
    "    \n",
    "    abund_dict = {}\n",
    "    with open(infile, 'r') as abunds:\n",
    "        header = abunds.readline()\n",
    "        for line in abunds:\n",
    "            line = line.split()\n",
    "            gene = line[0].split('|')[0]\n",
    "            abund = float(line[2])\n",
    "            \n",
    "            abund_dict[gene] = abund\n",
    "            \n",
    "    return abund_dict\n"
   ]
  },
  {
   "cell_type": "code",
   "execution_count": 4,
   "metadata": {},
   "outputs": [],
   "source": [
    "# Read in in vivo C. difficile transcription\n",
    "cefoperazone = read_transcription('/home/mjenior/Desktop/repos/Jenior_iCdJ794_2019/data/transcript/cefoperazone_630.mapped.norm.tsv')\n",
    "clindamycin = read_transcription('/home/mjenior/Desktop/repos/Jenior_iCdJ794_2019/data/transcript/clindamycin_630.mapped.norm.tsv')\n",
    "streptomycin = read_transcription('/home/mjenior/Desktop/repos/Jenior_iCdJ794_2019/data/transcript/streptomycin_630.mapped.norm.tsv')"
   ]
  },
  {
   "cell_type": "code",
   "execution_count": 5,
   "metadata": {},
   "outputs": [
    {
     "name": "stdout",
     "output_type": "stream",
     "text": [
      "\n",
      "Initializing model and integrating transcriptomic data...\n",
      "Pruning zero flux subnetworks...\n",
      "Analyzing context-specific flux distributions...\n",
      "\n",
      "Reactions pruned to 276 from 1129 (75.55% change)\n",
      "Metabolites pruned to 278 from 1132 (75.44% change)\n",
      "Flux through the objective DECREASED to ~54.29 from ~65.43 (17.03% change)\n",
      "Contextualized GENRE is concordant with the transcriptome (p=0.003 **)\n",
      "\n",
      "RIPTiDe completed in 33 seconds\n",
      "\n"
     ]
    }
   ],
   "source": [
    "cef_iCdJ794_riptide = riptide.contextualize(model=iCdJ794, transcriptome=cefoperazone)"
   ]
  },
  {
   "cell_type": "code",
   "execution_count": 6,
   "metadata": {
    "scrolled": true
   },
   "outputs": [
    {
     "name": "stdout",
     "output_type": "stream",
     "text": [
      "\n",
      "Initializing model and integrating transcriptomic data...\n",
      "Pruning zero flux subnetworks...\n",
      "Analyzing context-specific flux distributions...\n",
      "\n",
      "Reactions pruned to 278 from 1129 (75.38% change)\n",
      "Metabolites pruned to 278 from 1132 (75.44% change)\n",
      "Flux through the objective DECREASED to ~57.48 from ~65.43 (12.15% change)\n",
      "Contextualized GENRE is concordant with the transcriptome (p<0.001 ***)\n",
      "\n",
      "RIPTiDe completed in 31 seconds\n",
      "\n"
     ]
    }
   ],
   "source": [
    "clinda_iCdJ794_riptide = riptide.contextualize(model=iCdJ794, transcriptome=clindamycin)"
   ]
  },
  {
   "cell_type": "code",
   "execution_count": 7,
   "metadata": {},
   "outputs": [
    {
     "name": "stdout",
     "output_type": "stream",
     "text": [
      "\n",
      "Initializing model and integrating transcriptomic data...\n",
      "Pruning zero flux subnetworks...\n",
      "Analyzing context-specific flux distributions...\n",
      "\n",
      "Reactions pruned to 280 from 1129 (75.2% change)\n",
      "Metabolites pruned to 281 from 1132 (75.18% change)\n",
      "Flux through the objective DECREASED to ~54.02 from ~65.43 (17.44% change)\n",
      "Contextualized GENRE is concordant with the transcriptome (p<0.001 ***)\n",
      "\n",
      "RIPTiDe completed in 1 minutes and 30 seconds\n",
      "\n"
     ]
    }
   ],
   "source": [
    "strep_iCdJ794_riptide = riptide.contextualize(model=iCdJ794, transcriptome=streptomycin)"
   ]
  },
  {
   "cell_type": "code",
   "execution_count": 29,
   "metadata": {},
   "outputs": [],
   "source": [
    "cef_iCdJ794_riptide.flux_samples.to_csv ('/home/mjenior/Desktop/cef_flux_samples.tsv', sep='\\t', index=None, header=True)\n",
    "clinda_iCdJ794_riptide.flux_samples.to_csv ('/home/mjenior/Desktop/clinda_flux_samples.tsv', sep='\\t', index=None, header=True)\n",
    "strep_iCdJ794_riptide.flux_samples.to_csv ('/home/mjenior/Desktop/strep_flux_samples.tsv', sep='\\t', index=None, header=True)"
   ]
  },
  {
   "cell_type": "code",
   "execution_count": 30,
   "metadata": {},
   "outputs": [],
   "source": [
    "cobra.io.save_json_model(cef_iCdJ794_riptide.model, \"/home/mjenior/Desktop/cef_iCdJ794_riptide.json\")\n",
    "cobra.io.save_json_model(clinda_iCdJ794_riptide.model, \"/home/mjenior/Desktop/clinda_iCdJ794_riptide.json\")\n",
    "cobra.io.save_json_model(strep_iCdJ794_riptide.model, \"/home/mjenior/Desktop/strep_iCdJ794_riptide.json\")"
   ]
  },
  {
   "cell_type": "code",
   "execution_count": 8,
   "metadata": {},
   "outputs": [
    {
     "data": {
      "text/plain": [
       "{'rho': 0.17768469835313902, 'p': 0.0030551983365490767, 'score': 17.8}"
      ]
     },
     "execution_count": 8,
     "metadata": {},
     "output_type": "execute_result"
    }
   ],
   "source": [
    "cef_iCdJ794_riptide.concordance"
   ]
  },
  {
   "cell_type": "code",
   "execution_count": 9,
   "metadata": {},
   "outputs": [
    {
     "data": {
      "text/plain": [
       "{'rho': 0.23362016482762377, 'p': 8.416295906310157e-05, 'score': 23.4}"
      ]
     },
     "execution_count": 9,
     "metadata": {},
     "output_type": "execute_result"
    }
   ],
   "source": [
    "clinda_iCdJ794_riptide.concordance"
   ]
  },
  {
   "cell_type": "code",
   "execution_count": 10,
   "metadata": {},
   "outputs": [
    {
     "data": {
      "text/plain": [
       "{'rho': 0.2778641948732724, 'p': 2.334522480150578e-06, 'score': 27.8}"
      ]
     },
     "execution_count": 10,
     "metadata": {},
     "output_type": "execute_result"
    }
   ],
   "source": [
    "strep_iCdJ794_riptide.concordance"
   ]
  },
  {
   "cell_type": "markdown",
   "metadata": {},
   "source": [
    "### Context-specific Gene Essentiality"
   ]
  },
  {
   "cell_type": "code",
   "execution_count": 11,
   "metadata": {},
   "outputs": [],
   "source": [
    "import copy\n",
    "from cobra.flux_analysis.variability import find_essential_genes\n",
    "\n",
    "def essential_genes(genre, media=None, optimum_fraction=0.01):\n",
    "    model = copy.deepcopy(genre)\n",
    "    \n",
    "    # Change media conditions if necessary\n",
    "    if media is not None:\n",
    "        exchanges = ['EX_' + x for x in media]\n",
    "        for rxn in model.reactions:\n",
    "            if len(list(rxn.products)) == 0:\n",
    "                if rxn.id in exchanges:\n",
    "                    model.reactions.get_by_id(rxn.id).lower_bound = -1000.0\n",
    "                else:\n",
    "                    model.reactions.get_by_id(rxn.id).lower_bound = 0.0\n",
    "    \n",
    "    # Find essential genes\n",
    "    essential_genes = find_essential_genes(model, threshold=optimum_fraction)\n",
    "    \n",
    "    return essential_genes\n",
    "                "
   ]
  },
  {
   "cell_type": "code",
   "execution_count": 12,
   "metadata": {},
   "outputs": [
    {
     "name": "stdout",
     "output_type": "stream",
     "text": [
      "Uncontextualized essential genes: 42\n"
     ]
    }
   ],
   "source": [
    "# Unconstrained base model\n",
    "base_essential = essential_genes(iCdJ794)\n",
    "base_essential_genes = set([x.id for x in base_essential])\n",
    "print('Uncontextualized essential genes: ' + str(len(base_essential_genes)))"
   ]
  },
  {
   "cell_type": "code",
   "execution_count": 13,
   "metadata": {},
   "outputs": [
    {
     "name": "stdout",
     "output_type": "stream",
     "text": [
      "Cef essential genes: 66\n"
     ]
    }
   ],
   "source": [
    "cef_essential_genes = essential_genes(cef_iCdJ794_riptide.model)\n",
    "cef_essential_genes = set([x.id for x in cef_essential_genes])\n",
    "print('Cef essential genes: ' + str(len(cef_essential_genes)))"
   ]
  },
  {
   "cell_type": "code",
   "execution_count": 14,
   "metadata": {},
   "outputs": [
    {
     "name": "stdout",
     "output_type": "stream",
     "text": [
      "Clinda essential genes: 75\n"
     ]
    }
   ],
   "source": [
    "clinda_essential_genes = essential_genes(clinda_iCdJ794_riptide.model)\n",
    "clinda_essential_genes = set([x.id for x in clinda_essential_genes])\n",
    "print('Clinda essential genes: ' + str(len(clinda_essential_genes)))"
   ]
  },
  {
   "cell_type": "code",
   "execution_count": 15,
   "metadata": {},
   "outputs": [
    {
     "name": "stdout",
     "output_type": "stream",
     "text": [
      "Strep essential genes: 66\n"
     ]
    }
   ],
   "source": [
    "strep_essential_genes = essential_genes(strep_iCdJ794_riptide.model)\n",
    "strep_essential_genes = set([x.id for x in strep_essential_genes])\n",
    "print('Strep essential genes: ' + str(len(strep_essential_genes)))"
   ]
  },
  {
   "cell_type": "code",
   "execution_count": 16,
   "metadata": {},
   "outputs": [
    {
     "name": "stdout",
     "output_type": "stream",
     "text": [
      "Shared: 63\n",
      "\n",
      "Cef only: 3\n",
      "Strep only: 1\n",
      "Clinda only: 10\n"
     ]
    }
   ],
   "source": [
    "shared_essential_genes = strep_essential_genes.intersection(cef_essential_genes.intersection(clinda_essential_genes))\n",
    "cef_only_essential_genes = cef_essential_genes.difference(strep_essential_genes.union(clinda_essential_genes))\n",
    "strep_only_essential_genes = strep_essential_genes.difference(cef_essential_genes.union(clinda_essential_genes))\n",
    "clinda_only_essential_genes = clinda_essential_genes.difference(strep_essential_genes.union(cef_essential_genes))\n",
    "\n",
    "print('Shared: ' + str(len(shared_essential_genes)) + '\\n')\n",
    "print('Cef only: ' + str(len(cef_only_essential_genes)))\n",
    "print('Strep only: ' + str(len(strep_only_essential_genes)))\n",
    "print('Clinda only: ' + str(len(clinda_only_essential_genes)))"
   ]
  },
  {
   "cell_type": "markdown",
   "metadata": {},
   "source": [
    "### Context-specific Substrate Importance"
   ]
  },
  {
   "cell_type": "code",
   "execution_count": 17,
   "metadata": {},
   "outputs": [],
   "source": [
    "import pandas\n",
    "from cobra.medium import minimal_medium\n",
    "\n",
    "def find_essential_metabolites(model, fraction=0.01):\n",
    "\n",
    "    max_growth = model.slim_optimize() * fraction\n",
    "    ser = minimal_medium(model, max_growth)\n",
    "\n",
    "    rxns = list(ser.index)\n",
    "    fluxes = list(ser.values)\n",
    "    cpds = []\n",
    "    for x in rxns: cpds.append(model.reactions.get_by_id(x).reactants[0].name)        \n",
    "    \n",
    "    media = {'Reaction': rxns, 'Substrate': cpds, 'Units': fluxes}    \n",
    "    media = pandas.DataFrame(media)\n",
    "    print('Minimal media components: ' + str(len(media.index)))\n",
    "    \n",
    "    return(media)\n"
   ]
  },
  {
   "cell_type": "code",
   "execution_count": 18,
   "metadata": {},
   "outputs": [
    {
     "name": "stdout",
     "output_type": "stream",
     "text": [
      "Minimal media components: 41\n"
     ]
    }
   ],
   "source": [
    "cef_min_media = find_essential_metabolites(cef_iCdJ794_riptide.model)"
   ]
  },
  {
   "cell_type": "code",
   "execution_count": 19,
   "metadata": {},
   "outputs": [
    {
     "name": "stdout",
     "output_type": "stream",
     "text": [
      "Minimal media components: 41\n"
     ]
    }
   ],
   "source": [
    "clinda_min_media = find_essential_metabolites(clinda_iCdJ794_riptide.model)"
   ]
  },
  {
   "cell_type": "code",
   "execution_count": 20,
   "metadata": {},
   "outputs": [
    {
     "name": "stdout",
     "output_type": "stream",
     "text": [
      "Minimal media components: 42\n"
     ]
    }
   ],
   "source": [
    "strep_min_media = find_essential_metabolites(strep_iCdJ794_riptide.model)"
   ]
  },
  {
   "cell_type": "code",
   "execution_count": 21,
   "metadata": {},
   "outputs": [
    {
     "name": "stdout",
     "output_type": "stream",
     "text": [
      "Shared: 39\n",
      "\n",
      "Cef only: 1\n",
      "Strep only: 0\n",
      "Clinda only: 0\n"
     ]
    }
   ],
   "source": [
    "cef_metabolites = set(cef_min_media['Substrate'])\n",
    "strep_metabolites = set(strep_min_media['Substrate'])\n",
    "clinda_metabolites = set(clinda_min_media['Substrate'])\n",
    "\n",
    "shared_metabolites = strep_metabolites.intersection(cef_metabolites.intersection(clinda_metabolites))\n",
    "cef_only_metabolites = cef_metabolites.difference(strep_metabolites.union(clinda_metabolites))\n",
    "strep_only_metabolites = strep_metabolites.difference(cef_metabolites.union(clinda_metabolites))\n",
    "clinda_only_metabolites = clinda_metabolites.difference(strep_metabolites.union(cef_metabolites))\n",
    "\n",
    "print('Shared: ' + str(len(shared_metabolites)) + '\\n')\n",
    "print('Cef only: ' + str(len(cef_only_metabolites)))\n",
    "print('Strep only: ' + str(len(strep_only_metabolites)))\n",
    "print('Clinda only: ' + str(len(clinda_only_metabolites)))"
   ]
  },
  {
   "cell_type": "markdown",
   "metadata": {},
   "source": [
    "###  Context-specific Topological Differences"
   ]
  },
  {
   "cell_type": "code",
   "execution_count": 22,
   "metadata": {},
   "outputs": [
    {
     "name": "stdout",
     "output_type": "stream",
     "text": [
      "Shared: 261\n",
      "\n",
      "Cef only: 3\n",
      "Strep only: 1\n",
      "Clinda only: 5\n"
     ]
    }
   ],
   "source": [
    "# Shared topology - reactions\n",
    "cef_rxns = set([x.id for x in cef_iCdJ794_riptide.model.reactions])\n",
    "clinda_rxns = set([x.id for x in clinda_iCdJ794_riptide.model.reactions])\n",
    "strep_rxns = set([x.id for x in strep_iCdJ794_riptide.model.reactions])\n",
    "\n",
    "shared_rxns = strep_rxns.intersection(cef_rxns.intersection(clinda_rxns))\n",
    "cef_only_rxns = cef_rxns.difference(strep_rxns.union(clinda_rxns))\n",
    "strep_only_rxns = strep_rxns.difference(cef_rxns.union(clinda_rxns))\n",
    "clinda_only_rxns = clinda_rxns.difference(strep_rxns.union(cef_rxns))\n",
    "\n",
    "print('Shared: ' + str(len(shared_rxns)) + '\\n')\n",
    "print('Cef only: ' + str(len(cef_only_rxns)))\n",
    "print('Strep only: ' + str(len(strep_only_rxns)))\n",
    "print('Clinda only: ' + str(len(clinda_only_rxns)))"
   ]
  },
  {
   "cell_type": "code",
   "execution_count": 23,
   "metadata": {},
   "outputs": [
    {
     "name": "stdout",
     "output_type": "stream",
     "text": [
      "Shared: 270\n",
      "\n",
      "Cef only: 1\n",
      "Strep only: 0\n",
      "Clinda only: 4\n"
     ]
    }
   ],
   "source": [
    "# Shared topology - metabolites\n",
    "cef_cpds = set([x.id for x in cef_iCdJ794_riptide.model.metabolites])\n",
    "clinda_cpds = set([x.id for x in clinda_iCdJ794_riptide.model.metabolites])\n",
    "strep_cpds = set([x.id for x in strep_iCdJ794_riptide.model.metabolites])\n",
    "\n",
    "shared_cpds = strep_cpds.intersection(cef_cpds.intersection(clinda_cpds))\n",
    "cef_only_cpds = cef_cpds.difference(strep_cpds.union(clinda_cpds))\n",
    "strep_only_cpds = strep_cpds.difference(cef_cpds.union(clinda_cpds))\n",
    "clinda_only_cpds = clinda_cpds.difference(strep_cpds.union(cef_cpds))\n",
    "\n",
    "print('Shared: ' + str(len(shared_cpds)) + '\\n')\n",
    "print('Cef only: ' + str(len(cef_only_cpds)))\n",
    "print('Strep only: ' + str(len(strep_only_cpds)))\n",
    "print('Clinda only: ' + str(len(clinda_only_cpds)))"
   ]
  },
  {
   "cell_type": "markdown",
   "metadata": {},
   "source": [
    "### Reaction essentiality"
   ]
  },
  {
   "cell_type": "code",
   "execution_count": 24,
   "metadata": {},
   "outputs": [],
   "source": [
    "import copy\n",
    "from cobra.flux_analysis.variability import find_essential_reactions\n",
    "\n",
    "def essential_reactions(genre, media=None, optimum_fraction=0.01):\n",
    "    model = copy.deepcopy(genre)\n",
    "    \n",
    "    # Change media conditions if necessary\n",
    "    if media is not None:\n",
    "        exchanges = ['EX_' + x for x in media]\n",
    "        for rxn in model.reactions:\n",
    "            if len(list(rxn.products)) == 0:\n",
    "                if rxn.id in exchanges:\n",
    "                    model.reactions.get_by_id(rxn.id).lower_bound = -1000.0\n",
    "                else:\n",
    "                    model.reactions.get_by_id(rxn.id).lower_bound = 0.0\n",
    "    \n",
    "    # Find essential genes\n",
    "    essential_reactions = find_essential_reactions(model, threshold=optimum_fraction)\n",
    "    \n",
    "    return essential_reactions\n",
    "                "
   ]
  },
  {
   "cell_type": "code",
   "execution_count": 25,
   "metadata": {},
   "outputs": [
    {
     "name": "stdout",
     "output_type": "stream",
     "text": [
      "Cef essential reactions: 210\n"
     ]
    }
   ],
   "source": [
    "cef_essential_reactions = essential_reactions(cef_iCdJ794_riptide.model)\n",
    "cef_essential_reactions = set([x.id for x in cef_essential_reactions])\n",
    "print('Cef essential reactions: ' + str(len(cef_essential_reactions)))"
   ]
  },
  {
   "cell_type": "code",
   "execution_count": 26,
   "metadata": {},
   "outputs": [
    {
     "name": "stdout",
     "output_type": "stream",
     "text": [
      "Clinda essential reactions: 233\n"
     ]
    }
   ],
   "source": [
    "clinda_essential_reactions = essential_reactions(clinda_iCdJ794_riptide.model)\n",
    "clinda_essential_reactions = set([x.id for x in clinda_essential_reactions])\n",
    "print('Clinda essential reactions: ' + str(len(clinda_essential_reactions)))"
   ]
  },
  {
   "cell_type": "code",
   "execution_count": 27,
   "metadata": {},
   "outputs": [
    {
     "name": "stdout",
     "output_type": "stream",
     "text": [
      "Strep essential reactions: 212\n"
     ]
    }
   ],
   "source": [
    "strep_essential_reactions = essential_reactions(strep_iCdJ794_riptide.model)\n",
    "strep_essential_reactions = set([x.id for x in strep_essential_reactions])\n",
    "print('Strep essential reactions: ' + str(len(strep_essential_reactions)))"
   ]
  },
  {
   "cell_type": "code",
   "execution_count": 28,
   "metadata": {},
   "outputs": [
    {
     "name": "stdout",
     "output_type": "stream",
     "text": [
      "Cef only: 11\n",
      "Strep only: 7\n",
      "Clinda only: 30\n",
      "\n",
      "Cef + Strep: 2\n",
      "Cef + Clinda: 0\n",
      "Clinda + Strep: 6\n",
      "\n",
      "Cef + Strep + Clinda: 197\n"
     ]
    }
   ],
   "source": [
    "cef_only_essential_reactions = cef_essential_reactions.difference(strep_essential_reactions.union(clinda_essential_reactions))\n",
    "strep_only_essential_reactions = strep_essential_reactions.difference(cef_essential_reactions.union(clinda_essential_reactions))\n",
    "clinda_only_essential_reactions = clinda_essential_reactions.difference(strep_essential_reactions.union(cef_essential_reactions))\n",
    "print('Cef only: ' + str(len(cef_only_essential_reactions)))\n",
    "print('Strep only: ' + str(len(strep_only_essential_reactions)))\n",
    "print('Clinda only: ' + str(len(clinda_only_essential_reactions)))\n",
    "\n",
    "cef_strep_reactions = strep_essential_reactions.intersection(cef_essential_reactions)\n",
    "cef_strep_reactions = cef_strep_reactions.difference(clinda_essential_reactions)\n",
    "cef_clinda_reactions = clinda_essential_reactions.intersection(cef_essential_reactions)\n",
    "cef_clinda_reactions = cef_strep_reactions.difference(strep_essential_reactions)\n",
    "clinda_strep_reactions = clinda_essential_reactions.intersection(strep_essential_reactions)\n",
    "clinda_strep_reactions = clinda_strep_reactions.difference(cef_essential_reactions)\n",
    "print('\\nCef + Strep: ' + str(len(cef_strep_reactions)))\n",
    "print('Cef + Clinda: ' + str(len(cef_clinda_reactions)))\n",
    "print('Clinda + Strep: ' + str(len(clinda_strep_reactions)))\n",
    "\n",
    "shared_essential_reactions = strep_essential_reactions.intersection(cef_essential_reactions.intersection(clinda_essential_reactions))\n",
    "print('\\nCef + Strep + Clinda: ' + str(len(shared_essential_reactions)))"
   ]
  },
  {
   "cell_type": "markdown",
   "metadata": {},
   "source": [
    "### Analysis of Constrained Flux Samples"
   ]
  },
  {
   "cell_type": "code",
   "execution_count": null,
   "metadata": {},
   "outputs": [],
   "source": [
    "# Results from flux distribution analysis of shared reactions\n",
    "unchanged = "
   ]
  },
  {
   "cell_type": "code",
   "execution_count": null,
   "metadata": {},
   "outputs": [],
   "source": []
  },
  {
   "cell_type": "code",
   "execution_count": null,
   "metadata": {},
   "outputs": [],
   "source": []
  },
  {
   "cell_type": "code",
   "execution_count": null,
   "metadata": {},
   "outputs": [],
   "source": []
  },
  {
   "cell_type": "code",
   "execution_count": null,
   "metadata": {},
   "outputs": [],
   "source": []
  }
 ],
 "metadata": {
  "kernelspec": {
   "display_name": "Python 3",
   "language": "python",
   "name": "python3"
  },
  "language_info": {
   "codemirror_mode": {
    "name": "ipython",
    "version": 3
   },
   "file_extension": ".py",
   "mimetype": "text/x-python",
   "name": "python",
   "nbconvert_exporter": "python",
   "pygments_lexer": "ipython3",
   "version": "3.7.3"
  }
 },
 "nbformat": 4,
 "nbformat_minor": 2
}
