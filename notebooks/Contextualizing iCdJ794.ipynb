{
 "cells": [
  {
   "cell_type": "code",
   "execution_count": null,
   "metadata": {},
   "outputs": [],
   "source": [
    "# Import libraries - REQUIRES pip version 9.0.3\n",
    "import pandas\n",
    "import os\n",
    "from os.path import join\n",
    "import sys\n",
    "import scipy.stats\n",
    "import pickle\n",
    "import numpy\n",
    "import copy\n",
    "\n",
    "# Using Cobrapy 0.13\n",
    "import cobra\n",
    "import cobra.test\n",
    "import cobra.util.solver\n",
    "\n",
    "# Packages for transcriptomic integration\n",
    "iMAT\n",
    "Gimme\n",
    "MADE\n",
    "CORDA\n",
    "\n",
    "\n",
    "\n"
   ]
  },
  {
   "cell_type": "code",
   "execution_count": null,
   "metadata": {},
   "outputs": [],
   "source": []
  }
 ],
 "metadata": {
  "kernelspec": {
   "display_name": "Python [conda env:anaconda2]",
   "language": "python",
   "name": "conda-env-anaconda2-py"
  },
  "language_info": {
   "codemirror_mode": {
    "name": "ipython",
    "version": 2
   },
   "file_extension": ".py",
   "mimetype": "text/x-python",
   "name": "python",
   "nbconvert_exporter": "python",
   "pygments_lexer": "ipython2",
   "version": "2.7.14"
  }
 },
 "nbformat": 4,
 "nbformat_minor": 2
}
