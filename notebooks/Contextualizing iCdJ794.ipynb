{
 "cells": [
  {
   "cell_type": "code",
   "execution_count": 5,
   "metadata": {},
   "outputs": [],
   "source": [
    "from riptide import *"
   ]
  },
  {
   "cell_type": "code",
   "execution_count": 6,
   "metadata": {},
   "outputs": [],
   "source": [
    "iCdJ794 = cobra.io.read_sbml_model('/home/mjenior/Desktop/repos/Jenior_iCdJ794_2019/data/iCdJ794.sbml')"
   ]
  },
  {
   "cell_type": "markdown",
   "metadata": {},
   "source": [
    "### Base Model Statistics"
   ]
  },
  {
   "cell_type": "code",
   "execution_count": 7,
   "metadata": {},
   "outputs": [
    {
     "data": {
      "text/html": [
       "\n",
       "        <table>\n",
       "            <tr>\n",
       "                <td><strong>Name</strong></td>\n",
       "                <td>iCdJ794</td>\n",
       "            </tr><tr>\n",
       "                <td><strong>Memory address</strong></td>\n",
       "                <td>0x07f199805b1d0</td>\n",
       "            </tr><tr>\n",
       "                <td><strong>Number of metabolites</strong></td>\n",
       "                <td>1134</td>\n",
       "            </tr><tr>\n",
       "                <td><strong>Number of reactions</strong></td>\n",
       "                <td>1129</td>\n",
       "            </tr><tr>\n",
       "                <td><strong>Objective expression</strong></td>\n",
       "                <td>0.0 + 1.0*biomass - 1.0*biomass_reverse_01e59</td>\n",
       "            </tr><tr>\n",
       "                <td><strong>Compartments</strong></td>\n",
       "                <td>cytosol, extracellular</td>\n",
       "            </tr>\n",
       "          </table>"
      ],
      "text/plain": [
       "<Model iCdJ794 at 0x7f199805b1d0>"
      ]
     },
     "execution_count": 7,
     "metadata": {},
     "output_type": "execute_result"
    }
   ],
   "source": [
    "iCdJ794"
   ]
  },
  {
   "cell_type": "code",
   "execution_count": 4,
   "metadata": {},
   "outputs": [
    {
     "name": "stdout",
     "output_type": "stream",
     "text": [
      "Genes: 794\n",
      "Total Reactions: 1129\n",
      "\n",
      "Exchanges: 99\n",
      "Transporters: 104\n",
      "Metabolic reactions: 926\n"
     ]
    }
   ],
   "source": [
    "# Report some additional stats\n",
    "\n",
    "print('Genes: ' + str(len(list(iCdJ794.genes))))\n",
    "\n",
    "exch = 0\n",
    "for rxn in iCdJ794.reactions:\n",
    "    if len(list(rxn.products)) == 0:\n",
    "        exch += 1\n",
    "print('Exchanges: ' + str(exch))\n",
    "\n",
    "trans = 0\n",
    "for rxn in iCdJ794.reactions:\n",
    "    comps = set([x.compartment for x in list(rxn.reactants)] + [x.compartment for x in list(rxn.products)])\n",
    "    if len(comps) > 1:\n",
    "        trans += 1\n",
    "print('Transporters: ' + str(trans))\n",
    "\n",
    "metab = len(list(iCdJ794.reactions)) - exch - trans\n",
    "print('Metabolic reactions: ' + str(metab))"
   ]
  },
  {
   "cell_type": "code",
   "execution_count": 19,
   "metadata": {},
   "outputs": [],
   "source": [
    "import copy\n",
    "from cobra.flux_analysis.variability import find_essential_genes\n",
    "\n",
    "def essential_genes(genre, media=None, optimum_fraction=None):\n",
    "    model = copy.deepcopy(genre)\n",
    "    \n",
    "    # Change media conditions if necessary\n",
    "    if media is not None:\n",
    "        exchanges = ['EX_' + x for x in media]\n",
    "        for rxn in model.reactions:\n",
    "            if len(list(rxn.products)) == 0:\n",
    "                if rxn.id in exchanges:\n",
    "                    model.reactions.get_by_id(rxn.id).lower_bound = -1000.0\n",
    "                else:\n",
    "                    model.reactions.get_by_id(rxn.id).lower_bound = 0.0\n",
    "    \n",
    "    # Find essential genes\n",
    "    essential_genes = find_essential_genes(model, threshold=optimum_fraction)\n",
    "    \n",
    "    print('Essential genes: ' + str(len(essential_genes)))\n",
    "    \n",
    "    return essential_genes\n",
    "                "
   ]
  },
  {
   "cell_type": "code",
   "execution_count": 20,
   "metadata": {},
   "outputs": [],
   "source": [
    "# Define media conditions\n",
    "mdm = ['cpd00001_e', # water\n",
    "       'cpd00065_e', # L-Tryptophan\n",
    "       'cpd00060_e', # L-Methionine\n",
    "       'cpd00322_e', # L-Isoleucine\n",
    "       'cpd00129_e', # L-Proline\n",
    "       'cpd00156_e', # L-Valine\n",
    "       'cpd00107_e', # L-Leucine\n",
    "       'cpd00084_e', # L-Cysteine \n",
    "       'cpd00149_e', # Cobalt\n",
    "       'cpd00099_e', # Chloride\n",
    "       'cpd10515_e', # Iron\n",
    "       'cpd00030_e', # Manganese\n",
    "       'cpd00254_e', # Magnesium\n",
    "       'cpd00063_e', # Calcium\n",
    "       'cpd00205_e', # Potassium\n",
    "       'cpd00009_e', # Phosphate\n",
    "       'cpd00971_e', # Sodium\n",
    "       'cpd00242_e', # Carbonate\n",
    "       'cpd00104_e', # Biotin\n",
    "       'cpd00305_e', # Thiamine\n",
    "       'cpd00263_e', # Pyridoxine\n",
    "       'cpd00027_e'] # D-Glucose (Carbohydrate C-source)\n",
    "\n",
    "# Theriot et al. (2013). Nature Communications.\n",
    "ncmm = ['cpd00001_e', # water\n",
    "        'cpd00104_e', # Biotin\n",
    "        'cpd00644_e', # Pantothenate\n",
    "        'cpd00263_e', # Pyridoxine\n",
    "        'cpd00149_e', # Cobalt\n",
    "        'cpd00099_e', # Chloride\n",
    "        'cpd10515_e', # Iron\n",
    "        'cpd00030_e', # Manganese\n",
    "        'cpd00254_e', # Magnesium\n",
    "        'cpd00063_e', # Calcium\n",
    "        'cpd00205_e', # Potassium\n",
    "        'cpd00009_e', # Phosphate\n",
    "        'cpd00971_e', # Sodium\n",
    "        'cpd00242_e', # Carbonate\n",
    "        'cpd00322_e', # L-Isoleucine\n",
    "        'cpd00129_e', # L-Proline\n",
    "        'cpd00156_e', # L-Valine\n",
    "        'cpd00107_e', # L-Leucine\n",
    "        'cpd00084_e', # L-Cysteine \n",
    "        'cpd00065_e', # L-Tryptophan\n",
    "        'cpd00060_e', # L-Methionine\n",
    "        'cpd00119_e', # L-Histidine\n",
    "        'cpd00033_e', # Glycine\n",
    "        'cpd00051_e', # L-Arginine\n",
    "        'cpd00161_e'] # L-Threonine"
   ]
  },
  {
   "cell_type": "code",
   "execution_count": 21,
   "metadata": {},
   "outputs": [
    {
     "name": "stdout",
     "output_type": "stream",
     "text": [
      "Essential genes: 92\n",
      "Essential genes: 80\n"
     ]
    }
   ],
   "source": [
    "# Essentiality in minimal medias\n",
    "mdm_essential = essential_genes(iCdJ794, media=mdm)\n",
    "ncmm_essential = essential_genes(iCdJ794,  media=ncmm)"
   ]
  },
  {
   "cell_type": "markdown",
   "metadata": {},
   "source": [
    "### RIPTiDe *in vivo* Contextualization"
   ]
  },
  {
   "cell_type": "code",
   "execution_count": 5,
   "metadata": {},
   "outputs": [],
   "source": [
    "# Read in formatted transcription files\n",
    "def read_transcription(infile):\n",
    "    \n",
    "    abund_dict = {}\n",
    "    with open(infile, 'r') as abunds:\n",
    "        header = abunds.readline()\n",
    "        for line in abunds:\n",
    "            line = line.split()\n",
    "            gene = line[0].split('|')[0]\n",
    "            abund = float(line[2])\n",
    "            \n",
    "            abund_dict[gene] = abund\n",
    "            \n",
    "    return abund_dict\n"
   ]
  },
  {
   "cell_type": "code",
   "execution_count": 6,
   "metadata": {},
   "outputs": [],
   "source": [
    "# Read in in vivo C. difficile transcription\n",
    "cefoperazone = read_transcription('/home/mjenior/Desktop/repos/Jenior_iCdJ794_2019/data/transcript/cefoperazone_630.mapped.norm.tsv')\n",
    "clindamycin = read_transcription('/home/mjenior/Desktop/repos/Jenior_iCdJ794_2019/data/transcript/clindamycin_630.mapped.norm.tsv')\n",
    "streptomycin = read_transcription('/home/mjenior/Desktop/repos/Jenior_iCdJ794_2019/data/transcript/streptomycin_630.mapped.norm.tsv')\n",
    "gnotobiotic = read_transcription('/home/mjenior/Desktop/repos/Jenior_iCdJ794_2019/data/transcript/gnotobiotic_630.mapped.norm.tsv')"
   ]
  },
  {
   "cell_type": "code",
   "execution_count": 7,
   "metadata": {},
   "outputs": [
    {
     "name": "stdout",
     "output_type": "stream",
     "text": [
      "\n",
      "Initializing model and parsing transcriptome...\n",
      "Pruning zero flux subnetworks...\n",
      "Sampling context-specific flux distributions (longest step)...\n",
      "\n",
      "Reactions pruned to 291 from 1129 (74.22% change)\n",
      "Metabolites pruned to 289 from 1134 (74.51% change)\n",
      "Flux through the objective DECREASED to ~76.48 from ~89.77 (14.8% change)\n",
      "Solution space volume DECREASED to ~1785.89 from ~8460.51 (78.89% change)\n",
      "\n",
      "RIPTiDe completed in 3 minutes and 16 seconds\n",
      "\n"
     ]
    }
   ],
   "source": [
    "cef_riptide = riptide(iCdJ794, cefoperazone)"
   ]
  },
  {
   "cell_type": "code",
   "execution_count": 8,
   "metadata": {
    "scrolled": true
   },
   "outputs": [
    {
     "name": "stdout",
     "output_type": "stream",
     "text": [
      "\n",
      "Initializing model and parsing transcriptome...\n",
      "Pruning zero flux subnetworks...\n",
      "Sampling context-specific flux distributions (longest step)...\n",
      "\n",
      "Reactions pruned to 283 from 1129 (74.93% change)\n",
      "Metabolites pruned to 280 from 1134 (75.31% change)\n",
      "Flux through the objective DECREASED to ~75.09 from ~89.77 (16.35% change)\n",
      "Solution space volume DECREASED to ~1147.78 from ~8460.51 (86.43% change)\n",
      "\n",
      "RIPTiDe completed in 3 minutes and 0 seconds\n",
      "\n"
     ]
    }
   ],
   "source": [
    "clinda_riptide = riptide(iCdJ794, clindamycin)"
   ]
  },
  {
   "cell_type": "code",
   "execution_count": 9,
   "metadata": {},
   "outputs": [
    {
     "name": "stdout",
     "output_type": "stream",
     "text": [
      "\n",
      "Initializing model and parsing transcriptome...\n",
      "Pruning zero flux subnetworks...\n",
      "Sampling context-specific flux distributions (longest step)...\n",
      "\n",
      "Reactions pruned to 288 from 1129 (74.49% change)\n",
      "Metabolites pruned to 285 from 1134 (74.87% change)\n",
      "Flux through the objective DECREASED to ~80.25 from ~89.77 (10.6% change)\n",
      "Solution space volume DECREASED to ~1334.62 from ~8460.51 (84.23% change)\n",
      "\n",
      "RIPTiDe completed in 3 minutes and 8 seconds\n",
      "\n"
     ]
    }
   ],
   "source": [
    "strep_riptide = riptide(iCdJ794, streptomycin)"
   ]
  },
  {
   "cell_type": "code",
   "execution_count": 10,
   "metadata": {},
   "outputs": [
    {
     "name": "stdout",
     "output_type": "stream",
     "text": [
      "\n",
      "Initializing model and parsing transcriptome...\n",
      "Pruning zero flux subnetworks...\n",
      "Sampling context-specific flux distributions (longest step)...\n",
      "\n",
      "Reactions pruned to 281 from 1129 (75.11% change)\n",
      "Metabolites pruned to 281 from 1134 (75.22% change)\n",
      "Flux through the objective DECREASED to ~73.13 from ~89.77 (18.54% change)\n",
      "Solution space volume DECREASED to ~890.11 from ~8460.51 (89.48% change)\n",
      "\n",
      "RIPTiDe completed in 2 minutes and 57 seconds\n",
      "\n"
     ]
    }
   ],
   "source": [
    "gnoto_riptide = riptide(iCdJ794, gnotobiotic)"
   ]
  },
  {
   "cell_type": "code",
   "execution_count": 26,
   "metadata": {},
   "outputs": [],
   "source": [
    "# Save contextualized models\n",
    "cobra.io.write_sbml_model(cef_riptide.model, '/home/mjenior/Desktop/reconstructions/cef_riptide.sbml')\n",
    "cobra.io.write_sbml_model(clinda_riptide.model, '/home/mjenior/Desktop/reconstructions/clinda_riptide.sbml')\n",
    "cobra.io.write_sbml_model(strep_riptide.model, '/home/mjenior/Desktop/reconstructions/strep_riptide.sbml')\n",
    "cobra.io.write_sbml_model(gnoto_riptide.model, '/home/mjenior/Desktop/reconstructions/gnoto_riptide.sbml')"
   ]
  },
  {
   "cell_type": "markdown",
   "metadata": {},
   "source": [
    "### Context-specific Gene Essentiality"
   ]
  },
  {
   "cell_type": "code",
   "execution_count": 27,
   "metadata": {},
   "outputs": [],
   "source": [
    "# Read in models if necessary\n",
    "iCdJ794 = cobra.io.read_sbml_model('/home/mjenior/Desktop/repos/Jenior_iCdJ794_2019/data/iCdJ794.sbml')\n",
    "cef_iCdJ794 = cobra.io.read_sbml_model('/home/mjenior/Desktop/reconstructions/cef_riptide.sbml')\n",
    "clinda_iCdJ794 = cobra.io.read_sbml_model('/home/mjenior/Desktop/reconstructions/clinda_riptide.sbml')\n",
    "strep_iCdJ794 = cobra.io.read_sbml_model('/home/mjenior/Desktop/reconstructions/strep_riptide.sbml')\n",
    "gnoto_iCdJ794 = cobra.io.read_sbml_model('/home/mjenior/Desktop/reconstructions/gnoto_riptide.sbml')"
   ]
  },
  {
   "cell_type": "code",
   "execution_count": 35,
   "metadata": {},
   "outputs": [
    {
     "name": "stdout",
     "output_type": "stream",
     "text": [
      "Essential genes: 43\n"
     ]
    }
   ],
   "source": [
    "# Unconstrained base model\n",
    "base_essential = essential_genes(iCdJ794)\n",
    "base_essential_ids = [x.id for x in base_essential]"
   ]
  },
  {
   "cell_type": "code",
   "execution_count": 36,
   "metadata": {},
   "outputs": [
    {
     "name": "stdout",
     "output_type": "stream",
     "text": [
      "Essential genes: 67\n"
     ]
    }
   ],
   "source": [
    "cef_essential = essential_genes(cef_iCdJ794)\n",
    "cef_essential_ids = [x.id for x in cef_essential]"
   ]
  },
  {
   "cell_type": "code",
   "execution_count": 37,
   "metadata": {},
   "outputs": [
    {
     "name": "stdout",
     "output_type": "stream",
     "text": [
      "Essential genes: 64\n"
     ]
    }
   ],
   "source": [
    "clinda_essential = essential_genes(clinda_iCdJ794)\n",
    "clinda_essential_ids = [x.id for x in clinda_essential]"
   ]
  },
  {
   "cell_type": "code",
   "execution_count": 38,
   "metadata": {},
   "outputs": [
    {
     "name": "stdout",
     "output_type": "stream",
     "text": [
      "Essential genes: 64\n"
     ]
    }
   ],
   "source": [
    "strep_essential = essential_genes(strep_iCdJ794)\n",
    "strep_essential_ids = [x.id for x in strep_essential]"
   ]
  },
  {
   "cell_type": "code",
   "execution_count": 39,
   "metadata": {},
   "outputs": [
    {
     "name": "stdout",
     "output_type": "stream",
     "text": [
      "Essential genes: 67\n"
     ]
    }
   ],
   "source": [
    "gnoto_essential = essential_genes(gnoto_iCdJ794)\n",
    "gnoto_essential_ids = [x.id for x in gnoto_essential]"
   ]
  },
  {
   "cell_type": "code",
   "execution_count": 40,
   "metadata": {},
   "outputs": [],
   "source": [
    "# Compares lists to create diagrams for 4 groups\n",
    "def venn_comparison(list1, list2, list3, list4):\n",
    "        \n",
    "    # Confirm correct data types\n",
    "    list1 = set(list1); list2 = set(list2); list3 = set(list3); list4 = set(list4)\n",
    "    \n",
    "    # Identify exclusive elements\n",
    "    list1_only = list1.difference(list2).difference(list3).difference(list4)\n",
    "    list2_only = list2.difference(list1).difference(list3).difference(list4)\n",
    "    list3_only = list3.difference(list1).difference(list2).difference(list4)\n",
    "    list4_only = list4.difference(list1).difference(list2).difference(list3)\n",
    "\n",
    "    # Find overlap between just 2 groups\n",
    "    list1_list2_overlap = list1.intersection(list2).difference(list3).difference(list4)\n",
    "    list1_list3_overlap = list1.intersection(list3).difference(list2).difference(list4)\n",
    "    list1_list4_overlap = list1.intersection(list4).difference(list2).difference(list3)\n",
    "    list2_list3_overlap = list2.intersection(list3).difference(list1).difference(list4)\n",
    "    list2_list4_overlap = list2.intersection(list4).difference(list1).difference(list3)\n",
    "    list3_list4_overlap = list3.intersection(list4).difference(list1).difference(list2)\n",
    "\n",
    "    # Find overlap in 3 groups\n",
    "    list1_list2_list3_overlap = list1.intersection(list2).intersection(list3).difference(list4)\n",
    "    list1_list2_list4_overlap = list1.intersection(list2).intersection(list4).difference(list3)\n",
    "    list1_list3_list4_overlap = list1.intersection(list3).intersection(list4).difference(list2)\n",
    "    list2_list3_list4_overlap = list2.intersection(list3).intersection(list4).difference(list1)\n",
    "    \n",
    "    # Find overlap between all groups\n",
    "    all_list_overlap = list1.intersection(list2).intersection(list3).intersection(list4)\n",
    "    \n",
    "    # Calculate totals in each group\n",
    "    list1_total = float(len(list1))\n",
    "    list2_total = float(len(list2))\n",
    "    list3_total = float(len(list3))\n",
    "    list4_total = float(len(list4))\n",
    "    list1_only_total = float(len(list1_only))\n",
    "    list2_only_total = float(len(list2_only))\n",
    "    list3_only_total = float(len(list3_only))\n",
    "    list4_only_total = float(len(list4_only))\n",
    "    list1_list2_overlap_total = float(len(list1_list2_overlap))\n",
    "    list1_list3_overlap_total = float(len(list1_list3_overlap))\n",
    "    list1_list4_overlap_total = float(len(list1_list4_overlap))\n",
    "    list2_list3_overlap_total = float(len(list2_list3_overlap))\n",
    "    list2_list4_overlap_total = float(len(list2_list4_overlap))\n",
    "    list3_list4_overlap_total = float(len(list3_list4_overlap))\n",
    "    list1_list2_list3_overlap_total = float(len(list1_list2_list3_overlap))\n",
    "    list1_list2_list4_overlap_total = float(len(list1_list2_list4_overlap))\n",
    "    list1_list3_list4_overlap_total = float(len(list1_list3_list4_overlap))\n",
    "    list2_list3_list4_overlap_total = float(len(list2_list3_list4_overlap))\n",
    "    all_list_overlap_total = float(len(all_list_overlap))\n",
    "    \n",
    "    # Calculate percent overlaps\n",
    "    list1_only_percent = round(((list1_only_total / list1_total) * 100.0), 1)\n",
    "    list2_only_percent = round(((list2_only_total / list2_total) * 100.0), 1)\n",
    "    list3_only_percent = round(((list3_only_total / list3_total) * 100.0), 1)\n",
    "    list4_only_percent = round(((list4_only_total / list4_total) * 100.0), 1)\n",
    "    temp1 = (list1_list2_overlap_total / list1_total) * 100.0\n",
    "    temp2 = (list1_list2_overlap_total / list2_total) * 100.0\n",
    "    list1_list2_overlap_percent = round(numpy.mean([temp1, temp2]), 1)\n",
    "    temp1 = (list1_list3_overlap_total / list1_total) * 100.0\n",
    "    temp2 = (list1_list3_overlap_total / list3_total) * 100.0\n",
    "    list1_list3_overlap_percent = round(numpy.mean([temp1, temp2]), 1)\n",
    "    temp1 = (list1_list4_overlap_total / list1_total) * 100.0\n",
    "    temp2 = (list1_list4_overlap_total / list4_total) * 100.0\n",
    "    list1_list4_overlap_percent = round(numpy.mean([temp1, temp2]), 1)\n",
    "    temp1 = (list2_list3_overlap_total / list2_total) * 100.0\n",
    "    temp2 = (list2_list3_overlap_total / list3_total) * 100.0\n",
    "    list2_list3_overlap_percent = round(numpy.mean([temp1, temp2]), 1)\n",
    "    temp1 = (list2_list4_overlap_total / list2_total) * 100.0\n",
    "    temp2 = (list2_list4_overlap_total / list4_total) * 100.0\n",
    "    list2_list4_overlap_percent = round(numpy.mean([temp1, temp2]), 1)\n",
    "    temp1 = (list3_list4_overlap_total / list3_total) * 100.0\n",
    "    temp2 = (list3_list4_overlap_total / list4_total) * 100.0\n",
    "    list3_list4_overlap_percent = round(numpy.mean([temp1, temp2]), 1)\n",
    "    temp1 = (list1_list2_list3_overlap_total / list1_total) * 100.0\n",
    "    temp2 = (list1_list2_list3_overlap_total / list2_total) * 100.0\n",
    "    temp3 = (list1_list2_list3_overlap_total / list3_total) * 100.0\n",
    "    list1_list2_list3_overlap_percent = round(numpy.mean([temp1, temp2, temp3]), 1)\n",
    "    temp1 = (list1_list2_list4_overlap_total / list1_total) * 100.0\n",
    "    temp2 = (list1_list2_list4_overlap_total / list2_total) * 100.0\n",
    "    temp3 = (list1_list2_list4_overlap_total / list4_total) * 100.0\n",
    "    list1_list2_list4_overlap_percent = round(numpy.mean([temp1, temp2, temp3]), 1)\n",
    "    temp1 = (list1_list3_list4_overlap_total / list1_total) * 100.0\n",
    "    temp2 = (list1_list3_list4_overlap_total / list3_total) * 100.0\n",
    "    temp3 = (list1_list3_list4_overlap_total / list4_total) * 100.0\n",
    "    list1_list3_list4_overlap_percent = round(numpy.mean([temp1, temp2, temp3]), 1)\n",
    "    temp1 = (list2_list3_list4_overlap_total / list2_total) * 100.0\n",
    "    temp2 = (list2_list3_list4_overlap_total / list3_total) * 100.0\n",
    "    temp3 = (list2_list3_list4_overlap_total / list4_total) * 100.0\n",
    "    list2_list3_list4_overlap_percent = round(numpy.mean([temp1, temp2, temp3]), 1)\n",
    "    temp1 = (all_list_overlap_total / list1_total) * 100.0\n",
    "    temp2 = (all_list_overlap_total / list2_total) * 100.0\n",
    "    temp3 = (all_list_overlap_total / list3_total) * 100.0\n",
    "    temp4 = (all_list_overlap_total / list4_total) * 100.0\n",
    "    all_list_overlap_percent = round(numpy.mean([temp1, temp2, temp3, temp4]), 1)\n",
    "    \n",
    "    # Print report to the screen\n",
    "    print('List 1 only: ' + str(list1_only_percent) + '% (' + str(int(list1_only_total)) + ')')\n",
    "    print('List 2 only: ' + str(list2_only_percent) + '% (' + str(int(list2_only_total)) + ')')\n",
    "    print('List 3 only: ' + str(list3_only_percent) + '% (' + str(int(list3_only_total)) + ')')\n",
    "    print('List 4 only: ' + str(list4_only_percent) + '% (' + str(int(list4_only_total)) + ')\\n')\n",
    "    print('List 1 + List 2: ' + str(list1_list2_overlap_percent) + '% (' + str(int(list1_list2_overlap_total)) + ')')\n",
    "    print('List 1 + List 3: ' + str(list1_list3_overlap_percent) + '% (' + str(int(list1_list3_overlap_total)) + ')')\n",
    "    print('List 1 + List 4: ' + str(list1_list4_overlap_percent) + '% (' + str(int(list1_list4_overlap_total)) + ')')\n",
    "    print('List 2 + List 3: ' + str(list2_list3_overlap_percent) + '% (' + str(int(list2_list3_overlap_total)) + ')')\n",
    "    print('List 2 + List 4: ' + str(list2_list4_overlap_percent) + '% (' + str(int(list2_list4_overlap_total)) + ')')\n",
    "    print('List 3 + List 4: ' + str(list3_list4_overlap_percent) + '% (' + str(int(list3_list4_overlap_total)) + ')\\n')\n",
    "    print('List 1 + List 2 + List 3: ' + str(list1_list2_list3_overlap_percent) + '% (' + str(int(list1_list2_list3_overlap_total)) + ')')\n",
    "    print('List 1 + List 2 + List 4: ' + str(list1_list2_list4_overlap_percent) + '% (' + str(int(list1_list2_list4_overlap_total)) + ')')\n",
    "    print('List 1 + List 3 + List 4: ' + str(list1_list3_list4_overlap_percent) + '% (' + str(int(list1_list3_list4_overlap_total)) + ')')\n",
    "    print('List 2 + List 3 + List 4: ' + str(list2_list3_list4_overlap_percent) + '% (' + str(int(list2_list3_list4_overlap_total)) + ')\\n')\n",
    "    print('Shared: ' + str(all_list_overlap_percent) + '% (' + str(int(all_list_overlap_total)) + ')')\n",
    "\n",
    "    # Return new lists\n",
    "    return [list1_only,list2_only,list3_only,list4_only,list1_list2_overlap, list1_list3_overlap, list1_list4_overlap, list2_list3_overlap, list2_list4_overlap, list3_list4_overlap, list1_list2_list3_overlap, list1_list2_list4_overlap, list1_list3_list4_overlap, list2_list3_list4_overlap, all_list_overlap]\n"
   ]
  },
  {
   "cell_type": "code",
   "execution_count": 41,
   "metadata": {},
   "outputs": [
    {
     "name": "stdout",
     "output_type": "stream",
     "text": [
      "List 1 only: 4.5% (3)\n",
      "List 2 only: 1.6% (1)\n",
      "List 3 only: 1.6% (1)\n",
      "List 4 only: 9.0% (6)\n",
      "\n",
      "List 1 + List 2: 0.0% (0)\n",
      "List 1 + List 3: 0.0% (0)\n",
      "List 1 + List 4: 3.0% (2)\n",
      "List 2 + List 3: 1.6% (1)\n",
      "List 2 + List 4: 1.5% (1)\n",
      "List 3 + List 4: 0.0% (0)\n",
      "\n",
      "List 1 + List 2 + List 3: 6.2% (4)\n",
      "List 1 + List 2 + List 4: 0.0% (0)\n",
      "List 1 + List 3 + List 4: 1.5% (1)\n",
      "List 2 + List 3 + List 4: 0.0% (0)\n",
      "\n",
      "Shared: 87.1% (57)\n"
     ]
    }
   ],
   "source": [
    "# Context specific gene essentiality\n",
    "# 1. cefoperazone\n",
    "# 2. clindamycin\n",
    "# 3. streptomycin\n",
    "# 4. gnotobiotic\n",
    "essentiality = venn_comparison(cef_essential_ids, clinda_essential_ids, strep_essential_ids, gnoto_essential_ids)"
   ]
  },
  {
   "cell_type": "code",
   "execution_count": 42,
   "metadata": {},
   "outputs": [
    {
     "data": {
      "text/plain": [
       "{'272563.8.peg.1421',\n",
       " '272563.8.peg.2321',\n",
       " '272563.8.peg.3321',\n",
       " '272563.8.peg.570',\n",
       " 'CD630_24170',\n",
       " 'CD630_24180'}"
      ]
     },
     "execution_count": 42,
     "metadata": {},
     "output_type": "execute_result"
    }
   ],
   "source": [
    "# Gnotobiotic only\n",
    "essentiality[3]"
   ]
  },
  {
   "cell_type": "code",
   "execution_count": 31,
   "metadata": {},
   "outputs": [
    {
     "data": {
      "text/plain": [
       "{'272563.8.peg.1282', '272563.8.peg.3390', '272563.8.peg.3438', 'CD630_06820'}"
      ]
     },
     "execution_count": 31,
     "metadata": {},
     "output_type": "execute_result"
    }
   ],
   "source": [
    "# Conventional only\n",
    "essentiality[10]"
   ]
  },
  {
   "cell_type": "code",
   "execution_count": 32,
   "metadata": {},
   "outputs": [
    {
     "data": {
      "text/plain": [
       "{'272563.8.peg.2278', '272563.8.peg.871', '272563.8.peg.872'}"
      ]
     },
     "execution_count": 32,
     "metadata": {},
     "output_type": "execute_result"
    }
   ],
   "source": [
    "# Cefoperazone only\n",
    "essentiality[0]"
   ]
  },
  {
   "cell_type": "code",
   "execution_count": 44,
   "metadata": {},
   "outputs": [
    {
     "data": {
      "text/plain": [
       "{'272563.8.peg.1421',\n",
       " '272563.8.peg.2321',\n",
       " '272563.8.peg.3321',\n",
       " '272563.8.peg.570',\n",
       " 'CD630_24170',\n",
       " 'CD630_24180'}"
      ]
     },
     "execution_count": 44,
     "metadata": {},
     "output_type": "execute_result"
    }
   ],
   "source": [
    "# Gnotobiotic only\n",
    "essentiality[3]"
   ]
  },
  {
   "cell_type": "markdown",
   "metadata": {},
   "source": [
    "### Context-specific substrate importance"
   ]
  },
  {
   "cell_type": "code",
   "execution_count": 50,
   "metadata": {},
   "outputs": [],
   "source": [
    "def test_growth_substrates(genre, extracellular='extracellular', optimum_fraction=0.85):\n",
    "    \n",
    "    obj_val = genre.slim_optimize() * optimum_fraction\n",
    "    \n",
    "    for test in range(1,100):\n",
    "        important = set()\n",
    "        with genre as g:\n",
    "            for rxn in g.reactions:\n",
    "                if len(rxn.reactants) == 0 or len(rxn.products) == 0: \n",
    "                    rxn.upper_bound = 0.01\n",
    "                    if g.slim_optimize() < obj_val: \n",
    "                        for cpd in rxn.metabolites:\n",
    "                            if cpd.compartment == extracellular:\n",
    "                                important |= set([cpd.id + ' --- ' + cpd.name])                    \n",
    "                    rxn.upper_bound = 1000\n",
    "    \n",
    "    print('Important growth substrates: ' + str(len(important)))\n",
    "    return important\n",
    "    "
   ]
  },
  {
   "cell_type": "code",
   "execution_count": 51,
   "metadata": {},
   "outputs": [
    {
     "name": "stdout",
     "output_type": "stream",
     "text": [
      "Important growth substrates: 6\n"
     ]
    }
   ],
   "source": [
    "cef_substrates = test_growth_substrates(cef_iCdJ794)"
   ]
  },
  {
   "cell_type": "code",
   "execution_count": 56,
   "metadata": {},
   "outputs": [
    {
     "data": {
      "text/plain": [
       "{'cpd00029_e --- Acetate',\n",
       " 'cpd00041_e --- L-Aspartate',\n",
       " 'cpd00122_e --- N-Acetyl-D-glucosamine',\n",
       " 'cpd00307_e --- Cytosine',\n",
       " 'cpd00492_e --- N-Acetyl-D-mannosamine',\n",
       " 'cpd19585_e --- 2-Methylbutyrate'}"
      ]
     },
     "execution_count": 56,
     "metadata": {},
     "output_type": "execute_result"
    }
   ],
   "source": [
    "cef_substrates"
   ]
  },
  {
   "cell_type": "code",
   "execution_count": 52,
   "metadata": {},
   "outputs": [
    {
     "name": "stdout",
     "output_type": "stream",
     "text": [
      "Important growth substrates: 6\n"
     ]
    }
   ],
   "source": [
    "clinda_substrates = test_growth_substrates(clinda_iCdJ794)"
   ]
  },
  {
   "cell_type": "code",
   "execution_count": 57,
   "metadata": {},
   "outputs": [
    {
     "data": {
      "text/plain": [
       "{'cpd00029_e --- Acetate',\n",
       " 'cpd00041_e --- L-Aspartate',\n",
       " 'cpd00122_e --- N-Acetyl-D-glucosamine',\n",
       " 'cpd00307_e --- Cytosine',\n",
       " 'cpd01711_e --- Isobutyrate',\n",
       " 'cpd19585_e --- 2-Methylbutyrate'}"
      ]
     },
     "execution_count": 57,
     "metadata": {},
     "output_type": "execute_result"
    }
   ],
   "source": [
    "clinda_substrates"
   ]
  },
  {
   "cell_type": "code",
   "execution_count": 53,
   "metadata": {},
   "outputs": [
    {
     "name": "stdout",
     "output_type": "stream",
     "text": [
      "Important growth substrates: 7\n"
     ]
    }
   ],
   "source": [
    "strep_substrates = test_growth_substrates(strep_iCdJ794)"
   ]
  },
  {
   "cell_type": "code",
   "execution_count": 58,
   "metadata": {},
   "outputs": [
    {
     "data": {
      "text/plain": [
       "{'cpd00029_e --- Acetate',\n",
       " 'cpd00041_e --- L-Aspartate',\n",
       " 'cpd00122_e --- N-Acetyl-D-glucosamine',\n",
       " 'cpd00141_e --- Propionate',\n",
       " 'cpd00307_e --- Cytosine',\n",
       " 'cpd00492_e --- N-Acetyl-D-mannosamine',\n",
       " 'cpd19585_e --- 2-Methylbutyrate'}"
      ]
     },
     "execution_count": 58,
     "metadata": {},
     "output_type": "execute_result"
    }
   ],
   "source": [
    "strep_substrates"
   ]
  },
  {
   "cell_type": "code",
   "execution_count": 54,
   "metadata": {},
   "outputs": [
    {
     "name": "stdout",
     "output_type": "stream",
     "text": [
      "Important growth substrates: 5\n"
     ]
    }
   ],
   "source": [
    "gnoto_substrates = test_growth_substrates(gnoto_iCdJ794)"
   ]
  },
  {
   "cell_type": "code",
   "execution_count": 59,
   "metadata": {},
   "outputs": [
    {
     "data": {
      "text/plain": [
       "{'cpd00013_e --- Ammonia',\n",
       " 'cpd00029_e --- Acetate',\n",
       " 'cpd00041_e --- L-Aspartate',\n",
       " 'cpd00122_e --- N-Acetyl-D-glucosamine',\n",
       " 'cpd19585_e --- 2-Methylbutyrate'}"
      ]
     },
     "execution_count": 59,
     "metadata": {},
     "output_type": "execute_result"
    }
   ],
   "source": [
    "gnoto_substrates"
   ]
  },
  {
   "cell_type": "code",
   "execution_count": 55,
   "metadata": {},
   "outputs": [
    {
     "name": "stdout",
     "output_type": "stream",
     "text": [
      "List 1 only: 0.0% (0)\n",
      "List 2 only: 16.7% (1)\n",
      "List 3 only: 14.3% (1)\n",
      "List 4 only: 20.0% (1)\n",
      "\n",
      "List 1 + List 2: 0.0% (0)\n",
      "List 1 + List 3: 15.5% (1)\n",
      "List 1 + List 4: 0.0% (0)\n",
      "List 2 + List 3: 0.0% (0)\n",
      "List 2 + List 4: 0.0% (0)\n",
      "List 3 + List 4: 0.0% (0)\n",
      "\n",
      "List 1 + List 2 + List 3: 15.9% (1)\n",
      "List 1 + List 2 + List 4: 0.0% (0)\n",
      "List 1 + List 3 + List 4: 0.0% (0)\n",
      "List 2 + List 3 + List 4: 0.0% (0)\n",
      "\n",
      "Shared: 67.6% (4)\n"
     ]
    }
   ],
   "source": [
    "# Context specific growth substrates\n",
    "# 1. cefoperazone\n",
    "# 2. clindamycin\n",
    "# 3. streptomycin\n",
    "# 4. gnotobiotic\n",
    "substrates = venn_comparison(cef_substrates, clinda_substrates, strep_substrates, gnoto_substrates)"
   ]
  },
  {
   "cell_type": "code",
   "execution_count": 53,
   "metadata": {},
   "outputs": [
    {
     "data": {
      "text/plain": [
       "set()"
      ]
     },
     "execution_count": 53,
     "metadata": {},
     "output_type": "execute_result"
    }
   ],
   "source": [
    "# Cefoperazone only\n",
    "substrates[0]"
   ]
  },
  {
   "cell_type": "code",
   "execution_count": 52,
   "metadata": {},
   "outputs": [
    {
     "data": {
      "text/plain": [
       "{'cpd00122_e --- N-Acetyl-D-glucosamine'}"
      ]
     },
     "execution_count": 52,
     "metadata": {},
     "output_type": "execute_result"
    }
   ],
   "source": [
    "# Gnotobiotic only\n",
    "substrates[3]"
   ]
  },
  {
   "cell_type": "code",
   "execution_count": 51,
   "metadata": {},
   "outputs": [
    {
     "data": {
      "text/plain": [
       "{'cpd00307_e --- Cytosine'}"
      ]
     },
     "execution_count": 51,
     "metadata": {},
     "output_type": "execute_result"
    }
   ],
   "source": [
    "# Conventional only\n",
    "substrates[10]"
   ]
  },
  {
   "cell_type": "code",
   "execution_count": 50,
   "metadata": {},
   "outputs": [
    {
     "data": {
      "text/plain": [
       "{'cpd00041_e --- L-Aspartate'}"
      ]
     },
     "execution_count": 50,
     "metadata": {},
     "output_type": "execute_result"
    }
   ],
   "source": [
    "# Core\n",
    "substrates[-1]"
   ]
  },
  {
   "cell_type": "code",
   "execution_count": null,
   "metadata": {},
   "outputs": [],
   "source": []
  }
 ],
 "metadata": {
  "kernelspec": {
   "display_name": "Python [default]",
   "language": "python",
   "name": "python2"
  },
  "language_info": {
   "codemirror_mode": {
    "name": "ipython",
    "version": 2
   },
   "file_extension": ".py",
   "mimetype": "text/x-python",
   "name": "python",
   "nbconvert_exporter": "python",
   "pygments_lexer": "ipython2",
   "version": "2.7.14"
  }
 },
 "nbformat": 4,
 "nbformat_minor": 2
}
