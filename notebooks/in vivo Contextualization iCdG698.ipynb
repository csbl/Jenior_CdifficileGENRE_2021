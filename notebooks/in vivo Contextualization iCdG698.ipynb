{
 "cells": [
  {
   "cell_type": "code",
   "execution_count": 1,
   "metadata": {},
   "outputs": [],
   "source": [
    "from riptide import *\n",
    "iCdG698 = cobra.io.load_json_model('/home/mjenior/Desktop/repos/Jenior_Cdifficile_2019/data/reconstructions/iCdG698.json')\n",
    "iCdG698.reactions.rxn05178_c.bounds = (0., 1000.)"
   ]
  },
  {
   "cell_type": "markdown",
   "metadata": {},
   "source": [
    "### Setting Extracellular Conditions"
   ]
  },
  {
   "cell_type": "code",
   "execution_count": 2,
   "metadata": {},
   "outputs": [],
   "source": [
    "# in vivo media analog\n",
    "gut = ['cpd00027_e', #glucose\n",
    "    'cpd00001_e', #water\n",
    "    'cpd00035_e', #alanine\n",
    " 'cpd00041_e', #aspartic acid\n",
    " 'cpd00023_e', #glutamic acid\n",
    " 'cpd00119_e', #histidine\n",
    " 'cpd00107_e', #leucine\n",
    " 'cpd00060_e', #methionine\n",
    " 'cpd00129_e', #proline\n",
    " 'cpd00161_e', #threonine\n",
    " 'cpd00051_e', #arginine\n",
    " 'cpd00069_e', #tyrosine\n",
    " 'cpd00084_e', #cysteine\n",
    " 'cpd00033_e', #glycine\n",
    " 'cpd00322_e', #isoleucine\n",
    " 'cpd00039_e', #lysine\n",
    " 'cpd00066_e', #phenylalanine\n",
    " 'cpd00054_e', #serine\n",
    " 'cpd00065_e', #tryptophan\n",
    " 'cpd00156_e', #valine\n",
    " 'cpd00220_e', #riboflavin\n",
    " 'cpd00644_e', #pantothentate(B5)\n",
    " 'cpd00393_e', #folate(B9)\n",
    " 'cpd00133_e', #niacin(PP)\n",
    " 'cpd00263_e', #Pyridoxine\n",
    " 'cpd00104_e', #Biotin\n",
    " 'cpd00149_e', #Cobalt\n",
    " 'cpd00971_e', #sodium\n",
    " 'cpd00099_e', #Chloride\n",
    " 'cpd00205_e', #potassium\n",
    " 'cpd00009_e', #phosphate\n",
    " 'cpd00063_e', #calcium\n",
    " 'cpd00254_e', #magnesium\n",
    " 'cpd10515_e', #Fe2+\n",
    " 'cpd00030_e', #Mn2+\n",
    " 'cpd00242_e', #Carbonate\n",
    " 'cpd00226_e', #hypoxanthine\n",
    " 'cpd01242_e', #thyminose\n",
    " 'cpd00307_e', #cytosine\n",
    " 'cpd00092_e', #uracil\n",
    "'cpd00117_e', #D-Alanine\n",
    "'cpd00067_e', #H+\n",
    "'cpd00567_e', #D-Proline\n",
    "'cpd00132_e', #L-Asparagine\n",
    "'cpd00053_e', #L-Glutamine\n",
    "'cpd00210_e', #Taurine\n",
    "'cpd00320_e', #D-Aspartate\n",
    "'cpd03279_e', #Deoxyinosine\n",
    "'cpd00246_e', #Inosine\n",
    "'cpd00311_e', #Guanosine\n",
    "'cpd00367_e', #Cytidine\n",
    "'cpd00277_e', #Deoxyguanosine\n",
    "'cpd00182_e', #Adenosine\n",
    "'cpd00654_e', #Deoxycytidine\n",
    "'cpd00412_e', #Deoxyuridine\n",
    "'cpd00438_e', #Deoxyadenosine\n",
    "'cpd00274_e', #Citrulline\n",
    "'cpd00186_e', #D-Glutamate\n",
    "       'cpd00281_e', # GABA\n",
    "       'cpd00232_e', # N-Acetyl-Neuraminic acid\n",
    "       'cpd00492_e', # N-Acetyl-D-mannosamine\n",
    "       'cpd29317_e'] # 4-hydroxyproline\n",
    "\n",
    "gut = set(['EX_' + x for x in gut])\n",
    "for rxn in iCdG698.exchanges: \n",
    "    rxn.bounds = (0., 1000.)\n",
    "    if rxn.id in gut:\n",
    "        rxn.bounds = (-1000., 1000.)\n",
    "\n"
   ]
  },
  {
   "cell_type": "code",
   "execution_count": 59,
   "metadata": {},
   "outputs": [
    {
     "name": "stdout",
     "output_type": "stream",
     "text": [
      "Doubling time in \"in vivo\" media: 32.02 minutes\n"
     ]
    }
   ],
   "source": [
    "doubling = round((1.0 / iCdG698.slim_optimize()) * 3200.0, 2)\n",
    "print('Doubling time in \\\"in vivo\\\" media:',doubling,'minutes')"
   ]
  },
  {
   "cell_type": "markdown",
   "metadata": {},
   "source": [
    "### RIPTiDe *in vivo* Contextualization"
   ]
  },
  {
   "cell_type": "code",
   "execution_count": 3,
   "metadata": {},
   "outputs": [],
   "source": [
    "# Read in in vivo C. difficile transcription\n",
    "low_spores = riptide.read_transcription_file('/home/mjenior/Desktop/repos/Jenior_Cdifficile_2019/data/transcript/jenior_etal/cefoperazone.format.tsv', \n",
    "                                               header=True)\n",
    "high_spores = riptide.read_transcription_file('/home/mjenior/Desktop/repos/Jenior_Cdifficile_2019/data/transcript/jenior_etal/clindamycin.format.tsv', \n",
    "                                              header=True)"
   ]
  },
  {
   "cell_type": "code",
   "execution_count": 4,
   "metadata": {},
   "outputs": [
    {
     "name": "stdout",
     "output_type": "stream",
     "text": [
      "\n",
      "Running max fit RIPTiDe for objective fraction range: 0.65 to 0.85 with intervals of 0.02 \n",
      "\n",
      "Testing minimum objective fractions...\n",
      "Fraction = 0.65 | Rho = 0.11389321351491406 ; p = 0.047247396634634814\n",
      "Fraction = 0.67 | Rho = 0.1257728931189911 ; p = 0.027560474740128522\n",
      "Fraction = 0.69 | Rho = 0.12139779278153773 ; p = 0.03348210043737028\n",
      "Fraction = 0.71 | Rho = 0.14418215324186795 ; p = 0.011297862304602932\n",
      "Fraction = 0.73 | Rho = 0.14605181890202204 ; p = 0.01027147167504856\n",
      "Fraction = 0.75 | Rho = 0.1491570863755467 ; p = 0.008748360015177878\n",
      "Fraction = 0.77 | Rho = 0.14007046573077914 ; p = 0.013879287536485995\n",
      "Fraction = 0.79 | Rho = 0.1269604021865207 ; p = 0.025391664199699123\n",
      "Fraction = 0.81 | Rho = 0.13440641700250425 ; p = 0.01735103691132872\n",
      "Fraction = 0.83 | Rho = 0.11950311287659827 ; p = 0.03287006427479083\n",
      "Fraction = 0.85 | Rho = 0.14508968342744027 ; p = 0.009237343694792758\n",
      "Testing local objective fractions to 0.75...\n",
      "Fraction = 0.74 | Rho = 0.14221378838125612 ; p = 0.012475362309648436\n",
      "Fraction = 0.76 | Rho = 0.14460388922447012 ; p = 0.011058740640581276\n",
      "\n",
      "Context-specific metabolism fit with 0.75 of optimal objective flux\n",
      "\n",
      "Max fit RIPTiDe completed in 3 minutes and 44 seconds \n",
      "\n"
     ]
    }
   ],
   "source": [
    "low_spores_riptide = riptide.maxfit_contextualize(model=iCdG698, transcriptome=low_spores)"
   ]
  },
  {
   "cell_type": "code",
   "execution_count": 5,
   "metadata": {},
   "outputs": [
    {
     "name": "stdout",
     "output_type": "stream",
     "text": [
      "\n",
      "Running max fit RIPTiDe for objective fraction range: 0.65 to 0.85 with intervals of 0.02 \n",
      "\n",
      "Testing minimum objective fractions...\n",
      "Fraction = 0.65 | Rho = 0.19022613879906866 ; p = 0.0007315638783448045\n",
      "Fraction = 0.67 | Rho = 0.17721000860410935 ; p = 0.001646340274712076\n",
      "Fraction = 0.69 | Rho = 0.18057230356648907 ; p = 0.0013353082896407683\n",
      "Fraction = 0.71 | Rho = 0.18911245069684438 ; p = 0.0007567191853443201\n",
      "Fraction = 0.73 | Rho = 0.18079682152893045 ; p = 0.0012931031500258013\n",
      "Fraction = 0.75 | Rho = 0.15819828445996653 ; p = 0.0048880226130833815\n",
      "Fraction = 0.77 | Rho = 0.13090605801922156 ; p = 0.020118785306103264\n",
      "Fraction = 0.79 | Rho = 0.1779888552713064 ; p = 0.0015688998998330597\n",
      "Fraction = 0.81 | Rho = 0.17672596939650295 ; p = 0.0016672135726048534\n",
      "Fraction = 0.83 | Rho = 0.17636775105797461 ; p = 0.0015642649986950326\n",
      "Fraction = 0.85 | Rho = 0.18477831636034345 ; p = 0.0009135205829352812\n",
      "Testing local objective fractions to 0.65...\n",
      "Fraction = 0.64 | Rho = 0.193688519720482 ; p = 0.0006443564113270816\n",
      "Fraction = 0.66 | Rho = 0.18224602116899632 ; p = 0.0012014975755986427\n",
      "\n",
      "Context-specific metabolism fit with 0.64 of optimal objective flux\n",
      "\n",
      "Max fit RIPTiDe completed in 4 minutes and 53 seconds \n",
      "\n"
     ]
    }
   ],
   "source": [
    "high_spores_riptide = riptide.maxfit_contextualize(model=iCdG698, transcriptome=high_spores)"
   ]
  },
  {
   "cell_type": "code",
   "execution_count": 65,
   "metadata": {},
   "outputs": [
    {
     "name": "stdout",
     "output_type": "stream",
     "text": [
      "WARNING: Output path already exists, overwriting previous files\n",
      "WARNING: Output path already exists, overwriting previous files\n"
     ]
    }
   ],
   "source": [
    "# Write results to files\n",
    "riptide.save_output(riptide_obj=low_spores_riptide, path='/home/mjenior/Desktop/repos/Jenior_Cdifficile_2019/data/contextualized_iCdG698/riptide_low_spore')\n",
    "riptide.save_output(riptide_obj=high_spores_riptide, path='/home/mjenior/Desktop/repos/Jenior_Cdifficile_2019/data/contextualized_iCdG698/riptide_high_spore')"
   ]
  },
  {
   "cell_type": "code",
   "execution_count": 12,
   "metadata": {},
   "outputs": [
    {
     "name": "stdout",
     "output_type": "stream",
     "text": [
      "WARNING: Output path already exists, overwriting previous files\n",
      "WARNING: Output path already exists, overwriting previous files\n"
     ]
    }
   ],
   "source": [
    "import scipy\n",
    "\n",
    "# Save median optimal fluxes\n",
    "outFile = '/home/mjenior/Desktop/repos/Jenior_Cdifficile_2019/data/contextualized_iCdG698/riptide_low_spore/med_opt_flux.tsv'\n",
    "with open(outFile, 'w') as tsv:\n",
    "    tsv.write('Exchange reaction ID\\tSubstrate\\tMedian optimal flux\\tsignificance\\n')\n",
    "    for exch in low_spores_riptide.model.exchanges:\n",
    "        flux = numpy.median(low_spores_riptide.flux_samples[exch.id])\n",
    "        try:\n",
    "            pval = round(scipy.stats.wilcoxon(x=list(low_spores_riptide.flux_samples[exch.id]), y=list(high_spores_riptide.flux_samples[exch.id]))[1], 3)\n",
    "        except:\n",
    "            pval = 'NA'\n",
    "        if pval != 'NA':\n",
    "            if pval <= 0.05:\n",
    "                pval = 'n.s.'\n",
    "            else:\n",
    "                pval = '*'\n",
    "        substrate = list(exch.reactants)[0].name\n",
    "        entry = exch.id + '\\t' + substrate + '\\t' + str(flux) + '\\t' + pval + '\\n'\n",
    "        tsv.write(entry)\n",
    "\n",
    "outFile = '/home/mjenior/Desktop/repos/Jenior_Cdifficile_2019/data/contextualized_iCdG698/riptide_high_spore/med_opt_flux.tsv'\n",
    "with open(outFile, 'w') as tsv:\n",
    "    tsv.write('Exchange reaction ID\\tSubstrate\\tMedian optimal flux\\tsignificance\\n')\n",
    "    for exch in high_spores_riptide.model.exchanges:\n",
    "        flux = numpy.median(high_spores_riptide.flux_samples[exch.id])\n",
    "        try:\n",
    "            pval = round(scipy.stats.wilcoxon(x=list(low_spores_riptide.flux_samples[exch.id]), y=list(high_spores_riptide.flux_samples[exch.id]))[1], 3)\n",
    "        except:\n",
    "            pval = 'NA'\n",
    "        if pval != 'NA':\n",
    "            if pval <= 0.05:\n",
    "                pval = 'n.s.'\n",
    "            else:\n",
    "                pval = '*'\n",
    "        substrate = list(exch.reactants)[0].name\n",
    "        entry = exch.id + '\\t' + substrate + '\\t' + str(flux) + '\\t' + pval + '\\n'\n",
    "        tsv.write(entry)"
   ]
  },
  {
   "cell_type": "markdown",
   "metadata": {},
   "source": [
    "### Growth Rate"
   ]
  },
  {
   "cell_type": "code",
   "execution_count": 15,
   "metadata": {},
   "outputs": [
    {
     "name": "stdout",
     "output_type": "stream",
     "text": [
      "Low spores doubling time: 39.56 minutes\n",
      "High spores doubling time: 50.28 minutes\n",
      "p-value 0.005\n"
     ]
    }
   ],
   "source": [
    "from random import sample\n",
    "import scipy\n",
    "\n",
    "doubling = round((1.0 / low_spores_riptide.model.slim_optimize()) * 3200.0, 2)\n",
    "print('Low spores doubling time: ' + str(doubling) + ' minutes')\n",
    "\n",
    "doubling = round((1.0 / high_spores_riptide.model.slim_optimize()) * 3200.0, 2)\n",
    "print('High spores doubling time: ' + str(doubling) + ' minutes')\n",
    "\n",
    "pvals = []\n",
    "maxRange = len(list(low_spores_riptide.flux_samples['biomass'])) * 10\n",
    "for x in range(1, maxRange):\n",
    "        low_spores_sample = sample(list(low_spores_riptide.flux_samples['biomass']), 10)\n",
    "        high_spores_sample = sample(list(high_spores_riptide.flux_samples['biomass']), 10)\n",
    "        pvals.append(scipy.stats.wilcoxon(x=low_spores_sample, y=high_spores_sample)[1])\n",
    "print('p-value', round(numpy.median(pvals),3))"
   ]
  },
  {
   "cell_type": "markdown",
   "metadata": {},
   "source": [
    "### Context-specific Gene Essentiality"
   ]
  },
  {
   "cell_type": "code",
   "execution_count": 16,
   "metadata": {},
   "outputs": [],
   "source": [
    "import copy\n",
    "from cobra.flux_analysis.variability import find_essential_genes\n",
    "\n",
    "def essential_genes(genre, media=None, optimum_fraction=0.01):\n",
    "    model = copy.deepcopy(genre)\n",
    "    \n",
    "    # Change media conditions if necessary\n",
    "    if media is not None:\n",
    "        exchanges = ['EX_' + x for x in media]\n",
    "        for rxn in model.reactions:\n",
    "            if len(list(rxn.products)) == 0:\n",
    "                if rxn.id in exchanges:\n",
    "                    model.reactions.get_by_id(rxn.id).lower_bound = max([-1000.0,model.reactions.get_by_id(rxn.id).lower_bound])\n",
    "                else:\n",
    "                    model.reactions.get_by_id(rxn.id).lower_bound = 0.0\n",
    "    \n",
    "    # Find essential genes\n",
    "    essential_genes = find_essential_genes(model, threshold=optimum_fraction)\n",
    "    \n",
    "    return essential_genes\n",
    "                "
   ]
  },
  {
   "cell_type": "code",
   "execution_count": 21,
   "metadata": {},
   "outputs": [
    {
     "name": "stdout",
     "output_type": "stream",
     "text": [
      "Uncontextualized essential genes:  74 \n",
      "\n",
      "272563.8.peg.787\tABC transporter, substrate-binding protein (cluster 3, basic aa/glutamine/opines)\n",
      "272563.8.peg.3708\tMethionyl-tRNA synthetase (EC 6.1.1.10)\n",
      "272563.8.peg.2085\tSubstrate-specific component TrpP of tryptophan ECF transporter\n",
      "272563.8.peg.3409\tValyl-tRNA synthetase (EC 6.1.1.9)\n",
      "272563.8.peg.1382\tRiboflavin kinase (EC 2.7.1.26)\n",
      "272563.8.peg.2741\tIsoleucyl-tRNA synthetase (EC 6.1.1.5)\n",
      "272563.8.peg.242\tPhosphoribosylamine--glycine ligase (EC 6.3.4.13)\n",
      "272563.8.peg.2644\tLeucyl-tRNA synthetase (EC 6.1.1.4)\n",
      "272563.8.peg.3565\tUDP-N-acetylenolpyruvoylglucosamine reductase (EC 1.1.1.158)\n",
      "272563.8.peg.243\tPhosphoribosylformylglycinamidine synthase, glutamine amidotransferase subunit (EC 6.3.5.3)\n",
      "272563.8.peg.2777\tUDP-N-acetylmuramoylalanine--D-glutamate ligase (EC 6.3.2.9)\n",
      "272563.8.peg.1266\t1-deoxy-D-xylulose 5-phosphate synthase (EC 2.2.1.7)\n",
      "272563.8.peg.1394\tCDP-diacylglycerol--glycerol-3-phosphate 3-phosphatidyltransferase (EC 2.7.8.5)\n",
      "272563.8.peg.2680\tPhosphopantetheine adenylyltransferase (EC 2.7.7.3)\n",
      "272563.8.peg.1908\t4-hydroxy-3-methylbut-2-enyl diphosphate reductase (EC 1.17.1.2)\n",
      "272563.8.peg.2711\tphosphopantothenoylcysteine decarboxylase (EC 4.1.1.36)\n",
      "272563.8.peg.2551\tGlycyl-tRNA synthetase beta chain (EC 6.1.1.14)\n",
      "272563.8.peg.3722\tLysyl-tRNA synthetase (class II) (EC 6.1.1.6)\n",
      "272563.8.peg.2166\tGlutaminyl-tRNA synthetase (EC 6.1.1.18)\n",
      "272563.8.peg.1597\tTyrosyl-tRNA synthetase (EC 6.1.1.1)\n",
      "272563.8.peg.139\tUDP-N-acetylglucosamine 1-carboxyvinyltransferase (EC 2.5.1.7)\n",
      "272563.8.peg.601\tThreonyl-tRNA synthetase (EC 6.1.1.3)\n",
      "272563.8.peg.1264\t(2E,6E)-farnesyl diphosphate synthase (EC 2.5.1.10)\n",
      "272563.8.peg.735\tPhenylalanyl-tRNA synthetase beta chain (EC 6.1.1.20)\n",
      "272563.8.peg.2552\tGlycyl-tRNA synthetase alpha chain (EC 6.1.1.14)\n",
      "272563.8.peg.818\tMultimodular transpeptidase-transglycosylase (EC 2.4.1.129) (EC 3.4.-.-)\n",
      "272563.8.peg.636\tChloride channel protein\n",
      "272563.8.peg.1781\tSulfur carrier protein ThiS subunit\n",
      "272563.8.peg.2733\tTryptophanyl-tRNA synthetase (EC 6.1.1.2)\n",
      "272563.8.peg.2867\tHistidyl-tRNA synthetase (EC 6.1.1.21)\n",
      "272563.8.peg.2243\t1-deoxy-D-xylulose 5-phosphate reductoisomerase (EC 1.1.1.267)\n",
      "272563.8.peg.2866\tAspartyl-tRNA synthetase (EC 6.1.1.12)\n",
      "272563.8.peg.2946\tdihydrofolate reductase (EC 1.5.1.3)\n",
      "272563.8.peg.423\tFructose-bisphosphate aldolase class II (EC 4.1.2.13)\n",
      "272563.8.peg.3718\tThymidylate kinase (EC 2.7.4.9)\n",
      "272563.8.peg.2779\tUDP-N-acetylmuramoyl-tripeptide--D-alanyl-D-alanine ligase (EC 6.3.2.10) | murF\n",
      "272563.8.peg.746\tArginyl-tRNA synthetase (EC 6.1.1.19)\n",
      "272563.8.peg.262\tPutative CDP-glycerol:Poly(Glycerophosphate) glycerophosphotransferase\n",
      "272563.8.peg.2778\tPhospho-N-acetylmuramoyl-pentapeptide-transferase (EC 2.7.8.13)\n",
      "272563.8.peg.1926\tChorismate synthase (EC 4.2.3.5)\n",
      "272563.8.peg.2660\t5'-nucleotidase (EC 3.1.3.5)\n",
      "272563.8.peg.2852\tdiglucosyldiacylglycerol synthase (LTA membrane anchor synthesis)\n",
      "272563.8.peg.1782\tSulfur carrier protein ThiS subunit\n",
      "272563.8.peg.1186\tDephospho-CoA kinase (EC 2.7.1.24)\n",
      "272563.8.peg.3736\t4-diphosphocytidyl-2-C-methyl-D-erythritol kinase (EC 2.7.1.148)\n",
      "272563.8.peg.60\tGlutamyl-tRNA synthetase (EC 6.1.1.17)\n",
      "272563.8.peg.1519\taminodeoxychorismate lyase (EC 4.1.3.38)\n",
      "272563.8.peg.3116\tSubstrate-specific component BioY of biotin ECF transporter\n",
      "272563.8.peg.2360\tAsparaginyl-tRNA synthetase (EC 6.1.1.22)\n",
      "272563.8.peg.1676\tHydroxymethylpyrimidine phosphate kinase ThiD (EC 2.7.4.7)\n",
      "272563.8.peg.164\tSubstrate-specific component RibU of riboflavin ECF transporter\n",
      "272563.8.peg.1101\tNAD kinase (EC 2.7.1.23)\n",
      "272563.8.peg.1929\tShikimate kinase I (EC 2.7.1.71)\n",
      "272563.8.peg.62\tCysteinyl-tRNA synthetase (EC 6.1.1.16)\n",
      "272563.8.peg.240\tphosphoribosylglycinamide formyltransferase (EC 2.1.2.2)\n",
      "272563.8.peg.1678\tThiamin-phosphate pyrophosphorylase (EC 2.5.1.3)\n",
      "272563.8.peg.1924\t3-dehydroquinate synthase (EC 4.2.3.4)\n",
      "272563.8.peg.3377\taspartate-semialdehyde dehydrogenase (EC 1.2.1.11)\n",
      "272563.8.peg.2333\t3-dehydroquinate dehydratase I (EC 4.2.1.10)\n",
      "272563.8.peg.3621\t5-formyltetrahydrofolate cyclo-ligase (EC 6.3.3.2)\n",
      "272563.8.peg.56\t2-C-methyl-D-erythritol 4-phosphate cytidylyltransferase (EC 2.7.7.60)\n",
      "272563.8.peg.1873\targininosuccinate synthase (EC 6.3.4.5)\n",
      "272563.8.peg.2247\tPhosphatidate cytidylyltransferase (EC 2.7.7.41)\n",
      "272563.8.peg.1347\tAlanyl-tRNA synthetase (EC 6.1.1.7)\n",
      "272563.8.peg.58\tProlyl-tRNA synthetase (EC 6.1.1.15)\n",
      "272563.8.peg.1922\tMagnesium and cobalt transport protein CorA\n",
      "272563.8.peg.239\tphosphoribosylformylglycinamidine cyclo-ligase (EC 6.3.3.1)\n",
      "272563.8.peg.3725\tPantothenate kinase type III, CoaX-like (EC 2.7.1.33)\n",
      "272563.8.peg.57\t2-C-methyl-D-erythritol 2,4-cyclodiphosphate synthase (EC 4.6.1.12)\n",
      "272563.8.peg.1324\tNa(+)-dependent branched-chain amino acid transporter\n",
      "272563.8.peg.734\tPhenylalanyl-tRNA synthetase alpha chain (EC 6.1.1.20)\n",
      "272563.8.peg.123\tRibonucleotide reductase of class III (anaerobic), large subunit (EC 1.17.4.2)\n",
      "272563.8.peg.2775\tUDP-N-acetylglucosamine--N-acetylmuramyl-(pentapeptide) pyrophosphoryl-undecaprenol N-acetylglucosamine transferase (EC 2.4.1.227)\n",
      "272563.8.peg.238\tamidophosphoribosyltransferase (EC 2.4.2.14)\n"
     ]
    }
   ],
   "source": [
    "# Unconstrained base model\n",
    "base_essential = essential_genes(iCdG698)\n",
    "base_essential_genes = set([x.id for x in base_essential])\n",
    "print('Uncontextualized essential genes: ', len(base_essential_genes), '\\n')\n",
    "for gene in base_essential_genes:\n",
    "    print(iCdG698.genes.get_by_id(gene).id + '\\t' + iCdG698.genes.get_by_id(gene).name)"
   ]
  },
  {
   "cell_type": "code",
   "execution_count": 22,
   "metadata": {},
   "outputs": [
    {
     "name": "stdout",
     "output_type": "stream",
     "text": [
      "Low spores essential genes: 37\n"
     ]
    }
   ],
   "source": [
    "low_spores_essential_genes = essential_genes(low_spores_riptide.model)\n",
    "low_spores_essential_genes = set([x.id for x in low_spores_essential_genes]).difference(base_essential_genes)\n",
    "print('Low spores essential genes: ' + str(len(low_spores_essential_genes)))"
   ]
  },
  {
   "cell_type": "code",
   "execution_count": 23,
   "metadata": {},
   "outputs": [
    {
     "name": "stdout",
     "output_type": "stream",
     "text": [
      "High spores essential genes: 43\n"
     ]
    }
   ],
   "source": [
    "high_spores_essential_genes = essential_genes(high_spores_riptide.model)\n",
    "high_spores_essential_genes = set([x.id for x in high_spores_essential_genes]).difference(base_essential_genes)\n",
    "print('High spores essential genes: ' + str(len(high_spores_essential_genes)))"
   ]
  },
  {
   "cell_type": "code",
   "execution_count": 24,
   "metadata": {},
   "outputs": [
    {
     "name": "stdout",
     "output_type": "stream",
     "text": [
      "in vivo shared:  35 \n",
      "\n",
      "272563.8.peg.1085\tUDP-N-acetylglucosamine 2-epimerase (EC 5.1.3.14)\n",
      "272563.8.peg.3645\turacil phosphoribosyltransferase (EC 2.4.2.9)\n",
      "272563.8.peg.3632\tATP synthase epsilon chain (EC 3.6.3.14)\n",
      "272563.8.peg.1284\tpyrimidine-nucleoside phosphorylase (EC 2.4.2.2)\n",
      "272563.8.peg.2882\tPhosphoenolpyruvate-protein phosphotransferase of PTS system (EC 2.7.3.9)\n",
      "272563.8.peg.3235\tTrehalose-6-phosphate hydrolase (EC 3.2.1.93)\n",
      "272563.8.peg.2558\tcytidine deaminase (EC 3.5.4.5)\n",
      "272563.8.peg.128\tphosphate butyryltransferase (EC 2.3.1.19)\n",
      "272563.8.peg.1283\tPurine nucleoside phosphorylase (EC 2.4.2.1)\n",
      "272563.8.peg.105\tAdenylate kinase (EC 2.7.4.3)\n",
      "272563.8.peg.3438\tGlucose-6-phosphate isomerase (EC 5.3.1.9)\n",
      "272563.8.peg.2872\tAdenine phosphoribosyltransferase (EC 2.4.2.7)\n",
      "272563.8.peg.3557\tPyruvate kinase (EC 2.7.1.40)\n",
      "272563.8.peg.717\tsodium-solute symporter, putative\n",
      "272563.8.peg.3634\tATP synthase gamma chain (EC 3.6.3.14)\n",
      "272563.8.peg.2535\tPTS system, glucitol/sorbitol-specific IIB component (EC 2.7.1.198) / PTS system, glucitol/sorbitol-specific IIC component 2 | srlE_2\n",
      "272563.8.peg.202\taspartate carbamoyltransferase (EC 2.1.3.2)\n",
      "272563.8.peg.2355\tN-acetylneuraminate lyase (EC 4.1.3.3)\n",
      "272563.8.peg.3390\tproline racemase (EC 5.1.1.4)\n",
      "272563.8.peg.3635\tATP synthase alpha chain (EC 3.6.3.14)\n",
      "272563.8.peg.766\tGlycine cleavage system H protein\n",
      "272563.8.peg.1864\tABC transporter, ATP-binding protein (cluster 3, basic aa/glutamine/opines)\n",
      "272563.8.peg.2536\tPTS system, glucitol/sorbitol-specific IIC component (EC 2.7.1.69)\n",
      "272563.8.peg.2754\tGlycerol-3-phosphate dehydrogenase [NAD(P)+] (EC 1.1.1.94)\n",
      "272563.8.peg.3323\tTriosephosphate isomerase (EC 5.3.1.1)\n",
      "272563.8.peg.1565\tDNA-3-methyladenine glycosylase II (EC 3.2.2.21)\n",
      "272563.8.peg.866\tGlutamate synthase [NADPH] large chain (EC 1.4.1.13)\n",
      "272563.8.peg.2720\tPyrimidine operon regulatory protein PyrR\n",
      "272563.8.peg.1282\tphosphopentomutase (EC 5.4.2.7)\n",
      "272563.8.peg.3636\tATP synthase delta chain (EC 3.6.3.14)\n",
      "272563.8.peg.2488\tL-aspartate oxidase (EC 1.4.3.16)\n",
      "272563.8.peg.1574\tDeoxyribose-phosphate aldolase (EC 4.1.2.4)\n",
      "272563.8.peg.353\tManganese-dependent inorganic pyrophosphatase (EC 3.6.1.1)\n",
      "272563.8.peg.3633\tATP synthase beta chain (EC 3.6.3.14)\n",
      "272563.8.peg.1774\tSodium:alanine symporter family protein\n"
     ]
    }
   ],
   "source": [
    "invivo_essential_genes = low_spores_essential_genes.intersection(high_spores_essential_genes)\n",
    "print('in vivo shared: ', len(invivo_essential_genes),'\\n')\n",
    "for gene in invivo_essential_genes:\n",
    "    print(iCdG698.genes.get_by_id(gene).id + '\\t' + iCdG698.genes.get_by_id(gene).name)"
   ]
  },
  {
   "cell_type": "code",
   "execution_count": 25,
   "metadata": {},
   "outputs": [
    {
     "name": "stdout",
     "output_type": "stream",
     "text": [
      "Low spores only: 2\n",
      "272563.8.peg.2456\t4-hydroxybutyrate:acetyl-CoA CoA transferase (EC 2.3.1.-)\n",
      "272563.8.peg.755\tFormate--tetrahydrofolate ligase (EC 6.3.4.3)\n",
      "\n",
      "High spores only: 8\n",
      "272563.8.peg.757\tmethylenetetrahydrofolate dehydrogenase (NADP+) (EC 1.5.1.5)\n",
      "272563.8.peg.3245\tPTS system, N-acetylglucosamine-specific IIC component (EC 2.7.1.69)\n",
      "272563.8.peg.1233\tAcetate kinase (EC 2.7.2.1)\n",
      "272563.8.peg.1061\tN-acetylgalactosamine-6-phosphate deacetylase | nagA\n",
      "272563.8.peg.2806\tPyruvate-flavodoxin oxidoreductase (EC 1.2.7.-)\n",
      "272563.8.peg.1567\tPyrroline-5-carboxylate reductase (EC 1.5.1.2)\n",
      "272563.8.peg.1406\talanine transaminase (EC 2.6.1.2)\n",
      "272563.8.peg.2469\tGlycine reductase component B beta subunit (EC 1.21.4.2) / Glycine reductase component B alpha subunit (EC 1.21.4.2) | grdE\n"
     ]
    }
   ],
   "source": [
    "low_spores_only_essential_genes = low_spores_essential_genes.difference(high_spores_essential_genes)\n",
    "high_spores_only_essential_genes = high_spores_essential_genes.difference(low_spores_essential_genes)\n",
    "\n",
    "print('Low spores only:',len(low_spores_only_essential_genes))\n",
    "for gene in low_spores_only_essential_genes:\n",
    "    print(iCdG698.genes.get_by_id(gene).id + '\\t' + iCdG698.genes.get_by_id(gene).name)\n",
    "    \n",
    "print('\\nHigh spores only:',len(high_spores_only_essential_genes))\n",
    "for gene in high_spores_only_essential_genes:\n",
    "    print(iCdG698.genes.get_by_id(gene).id + '\\t' + iCdG698.genes.get_by_id(gene).name)"
   ]
  },
  {
   "cell_type": "code",
   "execution_count": 69,
   "metadata": {},
   "outputs": [],
   "source": [
    "# Save results to a table\n",
    "with open('/home/mjenior/Desktop/repos/Jenior_Cdifficile_2019/results/invivo_essentiality.tsv','w') as outfile:\n",
    "    entry = 'base\\t' + '\\t'.join([str(x.id) for x in base_essential]) + '\\n'\n",
    "    outfile.write(entry)\n",
    "    entry = 'in_vivo\\t' + '\\t'.join(invivo_essential_genes) + '\\n'\n",
    "    outfile.write(entry)\n",
    "    entry = 'low_sporulation\\t' + '\\t'.join(low_spores_only_essential_genes) + '\\n'\n",
    "    outfile.write(entry)\n",
    "    entry = 'high_sporulation\\t' + '\\t'.join(high_spores_only_essential_genes) + '\\n'\n",
    "    outfile.write(entry)\n"
   ]
  },
  {
   "cell_type": "markdown",
   "metadata": {},
   "source": [
    "### Context-specific Substrate Importance"
   ]
  },
  {
   "cell_type": "code",
   "execution_count": 26,
   "metadata": {},
   "outputs": [],
   "source": [
    "# Essential substrates\n",
    "\n",
    "import pandas\n",
    "from cobra.medium import minimal_medium\n",
    "\n",
    "# Non-exhaustive\n",
    "def find_essential_metabolites(model, fraction=0.01):\n",
    "\n",
    "    min_growth = model.slim_optimize() * fraction\n",
    "    ser = minimal_medium(model, min_objective_value=min_growth, minimize_components=True)\n",
    "\n",
    "    rxns = list(ser.index)\n",
    "    fluxes = list(ser.values)\n",
    "    cpds = []\n",
    "    for x in rxns: cpds.append(model.reactions.get_by_id(x).reactants[0].name)        \n",
    "    \n",
    "    media = {'Reaction': rxns, 'Substrate': cpds, 'Units': fluxes}    \n",
    "    media = pandas.DataFrame(media)\n",
    "    print('Minimal media components: ' + str(len(media.index)))\n",
    "    \n",
    "    return(media)\n"
   ]
  },
  {
   "cell_type": "code",
   "execution_count": 27,
   "metadata": {},
   "outputs": [
    {
     "name": "stdout",
     "output_type": "stream",
     "text": [
      "Minimal media components: 38\n"
     ]
    }
   ],
   "source": [
    "low_spores_min_media = find_essential_metabolites(low_spores_riptide.model)"
   ]
  },
  {
   "cell_type": "code",
   "execution_count": 28,
   "metadata": {},
   "outputs": [
    {
     "name": "stdout",
     "output_type": "stream",
     "text": [
      "Minimal media components: 39\n"
     ]
    }
   ],
   "source": [
    "high_spores_min_media = find_essential_metabolites(high_spores_riptide.model)"
   ]
  },
  {
   "cell_type": "code",
   "execution_count": 29,
   "metadata": {},
   "outputs": [
    {
     "name": "stdout",
     "output_type": "stream",
     "text": [
      "Shared: 38\n",
      "\n",
      "Low spores only: 0\n",
      "High spores only: 1\n"
     ]
    }
   ],
   "source": [
    "low_spores_substrates = set(low_spores_min_media['Substrate'])\n",
    "high_spores_substrates = set(high_spores_min_media['Substrate'])\n",
    "\n",
    "shared_substrates = low_spores_substrates.intersection(high_spores_substrates)\n",
    "low_spores_only_substrates = low_spores_substrates.difference(high_spores_substrates)\n",
    "high_spores_only_substrates = high_spores_substrates.difference(low_spores_substrates)\n",
    "\n",
    "print('Shared: ' + str(len(shared_substrates)) + '\\n')\n",
    "print('Low spores only: ' + str(len(low_spores_only_substrates)))\n",
    "print('High spores only: ' + str(len(high_spores_only_substrates)))"
   ]
  },
  {
   "cell_type": "code",
   "execution_count": 30,
   "metadata": {},
   "outputs": [
    {
     "name": "stdout",
     "output_type": "stream",
     "text": [
      "Shared components:\n",
      "K+\n",
      "Cl-\n",
      "Deoxyuridine\n",
      "N-Acetyl-Neuraminic acid\n",
      "L-Lysine\n",
      "L-Cysteine\n",
      "Fe2+\n",
      "D-Glutamate\n",
      "L-Tryptophan\n",
      "Guanosine\n",
      "Co2+\n",
      "L-Valine\n",
      "L-Arginine\n",
      "L-Phenylalanine\n",
      "L-Asparagine\n",
      "Phosphate\n",
      "Deoxycytidine\n",
      "Mn2+\n",
      "Na+\n",
      "L-Leucine\n",
      "Riboflavin\n",
      "L-Methionine\n",
      "L-Aspartate\n",
      "Pantothenate\n",
      "Biotin\n",
      "Nicotinamide\n",
      "L-Tyrosine\n",
      "L-Isoleucine\n",
      "D-Alanine\n",
      "L-Alanine\n",
      "L-Serine\n",
      "Folate\n",
      "Pyridoxol\n",
      "Mg\n",
      "L-Threonine\n",
      "D-Proline\n",
      "Ca2+\n",
      "L-Histidine\n",
      "\n",
      "High spores only:\n",
      "H2O\n"
     ]
    }
   ],
   "source": [
    "print('Shared components:')\n",
    "for x in shared_substrates: print(x)\n",
    "print('\\nHigh spores only:')\n",
    "print(list(high_spores_only_substrates)[0])\n"
   ]
  },
  {
   "cell_type": "code",
   "execution_count": 31,
   "metadata": {},
   "outputs": [],
   "source": [
    "import numpy\n",
    "import cobra\n",
    "import cobra.flux_analysis\n",
    "\n",
    "def _getKey(item):\n",
    "    return item[1]\n",
    "\n",
    "# Scale each active exchange back and examine its influence on objective flux\n",
    "def find_primary_sources(model, flux_samples=False, fraction=0.01, cutoff=0.8, pfba_fraction=0.8):\n",
    "    # Requires a model \n",
    "    # Optional: flux_samples = flux samples pandas dataframe associated with model\n",
    "    #           fraction = percent of median flux to limit exchange reactions by\n",
    "    #           cutoff = quantile of top C and N sources to report\n",
    "    #           pfba_fraction = fraction of optimal objective value for pfba solution\n",
    "\n",
    "    sources = {}\n",
    "    c_sources = []\n",
    "    c_influence = []\n",
    "    n_sources = []\n",
    "    n_influence = []\n",
    "    p_source = ['p_source', -1.0]\n",
    "    s_source = ['s_source', -1.0]\n",
    "    objVal = model.slim_optimize()\n",
    "    pfba_solution = cobra.flux_analysis.pfba(model, fraction_of_optimum=pfba_fraction)\n",
    "    \n",
    "    # Parse exchange flux samples for imported metabolites\n",
    "    exchanges = [rxn.id for rxn in model.boundary]\n",
    "    for rxn in exchanges:\n",
    "        if isinstance(flux_samples, pandas.DataFrame):\n",
    "            current_samples = list(set(flux_samples[rxn]))\n",
    "            flux = numpy.mean(current_samples)\n",
    "        else:\n",
    "            flux = pfba_solution.fluxes[rxn]\n",
    "        if flux >= -1e-6: continue # Skip exported byproducts or unused reactions\n",
    "        bound = flux * fraction\n",
    "        \n",
    "        # Test for disproportionate effect on objective\n",
    "        old_bounds = model.reactions.get_by_id(rxn).bounds\n",
    "        model.reactions.get_by_id(rxn).bounds = (bound, bound)        \n",
    "        new_objVal = model.slim_optimize()\n",
    "        model.reactions.get_by_id(rxn).bounds = old_bounds # Reset bounds\n",
    "        if str(new_objVal) == 'nan': new_objVal = objVal * fraction # Correct for nan\n",
    "        \n",
    "        # Calculate the degree of change to objective value\n",
    "        if new_objVal != objVal:\n",
    "            flux_ratio = objVal / new_objVal\n",
    "            adjustment = abs(flux) * flux_ratio\n",
    "        else:\n",
    "            adjustment = 1.\n",
    "        \n",
    "        # Normalize elemental component contributions\n",
    "        metabolite = model.reactions.get_by_id(rxn).reactants[0]\n",
    "        sources[metabolite.id] = {}\n",
    "        for element in metabolite.elements.keys():\n",
    "            element_supply = float(metabolite.elements[element]) * adjustment\n",
    "            if element_supply > 0.: element_supply = numpy.log(element_supply)\n",
    "            sources[metabolite.id][element] = element_supply\n",
    "                \n",
    "            # Identify largest sources of main elements\n",
    "            if element == 'C' and element_supply > 0.0:\n",
    "                c_sources.append([metabolite.id, element_supply])\n",
    "                c_influence.append(element_supply)\n",
    "            elif element == 'N' and element_supply > 0.0:\n",
    "                n_sources.append([metabolite.id, element_supply])\n",
    "                n_influence.append(element_supply)\n",
    "            elif element == 'P' and element_supply > 0.0:\n",
    "                p_source = [metabolite.id, element_supply]\n",
    "            elif element == 'S' and element_supply > 0.0:\n",
    "                s_source = [metabolite.id, element_supply]\n",
    "    \n",
    "    # Rank by largest contributions\n",
    "    c_sources = sorted(c_sources, reverse=True, key=_getKey)\n",
    "    n_sources = sorted(n_sources, reverse=True, key=_getKey)\n",
    "    \n",
    "    print('Top carbon sources:')\n",
    "    current = max(c_influence)\n",
    "    x = 0\n",
    "    while current >= numpy.quantile(c_influence, cutoff):\n",
    "        print(model.metabolites.get_by_id(c_sources[x][0]).name + ' (' + str(round(c_sources[x][1],3)) + ')')\n",
    "        current = c_sources[x][1]\n",
    "        x += 1\n",
    "        \n",
    "    print('\\nTop nitrogen sources:')\n",
    "    current = max(n_influence)\n",
    "    x = 0\n",
    "    while current >= numpy.quantile(n_influence, cutoff):\n",
    "        print(model.metabolites.get_by_id(n_sources[x][0]).name + ' (' + str(round(n_sources[x][1],3)) + ')')\n",
    "        current = n_sources[x][1]\n",
    "        x += 1\n",
    "        \n",
    "    print('\\nPrimary phosphorous source:')\n",
    "    print(model.metabolites.get_by_id(p_source[0]).name + ' (' + str(round(p_source[1],3)) + ')')\n",
    "    \n",
    "    print('\\nPrimary sulfur source:')\n",
    "    print(model.metabolites.get_by_id(s_source[0]).name + ' (' + str(round(s_source[1],3)) + ')')\n",
    "    \n",
    "    return sources\n"
   ]
  },
  {
   "cell_type": "code",
   "execution_count": 32,
   "metadata": {},
   "outputs": [
    {
     "name": "stdout",
     "output_type": "stream",
     "text": [
      "Top carbon sources:\n",
      "N-Acetyl-Neuraminic acid (13.321)\n",
      "L-Isoleucine (12.875)\n",
      "Deoxyuridine (12.291)\n",
      "L-Tyrosine (12.188)\n",
      "D-Proline (11.633)\n",
      "L-Serine (11.613)\n",
      "D-Alanine (9.968)\n",
      "\n",
      "Top nitrogen sources:\n",
      "L-Isoleucine (11.083)\n",
      "N-Acetyl-Neuraminic acid (10.923)\n",
      "Deoxyuridine (10.787)\n",
      "L-Serine (10.514)\n",
      "D-Proline (10.023)\n",
      "L-Tyrosine (9.991)\n",
      "D-Alanine (8.87)\n",
      "\n",
      "Primary phosphorous source:\n",
      "Phosphate (8.232)\n",
      "\n",
      "Primary sulfur source:\n",
      "L-Cysteine (5.203)\n"
     ]
    }
   ],
   "source": [
    "low_spores_sources = find_primary_sources(low_spores_riptide.model, flux_samples=low_spores_riptide.flux_samples)"
   ]
  },
  {
   "cell_type": "code",
   "execution_count": 33,
   "metadata": {},
   "outputs": [
    {
     "name": "stdout",
     "output_type": "stream",
     "text": [
      "Top carbon sources:\n",
      "Guanosine (13.182)\n",
      "L-Isoleucine (12.563)\n",
      "D-Proline (12.329)\n",
      "Deoxyuridine (12.026)\n",
      "L-Serine (11.831)\n",
      "N-Acetyl-Neuraminic acid (11.148)\n",
      "L-Tyrosine (10.9)\n",
      "\n",
      "Top nitrogen sources:\n",
      "Guanosine (12.489)\n",
      "L-Isoleucine (10.771)\n",
      "L-Serine (10.733)\n",
      "D-Proline (10.72)\n",
      "Deoxyuridine (10.522)\n",
      "L-Leucine (9.078)\n",
      "N-Acetyl-Neuraminic acid (8.75)\n",
      "\n",
      "Primary phosphorous source:\n",
      "Phosphate (7.993)\n",
      "\n",
      "Primary sulfur source:\n",
      "L-Cysteine (4.929)\n"
     ]
    }
   ],
   "source": [
    "high_spores_sources = find_primary_sources(high_spores_riptide.model, flux_samples=high_spores_riptide.flux_samples)"
   ]
  },
  {
   "cell_type": "markdown",
   "metadata": {},
   "source": [
    "###  Context-specific Topological Differences"
   ]
  },
  {
   "cell_type": "code",
   "execution_count": 34,
   "metadata": {},
   "outputs": [
    {
     "name": "stdout",
     "output_type": "stream",
     "text": [
      "Shared: 293\n",
      "\n",
      "Low spores only: 15\n",
      "Medium spores only: 14\n"
     ]
    }
   ],
   "source": [
    "# Shared topology - reactions\n",
    "low_spores_rxns = set([x.id for x in low_spores_riptide.model.reactions])\n",
    "high_spores_rxns = set([x.id for x in high_spores_riptide.model.reactions])\n",
    "\n",
    "shared_rxns = low_spores_rxns.intersection(high_spores_rxns)\n",
    "low_spores_only_rxns = low_spores_rxns.difference(high_spores_rxns)\n",
    "high_spores_only_rxns = high_spores_rxns.difference(low_spores_rxns)\n",
    "\n",
    "print('Shared: ' + str(len(shared_rxns)) + '\\n')\n",
    "print('Low spores only: ' + str(len(low_spores_only_rxns)))\n",
    "print('Medium spores only: ' + str(len(high_spores_only_rxns)))"
   ]
  },
  {
   "cell_type": "code",
   "execution_count": 35,
   "metadata": {},
   "outputs": [
    {
     "name": "stdout",
     "output_type": "stream",
     "text": [
      "Low spores only:\n",
      "rxn01506_c\tN-Acetyl-D-glucosamine 6-phosphate 2-epimerase\n",
      "rxn01952_c\tN-Acetylmannosamine phosphotransferase\n",
      "EX_cpd00276_e\tD-Glucosamine exchange\n",
      "rxn05234_c\t2'-Deoxyguanosine 5'-triphosphate:oxydized-thioredoxin 2'-oxidoreductase\n",
      "rxn30075_c\tGlutamate dehydrogenase (NAD)\n",
      "rxn00690_c\tFormate:tetrahydrofolate ligase (ADP-forming)\n",
      "rxn03004_c\t10-Formyltetrahydrofolate:5'-phosphoribosylglycinamide formyltransferase\n",
      "rxn10770_c\tCholine dehydrogenase\n",
      "rxn05559_c\tformate transport in via proton symport\n",
      "EX_cpd00047_e\tFormate exchange\n",
      "rxn05569_c\tD-glucosamine transport via PEP:Pyr PTS\n",
      "EX_cpd00492_e\tN-Acetyl-D-mannosamine exchange\n",
      "rxn01505_c\tN-Acetyl-D-glucosamine 1-phosphate 1,6-phosphomutase\n",
      "rxn05486_c\tN-Acetylmannosamine H+ symporter\n",
      "rxn12191_c\tCholine monooxygenase (NADP)\n",
      "\n",
      "High spores only:\n",
      "rxn01347_c\tUTP:Sedoheptulose 7-phosphate 1-phosphotransferase\n",
      "EX_cpd05178_e\tIsovalerate exchange\n",
      "rxn00907_c\t5,10-methylenetetrahydrofolate:NADP+ oxidoreductase\n",
      "rxn00806_c\tL-Leucine:2-oxoglutarate aminotransferase\n",
      "EX_cpd00277_e\tDeoxyguanosine exchange\n",
      "rxn09688_c\tdeoxyguanosine transport in via proton symport (periplasm)\n",
      "rxn01446_c\tDeoxyguanosine:orthophosphate ribosyltransferase\n",
      "rxn03005_c\tN2-Formyl-N1-(5-phospho-D-ribosyl)glycinamide formyltransferase\n",
      "R01174_1_c\tPhosphate butyryltransferase\n",
      "rxn00804_c\tLeucine aminotransferase\n",
      "rxn14152_c\t4-methyl-2-oxopentanoate oxidoreductase\n",
      "ID001_c\tIsovalerate diffusion\n",
      "rxn05938_c\tpyruvate ferredoxin oxidoreductase\n",
      "rxn13140_c\tNucleoside triphosphatase\n"
     ]
    }
   ],
   "source": [
    "print('Low spores only:')\n",
    "for x in low_spores_only_rxns:\n",
    "    print(x + '\\t' + iCdG698.reactions.get_by_id(x).name)\n",
    "\n",
    "print('\\nHigh spores only:')\n",
    "for y in high_spores_only_rxns:\n",
    "    print(y + '\\t' + iCdG698.reactions.get_by_id(y).name)"
   ]
  },
  {
   "cell_type": "code",
   "execution_count": 36,
   "metadata": {},
   "outputs": [
    {
     "name": "stdout",
     "output_type": "stream",
     "text": [
      "Shared: 302\n",
      "\n",
      "Low spores only: 7\n",
      "cpd02612_c\tN-Acetylmannosamine 6-phosphate\n",
      "cpd00098_c\tCholine\n",
      "cpd00492_e\tN-Acetyl-D-mannosamine\n",
      "cpd00447_c\tBetaine aldehyde\n",
      "cpd00276_e\tD-Glucosamine\n",
      "cpd00047_e\tFormate\n",
      "cpd00201_c\t10-Formyltetrahydrofolate\n",
      "\n",
      "High spores only: 9\n",
      "cpd00277_e\tDeoxyguanosine\n",
      "cpd11621_c\tOxidizedferredoxin\n",
      "cpd01882_c\tIsovaleryl-CoA\n",
      "cpd05178_c\tIsovalerate\n",
      "cpd00347_c\t5-10-Methenyltetrahydrofolate\n",
      "cpd00277_c\tDeoxyguanosine\n",
      "cpd00200_c\t2-Oxoisocaproate\n",
      "cpd05178_e\tIsovalerate\n",
      "cpd11620_c\tReducedferredoxin\n"
     ]
    }
   ],
   "source": [
    "# Shared topology - metabolites\n",
    "low_spores_cpds = set([x.id for x in low_spores_riptide.model.metabolites])\n",
    "high_spores_cpds = set([x.id for x in high_spores_riptide.model.metabolites])\n",
    "\n",
    "shared_cpds = low_spores_cpds.intersection(high_spores_cpds)\n",
    "low_spores_only_cpds = low_spores_cpds.difference(high_spores_cpds)\n",
    "high_spores_only_cpds = high_spores_cpds.difference(low_spores_cpds)\n",
    "\n",
    "print('Shared:',len(shared_cpds))\n",
    "\n",
    "print('\\nLow spores only:',len(low_spores_only_cpds))\n",
    "for x in low_spores_only_cpds:\n",
    "    print(x + '\\t' + iCdG698.metabolites.get_by_id(x).name)\n",
    "\n",
    "\n",
    "print('\\nHigh spores only:',len(high_spores_only_cpds))\n",
    "for y in high_spores_only_cpds:\n",
    "    print(y + '\\t' + iCdG698.metabolites.get_by_id(y).name)\n"
   ]
  },
  {
   "cell_type": "markdown",
   "metadata": {},
   "source": [
    "### Reaction essentiality"
   ]
  },
  {
   "cell_type": "code",
   "execution_count": 37,
   "metadata": {},
   "outputs": [],
   "source": [
    "import copy\n",
    "from cobra.flux_analysis.variability import find_essential_reactions\n",
    "\n",
    "def essential_reactions(genre, media=None, optimum_fraction=0.01):\n",
    "    model = copy.deepcopy(genre)\n",
    "    \n",
    "    # Change media conditions if necessary\n",
    "    if media is not None:\n",
    "        exchanges = ['EX_' + x for x in media]\n",
    "        for rxn in model.reactions:\n",
    "            if len(list(rxn.products)) == 0:\n",
    "                if rxn.id in exchanges:\n",
    "                    model.reactions.get_by_id(rxn.id).lower_bound = max([-1000.0,model.reactions.get_by_id(rxn.id).lower_bound])\n",
    "                else:\n",
    "                    model.reactions.get_by_id(rxn.id).lower_bound = 0.0\n",
    "    \n",
    "    # Find essential genes\n",
    "    essential_reactions = find_essential_reactions(model, threshold=optimum_fraction)\n",
    "    \n",
    "    return essential_reactions\n",
    "                "
   ]
  },
  {
   "cell_type": "code",
   "execution_count": 38,
   "metadata": {},
   "outputs": [
    {
     "name": "stdout",
     "output_type": "stream",
     "text": [
      "Low spores essential reactions: 266\n"
     ]
    }
   ],
   "source": [
    "low_spores_essential_reactions = essential_reactions(low_spores_riptide.model)\n",
    "low_spores_essential_reactions = set([x.id for x in low_spores_essential_reactions])\n",
    "print('Low spores essential reactions: ' + str(len(low_spores_essential_reactions)))"
   ]
  },
  {
   "cell_type": "code",
   "execution_count": 39,
   "metadata": {},
   "outputs": [
    {
     "name": "stdout",
     "output_type": "stream",
     "text": [
      "High spores essential reactions: 287\n"
     ]
    }
   ],
   "source": [
    "high_spores_essential_reactions = essential_reactions(high_spores_riptide.model)\n",
    "high_spores_essential_reactions = set([x.id for x in high_spores_essential_reactions])\n",
    "print('High spores essential reactions: ' + str(len(high_spores_essential_reactions)))"
   ]
  },
  {
   "cell_type": "code",
   "execution_count": 40,
   "metadata": {},
   "outputs": [
    {
     "name": "stdout",
     "output_type": "stream",
     "text": [
      "Low spores only: 10\n",
      "High spores only: 31\n"
     ]
    }
   ],
   "source": [
    "low_spores_only_essential_reactions = low_spores_essential_reactions.difference(high_spores_essential_reactions)\n",
    "high_spores_only_essential_reactions = high_spores_essential_reactions.difference(low_spores_essential_reactions)\n",
    "\n",
    "print('Low spores only: ' + str(len(low_spores_only_essential_reactions)))\n",
    "print('High spores only: ' + str(len(high_spores_only_essential_reactions)))"
   ]
  },
  {
   "cell_type": "code",
   "execution_count": 41,
   "metadata": {},
   "outputs": [
    {
     "name": "stdout",
     "output_type": "stream",
     "text": [
      "Low only:\n",
      "rxn05234_c 2'-Deoxyguanosine 5'-triphosphate:oxydized-thioredoxin 2'-oxidoreductase\n",
      "rxn03004_c 10-Formyltetrahydrofolate:5'-phosphoribosylglycinamide formyltransferase\n",
      "rxn00690_c Formate:tetrahydrofolate ligase (ADP-forming)\n",
      "rxn13713_c 4-hydroxybutyrate CoA-transferase\n",
      "rxn00871_c Phosphate butyrltransferase\n",
      "EX_cpd00011_e CO2 exchange\n",
      "rxn05467_c CO2 transport via diffusion\n",
      "rxn01236_c ATP:butanoate 1-phosphotransferase\n",
      "rxn01505_c N-Acetyl-D-glucosamine 1-phosphate 1,6-phosphomutase\n",
      "rxn03641_c acetyl-CoA: 4-hydroxybutanoate CoA transferase\n",
      "\n",
      "High only:\n",
      "rxn01116_c D-Ribulose-5-phosphate 3-epimerase\n",
      "R01174_1_c Phosphate butyryltransferase\n",
      "rxn01548_c guanosine:phosphate alpha-D-ribosyltransferase\n",
      "ID001_c Isovalerate diffusion\n",
      "EX_cpd00023_e L-Glutamate exchange\n",
      "EX_cpd00207_e Guanine exchange\n",
      "rxn13140_c Nucleoside triphosphatase\n",
      "rxn01333_c sedoheptulose-7-phosphate:D-glyceraldehyde-3-phosphate glyceronetransferase\n",
      "rxn00504_c (S)-1-pyrroline-5-carboxylate:NADP+ oxidoreductase\n",
      "EX_cpd00013_e Ammonia exchange\n",
      "rxn00785_c D-Fructose 6-phosphate:D-glyceraldehyde-3-phosphate glycolaldehyde transferase\n",
      "rxn14152_c 4-methyl-2-oxopentanoate oxidoreductase\n",
      "rxn05938_c pyruvate ferredoxin oxidoreductase\n",
      "rxn11676_c Glycine reductase\n",
      "rxn01347_c UTP:Sedoheptulose 7-phosphate 1-phosphotransferase\n",
      "EX_cpd05178_e Isovalerate exchange\n",
      "rxn00907_c 5,10-methylenetetrahydrofolate:NADP+ oxidoreductase\n",
      "rxn00931_c L-Proline:NADP+ 5-oxidoreductase\n",
      "rxn01484_c N-Acetyl-D-glucosamine-6-phosphate amidohydrolase\n",
      "rxn05203_c Guanine symport\n",
      "rxn00777_c D-ribose-5-phosphate aldose-ketose-isomerase\n",
      "rxn00555_c L-glutamine:D-fructose-6-phosphate isomerase (deaminating)\n",
      "rxn00225_c ATP:acetate phosphotransferase\n",
      "rxn01200_c Sedoheptulose-7-phosphate:D-glyceraldehyde-3-phosphate glycolaldehyde transferase\n",
      "rxn05485_c N-Acetyl-D-glucosamine transport via PEP:Pyr PTS\n",
      "rxn03005_c N2-Formyl-N1-(5-phospho-D-ribosyl)glycinamide formyltransferase\n",
      "rxn00778_c D-Ribose 1,5-phosphomutase\n",
      "EX_cpd00122_e N-Acetyl-D-glucosamine exchange\n",
      "rxn05298_c Na+/glutamate symport\n",
      "rxn05466_c Ammonia diffusion\n",
      "rxn00157_c Acetyl-CoA:formate C-acetyltransferase\n"
     ]
    }
   ],
   "source": [
    "print('Low only:')\n",
    "for x in low_spores_only_essential_reactions:\n",
    "    print(x, iCdG698.reactions.get_by_id(x).name)\n",
    "    \n",
    "print('\\nHigh only:')\n",
    "for x in high_spores_only_essential_reactions:\n",
    "    print(x, iCdG698.reactions.get_by_id(x).name)"
   ]
  },
  {
   "cell_type": "code",
   "execution_count": 42,
   "metadata": {},
   "outputs": [],
   "source": [
    "import cobra.flux_analysis\n",
    "from cobra.flux_analysis.parsimonious import pfba\n",
    "\n",
    "# Inferring media condition\n",
    "def find_substrates_and_byproducts(model):\n",
    "    \n",
    "    pfba_solv = pfba(model)\n",
    "    \n",
    "    substrates = set()\n",
    "    byproducts = set()\n",
    "    for rxn in model.boundary:\n",
    "        if pfba_solv.fluxes[rxn.id] < 0.0:\n",
    "            substrates |= set([rxn.reactants[0].id])\n",
    "        elif pfba_solv.fluxes[rxn.id] > 0.0:\n",
    "            byproducts |= set([rxn.reactants[0].id])\n",
    "\n",
    "    print(str(len(substrates)) + ' possible growth substrates found')\n",
    "    print(str(len(byproducts)) + ' possible byproducts found\\n')\n",
    "    \n",
    "    return substrates, byproducts\n",
    "\n",
    "\n",
    "# Inferring media condition\n",
    "def find_substrates_and_byproducts_riptide(riptide):\n",
    "        \n",
    "    substrates = []\n",
    "    byproducts = []\n",
    "\n",
    "    for rxn in riptide.model.exchanges:\n",
    "        \n",
    "        if numpy.median(riptide.flux_samples[rxn.id]) < -1.0:\n",
    "            substrates.append(rxn.reactants[0].id)\n",
    "        elif numpy.median(riptide.flux_samples[rxn.id]) > 1.0:\n",
    "            byproducts.append(rxn.reactants[0].id)\n",
    "            \n",
    "    substrates = set(substrates)\n",
    "    print(str(len(substrates)) + ' possible growth substrates found')\n",
    "    byproducts = set(byproducts)\n",
    "    print(str(len(byproducts)) + ' possible byproducts found\\n')\n",
    "    \n",
    "    return substrates, byproducts\n",
    "\n",
    "# Finding sources of elements\n",
    "def find_element_sources(model):\n",
    "    \n",
    "    sources = {'C':[], 'N':[], 'P':[], 'S':[]}\n",
    "    c_source = ['cpd_id', 0.0]\n",
    "    n_source = ['cpd_id', 0.0]\n",
    "    pfba_solution = pfba(model)\n",
    "    \n",
    "    # Parse exchange flux samples for imported metabolites\n",
    "    for rxn in model.boundary:\n",
    "        \n",
    "        flux = pfba_solution.fluxes[rxn.id]\n",
    "        if flux < -1e-6:\n",
    "            metabolite = rxn.reactants[0]\n",
    "            sources[metabolite.id] = {}\n",
    "            \n",
    "            # Multiply elemental components by median flux absolute value\n",
    "            for element in metabolite.elements.keys():\n",
    "                element_supply = float(metabolite.elements[element]) * abs(flux)\n",
    "                element_supply = round(numpy.log(element_supply), 3)\n",
    "                sources[metabolite.id][element] = element_supply\n",
    "                \n",
    "                # Identify largest sources of carbon and nitrogen\n",
    "                if element == 'C' and element_supply > c_source[1]:\n",
    "                    c_source = [metabolite.id, element_supply]\n",
    "                    sources['C'].append(c_source)\n",
    "                elif element == 'N' and element_supply > n_source[1]:\n",
    "                    n_source = [metabolite.id, element_supply]\n",
    "                    sources['N'].append(n_source)\n",
    "                elif element == 'P' and element_supply > 0.0:\n",
    "                    p_source = [metabolite.id, element_supply]\n",
    "                    sources['P'].append(p_source)\n",
    "                elif element == 'S' and element_supply > 0.0:\n",
    "                    s_source = [metabolite.id, element_supply]\n",
    "                    sources['S'].append(s_source)\n",
    "                    \n",
    "    print('Primary carbon source: ' + model.metabolites.get_by_id(c_source[0]).name + ' (' + str(c_source[1]) + ')')\n",
    "    print('Primary nitrogen source: ' + model.metabolites.get_by_id(n_source[0]).name + ' (' + str(n_source[1]) + ')')\n",
    "    print('Primary phosphorus source: ' + model.metabolites.get_by_id(p_source[0]).name + ' (' + str(p_source[1]) + ')')\n",
    "    print('Primary sulfur source: ' + model.metabolites.get_by_id(s_source[0]).name + ' (' + str(s_source[1]) + ')')\n",
    "\n",
    "    return sources\n",
    "\n",
    "# Finding sources of elements\n",
    "def find_element_sources_riptide(riptide):\n",
    "    \n",
    "    sources = {'C':[], 'N':[], 'P':[], 'S':[]}\n",
    "    c_source = ['cpd_id', 0.0]\n",
    "    n_source = ['cpd_id', 0.0]\n",
    "    pfba_solution = cobra.flux_analysis.pfba(riptide.model, fraction_of_optimum=0.8)\n",
    "    baseline = pfba_solution.objective_value\n",
    "    \n",
    "    # Parse exchange flux samples for imported metabolites\n",
    "    for rxn in riptide.model.boundary:\n",
    "        \n",
    "        # Test for disproportionate effect on objective\n",
    "        flux = min(riptide.flux_samples[rxn.id])\n",
    "        if flux >= -1e-6: continue # Skip exported byproducts or unused reactions\n",
    "        new_bound = flux * 0.01\n",
    "        old_bounds = rxn.bounds\n",
    "        rxn.bounds = (new_bound, new_bound)        \n",
    "        new_objVal = riptide.model.slim_optimize()\n",
    "        rxn.bounds = old_bounds # Reset bounds\n",
    "        if str(new_objVal) == 'nan': new_objVal = baseline * 0.01\n",
    "        \n",
    "        # Calculate the degree of change to objective value\n",
    "        if new_objVal != baseline:\n",
    "            flux_ratio = baseline / new_objVal\n",
    "            adjustment = abs(flux) * flux_ratio\n",
    "        else:\n",
    "            adjustment = 1.\n",
    "       \n",
    "        if flux < -1e-6:\n",
    "        #if min(riptide.flux_samples[rxn.id]) < -1e-6:\n",
    "            #flux = abs(min(riptide.flux_samples[rxn.id]))\n",
    "            metabolite = rxn.reactants[0]\n",
    "            sources[metabolite.id] = {}\n",
    "            \n",
    "            # Multiply elemental components by median flux absolute value\n",
    "            for element in metabolite.elements.keys():\n",
    "                #element_supply = round(float(metabolite.elements[element]) * flux, 3)\n",
    "                element_supply = float(metabolite.elements[element]) * adjustment\n",
    "                element_supply = round(numpy.log2(element_supply), 3)\n",
    "                sources[metabolite.id][element] = element_supply\n",
    "                \n",
    "                # Identify largest sources of carbon and nitrogen\n",
    "                if element == 'C' and element_supply > c_source[1]:\n",
    "                    c_source = [metabolite.id, element_supply]\n",
    "                    sources['C'].append(c_source)\n",
    "                elif element == 'N' and element_supply > n_source[1]:\n",
    "                    n_source = [metabolite.id, element_supply]\n",
    "                    sources['N'].append(n_source)\n",
    "                elif element == 'P' and element_supply > 0.0:\n",
    "                    p_source = [metabolite.id, element_supply]\n",
    "                    sources['P'].append(p_source)\n",
    "                elif element == 'S' and element_supply > 0.0:\n",
    "                    s_source = [metabolite.id, element_supply]\n",
    "                    sources['S'].append(s_source)\n",
    "                    \n",
    "    print('Primary carbon source: ' + riptide.model.metabolites.get_by_id(c_source[0]).name + ' (' + str(c_source[1]) + ')')\n",
    "    print('Primary nitrogen source: ' + riptide.model.metabolites.get_by_id(n_source[0]).name + ' (' + str(n_source[1]) + ')')\n",
    "    print('Primary phosphorus source: ' + riptide.model.metabolites.get_by_id(p_source[0]).name + ' (' + str(p_source[1]) + ')')\n",
    "    print('Primary sulfur source: ' + riptide.model.metabolites.get_by_id(s_source[0]).name + ' (' + str(s_source[1]) + ')')\n",
    "\n",
    "    return sources"
   ]
  },
  {
   "cell_type": "code",
   "execution_count": 9,
   "metadata": {},
   "outputs": [
    {
     "name": "stdout",
     "output_type": "stream",
     "text": [
      "25 possible growth substrates found\n",
      "12 possible byproducts found\n",
      "\n",
      "Primary carbon source: Guanosine (9.21)\n",
      "Primary nitrogen source: Guanosine (8.517)\n",
      "Primary phosphorus source: Phosphate (3.835)\n",
      "Primary sulfur source: L-Cysteine (0.777)\n"
     ]
    }
   ],
   "source": [
    "low_spores_substrates, low_spores_byproducts = find_substrates_and_byproducts_riptide(low_spores_riptide)\n",
    "low_spores_elem_sources = find_element_sources(low_spores_riptide.model)"
   ]
  },
  {
   "cell_type": "code",
   "execution_count": 10,
   "metadata": {},
   "outputs": [
    {
     "name": "stdout",
     "output_type": "stream",
     "text": [
      "25 possible growth substrates found\n",
      "12 possible byproducts found\n",
      "\n",
      "Primary carbon source: Guanosine (9.197)\n",
      "Primary nitrogen source: Guanosine (8.504)\n",
      "Primary phosphorus source: Phosphate (3.595)\n",
      "Primary sulfur source: L-Cysteine (0.538)\n"
     ]
    }
   ],
   "source": [
    "high_spores_substrates, high_spores_byproducts = find_substrates_and_byproducts_riptide(high_spores_riptide)\n",
    "high_spores_elem_sources = find_element_sources(high_spores_riptide.model)"
   ]
  },
  {
   "cell_type": "code",
   "execution_count": 49,
   "metadata": {},
   "outputs": [
    {
     "name": "stdout",
     "output_type": "stream",
     "text": [
      "Shared substrates: 38\n",
      "Low spores only substrates: 0\n",
      "High spores only substrates: 1\n"
     ]
    }
   ],
   "source": [
    "shared_substrates = low_spores_substrates.intersection(high_spores_substrates)\n",
    "low_spores_only_substrates = low_spores_substrates.difference(high_spores_substrates)\n",
    "high_spores_only_substrates = high_spores_substrates.difference(low_spores_substrates)\n",
    "\n",
    "print('Shared substrates: ' + str(len(shared_substrates)))\n",
    "print('Low spores only substrates: ' + str(len(low_spores_only_substrates)))\n",
    "print('High spores only substrates: ' + str(len(high_spores_only_substrates)))"
   ]
  },
  {
   "cell_type": "code",
   "execution_count": 56,
   "metadata": {},
   "outputs": [],
   "source": [
    "high_exchanges = set([x.id for x in high_spores_riptide.model.exchanges])\n",
    "low_exchanges = set([x.id for x in low_spores_riptide.model.exchanges])\n",
    "\n",
    "shared_exchanges = low_exchanges.intersection(high_exchanges)\n",
    "high_exchanges = high_exchanges.difference(shared_exchanges)\n",
    "low_exchanges = low_exchanges.difference(shared_exchanges)"
   ]
  },
  {
   "cell_type": "code",
   "execution_count": 64,
   "metadata": {},
   "outputs": [
    {
     "name": "stdout",
     "output_type": "stream",
     "text": [
      "Reaction\tSubstrate\tLow_spores\tHigh_spores\n",
      "EX_cpd00412_e\tDeoxyuridine\t-221.6781\t-175.0813\n",
      "EX_cpd00099_e\tCl-\t-0.0617\t-0.0487\n",
      "EX_cpd19585_e\t2-Methylbutyrate\t677.5785\t461.6247\n",
      "EX_cpd00084_e\tL-Cysteine\t-1.6588\t-1.3101\n",
      "EX_cpd00063_e\tCa2+\t-0.0617\t-0.0487\n",
      "EX_cpd00104_e\tBiotin\t-0.0617\t-0.0487\n",
      "EX_cpd00069_e\tL-Tyrosine\t-222.3209\t-59.6143\n",
      "EX_cpd00205_e\tK+\t-0.0617\t-0.0487\n",
      "EX_cpd00066_e\tL-Phenylalanine\t-5.4018\t-4.2663\n",
      "EX_cpd00322_e\tL-Isoleucine\t-690.5062\t-471.7901\n",
      "EX_cpd00232_e\tN-Acetyl-Neuraminic acid\t-550.9492\t-59.4171\n",
      "EX_cpd00023_e\tL-Glutamate\t82.3264\t453.842\n",
      "EX_cpd00644_e\tPantothenate\t-0.1295\t-0.1023\n",
      "EX_cpd00207_e\tGuanine\t841.7361\t662.2467\n",
      "EX_cpd00009_e\tPhosphate\t-35.2989\t-27.8791\n",
      "EX_cpd00161_e\tL-Threonine\t-6.1171\t-4.8313\n",
      "EX_cpd00133_e\tNicotinamide\t-0.3083\t-0.2435\n",
      "EX_cpd00567_e\tD-Proline\t-99.3712\t-465.7166\n",
      "EX_cpd00013_e\tAmmonia\t386.9759\t334.8218\n",
      "EX_cpd00311_e\tGuanosine\t-845.1678\t-506.8009\n",
      "EX_cpd00039_e\tL-Lysine\t-29.7716\t-23.5136\n",
      "EX_cpd10515_e\tFe2+\t-0.0617\t-0.0487\n",
      "EX_cpd00054_e\tL-Serine\t-435.9503\t-508.7071\n",
      "EX_cpd00149_e\tCo2+\t-0.0617\t-0.0487\n",
      "EX_cpd00030_e\tMn2+\t-0.0617\t-0.0487\n",
      "EX_cpd00065_e\tL-Tryptophan\t-0.7893\t-0.6234\n",
      "EX_cpd00220_e\tRiboflavin\t-0.0678\t-0.0536\n",
      "EX_cpd00001_e\tH2O\t-217.9982\t19.9943\n",
      "EX_cpd00307_e\tCytosine\t210.3064\t166.0999\n",
      "EX_cpd00254_e\tMg\t-0.0617\t-0.0487\n",
      "EX_cpd00035_e\tL-Alanine\t-43.4487\t-34.3158\n",
      "EX_cpd00060_e\tL-Methionine\t-3.3299\t-2.6299\n",
      "EX_cpd00029_e\tAcetate\t1000.0\t512.5522\n",
      "EX_cpd00107_e\tL-Leucine\t-11.2229\t-83.537\n",
      "EX_cpd00186_e\tD-Glutamate\t-36.9986\t-29.2215\n",
      "EX_cpd03170_e\t4-Hydroxymandelate\t216.7918\t54.8277\n",
      "EX_cpd00393_e\tFolate\t-0.0617\t-0.0487\n",
      "EX_cpd00117_e\tD-Alanine\t-64.7476\t-51.1376\n",
      "EX_cpd00041_e\tL-Aspartate\t-27.0028\t-21.3268\n",
      "EX_cpd00438_e\tDeoxyadenosine\t7.4419\t5.8776\n",
      "EX_cpd00011_e\tCO2\t814.15\t135.7354\n",
      "EX_cpd00051_e\tL-Arginine\t-3.9465\t-3.117\n",
      "EX_cpd00132_e\tL-Asparagine\t-7.9424\t-6.2729\n",
      "EX_cpd00654_e\tDeoxycytidine\t-1.9424\t-1.5341\n",
      "EX_cpd00971_e\tNa+\t-0.0617\t-0.0487\n",
      "EX_cpd00067_e\tH+\t-174.5069\t-325.8059\n",
      "EX_cpd00122_e\tN-Acetyl-D-glucosamine\t787.6285\t498.7811\n",
      "EX_cpd00156_e\tL-Valine\t-8.0904\t-6.3898\n",
      "EX_cpd00263_e\tPyridoxol\t-0.0617\t-0.0487\n",
      "EX_cpd00119_e\tL-Histidine\t-1.6773\t-1.3247\n",
      "EX_cpd05178_e\tIsovalerate\t0\t74.6731\n",
      "EX_cpd00277_e\tDeoxyguanosine\t0\t-2.9183\n",
      "EX_cpd00047_e\tFormate\t263.7019\t0\n",
      "EX_cpd00276_e\tD-Glucosamine\t0.0\t0\n",
      "EX_cpd00492_e\tN-Acetyl-D-mannosamine\t171.865\t0\n"
     ]
    }
   ],
   "source": [
    "print('Reaction\\tSubstrate\\tLow_spores\\tHigh_spores')\n",
    "for x in shared_exchanges:\n",
    "    low_flux = numpy.median(low_spores_riptide.flux_samples[x])\n",
    "    hi_flux = numpy.median(high_spores_riptide.flux_samples[x])\n",
    "    substrate = list(iCdG698.reactions.get_by_id(x).reactants)[0].name\n",
    "    print(x + '\\t' + substrate + '\\t' + str(round(low_flux,4)) + '\\t' + str(round(hi_flux,4)))\n",
    "\n",
    "for x in high_exchanges:\n",
    "    hi_flux = numpy.median(high_spores_riptide.flux_samples[x])\n",
    "    substrate = list(iCdG698.reactions.get_by_id(x).reactants)[0].name\n",
    "    print(x + '\\t' + substrate + '\\t0\\t' + str(round(hi_flux,4)))\n",
    "    \n",
    "for x in low_exchanges:\n",
    "    low_flux = numpy.median(low_spores_riptide.flux_samples[x])\n",
    "    substrate = list(iCdG698.reactions.get_by_id(x).reactants)[0].name\n",
    "    print(x + '\\t' + substrate + '\\t' + str(round(low_flux,4)) + '\\t0')"
   ]
  },
  {
   "cell_type": "code",
   "execution_count": 51,
   "metadata": {},
   "outputs": [
    {
     "name": "stdout",
     "output_type": "stream",
     "text": [
      "Shared byproducts: 10\n",
      "Low spores only byproducts: 2\n",
      "High spores only byproducts: 2\n"
     ]
    }
   ],
   "source": [
    "shared_byproducts = low_spores_byproducts.intersection(high_spores_byproducts)\n",
    "low_spores_only_byproducts = low_spores_byproducts.difference(high_spores_byproducts)\n",
    "high_spores_only_byproducts = high_spores_byproducts.difference(low_spores_byproducts)\n",
    "\n",
    "print('Shared byproducts: ' + str(len(shared_byproducts)))\n",
    "print('Low spores only byproducts: ' + str(len(low_spores_only_byproducts)))\n",
    "print('High spores only byproducts: ' + str(len(high_spores_only_byproducts)))"
   ]
  },
  {
   "cell_type": "code",
   "execution_count": 63,
   "metadata": {},
   "outputs": [
    {
     "name": "stdout",
     "output_type": "stream",
     "text": [
      "substrate Low_spores High_spores\n",
      "CO2 814.0 136.0\n",
      "2-Methylbutyrate 678.0 462.0\n",
      "Cytosine 210.0 166.0\n",
      "Acetate 1000.0 513.0\n",
      "Guanine 842.0 662.0\n",
      "Ammonia 387.0 335.0\n",
      "N-Acetyl-D-glucosamine 788.0 499.0\n",
      "Deoxyadenosine 7.0 6.0\n",
      "4-Hydroxymandelate 217.0 55.0\n",
      "L-Glutamate 82.0 454.0\n"
     ]
    }
   ],
   "source": [
    "print('substrate','Low_spores','High_spores')\n",
    "for x in shared_byproducts:\n",
    "    exchange = 'EX_' + x\n",
    "    low_flux = numpy.median(low_spores_riptide.flux_samples[exchange])\n",
    "    hi_flux = numpy.median(high_spores_riptide.flux_samples[exchange])\n",
    "    print(iCdG698.metabolites.get_by_id(x).name, round(low_flux),round(hi_flux))\n"
   ]
  },
  {
   "cell_type": "code",
   "execution_count": 62,
   "metadata": {},
   "outputs": [
    {
     "name": "stdout",
     "output_type": "stream",
     "text": [
      "Shared:\n",
      "cpd00011_e CO2 814.15 135.735\n",
      "cpd19585_e 2-Methylbutyrate 677.579 461.625\n",
      "cpd00307_e Cytosine 210.306 166.1\n",
      "cpd00029_e Acetate 1000.0 512.552\n",
      "cpd00207_e Guanine 841.736 662.247\n",
      "cpd00013_e Ammonia 386.976 334.822\n",
      "cpd00122_e N-Acetyl-D-glucosamine 787.628 498.781\n",
      "cpd00438_e Deoxyadenosine 7.442 5.878\n",
      "cpd03170_e 4-Hydroxymandelate 216.792 54.828\n",
      "cpd00023_e L-Glutamate 82.326 453.842\n",
      "\n",
      "Low only:\n",
      "cpd00047_e Formate 263.702\n",
      "cpd00492_e N-Acetyl-D-mannosamine 171.865\n",
      "\n",
      "High only:\n",
      "cpd00001_e H2O 19.994\n",
      "cpd05178_e Isovalerate 74.673\n"
     ]
    }
   ],
   "source": [
    "print('Shared:')\n",
    "for x in shared_byproducts:\n",
    "    exchange = 'EX_' + x\n",
    "    low_flux = round(numpy.median(low_spores_riptide.flux_samples[exchange]), 3)\n",
    "    hi_flux = round(numpy.median(high_spores_riptide.flux_samples[exchange]), 3)\n",
    "    print(x, iCdG698.metabolites.get_by_id(x).name, low_flux, hi_flux)\n",
    "\n",
    "print('\\nLow only:')\n",
    "for x in low_spores_only_byproducts:\n",
    "    exchange = 'EX_' + x\n",
    "    flux = round(numpy.median(low_spores_riptide.flux_samples[exchange]), 3)\n",
    "    print(x, iCdG698.metabolites.get_by_id(x).name, flux)\n",
    "    \n",
    "print('\\nHigh only:')\n",
    "for x in high_spores_only_byproducts:\n",
    "    exchange = 'EX_' + x\n",
    "    flux = round(numpy.median(high_spores_riptide.flux_samples[exchange]), 3)\n",
    "    print(x, iCdG698.metabolites.get_by_id(x).name, flux)"
   ]
  },
  {
   "cell_type": "code",
   "execution_count": null,
   "metadata": {},
   "outputs": [],
   "source": []
  }
 ],
 "metadata": {
  "kernelspec": {
   "display_name": "Python 3",
   "language": "python",
   "name": "python3"
  },
  "language_info": {
   "codemirror_mode": {
    "name": "ipython",
    "version": 3
   },
   "file_extension": ".py",
   "mimetype": "text/x-python",
   "name": "python",
   "nbconvert_exporter": "python",
   "pygments_lexer": "ipython3",
   "version": "3.7.5"
  }
 },
 "nbformat": 4,
 "nbformat_minor": 2
}
