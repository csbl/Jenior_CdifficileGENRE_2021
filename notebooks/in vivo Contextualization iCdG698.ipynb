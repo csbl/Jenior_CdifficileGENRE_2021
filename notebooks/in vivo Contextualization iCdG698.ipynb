{
 "cells": [
  {
   "cell_type": "code",
   "execution_count": 4,
   "metadata": {},
   "outputs": [],
   "source": [
    "from riptide import *\n",
    "iCdG698 = cobra.io.load_json_model('/home/mjenior/Desktop/repos/Jenior_Cdifficile_2019/data/reconstructions/iCdG698.json')"
   ]
  },
  {
   "cell_type": "markdown",
   "metadata": {},
   "source": [
    "### Setting Extracellular Conditions"
   ]
  },
  {
   "cell_type": "code",
   "execution_count": 5,
   "metadata": {},
   "outputs": [],
   "source": [
    "# in vivo media analog\n",
    "\n",
    "cecal_exchanges = ['EX_cpd01030_e','EX_cpd00276_e','EX_cpd00082_e','EX_cpd00080_e','EX_cpd00001_e',\n",
    "                   'EX_cpd00023_e','EX_cpd00971_e','EX_cpd00314_e','EX_cpd00797_e','EX_cpd00051_e',\n",
    "                   'EX_cpd00064_e','EX_cpd10515_e','EX_cpd00179_e','EX_cpd00009_e','EX_cpd00060_e',\n",
    "                   'EX_cpd00076_e','EX_cpd01171_e','EX_cpd00067_e','EX_cpd00154_e','EX_cpd00637_e',\n",
    "                   'EX_cpd00122_e','EX_cpd00035_e','EX_cpd00309_e','EX_cpd00220_e','EX_cpd00588_e',\n",
    "                   'EX_cpd00117_e','EX_cpd00307_e','EX_cpd00254_e','EX_cpd00205_e','EX_cpd00138_e',\n",
    "                   'EX_cpd00305_e','EX_cpd01242_e','EX_cpd03048_e','EX_cpd00065_e','EX_cpd00149_e',\n",
    "                   'EX_cpd00099_e','EX_cpd00162_e','EX_cpd00395_e','EX_cpd00027_e','EX_cpd00794_e',\n",
    "                   'EX_cpd00105_e','EX_cpd00226_e','EX_cpd00104_e','EX_cpd00092_e','EX_cpd00208_e',\n",
    "                   'EX_cpd00158_e','EX_cpd00011_e','EX_cpd00063_e','EX_cpd01080_e','EX_cpd00156_e',\n",
    "                   'EX_cpd00039_e','EX_cpd00393_e','EX_cpd00264_e','EX_cpd00322_e','EX_cpd00030_e',\n",
    "                   'EX_cpd00516_e','EX_cpd00084_e','EX_cpd00644_e','EX_cpd00263_e','EX_cpd00232_e',\n",
    "                   'EX_cpd00492_e','EX_cpd00751_e','EX_cpd05161_e','EX_cpd00107_e','EX_cpd00069_e',\n",
    "                   'EX_cpd00066_e','EX_cpd00129_e','EX_cpd00567_e','EX_cpd29317_e','EX_cpd00033_e',\n",
    "                   'EX_cpd00119_e','EX_cpd00132_e','EX_cpd00054_e','EX_cpd00161_e','EX_cpd00053_e',\n",
    "                   'EX_cpd00041_e','EX_cpd05178_e','EX_cpd01711_e','EX_cpd19585_e','EX_cpd00489_e',\n",
    "                   'EX_cpd01042_e','EX_cpd00430_e','EX_cpd00339_e','EX_C21399_e','EX_cpd03343_e',\n",
    "                   'EX_cpd03170_e','EX_cpd00036_e','EX_cpd00211_e','EX_cpd00029_e','EX_cpd00159_e',\n",
    "                   'EX_cpd00221_e','EX_cpd00141_e','EX_cpd00013_e','EX_cpd00242_e','EX_cpd00133_e',\n",
    "                   'EX_cpd00443_e','EX_cpd00210_e','EX_cpd00320_e','EX_cpd02711_e','EX_cpd01553_e',\n",
    "                   'EX_cpd00589_e','EX_cpd27607_e','EX_cpd00072_e','EX_cpd00089_e','EX_cpd00079_e',\n",
    "                   'EX_cpd00108_e','EX_cpd00136_e','EX_cpd03561_e','EX_cpd00106_e','EX_cpd00142_e',\n",
    "                   'EX_cpd00383_e','EX_cpd00047_e','EX_cpd00139_e','EX_cpd00281_e','EX_cpd00165_e',\n",
    "                   'EX_cpd03279_e','EX_cpd00246_e','EX_cpd00311_e','EX_cpd00367_e','EX_cpd00277_e',\n",
    "                   'EX_cpd00182_e','EX_cpd00654_e','EX_cpd00412_e','EX_cpd00438_e','EX_cpd00274_e',\n",
    "                   'EX_cpd00186_e','EX_cpd00424_e','EX_cpd00504_e','EX_cpd00207_e']\n",
    "\n",
    "cecal_exchanges = set(cecal_exchanges)\n",
    "for rxn in iCdG698.boundary: \n",
    "    if rxn.id in cecal_exchanges:\n",
    "        rxn.bounds = (-1000., 1000.)\n",
    "    else:\n",
    "        rxn.bounds = (0., 1000.)\n"
   ]
  },
  {
   "cell_type": "code",
   "execution_count": 6,
   "metadata": {},
   "outputs": [
    {
     "name": "stdout",
     "output_type": "stream",
     "text": [
      "Doubling time in \"in vivo\" media: 21.94 minutes\n"
     ]
    }
   ],
   "source": [
    "doubling = round((1.0 / iCdG698.slim_optimize()) * 3200.0, 2)\n",
    "print('Doubling time in \\\"in vivo\\\" media: ' + str(doubling) + ' minutes')"
   ]
  },
  {
   "cell_type": "markdown",
   "metadata": {},
   "source": [
    "### RIPTiDe *in vivo* Contextualization"
   ]
  },
  {
   "cell_type": "code",
   "execution_count": 7,
   "metadata": {},
   "outputs": [],
   "source": [
    "# Read in in vivo C. difficile transcription\n",
    "low_toxin = riptide.read_transcription_file('/home/mjenior/Desktop/repos/Jenior_Cdifficile_2019/data/transcript/jenior_etal/cefoperazone.format.tsv', \n",
    "                                               header=True)\n",
    "med_toxin = riptide.read_transcription_file('/home/mjenior/Desktop/repos/Jenior_Cdifficile_2019/data/transcript/jenior_etal/clindamycin.format.tsv', \n",
    "                                              header=True)"
   ]
  },
  {
   "cell_type": "code",
   "execution_count": 8,
   "metadata": {},
   "outputs": [
    {
     "name": "stdout",
     "output_type": "stream",
     "text": [
      "\n",
      "Initializing model and integrating transcriptomic data...\n",
      "Pruning zero flux subnetworks...\n",
      "Analyzing context-specific flux distributions...\n",
      "\n",
      "Reactions pruned to 310 from 1320 (76.52% change)\n",
      "Metabolites pruned to 307 from 1243 (75.3% change)\n",
      "Flux through the objective DECREASED to ~120.02 from ~145.86 (17.72% change)\n",
      "Context-specific metabolism does not correlate with transcriptome (r=0.087, n.s.)\n",
      "\n",
      "RIPTiDe completed in 17 seconds\n",
      "\n"
     ]
    }
   ],
   "source": [
    "low_tox_riptide = riptide.contextualize(model=iCdG698, transcriptome=low_toxin)"
   ]
  },
  {
   "cell_type": "code",
   "execution_count": 9,
   "metadata": {},
   "outputs": [
    {
     "name": "stdout",
     "output_type": "stream",
     "text": [
      "\n",
      "Initializing model and integrating transcriptomic data...\n",
      "Pruning zero flux subnetworks...\n",
      "Analyzing context-specific flux distributions...\n",
      "\n",
      "Reactions pruned to 302 from 1320 (77.12% change)\n",
      "Metabolites pruned to 301 from 1243 (75.78% change)\n",
      "Flux through the objective DECREASED to ~125.1 from ~145.86 (14.23% change)\n",
      "Context-specific metabolism correlates with transcriptome (r=0.138, p=0.016 *)\n",
      "\n",
      "RIPTiDe completed in 21 seconds\n",
      "\n"
     ]
    }
   ],
   "source": [
    "med_tox_riptide = riptide.contextualize(model=iCdG698, transcriptome=med_toxin)"
   ]
  },
  {
   "cell_type": "code",
   "execution_count": 10,
   "metadata": {},
   "outputs": [
    {
     "name": "stdout",
     "output_type": "stream",
     "text": [
      "WARNING: Output path already exists, overwriting previous files\n",
      "WARNING: Output path already exists, overwriting previous files\n"
     ]
    }
   ],
   "source": [
    "# Write results to files\n",
    "riptide.save_output(riptide_obj=low_tox_riptide, path='/home/mjenior/Desktop/repos/Jenior_Cdifficile_2019/data/contextualized_iCdG693/riptide_low_tox')\n",
    "riptide.save_output(riptide_obj=med_tox_riptide, path='/home/mjenior/Desktop/repos/Jenior_Cdifficile_2019/data/contextualized_iCdG693/riptide_med_tox')"
   ]
  },
  {
   "cell_type": "markdown",
   "metadata": {},
   "source": [
    "### Growth Rate"
   ]
  },
  {
   "cell_type": "code",
   "execution_count": 11,
   "metadata": {},
   "outputs": [
    {
     "name": "stdout",
     "output_type": "stream",
     "text": [
      "Low toxin doubling time: 26.66 minutes\n",
      "Medium toxin doubling time: 25.58 minutes\n"
     ]
    }
   ],
   "source": [
    "doubling = round((1.0 / low_tox_riptide.model.slim_optimize()) * 3200.0, 2)\n",
    "print('Low toxin doubling time: ' + str(doubling) + ' minutes')\n",
    "\n",
    "doubling = round((1.0 / med_tox_riptide.model.slim_optimize()) * 3200.0, 2)\n",
    "print('Medium toxin doubling time: ' + str(doubling) + ' minutes')"
   ]
  },
  {
   "cell_type": "code",
   "execution_count": 12,
   "metadata": {},
   "outputs": [
    {
     "data": {
      "text/plain": [
       "WilcoxonResult(statistic=22015.0, pvalue=2.2990674383286164e-36)"
      ]
     },
     "execution_count": 12,
     "metadata": {},
     "output_type": "execute_result"
    }
   ],
   "source": [
    "import scipy\n",
    "scipy.stats.wilcoxon(x=list(low_tox_riptide.flux_samples['biomass']), y=list(med_tox_riptide.flux_samples['biomass']))"
   ]
  },
  {
   "cell_type": "markdown",
   "metadata": {},
   "source": [
    "### Context-specific Gene Essentiality"
   ]
  },
  {
   "cell_type": "code",
   "execution_count": 13,
   "metadata": {},
   "outputs": [],
   "source": [
    "import copy\n",
    "from cobra.flux_analysis.variability import find_essential_genes\n",
    "\n",
    "def essential_genes(genre, media=None, optimum_fraction=0.01):\n",
    "    model = copy.deepcopy(genre)\n",
    "    \n",
    "    # Change media conditions if necessary\n",
    "    if media is not None:\n",
    "        exchanges = ['EX_' + x for x in media]\n",
    "        for rxn in model.reactions:\n",
    "            if len(list(rxn.products)) == 0:\n",
    "                if rxn.id in exchanges:\n",
    "                    model.reactions.get_by_id(rxn.id).lower_bound = max([-1000.0,model.reactions.get_by_id(rxn.id).lower_bound])\n",
    "                else:\n",
    "                    model.reactions.get_by_id(rxn.id).lower_bound = 0.0\n",
    "    \n",
    "    # Find essential genes\n",
    "    essential_genes = find_essential_genes(model, threshold=optimum_fraction)\n",
    "    \n",
    "    return essential_genes\n",
    "                "
   ]
  },
  {
   "cell_type": "code",
   "execution_count": 14,
   "metadata": {},
   "outputs": [
    {
     "name": "stdout",
     "output_type": "stream",
     "text": [
      "Uncontextualized essential genes: 59\n"
     ]
    }
   ],
   "source": [
    "# Unconstrained base model\n",
    "base_essential = essential_genes(iCdG698)\n",
    "base_essential_genes = set([x.id for x in base_essential])\n",
    "print('Uncontextualized essential genes: ' + str(len(base_essential_genes)))"
   ]
  },
  {
   "cell_type": "code",
   "execution_count": 15,
   "metadata": {},
   "outputs": [
    {
     "name": "stdout",
     "output_type": "stream",
     "text": [
      "Low toxin essential genes: 26\n"
     ]
    }
   ],
   "source": [
    "low_tox_essential_genes = essential_genes(low_tox_riptide.model)\n",
    "low_tox_essential_genes = set([x.id for x in low_tox_essential_genes]).difference(base_essential_genes)\n",
    "print('Low toxin essential genes: ' + str(len(low_tox_essential_genes)))"
   ]
  },
  {
   "cell_type": "code",
   "execution_count": 16,
   "metadata": {},
   "outputs": [
    {
     "name": "stdout",
     "output_type": "stream",
     "text": [
      "Medium toxin essential genes: 32\n"
     ]
    }
   ],
   "source": [
    "med_tox_essential_genes = essential_genes(med_tox_riptide.model)\n",
    "med_tox_essential_genes = set([x.id for x in med_tox_essential_genes]).difference(base_essential_genes)\n",
    "print('Medium toxin essential genes: ' + str(len(med_tox_essential_genes)))"
   ]
  },
  {
   "cell_type": "code",
   "execution_count": 18,
   "metadata": {},
   "outputs": [
    {
     "name": "stdout",
     "output_type": "stream",
     "text": [
      "in vivo shared:  24\n"
     ]
    }
   ],
   "source": [
    "invivo_essential_genes = low_tox_essential_genes.intersection(med_tox_essential_genes)\n",
    "print('in vivo shared: ', len(invivo_essential_genes))"
   ]
  },
  {
   "cell_type": "code",
   "execution_count": 42,
   "metadata": {},
   "outputs": [
    {
     "name": "stdout",
     "output_type": "stream",
     "text": [
      "Low toxin only: 2\n",
      "Medium toxin only: 8\n"
     ]
    }
   ],
   "source": [
    "low_tox_only_essential_genes = low_tox_essential_genes.difference(med_tox_essential_genes)\n",
    "med_tox_only_essential_genes = med_tox_essential_genes.difference(low_tox_essential_genes)\n",
    "\n",
    "print('Low toxin only: ' + str(len(low_tox_only_essential_genes)))\n",
    "print('Medium toxin only: ' + str(len(med_tox_only_essential_genes)))"
   ]
  },
  {
   "cell_type": "code",
   "execution_count": 43,
   "metadata": {},
   "outputs": [
    {
     "name": "stdout",
     "output_type": "stream",
     "text": [
      "Low toxin only:\n",
      "Pyrroline-5-carboxylate reductase (EC 1.5.1.2)\n",
      "2-dehydro-3-deoxyphosphogluconate aldolase (EC 4.1.2.14)\n",
      "\n",
      "Medium toxin only:\n",
      "N-acetylneuraminate lyase (EC 4.1.3.3)\n",
      "alanine transaminase (EC 2.6.1.2)\n",
      "Glutamate synthase [NADPH] large chain (EC 1.4.1.13)\n",
      "PTS system, glucitol/sorbitol-specific IIC component (EC 2.7.1.69)\n",
      "phosphoribosylglycinamide formyltransferase (EC 2.1.2.2)\n",
      "PTS system, glucitol/sorbitol-specific IIB component (EC 2.7.1.198) / PTS system, glucitol/sorbitol-specific IIC component 2 | srlE_2\n",
      "5,10-methylenetetrahydrofolate reductase (EC 1.5.1.20)\n",
      "Glycine cleavage system H protein\n"
     ]
    }
   ],
   "source": [
    "print('Low toxin only:')\n",
    "for gene in low_tox_only_essential_genes:\n",
    "    print(iCdG693.genes.get_by_id(gene).name)\n",
    "    \n",
    "print('\\nMedium toxin only:')\n",
    "for gene in med_tox_only_essential_genes:\n",
    "    print(iCdG693.genes.get_by_id(gene).name)"
   ]
  },
  {
   "cell_type": "code",
   "execution_count": 19,
   "metadata": {},
   "outputs": [
    {
     "ename": "TypeError",
     "evalue": "sequence item 0: expected str instance, Gene found",
     "output_type": "error",
     "traceback": [
      "\u001b[0;31m---------------------------------------------------------------------------\u001b[0m",
      "\u001b[0;31mTypeError\u001b[0m                                 Traceback (most recent call last)",
      "\u001b[0;32m<ipython-input-19-e3a33a363553>\u001b[0m in \u001b[0;36m<module>\u001b[0;34m\u001b[0m\n\u001b[1;32m      1\u001b[0m \u001b[0;31m# Save results to a table\u001b[0m\u001b[0;34m\u001b[0m\u001b[0;34m\u001b[0m\u001b[0;34m\u001b[0m\u001b[0m\n\u001b[1;32m      2\u001b[0m \u001b[0;32mwith\u001b[0m \u001b[0mopen\u001b[0m\u001b[0;34m(\u001b[0m\u001b[0;34m'/home/mjenior/Desktop/repos/Jenior_Cdifficile_2019/results/invivo_essentiality.tsv'\u001b[0m\u001b[0;34m,\u001b[0m\u001b[0;34m'w'\u001b[0m\u001b[0;34m)\u001b[0m \u001b[0;32mas\u001b[0m \u001b[0moutfile\u001b[0m\u001b[0;34m:\u001b[0m\u001b[0;34m\u001b[0m\u001b[0;34m\u001b[0m\u001b[0m\n\u001b[0;32m----> 3\u001b[0;31m     \u001b[0mentry\u001b[0m \u001b[0;34m=\u001b[0m \u001b[0;34m'base\\t'\u001b[0m \u001b[0;34m+\u001b[0m \u001b[0;34m'\\t'\u001b[0m\u001b[0;34m.\u001b[0m\u001b[0mjoin\u001b[0m\u001b[0;34m(\u001b[0m\u001b[0mbase_essential\u001b[0m\u001b[0;34m)\u001b[0m \u001b[0;34m+\u001b[0m \u001b[0;34m'\\n'\u001b[0m\u001b[0;34m\u001b[0m\u001b[0;34m\u001b[0m\u001b[0m\n\u001b[0m\u001b[1;32m      4\u001b[0m     \u001b[0moutfile\u001b[0m\u001b[0;34m.\u001b[0m\u001b[0mwrite\u001b[0m\u001b[0;34m(\u001b[0m\u001b[0mentry\u001b[0m\u001b[0;34m)\u001b[0m\u001b[0;34m\u001b[0m\u001b[0;34m\u001b[0m\u001b[0m\n\u001b[1;32m      5\u001b[0m     \u001b[0mentry\u001b[0m \u001b[0;34m=\u001b[0m \u001b[0;34m'in_vivo\\t'\u001b[0m \u001b[0;34m+\u001b[0m \u001b[0;34m'\\t'\u001b[0m\u001b[0;34m.\u001b[0m\u001b[0mjoin\u001b[0m\u001b[0;34m(\u001b[0m\u001b[0minvivo_essential_genes\u001b[0m\u001b[0;34m)\u001b[0m \u001b[0;34m+\u001b[0m \u001b[0;34m'\\n'\u001b[0m\u001b[0;34m\u001b[0m\u001b[0;34m\u001b[0m\u001b[0m\n",
      "\u001b[0;31mTypeError\u001b[0m: sequence item 0: expected str instance, Gene found"
     ]
    }
   ],
   "source": [
    "# Save results to a table\n",
    "with open('/home/mjenior/Desktop/repos/Jenior_Cdifficile_2019/results/invivo_essentiality.tsv','w') as outfile:\n",
    "    entry = 'base\\t' + '\\t'.join(base_essential) + '\\n'\n",
    "    outfile.write(entry)\n",
    "    entry = 'in_vivo\\t' + '\\t'.join(invivo_essential_genes) + '\\n'\n",
    "    outfile.write(entry)\n",
    "    entry = 'low_sporulation\\t' + '\\t'.join(low_tox_only_essential_genes) + '\\n'\n",
    "    outfile.write(entry)\n",
    "    entry = 'high_sporulation\\t' + '\\t'.join(med_tox_only_essential_genes) + '\\n'\n",
    "    outfile.write(entry)\n"
   ]
  },
  {
   "cell_type": "markdown",
   "metadata": {},
   "source": [
    "### Context-specific Substrate Importance"
   ]
  },
  {
   "cell_type": "code",
   "execution_count": 44,
   "metadata": {},
   "outputs": [],
   "source": [
    "import pandas\n",
    "from cobra.medium import minimal_medium\n",
    "\n",
    "# Non-exhaustive\n",
    "def find_essential_metabolites(model, fraction=0.01):\n",
    "\n",
    "    min_growth = model.slim_optimize() * fraction\n",
    "    ser = minimal_medium(model, min_objective_value=min_growth, minimize_components=True)\n",
    "\n",
    "    rxns = list(ser.index)\n",
    "    fluxes = list(ser.values)\n",
    "    cpds = []\n",
    "    for x in rxns: cpds.append(model.reactions.get_by_id(x).reactants[0].name)        \n",
    "    \n",
    "    media = {'Reaction': rxns, 'Substrate': cpds, 'Units': fluxes}    \n",
    "    media = pandas.DataFrame(media)\n",
    "    print('Minimal media components: ' + str(len(media.index)))\n",
    "    \n",
    "    return(media)\n"
   ]
  },
  {
   "cell_type": "code",
   "execution_count": 45,
   "metadata": {},
   "outputs": [
    {
     "name": "stdout",
     "output_type": "stream",
     "text": [
      "Minimal media components: 45\n"
     ]
    }
   ],
   "source": [
    "low_tox_min_media = find_essential_metabolites(low_tox_riptide.model)"
   ]
  },
  {
   "cell_type": "code",
   "execution_count": 46,
   "metadata": {},
   "outputs": [
    {
     "name": "stdout",
     "output_type": "stream",
     "text": [
      "Minimal media components: 45\n"
     ]
    }
   ],
   "source": [
    "med_tox_min_media = find_essential_metabolites(med_tox_riptide.model)"
   ]
  },
  {
   "cell_type": "code",
   "execution_count": 47,
   "metadata": {},
   "outputs": [
    {
     "name": "stdout",
     "output_type": "stream",
     "text": [
      "Shared: 39\n",
      "\n",
      "Low toxin only: 6\n",
      "Medium toxin only: 6\n"
     ]
    }
   ],
   "source": [
    "low_tox_substrates = set(low_tox_min_media['Substrate'])\n",
    "med_tox_substrates = set(med_tox_min_media['Substrate'])\n",
    "\n",
    "shared_substrates = low_tox_substrates.intersection(med_tox_substrates)\n",
    "low_tox_only_substrates = low_tox_substrates.difference(med_tox_substrates)\n",
    "med_tox_only_substrates = med_tox_substrates.difference(low_tox_substrates)\n",
    "\n",
    "print('Shared: ' + str(len(shared_substrates)) + '\\n')\n",
    "print('Low toxin only: ' + str(len(low_tox_only_substrates)))\n",
    "print('Medium toxin only: ' + str(len(med_tox_only_substrates)))"
   ]
  },
  {
   "cell_type": "code",
   "execution_count": 48,
   "metadata": {},
   "outputs": [
    {
     "name": "stdout",
     "output_type": "stream",
     "text": [
      "Shared components:\n",
      "Succinate\n",
      "Pyridoxol\n",
      "L-Histidine\n",
      "L-Cysteine\n",
      "Nicotinamide\n",
      "Na+\n",
      "4-Aminobenzoate\n",
      "D-Glutamate\n",
      "L-Alanine\n",
      "L-Tryptophan\n",
      "Thiamin\n",
      "Fe2+\n",
      "Folate\n",
      "Octadecanoic acid\n",
      "L-Valine\n",
      "Mg\n",
      "Ca2+\n",
      "Sucrose\n",
      "L-Asparagine\n",
      "D-Alanine\n",
      "Riboflavin\n",
      "L-Lysine\n",
      "meso-2,6-Diaminopimelate\n",
      "K+\n",
      "Deoxyuridine\n",
      "Cl-\n",
      "Co2+\n",
      "L-Phenylalanine\n",
      "Pantothenate\n",
      "L-Threonine\n",
      "Mn2+\n",
      "D-Proline\n",
      "L-Arginine\n",
      "L-Isoleucine\n",
      "Guanosine\n",
      "Deoxycytidine\n",
      "L-Leucine\n",
      "2-keto-3-deoxygluconate\n",
      "Biotin\n"
     ]
    }
   ],
   "source": [
    "print('Shared components:')\n",
    "for x in shared_substrates: print(x)"
   ]
  },
  {
   "cell_type": "code",
   "execution_count": 49,
   "metadata": {},
   "outputs": [
    {
     "name": "stdout",
     "output_type": "stream",
     "text": [
      "Low toxin only:\n",
      "Adenosine\n",
      "Glycolate\n",
      "4-Hydroxybenzoate\n",
      "Deoxyguanosine\n",
      "L-Aspartate\n",
      "L-Methionine\n",
      "\n",
      "Medium toxin only:\n",
      "N-Acetyl-Neuraminic acid\n",
      "L-Serine\n",
      "D-fructose-6-phosphate\n",
      "Cystathionine\n",
      "L-Glutamate\n",
      "4-Hydroxymandelate\n"
     ]
    }
   ],
   "source": [
    "print('Low toxin only:')\n",
    "for x in low_tox_only_substrates: print(x)\n",
    "\n",
    "print('\\nMedium toxin only:')\n",
    "for y in med_tox_only_substrates: print(y)"
   ]
  },
  {
   "cell_type": "markdown",
   "metadata": {},
   "source": [
    "###  Context-specific Topological Differences"
   ]
  },
  {
   "cell_type": "code",
   "execution_count": 50,
   "metadata": {},
   "outputs": [
    {
     "name": "stdout",
     "output_type": "stream",
     "text": [
      "Shared: 290\n",
      "\n",
      "Low toxin only: 20\n",
      "Medium toxin only: 12\n"
     ]
    }
   ],
   "source": [
    "# Shared topology - reactions\n",
    "low_tox_rxns = set([x.id for x in low_tox_riptide.model.reactions])\n",
    "med_tox_rxns = set([x.id for x in med_tox_riptide.model.reactions])\n",
    "\n",
    "shared_rxns = low_tox_rxns.intersection(med_tox_rxns)\n",
    "low_tox_only_rxns = low_tox_rxns.difference(med_tox_rxns)\n",
    "med_tox_only_rxns = med_tox_rxns.difference(low_tox_rxns)\n",
    "\n",
    "print('Shared: ' + str(len(shared_rxns)) + '\\n')\n",
    "print('Low toxin only: ' + str(len(low_tox_only_rxns)))\n",
    "print('Medium toxin only: ' + str(len(med_tox_only_rxns)))"
   ]
  },
  {
   "cell_type": "code",
   "execution_count": 51,
   "metadata": {},
   "outputs": [
    {
     "name": "stdout",
     "output_type": "stream",
     "text": [
      "Low toxin only:\n",
      "rxn00504_c\t(S)-1-pyrroline-5-carboxylate:NADP+ oxidoreductase\n",
      "rxn08657_c\tGlycolate oxidase\n",
      "rxn01952_c\tN-Acetylmannosamine phosphotransferase\n",
      "rxn30075_c\tGlutamate dehydrogenase (NAD)\n",
      "rxn05219_c\tnonpolar-amino-acid-transporting ATPase\n",
      "rxn01859_c\tDeoxyadenosine:orthophosphate ribosyltransferase\n",
      "rxn00931_c\tL-Proline:NADP+ 5-oxidoreductase\n",
      "rxn01506_c\tN-Acetyl-D-glucosamine 6-phosphate 2-epimerase\n",
      "rxn05470_c\tglycolate transport via proton symport, reversible\n",
      "EX_cpd00060_e\tL-Methionine exchange\n",
      "rxn08976_c\tquinone reductase\n",
      "EX_cpd00139_e\tGlycolate exchange\n",
      "rxn01366_c\tUridine:phosphate alpha-D-ribosyltransferase\n",
      "rxn05317_c\tTransport of deoxyadenosine, extracellular\n",
      "rxn05551_c\tethanolamine transport in/out via proton symport\n",
      "EX_cpd00438_e\tDeoxyadenosine exchange\n",
      "rxn00539_c\tethanolamine ammonia-lyase (acetaldehyde-forming)\n",
      "rxn01368_c\tCytidine aminohydrolase\n",
      "rxn00272_c\tL-Alanine:glyoxylate aminotransferase\n",
      "EX_cpd00162_e\tAminoethanol exchange\n",
      "\n",
      "Medium toxin only:\n",
      "EX_cpd00424_e\tCystathionine exchange\n",
      "rxn05203_c\tGuanine symport\n",
      "EX_cpd00023_e\tL-Glutamate exchange\n",
      "EX_cpd00207_e\tGuanine exchange\n",
      "rxn04954_c\t5-methyltetrahydrofolate:NAD+ oxidoreductase\n",
      "rxn05298_c\tNa+/glutamate symport\n",
      "rxn10398_c\tcystathione diffusion\n",
      "rxn00693_c\t5-Methyltetrahydrofolate:L-homocysteine S-methyltransferase\n",
      "rxn01446_c\tDeoxyguanosine:orthophosphate ribosyltransferase\n",
      "rxn00950_c\tCystathionine L-homocysteine-lyase (deaminating)\n",
      "rxn00412_c\tUTP:L-glutamine amido-ligase (ADP-forming)\n",
      "rxn01548_c\tguanosine:phosphate alpha-D-ribosyltransferase\n"
     ]
    }
   ],
   "source": [
    "print('Low toxin only:')\n",
    "for x in low_tox_only_rxns:\n",
    "    print(x + '\\t' + iCdG693.reactions.get_by_id(x).name)\n",
    "\n",
    "print('\\nMedium toxin only:')\n",
    "for y in med_tox_only_rxns:\n",
    "    print(y + '\\t' + iCdG693.reactions.get_by_id(y).name)"
   ]
  },
  {
   "cell_type": "code",
   "execution_count": 52,
   "metadata": {},
   "outputs": [
    {
     "name": "stdout",
     "output_type": "stream",
     "text": [
      "Shared: 294\n",
      "\n",
      "Low toxin only: 13\n",
      "Medium toxin only: 7\n"
     ]
    }
   ],
   "source": [
    "# Shared topology - metabolites\n",
    "low_tox_cpds = set([x.id for x in low_tox_riptide.model.metabolites])\n",
    "med_tox_cpds = set([x.id for x in med_tox_riptide.model.metabolites])\n",
    "\n",
    "shared_cpds = low_tox_cpds.intersection(med_tox_cpds)\n",
    "low_tox_only_cpds = low_tox_cpds.difference(med_tox_cpds)\n",
    "med_tox_only_cpds = med_tox_cpds.difference(low_tox_cpds)\n",
    "\n",
    "print('Shared: ' + str(len(shared_cpds)) + '\\n')\n",
    "print('Low toxin only: ' + str(len(low_tox_only_cpds)))\n",
    "print('Medium toxin only: ' + str(len(med_tox_only_cpds)))\n"
   ]
  },
  {
   "cell_type": "code",
   "execution_count": 53,
   "metadata": {},
   "outputs": [
    {
     "name": "stdout",
     "output_type": "stream",
     "text": [
      "Low toxin only:\n",
      "cpd02612_c\tN-Acetylmannosamine 6-phosphate\n",
      "cpd00438_e\tDeoxyadenosine\n",
      "cpd00060_e\tL-Methionine\n",
      "cpd00040_c\tGlyoxalate\n",
      "cpd00249_c\tUridine\n",
      "cpd15353_c\t2-Demethylmenaquinol 8\n",
      "cpd00139_e\tGlycolate\n",
      "cpd02431_c\t1-Pyrroline-5-carboxylate\n",
      "cpd00139_c\tGlycolate\n",
      "cpd00162_e\tAminoethanol\n",
      "cpd15352_c\t2-Demethylmenaquinone 8\n",
      "cpd00162_c\tAminoethanol\n",
      "cpd00438_c\tDeoxyadenosine\n",
      "\n",
      "Medium toxin only:\n",
      "cpd00424_c\tCystathionine\n",
      "cpd00023_e\tL-Glutamate\n",
      "cpd00135_c\tHomocysteine\n",
      "cpd00424_e\tCystathionine\n",
      "cpd00207_c\tGuanine\n",
      "cpd00345_c\t5-Methyltetrahydrofolate\n",
      "cpd00207_e\tGuanine\n"
     ]
    }
   ],
   "source": [
    "print('Low toxin only:')\n",
    "for x in low_tox_only_cpds:\n",
    "    print(x + '\\t' + iCdG693.metabolites.get_by_id(x).name)\n",
    "\n",
    "print('\\nMedium toxin only:')\n",
    "for y in med_tox_only_cpds:\n",
    "    print(y + '\\t' + iCdG693.metabolites.get_by_id(y).name)\n"
   ]
  },
  {
   "cell_type": "markdown",
   "metadata": {},
   "source": [
    "### Reaction essentiality"
   ]
  },
  {
   "cell_type": "code",
   "execution_count": 54,
   "metadata": {},
   "outputs": [],
   "source": [
    "import copy\n",
    "from cobra.flux_analysis.variability import find_essential_reactions\n",
    "\n",
    "def essential_reactions(genre, media=None, optimum_fraction=0.01):\n",
    "    model = copy.deepcopy(genre)\n",
    "    \n",
    "    # Change media conditions if necessary\n",
    "    if media is not None:\n",
    "        exchanges = ['EX_' + x for x in media]\n",
    "        for rxn in model.reactions:\n",
    "            if len(list(rxn.products)) == 0:\n",
    "                if rxn.id in exchanges:\n",
    "                    model.reactions.get_by_id(rxn.id).lower_bound = max([-1000.0,model.reactions.get_by_id(rxn.id).lower_bound])\n",
    "                else:\n",
    "                    model.reactions.get_by_id(rxn.id).lower_bound = 0.0\n",
    "    \n",
    "    # Find essential genes\n",
    "    essential_reactions = find_essential_reactions(model, threshold=optimum_fraction)\n",
    "    \n",
    "    return essential_reactions\n",
    "                "
   ]
  },
  {
   "cell_type": "code",
   "execution_count": 55,
   "metadata": {},
   "outputs": [
    {
     "name": "stdout",
     "output_type": "stream",
     "text": [
      "Low toxin essential reactions: 207\n"
     ]
    }
   ],
   "source": [
    "low_tox_essential_reactions = essential_reactions(low_tox_riptide.model)\n",
    "low_tox_essential_reactions = set([x.id for x in low_tox_essential_reactions])\n",
    "print('Low toxin essential reactions: ' + str(len(low_tox_essential_reactions)))"
   ]
  },
  {
   "cell_type": "code",
   "execution_count": 56,
   "metadata": {},
   "outputs": [
    {
     "name": "stdout",
     "output_type": "stream",
     "text": [
      "Medium toxin essential reactions: 217\n"
     ]
    }
   ],
   "source": [
    "med_tox_essential_reactions = essential_reactions(med_tox_riptide.model)\n",
    "med_tox_essential_reactions = set([x.id for x in med_tox_essential_reactions])\n",
    "print('Medium toxin essential reactions: ' + str(len(med_tox_essential_reactions)))"
   ]
  },
  {
   "cell_type": "code",
   "execution_count": 57,
   "metadata": {},
   "outputs": [
    {
     "name": "stdout",
     "output_type": "stream",
     "text": [
      "Low toxin only: 13\n",
      "Medium toxin only: 23\n"
     ]
    }
   ],
   "source": [
    "low_tox_only_essential_reactions = low_tox_essential_reactions.difference(med_tox_essential_reactions)\n",
    "med_tox_only_essential_reactions = med_tox_essential_reactions.difference(low_tox_essential_reactions)\n",
    "\n",
    "print('Low toxin only: ' + str(len(low_tox_only_essential_reactions)))\n",
    "print('Medium toxin only: ' + str(len(med_tox_only_essential_reactions)))"
   ]
  },
  {
   "cell_type": "code",
   "execution_count": 58,
   "metadata": {},
   "outputs": [
    {
     "name": "stdout",
     "output_type": "stream",
     "text": [
      "Low only:\n",
      "rxn05317_c Transport of deoxyadenosine, extracellular\n",
      "rxn00504_c (S)-1-pyrroline-5-carboxylate:NADP+ oxidoreductase\n",
      "EX_cpd00060_e L-Methionine exchange\n",
      "EX_cpd00438_e Deoxyadenosine exchange\n",
      "rxn00410_c UTP:ammonia ligase (ADP-forming)\n",
      "rxn05219_c nonpolar-amino-acid-transporting ATPase\n",
      "rxn01859_c Deoxyadenosine:orthophosphate ribosyltransferase\n",
      "rxn05681_c 2-dehydro-3-deoxy-D-gluconate transport via proton symport, reversible\n",
      "rxn09688_c deoxyguanosine transport in via proton symport (periplasm)\n",
      "EX_cpd00277_e Deoxyguanosine exchange\n",
      "rxn00931_c L-Proline:NADP+ 5-oxidoreductase\n",
      "rxn03884_c 2-dehydro-3-deoxy-D-gluconate-6-phosphate D-glyceraldehyde-3-phosphate-lyase\n",
      "EX_cpd02711_e 2-keto-3-deoxygluconate exchange\n",
      "\n",
      "Medium only:\n",
      "rxn01648_c Cytidine:orthophosphate alpha-D-ribosyltransferase\n",
      "rxn05527_c TRANS-RXN-199.ce\n",
      "rxn29571_c Neu5Ac H+ symporter\n",
      "EX_cpd00054_e L-Serine exchange\n",
      "rxn05298_c Na+/glutamate symport\n",
      "rxn10883_c ATP phosphohydrolase (polar-amino-acid-importing)\n",
      "rxn00692_c 5,10-Methylenetetrahydrofolate:glycine hydroxymethyltransferase\n",
      "EX_cpd00412_e Deoxyuridine exchange\n",
      "rxn09685_c Deoxyuridine symport\n",
      "rxn04954_c 5-methyltetrahydrofolate:NAD+ oxidoreductase\n",
      "rxn01799_c deoxyuridine:orthophosphate 2-deoxy-D-ribosyltransferase\n",
      "rxn01322_c N-Acetylneuraminate pyruvate-lyase (N-acetyl-D-mannosamine-forming)\n",
      "EX_cpd00232_e Neu5Ac exchange\n",
      "rxn10398_c cystathione diffusion\n",
      "rxn00693_c 5-Methyltetrahydrofolate:L-homocysteine S-methyltransferase\n",
      "rxn00950_c Cystathionine L-homocysteine-lyase (deaminating)\n",
      "rxn00908_c glycine synthase\n",
      "EX_cpd00424_e Cystathionine exchange\n",
      "EX_cpd00023_e L-Glutamate exchange\n",
      "rxn00555_c L-glutamine:D-fructose-6-phosphate isomerase (deaminating)\n",
      "rxn00085_c L-Glutamate:NADP+ oxidoreductase (transaminating)\n",
      "EX_cpd00307_e Cytosine exchange\n",
      "rxn01548_c guanosine:phosphate alpha-D-ribosyltransferase\n"
     ]
    }
   ],
   "source": [
    "print('Low only:')\n",
    "for x in low_tox_only_essential_reactions:\n",
    "    print(x, iCdG693.reactions.get_by_id(x).name)\n",
    "    \n",
    "print('\\nMedium only:')\n",
    "for x in med_tox_only_essential_reactions:\n",
    "    print(x, iCdG693.reactions.get_by_id(x).name)"
   ]
  },
  {
   "cell_type": "code",
   "execution_count": 8,
   "metadata": {},
   "outputs": [],
   "source": [
    "import cobra.flux_analysis\n",
    "from cobra.flux_analysis.parsimonious import pfba\n",
    "\n",
    "# Inferring media condition\n",
    "def find_substrates_and_byproducts(model):\n",
    "    \n",
    "    pfba_solv = pfba(model)\n",
    "    \n",
    "    substrates = set()\n",
    "    byproducts = set()\n",
    "    for rxn in model.boundary:\n",
    "        if pfba_solv.fluxes[rxn.id] < 0.0:\n",
    "            substrates |= set([rxn.reactants[0].id])\n",
    "        elif pfba_solv.fluxes[rxn.id] > 0.0:\n",
    "            byproducts |= set([rxn.reactants[0].id])\n",
    "\n",
    "    print(str(len(substrates)) + ' possible growth substrates found')\n",
    "    print(str(len(byproducts)) + ' possible byproducts found\\n')\n",
    "    \n",
    "    return substrates, byproducts\n",
    "\n",
    "\n",
    "# Inferring media condition\n",
    "def find_substrates_and_byproducts_riptide(riptide):\n",
    "        \n",
    "    substrates = []\n",
    "    byproducts = []\n",
    "\n",
    "    for rxn in riptide.model.boundary:\n",
    "        \n",
    "        if numpy.median(riptide.flux_samples[rxn.id]) < -1.0:\n",
    "            substrates.append(rxn.reactants[0].id)\n",
    "        elif numpy.median(riptide.flux_samples[rxn.id]) > 1.0:\n",
    "            byproducts.append(rxn.reactants[0].id)\n",
    "            \n",
    "    substrates = set(substrates)\n",
    "    print(str(len(substrates)) + ' possible growth substrates found')\n",
    "    byproducts = set(byproducts)\n",
    "    print(str(len(byproducts)) + ' possible byproducts found\\n')\n",
    "    \n",
    "    return substrates, byproducts\n",
    "\n",
    "# Finding sources of elements\n",
    "def find_element_sources(model):\n",
    "    \n",
    "    sources = {'C':[], 'N':[], 'P':[], 'S':[]}\n",
    "    c_source = ['cpd_id', 0.0]\n",
    "    n_source = ['cpd_id', 0.0]\n",
    "    pfba_solution = pfba(model)\n",
    "    \n",
    "    # Parse exchange flux samples for imported metabolites\n",
    "    for rxn in model.boundary:\n",
    "        \n",
    "        flux = pfba_solution.fluxes[rxn.id]\n",
    "        if flux < -1e-6:\n",
    "            metabolite = rxn.reactants[0]\n",
    "            sources[metabolite.id] = {}\n",
    "            \n",
    "            # Multiply elemental components by median flux absolute value\n",
    "            for element in metabolite.elements.keys():\n",
    "                element_supply = float(metabolite.elements[element]) * abs(flux)\n",
    "                element_supply = round(numpy.log(element_supply), 3)\n",
    "                sources[metabolite.id][element] = element_supply\n",
    "                \n",
    "                # Identify largest sources of carbon and nitrogen\n",
    "                if element == 'C' and element_supply > c_source[1]:\n",
    "                    c_source = [metabolite.id, element_supply]\n",
    "                    sources['C'].append(c_source)\n",
    "                elif element == 'N' and element_supply > n_source[1]:\n",
    "                    n_source = [metabolite.id, element_supply]\n",
    "                    sources['N'].append(n_source)\n",
    "                elif element == 'P' and element_supply > 0.0:\n",
    "                    p_source = [metabolite.id, element_supply]\n",
    "                    sources['P'].append(p_source)\n",
    "                elif element == 'S' and element_supply > 0.0:\n",
    "                    s_source = [metabolite.id, element_supply]\n",
    "                    sources['S'].append(s_source)\n",
    "                    \n",
    "    print('Primary carbon source: ' + model.metabolites.get_by_id(c_source[0]).name + ' (' + str(c_source[1]) + ')')\n",
    "    print('Primary nitrogen source: ' + model.metabolites.get_by_id(n_source[0]).name + ' (' + str(n_source[1]) + ')')\n",
    "    print('Primary phosphorus source: ' + model.metabolites.get_by_id(p_source[0]).name + ' (' + str(p_source[1]) + ')')\n",
    "    print('Primary sulfur source: ' + model.metabolites.get_by_id(s_source[0]).name + ' (' + str(s_source[1]) + ')')\n",
    "\n",
    "    return sources\n",
    "\n",
    "# Finding sources of elements\n",
    "def find_element_sources_riptide(riptide):\n",
    "    \n",
    "    sources = {'C':[], 'N':[], 'P':[], 'S':[]}\n",
    "    c_source = ['cpd_id', 0.0]\n",
    "    n_source = ['cpd_id', 0.0]\n",
    "    pfba_solution = cobra.flux_analysis.pfba(riptide.model, fraction_of_optimum=0.8)\n",
    "    baseline = pfba_solution.objective_value\n",
    "    \n",
    "    # Parse exchange flux samples for imported metabolites\n",
    "    for rxn in riptide.model.boundary:\n",
    "        \n",
    "        # Test for disproportionate effect on objective\n",
    "        flux = min(riptide.flux_samples[rxn.id])\n",
    "        if flux >= -1e-6: continue # Skip exported byproducts or unused reactions\n",
    "        new_bound = flux * 0.01\n",
    "        old_bounds = rxn.bounds\n",
    "        rxn.bounds = (new_bound, new_bound)        \n",
    "        new_objVal = riptide.model.slim_optimize()\n",
    "        rxn.bounds = old_bounds # Reset bounds\n",
    "        if str(new_objVal) == 'nan': new_objVal = baseline * 0.01\n",
    "        \n",
    "        # Calculate the degree of change to objective value\n",
    "        if new_objVal != baseline:\n",
    "            flux_ratio = baseline / new_objVal\n",
    "            adjustment = abs(flux) * flux_ratio\n",
    "        else:\n",
    "            adjustment = 1.\n",
    "       \n",
    "        if flux < -1e-6:\n",
    "        #if min(riptide.flux_samples[rxn.id]) < -1e-6:\n",
    "            #flux = abs(min(riptide.flux_samples[rxn.id]))\n",
    "            metabolite = rxn.reactants[0]\n",
    "            sources[metabolite.id] = {}\n",
    "            \n",
    "            # Multiply elemental components by median flux absolute value\n",
    "            for element in metabolite.elements.keys():\n",
    "                #element_supply = round(float(metabolite.elements[element]) * flux, 3)\n",
    "                element_supply = float(metabolite.elements[element]) * adjustment\n",
    "                element_supply = round(numpy.log2(element_supply), 3)\n",
    "                sources[metabolite.id][element] = element_supply\n",
    "                \n",
    "                # Identify largest sources of carbon and nitrogen\n",
    "                if element == 'C' and element_supply > c_source[1]:\n",
    "                    c_source = [metabolite.id, element_supply]\n",
    "                    sources['C'].append(c_source)\n",
    "                elif element == 'N' and element_supply > n_source[1]:\n",
    "                    n_source = [metabolite.id, element_supply]\n",
    "                    sources['N'].append(n_source)\n",
    "                elif element == 'P' and element_supply > 0.0:\n",
    "                    p_source = [metabolite.id, element_supply]\n",
    "                    sources['P'].append(p_source)\n",
    "                elif element == 'S' and element_supply > 0.0:\n",
    "                    s_source = [metabolite.id, element_supply]\n",
    "                    sources['S'].append(s_source)\n",
    "                    \n",
    "    print('Primary carbon source: ' + riptide.model.metabolites.get_by_id(c_source[0]).name + ' (' + str(c_source[1]) + ')')\n",
    "    print('Primary nitrogen source: ' + riptide.model.metabolites.get_by_id(n_source[0]).name + ' (' + str(n_source[1]) + ')')\n",
    "    print('Primary phosphorus source: ' + riptide.model.metabolites.get_by_id(p_source[0]).name + ' (' + str(p_source[1]) + ')')\n",
    "    print('Primary sulfur source: ' + riptide.model.metabolites.get_by_id(s_source[0]).name + ' (' + str(s_source[1]) + ')')\n",
    "\n",
    "    return sources"
   ]
  },
  {
   "cell_type": "code",
   "execution_count": null,
   "metadata": {},
   "outputs": [],
   "source": []
  },
  {
   "cell_type": "code",
   "execution_count": null,
   "metadata": {},
   "outputs": [],
   "source": []
  },
  {
   "cell_type": "code",
   "execution_count": 29,
   "metadata": {},
   "outputs": [
    {
     "data": {
      "text/plain": [
       "-6.833784014550929"
      ]
     },
     "execution_count": 29,
     "metadata": {},
     "output_type": "execute_result"
    }
   ],
   "source": [
    "min(med_tox_riptide.flux_samples['EX_cpd00567_e'])"
   ]
  },
  {
   "cell_type": "code",
   "execution_count": 9,
   "metadata": {},
   "outputs": [
    {
     "name": "stdout",
     "output_type": "stream",
     "text": [
      "51 possible growth substrates found\n",
      "15 possible byproducts found\n",
      "\n",
      "Primary carbon source: L-Isoleucine (8.63)\n",
      "Primary nitrogen source: L-Aspartate (6.872)\n",
      "Primary phosphorus source: D-fructose-6-phosphate (5.812)\n",
      "Primary sulfur source: L-Cysteine (1.134)\n"
     ]
    }
   ],
   "source": [
    "low_tox_substrates, low_tox_byproducts = find_substrates_and_byproducts(low_tox_riptide.model)\n",
    "low_tox_elem_sources = find_element_sources(low_tox_riptide.model)"
   ]
  },
  {
   "cell_type": "code",
   "execution_count": 10,
   "metadata": {},
   "outputs": [
    {
     "name": "stdout",
     "output_type": "stream",
     "text": [
      "50 possible growth substrates found\n",
      "16 possible byproducts found\n",
      "\n",
      "Primary carbon source: L-Isoleucine (8.529)\n",
      "Primary nitrogen source: Deoxyguanosine (7.68)\n",
      "Primary phosphorus source: D-fructose-6-phosphate (5.833)\n",
      "Primary sulfur source: Cystathionine (1.91)\n"
     ]
    }
   ],
   "source": [
    "med_tox_substrates, med_tox_byproducts = find_substrates_and_byproducts(med_tox_riptide.model)\n",
    "med_tox_elem_sources = find_element_sources(med_tox_riptide.model)"
   ]
  },
  {
   "cell_type": "code",
   "execution_count": 30,
   "metadata": {},
   "outputs": [
    {
     "name": "stdout",
     "output_type": "stream",
     "text": [
      "Shared substrates: 47\n",
      "Low toxin only substrates: 4\n",
      "Medium toxin only substrates: 3\n"
     ]
    }
   ],
   "source": [
    "shared_substrates = low_tox_substrates.intersection(med_tox_substrates)\n",
    "low_tox_only_substrates = low_tox_substrates.difference(med_tox_substrates)\n",
    "med_tox_only_substrates = med_tox_substrates.difference(low_tox_substrates)\n",
    "\n",
    "print('Shared substrates: ' + str(len(shared_substrates)))\n",
    "print('Low toxin only substrates: ' + str(len(low_tox_only_substrates)))\n",
    "print('Medium toxin only substrates: ' + str(len(med_tox_only_substrates)))"
   ]
  },
  {
   "cell_type": "code",
   "execution_count": 31,
   "metadata": {},
   "outputs": [
    {
     "name": "stdout",
     "output_type": "stream",
     "text": [
      "\n",
      "Shared:\n",
      "cpd00186_e D-Glutamate\n",
      "cpd00443_e 4-Aminobenzoate\n",
      "cpd00412_e Deoxyuridine\n",
      "cpd00393_e Folate\n",
      "cpd00232_e N-Acetyl-Neuraminic acid\n",
      "cpd00065_e L-Tryptophan\n",
      "cpd00066_e L-Phenylalanine\n",
      "cpd00277_e Deoxyguanosine\n",
      "cpd01080_e Octadecanoic acid\n",
      "cpd00220_e Riboflavin\n",
      "cpd00161_e L-Threonine\n",
      "cpd00133_e Nicotinamide\n",
      "cpd00516_e meso-2,6-Diaminopimelate\n",
      "cpd00117_e D-Alanine\n",
      "cpd00104_e Biotin\n",
      "cpd02711_e 2-keto-3-deoxygluconate\n",
      "cpd00041_e L-Aspartate\n",
      "cpd03561_e 2-Hydroxybutyrate\n",
      "cpd00076_e Sucrose\n",
      "cpd00119_e L-Histidine\n",
      "cpd00051_e L-Arginine\n",
      "cpd00099_e Cl-\n",
      "cpd00971_e Na+\n",
      "cpd00072_e D-fructose-6-phosphate\n",
      "cpd00254_e Mg\n",
      "cpd00263_e Pyridoxol\n",
      "cpd00035_e L-Alanine\n",
      "cpd00063_e Ca2+\n",
      "cpd00030_e Mn2+\n",
      "cpd00322_e L-Isoleucine\n",
      "cpd00654_e Deoxycytidine\n",
      "cpd00311_e Guanosine\n",
      "cpd10515_e Fe2+\n",
      "cpd00149_e Co2+\n",
      "cpd00136_e 4-Hydroxybenzoate\n",
      "cpd00644_e Pantothenate\n",
      "cpd00567_e D-Proline\n",
      "cpd00036_e Succinate\n",
      "cpd00132_e L-Asparagine\n",
      "cpd00054_e L-Serine\n",
      "cpd00205_e K+\n",
      "cpd00156_e L-Valine\n",
      "cpd00067_e H+\n",
      "cpd00039_e L-Lysine\n",
      "cpd00305_e Thiamin\n",
      "cpd00107_e L-Leucine\n",
      "cpd00084_e L-Cysteine\n",
      "\n",
      "Low only:\n",
      "cpd00182_e Adenosine -8.10284\n",
      "cpd00276_e D-Glucosamine -676.34907\n",
      "cpd00162_e Aminoethanol -833.83651\n",
      "cpd00060_e L-Methionine -6.46048\n",
      "\n",
      "Medium only:\n",
      "cpd00023_e L-Glutamate -24.29236\n",
      "cpd00424_e Cystathionine -6.73402\n",
      "cpd00013_e Ammonia -652.19401\n"
     ]
    }
   ],
   "source": [
    "print('\\nShared:')\n",
    "for x in shared_substrates:\n",
    "    print(x, iCdG693.metabolites.get_by_id(x).name)\n",
    "\n",
    "print('\\nLow only:')\n",
    "for x in low_tox_only_substrates:\n",
    "    exchange = 'EX_' + x\n",
    "    flux = round(min(low_tox_riptide.flux_samples[exchange]), 5)\n",
    "    print(x, iCdG693.metabolites.get_by_id(x).name, flux)\n",
    "    \n",
    "print('\\nMedium only:')\n",
    "for x in med_tox_only_substrates:\n",
    "    exchange = 'EX_' + x\n",
    "    flux = round(min(med_tox_riptide.flux_samples[exchange]), 5)\n",
    "    print(x, iCdG693.metabolites.get_by_id(x).name, flux)"
   ]
  },
  {
   "cell_type": "code",
   "execution_count": 35,
   "metadata": {},
   "outputs": [
    {
     "name": "stdout",
     "output_type": "stream",
     "text": [
      "Shared byproducts: 13\n",
      "Low toxin only byproducts: 2\n",
      "Medium toxin only byproducts: 3\n"
     ]
    }
   ],
   "source": [
    "shared_byproducts = low_tox_byproducts.intersection(med_tox_byproducts)\n",
    "low_tox_only_byproducts = low_tox_byproducts.difference(med_tox_byproducts)\n",
    "med_tox_only_byproducts = med_tox_byproducts.difference(low_tox_byproducts)\n",
    "\n",
    "print('Shared byproducts: ' + str(len(shared_byproducts)))\n",
    "print('Low toxin only byproducts: ' + str(len(low_tox_only_byproducts)))\n",
    "print('Medium toxin only byproducts: ' + str(len(med_tox_only_byproducts)))"
   ]
  },
  {
   "cell_type": "code",
   "execution_count": 38,
   "metadata": {},
   "outputs": [
    {
     "name": "stdout",
     "output_type": "stream",
     "text": [
      "Shared:\n",
      "cpd19585_e 2-Methylbutyrate 980.87392 980.06411\n",
      "cpd00106_e Fumarate 1000.0 814.36307\n",
      "cpd00047_e Formate 1000.0 1000.0\n",
      "cpd00141_e Propionate 1000.0 1000.0\n",
      "cpd00122_e N-Acetyl-D-glucosamine 1000.0 938.95133\n",
      "cpd00320_e D-Aspartate 1000.0 1000.0\n",
      "cpd00001_e H2O 1000.0 1000.0\n",
      "cpd00029_e Acetate 1000.0 1000.0\n",
      "cpd03170_e 4-Hydroxymandelate 402.51928 389.38291\n",
      "cpd00009_e Phosphate 1000.0 1000.0\n",
      "cpd00307_e Cytosine 408.02713 425.30329\n",
      "cpd00011_e CO2 1000.0 1000.0\n",
      "\n",
      "Low only:\n",
      "cpd00013_e Ammonia 1000.0\n",
      "cpd00438_e Deoxyadenosine 22.54135\n",
      "\n",
      "Medium only:\n",
      "cpd00182_e Adenosine 15.04984\n",
      "cpd00276_e D-Glucosamine 976.42683\n",
      "cpd00207_e Guanine 659.07819\n"
     ]
    }
   ],
   "source": [
    "print('Shared:')\n",
    "for x in shared_byproducts:\n",
    "    exchange = 'EX_' + x\n",
    "    try:\n",
    "        low_flux = round(max(low_tox_riptide.flux_samples[exchange]), 5)\n",
    "        med_flux = round(max(med_tox_riptide.flux_samples[exchange]), 5)\n",
    "    except:\n",
    "        continue\n",
    "    print(x, iCdG693.metabolites.get_by_id(x).name, low_flux, med_flux)\n",
    "\n",
    "print('\\nLow only:')\n",
    "for x in low_tox_only_byproducts:\n",
    "    exchange = 'EX_' + x\n",
    "    flux = round(max(low_tox_riptide.flux_samples[exchange]), 5)\n",
    "    print(x, iCdG693.metabolites.get_by_id(x).name, flux)\n",
    "    \n",
    "print('\\nMedium only:')\n",
    "for x in med_tox_only_byproducts:\n",
    "    exchange = 'EX_' + x\n",
    "    flux = round(max(med_tox_riptide.flux_samples[exchange]), 5)\n",
    "    print(x, iCdG693.metabolites.get_by_id(x).name, flux)"
   ]
  },
  {
   "cell_type": "code",
   "execution_count": null,
   "metadata": {},
   "outputs": [],
   "source": []
  },
  {
   "cell_type": "code",
   "execution_count": null,
   "metadata": {},
   "outputs": [],
   "source": []
  },
  {
   "cell_type": "code",
   "execution_count": null,
   "metadata": {},
   "outputs": [],
   "source": []
  },
  {
   "cell_type": "code",
   "execution_count": null,
   "metadata": {},
   "outputs": [],
   "source": []
  },
  {
   "cell_type": "code",
   "execution_count": null,
   "metadata": {},
   "outputs": [],
   "source": []
  },
  {
   "cell_type": "code",
   "execution_count": null,
   "metadata": {},
   "outputs": [],
   "source": []
  },
  {
   "cell_type": "code",
   "execution_count": 6,
   "metadata": {},
   "outputs": [],
   "source": [
    "import numpy\n",
    "import cobra\n",
    "import cobra.flux_analysis\n",
    "\n",
    "def _getKey(item):\n",
    "    return item[1]\n",
    "\n",
    "# Scale each active exchange back and examine its influence on objective flux\n",
    "def find_primary_sources(model, flux_samples=False, fraction=0.01, cutoff=0.8, pfba_fraction=0.8):\n",
    "    # Requires a model \n",
    "    # Optional: flux_samples = flux samples pandas dataframe associated with model\n",
    "    #           fraction = percent of median flux to limit exchange reactions by\n",
    "    #           cutoff = quantile of top C and N sources to report\n",
    "    #           pfba_fraction = fraction of optimal objective value for pfba solution\n",
    "\n",
    "    sources = {}\n",
    "    c_sources = []\n",
    "    c_influence = []\n",
    "    n_sources = []\n",
    "    n_influence = []\n",
    "    p_source = ['p_source', -1.0]\n",
    "    s_source = ['s_source', -1.0]\n",
    "    objVal = model.slim_optimize()\n",
    "    pfba_solution = cobra.flux_analysis.pfba(model, fraction_of_optimum=pfba_fraction)\n",
    "    \n",
    "    # Parse exchange flux samples for imported metabolites\n",
    "    exchanges = [rxn.id for rxn in model.boundary]\n",
    "    for rxn in exchanges:\n",
    "        if isinstance(flux_samples, pandas.DataFrame):\n",
    "            flux = numpy.median(flux_samples[rxn])\n",
    "        else:\n",
    "            flux = pfba_solution.fluxes[rxn]\n",
    "        if flux >= -1e-6: continue # Skip exported byproducts or unused reactions\n",
    "        bound = flux * fraction\n",
    "        \n",
    "        # Test for disproportionate effect on objective\n",
    "        old_bounds = model.reactions.get_by_id(rxn).bounds\n",
    "        model.reactions.get_by_id(rxn).bounds = (bound, bound)        \n",
    "        new_objVal = model.slim_optimize()\n",
    "        model.reactions.get_by_id(rxn).bounds = old_bounds # Reset bounds\n",
    "        if str(new_objVal) == 'nan': new_objVal = objVal * fraction # Correct for nan\n",
    "        \n",
    "        # Calculate the degree of change to objective value\n",
    "        if new_objVal != objVal:\n",
    "            flux_ratio = objVal / new_objVal\n",
    "            adjustment = abs(flux) * flux_ratio\n",
    "        else:\n",
    "            adjustment = 1.\n",
    "        \n",
    "        # Normalize elemental component contributions\n",
    "        metabolite = model.reactions.get_by_id(rxn).reactants[0]\n",
    "        sources[metabolite.id] = {}\n",
    "        for element in metabolite.elements.keys():\n",
    "            element_supply = float(metabolite.elements[element]) * adjustment\n",
    "            if element_supply > 0.: element_supply = numpy.log(element_supply)\n",
    "            sources[metabolite.id][element] = element_supply\n",
    "                \n",
    "            # Identify largest sources of main elements\n",
    "            if element == 'C' and element_supply > 0.0:\n",
    "                c_sources.append([metabolite.id, element_supply])\n",
    "                c_influence.append(element_supply)\n",
    "            elif element == 'N' and element_supply > 0.0:\n",
    "                n_sources.append([metabolite.id, element_supply])\n",
    "                n_influence.append(element_supply)\n",
    "            elif element == 'P' and element_supply > 0.0:\n",
    "                p_source = [metabolite.id, element_supply]\n",
    "            elif element == 'S' and element_supply > 0.0:\n",
    "                s_source = [metabolite.id, element_supply]\n",
    "    \n",
    "    # Rank by largest contributions\n",
    "    c_sources = sorted(c_sources, reverse=True, key=_getKey)\n",
    "    n_sources = sorted(n_sources, reverse=True, key=_getKey)\n",
    "    \n",
    "    print('Top carbon sources:')\n",
    "    current = max(c_influence)\n",
    "    x = 0\n",
    "    while current >= numpy.quantile(c_influence, cutoff):\n",
    "        print(model.metabolites.get_by_id(c_sources[x][0]).name + ' (' + str(round(c_sources[x][1],3)) + ')')\n",
    "        current = c_sources[x][1]\n",
    "        x += 1\n",
    "        \n",
    "    print('\\nTop nitrogen sources:')\n",
    "    current = max(n_influence)\n",
    "    x = 0\n",
    "    while current >= numpy.quantile(n_influence, cutoff):\n",
    "        print(model.metabolites.get_by_id(n_sources[x][0]).name + ' (' + str(round(n_sources[x][1],3)) + ')')\n",
    "        current = n_sources[x][1]\n",
    "        x += 1\n",
    "        \n",
    "    print('\\nPrimary phosphorous source:')\n",
    "    print(model.metabolites.get_by_id(p_source[0]).name + ' (' + str(round(p_source[1],3)) + ')')\n",
    "    \n",
    "    print('\\nPrimary sulfur source:')\n",
    "    print(model.metabolites.get_by_id(s_source[0]).name + ' (' + str(round(s_source[1],3)) + ')')\n",
    "    \n",
    "    return sources\n"
   ]
  },
  {
   "cell_type": "code",
   "execution_count": null,
   "metadata": {},
   "outputs": [],
   "source": []
  },
  {
   "cell_type": "code",
   "execution_count": null,
   "metadata": {},
   "outputs": [],
   "source": []
  }
 ],
 "metadata": {
  "kernelspec": {
   "display_name": "Python 3",
   "language": "python",
   "name": "python3"
  },
  "language_info": {
   "codemirror_mode": {
    "name": "ipython",
    "version": 3
   },
   "file_extension": ".py",
   "mimetype": "text/x-python",
   "name": "python",
   "nbconvert_exporter": "python",
   "pygments_lexer": "ipython3",
   "version": "3.7.5"
  }
 },
 "nbformat": 4,
 "nbformat_minor": 2
}
