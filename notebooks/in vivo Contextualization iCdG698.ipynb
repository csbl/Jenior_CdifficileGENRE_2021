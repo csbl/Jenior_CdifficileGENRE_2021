{
 "cells": [
  {
   "cell_type": "code",
   "execution_count": 1,
   "metadata": {},
   "outputs": [],
   "source": [
    "from riptide import *\n",
    "iCdG698 = cobra.io.load_json_model('/home/mjenior/Desktop/repos/Jenior_Cdifficile_2019/data/reconstructions/iCdG698.json')\n",
    "iCdG698.reactions.rxn05178_c.bounds = (0., 1000.)"
   ]
  },
  {
   "cell_type": "markdown",
   "metadata": {},
   "source": [
    "### Setting Extracellular Conditions"
   ]
  },
  {
   "cell_type": "code",
   "execution_count": 14,
   "metadata": {},
   "outputs": [],
   "source": [
    "# in vivo media analog\n",
    "gut = ['cpd00027_e', #glucose\n",
    "    'cpd00001_e', #water\n",
    "    'cpd00035_e', #alanine\n",
    " 'cpd00041_e', #aspartic acid\n",
    " 'cpd00023_e', #glutamic acid\n",
    " 'cpd00119_e', #histidine\n",
    " 'cpd00107_e', #leucine\n",
    " 'cpd00060_e', #methionine\n",
    " 'cpd00129_e', #proline\n",
    " 'cpd00161_e', #threonine\n",
    " 'cpd00051_e', #arginine\n",
    " 'cpd00069_e', #tyrosine\n",
    " 'cpd00084_e', #cysteine\n",
    " 'cpd00033_e', #glycine\n",
    " 'cpd00322_e', #isoleucine\n",
    " 'cpd00039_e', #lysine\n",
    " 'cpd00066_e', #phenylalanine\n",
    " 'cpd00054_e', #serine\n",
    " 'cpd00065_e', #tryptophan\n",
    " 'cpd00156_e', #valine\n",
    " 'cpd00220_e', #riboflavin\n",
    " 'cpd00644_e', #pantothentate(B5)\n",
    " 'cpd00393_e', #folate(B9)\n",
    " 'cpd00133_e', #niacin(PP)\n",
    " 'cpd00263_e', #Pyridoxine\n",
    " 'cpd00104_e', #Biotin\n",
    " 'cpd00149_e', #Cobalt\n",
    " 'cpd00971_e', #sodium\n",
    " 'cpd00099_e', #Chloride\n",
    " 'cpd00205_e', #potassium\n",
    " 'cpd00009_e', #phosphate\n",
    " 'cpd00063_e', #calcium\n",
    " 'cpd00254_e', #magnesium\n",
    " 'cpd10515_e', #Fe2+\n",
    " 'cpd00030_e', #Mn2+\n",
    " 'cpd00242_e', #Carbonate\n",
    " 'cpd00226_e', #hypoxanthine\n",
    " 'cpd01242_e', #thyminose\n",
    " 'cpd00307_e', #cytosine\n",
    " 'cpd00092_e', #uracil\n",
    "'cpd00117_e', #D-Alanine\n",
    "'cpd00067_e', #H+\n",
    "'cpd00567_e', #D-Proline\n",
    "'cpd00132_e', #L-Asparagine\n",
    "'cpd00053_e', #L-Glutamine\n",
    "'cpd00210_e', #Taurine\n",
    "'cpd00320_e', #D-Aspartate\n",
    "'cpd03279_e', #Deoxyinosine\n",
    "'cpd00246_e', #Inosine\n",
    "'cpd00311_e', #Guanosine\n",
    "'cpd00367_e', #Cytidine\n",
    "'cpd00277_e', #Deoxyguanosine\n",
    "'cpd00182_e', #Adenosine\n",
    "'cpd00654_e', #Deoxycytidine\n",
    "'cpd00412_e', #Deoxyuridine\n",
    "'cpd00438_e', #Deoxyadenosine\n",
    "'cpd00274_e', #Citrulline\n",
    "'cpd00186_e', #D-Glutamate\n",
    "       'cpd00281_e', # GABA\n",
    "       'cpd00232_e', # N-Acetyl-Neuraminic acid\n",
    "       'cpd00492_e', # N-Acetyl-D-mannosamine\n",
    "       'cpd29317_e', # 4-hydroxyproline\n",
    "       'cpd15551_e', # L-Prolinylglycine\n",
    "       'cpd11588_e'] # gly-pro-L\n",
    "\n",
    "\n",
    "\n",
    "\n",
    "dipeptides = ['EX_cpd11592_e','EX_cpd11590_e','EX_cpd11586_e','EX_cpd11582_e','EX_cpd11581_e',\n",
    "              'EX_cpd15603_e','EX_cpd15604_e','EX_cpd15605_e','EX_cpd15606_e','EX_cpd29695_e',\n",
    "              'EX_cpd29694_e','EX_cpd29697_e','EX_cpd29698_e','EX_cpd29696_e','EX_cpd29699_e','EX_cpd29693_e',\n",
    "              'EX_cpd29690_e','EX_cpd00731_e']\n",
    "pro_gly = ['EX_cpd15551_e','EX_cpd11588_e']\n",
    "dipeptides += pro_gly\n",
    "\n",
    "for rxn in iCdG698.exchanges: \n",
    "    rxn.bounds = (-1000., 1000.)\n",
    "\n"
   ]
  },
  {
   "cell_type": "code",
   "execution_count": 15,
   "metadata": {},
   "outputs": [
    {
     "name": "stdout",
     "output_type": "stream",
     "text": [
      "Doubling time in \"in vivo\" media: 25.53 minutes\n"
     ]
    }
   ],
   "source": [
    "doubling = round((1.0 / iCdG698.slim_optimize()) * 3200.0, 2)\n",
    "print('Doubling time in \\\"in vivo\\\" media:',doubling,'minutes')"
   ]
  },
  {
   "cell_type": "markdown",
   "metadata": {},
   "source": [
    "### RIPTiDe *in vivo* Contextualization"
   ]
  },
  {
   "cell_type": "code",
   "execution_count": 16,
   "metadata": {},
   "outputs": [],
   "source": [
    "# Read in in vivo C. difficile transcription\n",
    "low_spores = riptide.read_transcription_file('/home/mjenior/Desktop/repos/Jenior_Cdifficile_2019/data/transcript/jenior_etal/cefoperazone.format.tsv', \n",
    "                                               header=True)\n",
    "high_spores = riptide.read_transcription_file('/home/mjenior/Desktop/repos/Jenior_Cdifficile_2019/data/transcript/jenior_etal/clindamycin.format.tsv', \n",
    "                                              header=True)"
   ]
  },
  {
   "cell_type": "code",
   "execution_count": 17,
   "metadata": {},
   "outputs": [
    {
     "name": "stdout",
     "output_type": "stream",
     "text": [
      "\n",
      "Initializing model and integrating transcriptomic data...\n",
      "Pruning zero flux subnetworks...\n",
      "Analyzing context-specific flux distributions...\n",
      "\n",
      "Reactions pruned to 312 from 1321 (76.38% change)\n",
      "Metabolites pruned to 309 from 1243 (75.14% change)\n",
      "Flux through the objective DECREASED to ~102.43 from ~125.34 (18.28% change)\n",
      "Context-specific metabolism does not correlate with transcriptome (r=0.071, n.s.)\n",
      "\n",
      "RIPTiDe completed in 16 seconds\n",
      "\n"
     ]
    }
   ],
   "source": [
    "low_spores_riptide = riptide.contextualize(model=iCdG698, transcriptome=low_spores)"
   ]
  },
  {
   "cell_type": "code",
   "execution_count": 18,
   "metadata": {},
   "outputs": [
    {
     "name": "stdout",
     "output_type": "stream",
     "text": [
      "\n",
      "Initializing model and integrating transcriptomic data...\n",
      "Pruning zero flux subnetworks...\n",
      "Analyzing context-specific flux distributions...\n",
      "\n",
      "Reactions pruned to 305 from 1321 (76.91% change)\n",
      "Metabolites pruned to 306 from 1243 (75.38% change)\n",
      "Flux through the objective DECREASED to ~103.33 from ~125.34 (17.56% change)\n",
      "Context-specific metabolism correlates with transcriptome (r=0.139, p=0.015 *)\n",
      "\n",
      "RIPTiDe completed in 19 seconds\n",
      "\n"
     ]
    }
   ],
   "source": [
    "high_spores_riptide = riptide.contextualize(model=iCdG698, transcriptome=high_spores)"
   ]
  },
  {
   "cell_type": "code",
   "execution_count": 84,
   "metadata": {},
   "outputs": [
    {
     "name": "stdout",
     "output_type": "stream",
     "text": [
      "WARNING: Output path already exists, overwriting previous files\n",
      "WARNING: Output path already exists, overwriting previous files\n"
     ]
    }
   ],
   "source": [
    "# Write results to files\n",
    "riptide.save_output(riptide_obj=low_spores_riptide, path='/home/mjenior/Desktop/repos/Jenior_Cdifficile_2019/data/contextualized_iCdG698/riptide_low_spore')\n",
    "riptide.save_output(riptide_obj=high_spores_riptide, path='/home/mjenior/Desktop/repos/Jenior_Cdifficile_2019/data/contextualized_iCdG698/riptide_high_spore')\n",
    "\n",
    "# Save median optimal fluxes\n",
    "outFile = '/home/mjenior/Desktop/repos/Jenior_Cdifficile_2019/data/contextualized_iCdG698/riptide_low_spore/med_opt_flux.tsv'\n",
    "with open(outFile, 'w') as tsv:\n",
    "    tsv.write('Exchange reaction ID\\tSubstrate\\tMedian optimal flux\\n')\n",
    "    for exch in low_spores_riptide.model.exchanges:\n",
    "        flux = numpy.median(low_spores_riptide.flux_samples[exch.id])\n",
    "        substrate = list(exch.reactants)[0].name\n",
    "        entry = exch.id + '\\t' + substrate + '\\t' + str(flux) + '\\n'\n",
    "        tsv.write(entry)\n",
    "\n",
    "outFile = '/home/mjenior/Desktop/repos/Jenior_Cdifficile_2019/data/contextualized_iCdG698/riptide_high_spore/med_opt_flux.tsv'\n",
    "with open(outFile, 'w') as tsv:\n",
    "    tsv.write('Exchange reaction ID\\tSubstrate\\tMedian optimal flux\\n')\n",
    "    for exch in high_spores_riptide.model.exchanges:\n",
    "        flux = numpy.median(high_spores_riptide.flux_samples[exch.id])\n",
    "        substrate = list(exch.reactants)[0].name\n",
    "        entry = exch.id + '\\t' + substrate + '\\t' + str(flux) + '\\n'\n",
    "        tsv.write(entry)"
   ]
  },
  {
   "cell_type": "markdown",
   "metadata": {},
   "source": [
    "### Growth Rate"
   ]
  },
  {
   "cell_type": "code",
   "execution_count": 19,
   "metadata": {},
   "outputs": [
    {
     "name": "stdout",
     "output_type": "stream",
     "text": [
      "Low toxin doubling time: 31.24 minutes\n",
      "Medium toxin doubling time: 30.97 minutes\n",
      "p-value 0.241\n"
     ]
    }
   ],
   "source": [
    "import scipy\n",
    "from random import sample\n",
    "\n",
    "doubling = round((1.0 / low_spores_riptide.model.slim_optimize()) * 3200.0, 2)\n",
    "print('Low toxin doubling time: ' + str(doubling) + ' minutes')\n",
    "\n",
    "doubling = round((1.0 / high_spores_riptide.model.slim_optimize()) * 3200.0, 2)\n",
    "print('Medium toxin doubling time: ' + str(doubling) + ' minutes')\n",
    "\n",
    "pvals = []\n",
    "maxRange = len(list(low_spores_riptide.flux_samples['biomass'])) * 10\n",
    "for x in range(1, maxRange):\n",
    "        low_spores_sample = sample(list(low_spores_riptide.flux_samples['biomass']), 10)\n",
    "        high_spores_sample = sample(list(high_spores_riptide.flux_samples['biomass']), 10)\n",
    "        pvals.append(scipy.stats.wilcoxon(x=low_spores_sample, y=high_spores_sample)[1])\n",
    "print('p-value', round(numpy.median(pvals),3))"
   ]
  },
  {
   "cell_type": "markdown",
   "metadata": {},
   "source": [
    "### Context-specific Gene Essentiality"
   ]
  },
  {
   "cell_type": "code",
   "execution_count": 51,
   "metadata": {},
   "outputs": [],
   "source": [
    "import copy\n",
    "from cobra.flux_analysis.variability import find_essential_genes\n",
    "\n",
    "def essential_genes(genre, media=None, optimum_fraction=0.01):\n",
    "    model = copy.deepcopy(genre)\n",
    "    \n",
    "    # Change media conditions if necessary\n",
    "    if media is not None:\n",
    "        exchanges = ['EX_' + x for x in media]\n",
    "        for rxn in model.reactions:\n",
    "            if len(list(rxn.products)) == 0:\n",
    "                if rxn.id in exchanges:\n",
    "                    model.reactions.get_by_id(rxn.id).lower_bound = max([-1000.0,model.reactions.get_by_id(rxn.id).lower_bound])\n",
    "                else:\n",
    "                    model.reactions.get_by_id(rxn.id).lower_bound = 0.0\n",
    "    \n",
    "    # Find essential genes\n",
    "    essential_genes = find_essential_genes(model, threshold=optimum_fraction)\n",
    "    \n",
    "    return essential_genes\n",
    "                "
   ]
  },
  {
   "cell_type": "code",
   "execution_count": 52,
   "metadata": {},
   "outputs": [
    {
     "name": "stdout",
     "output_type": "stream",
     "text": [
      "Uncontextualized essential genes: 58\n"
     ]
    }
   ],
   "source": [
    "# Unconstrained base model\n",
    "base_essential = essential_genes(iCdG698)\n",
    "base_essential_genes = set([x.id for x in base_essential])\n",
    "print('Uncontextualized essential genes: ' + str(len(base_essential_genes)))"
   ]
  },
  {
   "cell_type": "code",
   "execution_count": 53,
   "metadata": {},
   "outputs": [
    {
     "name": "stdout",
     "output_type": "stream",
     "text": [
      "Low spores essential genes: 27\n"
     ]
    }
   ],
   "source": [
    "low_spores_essential_genes = essential_genes(low_spores_riptide.model)\n",
    "low_spores_essential_genes = set([x.id for x in low_spores_essential_genes]).difference(base_essential_genes)\n",
    "print('Low spores essential genes: ' + str(len(low_spores_essential_genes)))"
   ]
  },
  {
   "cell_type": "code",
   "execution_count": 54,
   "metadata": {},
   "outputs": [
    {
     "name": "stdout",
     "output_type": "stream",
     "text": [
      "High spores essential genes: 33\n"
     ]
    }
   ],
   "source": [
    "high_spores_essential_genes = essential_genes(high_spores_riptide.model)\n",
    "high_spores_essential_genes = set([x.id for x in high_spores_essential_genes]).difference(base_essential_genes)\n",
    "print('High spores essential genes: ' + str(len(high_spores_essential_genes)))"
   ]
  },
  {
   "cell_type": "code",
   "execution_count": 55,
   "metadata": {},
   "outputs": [
    {
     "name": "stdout",
     "output_type": "stream",
     "text": [
      "in vivo shared:  26\n"
     ]
    }
   ],
   "source": [
    "invivo_essential_genes = low_spores_essential_genes.intersection(high_spores_essential_genes)\n",
    "print('in vivo shared: ', len(invivo_essential_genes))"
   ]
  },
  {
   "cell_type": "code",
   "execution_count": 56,
   "metadata": {},
   "outputs": [
    {
     "name": "stdout",
     "output_type": "stream",
     "text": [
      "Low spores only: 1\n",
      "2-dehydro-3-deoxyphosphogluconate aldolase (EC 4.1.2.14)\n",
      "\n",
      "High spores only: 7\n",
      "PTS system, glucitol/sorbitol-specific IIB component (EC 2.7.1.198) / PTS system, glucitol/sorbitol-specific IIC component 2 | srlE_2\n",
      "PTS system, glucitol/sorbitol-specific IIC component (EC 2.7.1.69)\n",
      "N-acetylneuraminate lyase (EC 4.1.3.3)\n",
      "Electron bifurcating butyryl-CoA dehydrogenase (NAD+, ferredoxin) | bcd2\n",
      "alanine transaminase (EC 2.6.1.2)\n",
      "Glutamate synthase [NADPH] large chain (EC 1.4.1.13)\n",
      "Acetyl-CoA synthetase (ADP-forming) alpha and beta chains, putative\n"
     ]
    }
   ],
   "source": [
    "low_spores_only_essential_genes = low_spores_essential_genes.difference(high_spores_essential_genes)\n",
    "high_spores_only_essential_genes = high_spores_essential_genes.difference(low_spores_essential_genes)\n",
    "\n",
    "print('Low spores only:',len(low_spores_only_essential_genes))\n",
    "for gene in low_spores_only_essential_genes:\n",
    "    print(iCdG698.genes.get_by_id(gene).name)\n",
    "    \n",
    "print('\\nHigh spores only:',len(high_spores_only_essential_genes))\n",
    "for gene in high_spores_only_essential_genes:\n",
    "    print(iCdG698.genes.get_by_id(gene).name)"
   ]
  },
  {
   "cell_type": "code",
   "execution_count": 57,
   "metadata": {},
   "outputs": [],
   "source": [
    "# Save results to a table\n",
    "with open('/home/mjenior/Desktop/repos/Jenior_Cdifficile_2019/results/invivo_essentiality.tsv','w') as outfile:\n",
    "    entry = 'base\\t' + '\\t'.join([str(x.id) for x in base_essential]) + '\\n'\n",
    "    outfile.write(entry)\n",
    "    entry = 'in_vivo\\t' + '\\t'.join(invivo_essential_genes) + '\\n'\n",
    "    outfile.write(entry)\n",
    "    entry = 'low_sporulation\\t' + '\\t'.join(low_spores_only_essential_genes) + '\\n'\n",
    "    outfile.write(entry)\n",
    "    entry = 'high_sporulation\\t' + '\\t'.join(high_spores_only_essential_genes) + '\\n'\n",
    "    outfile.write(entry)\n"
   ]
  },
  {
   "cell_type": "markdown",
   "metadata": {},
   "source": [
    "### Context-specific Substrate Importance"
   ]
  },
  {
   "cell_type": "code",
   "execution_count": 20,
   "metadata": {},
   "outputs": [],
   "source": [
    "# Essential substrates\n",
    "\n",
    "import pandas\n",
    "from cobra.medium import minimal_medium\n",
    "\n",
    "# Non-exhaustive\n",
    "def find_essential_metabolites(model, fraction=0.01):\n",
    "\n",
    "    min_growth = model.slim_optimize() * fraction\n",
    "    ser = minimal_medium(model, min_objective_value=min_growth, minimize_components=True)\n",
    "\n",
    "    rxns = list(ser.index)\n",
    "    fluxes = list(ser.values)\n",
    "    cpds = []\n",
    "    for x in rxns: cpds.append(model.reactions.get_by_id(x).reactants[0].name)        \n",
    "    \n",
    "    media = {'Reaction': rxns, 'Substrate': cpds, 'Units': fluxes}    \n",
    "    media = pandas.DataFrame(media)\n",
    "    print('Minimal media components: ' + str(len(media.index)))\n",
    "    \n",
    "    return(media)\n"
   ]
  },
  {
   "cell_type": "code",
   "execution_count": 21,
   "metadata": {},
   "outputs": [
    {
     "name": "stdout",
     "output_type": "stream",
     "text": [
      "Minimal media components: 44\n"
     ]
    }
   ],
   "source": [
    "low_spores_min_media = find_essential_metabolites(low_spores_riptide.model)"
   ]
  },
  {
   "cell_type": "code",
   "execution_count": 22,
   "metadata": {},
   "outputs": [
    {
     "name": "stdout",
     "output_type": "stream",
     "text": [
      "Minimal media components: 45\n"
     ]
    }
   ],
   "source": [
    "high_spores_min_media = find_essential_metabolites(high_spores_riptide.model)"
   ]
  },
  {
   "cell_type": "code",
   "execution_count": 23,
   "metadata": {},
   "outputs": [
    {
     "name": "stdout",
     "output_type": "stream",
     "text": [
      "Shared: 38\n",
      "\n",
      "Low spores only: 6\n",
      "Medium spores only: 7\n"
     ]
    }
   ],
   "source": [
    "low_spores_substrates = set(low_spores_min_media['Substrate'])\n",
    "high_spores_substrates = set(high_spores_min_media['Substrate'])\n",
    "\n",
    "shared_substrates = low_spores_substrates.intersection(high_spores_substrates)\n",
    "low_spores_only_substrates = low_spores_substrates.difference(high_spores_substrates)\n",
    "high_spores_only_substrates = high_spores_substrates.difference(low_spores_substrates)\n",
    "\n",
    "print('Shared: ' + str(len(shared_substrates)) + '\\n')\n",
    "print('Low spores only: ' + str(len(low_spores_only_substrates)))\n",
    "print('Medium spores only: ' + str(len(high_spores_only_substrates)))"
   ]
  },
  {
   "cell_type": "code",
   "execution_count": 24,
   "metadata": {},
   "outputs": [
    {
     "name": "stdout",
     "output_type": "stream",
     "text": [
      "Shared components:\n",
      "ala-L-Thr-L\n",
      "4-Hydroxybenzoate\n",
      "Pyridoxol\n",
      "Deoxycytidine\n",
      "Sucrose\n",
      "Fe2+\n",
      "Octadecanoic acid\n",
      "Gly-Phe\n",
      "Co2+\n",
      "Na+\n",
      "L-ala-gly\n",
      "4-Aminobenzoate\n",
      "Mg\n",
      "Pantothenate\n",
      "Cl-\n",
      "L-Leucine\n",
      "Nicotinamide\n",
      "L-Arginine\n",
      "Succinate\n",
      "L-Tryptophan\n",
      "Folate\n",
      "K+\n",
      "L-Valine\n",
      "L-Lysine\n",
      "Ca2+\n",
      "Guanosine\n",
      "D-Glutamate\n",
      "N-Acetyl-Neuraminic acid\n",
      "L-Glutamate\n",
      "D-Proline\n",
      "Thiamin\n",
      "L-Isoleucine\n",
      "gly-asn-L\n",
      "Mn2+\n",
      "Biotin\n",
      "Deoxyuridine\n",
      "meso-2,6-Diaminopimelate\n",
      "Riboflavin\n"
     ]
    }
   ],
   "source": [
    "print('Shared components:')\n",
    "for x in shared_substrates: print(x)"
   ]
  },
  {
   "cell_type": "code",
   "execution_count": 25,
   "metadata": {},
   "outputs": [],
   "source": [
    "import numpy\n",
    "import cobra\n",
    "import cobra.flux_analysis\n",
    "\n",
    "def _getKey(item):\n",
    "    return item[1]\n",
    "\n",
    "# Scale each active exchange back and examine its influence on objective flux\n",
    "def find_primary_sources(model, flux_samples=False, fraction=0.01, cutoff=0.8, pfba_fraction=0.8):\n",
    "    # Requires a model \n",
    "    # Optional: flux_samples = flux samples pandas dataframe associated with model\n",
    "    #           fraction = percent of median flux to limit exchange reactions by\n",
    "    #           cutoff = quantile of top C and N sources to report\n",
    "    #           pfba_fraction = fraction of optimal objective value for pfba solution\n",
    "\n",
    "    sources = {}\n",
    "    c_sources = []\n",
    "    c_influence = []\n",
    "    n_sources = []\n",
    "    n_influence = []\n",
    "    p_source = ['p_source', -1.0]\n",
    "    s_source = ['s_source', -1.0]\n",
    "    objVal = model.slim_optimize()\n",
    "    pfba_solution = cobra.flux_analysis.pfba(model, fraction_of_optimum=pfba_fraction)\n",
    "    \n",
    "    # Parse exchange flux samples for imported metabolites\n",
    "    exchanges = [rxn.id for rxn in model.boundary]\n",
    "    for rxn in exchanges:\n",
    "        if isinstance(flux_samples, pandas.DataFrame):\n",
    "            current_samples = list(set(flux_samples[rxn]))\n",
    "            flux = numpy.mean(current_samples)\n",
    "        else:\n",
    "            flux = pfba_solution.fluxes[rxn]\n",
    "        if flux >= -1e-6: continue # Skip exported byproducts or unused reactions\n",
    "        bound = flux * fraction\n",
    "        \n",
    "        # Test for disproportionate effect on objective\n",
    "        old_bounds = model.reactions.get_by_id(rxn).bounds\n",
    "        model.reactions.get_by_id(rxn).bounds = (bound, bound)        \n",
    "        new_objVal = model.slim_optimize()\n",
    "        model.reactions.get_by_id(rxn).bounds = old_bounds # Reset bounds\n",
    "        if str(new_objVal) == 'nan': new_objVal = objVal * fraction # Correct for nan\n",
    "        \n",
    "        # Calculate the degree of change to objective value\n",
    "        if new_objVal != objVal:\n",
    "            flux_ratio = objVal / new_objVal\n",
    "            adjustment = abs(flux) * flux_ratio\n",
    "        else:\n",
    "            adjustment = 1.\n",
    "        \n",
    "        # Normalize elemental component contributions\n",
    "        metabolite = model.reactions.get_by_id(rxn).reactants[0]\n",
    "        sources[metabolite.id] = {}\n",
    "        for element in metabolite.elements.keys():\n",
    "            element_supply = float(metabolite.elements[element]) * adjustment\n",
    "            if element_supply > 0.: element_supply = numpy.log(element_supply)\n",
    "            sources[metabolite.id][element] = element_supply\n",
    "                \n",
    "            # Identify largest sources of main elements\n",
    "            if element == 'C' and element_supply > 0.0:\n",
    "                c_sources.append([metabolite.id, element_supply])\n",
    "                c_influence.append(element_supply)\n",
    "            elif element == 'N' and element_supply > 0.0:\n",
    "                n_sources.append([metabolite.id, element_supply])\n",
    "                n_influence.append(element_supply)\n",
    "            elif element == 'P' and element_supply > 0.0:\n",
    "                p_source = [metabolite.id, element_supply]\n",
    "            elif element == 'S' and element_supply > 0.0:\n",
    "                s_source = [metabolite.id, element_supply]\n",
    "    \n",
    "    # Rank by largest contributions\n",
    "    c_sources = sorted(c_sources, reverse=True, key=_getKey)\n",
    "    n_sources = sorted(n_sources, reverse=True, key=_getKey)\n",
    "    \n",
    "    print('Top carbon sources:')\n",
    "    current = max(c_influence)\n",
    "    x = 0\n",
    "    while current >= numpy.quantile(c_influence, cutoff):\n",
    "        print(model.metabolites.get_by_id(c_sources[x][0]).name + ' (' + str(round(c_sources[x][1],3)) + ')')\n",
    "        current = c_sources[x][1]\n",
    "        x += 1\n",
    "        \n",
    "    print('\\nTop nitrogen sources:')\n",
    "    current = max(n_influence)\n",
    "    x = 0\n",
    "    while current >= numpy.quantile(n_influence, cutoff):\n",
    "        print(model.metabolites.get_by_id(n_sources[x][0]).name + ' (' + str(round(n_sources[x][1],3)) + ')')\n",
    "        current = n_sources[x][1]\n",
    "        x += 1\n",
    "        \n",
    "    print('\\nPrimary phosphorous source:')\n",
    "    print(model.metabolites.get_by_id(p_source[0]).name + ' (' + str(round(p_source[1],3)) + ')')\n",
    "    \n",
    "    print('\\nPrimary sulfur source:')\n",
    "    print(model.metabolites.get_by_id(s_source[0]).name + ' (' + str(round(s_source[1],3)) + ')')\n",
    "    \n",
    "    return sources\n"
   ]
  },
  {
   "cell_type": "code",
   "execution_count": 26,
   "metadata": {},
   "outputs": [
    {
     "name": "stdout",
     "output_type": "stream",
     "text": [
      "Top carbon sources:\n",
      "D-Glutamate (10.333)\n",
      "L-Lysine (10.298)\n",
      "meso-2,6-Diaminopimelate (9.976)\n",
      "L-Isoleucine (9.413)\n",
      "L-Leucine (9.322)\n",
      "L-Glutamate (9.208)\n",
      "Gly-Phe (9.197)\n",
      "gly-asn-L (8.977)\n",
      "ala-L-Thr-L (8.87)\n",
      "Adenosine (8.845)\n",
      "\n",
      "Top nitrogen sources:\n",
      "L-Lysine (9.199)\n",
      "D-Glutamate (8.723)\n",
      "meso-2,6-Diaminopimelate (8.723)\n",
      "gly-asn-L (8.283)\n",
      "Adenosine (8.151)\n",
      "L-Arginine (7.872)\n",
      "L-Isoleucine (7.621)\n",
      "ala-L-Thr-L (7.617)\n",
      "\n",
      "Primary phosphorous source:\n",
      "D-fructose-6-phosphate (5.983)\n",
      "\n",
      "Primary sulfur source:\n",
      "Gly-Met (6.316)\n"
     ]
    }
   ],
   "source": [
    "low_spores_sources = find_primary_sources(low_spores_riptide.model, flux_samples=low_spores_riptide.flux_samples)"
   ]
  },
  {
   "cell_type": "code",
   "execution_count": 27,
   "metadata": {},
   "outputs": [
    {
     "name": "stdout",
     "output_type": "stream",
     "text": [
      "Top carbon sources:\n",
      "Deoxyuridine (12.72)\n",
      "L-ala-gly (11.341)\n",
      "N-Acetyl-Neuraminic acid (11.147)\n",
      "D-Glutamate (10.342)\n",
      "L-Lysine (10.307)\n",
      "meso-2,6-Diaminopimelate (9.985)\n",
      "L-Isoleucine (9.529)\n",
      "L-Leucine (9.331)\n",
      "L-Glutamate (9.217)\n",
      "\n",
      "Top nitrogen sources:\n",
      "Deoxyuridine (11.216)\n",
      "L-ala-gly (10.424)\n",
      "L-Lysine (9.208)\n",
      "N-Acetyl-Neuraminic acid (8.749)\n",
      "meso-2,6-Diaminopimelate (8.732)\n",
      "D-Glutamate (8.732)\n",
      "gly-asn-L (8.292)\n",
      "L-Arginine (7.881)\n",
      "\n",
      "Primary phosphorous source:\n",
      "D-fructose-6-phosphate (5.137)\n",
      "\n",
      "Primary sulfur source:\n",
      "gly-L-met (6.324)\n"
     ]
    }
   ],
   "source": [
    "high_spores_sources = find_primary_sources(high_spores_riptide.model, flux_samples=high_spores_riptide.flux_samples)"
   ]
  },
  {
   "cell_type": "markdown",
   "metadata": {},
   "source": [
    "###  Context-specific Topological Differences"
   ]
  },
  {
   "cell_type": "code",
   "execution_count": 28,
   "metadata": {},
   "outputs": [
    {
     "name": "stdout",
     "output_type": "stream",
     "text": [
      "Shared: 277\n",
      "\n",
      "Low spores only: 35\n",
      "Medium spores only: 28\n"
     ]
    }
   ],
   "source": [
    "# Shared topology - reactions\n",
    "low_spores_rxns = set([x.id for x in low_spores_riptide.model.reactions])\n",
    "high_spores_rxns = set([x.id for x in high_spores_riptide.model.reactions])\n",
    "\n",
    "shared_rxns = low_spores_rxns.intersection(high_spores_rxns)\n",
    "low_spores_only_rxns = low_spores_rxns.difference(high_spores_rxns)\n",
    "high_spores_only_rxns = high_spores_rxns.difference(low_spores_rxns)\n",
    "\n",
    "print('Shared: ' + str(len(shared_rxns)) + '\\n')\n",
    "print('Low spores only: ' + str(len(low_spores_only_rxns)))\n",
    "print('Medium spores only: ' + str(len(high_spores_only_rxns)))"
   ]
  },
  {
   "cell_type": "code",
   "execution_count": 29,
   "metadata": {},
   "outputs": [
    {
     "name": "stdout",
     "output_type": "stream",
     "text": [
      "Low spores only:\n",
      "rxn30075_c\tGlutamate dehydrogenase (NAD)\n",
      "rxn01506_c\tN-Acetyl-D-glucosamine 6-phosphate 2-epimerase\n",
      "EX_cpd00226_e\tHypoxanthine exchange\n",
      "EX_cpd00182_e\tAdenosine exchange\n",
      "EX_cpd11591_e\tGly-Met exchange\n",
      "rxn05201_c\tHypoxanthine hydrogen symport\n",
      "EX_cpd00117_e\tD-Alanine exchange\n",
      "rxn01967_c\tbeta-D-Glucose 1-phosphate 1,6-phosphomutase\n",
      "rxn05551_c\tethanolamine transport in/out via proton symport\n",
      "rxn00223_c\tD-glucose aldose-ketose-isomerase\n",
      "EX_cpd00001_e\tH2O exchange\n",
      "rxn08686_c\tH2O transport via diffusion\n",
      "rxn05539_c\toligopeptide-transporting ATPase\n",
      "rxn01966_c\talpha,alpha-Trehalose:orthophosphate beta-D-glucosyltransferase\n",
      "rxn05543_c\toligopeptide-transporting ATPase\n",
      "rxn09655_c\tTrehalose transport via proton symport\n",
      "EX_cpd00794_e\tD-Trehalose exchange\n",
      "rxn05486_c\tN-Acetylmannosamine H+ symporter\n",
      "rxn05535_c\toligopeptide-transporting ATPase\n",
      "rxn12635_c\tGly-Met aminopeptidase\n",
      "EX_cpd01017_e\tCys-Gly exchange\n",
      "rxn05494_c\tD-alanine transport via proton symport\n",
      "rxn02380_c\tbeta-D-Glucose 6-phosphate ketol-isomerase\n",
      "EX_cpd00162_e\tAminoethanol exchange\n",
      "rxn05318_c\tAdenosine hydrogen symport\n",
      "EX_cpd00492_e\tN-Acetyl-D-mannosamine exchange\n",
      "rxn00260_c\tL-Aspartate:2-oxoglutarate aminotransferase\n",
      "rxn01366_c\tUridine:phosphate alpha-D-ribosyltransferase\n",
      "EX_cpd11584_e\tAla-His exchange\n",
      "rxn12642_c\tAla-His aminopeptidase\n",
      "rxn00539_c\tethanolamine ammonia-lyase (acetaldehyde-forming)\n",
      "rxn01368_c\tCytidine aminohydrolase\n",
      "rxn00650_c\tCys-Gly aminopeptidase\n",
      "rxn01952_c\tN-Acetylmannosamine phosphotransferase\n",
      "rxn00926_c\tAdenine aminohydrolase\n",
      "\n",
      "High spores only:\n",
      "rxn12848_c\tGly-Cys ABC transporters\n",
      "rxn01446_c\tDeoxyguanosine:orthophosphate ribosyltransferase\n",
      "rxn30244_c\tAminopeptidase\n",
      "ID008_c\t2,3-Dihydroxyphenylpropanoate diffusion\n",
      "rxn05203_c\tGuanine symport\n",
      "rxn20606_c\tD-proline reductase\n",
      "rxn30274_c\tDipeptide transport via ABC system\n",
      "rxn07124_c\tp-Hydroxyphenylacetate decarboxylase\n",
      "EX_cpd29697_e\tL-ala-L-his exchange\n",
      "EX_cpd00339_e\t5-Aminopentanoate exchange\n",
      "EX_cpd00438_e\tDeoxyadenosine exchange\n",
      "EX_cpd03170_e\t4-Hydroxymandelate exchange\n",
      "rxn00785_c\tD-Fructose 6-phosphate:D-glyceraldehyde-3-phosphate glycolaldehyde transferase\n",
      "rxn30239_c\tAminopeptidase\n",
      "rxn12844_c\tGly-Cys aminopeptidase\n",
      "rxn01200_c\tSedoheptulose-7-phosphate:D-glyceraldehyde-3-phosphate glycolaldehyde transferase\n",
      "EX_cpd29693_e\tgly-L-met exchange\n",
      "rxn01548_c\tguanosine:phosphate alpha-D-ribosyltransferase\n",
      "EX_cpd15603_e\tGly-Cys exchange\n",
      "rxn00527_c\tL-tyrosine:2-oxoglutarate aminotransferase\n",
      "EX_cpd00207_e\tGuanine exchange\n",
      "rxn00777_c\tD-ribose-5-phosphate aldose-ketose-isomerase\n",
      "rxn30264_c\tDipeptide transport via ABC system\n",
      "rxn01116_c\tD-Ribulose-5-phosphate 3-epimerase\n",
      "rxn01859_c\tDeoxyadenosine:orthophosphate ribosyltransferase\n",
      "rxn00778_c\tD-Ribose 1,5-phosphomutase\n",
      "rxn12566_c\t5-Aminopentanoate transport via proton symport\n",
      "rxn05317_c\tTransport of deoxyadenosine, extracellular\n"
     ]
    }
   ],
   "source": [
    "print('Low spores only:')\n",
    "for x in low_spores_only_rxns:\n",
    "    print(x + '\\t' + iCdG698.reactions.get_by_id(x).name)\n",
    "\n",
    "print('\\nHigh spores only:')\n",
    "for y in high_spores_only_rxns:\n",
    "    print(y + '\\t' + iCdG698.reactions.get_by_id(y).name)"
   ]
  },
  {
   "cell_type": "code",
   "execution_count": 30,
   "metadata": {},
   "outputs": [
    {
     "name": "stdout",
     "output_type": "stream",
     "text": [
      "Shared: 288\n",
      "\n",
      "Low spores only: 21\n",
      "cpd00226_e\tHypoxanthine\n",
      "cpd00249_c\tUridine\n",
      "cpd00117_e\tD-Alanine\n",
      "cpd00863_c\tbeta-D-Glucose 6-phosphate\n",
      "cpd11591_e\tGly-Met\n",
      "cpd00182_e\tAdenosine\n",
      "cpd02612_c\tN-Acetylmannosamine 6-phosphate\n",
      "cpd00162_e\tAminoethanol\n",
      "cpd01017_c\tCys-Gly\n",
      "cpd11591_c\tGly-Met\n",
      "cpd00162_c\tAminoethanol\n",
      "cpd00001_e\tH2O\n",
      "cpd01017_e\tCys-Gly\n",
      "cpd00226_c\tHypoxanthine\n",
      "cpd00794_e\tD-Trehalose\n",
      "cpd00794_c\tD-Trehalose\n",
      "cpd00492_e\tN-Acetyl-D-mannosamine\n",
      "cpd11584_c\tAla-His\n",
      "cpd11584_e\tAla-His\n",
      "cpd00027_c\tD-Glucose\n",
      "cpd00501_c\tbeta-D-Glucose 1-phosphate\n",
      "\n",
      "High spores only: 18\n",
      "cpd00171_c\tD-Ribulose5-phosphate\n",
      "cpd29697_e\tL-ala-L-his\n",
      "cpd29697_c\tL-ala-L-his\n",
      "cpd00438_c\tDeoxyadenosine\n",
      "cpd00198_c\tD-Xylulose5-phosphate\n",
      "cpd00868_c\tp-hydroxyphenylpyruvate\n",
      "cpd29693_c\tgly-L-met\n",
      "cpd00339_e\t5-Aminopentanoate\n",
      "cpd15603_c\tGly-Cys\n",
      "cpd03170_c\t4-Hydroxymandelate\n",
      "cpd00438_e\tDeoxyadenosine\n",
      "cpd00207_c\tGuanine\n",
      "cpd00339_c\t5-Aminopentanoate\n",
      "cpd29693_e\tgly-L-met\n",
      "cpd15603_e\tGly-Cys\n",
      "cpd03170_e\t4-Hydroxymandelate\n",
      "cpd00101_c\tribose-5-phosphate\n",
      "cpd00207_e\tGuanine\n"
     ]
    }
   ],
   "source": [
    "# Shared topology - metabolites\n",
    "low_spores_cpds = set([x.id for x in low_spores_riptide.model.metabolites])\n",
    "high_spores_cpds = set([x.id for x in high_spores_riptide.model.metabolites])\n",
    "\n",
    "shared_cpds = low_spores_cpds.intersection(high_spores_cpds)\n",
    "low_spores_only_cpds = low_spores_cpds.difference(high_spores_cpds)\n",
    "high_spores_only_cpds = high_spores_cpds.difference(low_spores_cpds)\n",
    "\n",
    "print('Shared:',len(shared_cpds))\n",
    "\n",
    "print('\\nLow spores only:',len(low_spores_only_cpds))\n",
    "for x in low_spores_only_cpds:\n",
    "    print(x + '\\t' + iCdG698.metabolites.get_by_id(x).name)\n",
    "\n",
    "\n",
    "print('\\nHigh spores only:',len(high_spores_only_cpds))\n",
    "for y in high_spores_only_cpds:\n",
    "    print(y + '\\t' + iCdG698.metabolites.get_by_id(y).name)\n"
   ]
  },
  {
   "cell_type": "markdown",
   "metadata": {},
   "source": [
    "### Reaction essentiality"
   ]
  },
  {
   "cell_type": "code",
   "execution_count": 69,
   "metadata": {},
   "outputs": [],
   "source": [
    "import copy\n",
    "from cobra.flux_analysis.variability import find_essential_reactions\n",
    "\n",
    "def essential_reactions(genre, media=None, optimum_fraction=0.01):\n",
    "    model = copy.deepcopy(genre)\n",
    "    \n",
    "    # Change media conditions if necessary\n",
    "    if media is not None:\n",
    "        exchanges = ['EX_' + x for x in media]\n",
    "        for rxn in model.reactions:\n",
    "            if len(list(rxn.products)) == 0:\n",
    "                if rxn.id in exchanges:\n",
    "                    model.reactions.get_by_id(rxn.id).lower_bound = max([-1000.0,model.reactions.get_by_id(rxn.id).lower_bound])\n",
    "                else:\n",
    "                    model.reactions.get_by_id(rxn.id).lower_bound = 0.0\n",
    "    \n",
    "    # Find essential genes\n",
    "    essential_reactions = find_essential_reactions(model, threshold=optimum_fraction)\n",
    "    \n",
    "    return essential_reactions\n",
    "                "
   ]
  },
  {
   "cell_type": "code",
   "execution_count": 70,
   "metadata": {},
   "outputs": [
    {
     "name": "stdout",
     "output_type": "stream",
     "text": [
      "Low spores essential reactions: 218\n"
     ]
    }
   ],
   "source": [
    "low_spores_essential_reactions = essential_reactions(low_spores_riptide.model)\n",
    "low_spores_essential_reactions = set([x.id for x in low_spores_essential_reactions])\n",
    "print('Low spores essential reactions: ' + str(len(low_spores_essential_reactions)))"
   ]
  },
  {
   "cell_type": "code",
   "execution_count": 71,
   "metadata": {},
   "outputs": [
    {
     "name": "stdout",
     "output_type": "stream",
     "text": [
      "High spores essential reactions: 224\n"
     ]
    }
   ],
   "source": [
    "high_spores_essential_reactions = essential_reactions(high_spores_riptide.model)\n",
    "high_spores_essential_reactions = set([x.id for x in high_spores_essential_reactions])\n",
    "print('High spores essential reactions: ' + str(len(high_spores_essential_reactions)))"
   ]
  },
  {
   "cell_type": "code",
   "execution_count": 72,
   "metadata": {},
   "outputs": [
    {
     "name": "stdout",
     "output_type": "stream",
     "text": [
      "Low spores only: 13\n",
      "High spores only: 19\n"
     ]
    }
   ],
   "source": [
    "low_spores_only_essential_reactions = low_spores_essential_reactions.difference(high_spores_essential_reactions)\n",
    "high_spores_only_essential_reactions = high_spores_essential_reactions.difference(low_spores_essential_reactions)\n",
    "\n",
    "print('Low spores only: ' + str(len(low_spores_only_essential_reactions)))\n",
    "print('High spores only: ' + str(len(high_spores_only_essential_reactions)))"
   ]
  },
  {
   "cell_type": "code",
   "execution_count": 73,
   "metadata": {},
   "outputs": [
    {
     "name": "stdout",
     "output_type": "stream",
     "text": [
      "Low only:\n",
      "EX_cpd00182_e Adenosine exchange\n",
      "EX_cpd00277_e Deoxyguanosine exchange\n",
      "EX_cpd00311_e Guanosine exchange\n",
      "rxn05681_c 2-dehydro-3-deoxy-D-gluconate transport via proton symport, reversible\n",
      "rxn00530_c L-tyrosine ammonia-lyase (trans-p-hydroxycinnamate-forming)\n",
      "rxn12549_c 4-Hydroxybenzoate transport via proton symport\n",
      "rxn09688_c deoxyguanosine transport in via proton symport (periplasm)\n",
      "rxn03884_c 2-dehydro-3-deoxy-D-gluconate-6-phosphate D-glyceraldehyde-3-phosphate-lyase\n",
      "rxn00970_c Hydroxybenzoate synthase\n",
      "rxn05318_c Adenosine hydrogen symport\n",
      "EX_cpd02711_e 2-keto-3-deoxygluconate exchange\n",
      "EX_cpd00136_e 4-Hydroxybenzoate exchange\n",
      "rxn05204_c Guanosine hydrogen symport\n",
      "\n",
      "High only:\n",
      "rxn00555_c L-glutamine:D-fructose-6-phosphate isomerase (deaminating)\n",
      "rxn09685_c Deoxyuridine symport\n",
      "rxn05527_c Cytosine hydrogen symport\n",
      "rxn25164_c Succinyl-CoA synthase\n",
      "rxn00602_c Methylmalonyl-CoA isomerase\n",
      "EX_cpd00307_e Cytosine exchange\n",
      "rxn00678_c (S)-2-Methyl-3-oxopropanoyl-CoA:pyruvate carboxyltransferase\n",
      "EX_cpd00412_e Deoxyuridine exchange\n",
      "rxn29571_c Neu5Ac H+ symporter\n",
      "EX_cpd00036_e Succinate exchange\n",
      "rxn01322_c N-Acetylneuraminate pyruvate-lyase (N-acetyl-D-mannosamine-forming)\n",
      "rxn01648_c Cytidine:orthophosphate alpha-D-ribosyltransferase\n",
      "rxn01799_c deoxyuridine:orthophosphate 2-deoxy-D-ribosyltransferase\n",
      "EX_cpd00041_e L-Aspartate exchange\n",
      "rxn34357_c Na+/aspartate symport\n",
      "rxn05313_c phosphate transport in/out via three Na+ symporter\n",
      "rxn00085_c L-Glutamate:NADP+ oxidoreductase (transaminating)\n",
      "EX_cpd00232_e Neu5Ac exchange\n",
      "rxn09271_c Succinate transport\n"
     ]
    }
   ],
   "source": [
    "print('Low only:')\n",
    "for x in low_spores_only_essential_reactions:\n",
    "    print(x, iCdG698.reactions.get_by_id(x).name)\n",
    "    \n",
    "print('\\nHigh only:')\n",
    "for x in high_spores_only_essential_reactions:\n",
    "    print(x, iCdG698.reactions.get_by_id(x).name)"
   ]
  },
  {
   "cell_type": "code",
   "execution_count": 31,
   "metadata": {},
   "outputs": [],
   "source": [
    "import cobra.flux_analysis\n",
    "from cobra.flux_analysis.parsimonious import pfba\n",
    "\n",
    "# Inferring media condition\n",
    "def find_substrates_and_byproducts(model):\n",
    "    \n",
    "    pfba_solv = pfba(model)\n",
    "    \n",
    "    substrates = set()\n",
    "    byproducts = set()\n",
    "    for rxn in model.boundary:\n",
    "        if pfba_solv.fluxes[rxn.id] < 0.0:\n",
    "            substrates |= set([rxn.reactants[0].id])\n",
    "        elif pfba_solv.fluxes[rxn.id] > 0.0:\n",
    "            byproducts |= set([rxn.reactants[0].id])\n",
    "\n",
    "    print(str(len(substrates)) + ' possible growth substrates found')\n",
    "    print(str(len(byproducts)) + ' possible byproducts found\\n')\n",
    "    \n",
    "    return substrates, byproducts\n",
    "\n",
    "\n",
    "# Inferring media condition\n",
    "def find_substrates_and_byproducts_riptide(riptide):\n",
    "        \n",
    "    substrates = []\n",
    "    byproducts = []\n",
    "\n",
    "    for rxn in riptide.model.exchanges:\n",
    "        \n",
    "        if numpy.median(riptide.flux_samples[rxn.id]) < -1.0:\n",
    "            substrates.append(rxn.reactants[0].id)\n",
    "        elif numpy.median(riptide.flux_samples[rxn.id]) > 1.0:\n",
    "            byproducts.append(rxn.reactants[0].id)\n",
    "            \n",
    "    substrates = set(substrates)\n",
    "    print(str(len(substrates)) + ' possible growth substrates found')\n",
    "    byproducts = set(byproducts)\n",
    "    print(str(len(byproducts)) + ' possible byproducts found\\n')\n",
    "    \n",
    "    return substrates, byproducts\n",
    "\n",
    "# Finding sources of elements\n",
    "def find_element_sources(model):\n",
    "    \n",
    "    sources = {'C':[], 'N':[], 'P':[], 'S':[]}\n",
    "    c_source = ['cpd_id', 0.0]\n",
    "    n_source = ['cpd_id', 0.0]\n",
    "    pfba_solution = pfba(model)\n",
    "    \n",
    "    # Parse exchange flux samples for imported metabolites\n",
    "    for rxn in model.boundary:\n",
    "        \n",
    "        flux = pfba_solution.fluxes[rxn.id]\n",
    "        if flux < -1e-6:\n",
    "            metabolite = rxn.reactants[0]\n",
    "            sources[metabolite.id] = {}\n",
    "            \n",
    "            # Multiply elemental components by median flux absolute value\n",
    "            for element in metabolite.elements.keys():\n",
    "                element_supply = float(metabolite.elements[element]) * abs(flux)\n",
    "                element_supply = round(numpy.log(element_supply), 3)\n",
    "                sources[metabolite.id][element] = element_supply\n",
    "                \n",
    "                # Identify largest sources of carbon and nitrogen\n",
    "                if element == 'C' and element_supply > c_source[1]:\n",
    "                    c_source = [metabolite.id, element_supply]\n",
    "                    sources['C'].append(c_source)\n",
    "                elif element == 'N' and element_supply > n_source[1]:\n",
    "                    n_source = [metabolite.id, element_supply]\n",
    "                    sources['N'].append(n_source)\n",
    "                elif element == 'P' and element_supply > 0.0:\n",
    "                    p_source = [metabolite.id, element_supply]\n",
    "                    sources['P'].append(p_source)\n",
    "                elif element == 'S' and element_supply > 0.0:\n",
    "                    s_source = [metabolite.id, element_supply]\n",
    "                    sources['S'].append(s_source)\n",
    "                    \n",
    "    print('Primary carbon source: ' + model.metabolites.get_by_id(c_source[0]).name + ' (' + str(c_source[1]) + ')')\n",
    "    print('Primary nitrogen source: ' + model.metabolites.get_by_id(n_source[0]).name + ' (' + str(n_source[1]) + ')')\n",
    "    print('Primary phosphorus source: ' + model.metabolites.get_by_id(p_source[0]).name + ' (' + str(p_source[1]) + ')')\n",
    "    print('Primary sulfur source: ' + model.metabolites.get_by_id(s_source[0]).name + ' (' + str(s_source[1]) + ')')\n",
    "\n",
    "    return sources\n",
    "\n",
    "# Finding sources of elements\n",
    "def find_element_sources_riptide(riptide):\n",
    "    \n",
    "    sources = {'C':[], 'N':[], 'P':[], 'S':[]}\n",
    "    c_source = ['cpd_id', 0.0]\n",
    "    n_source = ['cpd_id', 0.0]\n",
    "    pfba_solution = cobra.flux_analysis.pfba(riptide.model, fraction_of_optimum=0.8)\n",
    "    baseline = pfba_solution.objective_value\n",
    "    \n",
    "    # Parse exchange flux samples for imported metabolites\n",
    "    for rxn in riptide.model.boundary:\n",
    "        \n",
    "        # Test for disproportionate effect on objective\n",
    "        flux = min(riptide.flux_samples[rxn.id])\n",
    "        if flux >= -1e-6: continue # Skip exported byproducts or unused reactions\n",
    "        new_bound = flux * 0.01\n",
    "        old_bounds = rxn.bounds\n",
    "        rxn.bounds = (new_bound, new_bound)        \n",
    "        new_objVal = riptide.model.slim_optimize()\n",
    "        rxn.bounds = old_bounds # Reset bounds\n",
    "        if str(new_objVal) == 'nan': new_objVal = baseline * 0.01\n",
    "        \n",
    "        # Calculate the degree of change to objective value\n",
    "        if new_objVal != baseline:\n",
    "            flux_ratio = baseline / new_objVal\n",
    "            adjustment = abs(flux) * flux_ratio\n",
    "        else:\n",
    "            adjustment = 1.\n",
    "       \n",
    "        if flux < -1e-6:\n",
    "        #if min(riptide.flux_samples[rxn.id]) < -1e-6:\n",
    "            #flux = abs(min(riptide.flux_samples[rxn.id]))\n",
    "            metabolite = rxn.reactants[0]\n",
    "            sources[metabolite.id] = {}\n",
    "            \n",
    "            # Multiply elemental components by median flux absolute value\n",
    "            for element in metabolite.elements.keys():\n",
    "                #element_supply = round(float(metabolite.elements[element]) * flux, 3)\n",
    "                element_supply = float(metabolite.elements[element]) * adjustment\n",
    "                element_supply = round(numpy.log2(element_supply), 3)\n",
    "                sources[metabolite.id][element] = element_supply\n",
    "                \n",
    "                # Identify largest sources of carbon and nitrogen\n",
    "                if element == 'C' and element_supply > c_source[1]:\n",
    "                    c_source = [metabolite.id, element_supply]\n",
    "                    sources['C'].append(c_source)\n",
    "                elif element == 'N' and element_supply > n_source[1]:\n",
    "                    n_source = [metabolite.id, element_supply]\n",
    "                    sources['N'].append(n_source)\n",
    "                elif element == 'P' and element_supply > 0.0:\n",
    "                    p_source = [metabolite.id, element_supply]\n",
    "                    sources['P'].append(p_source)\n",
    "                elif element == 'S' and element_supply > 0.0:\n",
    "                    s_source = [metabolite.id, element_supply]\n",
    "                    sources['S'].append(s_source)\n",
    "                    \n",
    "    print('Primary carbon source: ' + riptide.model.metabolites.get_by_id(c_source[0]).name + ' (' + str(c_source[1]) + ')')\n",
    "    print('Primary nitrogen source: ' + riptide.model.metabolites.get_by_id(n_source[0]).name + ' (' + str(n_source[1]) + ')')\n",
    "    print('Primary phosphorus source: ' + riptide.model.metabolites.get_by_id(p_source[0]).name + ' (' + str(p_source[1]) + ')')\n",
    "    print('Primary sulfur source: ' + riptide.model.metabolites.get_by_id(s_source[0]).name + ' (' + str(s_source[1]) + ')')\n",
    "\n",
    "    return sources"
   ]
  },
  {
   "cell_type": "code",
   "execution_count": 32,
   "metadata": {},
   "outputs": [
    {
     "name": "stdout",
     "output_type": "stream",
     "text": [
      "32 possible growth substrates found\n",
      "12 possible byproducts found\n",
      "\n",
      "Primary carbon source: L-Isoleucine (8.7)\n",
      "Primary nitrogen source: L-Isoleucine (6.908)\n",
      "Primary phosphorus source: D-fructose-6-phosphate (6.222)\n",
      "Primary sulfur source: Gly-Met (1.71)\n"
     ]
    }
   ],
   "source": [
    "low_spores_substrates, low_spores_byproducts = find_substrates_and_byproducts_riptide(low_spores_riptide)\n",
    "low_spores_elem_sources = find_element_sources(low_spores_riptide.model)"
   ]
  },
  {
   "cell_type": "code",
   "execution_count": 33,
   "metadata": {},
   "outputs": [
    {
     "name": "stdout",
     "output_type": "stream",
     "text": [
      "30 possible growth substrates found\n",
      "13 possible byproducts found\n",
      "\n",
      "Primary carbon source: Guanosine (8.719)\n",
      "Primary nitrogen source: Guanosine (8.026)\n",
      "Primary phosphorus source: D-fructose-6-phosphate (4.639)\n",
      "Primary sulfur source: gly-L-met (1.719)\n"
     ]
    }
   ],
   "source": [
    "high_spores_substrates, high_spores_byproducts = find_substrates_and_byproducts_riptide(high_spores_riptide)\n",
    "high_spores_elem_sources = find_element_sources(high_spores_riptide.model)"
   ]
  },
  {
   "cell_type": "code",
   "execution_count": 34,
   "metadata": {},
   "outputs": [
    {
     "name": "stdout",
     "output_type": "stream",
     "text": [
      "Shared substrates: 26\n",
      "Low spores only substrates: 6\n",
      "High spores only substrates: 4\n"
     ]
    }
   ],
   "source": [
    "shared_substrates = low_spores_substrates.intersection(high_spores_substrates)\n",
    "low_spores_only_substrates = low_spores_substrates.difference(high_spores_substrates)\n",
    "high_spores_only_substrates = high_spores_substrates.difference(low_spores_substrates)\n",
    "\n",
    "print('Shared substrates: ' + str(len(shared_substrates)))\n",
    "print('Low spores only substrates: ' + str(len(low_spores_only_substrates)))\n",
    "print('High spores only substrates: ' + str(len(high_spores_only_substrates)))"
   ]
  },
  {
   "cell_type": "code",
   "execution_count": 35,
   "metadata": {},
   "outputs": [
    {
     "name": "stdout",
     "output_type": "stream",
     "text": [
      "\n",
      "Shared:\n",
      "cpd00023_e L-Glutamate\n",
      "cpd00067_e H+\n",
      "cpd00107_e L-Leucine\n",
      "cpd00186_e D-Glutamate\n",
      "cpd00065_e L-Tryptophan\n",
      "cpd29694_e L-ala-gly\n",
      "cpd03561_e 2-Hydroxybutyrate\n",
      "cpd11582_e ala-L-Thr-L\n",
      "cpd00277_e Deoxyguanosine\n",
      "cpd15605_e Gly-Phe\n",
      "cpd00036_e Succinate\n",
      "cpd00072_e D-fructose-6-phosphate\n",
      "cpd00136_e 4-Hydroxybenzoate\n",
      "cpd00039_e L-Lysine\n",
      "cpd00051_e L-Arginine\n",
      "cpd00232_e N-Acetyl-Neuraminic acid\n",
      "cpd00654_e Deoxycytidine\n",
      "cpd00322_e L-Isoleucine\n",
      "cpd00412_e Deoxyuridine\n",
      "cpd11581_e gly-asn-L\n",
      "cpd00567_e D-Proline\n",
      "cpd00054_e L-Serine\n",
      "cpd00311_e Guanosine\n",
      "cpd00516_e meso-2,6-Diaminopimelate\n",
      "cpd00156_e L-Valine\n",
      "cpd02711_e 2-keto-3-deoxygluconate\n",
      "\n",
      "Low only:\n",
      "cpd00182_e Adenosine -6.92135\n",
      "cpd01017_e Cys-Gly -2.64682\n",
      "cpd11591_e Gly-Met -5.51846\n",
      "cpd11584_e Ala-His -2.77967\n",
      "cpd00794_e D-Trehalose -189.97821\n",
      "cpd00162_e Aminoethanol -772.20349\n",
      "\n",
      "High only:\n",
      "cpd29697_e L-ala-L-his -2.80492\n",
      "cpd15603_e Gly-Cys -2.67086\n",
      "cpd29693_e gly-L-met -5.5686\n",
      "cpd00041_e L-Aspartate -11.79717\n"
     ]
    }
   ],
   "source": [
    "print('\\nShared:')\n",
    "for x in shared_substrates:\n",
    "    print(x, iCdG698.metabolites.get_by_id(x).name)\n",
    "\n",
    "print('\\nLow only:')\n",
    "for x in low_spores_only_substrates:\n",
    "    exchange = 'EX_' + x\n",
    "    flux = round(min(low_spores_riptide.flux_samples[exchange]), 5)\n",
    "    print(x, iCdG698.metabolites.get_by_id(x).name, flux)\n",
    "    \n",
    "print('\\nHigh only:')\n",
    "for x in high_spores_only_substrates:\n",
    "    exchange = 'EX_' + x\n",
    "    flux = round(min(high_spores_riptide.flux_samples[exchange]), 5)\n",
    "    print(x, iCdG698.metabolites.get_by_id(x).name, flux)"
   ]
  },
  {
   "cell_type": "code",
   "execution_count": 41,
   "metadata": {},
   "outputs": [
    {
     "name": "stdout",
     "output_type": "stream",
     "text": [
      "Low spores: L-Glutamate 0.141 -16.0 -16.0\n",
      "High spores: H+ 438.824 -771.0 -332.0\n",
      "Low spores: L-Leucine 0.132 -15.0 -15.0\n",
      "Low spores: D-Glutamate 0.434 -49.0 -50.0\n",
      "Low spores: L-Tryptophan 0.009 -1.0 -1.0\n",
      "High spores: L-ala-gly 4.632 -139.0 -135.0\n",
      "Low spores: 2-Hydroxybutyrate 283.572 -571.0 -855.0\n",
      "Low spores: ala-L-Thr-L 0.072 -8.0 -8.0\n",
      "Low spores: Deoxyguanosine 334.716 -1.0 -336.0\n",
      "Low spores: Gly-Phe 0.063 -7.0 -7.0\n",
      "High spores: Succinate 9.748 -11.0 -2.0\n",
      "High spores: D-fructose-6-phosphate 285.28 -413.0 -127.0\n",
      "Low spores: 4-Hydroxybenzoate 77.261 -7.0 -84.0\n",
      "Low spores: L-Lysine 0.349 -40.0 -40.0\n",
      "Low spores: L-Arginine 0.046 -5.0 -5.0\n",
      "High spores: N-Acetyl-Neuraminic acid 318.169 -369.0 -50.0\n",
      "Low spores: Deoxycytidine 0.023 -3.0 -3.0\n",
      "High spores: L-Isoleucine 72.595 -861.0 -788.0\n",
      "Low spores: Deoxyuridine 193.193 -104.0 -297.0\n",
      "Low spores: gly-asn-L 0.093 -11.0 -11.0\n",
      "Low spores: D-Proline 458.425 -4.0 -463.0\n",
      "Low spores: L-Serine 27.809 -307.0 -335.0\n",
      "Low spores: Guanosine 365.531 -3.0 -369.0\n",
      "Low spores: meso-2,6-Diaminopimelate 0.217 -25.0 -25.0\n",
      "Low spores: L-Valine 0.095 -11.0 -11.0\n",
      "High spores: 2-keto-3-deoxygluconate 113.203 -451.0 -337.0\n"
     ]
    }
   ],
   "source": [
    "for x in shared_substrates:\n",
    "    exchange = 'EX_' + x\n",
    "    flux1 = numpy.median(low_spores_riptide.flux_samples[exchange])\n",
    "    flux2 = numpy.median(high_spores_riptide.flux_samples[exchange])\n",
    "    diff = abs(flux1-flux2)\n",
    "    if flux1 > flux2:\n",
    "        print('Low spores:', iCdG698.metabolites.get_by_id(x).name, round(diff,3), round(flux1),round(flux2))\n",
    "    elif flux1 < flux2:\n",
    "        print('High spores:', iCdG698.metabolites.get_by_id(x).name, round(diff,3), round(flux1),round(flux2))\n",
    "    else:\n",
    "        print('Same:', iCdG698.metabolites.get_by_id(x).name)\n"
   ]
  },
  {
   "cell_type": "code",
   "execution_count": 37,
   "metadata": {},
   "outputs": [
    {
     "name": "stdout",
     "output_type": "stream",
     "text": [
      "Shared byproducts: 9\n",
      "Low spores only byproducts: 3\n",
      "High spores only byproducts: 4\n"
     ]
    }
   ],
   "source": [
    "shared_byproducts = low_spores_byproducts.intersection(high_spores_byproducts)\n",
    "low_spores_only_byproducts = low_spores_byproducts.difference(high_spores_byproducts)\n",
    "high_spores_only_byproducts = high_spores_byproducts.difference(low_spores_byproducts)\n",
    "\n",
    "print('Shared byproducts: ' + str(len(shared_byproducts)))\n",
    "print('Low spores only byproducts: ' + str(len(low_spores_only_byproducts)))\n",
    "print('High spores only byproducts: ' + str(len(high_spores_only_byproducts)))"
   ]
  },
  {
   "cell_type": "code",
   "execution_count": 38,
   "metadata": {},
   "outputs": [
    {
     "name": "stdout",
     "output_type": "stream",
     "text": [
      "High spores: Cytosine 193.2\n",
      "Low spores: Acetate 393.363\n",
      "High spores: Propionate 231.878\n",
      "Low spores: 2-Methylbutyrate 72.955\n",
      "High spores: CO2 12.481\n",
      "Low spores: N-Acetyl-D-glucosamine 201.852\n",
      "Low spores: Formate 0.362\n",
      "Low spores: Ammonia 641.31\n",
      "Low spores: Phosphate 429.482\n"
     ]
    }
   ],
   "source": [
    "for x in shared_byproducts:\n",
    "    exchange = 'EX_' + x\n",
    "    flux1 = numpy.median(low_spores_riptide.flux_samples[exchange])\n",
    "    flux2 = numpy.median(high_spores_riptide.flux_samples[exchange])\n",
    "    diff = abs(flux1-flux2)\n",
    "    if flux1 > flux2:\n",
    "        print('Low spores:', iCdG698.metabolites.get_by_id(x).name, round(diff,3))\n",
    "    elif flux1 < flux2:\n",
    "        print('High spores:', iCdG698.metabolites.get_by_id(x).name, round(diff,3))\n"
   ]
  },
  {
   "cell_type": "code",
   "execution_count": 39,
   "metadata": {},
   "outputs": [
    {
     "name": "stdout",
     "output_type": "stream",
     "text": [
      "Shared:\n",
      "cpd00307_e Cytosine 88.731 281.931\n",
      "cpd00029_e Acetate 1000.0 606.637\n",
      "cpd00141_e Propionate 624.41 856.288\n",
      "cpd19585_e 2-Methylbutyrate 844.264 771.309\n",
      "cpd00011_e CO2 838.677 851.158\n",
      "cpd00122_e N-Acetyl-D-glucosamine 1000.0 798.148\n",
      "cpd00047_e Formate 1000.0 999.638\n",
      "cpd00013_e Ammonia 727.524 86.215\n",
      "cpd00009_e Phosphate 830.794 401.311\n",
      "\n",
      "Low only:\n",
      "cpd00276_e D-Glucosamine 49.165\n",
      "cpd00001_e H2O 63.226\n",
      "cpd00226_e Hypoxanthine 15.439\n",
      "\n",
      "High only:\n",
      "cpd03170_e 4-Hydroxymandelate 77.106\n",
      "cpd00339_e 5-Aminopentanoate 457.57\n",
      "cpd00207_e Guanine 786.401\n",
      "cpd00438_e Deoxyadenosine 9.976\n"
     ]
    }
   ],
   "source": [
    "print('Shared:')\n",
    "for x in shared_byproducts:\n",
    "    exchange = 'EX_' + x\n",
    "    low_flux = round(numpy.median(low_spores_riptide.flux_samples[exchange]), 3)\n",
    "    hi_flux = round(numpy.median(high_spores_riptide.flux_samples[exchange]), 3)\n",
    "    print(x, iCdG698.metabolites.get_by_id(x).name, low_flux, hi_flux)\n",
    "\n",
    "print('\\nLow only:')\n",
    "for x in low_spores_only_byproducts:\n",
    "    exchange = 'EX_' + x\n",
    "    flux = round(numpy.median(low_spores_riptide.flux_samples[exchange]), 3)\n",
    "    print(x, iCdG698.metabolites.get_by_id(x).name, flux)\n",
    "    \n",
    "print('\\nHigh only:')\n",
    "for x in high_spores_only_byproducts:\n",
    "    exchange = 'EX_' + x\n",
    "    flux = round(numpy.median(high_spores_riptide.flux_samples[exchange]), 3)\n",
    "    print(x, iCdG698.metabolites.get_by_id(x).name, flux)"
   ]
  },
  {
   "cell_type": "code",
   "execution_count": null,
   "metadata": {},
   "outputs": [],
   "source": []
  },
  {
   "cell_type": "code",
   "execution_count": null,
   "metadata": {},
   "outputs": [],
   "source": []
  }
 ],
 "metadata": {
  "kernelspec": {
   "display_name": "Python 3",
   "language": "python",
   "name": "python3"
  },
  "language_info": {
   "codemirror_mode": {
    "name": "ipython",
    "version": 3
   },
   "file_extension": ".py",
   "mimetype": "text/x-python",
   "name": "python",
   "nbconvert_exporter": "python",
   "pygments_lexer": "ipython3",
   "version": "3.7.5"
  }
 },
 "nbformat": 4,
 "nbformat_minor": 2
}
