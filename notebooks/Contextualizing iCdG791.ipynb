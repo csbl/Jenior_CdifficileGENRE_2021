{
 "cells": [
  {
   "cell_type": "code",
   "execution_count": 1,
   "metadata": {},
   "outputs": [],
   "source": [
    "from riptide import *"
   ]
  },
  {
   "cell_type": "code",
   "execution_count": 2,
   "metadata": {},
   "outputs": [],
   "source": [
    "iCdG692 = cobra.io.load_json_model('/home/mjenior/Desktop/repos/Jenior_Cdifficile_2019/data/reconstructions/iCdG692.json')\n",
    "for rxn in iCdG692.boundary: rxn.bounds = (-1000., 1000.)"
   ]
  },
  {
   "cell_type": "markdown",
   "metadata": {},
   "source": [
    "### Base Model Statistics"
   ]
  },
  {
   "cell_type": "code",
   "execution_count": 3,
   "metadata": {},
   "outputs": [
    {
     "data": {
      "text/html": [
       "\n",
       "        <table>\n",
       "            <tr>\n",
       "                <td><strong>Name</strong></td>\n",
       "                <td>iCdG790</td>\n",
       "            </tr><tr>\n",
       "                <td><strong>Memory address</strong></td>\n",
       "                <td>0x07f53371a8c90</td>\n",
       "            </tr><tr>\n",
       "                <td><strong>Number of metabolites</strong></td>\n",
       "                <td>1132</td>\n",
       "            </tr><tr>\n",
       "                <td><strong>Number of reactions</strong></td>\n",
       "                <td>1129</td>\n",
       "            </tr><tr>\n",
       "                <td><strong>Number of groups</strong></td>\n",
       "                <td>0</td>\n",
       "            </tr><tr>\n",
       "                <td><strong>Objective expression</strong></td>\n",
       "                <td>1.0*biomass - 1.0*biomass_reverse_01e59</td>\n",
       "            </tr><tr>\n",
       "                <td><strong>Compartments</strong></td>\n",
       "                <td>cytosol, extracellular</td>\n",
       "            </tr>\n",
       "          </table>"
      ],
      "text/plain": [
       "<Model iCdG790 at 0x7f53371a8c90>"
      ]
     },
     "execution_count": 3,
     "metadata": {},
     "output_type": "execute_result"
    }
   ],
   "source": [
    "iCdG692"
   ]
  },
  {
   "cell_type": "code",
   "execution_count": 8,
   "metadata": {},
   "outputs": [
    {
     "name": "stdout",
     "output_type": "stream",
     "text": [
      "Genes: 692\n",
      "Exchanges: 162\n",
      "Transporters: 174\n",
      "Metabolic reactions: 972\n"
     ]
    }
   ],
   "source": [
    "# Report some additional stats\n",
    "exch = 0\n",
    "for rxn in iCdG692.reactions:\n",
    "    if len(list(rxn.products)) == 0:\n",
    "        exch += 1\n",
    "trans = 0\n",
    "for rxn in iCdG692.reactions:\n",
    "    comps = set([x.compartment for x in list(rxn.reactants)] + [x.compartment for x in list(rxn.products)])\n",
    "    if len(comps) > 1:\n",
    "        trans += 1\n",
    "metab = len(list(iCdG692.reactions)) - exch - trans\n",
    "\n",
    "print('Genes: ' + str(len(list(iCdG692.genes))))\n",
    "print('Exchanges: ' + str(exch))\n",
    "print('Transporters: ' + str(trans))\n",
    "print('Metabolic reactions: ' + str(metab))"
   ]
  },
  {
   "cell_type": "code",
   "execution_count": 4,
   "metadata": {},
   "outputs": [
    {
     "name": "stdout",
     "output_type": "stream",
     "text": [
      "4.5959514170040485\n"
     ]
    }
   ],
   "source": [
    "x = 0\n",
    "for cpd in iCdG692.metabolites:\n",
    "    x += len(cpd.reactions)\n",
    "print(float(x)/float(len(iCdG692.metabolites))) "
   ]
  },
  {
   "cell_type": "code",
   "execution_count": 7,
   "metadata": {},
   "outputs": [
    {
     "name": "stdout",
     "output_type": "stream",
     "text": [
      "Objective value: 194.795\n"
     ]
    }
   ],
   "source": [
    "base_obj_val = str(round(iCdG692.slim_optimize(),3))\n",
    "print('Objective value: ' + base_obj_val)"
   ]
  },
  {
   "cell_type": "code",
   "execution_count": 9,
   "metadata": {},
   "outputs": [
    {
     "name": "stdout",
     "output_type": "stream",
     "text": [
      "Doubling time: 16.43 minutes\n"
     ]
    }
   ],
   "source": [
    "doubling = round((1.0 / iCdG692.slim_optimize()) * 3200.0, 2)\n",
    "print('Doubling time: ' + str(doubling) + ' minutes')"
   ]
  },
  {
   "cell_type": "markdown",
   "metadata": {},
   "source": [
    "### RIPTiDe *in vivo* Contextualization"
   ]
  },
  {
   "cell_type": "code",
   "execution_count": 11,
   "metadata": {},
   "outputs": [],
   "source": [
    "# Read in in vivo C. difficile transcription\n",
    "clindamycin = riptide.read_transcription_file('/home/mjenior/Desktop/repos/Jenior_Cdifficile_2019/data/transcript/jenior_etal/clindamycin.format.tsv', \n",
    "                                              header=True)\n",
    "streptomycin = riptide.read_transcription_file('/home/mjenior/Desktop/repos/Jenior_Cdifficile_2019/data/transcript/jenior_etal/streptomycin.format.tsv', \n",
    "                                               header=True)\n",
    "gnotobiotic = riptide.read_transcription_file('/home/mjenior/Desktop/repos/Jenior_Cdifficile_2019/data/transcript/jenior_etal/gnotobiotic.format.tsv', \n",
    "                                               header=True)"
   ]
  },
  {
   "cell_type": "code",
   "execution_count": 12,
   "metadata": {},
   "outputs": [
    {
     "name": "stdout",
     "output_type": "stream",
     "text": [
      "\n",
      "Initializing model and integrating transcriptomic data...\n",
      "Pruning zero flux subnetworks...\n",
      "Analyzing context-specific flux distributions...\n",
      "\n",
      "Reactions pruned to 316 from 1308 (75.84% change)\n",
      "Metabolites pruned to 318 from 1235 (74.25% change)\n",
      "Flux through the objective DECREASED to ~159.4 from ~194.8 (18.17% change)\n",
      "Context-specific metabolism correlates with transcriptome (r=0.178, p=0.001 *)\n",
      "\n",
      "RIPTiDe completed in 23 seconds\n",
      "\n"
     ]
    }
   ],
   "source": [
    "clinda_iCdG692_riptide = riptide.contextualize(model=iCdG692, transcriptome=clindamycin)"
   ]
  },
  {
   "cell_type": "code",
   "execution_count": 13,
   "metadata": {},
   "outputs": [
    {
     "name": "stdout",
     "output_type": "stream",
     "text": [
      "Doubling time: 20.08 minutes\n"
     ]
    }
   ],
   "source": [
    "doubling = round((1.0 / clinda_iCdG692_riptide.model.slim_optimize()) * 3200.0, 2)\n",
    "print('Doubling time: ' + str(doubling) + ' minutes')"
   ]
  },
  {
   "cell_type": "code",
   "execution_count": 14,
   "metadata": {},
   "outputs": [
    {
     "name": "stdout",
     "output_type": "stream",
     "text": [
      "\n",
      "Initializing model and integrating transcriptomic data...\n",
      "Pruning zero flux subnetworks...\n",
      "Analyzing context-specific flux distributions...\n",
      "\n",
      "Reactions pruned to 313 from 1308 (76.07% change)\n",
      "Metabolites pruned to 317 from 1235 (74.33% change)\n",
      "Flux through the objective DECREASED to ~158.28 from ~194.8 (18.75% change)\n",
      "Context-specific metabolism does not correlate with transcriptome (r=0.094, n.s.)\n",
      "\n",
      "RIPTiDe completed in 27 seconds\n",
      "\n"
     ]
    }
   ],
   "source": [
    "strep_iCdG692_riptide = riptide.contextualize(model=iCdG692, transcriptome=streptomycin)"
   ]
  },
  {
   "cell_type": "code",
   "execution_count": 15,
   "metadata": {},
   "outputs": [
    {
     "name": "stdout",
     "output_type": "stream",
     "text": [
      "Doubling time: 20.22 minutes\n"
     ]
    }
   ],
   "source": [
    "doubling = round((1.0 / strep_iCdG692_riptide.model.slim_optimize()) * 3200.0, 2)\n",
    "print('Doubling time: ' + str(doubling) + ' minutes')"
   ]
  },
  {
   "cell_type": "code",
   "execution_count": 16,
   "metadata": {},
   "outputs": [
    {
     "name": "stdout",
     "output_type": "stream",
     "text": [
      "\n",
      "Initializing model and integrating transcriptomic data...\n",
      "Pruning zero flux subnetworks...\n",
      "Analyzing context-specific flux distributions...\n",
      "\n",
      "Reactions pruned to 338 from 1308 (74.16% change)\n",
      "Metabolites pruned to 328 from 1235 (73.44% change)\n",
      "Flux through the objective DECREASED to ~157.92 from ~194.8 (18.93% change)\n",
      "Context-specific metabolism does not correlate with transcriptome (r=0.086, n.s.)\n",
      "\n",
      "RIPTiDe completed in 31 seconds\n",
      "\n"
     ]
    }
   ],
   "source": [
    "gf_iCdG692_riptide = riptide.contextualize(model=iCdG692, transcriptome=gnotobiotic)"
   ]
  },
  {
   "cell_type": "code",
   "execution_count": 18,
   "metadata": {},
   "outputs": [
    {
     "name": "stdout",
     "output_type": "stream",
     "text": [
      "Doubling time: 20.26 minutes\n"
     ]
    }
   ],
   "source": [
    "doubling = round((1.0 / gf_iCdG692_riptide.model.slim_optimize()) * 3200.0, 2)\n",
    "print('Doubling time: ' + str(doubling) + ' minutes')"
   ]
  },
  {
   "cell_type": "code",
   "execution_count": 21,
   "metadata": {},
   "outputs": [],
   "source": [
    "# Write results to files\n",
    "riptide.save_output(riptide_obj=clinda_iCdG692_riptide, path='/home/mjenior/Desktop/repos/Jenior_Cdifficile_2019/data/contextualized_iCdG692/riptide_clinda')\n",
    "riptide.save_output(riptide_obj=strep_iCdG692_riptide, path='/home/mjenior/Desktop/repos/Jenior_Cdifficile_2019/data/contextualized_iCdG692/riptide_strep')\n",
    "riptide.save_output(riptide_obj=gf_iCdG692_riptide, path='/home/mjenior/Desktop/repos/Jenior_Cdifficile_2019/data/contextualized_iCdG692/riptide_gnoto')"
   ]
  },
  {
   "cell_type": "markdown",
   "metadata": {},
   "source": [
    "### Context-specific Gene Essentiality"
   ]
  },
  {
   "cell_type": "code",
   "execution_count": 22,
   "metadata": {},
   "outputs": [],
   "source": [
    "import copy\n",
    "from cobra.flux_analysis.variability import find_essential_genes\n",
    "\n",
    "def essential_genes(genre, media=None, optimum_fraction=0.01):\n",
    "    model = copy.deepcopy(genre)\n",
    "    \n",
    "    # Change media conditions if necessary\n",
    "    if media is not None:\n",
    "        exchanges = ['EX_' + x for x in media]\n",
    "        for rxn in model.reactions:\n",
    "            if len(list(rxn.products)) == 0:\n",
    "                if rxn.id in exchanges:\n",
    "                    model.reactions.get_by_id(rxn.id).lower_bound = max([-1000.0,model.reactions.get_by_id(rxn.id).lower_bound])\n",
    "                else:\n",
    "                    model.reactions.get_by_id(rxn.id).lower_bound = 0.0\n",
    "    \n",
    "    # Find essential genes\n",
    "    essential_genes = find_essential_genes(model, threshold=optimum_fraction)\n",
    "    \n",
    "    return essential_genes\n",
    "                "
   ]
  },
  {
   "cell_type": "code",
   "execution_count": 23,
   "metadata": {},
   "outputs": [
    {
     "name": "stdout",
     "output_type": "stream",
     "text": [
      "Uncontextualized essential genes: 58\n"
     ]
    }
   ],
   "source": [
    "# Unconstrained base model\n",
    "base_essential = essential_genes(iCdG692)\n",
    "base_essential_genes = set([x.id for x in base_essential])\n",
    "print('Uncontextualized essential genes: ' + str(len(base_essential_genes)))"
   ]
  },
  {
   "cell_type": "code",
   "execution_count": 24,
   "metadata": {},
   "outputs": [
    {
     "name": "stdout",
     "output_type": "stream",
     "text": [
      "Clinda essential genes: 87\n"
     ]
    }
   ],
   "source": [
    "clinda_essential_genes = essential_genes(clinda_iCdG692_riptide.model)\n",
    "clinda_essential_genes = set([x.id for x in clinda_essential_genes])\n",
    "print('Clinda essential genes: ' + str(len(clinda_essential_genes)))"
   ]
  },
  {
   "cell_type": "code",
   "execution_count": 25,
   "metadata": {},
   "outputs": [
    {
     "name": "stdout",
     "output_type": "stream",
     "text": [
      "Strep essential genes: 86\n"
     ]
    }
   ],
   "source": [
    "strep_essential_genes = essential_genes(strep_iCdG692_riptide.model)\n",
    "strep_essential_genes = set([x.id for x in strep_essential_genes])\n",
    "print('Strep essential genes: ' + str(len(strep_essential_genes)))"
   ]
  },
  {
   "cell_type": "code",
   "execution_count": 26,
   "metadata": {},
   "outputs": [
    {
     "name": "stdout",
     "output_type": "stream",
     "text": [
      "Shared: 83\n",
      "\n",
      "Strep only: 3\n",
      "Clinda only: 4\n"
     ]
    }
   ],
   "source": [
    "shared_essential_genes = strep_essential_genes.intersection(clinda_essential_genes)\n",
    "strep_only_essential_genes = strep_essential_genes.difference(clinda_essential_genes)\n",
    "clinda_only_essential_genes = clinda_essential_genes.difference(strep_essential_genes)\n",
    "\n",
    "print('Shared: ' + str(len(shared_essential_genes)) + '\\n')\n",
    "print('Strep only: ' + str(len(strep_only_essential_genes)))\n",
    "print('Clinda only: ' + str(len(clinda_only_essential_genes)))"
   ]
  },
  {
   "cell_type": "code",
   "execution_count": 27,
   "metadata": {},
   "outputs": [
    {
     "name": "stdout",
     "output_type": "stream",
     "text": [
      "\n",
      "strep only:\n",
      "PTS system, N-acetylglucosamine-specific IIC component (EC 2.7.1.69)\n",
      "Glutamate synthase [NADPH] large chain (EC 1.4.1.13)\n",
      "N-acetylgalactosamine-6-phosphate deacetylase | nagA\n",
      "\n",
      "clinda only:\n",
      "Glycine cleavage system H protein\n",
      "pyrimidine-nucleoside phosphorylase (EC 2.4.2.2)\n",
      "Deoxyribose-phosphate aldolase (EC 4.1.2.4)\n",
      "phosphoribosylglycinamide formyltransferase (EC 2.1.2.2)\n"
     ]
    }
   ],
   "source": [
    "print('\\nstrep only:')\n",
    "for gene in strep_only_essential_genes:\n",
    "    print(strep_iCdG692_riptide.model.genes.get_by_id(gene).name)\n",
    "# CD630_06820 = sodium:solute symporter\n",
    "    \n",
    "print('\\nclinda only:')\n",
    "for gene in clinda_only_essential_genes:\n",
    "    print(clinda_iCdG692_riptide.model.genes.get_by_id(gene).name)"
   ]
  },
  {
   "cell_type": "markdown",
   "metadata": {},
   "source": [
    "### Context-specific Substrate Importance"
   ]
  },
  {
   "cell_type": "code",
   "execution_count": 28,
   "metadata": {},
   "outputs": [],
   "source": [
    "import pandas\n",
    "from cobra.medium import minimal_medium\n",
    "\n",
    "def find_essential_metabolites(model, fraction=0.01):\n",
    "\n",
    "    max_growth = model.slim_optimize() * fraction\n",
    "    ser = minimal_medium(model, max_growth)\n",
    "\n",
    "    rxns = list(ser.index)\n",
    "    fluxes = list(ser.values)\n",
    "    cpds = []\n",
    "    for x in rxns: cpds.append(model.reactions.get_by_id(x).reactants[0].name)        \n",
    "    \n",
    "    media = {'Reaction': rxns, 'Substrate': cpds, 'Units': fluxes}    \n",
    "    media = pandas.DataFrame(media)\n",
    "    print('Minimal media components: ' + str(len(media.index)))\n",
    "    \n",
    "    return(media)\n"
   ]
  },
  {
   "cell_type": "code",
   "execution_count": 29,
   "metadata": {},
   "outputs": [
    {
     "name": "stdout",
     "output_type": "stream",
     "text": [
      "Minimal media components: 46\n"
     ]
    }
   ],
   "source": [
    "clinda_min_media = find_essential_metabolites(clinda_iCdG692_riptide.model)"
   ]
  },
  {
   "cell_type": "code",
   "execution_count": 30,
   "metadata": {},
   "outputs": [
    {
     "name": "stdout",
     "output_type": "stream",
     "text": [
      "Minimal media components: 46\n"
     ]
    }
   ],
   "source": [
    "strep_min_media = find_essential_metabolites(strep_iCdG692_riptide.model)"
   ]
  },
  {
   "cell_type": "code",
   "execution_count": 31,
   "metadata": {},
   "outputs": [
    {
     "name": "stdout",
     "output_type": "stream",
     "text": [
      "Shared: 46\n",
      "\n",
      "Strep only: 0\n",
      "Clinda only: 0\n"
     ]
    }
   ],
   "source": [
    "strep_metabolites = set(strep_min_media['Substrate'])\n",
    "clinda_metabolites = set(clinda_min_media['Substrate'])\n",
    "\n",
    "shared_metabolites = strep_metabolites.intersection(clinda_metabolites)\n",
    "strep_only_metabolites = strep_metabolites.difference(clinda_metabolites)\n",
    "clinda_only_metabolites = clinda_metabolites.difference(strep_metabolites)\n",
    "\n",
    "print('Shared: ' + str(len(shared_metabolites)) + '\\n')\n",
    "print('Strep only: ' + str(len(strep_only_metabolites)))\n",
    "print('Clinda only: ' + str(len(clinda_only_metabolites)))"
   ]
  },
  {
   "cell_type": "markdown",
   "metadata": {},
   "source": [
    "###  Context-specific Topological Differences"
   ]
  },
  {
   "cell_type": "code",
   "execution_count": 32,
   "metadata": {},
   "outputs": [
    {
     "name": "stdout",
     "output_type": "stream",
     "text": [
      "Shared: 304\n",
      "\n",
      "Strep only: 9\n",
      "Clinda only: 12\n"
     ]
    }
   ],
   "source": [
    "# Shared topology - reactions\n",
    "clinda_rxns = set([x.id for x in clinda_iCdG692_riptide.model.reactions])\n",
    "strep_rxns = set([x.id for x in strep_iCdG692_riptide.model.reactions])\n",
    "\n",
    "shared_rxns = strep_rxns.intersection(clinda_rxns)\n",
    "strep_only_rxns = strep_rxns.difference(clinda_rxns)\n",
    "clinda_only_rxns = clinda_rxns.difference(strep_rxns)\n",
    "\n",
    "print('Shared: ' + str(len(shared_rxns)) + '\\n')\n",
    "print('Strep only: ' + str(len(strep_only_rxns)))\n",
    "print('Clinda only: ' + str(len(clinda_only_rxns)))"
   ]
  },
  {
   "cell_type": "code",
   "execution_count": 33,
   "metadata": {},
   "outputs": [
    {
     "name": "stdout",
     "output_type": "stream",
     "text": [
      "\n",
      "strep only:\n",
      "{'rxn00293_c', 'EX_cpd00165_e', 'rxn00171_c', 'rxn05703_c', 'rxn01859_c', 'rxn00109_c', 'rxn00692_c', 'rxn05317_c', 'EX_cpd00438_e'}\n",
      "\n",
      "clinda only:\n",
      "{'rxn01986_c', 'rxn00213_c', 'rxn05569_c', 'rxn01366_c', 'rxn01138_c', 'rxn05562_c', 'EX_cpd00276_e', 'rxn01368_c', 'rxn00784_c', 'rxn00193_c', 'EX_cpd00089_e', 'rxn00908_c'}\n"
     ]
    }
   ],
   "source": [
    "print('\\nstrep only:')\n",
    "print(strep_only_rxns)\n",
    "\n",
    "print('\\nclinda only:')\n",
    "print(clinda_only_rxns)"
   ]
  },
  {
   "cell_type": "code",
   "execution_count": 34,
   "metadata": {},
   "outputs": [
    {
     "name": "stdout",
     "output_type": "stream",
     "text": [
      "Shared: 313\n",
      "\n",
      "Strep only: 4\n",
      "Clinda only: 5\n"
     ]
    }
   ],
   "source": [
    "# Shared topology - metabolites\n",
    "clinda_cpds = set([x.id for x in clinda_iCdG692_riptide.model.metabolites])\n",
    "strep_cpds = set([x.id for x in strep_iCdG692_riptide.model.metabolites])\n",
    "\n",
    "shared_cpds = strep_cpds.intersection(clinda_cpds)\n",
    "strep_only_cpds = strep_cpds.difference(clinda_cpds)\n",
    "clinda_only_cpds = clinda_cpds.difference(strep_cpds)\n",
    "\n",
    "print('Shared: ' + str(len(shared_cpds)) + '\\n')\n",
    "print('Strep only: ' + str(len(strep_only_cpds)))\n",
    "print('Clinda only: ' + str(len(clinda_only_cpds)))"
   ]
  },
  {
   "cell_type": "code",
   "execution_count": 35,
   "metadata": {},
   "outputs": [
    {
     "name": "stdout",
     "output_type": "stream",
     "text": [
      "Strep only:\n",
      "cpd00438_c\tDeoxyadenosine\n",
      "cpd00438_e\tDeoxyadenosine\n",
      "cpd00165_e\tHydroxylamine\n",
      "cpd00165_c\tHydroxylamine\n",
      "\n",
      "Clinda only:\n",
      "cpd00089_c\tGlucose-1-phosphate\n",
      "cpd00089_e\tGlucose-1-phosphate\n",
      "cpd00510_c\tdeoxyribose-5-phosphate\n",
      "cpd00249_c\tUridine\n",
      "cpd00276_e\tD-Glucosamine\n"
     ]
    }
   ],
   "source": [
    "print('Strep only:')\n",
    "for x in strep_only_cpds:\n",
    "    print(x + '\\t' + strep_iCdG692_riptide.model.metabolites.get_by_id(x).name)\n",
    "\n",
    "print('\\nClinda only:')\n",
    "for y in clinda_only_cpds:\n",
    "    print(y + '\\t' + clinda_iCdG692_riptide.model.metabolites.get_by_id(y).name)"
   ]
  },
  {
   "cell_type": "markdown",
   "metadata": {},
   "source": [
    "### Reaction essentiality"
   ]
  },
  {
   "cell_type": "code",
   "execution_count": 36,
   "metadata": {},
   "outputs": [],
   "source": [
    "import copy\n",
    "from cobra.flux_analysis.variability import find_essential_reactions\n",
    "\n",
    "def essential_reactions(genre, media=None, optimum_fraction=0.01):\n",
    "    model = copy.deepcopy(genre)\n",
    "    \n",
    "    # Change media conditions if necessary\n",
    "    if media is not None:\n",
    "        exchanges = ['EX_' + x for x in media]\n",
    "        for rxn in model.reactions:\n",
    "            if len(list(rxn.products)) == 0:\n",
    "                if rxn.id in exchanges:\n",
    "                    model.reactions.get_by_id(rxn.id).lower_bound = max([-1000.0,model.reactions.get_by_id(rxn.id).lower_bound])\n",
    "                else:\n",
    "                    model.reactions.get_by_id(rxn.id).lower_bound = 0.0\n",
    "    \n",
    "    # Find essential genes\n",
    "    essential_reactions = find_essential_reactions(model, threshold=optimum_fraction)\n",
    "    \n",
    "    return essential_reactions\n",
    "                "
   ]
  },
  {
   "cell_type": "code",
   "execution_count": 37,
   "metadata": {},
   "outputs": [
    {
     "name": "stdout",
     "output_type": "stream",
     "text": [
      "Clinda essential reactions: 224\n"
     ]
    }
   ],
   "source": [
    "clinda_essential_reactions = essential_reactions(clinda_iCdG692_riptide.model)\n",
    "clinda_essential_reactions = set([x.id for x in clinda_essential_reactions])\n",
    "print('Clinda essential reactions: ' + str(len(clinda_essential_reactions)))"
   ]
  },
  {
   "cell_type": "code",
   "execution_count": 38,
   "metadata": {},
   "outputs": [
    {
     "name": "stdout",
     "output_type": "stream",
     "text": [
      "Strep essential reactions: 230\n"
     ]
    }
   ],
   "source": [
    "strep_essential_reactions = essential_reactions(strep_iCdG692_riptide.model)\n",
    "strep_essential_reactions = set([x.id for x in strep_essential_reactions])\n",
    "print('Strep essential reactions: ' + str(len(strep_essential_reactions)))"
   ]
  },
  {
   "cell_type": "code",
   "execution_count": 39,
   "metadata": {},
   "outputs": [
    {
     "name": "stdout",
     "output_type": "stream",
     "text": [
      "Strep only: 15\n",
      "Clinda only: 9\n",
      "Clinda + Strep: 215\n"
     ]
    }
   ],
   "source": [
    "strep_only_essential_reactions = strep_essential_reactions.difference(clinda_essential_reactions)\n",
    "clinda_only_essential_reactions = clinda_essential_reactions.difference(strep_essential_reactions)\n",
    "print('Strep only: ' + str(len(strep_only_essential_reactions)))\n",
    "print('Clinda only: ' + str(len(clinda_only_essential_reactions)))\n",
    "\n",
    "clinda_strep_reactions = clinda_essential_reactions.intersection(strep_essential_reactions)\n",
    "print('Clinda + Strep: ' + str(len(clinda_strep_reactions)))"
   ]
  },
  {
   "cell_type": "code",
   "execution_count": 40,
   "metadata": {},
   "outputs": [
    {
     "name": "stdout",
     "output_type": "stream",
     "text": [
      "Strep only:\n",
      "rxn00293_c\tUTP:N-acetyl-alpha-D-glucosamine-1-phosphate uridylyltransferase\n",
      "rxn00171_c\tacetaldehyde:NAD+ oxidoreductase (CoA-acetylating)\n",
      "EX_cpd00122_e\tN-Acetyl-D-glucosamine exchange\n",
      "rxn05672_c\tD-glutamate transport in via proton symport\n",
      "rxn01484_c\tN-Acetyl-D-glucosamine-6-phosphate amidohydrolase\n",
      "rxn30278_c\tDipeptide transport via ABC system\n",
      "rxn05485_c\tN-Acetyl-D-glucosamine transport via PEP:Pyr PTS\n",
      "rxn01859_c\tDeoxyadenosine:orthophosphate ribosyltransferase\n",
      "EX_cpd00186_e\tD-Glutamate exchange\n",
      "rxn30246_c\tAminopeptidase\n",
      "rxn00692_c\t5,10-Methylenetetrahydrofolate:glycine hydroxymethyltransferase\n",
      "rxn00085_c\tL-Glutamate:NADP+ oxidoreductase (transaminating)\n",
      "rxn05317_c\tTransport of deoxyadenosine, extracellular\n",
      "EX_cpd00438_e\tDeoxyadenosine exchange\n",
      "EX_cpd29691_e\tgly-L-gln exchange\n",
      "\n",
      "Clinda only:\n",
      "rxn01986_c\t2-deoxy-D-ribose 1-phosphate 1,5-phosphomutase\n",
      "rxn00213_c\tUTP:alpha-D-glucose-1-phosphate uridylyltransferase\n",
      "rxn01366_c\tUridine:phosphate alpha-D-ribosyltransferase\n",
      "rxn01138_c\tAdenosine:phosphate alpha-D-ribosyltransferase\n",
      "rxn05562_c\tGlucose-1-phosphate transport via phosphate antiport\n",
      "rxn00784_c\t2-deoxy-D-ribose-5-phosphate acetaldehyde-lyase (D-glyceraldehyde-3-phosphate-forming)\n",
      "rxn01368_c\tCytidine aminohydrolase\n",
      "EX_cpd00089_e\tGlucose-1-phosphate exchange\n",
      "rxn00908_c\tglycine synthase\n"
     ]
    }
   ],
   "source": [
    "print('Strep only:')\n",
    "for x in strep_only_essential_reactions:\n",
    "    print(x + '\\t' + strep_iCdG692_riptide.model.reactions.get_by_id(x).name)\n",
    "    \n",
    "print('\\nClinda only:')\n",
    "for y in clinda_only_essential_reactions:\n",
    "    print(y + '\\t' + clinda_iCdG692_riptide.model.reactions.get_by_id(y).name)"
   ]
  },
  {
   "cell_type": "code",
   "execution_count": 41,
   "metadata": {},
   "outputs": [],
   "source": [
    "# Inferring media condition\n",
    "\n",
    "def find_growth_substrates(riptide):\n",
    "    substrates = []\n",
    "    exchanges = list(set([x.id for x in riptide.model.reactions if 'EX_' in x.id]))\n",
    "    for rxn in exchanges:\n",
    "        if numpy.median(riptide.flux_samples[rxn]) < 0.0:\n",
    "            substrate_id = riptide.model.reactions.get_by_id(rxn).reactants[0].id\n",
    "            substrate_name = riptide.model.reactions.get_by_id(rxn).reactants[0].name\n",
    "            substrates.append([substrate_id, substrate_name])\n",
    "    \n",
    "    print(str(len(substrates)) + ' growth substrates found')\n",
    "    substrates = pandas.DataFrame.from_records(substrates)\n",
    "    substrates.columns = ['id','name']\n",
    "    \n",
    "    return substrates\n",
    "\n",
    "def find_byproducts(riptide):\n",
    "    byproducts = []\n",
    "    exchanges = list(set([x.id for x in riptide.model.reactions if 'EX_' in x.id]))\n",
    "    for rxn in exchanges:\n",
    "        if numpy.median(riptide.flux_samples[rxn]) > 0.0:\n",
    "            byproduct_id = riptide.model.reactions.get_by_id(rxn).reactants[0].id\n",
    "            byproduct_name = riptide.model.reactions.get_by_id(rxn).reactants[0].name\n",
    "            byproducts.append([byproduct_id, byproduct_name])\n",
    "    \n",
    "    print(str(len(byproducts)) + ' secreted byproducts found')\n",
    "    byproducts = pandas.DataFrame.from_records(byproducts)\n",
    "    byproducts.columns = ['id','name']\n",
    "    \n",
    "    return byproducts\n",
    "\n",
    "\n",
    "def find_element_sources(riptide):\n",
    "    \n",
    "    # Isolate exchange reactions\n",
    "    exchanges = []\n",
    "    for rxn in riptide.model.reactions:\n",
    "        if len(rxn.reactants) == 0 or len(rxn.products) == 0:\n",
    "            exchanges.append(rxn.id)\n",
    "    \n",
    "    sources = {}\n",
    "    c_source = ['cpd_id', 0.0]\n",
    "    n_source = ['cpd_id', 0.0]\n",
    "    \n",
    "    # Parse exchange flux samples for imported metabolites\n",
    "    for rxn in exchanges:\n",
    "        flux = abs(numpy.median(riptide.flux_samples[rxn]))\n",
    "        if flux > 1e-6:\n",
    "            metabolite = riptide.model.reactions.get_by_id(rxn).reactants[0]\n",
    "            sources[metabolite.id] = {}\n",
    "            \n",
    "            # Multiply elemental components by median flux absolute value\n",
    "            for element in metabolite.elements.keys():\n",
    "                element_supply = round(float(metabolite.elements[element]) * flux, 3)\n",
    "                sources[metabolite.id][element] = element_supply\n",
    "                \n",
    "                # Identify largest sources of carbon and nitrogen\n",
    "                if element == 'C' and element_supply > c_source[1]:\n",
    "                    c_source = [metabolite.id, element_supply]\n",
    "                elif element == 'N' and element_supply > n_source[1]:\n",
    "                    n_source = [metabolite.id, element_supply]\n",
    "                    \n",
    "    print('Primary carbon source: ' + riptide.model.metabolites.get_by_id(c_source[0]).name + ' (' + str(c_source[1]) + ')')\n",
    "    print('Primary nitrogen source: ' + riptide.model.metabolites.get_by_id(n_source[0]).name + ' (' + str(n_source[1]) + ')')\n",
    "\n",
    "    return sources"
   ]
  },
  {
   "cell_type": "code",
   "execution_count": 42,
   "metadata": {},
   "outputs": [
    {
     "name": "stdout",
     "output_type": "stream",
     "text": [
      "49 growth substrates found\n",
      "Primary carbon source: N-Acetyl-D-glucosamine (4939.564)\n",
      "Primary nitrogen source: D-Aspartate (981.848)\n",
      "15 secreted byproducts found\n"
     ]
    }
   ],
   "source": [
    "clinda_substrates = find_growth_substrates(clinda_iCdG692_riptide)\n",
    "clinda_sources = find_element_sources(clinda_iCdG692_riptide)\n",
    "clinda_byproducts = find_byproducts(clinda_iCdG692_riptide)"
   ]
  },
  {
   "cell_type": "code",
   "execution_count": 43,
   "metadata": {},
   "outputs": [
    {
     "name": "stdout",
     "output_type": "stream",
     "text": [
      "49 growth substrates found\n",
      "Primary carbon source: L-Isoleucine (4615.715)\n",
      "Primary nitrogen source: D-Aspartate (981.702)\n",
      "14 secreted byproducts found\n"
     ]
    }
   ],
   "source": [
    "strep_substrates = find_growth_substrates(strep_iCdG692_riptide)\n",
    "strep_sources = find_element_sources(strep_iCdG692_riptide)\n",
    "strep_byproducts = find_byproducts(strep_iCdG692_riptide)"
   ]
  },
  {
   "cell_type": "code",
   "execution_count": 44,
   "metadata": {},
   "outputs": [],
   "source": [
    "import numpy\n",
    "import cobra\n",
    "import cobra.flux_analysis\n",
    "\n",
    "def _getKey(item):\n",
    "    return item[1]\n",
    "\n",
    "# Scale each active exchange back and examine its influence on objective flux\n",
    "def find_primary_sources(model, flux_samples=False, fraction=0.01, cutoff=0.8, pfba_fraction=0.8):\n",
    "    # Requires a model \n",
    "    # Optional: flux_samples = flux samples pandas dataframe associated with model\n",
    "    #           fraction = percent of median flux to limit exchange reactions by\n",
    "    #           cutoff = quantile of top C and N sources to report\n",
    "    #           pfba_fraction = fraction of optimal objective value for pfba solution\n",
    "\n",
    "    sources = {}\n",
    "    c_sources = []\n",
    "    c_influence = []\n",
    "    n_sources = []\n",
    "    n_influence = []\n",
    "    p_source = ['p_source', -1.0]\n",
    "    s_source = ['s_source', -1.0]\n",
    "    objVal = model.slim_optimize()\n",
    "    pfba_solution = cobra.flux_analysis.pfba(model, fraction_of_optimum=pfba_fraction)\n",
    "    \n",
    "    # Parse exchange flux samples for imported metabolites\n",
    "    exchanges = [rxn.id for rxn in model.boundary]\n",
    "    for rxn in exchanges:\n",
    "        if isinstance(flux_samples, pandas.DataFrame):\n",
    "            flux = numpy.median(flux_samples[rxn])\n",
    "        else:\n",
    "            flux = pfba_solution.fluxes[rxn]\n",
    "        if flux >= -1e-6: continue # Skip exported byproducts or unused reactions\n",
    "        bound = flux * fraction\n",
    "        \n",
    "        # Test for disproportionate effect on objective\n",
    "        old_bounds = model.reactions.get_by_id(rxn).bounds\n",
    "        model.reactions.get_by_id(rxn).bounds = (bound, bound)        \n",
    "        new_objVal = model.slim_optimize()\n",
    "        model.reactions.get_by_id(rxn).bounds = old_bounds # Reset bounds\n",
    "        if str(new_objVal) == 'nan': new_objVal = objVal * fraction # Correct for nan\n",
    "        \n",
    "        # Calculate the degree of change to objective value\n",
    "        if new_objVal != objVal:\n",
    "            flux_ratio = objVal / new_objVal\n",
    "            adjustment = abs(flux) * flux_ratio\n",
    "        else:\n",
    "            adjustment = 1.\n",
    "        \n",
    "        # Normalize elemental component contributions\n",
    "        metabolite = model.reactions.get_by_id(rxn).reactants[0]\n",
    "        sources[metabolite.id] = {}\n",
    "        for element in metabolite.elements.keys():\n",
    "            element_supply = float(metabolite.elements[element]) * adjustment\n",
    "            if element_supply > 0.: element_supply = numpy.log(element_supply)\n",
    "            sources[metabolite.id][element] = element_supply\n",
    "                \n",
    "            # Identify largest sources of main elements\n",
    "            if element == 'C' and element_supply > 0.0:\n",
    "                c_sources.append([metabolite.id, element_supply])\n",
    "                c_influence.append(element_supply)\n",
    "            elif element == 'N' and element_supply > 0.0:\n",
    "                n_sources.append([metabolite.id, element_supply])\n",
    "                n_influence.append(element_supply)\n",
    "            elif element == 'P' and element_supply > 0.0:\n",
    "                p_source = [metabolite.id, element_supply]\n",
    "            elif element == 'S' and element_supply > 0.0:\n",
    "                s_source = [metabolite.id, element_supply]\n",
    "    \n",
    "    # Rank by largest contributions\n",
    "    c_sources = sorted(c_sources, reverse=True, key=_getKey)\n",
    "    n_sources = sorted(n_sources, reverse=True, key=_getKey)\n",
    "    \n",
    "    print('Top carbon sources:')\n",
    "    current = max(c_influence)\n",
    "    x = 0\n",
    "    while current >= numpy.quantile(c_influence, cutoff):\n",
    "        print(model.metabolites.get_by_id(c_sources[x][0]).name + ' (' + str(round(c_sources[x][1],3)) + ')')\n",
    "        current = c_sources[x][1]\n",
    "        x += 1\n",
    "        \n",
    "    print('\\nTop nitrogen sources:')\n",
    "    current = max(n_influence)\n",
    "    x = 0\n",
    "    while current >= numpy.quantile(n_influence, cutoff):\n",
    "        print(model.metabolites.get_by_id(n_sources[x][0]).name + ' (' + str(round(n_sources[x][1],3)) + ')')\n",
    "        current = n_sources[x][1]\n",
    "        x += 1\n",
    "        \n",
    "    print('\\nPrimary phosphorous source:')\n",
    "    print(model.metabolites.get_by_id(p_source[0]).name + ' (' + str(round(p_source[1],3)) + ')')\n",
    "    \n",
    "    print('\\nPrimary sulfur source:')\n",
    "    print(model.metabolites.get_by_id(s_source[0]).name + ' (' + str(round(s_source[1],3)) + ')')\n",
    "    \n",
    "    return sources\n"
   ]
  },
  {
   "cell_type": "code",
   "execution_count": 45,
   "metadata": {
    "scrolled": true
   },
   "outputs": [
    {
     "name": "stdout",
     "output_type": "stream",
     "text": [
      "Top carbon sources:\n",
      "Neu5Ac (11.351)\n",
      "Octadecanoic acid (11.257)\n",
      "L-Lysine (10.74)\n",
      "Guanosine (10.511)\n",
      "meso-2,6-Diaminopimelate (10.419)\n",
      "Cytidine (9.983)\n",
      "L-Isoleucine (9.855)\n",
      "L-Leucine (9.765)\n",
      "Gly-Phe (9.64)\n",
      "\n",
      "Top nitrogen sources:\n",
      "Guanosine (9.818)\n",
      "L-Lysine (9.642)\n",
      "meso-2,6-Diaminopimelate (9.166)\n",
      "Neu5Ac (8.953)\n",
      "Cytidine (8.885)\n",
      "gly-L-asn (8.726)\n",
      "Adenosine (8.425)\n",
      "L-Arginine (8.314)\n",
      "\n",
      "Primary phosphorous source:\n",
      "D-fructose-6-phosphate (6.308)\n",
      "\n",
      "Primary sulfur source:\n",
      "gly-L-met (6.758)\n"
     ]
    }
   ],
   "source": [
    "clinda_sources = find_primary_sources(clinda_iCdG692_riptide.model)"
   ]
  },
  {
   "cell_type": "code",
   "execution_count": 46,
   "metadata": {},
   "outputs": [
    {
     "name": "stdout",
     "output_type": "stream",
     "text": [
      "Top carbon sources:\n",
      "Neu5Ac (11.573)\n",
      "Octadecanoic acid (11.25)\n",
      "D-Glutamate (10.768)\n",
      "L-Lysine (10.733)\n",
      "meso-2,6-Diaminopimelate (10.411)\n",
      "Adenosine (10.27)\n",
      "gly-L-gln (9.98)\n",
      "Guanosine (9.94)\n",
      "L-Isoleucine (9.848)\n",
      "\n",
      "Top nitrogen sources:\n",
      "L-Lysine (9.635)\n",
      "Adenosine (9.577)\n",
      "Guanosine (9.247)\n",
      "Neu5Ac (9.175)\n",
      "meso-2,6-Diaminopimelate (9.159)\n",
      "D-Glutamate (9.159)\n",
      "gly-L-gln (9.132)\n",
      "gly-L-asn (8.719)\n",
      "\n",
      "Primary phosphorous source:\n",
      "D-fructose-6-phosphate (6.128)\n",
      "\n",
      "Primary sulfur source:\n",
      "gly-L-met (6.751)\n"
     ]
    }
   ],
   "source": [
    "strep_sources = find_primary_sources(strep_iCdG692_riptide.model)"
   ]
  },
  {
   "cell_type": "code",
   "execution_count": 47,
   "metadata": {},
   "outputs": [
    {
     "name": "stdout",
     "output_type": "stream",
     "text": [
      "Top carbon sources:\n",
      "L-Lysine (10.731)\n",
      "meso-2,6-Diaminopimelate (10.409)\n",
      "L-Isoleucine (9.846)\n",
      "Cytidine (9.786)\n",
      "L-Leucine (9.755)\n",
      "Gly-Phe (9.63)\n",
      "gly-asn-L (9.41)\n",
      "Deoxycytidine (9.274)\n",
      "L-Valine (9.246)\n",
      "\n",
      "Top nitrogen sources:\n",
      "L-Lysine (9.632)\n",
      "meso-2,6-Diaminopimelate (9.156)\n",
      "gly-asn-L (8.716)\n",
      "Cytidine (8.687)\n",
      "Adenosine (8.416)\n",
      "L-Arginine (8.305)\n",
      "Deoxycytidine (8.176)\n",
      "L-Isoleucine (8.054)\n",
      "\n",
      "Primary phosphorous source:\n",
      "Phosphate (6.354)\n",
      "\n",
      "Primary sulfur source:\n",
      "Gly-Met (6.749)\n"
     ]
    }
   ],
   "source": [
    "gf_sources = find_primary_sources(gf_iCdG692_riptide.model)"
   ]
  },
  {
   "cell_type": "code",
   "execution_count": 48,
   "metadata": {},
   "outputs": [
    {
     "name": "stdout",
     "output_type": "stream",
     "text": [
      "Top carbon sources:\n",
      "L-Isoleucine (10.055)\n",
      "L-Valine (9.456)\n",
      "2-keto-3-deoxygluconate (8.602)\n",
      "L-Tryptophan (7.917)\n",
      "Octadecanoic acid (7.755)\n",
      "Neu5Ac (7.646)\n",
      "D-glucose-6-phosphate (6.751)\n",
      "D-fructose-6-phosphate (6.62)\n",
      "L-ala-gly (6.606)\n",
      "\n",
      "Top nitrogen sources:\n",
      "L-Isoleucine (8.264)\n",
      "L-Valine (7.846)\n",
      "L-Tryptophan (6.212)\n",
      "L-ala-gly (5.69)\n",
      "Deoxyadenosine (5.486)\n",
      "Neu5Ac (5.248)\n",
      "L-Lysine (5.014)\n",
      "\n",
      "Primary phosphorous source:\n",
      "D-glucose-6-phosphate (4.96)\n",
      "\n",
      "Primary sulfur source:\n",
      "gly-L-met (2.13)\n"
     ]
    }
   ],
   "source": [
    "base_sources = find_primary_sources(iCdG692)"
   ]
  },
  {
   "cell_type": "code",
   "execution_count": null,
   "metadata": {},
   "outputs": [],
   "source": []
  }
 ],
 "metadata": {
  "kernelspec": {
   "display_name": "Python 3",
   "language": "python",
   "name": "python3"
  },
  "language_info": {
   "codemirror_mode": {
    "name": "ipython",
    "version": 3
   },
   "file_extension": ".py",
   "mimetype": "text/x-python",
   "name": "python",
   "nbconvert_exporter": "python",
   "pygments_lexer": "ipython3",
   "version": "3.7.5"
  }
 },
 "nbformat": 4,
 "nbformat_minor": 2
}
