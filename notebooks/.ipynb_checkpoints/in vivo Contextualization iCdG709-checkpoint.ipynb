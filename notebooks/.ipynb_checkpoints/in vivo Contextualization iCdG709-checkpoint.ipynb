{
 "cells": [
  {
   "cell_type": "code",
   "execution_count": 1,
   "metadata": {},
   "outputs": [],
   "source": [
    "from riptide import *\n",
    "iCdG709 = cobra.io.load_json_model('/home/mjenior/Desktop/repos/Jenior_Cdifficile_2019/data/reconstructions/iCdG709.json')"
   ]
  },
  {
   "cell_type": "markdown",
   "metadata": {},
   "source": [
    "### Setting Extracellular Conditions"
   ]
  },
  {
   "cell_type": "code",
   "execution_count": 2,
   "metadata": {},
   "outputs": [],
   "source": [
    "# in vivo media analog\n",
    "gut = ['cpd00001_e', # water\n",
    "'cpd00035_e', # alanine\n",
    "'cpd00041_e', # aspartic acid\n",
    "'cpd00023_e', # glutamic acid\n",
    "'cpd00119_e', # histidine\n",
    "'cpd00107_e', # leucine\n",
    "'cpd00060_e', # methionine\n",
    "'cpd00129_e', # proline\n",
    "'cpd00161_e', # threonine\n",
    "'cpd00051_e', # arginine\n",
    "'cpd00069_e', # tyrosine\n",
    "'cpd00084_e', # cysteine\n",
    "'cpd00033_e', # glycine\n",
    "'cpd00322_e', # isoleucine\n",
    "'cpd00039_e', # lysine\n",
    "'cpd00066_e', # phenylalanine\n",
    "'cpd00054_e', # serine\n",
    "'cpd00065_e', # tryptophan\n",
    "'cpd00156_e', # valine\n",
    "'cpd00220_e', # riboflavin\n",
    "'cpd00644_e', # pantothentate(B5)\n",
    "'cpd00393_e', # folate(B9)\n",
    "'cpd00133_e', # niacin(PP)\n",
    "'cpd00263_e', # Pyridoxine\n",
    "'cpd00104_e', # Biotin\n",
    "'cpd00149_e', # Cobalt\n",
    "'cpd00971_e', # sodium\n",
    "'cpd00099_e', # Chloride\n",
    "'cpd00205_e', # potassium\n",
    "'cpd00009_e', # phosphate\n",
    "'cpd00063_e', # calcium\n",
    "'cpd00254_e', # magnesium\n",
    "'cpd10515_e', # Fe2+\n",
    "'cpd00030_e', # Mn2+\n",
    "'cpd00242_e', # Carbonate\n",
    "'cpd00226_e', # hypoxanthine\n",
    "'cpd01242_e', # thyminose\n",
    "'cpd00307_e', # cytosine\n",
    "'cpd00092_e', # uracil\n",
    "'cpd00117_e', # D-Alanine\n",
    "'cpd00067_e', # H+\n",
    "'cpd00567_e', # D-Proline\n",
    "'cpd00132_e', # L-Asparagine\n",
    "'cpd00053_e', # L-Glutamine\n",
    "'cpd00210_e', # Taurine\n",
    "'cpd00320_e', # D-Aspartate\n",
    "'cpd03279_e', # Deoxyinosine\n",
    "'cpd00246_e', # Inosine\n",
    "'cpd00311_e', # Guanosine\n",
    "'cpd00367_e', # Cytidine\n",
    "'cpd00277_e', # Deoxyguanosine\n",
    "'cpd00182_e', # Adenosine\n",
    "'cpd00654_e', # Deoxycytidine\n",
    "'cpd00412_e', # Deoxyuridine\n",
    "'cpd00438_e', # Deoxyadenosine\n",
    "'cpd00274_e', # Citrulline\n",
    "'cpd00186_e', # D-Glutamate\n",
    "'cpd00281_e', # GABA\n",
    "'cpd00232_e', # N-Acetyl-Neuraminic acid\n",
    "'cpd00492_e', # N-Acetyl-D-mannosamine\n",
    "'cpd00064_e', # Ornithine\n",
    "'cpd00051_e', # D-arginine    \n",
    "'cpd29317_e'] # 4-hydroxyproline\n",
    "\n",
    "gut_exch = set(['EX_' + x for x in gut])\n",
    "for rxn in iCdG709.exchanges: \n",
    "    rxn.bounds = (0., 1000.)\n",
    "    if rxn.id in gut_exch:\n",
    "        rxn.bounds = (-1000., 1000.)\n"
   ]
  },
  {
   "cell_type": "code",
   "execution_count": 7,
   "metadata": {},
   "outputs": [
    {
     "name": "stdout",
     "output_type": "stream",
     "text": [
      "Doubling time in \"in vivo\" media: 32.34 minutes\n"
     ]
    }
   ],
   "source": [
    "doubling = round((1.0 / iCdG709.slim_optimize()) * 3200.0, 2)\n",
    "print('Doubling time in \\\"in vivo\\\" media:',doubling,'minutes')"
   ]
  },
  {
   "cell_type": "markdown",
   "metadata": {},
   "source": [
    "### RIPTiDe *in vivo* Contextualization"
   ]
  },
  {
   "cell_type": "code",
   "execution_count": 3,
   "metadata": {},
   "outputs": [],
   "source": [
    "# Read in in vivo C. difficile transcription\n",
    "low_spores = riptide.read_transcription_file('/home/mjenior/Desktop/repos/Jenior_Cdifficile_2019/data/transcript/jenior_etal/cefoperazone.format.tsv', \n",
    "                                               header=True)\n",
    "high_spores = riptide.read_transcription_file('/home/mjenior/Desktop/repos/Jenior_Cdifficile_2019/data/transcript/jenior_etal/clindamycin.format.tsv', \n",
    "                                              header=True)"
   ]
  },
  {
   "cell_type": "code",
   "execution_count": 9,
   "metadata": {},
   "outputs": [
    {
     "name": "stdout",
     "output_type": "stream",
     "text": [
      "\n",
      "Running max fit RIPTiDe for objective fraction range: 0.35 to 0.95 with intervals of 0.05 \n",
      "\n",
      "Testing minimum objective fractions...\n",
      "Fraction = 0.35 | Rho = 0.1008 ; p = 0.0793\n",
      "Fraction = 0.4 | Rho = 0.0903 ; p = 0.1192\n",
      "Fraction = 0.45 | Rho = 0.0991 ; p = 0.0873\n",
      "Fraction = 0.5 | Rho = 0.1253 ; p = 0.03\n",
      "Fraction = 0.55 | Rho = 0.1285 ; p = 0.026\n",
      "Fraction = 0.6 | Rho = 0.1229 ; p = 0.0322\n",
      "Fraction = 0.65 | Rho = 0.1139 ; p = 0.0472\n",
      "Fraction = 0.7 | Rho = 0.1398 ; p = 0.0139\n",
      "Fraction = 0.75 | Rho = 0.1492 ; p = 0.0087\n",
      "Fraction = 0.8 | Rho = 0.1415 ; p = 0.0126\n",
      "Fraction = 0.85 | Rho = 0.1451 ; p = 0.0092\n",
      "Fraction = 0.9 | Rho = 0.1848 ; p = 0.0009\n",
      "Testing local objective fractions to 0.9...\n",
      "Fraction = 0.875 | Rho = 0.1492 ; p = 0.0076\n",
      "Fraction = 0.925 | Rho = 0.1914 ; p = 0.0006\n",
      "\n",
      "Context-specific metabolism fit with 0.925 of optimal objective flux\n",
      "\n",
      "Reactions pruned to 321 from 1320 (75.68% change)\n",
      "Metabolites pruned to 321 from 1243 (74.18% change)\n",
      "Flux through the objective DECREASED to ~93.66 from ~98.96 (5.36% change)\n",
      "Context-specific metabolism correlates with transcriptome (r=0.191, p=0.001 *)\n",
      "\n",
      "Maxfit RIPTiDe completed in, 4 minutes and 54 seconds \n",
      "\n",
      "\n",
      "Running max fit RIPTiDe for objective fraction range: 0.35 to 0.95 with intervals of 0.05 \n",
      "\n",
      "Testing minimum objective fractions...\n",
      "Fraction = 0.35 | Rho = 0.1861 ; p = 0.0011\n",
      "Fraction = 0.4 | Rho = 0.1831 ; p = 0.0014\n",
      "Fraction = 0.45 | Rho = 0.1874 ; p = 0.001\n",
      "Fraction = 0.5 | Rho = 0.1943 ; p = 0.0006\n",
      "Fraction = 0.55 | Rho = 0.2012 ; p = 0.0004\n",
      "Fraction = 0.6 | Rho = 0.1999 ; p = 0.0004\n",
      "Fraction = 0.65 | Rho = 0.1848 ; p = 0.001\n",
      "Fraction = 0.7 | Rho = 0.1946 ; p = 0.0005\n",
      "Fraction = 0.75 | Rho = 0.1429 ; p = 0.0106\n",
      "Fraction = 0.8 | Rho = 0.1203 ; p = 0.0323\n",
      "Fraction = 0.85 | Rho = 0.1848 ; p = 0.0009\n",
      "Fraction = 0.9 | Rho = 0.1983 ; p = 0.0003\n",
      "Testing local objective fractions to 0.55...\n",
      "Fraction = 0.525 | Rho = 0.1923 ; p = 0.0007\n",
      "Fraction = 0.575 | Rho = 0.1957 ; p = 0.0006\n",
      "\n",
      "Context-specific metabolism fit with 0.55 of optimal objective flux\n",
      "\n",
      "Reactions pruned to 307 from 1320 (76.74% change)\n",
      "Metabolites pruned to 313 from 1243 (74.82% change)\n",
      "Flux through the objective DECREASED to ~63.24 from ~98.96 (36.1% change)\n",
      "Context-specific metabolism correlates with transcriptome (r=0.201, p<0.001 *)\n",
      "\n",
      "Maxfit RIPTiDe completed in, 4 minutes and 16 seconds \n",
      "\n"
     ]
    }
   ],
   "source": [
    "low_spores_riptide = riptide.maxfit_contextualize(model=iCdG709, transcriptome=low_spores)\n",
    "high_spores_riptide = riptide.maxfit_contextualize(model=iCdG709, transcriptome=high_spores)"
   ]
  },
  {
   "cell_type": "code",
   "execution_count": 38,
   "metadata": {},
   "outputs": [
    {
     "name": "stdout",
     "output_type": "stream",
     "text": [
      "WARNING: Output path already exists, overwriting previous files\n",
      "WARNING: Output path already exists, overwriting previous files\n"
     ]
    }
   ],
   "source": [
    "# Write results to files\n",
    "riptide.save_output(riptide_obj=low_spores_riptide, path='/home/mjenior/Desktop/repos/Jenior_Cdifficile_2019/data/contextualized_iCdG709/riptide_lowspore_maxfit')\n",
    "riptide.save_output(riptide_obj=high_spores_riptide, path='/home/mjenior/Desktop/repos/Jenior_Cdifficile_2019/data/contextualized_iCdG709/riptide_highspore_maxfit')"
   ]
  },
  {
   "cell_type": "code",
   "execution_count": 4,
   "metadata": {},
   "outputs": [
    {
     "name": "stdout",
     "output_type": "stream",
     "text": [
      "\n",
      "Initializing model and integrating transcriptomic data...\n",
      "Pruning zero flux subnetworks...\n",
      "Analyzing context-specific flux distributions...\n",
      "\n",
      "Reactions pruned to 324 from 1323 (75.51% change)\n",
      "Metabolites pruned to 322 from 1243 (74.09% change)\n",
      "Flux through the objective DECREASED to ~104.8 from ~113.33 (7.53% change)\n",
      "Context-specific metabolism correlates with transcriptome (r=0.188, p=0.001 *)\n",
      "\n",
      "RIPTiDe completed in 22 seconds\n",
      "\n",
      "\n",
      "Initializing model and integrating transcriptomic data...\n",
      "Pruning zero flux subnetworks...\n",
      "Analyzing context-specific flux distributions...\n",
      "\n",
      "Reactions pruned to 326 from 1323 (75.36% change)\n",
      "Metabolites pruned to 323 from 1243 (74.01% change)\n",
      "Flux through the objective DECREASED to ~105.29 from ~113.33 (7.09% change)\n",
      "Context-specific metabolism correlates with transcriptome (r=0.204, p<0.001 *)\n",
      "\n",
      "RIPTiDe completed in 23 seconds\n",
      "\n"
     ]
    }
   ],
   "source": [
    "low_spores_riptide = riptide.contextualize(model=iCdG709, transcriptome=low_spores, fraction=0.9)\n",
    "high_spores_riptide = riptide.contextualize(model=iCdG709, transcriptome=high_spores, fraction=0.925)"
   ]
  },
  {
   "cell_type": "code",
   "execution_count": 50,
   "metadata": {},
   "outputs": [],
   "source": [
    "import scipy\n",
    "\n",
    "# Save median optimal fluxes\n",
    "outFile = '/home/mjenior/Desktop/repos/Jenior_Cdifficile_2019/data/contextualized_iCdG709/riptide_low_spore/med_opt_flux.tsv'\n",
    "with open(outFile, 'w') as tsv:\n",
    "    tsv.write('Exchange reaction ID\\tSubstrate\\tMedian optimal flux\\tsignificance\\n')\n",
    "    for exch in low_spores_riptide.model.exchanges:\n",
    "        flux = numpy.median(low_spores_riptide.flux_samples[exch.id])\n",
    "        try:\n",
    "            pval = round(scipy.stats.wilcoxon(x=list(low_spores_riptide.flux_samples[exch.id]), y=list(high_spores_riptide.flux_samples[exch.id]))[1], 3)\n",
    "        except:\n",
    "            pval = 'NA'\n",
    "        if pval != 'NA':\n",
    "            if pval <= 0.05:\n",
    "                pval = 'n.s.'\n",
    "            else:\n",
    "                pval = '*'\n",
    "        substrate = list(exch.reactants)[0].name\n",
    "        entry = exch.id + '\\t' + substrate + '\\t' + str(flux) + '\\t' + pval + '\\n'\n",
    "        tsv.write(entry)\n",
    "\n",
    "outFile = '/home/mjenior/Desktop/repos/Jenior_Cdifficile_2019/data/contextualized_iCdG709/riptide_high_spore/med_opt_flux.tsv'\n",
    "with open(outFile, 'w') as tsv:\n",
    "    tsv.write('Exchange reaction ID\\tSubstrate\\tMedian optimal flux\\tsignificance\\n')\n",
    "    for exch in high_spores_riptide.model.exchanges:\n",
    "        flux = numpy.median(high_spores_riptide.flux_samples[exch.id])\n",
    "        try:\n",
    "            pval = round(scipy.stats.wilcoxon(x=list(low_spores_riptide.flux_samples[exch.id]), y=list(high_spores_riptide.flux_samples[exch.id]))[1], 3)\n",
    "        except:\n",
    "            pval = 'NA'\n",
    "        if pval != 'NA':\n",
    "            if pval <= 0.05:\n",
    "                pval = 'n.s.'\n",
    "            else:\n",
    "                pval = '*'\n",
    "        substrate = list(exch.reactants)[0].name\n",
    "        entry = exch.id + '\\t' + substrate + '\\t' + str(flux) + '\\t' + pval + '\\n'\n",
    "        tsv.write(entry)"
   ]
  },
  {
   "cell_type": "markdown",
   "metadata": {},
   "source": [
    "### Growth Rate"
   ]
  },
  {
   "cell_type": "code",
   "execution_count": 40,
   "metadata": {},
   "outputs": [
    {
     "name": "stdout",
     "output_type": "stream",
     "text": [
      "Low spores doubling time: 30.53 minutes\n",
      "High spores doubling time: 30.39 minutes\n",
      "p-value 0.017\n"
     ]
    }
   ],
   "source": [
    "from random import sample\n",
    "import scipy\n",
    "\n",
    "doubling = round((1.0 / low_spores_riptide.model.slim_optimize()) * 3200.0, 2)\n",
    "print('Low spores doubling time: ' + str(doubling) + ' minutes')\n",
    "\n",
    "doubling = round((1.0 / high_spores_riptide.model.slim_optimize()) * 3200.0, 2)\n",
    "print('High spores doubling time: ' + str(doubling) + ' minutes')\n",
    "\n",
    "pvals = []\n",
    "maxRange = len(list(low_spores_riptide.flux_samples['biomass'])) * 10\n",
    "for x in range(1, maxRange):\n",
    "        low_spores_sample = sample(list(low_spores_riptide.flux_samples['biomass']), 10)\n",
    "        high_spores_sample = sample(list(high_spores_riptide.flux_samples['biomass']), 10)\n",
    "        pvals.append(scipy.stats.wilcoxon(x=low_spores_sample, y=high_spores_sample)[1])\n",
    "print('p-value', round(numpy.median(pvals),3))"
   ]
  },
  {
   "cell_type": "code",
   "execution_count": null,
   "metadata": {},
   "outputs": [],
   "source": [
    "# Save median flux sampled values to supplementary table\n",
    "\n",
    "with open('/home/mjenior/Desktop/repos/Jenior_Cdifficile_2019/results/tables/highspore_exchange_flux.tsv', 'w') as outFile:\n",
    "    outFile.write('id\\tname\\tq1\\tmedian\\tq3\\n')\n",
    "    exchanges = [x.id for x in high_spores_riptide.model.boundary]\n",
    "    \n",
    "    for rxn in exchanges:\n",
    "        curr_name = high_spores_riptide.model.reactions.get_by_id(rxn).name\n",
    "        curr_fluxes = list(iCdR703_rough.flux_samples[rxn])\n",
    "        flux_summary = list(numpy.quantile(curr_fluxes, [0.25, 0.5, 0.75]))\n",
    "        flux_summary = [str(round(x,3)) for x in flux_summary]\n",
    "        entry = rxn + '\\t' + curr_name + '\\t' + flux_summary[0] + '\\t' + flux_summary[1] + '\\t' + flux_summary[2] + '\\n'\n",
    "        outFile.write(entry)\n",
    "    \n",
    "with open('/home/mjenior/Desktop/repos/Jenior_Cdifficile_2019/results/tables/lowspore_exchange_flux.tsv', 'w') as outFile:\n",
    "    outFile.write('id\\tname\\tq1\\tmedian\\tq3\\n')\n",
    "    exchanges = [x.id for x in low_spores_riptide.model.boundary]\n",
    "    \n",
    "    for rxn in exchanges:\n",
    "        curr_name = low_spores_riptide.model.reactions.get_by_id(rxn).name\n",
    "        curr_fluxes = list(low_spores_riptide.flux_samples[rxn])\n",
    "        flux_summary = list(numpy.quantile(curr_fluxes, [0.25, 0.5, 0.75]))\n",
    "        flux_summary = [str(round(x,3)) for x in flux_summary]\n",
    "        entry = rxn + '\\t' + curr_name + '\\t' + flux_summary[0] + '\\t' + flux_summary[1] + '\\t' + flux_summary[2] + '\\n'\n",
    "        outFile.write(entry)  "
   ]
  },
  {
   "cell_type": "markdown",
   "metadata": {},
   "source": [
    "### Context-specific Gene Essentiality"
   ]
  },
  {
   "cell_type": "code",
   "execution_count": 43,
   "metadata": {},
   "outputs": [],
   "source": [
    "import copy\n",
    "from cobra.flux_analysis.variability import find_essential_genes\n",
    "\n",
    "def essential_genes(genre, media=None, optimum_fraction=0.01):\n",
    "    model = copy.deepcopy(genre)\n",
    "    \n",
    "    # Change media conditions if necessary\n",
    "    if media is not None:\n",
    "        exchanges = ['EX_' + x for x in media]\n",
    "        for rxn in model.reactions:\n",
    "            if len(list(rxn.products)) == 0:\n",
    "                if rxn.id in exchanges:\n",
    "                    model.reactions.get_by_id(rxn.id).lower_bound = max([-1000.0,model.reactions.get_by_id(rxn.id).lower_bound])\n",
    "                else:\n",
    "                    model.reactions.get_by_id(rxn.id).lower_bound = 0.0\n",
    "    \n",
    "    # Find essential genes\n",
    "    essential_genes = find_essential_genes(model, threshold=optimum_fraction)\n",
    "    \n",
    "    return essential_genes\n",
    "                "
   ]
  },
  {
   "cell_type": "code",
   "execution_count": 44,
   "metadata": {},
   "outputs": [
    {
     "name": "stdout",
     "output_type": "stream",
     "text": [
      "Uncontextualized essential genes:  75 \n",
      "\n",
      "272563.8.peg.3708\tMethionyl-tRNA synthetase (EC 6.1.1.10)\n",
      "272563.8.peg.2866\tAspartyl-tRNA synthetase (EC 6.1.1.12)\n",
      "272563.8.peg.240\tphosphoribosylglycinamide formyltransferase (EC 2.1.2.2)\n",
      "272563.8.peg.123\tRibonucleotide reductase of class III (anaerobic), large subunit (EC 1.17.4.2)\n",
      "272563.8.peg.57\t2-C-methyl-D-erythritol 2,4-cyclodiphosphate synthase (EC 4.6.1.12)\n",
      "272563.8.peg.601\tThreonyl-tRNA synthetase (EC 6.1.1.3)\n",
      "272563.8.peg.238\tamidophosphoribosyltransferase (EC 2.4.2.14)\n",
      "272563.8.peg.1922\tMagnesium and cobalt transport protein CorA\n",
      "272563.8.peg.2166\tGlutaminyl-tRNA synthetase (EC 6.1.1.18)\n",
      "272563.8.peg.2779\tUDP-N-acetylmuramoyl-tripeptide--D-alanyl-D-alanine ligase (EC 6.3.2.10) | murF\n",
      "272563.8.peg.818\tMultimodular transpeptidase-transglycosylase (EC 2.4.1.129) (EC 3.4.-.-)\n",
      "272563.8.peg.3377\taspartate-semialdehyde dehydrogenase (EC 1.2.1.11)\n",
      "272563.8.peg.1264\t(2E,6E)-farnesyl diphosphate synthase (EC 2.5.1.10)\n",
      "272563.8.peg.2741\tIsoleucyl-tRNA synthetase (EC 6.1.1.5)\n",
      "272563.8.peg.3409\tValyl-tRNA synthetase (EC 6.1.1.9)\n",
      "272563.8.peg.2946\tdihydrofolate reductase (EC 1.5.1.3)\n",
      "272563.8.peg.1873\targininosuccinate synthase (EC 6.3.4.5)\n",
      "272563.8.peg.1382\tRiboflavin kinase (EC 2.7.1.26)\n",
      "272563.8.peg.3621\t5-formyltetrahydrofolate cyclo-ligase (EC 6.3.3.2)\n",
      "272563.8.peg.423\tFructose-bisphosphate aldolase class II (EC 4.1.2.13)\n",
      "272563.8.peg.3565\tUDP-N-acetylenolpyruvoylglucosamine reductase (EC 1.1.1.158)\n",
      "272563.8.peg.2644\tLeucyl-tRNA synthetase (EC 6.1.1.4)\n",
      "272563.8.peg.2778\tPhospho-N-acetylmuramoyl-pentapeptide-transferase (EC 2.7.8.13)\n",
      "272563.8.peg.1347\tAlanyl-tRNA synthetase (EC 6.1.1.7)\n",
      "272563.8.peg.746\tArginyl-tRNA synthetase (EC 6.1.1.19)\n",
      "272563.8.peg.1324\tNa(+)-dependent branched-chain amino acid transporter\n",
      "272563.8.peg.2660\t5'-nucleotidase (EC 3.1.3.5)\n",
      "272563.8.peg.1908\t4-hydroxy-3-methylbut-2-enyl diphosphate reductase (EC 1.17.1.2)\n",
      "272563.8.peg.636\tChloride channel protein\n",
      "272563.8.peg.243\tPhosphoribosylformylglycinamidine synthase, glutamine amidotransferase subunit (EC 6.3.5.3)\n",
      "272563.8.peg.3722\tLysyl-tRNA synthetase (class II) (EC 6.1.1.6)\n",
      "272563.8.peg.2360\tAsparaginyl-tRNA synthetase (EC 6.1.1.22)\n",
      "272563.8.peg.1678\tThiamin-phosphate pyrophosphorylase (EC 2.5.1.3)\n",
      "272563.8.peg.1597\tTyrosyl-tRNA synthetase (EC 6.1.1.1)\n",
      "272563.8.peg.787\tABC transporter, substrate-binding protein (cluster 3, basic aa/glutamine/opines)\n",
      "272563.8.peg.2680\tPhosphopantetheine adenylyltransferase (EC 2.7.7.3)\n",
      "272563.8.peg.2333\t3-dehydroquinate dehydratase I (EC 4.2.1.10)\n",
      "272563.8.peg.62\tCysteinyl-tRNA synthetase (EC 6.1.1.16)\n",
      "272563.8.peg.1519\taminodeoxychorismate lyase (EC 4.1.3.38)\n",
      "272563.8.peg.58\tProlyl-tRNA synthetase (EC 6.1.1.15)\n",
      "272563.8.peg.2551\tGlycyl-tRNA synthetase beta chain (EC 6.1.1.14)\n",
      "272563.8.peg.1394\tCDP-diacylglycerol--glycerol-3-phosphate 3-phosphatidyltransferase (EC 2.7.8.5)\n",
      "272563.8.peg.2777\tUDP-N-acetylmuramoylalanine--D-glutamate ligase (EC 6.3.2.9)\n",
      "272563.8.peg.164\tSubstrate-specific component RibU of riboflavin ECF transporter\n",
      "272563.8.peg.3725\tPantothenate kinase type III, CoaX-like (EC 2.7.1.33)\n",
      "272563.8.peg.1926\tChorismate synthase (EC 4.2.3.5)\n",
      "272563.8.peg.1924\t3-dehydroquinate synthase (EC 4.2.3.4)\n",
      "272563.8.peg.3438\tGlucose-6-phosphate isomerase (EC 5.3.1.9)\n",
      "272563.8.peg.1266\t1-deoxy-D-xylulose 5-phosphate synthase (EC 2.2.1.7)\n",
      "272563.8.peg.2243\t1-deoxy-D-xylulose 5-phosphate reductoisomerase (EC 1.1.1.267)\n",
      "272563.8.peg.1929\tShikimate kinase I (EC 2.7.1.71)\n",
      "272563.8.peg.239\tphosphoribosylformylglycinamidine cyclo-ligase (EC 6.3.3.1)\n",
      "272563.8.peg.2085\tSubstrate-specific component TrpP of tryptophan ECF transporter\n",
      "272563.8.peg.2775\tUDP-N-acetylglucosamine--N-acetylmuramyl-(pentapeptide) pyrophosphoryl-undecaprenol N-acetylglucosamine transferase (EC 2.4.1.227)\n",
      "272563.8.peg.2711\tphosphopantothenoylcysteine decarboxylase (EC 4.1.1.36)\n",
      "272563.8.peg.1101\tNAD kinase (EC 2.7.1.23)\n",
      "272563.8.peg.262\tPutative CDP-glycerol:Poly(Glycerophosphate) glycerophosphotransferase\n",
      "272563.8.peg.2247\tPhosphatidate cytidylyltransferase (EC 2.7.7.41)\n",
      "272563.8.peg.139\tUDP-N-acetylglucosamine 1-carboxyvinyltransferase (EC 2.5.1.7)\n",
      "272563.8.peg.1781\tSulfur carrier protein ThiS subunit\n",
      "272563.8.peg.2867\tHistidyl-tRNA synthetase (EC 6.1.1.21)\n",
      "272563.8.peg.1186\tDephospho-CoA kinase (EC 2.7.1.24)\n",
      "272563.8.peg.735\tPhenylalanyl-tRNA synthetase beta chain (EC 6.1.1.20)\n",
      "272563.8.peg.242\tPhosphoribosylamine--glycine ligase (EC 6.3.4.13)\n",
      "272563.8.peg.734\tPhenylalanyl-tRNA synthetase alpha chain (EC 6.1.1.20)\n",
      "272563.8.peg.60\tGlutamyl-tRNA synthetase (EC 6.1.1.17)\n",
      "272563.8.peg.2733\tTryptophanyl-tRNA synthetase (EC 6.1.1.2)\n",
      "272563.8.peg.1676\tHydroxymethylpyrimidine phosphate kinase ThiD (EC 2.7.4.7)\n",
      "272563.8.peg.3718\tThymidylate kinase (EC 2.7.4.9)\n",
      "272563.8.peg.2552\tGlycyl-tRNA synthetase alpha chain (EC 6.1.1.14)\n",
      "272563.8.peg.56\t2-C-methyl-D-erythritol 4-phosphate cytidylyltransferase (EC 2.7.7.60)\n",
      "272563.8.peg.3116\tSubstrate-specific component BioY of biotin ECF transporter\n",
      "272563.8.peg.2852\tdiglucosyldiacylglycerol synthase (LTA membrane anchor synthesis)\n",
      "272563.8.peg.1782\tSulfur carrier protein ThiS subunit\n",
      "272563.8.peg.3736\t4-diphosphocytidyl-2-C-methyl-D-erythritol kinase (EC 2.7.1.148)\n"
     ]
    }
   ],
   "source": [
    "# Unconstrained base model\n",
    "base_essential = essential_genes(iCdG709)\n",
    "base_essential_genes = set([x.id for x in base_essential])\n",
    "print('Uncontextualized essential genes: ', len(base_essential_genes), '\\n')\n",
    "for gene in base_essential_genes:\n",
    "    print(iCdG709.genes.get_by_id(gene).id + '\\t' + iCdG709.genes.get_by_id(gene).name)"
   ]
  },
  {
   "cell_type": "code",
   "execution_count": 45,
   "metadata": {},
   "outputs": [
    {
     "name": "stdout",
     "output_type": "stream",
     "text": [
      "Low spores essential genes: 37\n"
     ]
    }
   ],
   "source": [
    "low_spores_essential_genes = essential_genes(low_spores_riptide.model)\n",
    "low_spores_essential_genes = set([x.id for x in low_spores_essential_genes]).difference(base_essential_genes)\n",
    "print('Low spores essential genes: ' + str(len(low_spores_essential_genes)))"
   ]
  },
  {
   "cell_type": "code",
   "execution_count": 46,
   "metadata": {},
   "outputs": [
    {
     "name": "stdout",
     "output_type": "stream",
     "text": [
      "High spores essential genes: 42\n"
     ]
    }
   ],
   "source": [
    "high_spores_essential_genes = essential_genes(high_spores_riptide.model)\n",
    "high_spores_essential_genes = set([x.id for x in high_spores_essential_genes]).difference(base_essential_genes)\n",
    "print('High spores essential genes: ' + str(len(high_spores_essential_genes)))"
   ]
  },
  {
   "cell_type": "code",
   "execution_count": 47,
   "metadata": {},
   "outputs": [
    {
     "name": "stdout",
     "output_type": "stream",
     "text": [
      "in vivo shared:  37 \n",
      "\n",
      "272563.8.peg.2456\t4-hydroxybutyrate:acetyl-CoA CoA transferase (EC 2.3.1.-)\n",
      "272563.8.peg.353\tManganese-dependent inorganic pyrophosphatase (EC 3.6.1.1)\n",
      "272563.8.peg.105\tAdenylate kinase (EC 2.7.4.3)\n",
      "272563.8.peg.1774\tSodium:alanine symporter family protein\n",
      "272563.8.peg.128\tphosphate butyryltransferase (EC 2.3.1.19)\n",
      "272563.8.peg.1565\tDNA-3-methyladenine glycosylase II (EC 3.2.2.21)\n",
      "272563.8.peg.3635\tATP synthase alpha chain (EC 3.6.3.14)\n",
      "272563.8.peg.2882\tPhosphoenolpyruvate-protein phosphotransferase of PTS system (EC 2.7.3.9)\n",
      "272563.8.peg.3633\tATP synthase beta chain (EC 3.6.3.14)\n",
      "272563.8.peg.1282\tphosphopentomutase (EC 5.4.2.7)\n",
      "272563.8.peg.866\tGlutamate synthase [NADPH] large chain (EC 1.4.1.13)\n",
      "272563.8.peg.1574\tDeoxyribose-phosphate aldolase (EC 4.1.2.4)\n",
      "272563.8.peg.1864\tABC transporter, ATP-binding protein (cluster 3, basic aa/glutamine/opines)\n",
      "272563.8.peg.1406\talanine transaminase (EC 2.6.1.2)\n",
      "272563.8.peg.202\taspartate carbamoyltransferase (EC 2.1.3.2)\n",
      "272563.8.peg.3634\tATP synthase gamma chain (EC 3.6.3.14)\n",
      "272563.8.peg.3636\tATP synthase delta chain (EC 3.6.3.14)\n",
      "272563.8.peg.2488\tL-aspartate oxidase (EC 1.4.3.16)\n",
      "272563.8.peg.1061\tN-acetylgalactosamine-6-phosphate deacetylase | nagA\n",
      "272563.8.peg.3390\tproline racemase (EC 5.1.1.4)\n",
      "272563.8.peg.3632\tATP synthase epsilon chain (EC 3.6.3.14)\n",
      "272563.8.peg.3645\turacil phosphoribosyltransferase (EC 2.4.2.9)\n",
      "272563.8.peg.1284\tpyrimidine-nucleoside phosphorylase (EC 2.4.2.2)\n",
      "272563.8.peg.2720\tPyrimidine operon regulatory protein PyrR\n",
      "272563.120.peg.2623\tAspartate aminotransferase (EC 2.6.1.1)\n",
      "272563.8.peg.3557\tPyruvate kinase (EC 2.7.1.40)\n",
      "272563.8.peg.1233\tAcetate kinase (EC 2.7.2.1)\n",
      "272563.8.peg.1283\tPurine nucleoside phosphorylase (EC 2.4.2.1)\n",
      "272563.8.peg.3245\tPTS system, N-acetylglucosamine-specific IIC component (EC 2.7.1.69)\n",
      "272563.8.peg.3323\tTriosephosphate isomerase (EC 5.3.1.1)\n",
      "272563.8.peg.717\tsodium-solute symporter, putative\n",
      "272563.8.peg.755\tFormate--tetrahydrofolate ligase (EC 6.3.4.3)\n",
      "272563.8.peg.3235\tTrehalose-6-phosphate hydrolase (EC 3.2.1.93)\n",
      "272563.8.peg.2558\tcytidine deaminase (EC 3.5.4.5)\n",
      "272563.8.peg.2754\tGlycerol-3-phosphate dehydrogenase [NAD(P)+] (EC 1.1.1.94)\n",
      "272563.8.peg.2872\tAdenine phosphoribosyltransferase (EC 2.4.2.7)\n",
      "272563.8.peg.1085\tUDP-N-acetylglucosamine 2-epimerase (EC 5.1.3.14)\n"
     ]
    }
   ],
   "source": [
    "invivo_essential_genes = low_spores_essential_genes.intersection(high_spores_essential_genes)\n",
    "print('in vivo shared: ', len(invivo_essential_genes),'\\n')\n",
    "for gene in invivo_essential_genes:\n",
    "    print(iCdG709.genes.get_by_id(gene).id + '\\t' + iCdG709.genes.get_by_id(gene).name)"
   ]
  },
  {
   "cell_type": "code",
   "execution_count": 48,
   "metadata": {},
   "outputs": [
    {
     "name": "stdout",
     "output_type": "stream",
     "text": [
      "Low spores only: 0\n",
      "\n",
      "High spores only: 5\n",
      "272563.8.peg.2536\tPTS system, glucitol/sorbitol-specific IIC component (EC 2.7.1.69)\n",
      "272563.120.peg.124\tPhosphate butyryltransferase (EC 2.3.1.19)\n",
      "272563.8.peg.2535\tPTS system, glucitol/sorbitol-specific IIB component (EC 2.7.1.198) / PTS system, glucitol/sorbitol-specific IIC component 2 | srlE_2\n",
      "272563.8.peg.2355\tN-acetylneuraminate lyase (EC 4.1.3.3)\n",
      "272563.8.peg.2806\tPyruvate-flavodoxin oxidoreductase (EC 1.2.7.-)\n"
     ]
    }
   ],
   "source": [
    "low_spores_only_essential_genes = low_spores_essential_genes.difference(high_spores_essential_genes)\n",
    "high_spores_only_essential_genes = high_spores_essential_genes.difference(low_spores_essential_genes)\n",
    "\n",
    "print('Low spores only:',len(low_spores_only_essential_genes))\n",
    "for gene in low_spores_only_essential_genes:\n",
    "    print(iCdG709.genes.get_by_id(gene).id + '\\t' + iCdG709.genes.get_by_id(gene).name)\n",
    "    \n",
    "print('\\nHigh spores only:',len(high_spores_only_essential_genes))\n",
    "for gene in high_spores_only_essential_genes:\n",
    "    print(iCdG709.genes.get_by_id(gene).id + '\\t' + iCdG709.genes.get_by_id(gene).name)"
   ]
  },
  {
   "cell_type": "code",
   "execution_count": 51,
   "metadata": {},
   "outputs": [],
   "source": [
    "# Save results to a table\n",
    "with open('/home/mjenior/Desktop/repos/Jenior_Cdifficile_2019/results/invivo_essentiality.tsv','w') as outfile:\n",
    "    entry = 'base\\t' + '\\t'.join([str(x.id) for x in base_essential]) + '\\n'\n",
    "    outfile.write(entry)\n",
    "    entry = 'in_vivo\\t' + '\\t'.join(invivo_essential_genes) + '\\n'\n",
    "    outfile.write(entry)\n",
    "    entry = 'low_sporulation\\t' + '\\t'.join(low_spores_only_essential_genes) + '\\n'\n",
    "    outfile.write(entry)\n",
    "    entry = 'high_sporulation\\t' + '\\t'.join(high_spores_only_essential_genes) + '\\n'\n",
    "    outfile.write(entry)\n"
   ]
  },
  {
   "cell_type": "code",
   "execution_count": 60,
   "metadata": {},
   "outputs": [],
   "source": [
    "# Save results to a table\n",
    "with open('/home/mjenior/Desktop/repos/Jenior_Cdifficile_2019/results/tables/genes_table_S5.tsv','w') as outfile:\n",
    "    outfile.write('condition\\tgene_id\\tgene_name\\n')\n",
    "    \n",
    "    for w in base_essential:\n",
    "        entry = 'uncontextualized\\t' + w.id + '\\t' + w.name.replace(' ', '_') + '\\n'\n",
    "        outfile.write(entry)\n",
    "        \n",
    "    for x in invivo_essential_genes:\n",
    "        x = iCdG709.genes.get_by_id(x)\n",
    "        entry = 'in_vivo\\t' + x.id + '\\t' + x.name.replace(' ', '_') + '\\n'\n",
    "        outfile.write(entry)\n",
    "    \n",
    "    for y in low_spores_only_essential_genes:\n",
    "        y = iCdG709.genes.get_by_id(y)\n",
    "        entry = 'low_sporulation_only\\t' + y.id + '\\t' + y.name.replace(' ', '_') + '\\n'\n",
    "        outfile.write(entry)\n",
    "    \n",
    "    for z in high_spores_only_essential_genes:\n",
    "        z = iCdG709.genes.get_by_id(z)\n",
    "        entry = 'high_sporulation_only\\t' + z.id + '\\t' + z.name.replace(' ', '_') + '\\n'\n",
    "        outfile.write(entry)\n"
   ]
  },
  {
   "cell_type": "markdown",
   "metadata": {},
   "source": [
    "#### Reaction Essentiality"
   ]
  },
  {
   "cell_type": "code",
   "execution_count": 61,
   "metadata": {},
   "outputs": [
    {
     "name": "stdout",
     "output_type": "stream",
     "text": [
      "141 core essential reactions found\n"
     ]
    }
   ],
   "source": [
    "minGrowth = iCdG709.slim_optimize() * 0.01\n",
    "base_essential_reactions = cobra.flux_analysis.find_essential_reactions(iCdG709, threshold=minGrowth)\n",
    "base_essential_reactions = set([x.id for x in base_essential_reactions])\n",
    "print(str(len(base_essential_reactions)) + ' core essential reactions found')"
   ]
  },
  {
   "cell_type": "code",
   "execution_count": 62,
   "metadata": {},
   "outputs": [
    {
     "name": "stdout",
     "output_type": "stream",
     "text": [
      "283 low spore-specific essential reactions\n"
     ]
    }
   ],
   "source": [
    "minGrowth = low_spores_riptide.model.slim_optimize() * 0.01\n",
    "low_spores_essential_reactions = cobra.flux_analysis.find_essential_reactions(low_spores_riptide.model, threshold=minGrowth)\n",
    "low_spores_essential_reactions = set([x.id for x in low_spores_essential_reactions])\n",
    "print(str(len(low_spores_essential_reactions)) + ' low spore-specific essential reactions')"
   ]
  },
  {
   "cell_type": "code",
   "execution_count": 63,
   "metadata": {},
   "outputs": [
    {
     "name": "stdout",
     "output_type": "stream",
     "text": [
      "289 high spore-specific essential reactions\n"
     ]
    }
   ],
   "source": [
    "minGrowth = high_spores_riptide.model.slim_optimize() * 0.01\n",
    "high_spores_essential_reactions = cobra.flux_analysis.find_essential_reactions(high_spores_riptide.model, threshold=minGrowth)\n",
    "high_spores_essential_reactions = set([x.id for x in high_spores_essential_reactions])\n",
    "print(str(len(high_spores_essential_reactions)) + ' high spore-specific essential reactions')"
   ]
  },
  {
   "cell_type": "code",
   "execution_count": 64,
   "metadata": {},
   "outputs": [
    {
     "name": "stdout",
     "output_type": "stream",
     "text": [
      "High spore-only essential reactions:\n",
      "EX_cpd00232_e\tNeu5Ac exchange\n",
      "rxn05316_c\tInosine transport in via proton symport\n",
      "rxn01358_c\tinosine:phosphate alpha-D-ribosyltransferase\n",
      "rxn01322_c\tN-Acetylneuraminate pyruvate-lyase (N-acetyl-D-mannosamine-forming)\n",
      "EX_cpd00246_e\tInosine exchange\n",
      "rxn05201_c\tHypoxanthine hydrogen symport\n",
      "EX_cpd00226_e\tHypoxanthine exchange\n",
      "rxn05938_c\tpyruvate ferredoxin oxidoreductase\n",
      "rxn29571_c\tNeu5Ac H+ symporter\n",
      "rxn00173_c\tPhosphate acetyltransferase\n",
      "rxn00193_c\tglutamate racemase\n",
      "\n",
      "Low spore-only essential reactions:\n",
      "rxn01505_c\tN-Acetyl-D-glucosamine 1-phosphate 1,6-phosphomutase\n",
      "EX_cpd00039_e\tL-Lysine exchange\n",
      "EX_cpd00023_e\tL-Glutamate exchange\n",
      "rxn05151_c\tATP phosphohydrolase (polar-amino-acid-importing)\n",
      "rxn05298_c\tNa+/glutamate symport\n"
     ]
    }
   ],
   "source": [
    "# Contrast groups\n",
    "overlap_essential_rxns = low_spores_essential_reactions.intersection(high_spores_essential_reactions)\n",
    "low_spores_only_essential_rxns = low_spores_essential_reactions.difference(high_spores_essential_reactions)\n",
    "high_spores_only_essential_rxns = high_spores_essential_reactions.difference(low_spores_essential_reactions)\n",
    "\n",
    "# Display results\n",
    "print('High spore-only essential reactions:')\n",
    "for x in high_spores_only_essential_rxns:\n",
    "    print(x + '\\t' + iCdG709.reactions.get_by_id(x).name)\n",
    "print('\\nLow spore-only essential reactions:')\n",
    "for x in low_spores_only_essential_rxns:\n",
    "    print(x + '\\t' + iCdG709.reactions.get_by_id(x).name)"
   ]
  },
  {
   "cell_type": "code",
   "execution_count": 70,
   "metadata": {},
   "outputs": [],
   "source": [
    "# Save results to a table\n",
    "with open('/home/mjenior/Desktop/repos/Jenior_Cdifficile_2019/results/tables/reactions_table_S5.tsv','w') as outfile:\n",
    "    outfile.write('condition\\treaction_id\\treaction_name\\n')\n",
    "    \n",
    "    for w in base_essential_reactions:\n",
    "        w = iCdG709.reactions.get_by_id(w)\n",
    "        entry = 'uncontextualized\\t' + w.id + '\\t' + w.name.replace(' ', '_') + '\\n'\n",
    "        outfile.write(entry)\n",
    "        \n",
    "    for x in overlap_essential_rxns:\n",
    "        x = iCdG709.reactions.get_by_id(x)\n",
    "        entry = 'in_vivo\\t' + x.id + '\\t' + x.name.replace(' ', '_') + '\\n'\n",
    "        outfile.write(entry)\n",
    "    \n",
    "    for y in low_spores_only_essential_rxns:\n",
    "        y = iCdG709.reactions.get_by_id(y)\n",
    "        entry = 'low_sporulation_only\\t' + y.id + '\\t' + y.name.replace(' ', '_') + '\\n'\n",
    "        outfile.write(entry)\n",
    "    \n",
    "    for z in high_spores_only_essential_rxns:\n",
    "        z = iCdG709.reactions.get_by_id(z)\n",
    "        entry = 'high_sporulation_only\\t' + z.id + '\\t' + z.name.replace(' ', '_') + '\\n'\n",
    "        outfile.write(entry)"
   ]
  },
  {
   "cell_type": "markdown",
   "metadata": {},
   "source": [
    "### Context-specific Substrate Importance"
   ]
  },
  {
   "cell_type": "code",
   "execution_count": 20,
   "metadata": {},
   "outputs": [],
   "source": [
    "# Essential substrates\n",
    "\n",
    "import pandas\n",
    "from cobra.medium import minimal_medium\n",
    "\n",
    "# Non-exhaustive\n",
    "def find_essential_metabolites(model, fraction=0.01):\n",
    "\n",
    "    min_growth = model.slim_optimize() * fraction\n",
    "    ser = minimal_medium(model, min_objective_value=min_growth, minimize_components=True)\n",
    "\n",
    "    rxns = list(ser.index)\n",
    "    fluxes = list(ser.values)\n",
    "    cpds = []\n",
    "    for x in rxns: cpds.append(model.reactions.get_by_id(x).reactants[0].name)        \n",
    "    \n",
    "    media = {'Reaction': rxns, 'Substrate': cpds, 'Units': fluxes}    \n",
    "    media = pandas.DataFrame(media)\n",
    "    print('Minimal media components: ' + str(len(media.index)))\n",
    "    \n",
    "    return(media)\n"
   ]
  },
  {
   "cell_type": "code",
   "execution_count": 21,
   "metadata": {},
   "outputs": [
    {
     "name": "stdout",
     "output_type": "stream",
     "text": [
      "Minimal media components: 41\n"
     ]
    },
    {
     "name": "stderr",
     "output_type": "stream",
     "text": [
      "cobra/medium/minimal_medium.py:100 \u001b[1;31mDeprecationWarning\u001b[0m: The default dtype for empty Series will be 'object' instead of 'float64' in a future version. Specify a dtype explicitly to silence this warning.\n"
     ]
    }
   ],
   "source": [
    "low_spores_min_media = find_essential_metabolites(low_spores_riptide.model)"
   ]
  },
  {
   "cell_type": "code",
   "execution_count": 22,
   "metadata": {},
   "outputs": [
    {
     "name": "stdout",
     "output_type": "stream",
     "text": [
      "Minimal media components: 39\n"
     ]
    },
    {
     "name": "stderr",
     "output_type": "stream",
     "text": [
      "cobra/medium/minimal_medium.py:100 \u001b[1;31mDeprecationWarning\u001b[0m: The default dtype for empty Series will be 'object' instead of 'float64' in a future version. Specify a dtype explicitly to silence this warning.\n"
     ]
    }
   ],
   "source": [
    "high_spores_min_media = find_essential_metabolites(high_spores_riptide.model)"
   ]
  },
  {
   "cell_type": "code",
   "execution_count": 23,
   "metadata": {},
   "outputs": [
    {
     "name": "stdout",
     "output_type": "stream",
     "text": [
      "Shared: 37\n",
      "\n",
      "Low spores only: 4\n",
      "High spores only: 2\n"
     ]
    }
   ],
   "source": [
    "low_spores_substrates = set(low_spores_min_media['Substrate'])\n",
    "high_spores_substrates = set(high_spores_min_media['Substrate'])\n",
    "\n",
    "shared_substrates = low_spores_substrates.intersection(high_spores_substrates)\n",
    "low_spores_only_substrates = low_spores_substrates.difference(high_spores_substrates)\n",
    "high_spores_only_substrates = high_spores_substrates.difference(low_spores_substrates)\n",
    "\n",
    "print('Shared: ' + str(len(shared_substrates)) + '\\n')\n",
    "print('Low spores only: ' + str(len(low_spores_only_substrates)))\n",
    "print('High spores only: ' + str(len(high_spores_only_substrates)))"
   ]
  },
  {
   "cell_type": "code",
   "execution_count": 24,
   "metadata": {},
   "outputs": [
    {
     "name": "stdout",
     "output_type": "stream",
     "text": [
      "Shared components:\n",
      "L-Alanine\n",
      "Riboflavin\n",
      "Folate\n",
      "L-Threonine\n",
      "Cl-\n",
      "H2O\n",
      "L-Asparagine\n",
      "L-Valine\n",
      "L-Methionine\n",
      "D-Alanine\n",
      "Nicotinamide\n",
      "Deoxycytidine\n",
      "Biotin\n",
      "Na+\n",
      "L-Leucine\n",
      "Fe2+\n",
      "Pantothenate\n",
      "L-Cysteine\n",
      "N-Acetyl-Neuraminic acid\n",
      "Mg\n",
      "Phosphate\n",
      "D-Glutamate\n",
      "Mn2+\n",
      "Ca2+\n",
      "L-Phenylalanine\n",
      "L-Aspartate\n",
      "Guanosine\n",
      "L-Tyrosine\n",
      "L-Tryptophan\n",
      "L-Histidine\n",
      "Pyridoxol\n",
      "L-Arginine\n",
      "L-Isoleucine\n",
      "D-Proline\n",
      "Co2+\n",
      "K+\n",
      "Deoxyuridine\n",
      "\n",
      "Low spores only:\n",
      "L-Lysine\n",
      "Cytidine\n",
      "H+\n",
      "L-Glutamate\n",
      "\n",
      "High spores only:\n",
      "Ornithine\n",
      "Inosine\n"
     ]
    }
   ],
   "source": [
    "print('Shared components:')\n",
    "for x in shared_substrates: print(x)\n",
    "print('\\nLow spores only:')\n",
    "for x in low_spores_only_substrates: print(x)\n",
    "print('\\nHigh spores only:')\n",
    "for x in high_spores_only_substrates: print(x)"
   ]
  },
  {
   "cell_type": "code",
   "execution_count": 25,
   "metadata": {},
   "outputs": [],
   "source": [
    "import numpy\n",
    "import cobra\n",
    "import cobra.flux_analysis\n",
    "\n",
    "def _getKey(item):\n",
    "    return item[1]\n",
    "\n",
    "# Scale each active exchange back and examine its influence on objective flux\n",
    "def find_primary_sources(model, flux_samples=False, fraction=0.01, cutoff=0.8, pfba_fraction=0.8):\n",
    "    # Requires a model \n",
    "    # Optional: flux_samples = flux samples pandas dataframe associated with model\n",
    "    #           fraction = percent of median flux to limit exchange reactions by\n",
    "    #           cutoff = quantile of top C and N sources to report\n",
    "    #           pfba_fraction = fraction of optimal objective value for pfba solution\n",
    "\n",
    "    sources = {}\n",
    "    c_sources = []\n",
    "    c_influence = []\n",
    "    n_sources = []\n",
    "    n_influence = []\n",
    "    p_source = ['p_source', -1.0]\n",
    "    s_source = ['s_source', -1.0]\n",
    "    objVal = model.slim_optimize()\n",
    "    pfba_solution = cobra.flux_analysis.pfba(model, fraction_of_optimum=pfba_fraction)\n",
    "    \n",
    "    # Parse exchange flux samples for imported metabolites\n",
    "    exchanges = [rxn.id for rxn in model.boundary]\n",
    "    for rxn in exchanges:\n",
    "        if isinstance(flux_samples, pandas.DataFrame):\n",
    "            current_samples = list(set(flux_samples[rxn]))\n",
    "            flux = numpy.mean(current_samples)\n",
    "        else:\n",
    "            flux = pfba_solution.fluxes[rxn]\n",
    "        if flux >= -1e-6: continue # Skip exported byproducts or unused reactions\n",
    "        bound = flux * fraction\n",
    "        \n",
    "        # Test for disproportionate effect on objective\n",
    "        old_bounds = model.reactions.get_by_id(rxn).bounds\n",
    "        model.reactions.get_by_id(rxn).bounds = (bound, bound)        \n",
    "        new_objVal = model.slim_optimize()\n",
    "        model.reactions.get_by_id(rxn).bounds = old_bounds # Reset bounds\n",
    "        if str(new_objVal) == 'nan': new_objVal = objVal * fraction # Correct for nan\n",
    "        \n",
    "        # Calculate the degree of change to objective value\n",
    "        if new_objVal != objVal:\n",
    "            flux_ratio = objVal / new_objVal\n",
    "            adjustment = abs(flux) * flux_ratio\n",
    "        else:\n",
    "            adjustment = 1.\n",
    "        \n",
    "        # Normalize elemental component contributions\n",
    "        metabolite = model.reactions.get_by_id(rxn).reactants[0]\n",
    "        sources[metabolite.id] = {}\n",
    "        for element in metabolite.elements.keys():\n",
    "            element_supply = float(metabolite.elements[element]) * adjustment\n",
    "            if element_supply > 0.: element_supply = numpy.log(element_supply)\n",
    "            sources[metabolite.id][element] = element_supply\n",
    "                \n",
    "            # Identify largest sources of main elements\n",
    "            if element == 'C' and element_supply > 0.0:\n",
    "                c_sources.append([metabolite.id, element_supply])\n",
    "                c_influence.append(element_supply)\n",
    "            elif element == 'N' and element_supply > 0.0:\n",
    "                n_sources.append([metabolite.id, element_supply])\n",
    "                n_influence.append(element_supply)\n",
    "            elif element == 'P' and element_supply > 0.0:\n",
    "                p_source = [metabolite.id, element_supply]\n",
    "            elif element == 'S' and element_supply > 0.0:\n",
    "                s_source = [metabolite.id, element_supply]\n",
    "    \n",
    "    # Rank by largest contributions\n",
    "    c_sources = sorted(c_sources, reverse=True, key=_getKey)\n",
    "    n_sources = sorted(n_sources, reverse=True, key=_getKey)\n",
    "    \n",
    "    print('Top carbon sources:')\n",
    "    current = max(c_influence)\n",
    "    x = 0\n",
    "    while current >= numpy.quantile(c_influence, cutoff):\n",
    "        print(model.metabolites.get_by_id(c_sources[x][0]).name + ' (' + str(round(c_sources[x][1],3)) + ')')\n",
    "        current = c_sources[x][1]\n",
    "        x += 1\n",
    "        \n",
    "    print('\\nTop nitrogen sources:')\n",
    "    current = max(n_influence)\n",
    "    x = 0\n",
    "    while current >= numpy.quantile(n_influence, cutoff):\n",
    "        print(model.metabolites.get_by_id(n_sources[x][0]).name + ' (' + str(round(n_sources[x][1],3)) + ')')\n",
    "        current = n_sources[x][1]\n",
    "        x += 1\n",
    "        \n",
    "    print('\\nPrimary phosphorous source:')\n",
    "    print(model.metabolites.get_by_id(p_source[0]).name + ' (' + str(round(p_source[1],3)) + ')')\n",
    "    \n",
    "    print('\\nPrimary sulfur source:')\n",
    "    print(model.metabolites.get_by_id(s_source[0]).name + ' (' + str(round(s_source[1],3)) + ')')\n",
    "    \n",
    "    return sources\n"
   ]
  },
  {
   "cell_type": "code",
   "execution_count": 26,
   "metadata": {},
   "outputs": [
    {
     "name": "stdout",
     "output_type": "stream",
     "text": [
      "Top carbon sources:\n",
      "Guanosine (13.45)\n",
      "L-Isoleucine (13.127)\n",
      "Deoxyuridine (12.665)\n",
      "L-Alanine (12.133)\n",
      "L-Leucine (11.562)\n",
      "L-Valine (10.87)\n",
      "D-Alanine (10.335)\n",
      "D-Glutamate (10.287)\n",
      "\n",
      "Top nitrogen sources:\n",
      "Guanosine (12.757)\n",
      "L-Isoleucine (11.335)\n",
      "Deoxyuridine (11.161)\n",
      "L-Alanine (11.034)\n",
      "L-Leucine (9.77)\n",
      "L-Valine (9.26)\n",
      "D-Alanine (9.237)\n",
      "L-Lysine (9.153)\n",
      "\n",
      "Primary phosphorous source:\n",
      "Phosphate (8.621)\n",
      "\n",
      "Primary sulfur source:\n",
      "L-Cysteine (5.571)\n"
     ]
    }
   ],
   "source": [
    "low_spores_sources = find_primary_sources(low_spores_riptide.model, flux_samples=low_spores_riptide.flux_samples)"
   ]
  },
  {
   "cell_type": "code",
   "execution_count": 27,
   "metadata": {},
   "outputs": [
    {
     "name": "stdout",
     "output_type": "stream",
     "text": [
      "Top carbon sources:\n",
      "Guanosine (13.153)\n",
      "L-Isoleucine (13.151)\n",
      "Inosine (12.942)\n",
      "Deoxyuridine (12.686)\n",
      "N-Acetyl-Neuraminic acid (12.275)\n",
      "L-Alanine (12.17)\n",
      "L-Leucine (11.661)\n",
      "L-Valine (10.815)\n",
      "\n",
      "Top nitrogen sources:\n",
      "Guanosine (12.46)\n",
      "Inosine (12.026)\n",
      "L-Isoleucine (11.359)\n",
      "Deoxyuridine (11.182)\n",
      "L-Alanine (11.071)\n",
      "N-Acetyl-Neuraminic acid (9.878)\n",
      "L-Leucine (9.87)\n",
      "D-Alanine (9.261)\n",
      "\n",
      "Primary phosphorous source:\n",
      "Phosphate (8.647)\n",
      "\n",
      "Primary sulfur source:\n",
      "L-Cysteine (5.597)\n"
     ]
    }
   ],
   "source": [
    "high_spores_sources = find_primary_sources(high_spores_riptide.model, flux_samples=high_spores_riptide.flux_samples)"
   ]
  },
  {
   "cell_type": "markdown",
   "metadata": {},
   "source": [
    "###  Context-specific Topological Differences"
   ]
  },
  {
   "cell_type": "code",
   "execution_count": 28,
   "metadata": {},
   "outputs": [
    {
     "name": "stdout",
     "output_type": "stream",
     "text": [
      "Shared: 318\n",
      "\n",
      "Low spores only: 6\n",
      "Medium spores only: 8\n"
     ]
    }
   ],
   "source": [
    "# Shared topology - reactions\n",
    "low_spores_rxns = set([x.id for x in low_spores_riptide.model.reactions])\n",
    "high_spores_rxns = set([x.id for x in high_spores_riptide.model.reactions])\n",
    "\n",
    "shared_rxns = low_spores_rxns.intersection(high_spores_rxns)\n",
    "low_spores_only_rxns = low_spores_rxns.difference(high_spores_rxns)\n",
    "high_spores_only_rxns = high_spores_rxns.difference(low_spores_rxns)\n",
    "\n",
    "print('Shared: ' + str(len(shared_rxns)) + '\\n')\n",
    "print('Low spores only: ' + str(len(low_spores_only_rxns)))\n",
    "print('Medium spores only: ' + str(len(high_spores_only_rxns)))"
   ]
  },
  {
   "cell_type": "code",
   "execution_count": 29,
   "metadata": {},
   "outputs": [
    {
     "name": "stdout",
     "output_type": "stream",
     "text": [
      "Low spores only:\n",
      "rxn05198_c\tTransport of cytidine, extracellular\n",
      "rxn01952_c\tN-Acetylmannosamine phosphotransferase\n",
      "EX_cpd00367_e\tCytidine exchange\n",
      "rxn01506_c\tN-Acetyl-D-glucosamine 6-phosphate 2-epimerase\n",
      "rxn05298_c\tNa+/glutamate symport\n",
      "EX_cpd00023_e\tL-Glutamate exchange\n",
      "\n",
      "High spores only:\n",
      "EX_cpd00246_e\tInosine exchange\n",
      "rxn00193_c\tglutamate racemase\n",
      "rxn05316_c\tInosine transport in via proton symport\n",
      "EX_cpd00226_e\tHypoxanthine exchange\n",
      "rxn01358_c\tinosine:phosphate alpha-D-ribosyltransferase\n",
      "rxn05201_c\tHypoxanthine hydrogen symport\n",
      "rxn00313_c\tmeso-2,6-diaminoheptanedioate carboxy-lyase (L-lysine-forming)\n",
      "rxn01347_c\tUTP:Sedoheptulose 7-phosphate 1-phosphotransferase\n"
     ]
    }
   ],
   "source": [
    "print('Low spores only:')\n",
    "for x in low_spores_only_rxns:\n",
    "    print(x + '\\t' + iCdG709.reactions.get_by_id(x).name)\n",
    "\n",
    "print('\\nHigh spores only:')\n",
    "for y in high_spores_only_rxns:\n",
    "    print(y + '\\t' + iCdG709.reactions.get_by_id(y).name)"
   ]
  },
  {
   "cell_type": "code",
   "execution_count": 30,
   "metadata": {},
   "outputs": [
    {
     "name": "stdout",
     "output_type": "stream",
     "text": [
      "Shared: 319\n",
      "\n",
      "Low spores only: 3\n",
      "cpd00023_e\tL-Glutamate\n",
      "cpd02612_c\tN-Acetylmannosamine 6-phosphate\n",
      "cpd00367_e\tCytidine\n",
      "\n",
      "High spores only: 4\n",
      "cpd00226_c\tHypoxanthine\n",
      "cpd00246_c\tInosine\n",
      "cpd00246_e\tInosine\n",
      "cpd00226_e\tHypoxanthine\n"
     ]
    }
   ],
   "source": [
    "# Shared topology - metabolites\n",
    "low_spores_cpds = set([x.id for x in low_spores_riptide.model.metabolites])\n",
    "high_spores_cpds = set([x.id for x in high_spores_riptide.model.metabolites])\n",
    "\n",
    "shared_cpds = low_spores_cpds.intersection(high_spores_cpds)\n",
    "low_spores_only_cpds = low_spores_cpds.difference(high_spores_cpds)\n",
    "high_spores_only_cpds = high_spores_cpds.difference(low_spores_cpds)\n",
    "\n",
    "print('Shared:',len(shared_cpds))\n",
    "\n",
    "print('\\nLow spores only:',len(low_spores_only_cpds))\n",
    "for x in low_spores_only_cpds:\n",
    "    print(x + '\\t' + iCdG709.metabolites.get_by_id(x).name)\n",
    "\n",
    "\n",
    "print('\\nHigh spores only:',len(high_spores_only_cpds))\n",
    "for y in high_spores_only_cpds:\n",
    "    print(y + '\\t' + iCdG709.metabolites.get_by_id(y).name)\n"
   ]
  },
  {
   "cell_type": "markdown",
   "metadata": {},
   "source": [
    "### Reaction essentiality"
   ]
  },
  {
   "cell_type": "code",
   "execution_count": 31,
   "metadata": {},
   "outputs": [],
   "source": [
    "import copy\n",
    "from cobra.flux_analysis.variability import find_essential_reactions\n",
    "\n",
    "def essential_reactions(genre, media=None, optimum_fraction=0.01):\n",
    "    model = copy.deepcopy(genre)\n",
    "    \n",
    "    # Change media conditions if necessary\n",
    "    if media is not None:\n",
    "        exchanges = ['EX_' + x for x in media]\n",
    "        for rxn in model.reactions:\n",
    "            if len(list(rxn.products)) == 0:\n",
    "                if rxn.id in exchanges:\n",
    "                    model.reactions.get_by_id(rxn.id).lower_bound = max([-1000.0,model.reactions.get_by_id(rxn.id).lower_bound])\n",
    "                else:\n",
    "                    model.reactions.get_by_id(rxn.id).lower_bound = 0.0\n",
    "    \n",
    "    # Find essential genes\n",
    "    essential_reactions = find_essential_reactions(model, threshold=optimum_fraction)\n",
    "    \n",
    "    return essential_reactions\n",
    "                "
   ]
  },
  {
   "cell_type": "code",
   "execution_count": 32,
   "metadata": {},
   "outputs": [
    {
     "name": "stdout",
     "output_type": "stream",
     "text": [
      "Low spores essential reactions: 283\n"
     ]
    }
   ],
   "source": [
    "low_spores_essential_reactions = essential_reactions(low_spores_riptide.model)\n",
    "low_spores_essential_reactions = set([x.id for x in low_spores_essential_reactions])\n",
    "print('Low spores essential reactions: ' + str(len(low_spores_essential_reactions)))"
   ]
  },
  {
   "cell_type": "code",
   "execution_count": 33,
   "metadata": {},
   "outputs": [
    {
     "name": "stdout",
     "output_type": "stream",
     "text": [
      "High spores essential reactions: 289\n"
     ]
    }
   ],
   "source": [
    "high_spores_essential_reactions = essential_reactions(high_spores_riptide.model)\n",
    "high_spores_essential_reactions = set([x.id for x in high_spores_essential_reactions])\n",
    "print('High spores essential reactions: ' + str(len(high_spores_essential_reactions)))"
   ]
  },
  {
   "cell_type": "code",
   "execution_count": 34,
   "metadata": {},
   "outputs": [
    {
     "name": "stdout",
     "output_type": "stream",
     "text": [
      "Low spores only: 5\n",
      "High spores only: 11\n"
     ]
    }
   ],
   "source": [
    "low_spores_only_essential_reactions = low_spores_essential_reactions.difference(high_spores_essential_reactions)\n",
    "high_spores_only_essential_reactions = high_spores_essential_reactions.difference(low_spores_essential_reactions)\n",
    "\n",
    "print('Low spores only: ' + str(len(low_spores_only_essential_reactions)))\n",
    "print('High spores only: ' + str(len(high_spores_only_essential_reactions)))"
   ]
  },
  {
   "cell_type": "code",
   "execution_count": 35,
   "metadata": {},
   "outputs": [
    {
     "name": "stdout",
     "output_type": "stream",
     "text": [
      "Low only:\n",
      "EX_cpd00039_e L-Lysine exchange\n",
      "rxn05298_c Na+/glutamate symport\n",
      "rxn05151_c ATP phosphohydrolase (polar-amino-acid-importing)\n",
      "rxn01505_c N-Acetyl-D-glucosamine 1-phosphate 1,6-phosphomutase\n",
      "EX_cpd00023_e L-Glutamate exchange\n",
      "\n",
      "High only:\n",
      "EX_cpd00246_e Inosine exchange\n",
      "rxn00193_c glutamate racemase\n",
      "rxn05316_c Inosine transport in via proton symport\n",
      "rxn01322_c N-Acetylneuraminate pyruvate-lyase (N-acetyl-D-mannosamine-forming)\n",
      "rxn29571_c Neu5Ac H+ symporter\n",
      "EX_cpd00226_e Hypoxanthine exchange\n",
      "rxn05938_c pyruvate ferredoxin oxidoreductase\n",
      "rxn01358_c inosine:phosphate alpha-D-ribosyltransferase\n",
      "rxn05201_c Hypoxanthine hydrogen symport\n",
      "rxn00173_c Phosphate acetyltransferase\n",
      "EX_cpd00232_e Neu5Ac exchange\n"
     ]
    }
   ],
   "source": [
    "print('Low only:')\n",
    "for x in low_spores_only_essential_reactions:\n",
    "    print(x, iCdG709.reactions.get_by_id(x).name)\n",
    "    \n",
    "print('\\nHigh only:')\n",
    "for x in high_spores_only_essential_reactions:\n",
    "    print(x, iCdG709.reactions.get_by_id(x).name)"
   ]
  },
  {
   "cell_type": "code",
   "execution_count": 36,
   "metadata": {},
   "outputs": [],
   "source": [
    "import cobra.flux_analysis\n",
    "from cobra.flux_analysis.parsimonious import pfba\n",
    "\n",
    "# Inferring media condition\n",
    "def find_substrates_and_byproducts(model):\n",
    "    \n",
    "    pfba_solv = pfba(model)\n",
    "    \n",
    "    substrates = set()\n",
    "    byproducts = set()\n",
    "    for rxn in model.boundary:\n",
    "        if pfba_solv.fluxes[rxn.id] < 0.0:\n",
    "            substrates |= set([rxn.reactants[0].id])\n",
    "        elif pfba_solv.fluxes[rxn.id] > 0.0:\n",
    "            byproducts |= set([rxn.reactants[0].id])\n",
    "\n",
    "    print(str(len(substrates)) + ' possible growth substrates found')\n",
    "    print(str(len(byproducts)) + ' possible byproducts found\\n')\n",
    "    \n",
    "    return substrates, byproducts\n",
    "\n",
    "\n",
    "# Inferring media condition\n",
    "def find_substrates_and_byproducts_riptide(riptide):\n",
    "        \n",
    "    substrates = []\n",
    "    byproducts = []\n",
    "\n",
    "    for rxn in riptide.model.exchanges:\n",
    "        \n",
    "        if numpy.median(riptide.flux_samples[rxn.id]) < -1.0:\n",
    "            substrates.append(rxn.reactants[0].id)\n",
    "        elif numpy.median(riptide.flux_samples[rxn.id]) > 1.0:\n",
    "            byproducts.append(rxn.reactants[0].id)\n",
    "            \n",
    "    substrates = set(substrates)\n",
    "    print(str(len(substrates)) + ' possible growth substrates found')\n",
    "    byproducts = set(byproducts)\n",
    "    print(str(len(byproducts)) + ' possible byproducts found\\n')\n",
    "    \n",
    "    return substrates, byproducts\n",
    "\n",
    "# Finding sources of elements\n",
    "def find_element_sources(model):\n",
    "    \n",
    "    sources = {'C':[], 'N':[], 'P':[], 'S':[]}\n",
    "    c_source = ['cpd_id', 0.0]\n",
    "    n_source = ['cpd_id', 0.0]\n",
    "    pfba_solution = pfba(model)\n",
    "    \n",
    "    # Parse exchange flux samples for imported metabolites\n",
    "    for rxn in model.boundary:\n",
    "        \n",
    "        flux = pfba_solution.fluxes[rxn.id]\n",
    "        if flux < -1e-6:\n",
    "            metabolite = rxn.reactants[0]\n",
    "            sources[metabolite.id] = {}\n",
    "            \n",
    "            # Multiply elemental components by median flux absolute value\n",
    "            for element in metabolite.elements.keys():\n",
    "                element_supply = float(metabolite.elements[element]) * abs(flux)\n",
    "                element_supply = round(numpy.log(element_supply), 3)\n",
    "                sources[metabolite.id][element] = element_supply\n",
    "                \n",
    "                # Identify largest sources of carbon and nitrogen\n",
    "                if element == 'C' and element_supply > c_source[1]:\n",
    "                    c_source = [metabolite.id, element_supply]\n",
    "                    sources['C'].append(c_source)\n",
    "                elif element == 'N' and element_supply > n_source[1]:\n",
    "                    n_source = [metabolite.id, element_supply]\n",
    "                    sources['N'].append(n_source)\n",
    "                elif element == 'P' and element_supply > 0.0:\n",
    "                    p_source = [metabolite.id, element_supply]\n",
    "                    sources['P'].append(p_source)\n",
    "                elif element == 'S' and element_supply > 0.0:\n",
    "                    s_source = [metabolite.id, element_supply]\n",
    "                    sources['S'].append(s_source)\n",
    "                    \n",
    "    print('Primary carbon source: ' + model.metabolites.get_by_id(c_source[0]).name + ' (' + str(c_source[1]) + ')')\n",
    "    print('Primary nitrogen source: ' + model.metabolites.get_by_id(n_source[0]).name + ' (' + str(n_source[1]) + ')')\n",
    "    print('Primary phosphorus source: ' + model.metabolites.get_by_id(p_source[0]).name + ' (' + str(p_source[1]) + ')')\n",
    "    print('Primary sulfur source: ' + model.metabolites.get_by_id(s_source[0]).name + ' (' + str(s_source[1]) + ')')\n",
    "\n",
    "    return sources\n",
    "\n",
    "# Finding sources of elements\n",
    "def find_element_sources_riptide(riptide):\n",
    "    \n",
    "    sources = {'C':[], 'N':[], 'P':[], 'S':[]}\n",
    "    c_source = ['cpd_id', 0.0]\n",
    "    n_source = ['cpd_id', 0.0]\n",
    "    pfba_solution = cobra.flux_analysis.pfba(riptide.model, fraction_of_optimum=0.8)\n",
    "    baseline = pfba_solution.objective_value\n",
    "    \n",
    "    # Parse exchange flux samples for imported metabolites\n",
    "    for rxn in riptide.model.boundary:\n",
    "        \n",
    "        # Test for disproportionate effect on objective\n",
    "        flux = min(riptide.flux_samples[rxn.id])\n",
    "        if flux >= -1e-6: continue # Skip exported byproducts or unused reactions\n",
    "        new_bound = flux * 0.01\n",
    "        old_bounds = rxn.bounds\n",
    "        rxn.bounds = (new_bound, new_bound)        \n",
    "        new_objVal = riptide.model.slim_optimize()\n",
    "        rxn.bounds = old_bounds # Reset bounds\n",
    "        if str(new_objVal) == 'nan': new_objVal = baseline * 0.01\n",
    "        \n",
    "        # Calculate the degree of change to objective value\n",
    "        if new_objVal != baseline:\n",
    "            flux_ratio = baseline / new_objVal\n",
    "            adjustment = abs(flux) * flux_ratio\n",
    "        else:\n",
    "            adjustment = 1.\n",
    "       \n",
    "        if flux < -1e-6:\n",
    "        #if min(riptide.flux_samples[rxn.id]) < -1e-6:\n",
    "            #flux = abs(min(riptide.flux_samples[rxn.id]))\n",
    "            metabolite = rxn.reactants[0]\n",
    "            sources[metabolite.id] = {}\n",
    "            \n",
    "            # Multiply elemental components by median flux absolute value\n",
    "            for element in metabolite.elements.keys():\n",
    "                #element_supply = round(float(metabolite.elements[element]) * flux, 3)\n",
    "                element_supply = float(metabolite.elements[element]) * adjustment\n",
    "                element_supply = round(numpy.log2(element_supply), 3)\n",
    "                sources[metabolite.id][element] = element_supply\n",
    "                \n",
    "                # Identify largest sources of carbon and nitrogen\n",
    "                if element == 'C' and element_supply > c_source[1]:\n",
    "                    c_source = [metabolite.id, element_supply]\n",
    "                    sources['C'].append(c_source)\n",
    "                elif element == 'N' and element_supply > n_source[1]:\n",
    "                    n_source = [metabolite.id, element_supply]\n",
    "                    sources['N'].append(n_source)\n",
    "                elif element == 'P' and element_supply > 0.0:\n",
    "                    p_source = [metabolite.id, element_supply]\n",
    "                    sources['P'].append(p_source)\n",
    "                elif element == 'S' and element_supply > 0.0:\n",
    "                    s_source = [metabolite.id, element_supply]\n",
    "                    sources['S'].append(s_source)\n",
    "                    \n",
    "    print('Primary carbon source: ' + riptide.model.metabolites.get_by_id(c_source[0]).name + ' (' + str(c_source[1]) + ')')\n",
    "    print('Primary nitrogen source: ' + riptide.model.metabolites.get_by_id(n_source[0]).name + ' (' + str(n_source[1]) + ')')\n",
    "    print('Primary phosphorus source: ' + riptide.model.metabolites.get_by_id(p_source[0]).name + ' (' + str(p_source[1]) + ')')\n",
    "    print('Primary sulfur source: ' + riptide.model.metabolites.get_by_id(s_source[0]).name + ' (' + str(s_source[1]) + ')')\n",
    "\n",
    "    return sources"
   ]
  },
  {
   "cell_type": "code",
   "execution_count": 37,
   "metadata": {},
   "outputs": [
    {
     "name": "stdout",
     "output_type": "stream",
     "text": [
      "29 possible growth substrates found\n",
      "13 possible byproducts found\n",
      "\n",
      "Primary carbon source: Guanosine (9.21)\n",
      "Primary nitrogen source: Guanosine (8.517)\n",
      "Primary phosphorus source: Phosphate (4.094)\n",
      "Primary sulfur source: L-Cysteine (1.036)\n"
     ]
    }
   ],
   "source": [
    "low_spores_substrates, low_spores_byproducts = find_substrates_and_byproducts_riptide(low_spores_riptide)\n",
    "low_spores_elem_sources = find_element_sources(low_spores_riptide.model)"
   ]
  },
  {
   "cell_type": "code",
   "execution_count": 38,
   "metadata": {},
   "outputs": [
    {
     "name": "stdout",
     "output_type": "stream",
     "text": [
      "28 possible growth substrates found\n",
      "14 possible byproducts found\n",
      "\n",
      "Primary carbon source: Inosine (9.009)\n",
      "Primary nitrogen source: Inosine (8.092)\n",
      "Primary phosphorus source: Phosphate (4.099)\n",
      "Primary sulfur source: L-Cysteine (1.041)\n"
     ]
    }
   ],
   "source": [
    "high_spores_substrates, high_spores_byproducts = find_substrates_and_byproducts_riptide(high_spores_riptide)\n",
    "high_spores_elem_sources = find_element_sources(high_spores_riptide.model)"
   ]
  },
  {
   "cell_type": "code",
   "execution_count": 39,
   "metadata": {},
   "outputs": [
    {
     "name": "stdout",
     "output_type": "stream",
     "text": [
      "Shared: 27\n",
      "cpd00567_e D-Proline -703.216 -687.153\n",
      "cpd00107_e L-Leucine -160.123 -214.94\n",
      "cpd00009_e Phosphate -53.991 -55.75\n",
      "cpd00064_e Ornithine -151.941 -161.842\n",
      "cpd00066_e L-Phenylalanine -8.262 -8.531\n",
      "cpd00001_e H2O -533.985 -488.306\n",
      "cpd00039_e L-Lysine -45.537 -11.406\n",
      "cpd00161_e L-Threonine -9.356 -9.661\n",
      "cpd00132_e L-Asparagine -12.148 -12.544\n",
      "cpd00322_e L-Isoleucine -902.749 -929.284\n",
      "cpd00051_e L-Arginine -6.036 -6.233\n",
      "cpd00067_e H+ -523.792 -565.713\n",
      "cpd00311_e Guanosine -1000.0 -1000.0\n",
      "cpd00069_e L-Tyrosine -7.847 -8.103\n",
      "cpd00117_e D-Alanine -99.034 -102.26\n",
      "cpd00041_e L-Aspartate -41.302 -79.242\n",
      "cpd00119_e L-Histidine -2.565 -2.649\n",
      "cpd00035_e L-Alanine -625.435 -671.043\n",
      "cpd00065_e L-Tryptophan -1.207 -1.247\n",
      "cpd00412_e Deoxyuridine -339.066 -350.109\n",
      "cpd00156_e L-Valine -28.946 -29.913\n",
      "cpd00084_e L-Cysteine -2.537 -2.62\n",
      "cpd00186_e D-Glutamate -56.591 -77.406\n",
      "cpd00654_e Deoxycytidine -2.971 -3.068\n",
      "cpd00060_e L-Methionine -5.093 -5.259\n",
      "cpd00054_e L-Serine -142.024 -137.757\n",
      "cpd00232_e N-Acetyl-Neuraminic acid -178.954 -182.412\n",
      "\n",
      "Low only: 2\n",
      "cpd00023_e L-Glutamate -18.373\n",
      "cpd00367_e Cytidine -450.649\n",
      "\n",
      "High only: 1\n",
      "cpd00246_e Inosine -439.84\n"
     ]
    }
   ],
   "source": [
    "shared_substrates = low_spores_substrates.intersection(high_spores_substrates)\n",
    "low_spores_only_substrates = low_spores_substrates.difference(high_spores_substrates)\n",
    "high_spores_only_substrates = high_spores_substrates.difference(low_spores_substrates)\n",
    "\n",
    "print('Shared:', len(shared_substrates))\n",
    "for x in shared_substrates:\n",
    "    exchange = 'EX_' + x\n",
    "    low_flux = round(numpy.median(low_spores_riptide.flux_samples[exchange]), 3)\n",
    "    hi_flux = round(numpy.median(high_spores_riptide.flux_samples[exchange]), 3)\n",
    "    print(x, iCdG709.metabolites.get_by_id(x).name, low_flux, hi_flux)\n",
    "\n",
    "print('\\nLow only:', len(low_spores_only_substrates))\n",
    "for x in low_spores_only_substrates:\n",
    "    exchange = 'EX_' + x\n",
    "    flux = round(numpy.median(low_spores_riptide.flux_samples[exchange]), 3)\n",
    "    print(x, iCdG709.metabolites.get_by_id(x).name, flux)\n",
    "    \n",
    "print('\\nHigh only:', len(high_spores_only_substrates))\n",
    "for x in high_spores_only_substrates:\n",
    "    exchange = 'EX_' + x\n",
    "    flux = round(numpy.median(high_spores_riptide.flux_samples[exchange]), 3)\n",
    "    print(x, iCdG709.metabolites.get_by_id(x).name, flux)"
   ]
  },
  {
   "cell_type": "code",
   "execution_count": 40,
   "metadata": {},
   "outputs": [],
   "source": [
    "high_exchanges = set([x.id for x in high_spores_riptide.model.exchanges])\n",
    "low_exchanges = set([x.id for x in low_spores_riptide.model.exchanges])\n",
    "\n",
    "shared_exchanges = low_exchanges.intersection(high_exchanges)\n",
    "high_exchanges = high_exchanges.difference(shared_exchanges)\n",
    "low_exchanges = low_exchanges.difference(shared_exchanges)"
   ]
  },
  {
   "cell_type": "code",
   "execution_count": 41,
   "metadata": {},
   "outputs": [
    {
     "name": "stdout",
     "output_type": "stream",
     "text": [
      "Reaction\tSubstrate\tLow_spores\tHigh_spores\n",
      "EX_cpd00001_e\tH2O\t-533.9854\t-488.3057\n",
      "EX_cpd00161_e\tL-Threonine\t-9.3564\t-9.6611\n",
      "EX_cpd00084_e\tL-Cysteine\t-2.5372\t-2.6198\n",
      "EX_cpd01711_e\tIsobutyrate\t16.5717\t17.125\n",
      "EX_cpd00132_e\tL-Asparagine\t-12.1482\t-12.5439\n",
      "EX_cpd00393_e\tFolate\t-0.0943\t-0.0974\n",
      "EX_cpd00186_e\tD-Glutamate\t-56.591\t-77.4057\n",
      "EX_cpd00063_e\tCa2+\t-0.0943\t-0.0974\n",
      "EX_cpd00065_e\tL-Tryptophan\t-1.2073\t-1.2466\n",
      "EX_cpd00149_e\tCo2+\t-0.0943\t-0.0974\n",
      "EX_cpd00029_e\tAcetate\t1000.0\t1000.0\n",
      "EX_cpd00156_e\tL-Valine\t-28.9463\t-29.9127\n",
      "EX_cpd00054_e\tL-Serine\t-142.0235\t-137.7565\n",
      "EX_cpd00039_e\tL-Lysine\t-45.5369\t-11.4059\n",
      "EX_cpd00069_e\tL-Tyrosine\t-7.8473\t-8.1029\n",
      "EX_cpd00207_e\tGuanine\t994.9348\t994.8089\n",
      "EX_cpd00654_e\tDeoxycytidine\t-2.971\t-3.0678\n",
      "EX_cpd00339_e\t5-Aminopentanoate\t698.0469\t681.8102\n",
      "EX_cpd00412_e\tDeoxyuridine\t-339.0659\t-350.1092\n",
      "EX_cpd10515_e\tFe2+\t-0.0943\t-0.0974\n",
      "EX_cpd00013_e\tAmmonia\t817.6108\t839.0548\n",
      "EX_cpd00030_e\tMn2+\t-0.0943\t-0.0974\n",
      "EX_cpd00232_e\tN-Acetyl-Neuraminic acid\t-178.9542\t-182.4119\n",
      "EX_cpd00276_e\tD-Glucosamine\t56.7796\t58.6289\n",
      "EX_cpd00263_e\tPyridoxol\t-0.0943\t-0.0974\n",
      "EX_cpd00047_e\tFormate\t1000.0\t1000.0\n",
      "EX_cpd00035_e\tL-Alanine\t-625.4352\t-671.0433\n",
      "EX_cpd00205_e\tK+\t-0.0943\t-0.0974\n",
      "EX_cpd00322_e\tL-Isoleucine\t-902.7491\t-929.2844\n",
      "EX_cpd00117_e\tD-Alanine\t-99.0342\t-102.2597\n",
      "EX_cpd00067_e\tH+\t-523.7919\t-565.7128\n",
      "EX_cpd00438_e\tDeoxyadenosine\t11.3827\t11.7535\n",
      "EX_cpd00307_e\tCytosine\t780.3365\t332.1493\n",
      "EX_cpd00567_e\tD-Proline\t-703.2156\t-687.1534\n",
      "EX_cpd00011_e\tCO2\t866.7519\t922.4382\n",
      "EX_cpd05178_e\tIsovalerate\t142.4893\t196.9775\n",
      "EX_cpd00220_e\tRiboflavin\t-0.1038\t-0.1071\n",
      "EX_cpd00644_e\tPantothenate\t-0.1981\t-0.2045\n",
      "EX_cpd00060_e\tL-Methionine\t-5.0932\t-5.2591\n",
      "EX_cpd00009_e\tPhosphate\t-53.9912\t-55.7497\n",
      "EX_cpd00254_e\tMg\t-0.0943\t-0.0974\n",
      "EX_cpd00066_e\tL-Phenylalanine\t-8.2623\t-8.5314\n",
      "EX_cpd00041_e\tL-Aspartate\t-41.302\t-79.2423\n",
      "EX_cpd19585_e\t2-Methylbutyrate\t883.9609\t909.7359\n",
      "EX_cpd00971_e\tNa+\t-0.0943\t-0.0974\n",
      "EX_cpd00064_e\tOrnithine\t-151.941\t-161.8423\n",
      "EX_cpd00099_e\tCl-\t-0.0943\t-0.0974\n",
      "EX_cpd00119_e\tL-Histidine\t-2.5655\t-2.649\n",
      "EX_cpd00122_e\tN-Acetyl-D-glucosamine\t994.1222\t1000.0\n",
      "EX_cpd00107_e\tL-Leucine\t-160.1229\t-214.9403\n",
      "EX_cpd00133_e\tNicotinamide\t-0.4716\t-0.487\n",
      "EX_cpd00051_e\tL-Arginine\t-6.0364\t-6.233\n",
      "EX_cpd00104_e\tBiotin\t-0.0943\t-0.0974\n",
      "EX_cpd00311_e\tGuanosine\t-1000.0\t-1000.0\n",
      "EX_cpd00246_e\tInosine\t0\t-439.8398\n",
      "EX_cpd00226_e\tHypoxanthine\t0\t439.8398\n",
      "EX_cpd00367_e\tCytidine\t-450.649\t0\n",
      "EX_cpd00023_e\tL-Glutamate\t-18.3732\t0\n"
     ]
    }
   ],
   "source": [
    "print('Reaction\\tSubstrate\\tLow_spores\\tHigh_spores')\n",
    "for x in shared_exchanges:\n",
    "    low_flux = numpy.median(low_spores_riptide.flux_samples[x])\n",
    "    hi_flux = numpy.median(high_spores_riptide.flux_samples[x])\n",
    "    substrate = list(iCdG709.reactions.get_by_id(x).reactants)[0].name\n",
    "    print(x + '\\t' + substrate + '\\t' + str(round(low_flux,4)) + '\\t' + str(round(hi_flux,4)))\n",
    "\n",
    "for x in high_exchanges:\n",
    "    hi_flux = numpy.median(high_spores_riptide.flux_samples[x])\n",
    "    substrate = list(iCdG709.reactions.get_by_id(x).reactants)[0].name\n",
    "    print(x + '\\t' + substrate + '\\t0\\t' + str(round(hi_flux,4)))\n",
    "    \n",
    "for x in low_exchanges:\n",
    "    low_flux = numpy.median(low_spores_riptide.flux_samples[x])\n",
    "    substrate = list(iCdG709.reactions.get_by_id(x).reactants)[0].name\n",
    "    print(x + '\\t' + substrate + '\\t' + str(round(low_flux,4)) + '\\t0')"
   ]
  },
  {
   "cell_type": "code",
   "execution_count": 42,
   "metadata": {},
   "outputs": [
    {
     "name": "stdout",
     "output_type": "stream",
     "text": [
      "Shared byproducts: 13\n",
      "Low spores only byproducts: 0\n",
      "High spores only byproducts: 1\n"
     ]
    }
   ],
   "source": [
    "shared_byproducts = low_spores_byproducts.intersection(high_spores_byproducts)\n",
    "low_spores_only_byproducts = low_spores_byproducts.difference(high_spores_byproducts)\n",
    "high_spores_only_byproducts = high_spores_byproducts.difference(low_spores_byproducts)\n",
    "\n",
    "print('Shared byproducts: ' + str(len(shared_byproducts)))\n",
    "print('Low spores only byproducts: ' + str(len(low_spores_only_byproducts)))\n",
    "print('High spores only byproducts: ' + str(len(high_spores_only_byproducts)))"
   ]
  },
  {
   "cell_type": "code",
   "execution_count": 43,
   "metadata": {},
   "outputs": [
    {
     "name": "stdout",
     "output_type": "stream",
     "text": [
      "Shared:\n",
      "cpd00307_e Cytosine 780.336 332.149\n",
      "cpd00011_e CO2 866.752 922.438\n",
      "cpd00122_e N-Acetyl-D-glucosamine 994.122 1000.0\n",
      "cpd00339_e 5-Aminopentanoate 698.047 681.81\n",
      "cpd00438_e Deoxyadenosine 11.383 11.753\n",
      "cpd05178_e Isovalerate 142.489 196.977\n",
      "cpd01711_e Isobutyrate 16.572 17.125\n",
      "cpd19585_e 2-Methylbutyrate 883.961 909.736\n",
      "cpd00207_e Guanine 994.935 994.809\n",
      "cpd00047_e Formate 1000.0 1000.0\n",
      "cpd00276_e D-Glucosamine 56.78 58.629\n",
      "cpd00029_e Acetate 1000.0 1000.0\n",
      "cpd00013_e Ammonia 817.611 839.055\n",
      "\n",
      "Low only:\n",
      "\n",
      "High only:\n",
      "cpd00226_e Hypoxanthine 439.84\n"
     ]
    }
   ],
   "source": [
    "print('Shared:')\n",
    "for x in shared_byproducts:\n",
    "    exchange = 'EX_' + x\n",
    "    low_flux = round(numpy.median(low_spores_riptide.flux_samples[exchange]), 3)\n",
    "    hi_flux = round(numpy.median(high_spores_riptide.flux_samples[exchange]), 3)\n",
    "    print(x, iCdG709.metabolites.get_by_id(x).name, low_flux, hi_flux)\n",
    "\n",
    "print('\\nLow only:')\n",
    "for x in low_spores_only_byproducts:\n",
    "    exchange = 'EX_' + x\n",
    "    flux = round(numpy.median(low_spores_riptide.flux_samples[exchange]), 3)\n",
    "    print(x, iCdG709.metabolites.get_by_id(x).name, flux)\n",
    "    \n",
    "print('\\nHigh only:')\n",
    "for x in high_spores_only_byproducts:\n",
    "    exchange = 'EX_' + x\n",
    "    flux = round(numpy.median(high_spores_riptide.flux_samples[exchange]), 3)\n",
    "    print(x, iCdG709.metabolites.get_by_id(x).name, flux)"
   ]
  },
  {
   "cell_type": "markdown",
   "metadata": {},
   "source": [
    "#### Contribution to Biomass"
   ]
  },
  {
   "cell_type": "code",
   "execution_count": 44,
   "metadata": {},
   "outputs": [],
   "source": [
    "import cobra\n",
    "import symengine\n",
    "import pandas\n",
    "from scipy import stats\n",
    "from random import sample\n",
    "import cobra.flux_analysis\n",
    "import numpy\n",
    "import warnings\n",
    "\n",
    "# Contribution to biomass\n",
    "def find_contribution(genre):\n",
    "    warnings.filterwarnings('ignore')\n",
    "\n",
    "    # Test each exchange metabolite's contribute to the objective\n",
    "    biomass = genre.slim_optimize()\n",
    "    consume = {}\n",
    "    produce = {}\n",
    "    with genre as g:\n",
    "        for rxn in g.exchanges:\n",
    "            if rxn.lower_bound < 0.0:\n",
    "                substrate = list(rxn.metabolites)[0].name\n",
    "                old_bound = rxn.lower_bound\n",
    "                rxn.lower_bound = old_bound * 0.01\n",
    "                new_biomass = g.slim_optimize()\n",
    "                if str(new_biomass) == 'nan':\n",
    "                    rxn.lower_bound = old_bound\n",
    "                    continue\n",
    "                else:\n",
    "                    effect = (g.slim_optimize() / biomass) * 100.0\n",
    "                    effect = round(100.0 - effect, 3)\n",
    "                    if effect > 1.0: consume[substrate] = effect\n",
    "                    rxn.lower_bound = old_bound\n",
    "                    \n",
    "            elif rxn.upper_bound > 0.0:\n",
    "                substrate = list(rxn.metabolites)[0].name\n",
    "                old_bound = rxn.upper_bound\n",
    "                rxn.upper_bound = old_bound * 0.01\n",
    "                new_biomass = g.slim_optimize()\n",
    "                if str(new_biomass) == 'nan':\n",
    "                    rxn.upper_bound = old_bound\n",
    "                    continue\n",
    "                else:\n",
    "                    effect = (g.slim_optimize() / biomass) * 100.0\n",
    "                    effect = round(100.0 - effect, 3)\n",
    "                    if effect > 1.0: produce[substrate] = effect\n",
    "                    rxn.upper_bound = old_bound\n",
    "    \n",
    "    warnings.filterwarnings('default')\n",
    "    return {'consumes' : consume, 'produces' : produce}"
   ]
  },
  {
   "cell_type": "code",
   "execution_count": 45,
   "metadata": {},
   "outputs": [],
   "source": [
    "# Find respective contributions to optimal biomass\n",
    "low_spores_important = find_contribution(low_spores_riptide.model)\n",
    "high_spores_important = find_contribution(high_spores_riptide.model)"
   ]
  },
  {
   "cell_type": "code",
   "execution_count": 46,
   "metadata": {},
   "outputs": [
    {
     "data": {
      "text/plain": [
       "{'consumes': {'H2O': 5.505,\n",
       "  'Ornithine': 2.015,\n",
       "  'H+': 4.541,\n",
       "  'N-Acetyl-Neuraminic acid': 4.967,\n",
       "  'D-Proline': 4.74,\n",
       "  'L-Serine': 5.253,\n",
       "  'Cytidine': 8.63},\n",
       " 'produces': {'5-Aminopentanoate': 4.683}}"
      ]
     },
     "execution_count": 46,
     "metadata": {},
     "output_type": "execute_result"
    }
   ],
   "source": [
    "low_spores_important"
   ]
  },
  {
   "cell_type": "code",
   "execution_count": 47,
   "metadata": {},
   "outputs": [
    {
     "data": {
      "text/plain": [
       "{'consumes': {'H2O': 4.62,\n",
       "  'Ornithine': 2.468,\n",
       "  'H+': 4.827,\n",
       "  'D-Proline': 3.976,\n",
       "  'L-Serine': 4.289},\n",
       " 'produces': {'Isovalerate': 2.57, '5-Aminopentanoate': 3.936}}"
      ]
     },
     "execution_count": 47,
     "metadata": {},
     "output_type": "execute_result"
    }
   ],
   "source": [
    "high_spores_important"
   ]
  },
  {
   "cell_type": "code",
   "execution_count": null,
   "metadata": {},
   "outputs": [],
   "source": []
  }
 ],
 "metadata": {
  "kernelspec": {
   "display_name": "Python 3",
   "language": "python",
   "name": "python3"
  },
  "language_info": {
   "codemirror_mode": {
    "name": "ipython",
    "version": 3
   },
   "file_extension": ".py",
   "mimetype": "text/x-python",
   "name": "python",
   "nbconvert_exporter": "python",
   "pygments_lexer": "ipython3",
   "version": "3.7.5"
  }
 },
 "nbformat": 4,
 "nbformat_minor": 2
}
