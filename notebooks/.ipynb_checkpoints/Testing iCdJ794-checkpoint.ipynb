{
 "cells": [
  {
   "cell_type": "code",
   "execution_count": 1,
   "metadata": {},
   "outputs": [],
   "source": [
    "from riptide import *"
   ]
  },
  {
   "cell_type": "code",
   "execution_count": 6,
   "metadata": {},
   "outputs": [],
   "source": [
    "iCdJ794 = cobra.io.read_sbml_model('../data/iCdJ794.sbml')"
   ]
  },
  {
   "cell_type": "code",
   "execution_count": 4,
   "metadata": {},
   "outputs": [
    {
     "data": {
      "text/html": [
       "\n",
       "        <table>\n",
       "            <tr>\n",
       "                <td><strong>Name</strong></td>\n",
       "                <td>iCdJ794</td>\n",
       "            </tr><tr>\n",
       "                <td><strong>Memory address</strong></td>\n",
       "                <td>0x07f213c96b410</td>\n",
       "            </tr><tr>\n",
       "                <td><strong>Number of metabolites</strong></td>\n",
       "                <td>1134</td>\n",
       "            </tr><tr>\n",
       "                <td><strong>Number of reactions</strong></td>\n",
       "                <td>1129</td>\n",
       "            </tr><tr>\n",
       "                <td><strong>Objective expression</strong></td>\n",
       "                <td>0.0 + 1.0*biomass - 1.0*biomass_reverse_01e59</td>\n",
       "            </tr><tr>\n",
       "                <td><strong>Compartments</strong></td>\n",
       "                <td>cytosol, extracellular</td>\n",
       "            </tr>\n",
       "          </table>"
      ],
      "text/plain": [
       "<Model iCdJ794 at 0x7f213c96b410>"
      ]
     },
     "execution_count": 4,
     "metadata": {},
     "output_type": "execute_result"
    }
   ],
   "source": [
    "iCdJ794"
   ]
  },
  {
   "cell_type": "code",
   "execution_count": 30,
   "metadata": {},
   "outputs": [
    {
     "name": "stdout",
     "output_type": "stream",
     "text": [
      "Genes: 794\n"
     ]
    }
   ],
   "source": [
    "print('Genes: ' + str(len(list(iCdJ794.genes))))"
   ]
  },
  {
   "cell_type": "code",
   "execution_count": 23,
   "metadata": {},
   "outputs": [
    {
     "name": "stdout",
     "output_type": "stream",
     "text": [
      "Exchanges: 99\n"
     ]
    }
   ],
   "source": [
    "exch = 0\n",
    "for rxn in iCdJ794.reactions:\n",
    "    if len(list(rxn.products)) == 0:\n",
    "        exch += 1\n",
    "print('Exchanges: ' + str(exch))"
   ]
  },
  {
   "cell_type": "code",
   "execution_count": 24,
   "metadata": {},
   "outputs": [
    {
     "name": "stdout",
     "output_type": "stream",
     "text": [
      "Transporters: 104\n"
     ]
    }
   ],
   "source": [
    "trans = 0\n",
    "for rxn in iCdJ794.reactions:\n",
    "    comps = set([x.compartment for x in list(rxn.reactants)] + [x.compartment for x in list(rxn.products)])\n",
    "    if len(comps) > 1:\n",
    "        trans += 1\n",
    "print('Transporters: ' + str(trans))"
   ]
  },
  {
   "cell_type": "code",
   "execution_count": 25,
   "metadata": {},
   "outputs": [
    {
     "name": "stdout",
     "output_type": "stream",
     "text": [
      "Metabolic reactions: 936\n"
     ]
    }
   ],
   "source": [
    "metab = len(list(iCdJ794.reactions)) - exch - trans\n",
    "print('Metabolic reactions: ' + str(metab))"
   ]
  },
  {
   "cell_type": "code",
   "execution_count": 29,
   "metadata": {},
   "outputs": [
    {
     "name": "stdout",
     "output_type": "stream",
     "text": [
      "Model is overdetermined\n",
      "102 metabolic reactions not associated with genes\n",
      "54 reactions are charge imbalanced\n"
     ]
    }
   ],
   "source": [
    "no_gpr, freemass, unbalanced, no_trans, no_exch = checkQuality(iCdJ794)"
   ]
  },
  {
   "cell_type": "code",
   "execution_count": 20,
   "metadata": {},
   "outputs": [
    {
     "name": "stdout",
     "output_type": "stream",
     "text": [
      "485 total reactions are blocked\n",
      "14 reactions without GPRs are blocked\n",
      "0 gapfilled reactions without GPRs are blocked\n"
     ]
    }
   ],
   "source": [
    "blocked, nogene_blocked, nogene_gapfilled_blocked = blockedReactions(iCdJ794)"
   ]
  },
  {
   "cell_type": "code",
   "execution_count": 2,
   "metadata": {},
   "outputs": [],
   "source": [
    "# Define media conditions\n",
    "mdm = ['cpd00001_e', # water\n",
    "       'cpd00065_e', # L-Tryptophan\n",
    "       'cpd00060_e', # L-Methionine\n",
    "       'cpd00322_e', # L-Isoleucine\n",
    "       'cpd00129_e', # L-Proline\n",
    "       'cpd00156_e', # L-Valine\n",
    "       'cpd00107_e', # L-Leucine\n",
    "       'cpd00084_e', # L-Cysteine \n",
    "       'cpd00149_e', # Cobalt\n",
    "       'cpd00099_e', # Chloride\n",
    "       'cpd10515_e', # Iron\n",
    "       'cpd00030_e', # Manganese\n",
    "       'cpd00254_e', # Magnesium\n",
    "       'cpd00063_e', # Calcium\n",
    "       'cpd00205_e', # Potassium\n",
    "       'cpd00009_e', # Phosphate\n",
    "       'cpd00971_e', # Sodium\n",
    "       'cpd00242_e', # Carbonate\n",
    "       'cpd00104_e', # Biotin\n",
    "       'cpd00305_e', # Thiamine\n",
    "       'cpd00263_e', # Pyridoxine\n",
    "       'cpd00027_e'] # D-Glucose (Carbohydrate C-source)\n",
    "\n",
    "# Theriot et al. (2013). Nature Communications.\n",
    "ncmm = ['cpd00001_e', # water\n",
    "        'cpd00104_e', # Biotin\n",
    "        'cpd00644_e', # Pantothenate\n",
    "        'cpd00263_e', # Pyridoxine\n",
    "        'cpd00149_e', # Cobalt\n",
    "        'cpd00099_e', # Chloride\n",
    "        'cpd10515_e', # Iron\n",
    "        'cpd00030_e', # Manganese\n",
    "        'cpd00254_e', # Magnesium\n",
    "        'cpd00063_e', # Calcium\n",
    "        'cpd00205_e', # Potassium\n",
    "        'cpd00009_e', # Phosphate\n",
    "        'cpd00971_e', # Sodium\n",
    "        'cpd00242_e', # Carbonate\n",
    "        'cpd00322_e', # L-Isoleucine\n",
    "        'cpd00129_e', # L-Proline\n",
    "        'cpd00156_e', # L-Valine\n",
    "        'cpd00107_e', # L-Leucine\n",
    "        'cpd00084_e', # L-Cysteine \n",
    "        'cpd00065_e', # L-Tryptophan\n",
    "        'cpd00060_e', # L-Methionine\n",
    "        'cpd00119_e', # L-Histidine\n",
    "        'cpd00033_e', # Glycine\n",
    "        'cpd00051_e', # L-Arginine\n",
    "        'cpd00161_e'] # L-Threonine\n"
   ]
  },
  {
   "cell_type": "code",
   "execution_count": 3,
   "metadata": {},
   "outputs": [],
   "source": [
    "# check gene essentiality\n",
    "def essentialGenes(model):\n",
    "    essential = set()\n",
    "    for gene in model.genes:\n",
    "        with model as m:\n",
    "            old_bounds = []\n",
    "            for rxn in gene.reactions:\n",
    "                old_bounds.append(rxn.bounds)\n",
    "                rxn.bounds = (0.0, 0.0)\n",
    "            \n",
    "            obj_val = m.slim_optimize()\n",
    "            if obj_val < 1e-6: essential |= set([gene.id])\n",
    "            \n",
    "            index = 0\n",
    "            for rxn in gene.reactions:\n",
    "                rxn.bounds = old_bounds[index]\n",
    "                index += 1\n",
    "                \n",
    "    print('Essential genes: ' + str(len(essential)))\n",
    "    return essential\n"
   ]
  },
  {
   "cell_type": "code",
   "execution_count": 7,
   "metadata": {},
   "outputs": [
    {
     "name": "stdout",
     "output_type": "stream",
     "text": [
      "Essential genes: 78\n"
     ]
    }
   ],
   "source": [
    "complete_essential_single = essentialGenes(iCdJ794)"
   ]
  },
  {
   "cell_type": "markdown",
   "metadata": {},
   "source": [
    "### RIPTiDe *in vivo* Contextualization"
   ]
  },
  {
   "cell_type": "code",
   "execution_count": 8,
   "metadata": {},
   "outputs": [],
   "source": [
    "# Read in formatted transcription files\n",
    "def read_transcription(infile):\n",
    "    \n",
    "    abund_dict = {}\n",
    "    with open(infile, 'r') as abunds:\n",
    "        header = abunds.readline()\n",
    "        for line in abunds:\n",
    "            line = line.split()\n",
    "            gene = line[0].split('|')[0]\n",
    "            abund = float(line[2])\n",
    "            \n",
    "            abund_dict[gene] = abund\n",
    "            \n",
    "    return abund_dict\n"
   ]
  },
  {
   "cell_type": "code",
   "execution_count": 9,
   "metadata": {},
   "outputs": [],
   "source": [
    "# Read in in vivo C. difficile transcription\n",
    "cefoperazone = read_transcription('/home/mjenior/Desktop/repos/Jenior_iCdJ794_2019/data/transcript/cefoperazone_630.mapped.norm.tsv')\n",
    "clindamycin = read_transcription('/home/mjenior/Desktop/repos/Jenior_iCdJ794_2019/data/transcript/clindamycin_630.mapped.norm.tsv')\n",
    "streptomycin = read_transcription('/home/mjenior/Desktop/repos/Jenior_iCdJ794_2019/data/transcript/streptomycin_630.mapped.norm.tsv')\n",
    "gnotobiotic = read_transcription('/home/mjenior/Desktop/repos/Jenior_iCdJ794_2019/data/transcript/gnotobiotic_630.mapped.norm.tsv')"
   ]
  },
  {
   "cell_type": "code",
   "execution_count": 24,
   "metadata": {},
   "outputs": [
    {
     "name": "stdout",
     "output_type": "stream",
     "text": [
      "\n",
      "Initializing model and parsing transcriptome...\n",
      "Pruning zero flux subnetworks...\n",
      "Sampling context-specific flux distributions (longest step)...\n",
      "\n",
      "Reactions pruned to 291 from 1129 (74.22% reduction)\n",
      "Metabolites pruned to 289 from 1134 (74.51% reduction)\n",
      "Flux through the objective REDUCED to ~76.48 from ~89.77 (14.8% shift)\n",
      "Solution space volume DECREASED to ~1785.892 from ~8460.514 (78.89% shift)\n",
      "\n",
      "RIPTiDe completed in 3.0 minutes and 37.0 seconds\n",
      "\n"
     ]
    }
   ],
   "source": [
    "iCdJ794_cef, cef_samples = riptide(iCdJ794, cefoperazone)"
   ]
  },
  {
   "cell_type": "code",
   "execution_count": 25,
   "metadata": {},
   "outputs": [
    {
     "name": "stdout",
     "output_type": "stream",
     "text": [
      "Essential genes: 151\n"
     ]
    }
   ],
   "source": [
    "cef_essential_genes = essentialGenes(iCdJ794_cef)"
   ]
  },
  {
   "cell_type": "code",
   "execution_count": 12,
   "metadata": {
    "scrolled": true
   },
   "outputs": [
    {
     "name": "stdout",
     "output_type": "stream",
     "text": [
      "\n",
      "Initializing model and parsing transcriptome...\n",
      "Pruning zero flux subnetworks...\n",
      "Sampling context-specific flux distributions (longest step)...\n",
      "\n",
      "Reactions pruned to 283 from 1129 (74.93% reduction)\n",
      "Metabolites pruned to 280 from 1134 (75.31% reduction)\n",
      "Flux through the objective REDUCED to ~75.09 from ~89.77 (16.35% shift)\n",
      "Solution space volume DECREASED to ~1147.782 from ~8460.514 (86.43% shift)\n",
      "\n",
      "RIPTiDe completed in 3.0 minutes and 1.0 seconds\n",
      "\n"
     ]
    }
   ],
   "source": [
    "iCdJ794_clinda, clinda_samples = riptide(iCdJ794, clindamycin)"
   ]
  },
  {
   "cell_type": "code",
   "execution_count": 13,
   "metadata": {},
   "outputs": [
    {
     "name": "stdout",
     "output_type": "stream",
     "text": [
      "Essential genes: 147\n"
     ]
    }
   ],
   "source": [
    "clinda_essential_genes = essentialGenes(iCdJ794_clinda)"
   ]
  },
  {
   "cell_type": "code",
   "execution_count": 14,
   "metadata": {},
   "outputs": [
    {
     "name": "stdout",
     "output_type": "stream",
     "text": [
      "\n",
      "Initializing model and parsing transcriptome...\n",
      "Pruning zero flux subnetworks...\n",
      "Sampling context-specific flux distributions (longest step)...\n",
      "\n",
      "Reactions pruned to 288 from 1129 (74.49% reduction)\n",
      "Metabolites pruned to 285 from 1134 (74.87% reduction)\n",
      "Flux through the objective REDUCED to ~80.25 from ~89.77 (10.6% shift)\n",
      "Solution space volume DECREASED to ~1334.615 from ~8460.514 (84.23% shift)\n",
      "\n",
      "RIPTiDe completed in 3.0 minutes and 25.0 seconds\n",
      "\n"
     ]
    }
   ],
   "source": [
    "iCdJ794_strep, strep_samples = riptide(iCdJ794, streptomycin)"
   ]
  },
  {
   "cell_type": "code",
   "execution_count": 15,
   "metadata": {},
   "outputs": [
    {
     "name": "stdout",
     "output_type": "stream",
     "text": [
      "Essential genes: 147\n"
     ]
    }
   ],
   "source": [
    "strep_essential_genes = essentialGenes(iCdJ794_strep)"
   ]
  },
  {
   "cell_type": "code",
   "execution_count": 16,
   "metadata": {},
   "outputs": [
    {
     "name": "stdout",
     "output_type": "stream",
     "text": [
      "\n",
      "Initializing model and parsing transcriptome...\n",
      "Pruning zero flux subnetworks...\n",
      "Sampling context-specific flux distributions (longest step)...\n",
      "\n",
      "Reactions pruned to 281 from 1129 (75.11% reduction)\n",
      "Metabolites pruned to 281 from 1134 (75.22% reduction)\n",
      "Flux through the objective REDUCED to ~73.13 from ~89.77 (18.54% shift)\n",
      "Solution space volume DECREASED to ~890.108 from ~8460.514 (89.48% shift)\n",
      "\n",
      "RIPTiDe completed in 4.0 minutes and 6.0 seconds\n",
      "\n"
     ]
    }
   ],
   "source": [
    "iCdJ794_gnoto, gnoto_samples = riptide(iCdJ794, gnotobiotic)"
   ]
  },
  {
   "cell_type": "code",
   "execution_count": 17,
   "metadata": {},
   "outputs": [
    {
     "name": "stdout",
     "output_type": "stream",
     "text": [
      "Essential genes: 157\n"
     ]
    }
   ],
   "source": [
    "gnoto_essential_genes = essentialGenes(iCdJ794_gnoto)"
   ]
  },
  {
   "cell_type": "code",
   "execution_count": 18,
   "metadata": {},
   "outputs": [],
   "source": [
    "# Compares lists to create diagrams for 4 groups\n",
    "def venn_comparison(list1, list2, list3, list4):\n",
    "        \n",
    "    # Confirm correct data types\n",
    "    list1 = set(list1)\n",
    "    list2 = set(list2)\n",
    "    list3 = set(list3)\n",
    "    list4 = set(list4)\n",
    "    \n",
    "    # Identify exclusive elements\n",
    "    list1_only = list1.difference(list2)\n",
    "    list1_only = list1_only.difference(list3)\n",
    "    list1_only = list1_only.difference(list4)\n",
    "    list2_only = list2.difference(list1)\n",
    "    list2_only = list2_only.difference(list3)\n",
    "    list2_only = list2_only.difference(list4)\n",
    "    list3_only = list3.difference(list1)\n",
    "    list3_only = list3_only.difference(list2)\n",
    "    list3_only = list3_only.difference(list4)\n",
    "    list4_only = list4.difference(list1)\n",
    "    list4_only = list4_only.difference(list2)\n",
    "    list4_only = list4_only.difference(list3)\n",
    "\n",
    "    # Find overlap between just 2 groups\n",
    "    list1_list2_overlap = list1.intersection(list2)\n",
    "    list1_list2_overlap = list1_list2_overlap.difference(list3)\n",
    "    list1_list2_overlap = list1_list2_overlap.difference(list4)\n",
    "    list1_list3_overlap = list1.intersection(list3)\n",
    "    list1_list3_overlap = list1_list3_overlap.difference(list2)\n",
    "    list1_list3_overlap = list1_list3_overlap.difference(list4)\n",
    "    list1_list4_overlap = list1.intersection(list4)\n",
    "    list1_list4_overlap = list1_list4_overlap.difference(list2)\n",
    "    list1_list4_overlap = list1_list4_overlap.difference(list3)\n",
    "    list2_list3_overlap = list2.intersection(list3)\n",
    "    list2_list3_overlap = list2_list3_overlap.difference(list1)\n",
    "    list2_list3_overlap = list2_list3_overlap.difference(list4)\n",
    "    list2_list4_overlap = list2.intersection(list4)\n",
    "    list2_list4_overlap = list2_list4_overlap.difference(list1)\n",
    "    list2_list4_overlap = list2_list4_overlap.difference(list3)\n",
    "    list3_list4_overlap = list3.intersection(list4)\n",
    "    list3_list4_overlap = list3_list4_overlap.difference(list1)\n",
    "    list3_list4_overlap = list3_list4_overlap.difference(list2)\n",
    "\n",
    "    # Find overlap in 3 groups\n",
    "    list1_list2_list3_overlap = list1.intersection(list2)\n",
    "    list1_list2_list3_overlap = list1_list2_list3_overlap.intersection(list3)\n",
    "    list1_list2_list3_overlap = list1_list2_list3_overlap.difference(list4)\n",
    "    list1_list2_list4_overlap = list1.intersection(list2)\n",
    "    list1_list2_list4_overlap = list1_list2_list4_overlap.intersection(list4)\n",
    "    list1_list2_list4_overlap = list1_list2_list4_overlap.difference(list3)\n",
    "    list1_list3_list4_overlap = list1.intersection(list3)\n",
    "    list1_list3_list4_overlap = list1_list3_list4_overlap.intersection(list4)\n",
    "    list1_list3_list4_overlap = list1_list3_list4_overlap.difference(list2)\n",
    "    list2_list3_list4_overlap = list2.intersection(list3)\n",
    "    list2_list3_list4_overlap = list2_list3_list4_overlap.intersection(list4)\n",
    "    list2_list3_list4_overlap = list2_list3_list4_overlap.difference(list1)\n",
    "    \n",
    "    # Find overlap between all groups\n",
    "    all_list_overlap = list1.intersection(list2)\n",
    "    all_list_overlap = all_list_overlap.intersection(list3)\n",
    "    all_list_overlap = all_list_overlap.intersection(list4)\n",
    "    \n",
    "    # Calculate totals in each group\n",
    "    list1_total = float(len(list1))\n",
    "    list2_total = float(len(list2))\n",
    "    list3_total = float(len(list3))\n",
    "    list4_total = float(len(list4))\n",
    "    list1_only_total = float(len(list1_only))\n",
    "    list2_only_total = float(len(list2_only))\n",
    "    list3_only_total = float(len(list3_only))\n",
    "    list4_only_total = float(len(list4_only))\n",
    "    list1_list2_overlap_total = float(len(list1_list2_overlap))\n",
    "    list1_list3_overlap_total = float(len(list1_list3_overlap))\n",
    "    list1_list4_overlap_total = float(len(list1_list4_overlap))\n",
    "    list2_list3_overlap_total = float(len(list2_list3_overlap))\n",
    "    list2_list4_overlap_total = float(len(list2_list4_overlap))\n",
    "    list3_list4_overlap_total = float(len(list3_list4_overlap))\n",
    "    list1_list2_list3_overlap_total = float(len(list1_list2_list3_overlap))\n",
    "    list1_list2_list4_overlap_total = float(len(list1_list2_list4_overlap))\n",
    "    list1_list3_list4_overlap_total = float(len(list1_list3_list4_overlap))\n",
    "    list2_list3_list4_overlap_total = float(len(list2_list3_list4_overlap))\n",
    "    all_list_overlap_total = float(len(all_list_overlap))\n",
    "    \n",
    "    # Calculate percent overlaps\n",
    "    list1_only_percent = round(((list1_only_total / list1_total) * 100.0), 1)\n",
    "    list2_only_percent = round(((list2_only_total / list2_total) * 100.0), 1)\n",
    "    list3_only_percent = round(((list3_only_total / list3_total) * 100.0), 1)\n",
    "    list4_only_percent = round(((list4_only_total / list4_total) * 100.0), 1)\n",
    "    temp1 = (list1_list2_overlap_total / list1_total) * 100.0\n",
    "    temp2 = (list1_list2_overlap_total / list2_total) * 100.0\n",
    "    list1_list2_overlap_percent = round(numpy.mean([temp1, temp2]), 1)\n",
    "    temp1 = (list1_list3_overlap_total / list1_total) * 100.0\n",
    "    temp2 = (list1_list3_overlap_total / list3_total) * 100.0\n",
    "    list1_list3_overlap_percent = round(numpy.mean([temp1, temp2]), 1)\n",
    "    temp1 = (list1_list4_overlap_total / list1_total) * 100.0\n",
    "    temp2 = (list1_list4_overlap_total / list4_total) * 100.0\n",
    "    list1_list4_overlap_percent = round(numpy.mean([temp1, temp2]), 1)\n",
    "    temp1 = (list2_list3_overlap_total / list2_total) * 100.0\n",
    "    temp2 = (list2_list3_overlap_total / list3_total) * 100.0\n",
    "    list2_list3_overlap_percent = round(numpy.mean([temp1, temp2]), 1)\n",
    "    temp1 = (list2_list4_overlap_total / list2_total) * 100.0\n",
    "    temp2 = (list2_list4_overlap_total / list4_total) * 100.0\n",
    "    list2_list4_overlap_percent = round(numpy.mean([temp1, temp2]), 1)\n",
    "    temp1 = (list3_list4_overlap_total / list3_total) * 100.0\n",
    "    temp2 = (list3_list4_overlap_total / list4_total) * 100.0\n",
    "    list3_list4_overlap_percent = round(numpy.mean([temp1, temp2]), 1)\n",
    "    temp1 = (list1_list2_list3_overlap_total / list1_total) * 100.0\n",
    "    temp2 = (list1_list2_list3_overlap_total / list2_total) * 100.0\n",
    "    temp3 = (list1_list2_list3_overlap_total / list3_total) * 100.0\n",
    "    list1_list2_list3_overlap_percent = round(numpy.mean([temp1, temp2, temp3]), 1)\n",
    "    temp1 = (list1_list2_list4_overlap_total / list1_total) * 100.0\n",
    "    temp2 = (list1_list2_list4_overlap_total / list2_total) * 100.0\n",
    "    temp3 = (list1_list2_list4_overlap_total / list4_total) * 100.0\n",
    "    list1_list2_list4_overlap_percent = round(numpy.mean([temp1, temp2, temp3]), 1)\n",
    "    temp1 = (list1_list3_list4_overlap_total / list1_total) * 100.0\n",
    "    temp2 = (list1_list3_list4_overlap_total / list3_total) * 100.0\n",
    "    temp3 = (list1_list3_list4_overlap_total / list4_total) * 100.0\n",
    "    list1_list3_list4_overlap_percent = round(numpy.mean([temp1, temp2, temp3]), 1)\n",
    "    temp1 = (list2_list3_list4_overlap_total / list2_total) * 100.0\n",
    "    temp2 = (list2_list3_list4_overlap_total / list3_total) * 100.0\n",
    "    temp3 = (list2_list3_list4_overlap_total / list4_total) * 100.0\n",
    "    list2_list3_list4_overlap_percent = round(numpy.mean([temp1, temp2, temp3]), 1)\n",
    "    temp1 = (all_list_overlap_total / list1_total) * 100.0\n",
    "    temp2 = (all_list_overlap_total / list2_total) * 100.0\n",
    "    temp3 = (all_list_overlap_total / list3_total) * 100.0\n",
    "    temp4 = (all_list_overlap_total / list4_total) * 100.0\n",
    "    all_list_overlap_percent = round(numpy.mean([temp1, temp2, temp3, temp4]), 1)\n",
    "    \n",
    "    # Print report to the screen\n",
    "    print('List 1 only: ' + str(list1_only_percent) + '% (' + str(int(list1_only_total)) + ')')\n",
    "    print('List 2 only: ' + str(list2_only_percent) + '% (' + str(int(list2_only_total)) + ')')\n",
    "    print('List 3 only: ' + str(list3_only_percent) + '% (' + str(int(list3_only_total)) + ')')\n",
    "    print('List 4 only: ' + str(list4_only_percent) + '% (' + str(int(list4_only_total)) + ')')\n",
    "    print('')\n",
    "    print('List 1 + List 2: ' + str(list1_list2_overlap_percent) + '% (' + str(int(list1_list2_overlap_total)) + ')')\n",
    "    print('List 1 + List 3: ' + str(list1_list3_overlap_percent) + '% (' + str(int(list1_list3_overlap_total)) + ')')\n",
    "    print('List 1 + List 4: ' + str(list1_list4_overlap_percent) + '% (' + str(int(list1_list4_overlap_total)) + ')')\n",
    "    print('List 2 + List 3: ' + str(list2_list3_overlap_percent) + '% (' + str(int(list2_list3_overlap_total)) + ')')\n",
    "    print('List 2 + List 4: ' + str(list2_list4_overlap_percent) + '% (' + str(int(list2_list4_overlap_total)) + ')')\n",
    "    print('List 3 + List 4: ' + str(list3_list4_overlap_percent) + '% (' + str(int(list3_list4_overlap_total)) + ')')\n",
    "    print('')\n",
    "    print('List 1 + List 2 + List 3: ' + str(list1_list2_list3_overlap_percent) + '% (' + str(int(list1_list2_list3_overlap_total)) + ')')\n",
    "    print('List 1 + List 2 + List 4: ' + str(list1_list2_list4_overlap_percent) + '% (' + str(int(list1_list2_list4_overlap_total)) + ')')\n",
    "    print('List 1 + List 3 + List 4: ' + str(list1_list3_list4_overlap_percent) + '% (' + str(int(list1_list3_list4_overlap_total)) + ')')\n",
    "    print('List 2 + List 3 + List 4: ' + str(list2_list3_list4_overlap_percent) + '% (' + str(int(list2_list3_list4_overlap_total)) + ')')\n",
    "    print('')\n",
    "    print('Shared: ' + str(all_list_overlap_percent) + '% (' + str(int(all_list_overlap_total)) + ')')\n",
    "\n",
    "    # Return new lists\n",
    "    return [list1_only,list2_only,list3_only,list4_only,list1_list2_overlap, list1_list3_overlap, list1_list4_overlap, list2_list3_overlap, list2_list4_overlap, list3_list4_overlap, list1_list2_list3_overlap, list1_list2_list4_overlap, list1_list3_list4_overlap, list2_list3_list4_overlap, all_list_overlap]\n"
   ]
  },
  {
   "cell_type": "code",
   "execution_count": 19,
   "metadata": {},
   "outputs": [
    {
     "name": "stdout",
     "output_type": "stream",
     "text": [
      "List 1 only: 3.3% (5)\n",
      "List 2 only: 0.7% (1)\n",
      "List 3 only: 0.7% (1)\n",
      "List 4 only: 8.3% (13)\n",
      "\n",
      "List 1 + List 2: 0.0% (0)\n",
      "List 1 + List 3: 0.0% (0)\n",
      "List 1 + List 4: 2.6% (4)\n",
      "List 2 + List 3: 0.7% (1)\n",
      "List 2 + List 4: 0.7% (1)\n",
      "List 3 + List 4: 0.0% (0)\n",
      "\n",
      "List 1 + List 2 + List 3: 4.0% (6)\n",
      "List 1 + List 2 + List 4: 0.0% (0)\n",
      "List 1 + List 3 + List 4: 0.7% (1)\n",
      "List 2 + List 3 + List 4: 2.0% (3)\n",
      "\n",
      "Shared: 89.8% (135)\n"
     ]
    }
   ],
   "source": [
    "# Context specific gene essentiality\n",
    "# 1. cefoperazone\n",
    "# 2. clindamycin\n",
    "# 3. streptomycin\n",
    "# 4. gnotobiotic\n",
    "essentiality = venn_comparison(cef_essential_genes, clinda_essential_genes, strep_essential_genes, gnoto_essential_genes)"
   ]
  },
  {
   "cell_type": "code",
   "execution_count": 18,
   "metadata": {},
   "outputs": [
    {
     "data": {
      "text/plain": [
       "{'272563.8.peg.1421',\n",
       " '272563.8.peg.1786',\n",
       " '272563.8.peg.1810',\n",
       " '272563.8.peg.2321',\n",
       " '272563.8.peg.3244',\n",
       " '272563.8.peg.3321',\n",
       " '272563.8.peg.3439',\n",
       " '272563.8.peg.3683',\n",
       " '272563.8.peg.570',\n",
       " '272563.8.peg.757',\n",
       " '272563.8.peg.921',\n",
       " 'CD630_24170',\n",
       " 'CD630_24180'}"
      ]
     },
     "execution_count": 18,
     "metadata": {},
     "output_type": "execute_result"
    }
   ],
   "source": [
    "# Gnotobiotic only\n",
    "essentiality[3]"
   ]
  },
  {
   "cell_type": "code",
   "execution_count": 19,
   "metadata": {},
   "outputs": [
    {
     "data": {
      "text/plain": [
       "{'272563.8.peg.2840',\n",
       " '272563.8.peg.2865',\n",
       " '272563.8.peg.3390',\n",
       " '272563.8.peg.3438',\n",
       " '272563.8.peg.3656',\n",
       " 'CD630_06820'}"
      ]
     },
     "execution_count": 19,
     "metadata": {},
     "output_type": "execute_result"
    }
   ],
   "source": [
    "# Conventional only\n",
    "essentiality[10]"
   ]
  },
  {
   "cell_type": "code",
   "execution_count": 20,
   "metadata": {},
   "outputs": [
    {
     "data": {
      "text/plain": [
       "{'272563.8.peg.1040',\n",
       " '272563.8.peg.2022',\n",
       " '272563.8.peg.2278',\n",
       " '272563.8.peg.871',\n",
       " '272563.8.peg.872'}"
      ]
     },
     "execution_count": 20,
     "metadata": {},
     "output_type": "execute_result"
    }
   ],
   "source": [
    "# Cefoperazone only\n",
    "essentiality[0]"
   ]
  },
  {
   "cell_type": "code",
   "execution_count": 21,
   "metadata": {},
   "outputs": [
    {
     "data": {
      "text/plain": [
       "{'272563.8.peg.105',\n",
       " '272563.8.peg.1574',\n",
       " '272563.8.peg.2713',\n",
       " '272563.8.peg.866'}"
      ]
     },
     "execution_count": 21,
     "metadata": {},
     "output_type": "execute_result"
    }
   ],
   "source": [
    "# Cefoperazone & Gnotobiotic only\n",
    "essentiality[6]"
   ]
  },
  {
   "cell_type": "code",
   "execution_count": 26,
   "metadata": {},
   "outputs": [
    {
     "data": {
      "text/plain": [
       "{<Metabolite cpd00011_c at 0x7f59299deb10>: 1.0,\n",
       " <Metabolite cpd00061_c at 0x7f59299fac50>: 1.0,\n",
       " <Metabolite cpd00032_c at 0x7f59299fadd0>: -1.0,\n",
       " <Metabolite cpd00068_c at 0x7f59299fae50>: -1.0,\n",
       " <Metabolite cpd00090_c at 0x7f59299faf50>: 1.0}"
      ]
     },
     "execution_count": 26,
     "metadata": {},
     "output_type": "execute_result"
    }
   ],
   "source": [
    "iCdJ794_gnoto.reactions[1].metabolites"
   ]
  },
  {
   "cell_type": "markdown",
   "metadata": {},
   "source": [
    "### Context-specific substrate importance"
   ]
  },
  {
   "cell_type": "code",
   "execution_count": 65,
   "metadata": {},
   "outputs": [],
   "source": [
    "def test_growth_substrates(genre, extracellular):\n",
    "    \n",
    "    obj_val = genre.slim_optimize()\n",
    "    \n",
    "    for test in range(1,100):\n",
    "        important = set()\n",
    "        with genre as g:\n",
    "            for rxn in g.reactions:\n",
    "                if len(rxn.reactants) == 0 or len(rxn.products) == 0: \n",
    "                    rxn.upper_bound = 1\n",
    "                    if g.slim_optimize() < obj_val: \n",
    "                        current = []\n",
    "                        for cpd in rxn.metabolites:\n",
    "                            if cpd.compartment == extracellular:\n",
    "                                important |= set([cpd.id + ' --- ' + cpd.name])                    \n",
    "                    rxn.upper_bound = 1000\n",
    "    \n",
    "    print('Important growth substrates: ' + str(len(important)))\n",
    "    return important\n",
    "    "
   ]
  },
  {
   "cell_type": "code",
   "execution_count": 66,
   "metadata": {},
   "outputs": [
    {
     "name": "stdout",
     "output_type": "stream",
     "text": [
      "Important growth substrates: 56\n"
     ]
    }
   ],
   "source": [
    "cef_substrates = test_growth_substrates(iCdJ794_cef, 'extracellular')"
   ]
  },
  {
   "cell_type": "code",
   "execution_count": 60,
   "metadata": {},
   "outputs": [
    {
     "name": "stdout",
     "output_type": "stream",
     "text": [
      "Important growth substrates: 13\n"
     ]
    }
   ],
   "source": [
    "clinda_substrates = test_growth_substrates(iCdJ794_clinda, 'extracellular')"
   ]
  },
  {
   "cell_type": "code",
   "execution_count": 61,
   "metadata": {},
   "outputs": [
    {
     "name": "stdout",
     "output_type": "stream",
     "text": [
      "Important growth substrates: 15\n"
     ]
    }
   ],
   "source": [
    "strep_substrates = test_growth_substrates(iCdJ794_strep, 'extracellular')"
   ]
  },
  {
   "cell_type": "code",
   "execution_count": 62,
   "metadata": {},
   "outputs": [
    {
     "name": "stdout",
     "output_type": "stream",
     "text": [
      "Important growth substrates: 16\n"
     ]
    }
   ],
   "source": [
    "gnoto_substrates = test_growth_substrates(iCdJ794_gnoto, 'extracellular')"
   ]
  },
  {
   "cell_type": "code",
   "execution_count": 45,
   "metadata": {},
   "outputs": [
    {
     "name": "stdout",
     "output_type": "stream",
     "text": [
      "List 1 only: 18.6% (11)\n",
      "List 2 only: 4.3% (2)\n",
      "List 3 only: 0.0% (0)\n",
      "List 4 only: 6.3% (1)\n",
      "\n",
      "List 1 + List 2: 42.0% (22)\n",
      "List 1 + List 3: 11.7% (4)\n",
      "List 1 + List 4: 0.0% (0)\n",
      "List 2 + List 3: 3.1% (1)\n",
      "List 2 + List 4: 0.0% (0)\n",
      "List 3 + List 4: 0.0% (0)\n",
      "\n",
      "List 1 + List 2 + List 3: 18.6% (7)\n",
      "List 1 + List 2 + List 4: 10.1% (3)\n",
      "List 1 + List 3 + List 4: 0.0% (0)\n",
      "List 2 + List 3 + List 4: 0.0% (0)\n",
      "\n",
      "Shared: 42.7% (12)\n"
     ]
    }
   ],
   "source": [
    "# Context specific growth substrates\n",
    "# 1. cefoperazone\n",
    "# 2. clindamycin\n",
    "# 3. streptomycin\n",
    "# 4. gnotobiotic\n",
    "substrates = venn_comparison(cef_substrates, clinda_substrates, strep_substrates, gnoto_substrates)"
   ]
  },
  {
   "cell_type": "code",
   "execution_count": 49,
   "metadata": {},
   "outputs": [
    {
     "data": {
      "text/plain": [
       "{'cpd00036_e --- Succinate',\n",
       " 'cpd00063_e --- Ca2+',\n",
       " 'cpd00065_e --- L-Tryptophan',\n",
       " 'cpd00092_e --- Uracil',\n",
       " 'cpd00099_e --- Cl-',\n",
       " 'cpd00104_e --- BIOT',\n",
       " 'cpd00149_e --- Co2+',\n",
       " 'cpd00158_e --- CELB',\n",
       " 'cpd00205_e --- K+',\n",
       " 'cpd00305_e --- Thiamin',\n",
       " 'cpd03170_e --- 4-Hydroxymandelate'}"
      ]
     },
     "execution_count": 49,
     "metadata": {},
     "output_type": "execute_result"
    }
   ],
   "source": [
    "# Cefoperazone only\n",
    "substrates[0]"
   ]
  },
  {
   "cell_type": "code",
   "execution_count": 48,
   "metadata": {},
   "outputs": [
    {
     "data": {
      "text/plain": [
       "{'cpd00159_e --- L-Lactate'}"
      ]
     },
     "execution_count": 48,
     "metadata": {},
     "output_type": "execute_result"
    }
   ],
   "source": [
    "# Gnotobiotic only\n",
    "substrates[3]"
   ]
  },
  {
   "cell_type": "code",
   "execution_count": 46,
   "metadata": {},
   "outputs": [
    {
     "data": {
      "text/plain": [
       "{'cpd00067_e --- H+',\n",
       " 'cpd00076_e --- Sucrose',\n",
       " 'cpd00080_e --- Glycerol-3-phosphate',\n",
       " 'cpd00082_e --- D-Fructose',\n",
       " 'cpd00307_e --- Cytosine',\n",
       " 'cpd00443_e --- ABEE',\n",
       " 'cpd00971_e --- Na+'}"
      ]
     },
     "execution_count": 46,
     "metadata": {},
     "output_type": "execute_result"
    }
   ],
   "source": [
    "# Conventional only\n",
    "substrates[10]"
   ]
  },
  {
   "cell_type": "code",
   "execution_count": 50,
   "metadata": {},
   "outputs": [
    {
     "data": {
      "text/plain": [
       "{'cpd00011_e --- CO2',\n",
       " 'cpd00013_e --- Ammonia',\n",
       " 'cpd00029_e --- Acetate',\n",
       " 'cpd00041_e --- L-Aspartate',\n",
       " 'cpd00117_e --- D-Alanine',\n",
       " 'cpd00122_e --- N-Acetyl-D-glucosamine',\n",
       " 'cpd00141_e --- Propionate',\n",
       " 'cpd00314_e --- D-Mannitol',\n",
       " 'cpd00339_e --- 5-Aminopentanoate',\n",
       " 'cpd00492_e --- N-Acetyl-D-mannosamine',\n",
       " 'cpd00588_e --- Sorbitol',\n",
       " 'cpd19585_e --- 2-Methylbutyrate'}"
      ]
     },
     "execution_count": 50,
     "metadata": {},
     "output_type": "execute_result"
    }
   ],
   "source": [
    "# Core\n",
    "substrates[-1]"
   ]
  }
 ],
 "metadata": {
  "kernelspec": {
   "display_name": "Python [default]",
   "language": "python",
   "name": "python2"
  },
  "language_info": {
   "codemirror_mode": {
    "name": "ipython",
    "version": 2
   },
   "file_extension": ".py",
   "mimetype": "text/x-python",
   "name": "python",
   "nbconvert_exporter": "python",
   "pygments_lexer": "ipython2",
   "version": "2.7.14"
  }
 },
 "nbformat": 4,
 "nbformat_minor": 2
}
