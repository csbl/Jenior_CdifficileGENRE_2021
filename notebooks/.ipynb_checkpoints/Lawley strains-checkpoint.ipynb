{
 "cells": [
  {
   "cell_type": "code",
   "execution_count": 1,
   "metadata": {},
   "outputs": [],
   "source": [
    "import cobra\n",
    "import copy\n",
    "\n",
    "import mackinac\n",
    "mackinac.modelseed.ms_client.url = 'http://p3.theseed.org/services/ProbModelSEED/'\n",
    "mackinac.workspace.ws_client.url = 'http://p3.theseed.org/services/Workspace'\n",
    "mackinac.genome.patric_url = 'https://www.patricbrc.org/api/'"
   ]
  },
  {
   "cell_type": "code",
   "execution_count": 2,
   "metadata": {},
   "outputs": [
    {
     "name": "stdout",
     "output_type": "stream",
     "text": [
      "patric password: ········\n"
     ]
    },
    {
     "data": {
      "text/plain": [
       "'mljenior@patricbrc.org'"
      ]
     },
     "execution_count": 2,
     "metadata": {},
     "output_type": "execute_result"
    }
   ],
   "source": [
    "# PATRIC user information\n",
    "mackinac.get_token('mljenior')\n",
    "# password: matrix54"
   ]
  },
  {
   "cell_type": "markdown",
   "metadata": {},
   "source": [
    "### Generate models"
   ]
  },
  {
   "cell_type": "code",
   "execution_count": 7,
   "metadata": {},
   "outputs": [
    {
     "ename": "ServerError",
     "evalue": "couldn't connect to server twig.mcs.anl.gov:27017 at /disks/p3/runtime/lib/perl5/site_perl/5.16.2/x86_64-linux/MongoDB/MongoClient.pm line 356.",
     "output_type": "error",
     "traceback": [
      "\u001b[0;31m---------------------------------------------------------------------------\u001b[0m",
      "\u001b[0;31mServerError\u001b[0m                               Traceback (most recent call last)",
      "\u001b[0;32m<ipython-input-7-7e9750fc404e>\u001b[0m in \u001b[0;36m<module>\u001b[0;34m\u001b[0m\n\u001b[1;32m      7\u001b[0m \u001b[0mstrain_id\u001b[0m \u001b[0;34m=\u001b[0m \u001b[0;34m'Barnesiella intestinihominis YIT 11860'\u001b[0m\u001b[0;34m\u001b[0m\u001b[0;34m\u001b[0m\u001b[0m\n\u001b[1;32m      8\u001b[0m \u001b[0;34m\u001b[0m\u001b[0m\n\u001b[0;32m----> 9\u001b[0;31m \u001b[0mmackinac\u001b[0m\u001b[0;34m.\u001b[0m\u001b[0mreconstruct_modelseed_model\u001b[0m\u001b[0;34m(\u001b[0m\u001b[0mgenome_id\u001b[0m\u001b[0;34m,\u001b[0m \u001b[0mtemplate_reference\u001b[0m\u001b[0;34m=\u001b[0m\u001b[0mtemplate_id\u001b[0m\u001b[0;34m)\u001b[0m\u001b[0;34m\u001b[0m\u001b[0;34m\u001b[0m\u001b[0m\n\u001b[0m\u001b[1;32m     10\u001b[0m \u001b[0mmackinac\u001b[0m\u001b[0;34m.\u001b[0m\u001b[0mgapfill_modelseed_model\u001b[0m\u001b[0;34m(\u001b[0m\u001b[0mgenome_id\u001b[0m\u001b[0;34m,\u001b[0m \u001b[0mmedia_reference\u001b[0m\u001b[0;34m=\u001b[0m\u001b[0mmedia_id\u001b[0m\u001b[0;34m)\u001b[0m\u001b[0;34m\u001b[0m\u001b[0;34m\u001b[0m\u001b[0m\n\u001b[1;32m     11\u001b[0m \u001b[0mmackinac\u001b[0m\u001b[0;34m.\u001b[0m\u001b[0moptimize_modelseed_model\u001b[0m\u001b[0;34m(\u001b[0m\u001b[0mgenome_id\u001b[0m\u001b[0;34m)\u001b[0m\u001b[0;34m\u001b[0m\u001b[0;34m\u001b[0m\u001b[0m\n",
      "\u001b[0;32m~/.local/lib/python3.7/site-packages/mackinac/modelseed.py\u001b[0m in \u001b[0;36mreconstruct_modelseed_model\u001b[0;34m(genome_id, source, template_reference, likelihood, model_id)\u001b[0m\n\u001b[1;32m    895\u001b[0m         \u001b[0;32mif\u001b[0m \u001b[0mtemplate_reference\u001b[0m \u001b[0;32mis\u001b[0m \u001b[0;32mnot\u001b[0m \u001b[0;32mNone\u001b[0m\u001b[0;34m:\u001b[0m\u001b[0;34m\u001b[0m\u001b[0;34m\u001b[0m\u001b[0m\n\u001b[1;32m    896\u001b[0m             \u001b[0mreferences\u001b[0m \u001b[0;34m=\u001b[0m \u001b[0;34m[\u001b[0m\u001b[0mtemplate_reference\u001b[0m\u001b[0;34m]\u001b[0m\u001b[0;34m\u001b[0m\u001b[0;34m\u001b[0m\u001b[0m\n\u001b[0;32m--> 897\u001b[0;31m         \u001b[0mhandle_server_error\u001b[0m\u001b[0;34m(\u001b[0m\u001b[0me\u001b[0m\u001b[0;34m,\u001b[0m \u001b[0mreferences\u001b[0m\u001b[0;34m)\u001b[0m\u001b[0;34m\u001b[0m\u001b[0;34m\u001b[0m\u001b[0m\n\u001b[0m\u001b[1;32m    898\u001b[0m \u001b[0;34m\u001b[0m\u001b[0m\n\u001b[1;32m    899\u001b[0m     \u001b[0;31m# The task structure has the workspace where the model is stored but not the name of the model.\u001b[0m\u001b[0;34m\u001b[0m\u001b[0;34m\u001b[0m\u001b[0;34m\u001b[0m\u001b[0m\n",
      "\u001b[0;32m~/.local/lib/python3.7/site-packages/mackinac/SeedClient.py\u001b[0m in \u001b[0;36mhandle_server_error\u001b[0;34m(e, references)\u001b[0m\n\u001b[1;32m    235\u001b[0m \u001b[0;34m\u001b[0m\u001b[0m\n\u001b[1;32m    236\u001b[0m     \u001b[0;31m# Raise the exception again.\u001b[0m\u001b[0;34m\u001b[0m\u001b[0;34m\u001b[0m\u001b[0;34m\u001b[0m\u001b[0m\n\u001b[0;32m--> 237\u001b[0;31m     \u001b[0;32mraise\u001b[0m \u001b[0me\u001b[0m\u001b[0;34m\u001b[0m\u001b[0;34m\u001b[0m\u001b[0m\n\u001b[0m\u001b[1;32m    238\u001b[0m \u001b[0;34m\u001b[0m\u001b[0m\n\u001b[1;32m    239\u001b[0m \u001b[0;34m\u001b[0m\u001b[0m\n",
      "\u001b[0;32m~/.local/lib/python3.7/site-packages/mackinac/modelseed.py\u001b[0m in \u001b[0;36mreconstruct_modelseed_model\u001b[0;34m(genome_id, source, template_reference, likelihood, model_id)\u001b[0m\n\u001b[1;32m    890\u001b[0m     \u001b[0;31m# Run the server method.\u001b[0m\u001b[0;34m\u001b[0m\u001b[0;34m\u001b[0m\u001b[0;34m\u001b[0m\u001b[0m\n\u001b[1;32m    891\u001b[0m     \u001b[0;32mtry\u001b[0m\u001b[0;34m:\u001b[0m\u001b[0;34m\u001b[0m\u001b[0;34m\u001b[0m\u001b[0m\n\u001b[0;32m--> 892\u001b[0;31m         \u001b[0mjob_id\u001b[0m \u001b[0;34m=\u001b[0m \u001b[0mms_client\u001b[0m\u001b[0;34m.\u001b[0m\u001b[0mcall\u001b[0m\u001b[0;34m(\u001b[0m\u001b[0;34m'ModelReconstruction'\u001b[0m\u001b[0;34m,\u001b[0m \u001b[0mparams\u001b[0m\u001b[0;34m)\u001b[0m\u001b[0;34m\u001b[0m\u001b[0;34m\u001b[0m\u001b[0m\n\u001b[0m\u001b[1;32m    893\u001b[0m     \u001b[0;32mexcept\u001b[0m \u001b[0mServerError\u001b[0m \u001b[0;32mas\u001b[0m \u001b[0me\u001b[0m\u001b[0;34m:\u001b[0m\u001b[0;34m\u001b[0m\u001b[0;34m\u001b[0m\u001b[0m\n\u001b[1;32m    894\u001b[0m         \u001b[0mreferences\u001b[0m \u001b[0;34m=\u001b[0m \u001b[0;32mNone\u001b[0m\u001b[0;34m\u001b[0m\u001b[0;34m\u001b[0m\u001b[0m\n",
      "\u001b[0;32m~/.local/lib/python3.7/site-packages/mackinac/SeedClient.py\u001b[0m in \u001b[0;36mcall\u001b[0;34m(self, method, params, timeout)\u001b[0m\n\u001b[1;32m    308\u001b[0m                 \u001b[0merr\u001b[0m \u001b[0;34m=\u001b[0m \u001b[0mjson\u001b[0m\u001b[0;34m.\u001b[0m\u001b[0mloads\u001b[0m\u001b[0;34m(\u001b[0m\u001b[0mresponse\u001b[0m\u001b[0;34m.\u001b[0m\u001b[0mtext\u001b[0m\u001b[0;34m)\u001b[0m\u001b[0;34m\u001b[0m\u001b[0;34m\u001b[0m\u001b[0m\n\u001b[1;32m    309\u001b[0m                 \u001b[0;32mif\u001b[0m \u001b[0;34m'error'\u001b[0m \u001b[0;32min\u001b[0m \u001b[0merr\u001b[0m\u001b[0;34m:\u001b[0m\u001b[0;34m\u001b[0m\u001b[0;34m\u001b[0m\u001b[0m\n\u001b[0;32m--> 310\u001b[0;31m                     \u001b[0;32mraise\u001b[0m \u001b[0mServerError\u001b[0m\u001b[0;34m(\u001b[0m\u001b[0;34m**\u001b[0m\u001b[0merr\u001b[0m\u001b[0;34m[\u001b[0m\u001b[0;34m'error'\u001b[0m\u001b[0;34m]\u001b[0m\u001b[0;34m)\u001b[0m\u001b[0;34m\u001b[0m\u001b[0;34m\u001b[0m\u001b[0m\n\u001b[0m\u001b[1;32m    311\u001b[0m                 \u001b[0;32melse\u001b[0m\u001b[0;34m:\u001b[0m\u001b[0;34m\u001b[0m\u001b[0;34m\u001b[0m\u001b[0m\n\u001b[1;32m    312\u001b[0m                     \u001b[0;32mraise\u001b[0m \u001b[0mServerError\u001b[0m\u001b[0;34m(\u001b[0m\u001b[0mresponse\u001b[0m\u001b[0;34m.\u001b[0m\u001b[0mtext\u001b[0m\u001b[0;34m)\u001b[0m\u001b[0;34m\u001b[0m\u001b[0;34m\u001b[0m\u001b[0m\n",
      "\u001b[0;31mServerError\u001b[0m: couldn't connect to server twig.mcs.anl.gov:27017 at /disks/p3/runtime/lib/perl5/site_perl/5.16.2/x86_64-linux/MongoDB/MongoClient.pm line 356."
     ]
    }
   ],
   "source": [
    "# Barnesiella intestinihominis\n",
    "\n",
    "genome_id = '742726.3'\n",
    "template_id = '/chenry/public/modelsupport/templates/GramNegModelTemplate'\n",
    "media_id = '/chenry/public/modelsupport/media/Complete'\n",
    "file_id = '/home/mjenior/Desktop/Lawley_MixB/draft_reconstructions/barn_int.draft.json'\n",
    "strain_id = 'Barnesiella intestinihominis YIT 11860'\n",
    "\n",
    "mackinac.reconstruct_modelseed_model(genome_id, template_reference=template_id)\n",
    "mackinac.gapfill_modelseed_model(genome_id, media_reference=media_id)\n",
    "mackinac.optimize_modelseed_model(genome_id)\n",
    "model = mackinac.create_cobra_model_from_modelseed_model(genome_id)\n",
    "model.id = strain_id\n",
    "\n",
    "cobra.io.save_json_model(model, file_id)"
   ]
  },
  {
   "cell_type": "code",
   "execution_count": 29,
   "metadata": {},
   "outputs": [],
   "source": [
    "# Lactobacillus reuteri\n",
    "\n",
    "genome_id = '863369.3'\n",
    "template_id = '/chenry/public/modelsupport/templates/GramPosModelTemplate'\n",
    "media_id = '/chenry/public/modelsupport/media/Complete'\n",
    "file_id = '/home/mjenior/Desktop/Lawley_MixB/draft_reconstructions/lact_reut.draft.json'\n",
    "strain_id = 'Lactobacillus reuteri mlc3'\n",
    "\n",
    "mackinac.reconstruct_modelseed_model(genome_id, template_reference=template_id)\n",
    "mackinac.gapfill_modelseed_model(genome_id, media_reference=media_id)\n",
    "mackinac.optimize_modelseed_model(genome_id)\n",
    "model = mackinac.create_cobra_model_from_modelseed_model(genome_id)\n",
    "model.id = strain_id\n",
    "\n",
    "cobra.io.save_json_model(model, file_id)"
   ]
  },
  {
   "cell_type": "code",
   "execution_count": 6,
   "metadata": {},
   "outputs": [],
   "source": [
    "# Enterococcus hirae\n",
    "\n",
    "genome_id = '768486.3'\n",
    "template_id = '/chenry/public/modelsupport/templates/GramPosModelTemplate'\n",
    "media_id = '/chenry/public/modelsupport/media/Complete'\n",
    "file_id = '/home/mjenior/Desktop/Lawley_MixB/draft_reconstructions/ent_hir.draft.json'\n",
    "strain_id = 'Enterococcus hirae ATCC 9790'\n",
    "\n",
    "mackinac.reconstruct_modelseed_model(genome_id, template_reference=template_id)\n",
    "mackinac.gapfill_modelseed_model(genome_id, media_reference=media_id)\n",
    "mackinac.optimize_modelseed_model(genome_id)\n",
    "model = mackinac.create_cobra_model_from_modelseed_model(genome_id)\n",
    "model.id = strain_id\n",
    "\n",
    "cobra.io.save_json_model(model, file_id)"
   ]
  },
  {
   "cell_type": "code",
   "execution_count": 7,
   "metadata": {},
   "outputs": [],
   "source": [
    "# Anaerostipes caccae\n",
    "\n",
    "genome_id = '411490.6'\n",
    "template_id = '/chenry/public/modelsupport/templates/GramPosModelTemplate'\n",
    "media_id = '/chenry/public/modelsupport/media/Complete'\n",
    "file_id = '/home/mjenior/Desktop/Lawley_MixB/draft_reconstructions/ana_stip.draft.json'\n",
    "strain_id = 'Anaerostipes caccae DSM 14662'\n",
    "\n",
    "mackinac.reconstruct_modelseed_model(genome_id, template_reference=template_id)\n",
    "mackinac.gapfill_modelseed_model(genome_id, media_reference=media_id)\n",
    "mackinac.optimize_modelseed_model(genome_id)\n",
    "model = mackinac.create_cobra_model_from_modelseed_model(genome_id)\n",
    "model.id = strain_id\n",
    "\n",
    "cobra.io.save_json_model(model, file_id)"
   ]
  },
  {
   "cell_type": "code",
   "execution_count": 30,
   "metadata": {},
   "outputs": [],
   "source": [
    "# Staphylococcus warneri\n",
    "\n",
    "genome_id = '596319.3'\n",
    "template_id = '/chenry/public/modelsupport/templates/GramPosModelTemplate'\n",
    "media_id = '/chenry/public/modelsupport/media/Complete'\n",
    "file_id = '/home/mjenior/Desktop/Lawley_MixB/draft_reconstructions/staph_warn.draft.json'\n",
    "strain_id = 'Staphylococcus warneri L37603'\n",
    "\n",
    "mackinac.reconstruct_modelseed_model(genome_id, template_reference=template_id)\n",
    "mackinac.gapfill_modelseed_model(genome_id, media_reference=media_id)\n",
    "mackinac.optimize_modelseed_model(genome_id)\n",
    "model = mackinac.create_cobra_model_from_modelseed_model(genome_id)\n",
    "model.id = strain_id\n",
    "\n",
    "cobra.io.save_json_model(model, file_id)"
   ]
  },
  {
   "cell_type": "code",
   "execution_count": 10,
   "metadata": {},
   "outputs": [],
   "source": [
    "# Adlercreutzia equolifaciens\n",
    "\n",
    "genome_id = '1384484.3'\n",
    "template_id = '/chenry/public/modelsupport/templates/GramPosModelTemplate'\n",
    "media_id = '/chenry/public/modelsupport/media/Complete'\n",
    "file_id = '/home/mjenior/Desktop/Lawley_MixB/draft_reconstructions/adl_equ.draft.json'\n",
    "strain_id = 'Adlercreutzia equolifaciens DSM 19450'\n",
    "\n",
    "mackinac.reconstruct_modelseed_model(genome_id, template_reference=template_id)\n",
    "mackinac.gapfill_modelseed_model(genome_id, media_reference=media_id)\n",
    "mackinac.optimize_modelseed_model(genome_id)\n",
    "model = mackinac.create_cobra_model_from_modelseed_model(genome_id)\n",
    "model.id = strain_id\n",
    "\n",
    "cobra.io.save_json_model(model, file_id)"
   ]
  },
  {
   "cell_type": "markdown",
   "metadata": {},
   "source": [
    "### Curate Draft Models"
   ]
  },
  {
   "cell_type": "code",
   "execution_count": 36,
   "metadata": {},
   "outputs": [],
   "source": [
    "# Read in draft models\n",
    "mixB1 = cobra.io.load_json_model('/home/mjenior/Desktop/Lawley_MixB/draft_reconstructions/barn_int.draft.json')\n",
    "mixB2 = cobra.io.load_json_model('/home/mjenior/Desktop/Lawley_MixB/draft_reconstructions/lact_reut.draft.json')\n",
    "mixB3 = cobra.io.load_json_model('/home/mjenior/Desktop/Lawley_MixB/draft_reconstructions/ent_hir.draft.json')\n",
    "mixB4 = cobra.io.load_json_model('/home/mjenior/Desktop/Lawley_MixB/draft_reconstructions/ana_stip.draft.json')\n",
    "mixB5 = cobra.io.load_json_model('/home/mjenior/Desktop/Lawley_MixB/draft_reconstructions/staph_warn.draft.json')\n",
    "mixB6 = cobra.io.load_json_model('/home/mjenior/Desktop/Lawley_MixB/draft_reconstructions/adl_equ.draft.json')"
   ]
  },
  {
   "cell_type": "code",
   "execution_count": 23,
   "metadata": {},
   "outputs": [],
   "source": [
    "# Quality check functions\n",
    "\n",
    "# Identify potentially gapfilled reactions\n",
    "def _findGapfilledRxn(model, exclude):\n",
    "    gapfilled = []\n",
    "    transport = _findTransports(model)\n",
    "    if not type(exclude) is list:\n",
    "        exclude = [exclude]\n",
    "        \n",
    "    for index in model.reactions:\n",
    "        if len(list(index.genes)) == 0:\n",
    "            if not index in model.boundary:\n",
    "                if not index.id in exclude or not index.id in transport:\n",
    "                    gapfilled.append(index.id)\n",
    "    \n",
    "    if len(gapfilled) > 0:\n",
    "        print(str(len(gapfilled)) + ' metabolic reactions not associated with genes')\n",
    "    \n",
    "    return gapfilled\n",
    "\n",
    "# Check for missing transport and exchange reactions\n",
    "def _missingRxns(model, extracellular):\n",
    "\n",
    "    transporters = set(_findTransports(model))\n",
    "    exchanges = set([x.id for x in model.exchanges])\n",
    "    \n",
    "    missing_exchanges = []\n",
    "    missing_transports = []\n",
    "    \n",
    "    for metabolite in model.metabolites:\n",
    "        if not metabolite.compartment == extracellular:\n",
    "            continue\n",
    "\n",
    "        curr_rxns = set([x.id for x in list(metabolite.reactions)])\n",
    "        \n",
    "        if not bool(curr_rxns & transporters):\n",
    "            missing_transports.append(metabolite.id)\n",
    "        if not bool(curr_rxns & exchanges):\n",
    "            missing_exchanges.append(metabolite.id)\n",
    "    \n",
    "    if len(missing_transports) != 0:\n",
    "        print(str(len(missing_transports)) + ' extracellular metabolites are missing transport reactions')\n",
    "    if len(missing_exchanges) != 0:\n",
    "        print(str(len(missing_exchanges)) + ' extracellular metabolites are missing exchange reactions')\n",
    "        \n",
    "    return missing_transports, missing_exchanges\n",
    "\n",
    "\n",
    "# Checks which cytosolic metabolites are generated for free (bacteria only)\n",
    "def _checkFreeMass(raw_model, cytosol):\n",
    "    \n",
    "    model = copy.deepcopy(raw_model)\n",
    "        \n",
    "    # Close all exchanges\n",
    "    for index in model.boundary:\n",
    "        model.reactions.get_by_id(index.id).lower_bound = 0.\n",
    "        \n",
    "    # Identify all metabolites that are produced within the network\n",
    "    demand_metabolites = [x.reactants[0].id for x in model.demands if len(x.reactants) > 0] + [x.products[0].id for x in model.demands if len(x.products) > 0]\n",
    "\n",
    "    free = []\n",
    "    for index in model.metabolites: \n",
    "        if index.id in demand_metabolites:\n",
    "            continue\n",
    "        elif not index.compartment in cytosol:\n",
    "            continue\n",
    "        else:\n",
    "            demand = model.add_boundary(index, type='demand')\n",
    "            model.objective = demand\n",
    "            obj_val = model.slim_optimize(error_value=0.)\n",
    "            if obj_val > 1e-8:\n",
    "                free.append(index.id)\n",
    "            model.remove_reactions([demand])\n",
    "    \n",
    "    if len(free) > 0:\n",
    "        print(str(len(free)) + ' metabolites are generated for free')\n",
    "\n",
    "    return free\n",
    "\n",
    "\n",
    "# Check for mass and charge balance in reactions\n",
    "def _checkBalance(model, exclude=[]):\n",
    "    \n",
    "    imbalanced = []\n",
    "    mass_imbal = 0\n",
    "    charge_imbal = 0\n",
    "    elem_set = set()\n",
    "    for metabolite in model.metabolites:\n",
    "        try:\n",
    "            elem_set |= set(metabolite.elements.keys())\n",
    "        except:\n",
    "            pass\n",
    "        \n",
    "    if len(elem_set) == 0:\n",
    "        imbalanced = model.reactions\n",
    "        mass_imbal = len(model.reactions)\n",
    "        charge_imbal = len(model.reactions)\n",
    "        print('No elemental data associated with metabolites!')\n",
    "        \n",
    "    else:\n",
    "        if not type(exclude) is list: exclude = [exclude]\n",
    "        for index in model.reactions:\n",
    "            if index in model.boundary or index.id in exclude:\n",
    "                continue\n",
    "\n",
    "            else:\n",
    "                try:\n",
    "                    test = index.check_mass_balance()\n",
    "                except ValueError:\n",
    "                    continue\n",
    "\n",
    "                if len(list(test)) > 0:\n",
    "                    imbalanced.append(index.id)\n",
    "\n",
    "                    if 'charge' in test.keys():\n",
    "                        charge_imbal += 1\n",
    "                    if len(set(test.keys()).intersection(elem_set)) > 0:\n",
    "                        mass_imbal += 1\n",
    "\n",
    "    if mass_imbal != 0:\n",
    "        print(str(mass_imbal) + ' reactions are mass imbalanced')\n",
    "    if charge_imbal != 0:\n",
    "        print(str(charge_imbal) + ' reactions are charge imbalanced')\n",
    "    \n",
    "    return imbalanced\n",
    "\n",
    "\n",
    "# Identify transport reactions (for any number compartments)\n",
    "def _findTransports(model):\n",
    "    transporters = []\n",
    "    compartments = set(list(model.compartments))\n",
    "    if len(compartments) == 1:\n",
    "        raise Exception('Model only has one compartment!')\n",
    "    \n",
    "    for reaction in model.reactions:\n",
    "        \n",
    "        reactant_compartments = set([x.compartment for x in reaction.reactants])\n",
    "        product_compartments = set([x.compartment for x in reaction.products])\n",
    "        reactant_baseID = set([x.id.split('_')[0] for x in reaction.reactants])\n",
    "        product_baseID = set([x.id.split('_')[0] for x in reaction.products])\n",
    "        \n",
    "        if reactant_compartments == product_compartments and reactant_baseID != product_baseID:\n",
    "            continue\n",
    "        elif bool(compartments & reactant_compartments) == True and bool(compartments & product_compartments) == True:\n",
    "            transporters.append(reaction.id)\n",
    "        \n",
    "    return transporters\n",
    "\n",
    "\n",
    "# Checks the quality of models by a couple metrics and returns problems\n",
    "def checkQuality(model, exclude=[], cytosol='c', extracellular='e'):\n",
    "\n",
    "    gaps = _findGapfilledRxn(model, exclude)\n",
    "    freemass = _checkFreeMass(model, cytosol)\n",
    "    balance = _checkBalance(model, exclude)\n",
    "    trans, exch = _missingRxns(model, extracellular)\n",
    "    \n",
    "    test = gaps + freemass + balance\n",
    "    if len(test) == 0: print('No inconsistencies detected')\n",
    "    \n",
    "    # Create reporting data structure\n",
    "    quality = {}\n",
    "    quality['gaps'] = gaps\n",
    "    quality['freemass'] = freemass\n",
    "    quality['balance'] = balance\n",
    "    quality['trans'] = trans\n",
    "    quality['exch'] = exch\n",
    "\n",
    "    return quality\n"
   ]
  },
  {
   "cell_type": "code",
   "execution_count": 15,
   "metadata": {},
   "outputs": [
    {
     "data": {
      "text/html": [
       "\n",
       "        <table>\n",
       "            <tr>\n",
       "                <td><strong>Name</strong></td>\n",
       "                <td>Barnesiella intestinihominis YIT 11860</td>\n",
       "            </tr><tr>\n",
       "                <td><strong>Memory address</strong></td>\n",
       "                <td>0x07f3c06646dd8</td>\n",
       "            </tr><tr>\n",
       "                <td><strong>Number of metabolites</strong></td>\n",
       "                <td>1129</td>\n",
       "            </tr><tr>\n",
       "                <td><strong>Number of reactions</strong></td>\n",
       "                <td>1034</td>\n",
       "            </tr><tr>\n",
       "                <td><strong>Number of groups</strong></td>\n",
       "                <td>0</td>\n",
       "            </tr><tr>\n",
       "                <td><strong>Objective expression</strong></td>\n",
       "                <td>1.0*bio1 - 1.0*bio1_reverse_b18f7</td>\n",
       "            </tr><tr>\n",
       "                <td><strong>Compartments</strong></td>\n",
       "                <td>c, e</td>\n",
       "            </tr>\n",
       "          </table>"
      ],
      "text/plain": [
       "<Model Barnesiella intestinihominis YIT 11860 at 0x7f3c06646dd8>"
      ]
     },
     "execution_count": 15,
     "metadata": {},
     "output_type": "execute_result"
    }
   ],
   "source": [
    "mixB1"
   ]
  },
  {
   "cell_type": "code",
   "execution_count": 16,
   "metadata": {},
   "outputs": [
    {
     "name": "stdout",
     "output_type": "stream",
     "text": [
      "148 metabolic reactions not associated with genes\n",
      "1 reactions are mass imbalanced\n",
      "40 reactions are charge imbalanced\n"
     ]
    }
   ],
   "source": [
    "mixB1_errors = checkQuality(mixB1)"
   ]
  },
  {
   "cell_type": "code",
   "execution_count": 32,
   "metadata": {},
   "outputs": [
    {
     "data": {
      "text/html": [
       "\n",
       "        <table>\n",
       "            <tr>\n",
       "                <td><strong>Name</strong></td>\n",
       "                <td>Lactobacillus reuteri mlc3</td>\n",
       "            </tr><tr>\n",
       "                <td><strong>Memory address</strong></td>\n",
       "                <td>0x07f3c00b5b470</td>\n",
       "            </tr><tr>\n",
       "                <td><strong>Number of metabolites</strong></td>\n",
       "                <td>1147</td>\n",
       "            </tr><tr>\n",
       "                <td><strong>Number of reactions</strong></td>\n",
       "                <td>1060</td>\n",
       "            </tr><tr>\n",
       "                <td><strong>Number of groups</strong></td>\n",
       "                <td>0</td>\n",
       "            </tr><tr>\n",
       "                <td><strong>Objective expression</strong></td>\n",
       "                <td>1.0*bio1 - 1.0*bio1_reverse_b18f7</td>\n",
       "            </tr><tr>\n",
       "                <td><strong>Compartments</strong></td>\n",
       "                <td>c, e</td>\n",
       "            </tr>\n",
       "          </table>"
      ],
      "text/plain": [
       "<Model Lactobacillus reuteri mlc3 at 0x7f3c00b5b470>"
      ]
     },
     "execution_count": 32,
     "metadata": {},
     "output_type": "execute_result"
    }
   ],
   "source": [
    "mixB2"
   ]
  },
  {
   "cell_type": "code",
   "execution_count": 33,
   "metadata": {},
   "outputs": [
    {
     "name": "stdout",
     "output_type": "stream",
     "text": [
      "136 metabolic reactions not associated with genes\n",
      "1 reactions are mass imbalanced\n",
      "34 reactions are charge imbalanced\n"
     ]
    }
   ],
   "source": [
    "mixB2_errors = checkQuality(mixB2)"
   ]
  },
  {
   "cell_type": "code",
   "execution_count": 19,
   "metadata": {},
   "outputs": [
    {
     "data": {
      "text/html": [
       "\n",
       "        <table>\n",
       "            <tr>\n",
       "                <td><strong>Name</strong></td>\n",
       "                <td>Enterococcus hirae ATCC 9790</td>\n",
       "            </tr><tr>\n",
       "                <td><strong>Memory address</strong></td>\n",
       "                <td>0x07f3c0381d940</td>\n",
       "            </tr><tr>\n",
       "                <td><strong>Number of metabolites</strong></td>\n",
       "                <td>1100</td>\n",
       "            </tr><tr>\n",
       "                <td><strong>Number of reactions</strong></td>\n",
       "                <td>1025</td>\n",
       "            </tr><tr>\n",
       "                <td><strong>Number of groups</strong></td>\n",
       "                <td>0</td>\n",
       "            </tr><tr>\n",
       "                <td><strong>Objective expression</strong></td>\n",
       "                <td>1.0*bio1 - 1.0*bio1_reverse_b18f7</td>\n",
       "            </tr><tr>\n",
       "                <td><strong>Compartments</strong></td>\n",
       "                <td>c, e</td>\n",
       "            </tr>\n",
       "          </table>"
      ],
      "text/plain": [
       "<Model Enterococcus hirae ATCC 9790 at 0x7f3c0381d940>"
      ]
     },
     "execution_count": 19,
     "metadata": {},
     "output_type": "execute_result"
    }
   ],
   "source": [
    "mixB3"
   ]
  },
  {
   "cell_type": "code",
   "execution_count": 20,
   "metadata": {},
   "outputs": [
    {
     "name": "stdout",
     "output_type": "stream",
     "text": [
      "143 metabolic reactions not associated with genes\n",
      "1 reactions are mass imbalanced\n",
      "33 reactions are charge imbalanced\n"
     ]
    }
   ],
   "source": [
    "mixB3_errors = checkQuality(mixB3)"
   ]
  },
  {
   "cell_type": "code",
   "execution_count": 21,
   "metadata": {},
   "outputs": [
    {
     "data": {
      "text/html": [
       "\n",
       "        <table>\n",
       "            <tr>\n",
       "                <td><strong>Name</strong></td>\n",
       "                <td>Anaerostipes caccae DSM 14662</td>\n",
       "            </tr><tr>\n",
       "                <td><strong>Memory address</strong></td>\n",
       "                <td>0x07f3c031b72e8</td>\n",
       "            </tr><tr>\n",
       "                <td><strong>Number of metabolites</strong></td>\n",
       "                <td>1250</td>\n",
       "            </tr><tr>\n",
       "                <td><strong>Number of reactions</strong></td>\n",
       "                <td>1156</td>\n",
       "            </tr><tr>\n",
       "                <td><strong>Number of groups</strong></td>\n",
       "                <td>0</td>\n",
       "            </tr><tr>\n",
       "                <td><strong>Objective expression</strong></td>\n",
       "                <td>1.0*bio1 - 1.0*bio1_reverse_b18f7</td>\n",
       "            </tr><tr>\n",
       "                <td><strong>Compartments</strong></td>\n",
       "                <td>c, e</td>\n",
       "            </tr>\n",
       "          </table>"
      ],
      "text/plain": [
       "<Model Anaerostipes caccae DSM 14662 at 0x7f3c031b72e8>"
      ]
     },
     "execution_count": 21,
     "metadata": {},
     "output_type": "execute_result"
    }
   ],
   "source": [
    "mixB4"
   ]
  },
  {
   "cell_type": "code",
   "execution_count": 22,
   "metadata": {},
   "outputs": [
    {
     "name": "stdout",
     "output_type": "stream",
     "text": [
      "139 metabolic reactions not associated with genes\n",
      "1 reactions are mass imbalanced\n",
      "26 reactions are charge imbalanced\n"
     ]
    }
   ],
   "source": [
    "mixB4_errors = checkQuality(mixB4)"
   ]
  },
  {
   "cell_type": "code",
   "execution_count": 37,
   "metadata": {},
   "outputs": [
    {
     "data": {
      "text/html": [
       "\n",
       "        <table>\n",
       "            <tr>\n",
       "                <td><strong>Name</strong></td>\n",
       "                <td>Staphylococcus warneri L37603</td>\n",
       "            </tr><tr>\n",
       "                <td><strong>Memory address</strong></td>\n",
       "                <td>0x07f3bfd2f2048</td>\n",
       "            </tr><tr>\n",
       "                <td><strong>Number of metabolites</strong></td>\n",
       "                <td>1231</td>\n",
       "            </tr><tr>\n",
       "                <td><strong>Number of reactions</strong></td>\n",
       "                <td>1224</td>\n",
       "            </tr><tr>\n",
       "                <td><strong>Number of groups</strong></td>\n",
       "                <td>0</td>\n",
       "            </tr><tr>\n",
       "                <td><strong>Objective expression</strong></td>\n",
       "                <td>1.0*bio1 - 1.0*bio1_reverse_b18f7</td>\n",
       "            </tr><tr>\n",
       "                <td><strong>Compartments</strong></td>\n",
       "                <td>c, e</td>\n",
       "            </tr>\n",
       "          </table>"
      ],
      "text/plain": [
       "<Model Staphylococcus warneri L37603 at 0x7f3bfd2f2048>"
      ]
     },
     "execution_count": 37,
     "metadata": {},
     "output_type": "execute_result"
    }
   ],
   "source": [
    "mixB5"
   ]
  },
  {
   "cell_type": "code",
   "execution_count": 38,
   "metadata": {},
   "outputs": [
    {
     "name": "stdout",
     "output_type": "stream",
     "text": [
      "109 metabolic reactions not associated with genes\n",
      "1 reactions are mass imbalanced\n",
      "37 reactions are charge imbalanced\n"
     ]
    }
   ],
   "source": [
    "mixB5_errors = checkQuality(mixB5)"
   ]
  },
  {
   "cell_type": "code",
   "execution_count": 39,
   "metadata": {},
   "outputs": [
    {
     "data": {
      "text/html": [
       "\n",
       "        <table>\n",
       "            <tr>\n",
       "                <td><strong>Name</strong></td>\n",
       "                <td>Adlercreutzia equolifaciens DSM 19450</td>\n",
       "            </tr><tr>\n",
       "                <td><strong>Memory address</strong></td>\n",
       "                <td>0x07f3bfb57c128</td>\n",
       "            </tr><tr>\n",
       "                <td><strong>Number of metabolites</strong></td>\n",
       "                <td>1001</td>\n",
       "            </tr><tr>\n",
       "                <td><strong>Number of reactions</strong></td>\n",
       "                <td>890</td>\n",
       "            </tr><tr>\n",
       "                <td><strong>Number of groups</strong></td>\n",
       "                <td>0</td>\n",
       "            </tr><tr>\n",
       "                <td><strong>Objective expression</strong></td>\n",
       "                <td>1.0*bio1 - 1.0*bio1_reverse_b18f7</td>\n",
       "            </tr><tr>\n",
       "                <td><strong>Compartments</strong></td>\n",
       "                <td>c, e</td>\n",
       "            </tr>\n",
       "          </table>"
      ],
      "text/plain": [
       "<Model Adlercreutzia equolifaciens DSM 19450 at 0x7f3bfb57c128>"
      ]
     },
     "execution_count": 39,
     "metadata": {},
     "output_type": "execute_result"
    }
   ],
   "source": [
    "mixB6"
   ]
  },
  {
   "cell_type": "code",
   "execution_count": 40,
   "metadata": {},
   "outputs": [
    {
     "name": "stdout",
     "output_type": "stream",
     "text": [
      "153 metabolic reactions not associated with genes\n",
      "1 reactions are mass imbalanced\n",
      "26 reactions are charge imbalanced\n"
     ]
    }
   ],
   "source": [
    "mixB6_errors = checkQuality(mixB6)"
   ]
  },
  {
   "cell_type": "code",
   "execution_count": null,
   "metadata": {},
   "outputs": [],
   "source": []
  },
  {
   "cell_type": "code",
   "execution_count": null,
   "metadata": {},
   "outputs": [],
   "source": [
    "# Remove old bio1 (generic Gram-positive Biomass function) and macromolecule demand reactions\n",
    "mixB1.remove_reactions(['rxn13783_c', 'rxn13784_c', 'rxn13782_c', 'bio1', 'SK_cpd11416_c'])\n",
    "\n"
   ]
  },
  {
   "cell_type": "code",
   "execution_count": null,
   "metadata": {},
   "outputs": [],
   "source": [
    "\n",
    "# Make sure all the models can grow anaerobically\n",
    "model.reactions.get_by_id('EX_cpd00007_e').lower_bound = 0. "
   ]
  },
  {
   "cell_type": "code",
   "execution_count": null,
   "metadata": {},
   "outputs": [],
   "source": []
  },
  {
   "cell_type": "code",
   "execution_count": null,
   "metadata": {},
   "outputs": [],
   "source": []
  },
  {
   "cell_type": "code",
   "execution_count": 82,
   "metadata": {},
   "outputs": [],
   "source": [
    "# Universal reaction bag\n",
    "universal = cobra.io.load_json_model('/home/mjenior/Desktop/repos/Jenior_Cdifficile_2019/data/universal.json')\n",
    "\n",
    "# Fix compartments\n",
    "compartment_dict = {'Cytosol': 'cytosol', 'Extracellular': 'extracellular', 'c': 'cytosol', 'e': 'extracellular', \n",
    "                   'cytosol': 'cytosol', 'extracellular': 'extracellular'}\n",
    "for cpd in universal.metabolites: \n",
    "    cpd.compartment = compartment_dict[cpd1.compartment]"
   ]
  },
  {
   "cell_type": "code",
   "execution_count": 48,
   "metadata": {},
   "outputs": [],
   "source": [
    "import copy\n",
    "import cobra\n",
    "import symengine\n",
    "\n",
    "# pFBA gapfiller\n",
    "def fast_gapfill(model, objective, universal, extracellular='extracellular', media=[], transport=False):\n",
    "    '''\n",
    "    Parameters\n",
    "    ----------\n",
    "    model_file : str\n",
    "        Model to be gapfilled\n",
    "    objective : str\n",
    "        Reaction ID for objective function\n",
    "    universal_file : str\n",
    "        Reaction bag reference\n",
    "    extracellular : str\n",
    "        Label for extracellular compartment of model\n",
    "    media : list\n",
    "        list of metabolite IDs in media condition\n",
    "    transport : bool\n",
    "        Determine if passive transporters should be added in defined media\n",
    "    '''\n",
    "    \n",
    "    # Define overlapping components\n",
    "    target_rxns = set([str(x.id) for x in model.reactions])\n",
    "    target_cpds = set([str(y.id) for y in model.metabolites])\n",
    "    ref_rxns = set([str(z.id) for z in universal.reactions])\n",
    "    shared_rxns = ref_rxns.intersection(target_rxns)\n",
    "        \n",
    "    # Remove overlapping reactions from universal bag, add model reactions to universal bag\n",
    "    temp_universal = copy.deepcopy(universal)\n",
    "    for rxn in shared_rxns: temp_universal.reactions.get_by_id(rxn).remove_from_model()\n",
    "    temp_universal.add_reactions(list(copy.deepcopy(model.reactions)))\n",
    "    \n",
    "    # Define minimum objective value\n",
    "    temp_universal.objective = objective\n",
    "    obj_constraint = temp_universal.problem.Constraint(temp_universal.objective.expression, lb=1.0, ub=1000.0)\n",
    "    temp_universal.add_cons_vars([obj_constraint])\n",
    "    temp_universal.solver.update()\n",
    "        \n",
    "    # Set up pFBA objective\n",
    "    pfba_expr = symengine.RealDouble(0)\n",
    "    for rxn in temp_universal.reactions:\n",
    "        if not rxn.id in target_rxns:\n",
    "            pfba_expr += 1.0 * rxn.forward_variable\n",
    "            pfba_expr += 1.0 * rxn.reverse_variable\n",
    "        else:\n",
    "            pfba_expr += 0.0 * rxn.forward_variable\n",
    "            pfba_expr += 0.0 * rxn.reverse_variable\n",
    "    temp_universal.objective = temp_universal.problem.Objective(pfba_expr, direction='min', sloppy=True)\n",
    "    temp_universal.solver.update()\n",
    "    \n",
    "    # Set media condition\n",
    "    for rxn in temp_universal.reactions:\n",
    "        if len(rxn.reactants) == 0 or len(rxn.products) == 0:\n",
    "            substrates = set([x.id for x in rxn.metabolites])\n",
    "            if len(media) == 0 or bool(substrates & set(media)) == True:\n",
    "                rxn.bounds = (max(rxn.lower_bound, -1000.), min(rxn.upper_bound, 1000.))\n",
    "            else:\n",
    "                rxn.bounds = (0.0, min(rxn.upper_bound, 1000.))\n",
    "                \n",
    "    # Run FBA and save solution\n",
    "    solution = temp_universal.optimize()\n",
    "    active_rxns = set([rxn.id for rxn in temp_universal.reactions if abs(solution.fluxes[rxn.id]) > 1e-6])\n",
    "    \n",
    "    # Screen new reaction IDs\n",
    "    new_rxns = active_rxns.difference(target_rxns)\n",
    "    \n",
    "    # Get reactions and metabolites to be added to the model\n",
    "    new_rxns = copy.deepcopy([universal.reactions.get_by_id(rxn) for rxn in new_rxns])\n",
    "    new_cpds = set()\n",
    "    for rxn in new_rxns: new_cpds |= set([str(x.id) for x in list(rxn.metabolites)]).difference(target_cpds)\n",
    "    new_cpds = copy.deepcopy([universal.metabolites.get_by_id(cpd) for cpd in new_cpds])\n",
    "    \n",
    "    # Create gapfilled model \n",
    "    new_model = copy.deepcopy(model)\n",
    "    new_model.add_metabolites(new_cpds)\n",
    "    new_model.add_reactions(new_rxns)\n",
    "    \n",
    "    # Identify extracellular metabolites that need new exchanges\n",
    "    new_exchs = 0\n",
    "    model_exchanges = set()\n",
    "    rxns = set([str(rxn.id) for rxn in model.reactions])\n",
    "    for rxn in new_model.reactions:\n",
    "        if len(rxn.reactants) == 0 or len(rxn.products) == 0:\n",
    "            if extracellular in [str(cpd.compartment) for cpd in rxn.metabolites]:\n",
    "                model_exchanges |= set([rxn.id])                \n",
    "    for cpd in new_model.metabolites:\n",
    "        if cpd.compartment != extracellular: continue\n",
    "        current_rxns = set([x.id for x in cpd.reactions])\n",
    "        if bool(current_rxns & model_exchanges) == False:\n",
    "            new_id = 'EX_' + cpd.id\n",
    "            new_model.add_boundary(cpd, type='exchange', reaction_id=new_id, lb=-1000.0, ub=1000.0)\n",
    "            new_exchs += 1\n",
    "\n",
    "    # Report to user\n",
    "    print('Gapfilled ' + str(len(new_rxns) + new_exchs) + ' reactions and ' + str(len(new_cpds)) + ' metabolites') \n",
    "    if new_model.slim_optimize() <= 1e-6: print('WARNING: Objective does not carries flux')\n",
    "    \n",
    "    return new_model\n"
   ]
  },
  {
   "cell_type": "code",
   "execution_count": 49,
   "metadata": {},
   "outputs": [],
   "source": [
    "# Load in models\n",
    "model = cobra.io.load_json_model('/home/mjenior/Desktop/Lawley_MixB/draft_reconstructions/lact_reut.draft.json')"
   ]
  },
  {
   "cell_type": "code",
   "execution_count": 50,
   "metadata": {},
   "outputs": [],
   "source": [
    "# Fix compartments\n",
    "compartment_dict = {'Cytosol': 'cytosol', 'Extracellular': 'extracellular', 'c': 'cytosol', 'e': 'extracellular', \n",
    "                   'cytosol': 'cytosol', 'extracellular': 'extracellular'}\n",
    "for cpd2 in model.metabolites:\n",
    "    cpd2.compartment = compartment_dict[cpd2.compartment]"
   ]
  },
  {
   "cell_type": "code",
   "execution_count": 75,
   "metadata": {},
   "outputs": [],
   "source": [
    "# Thoroughly remove orphan reactions and metabolites\n",
    "def all_orphan_prune(model):\n",
    "    \n",
    "    pruned_cpd = 0\n",
    "    pruned_rxn = 0\n",
    "    removed = 1\n",
    "    while removed == 1:\n",
    "        removed = 0\n",
    "\n",
    "        # Metabolites\n",
    "        for cpd in model.metabolites:\n",
    "            if len(cpd.reactions) == 0:\n",
    "                cpd.remove_from_model()\n",
    "                pruned_cpd += 1\n",
    "                removed = 1\n",
    "\n",
    "        # Reactions\n",
    "        for rxn in model.reactions:\n",
    "            if len(rxn.metabolites) == 0: \n",
    "                rxn.remove_from_model()\n",
    "                pruned_rxn += 1\n",
    "                removed = 1\n",
    "                \n",
    "    if pruned_cpd > 0: print('Pruned ' + str(pruned_cpd) + ' orphan metabolites')\n",
    "    if pruned_rxn > 0: print('Pruned ' + str(pruned_rxn) + ' orphan reactions')\n",
    "\n",
    "    return model\n"
   ]
  },
  {
   "cell_type": "code",
   "execution_count": 52,
   "metadata": {},
   "outputs": [],
   "source": [
    "# Remove incorrect biomass-related components\n",
    "\n",
    "# Unwanted reactions\n",
    "rm_reactions = ['bio1']\n",
    "for x in rm_reactions:\n",
    "    model.reactions.get_by_id(x).remove_from_model()\n",
    "    \n",
    "# Unwanted metabolites\n",
    "rm_metabolites = ['cpd15666_c','cpd17041_c','cpd17042_c','cpd17043_c']\n",
    "for y in rm_metabolites:\n",
    "    for z in model.metabolites.get_by_id(y).reactions:\n",
    "        z.remove_from_model()\n",
    "    model.metabolites.get_by_id(y).remove_from_model()\n",
    "\n",
    "# Remove gap-filled reactions"
   ]
  },
  {
   "cell_type": "code",
   "execution_count": 53,
   "metadata": {},
   "outputs": [],
   "source": [
    "# Gram-positive Biomass formulation\n",
    "\n",
    "# DNA replication\n",
    "\n",
    "cpd00115_c = universal.metabolites.get_by_id('cpd00115_c') # dATP\n",
    "cpd00356_c = universal.metabolites.get_by_id('cpd00356_c') # dCTP\n",
    "cpd00357_c = universal.metabolites.get_by_id('cpd00357_c') # TTP\n",
    "cpd00241_c = universal.metabolites.get_by_id('cpd00241_c') # dGTP\n",
    "cpd00002_c = universal.metabolites.get_by_id('cpd00002_c') # ATP\n",
    "cpd00001_c = universal.metabolites.get_by_id('cpd00001_c') # H2O\n",
    "\n",
    "cpd00008_c = universal.metabolites.get_by_id('cpd00008_c') # ADP\n",
    "cpd00009_c = universal.metabolites.get_by_id('cpd00009_c') # Phosphate\n",
    "cpd00012_c = universal.metabolites.get_by_id('cpd00012_c') # PPi\n",
    "\n",
    "cpd17042_c = cobra.Metabolite(\n",
    "    'cpd17042_c',\n",
    "    formula='',\n",
    "    name='DNA polymer',\n",
    "    compartment='cytosol')\n",
    "\n",
    "dna_rxn = cobra.Reaction('dna_rxn')\n",
    "dna_rxn.lower_bound = 0.\n",
    "dna_rxn.upper_bound = 1000.\n",
    "dna_rxn.add_metabolites({\n",
    "    cpd00115_c: -1.0,\n",
    "    cpd00356_c: -0.5,\n",
    "    cpd00357_c: -1.0,\n",
    "    cpd00241_c: -0.5,\n",
    "    cpd00002_c: -4.0,\n",
    "    cpd00001_c: -1.0,\n",
    "    cpd17042_c: 1.0,\n",
    "    cpd00008_c: 4.0,\n",
    "    cpd00009_c: 4.0,\n",
    "    cpd00012_c: 1.0\n",
    "})\n",
    "\n",
    "#--------------------------------------------------------------------------------#\n",
    "\n",
    "# RNA transcription\n",
    "\n",
    "cpd00002_c = universal.metabolites.get_by_id('cpd00002_c') # ATP\n",
    "cpd00052_c = universal.metabolites.get_by_id('cpd00052_c') # CTP\n",
    "cpd00062_c = universal.metabolites.get_by_id('cpd00062_c') # UTP\n",
    "cpd00038_c = universal.metabolites.get_by_id('cpd00038_c') # GTP\n",
    "cpd00001_c = universal.metabolites.get_by_id('cpd00001_c') # H2O\n",
    "\n",
    "cpd00008_c = universal.metabolites.get_by_id('cpd00008_c') # ADP\n",
    "cpd00009_c = universal.metabolites.get_by_id('cpd00009_c') # Phosphate\n",
    "cpd00012_c = universal.metabolites.get_by_id('cpd00012_c') # PPi\n",
    "\n",
    "cpd17043_c = cobra.Metabolite(\n",
    "    'cpd17043_c',\n",
    "    formula='',\n",
    "    name='RNA polymer',\n",
    "    compartment='cytosol')\n",
    "\n",
    "rna_rxn = cobra.Reaction('rna_rxn')\n",
    "rna_rxn.name = 'RNA transcription'\n",
    "rna_rxn.lower_bound = 0.\n",
    "rna_rxn.upper_bound = 1000.\n",
    "rna_rxn.add_metabolites({\n",
    "    cpd00002_c: -2.0,\n",
    "    cpd00052_c: -0.5,\n",
    "    cpd00062_c: -0.5,\n",
    "    cpd00038_c: -0.5,\n",
    "    cpd00001_c: -1.0,\n",
    "    cpd17043_c: 1.0,\n",
    "    cpd00008_c: 2.0,\n",
    "    cpd00009_c: 2.0,\n",
    "    cpd00012_c: 1.0\n",
    "})\n",
    "\n",
    "#--------------------------------------------------------------------------------#\n",
    "\n",
    "# Protein biosynthesis\n",
    "\n",
    "cpd00035_c = universal.metabolites.get_by_id('cpd00035_c') # L-Alanine\n",
    "cpd00051_c = universal.metabolites.get_by_id('cpd00051_c') # L-Arginine\n",
    "cpd00132_c = universal.metabolites.get_by_id('cpd00132_c') # L-Asparagine\n",
    "cpd00041_c = universal.metabolites.get_by_id('cpd00041_c') # L-Aspartate\n",
    "cpd00084_c = universal.metabolites.get_by_id('cpd00084_c') # L-Cysteine\n",
    "cpd00053_c = universal.metabolites.get_by_id('cpd00053_c') # L-Glutamine\n",
    "cpd00023_c = universal.metabolites.get_by_id('cpd00023_c') # L-Glutamate\n",
    "cpd00033_c = universal.metabolites.get_by_id('cpd00033_c') # Glycine\n",
    "cpd00119_c = universal.metabolites.get_by_id('cpd00119_c') # L-Histidine\n",
    "cpd00322_c = universal.metabolites.get_by_id('cpd00322_c') # L-Isoleucine\n",
    "cpd00107_c = universal.metabolites.get_by_id('cpd00107_c') # L-Leucine\n",
    "cpd00039_c = universal.metabolites.get_by_id('cpd00039_c') # L-Lysine\n",
    "cpd00060_c = universal.metabolites.get_by_id('cpd00060_c') # L-Methionine\n",
    "cpd00066_c = universal.metabolites.get_by_id('cpd00066_c') # L-Phenylalanine\n",
    "cpd00129_c = universal.metabolites.get_by_id('cpd00129_c') # L-Proline\n",
    "cpd00054_c = universal.metabolites.get_by_id('cpd00054_c') # L-Serine\n",
    "cpd00161_c = universal.metabolites.get_by_id('cpd00161_c') # L-Threonine\n",
    "cpd00065_c = universal.metabolites.get_by_id('cpd00065_c') # L-Tryptophan\n",
    "cpd00069_c = universal.metabolites.get_by_id('cpd00069_c') # L-Tyrosine\n",
    "cpd00156_c = universal.metabolites.get_by_id('cpd00156_c') # L-Valine\n",
    "cpd00002_c = universal.metabolites.get_by_id('cpd00002_c') # ATP\n",
    "cpd00001_c = universal.metabolites.get_by_id('cpd00001_c') # H2O\n",
    "\n",
    "cpd00008_c = universal.metabolites.get_by_id('cpd00008_c') # ADP\n",
    "cpd00009_c = universal.metabolites.get_by_id('cpd00009_c') # Phosphate\n",
    "\n",
    "cpd17041_c = cobra.Metabolite(\n",
    "    'cpd17041_c',\n",
    "    formula='',\n",
    "    name='Protein polymer',\n",
    "    compartment='cytosol')\n",
    "\n",
    "protein_rxn = cobra.Reaction('protein_rxn')\n",
    "protein_rxn.name = 'Protein biosynthesis'\n",
    "protein_rxn.lower_bound = 0.\n",
    "protein_rxn.upper_bound = 1000.\n",
    "protein_rxn.add_metabolites({\n",
    "    cpd00035_c: -0.5,\n",
    "    cpd00051_c: -0.25,\n",
    "    cpd00132_c: -0.5,\n",
    "    cpd00041_c: -0.5,\n",
    "    cpd00084_c: -0.05,\n",
    "    cpd00053_c: -0.25,\n",
    "    cpd00023_c: -0.5,\n",
    "    cpd00033_c: -0.5,\n",
    "    cpd00119_c: -0.05,\n",
    "    cpd00322_c: -0.5,\n",
    "    cpd00107_c: -0.5,\n",
    "    cpd00039_c: -0.5,\n",
    "    cpd00060_c: -0.25,\n",
    "    cpd00066_c: -0.5,\n",
    "    cpd00129_c: -0.25,\n",
    "    cpd00054_c: -0.5,\n",
    "    cpd00161_c: -0.5,\n",
    "    cpd00065_c: -0.05,\n",
    "    cpd00069_c: -0.25,\n",
    "    cpd00156_c: -0.5,\n",
    "    cpd00002_c: -20.0,\n",
    "    cpd00001_c: -1.0,\n",
    "    cpd17041_c: 1.0,\n",
    "    cpd00008_c: 20.0,\n",
    "    cpd00009_c: 20.0\n",
    "})\n",
    "\n",
    "#--------------------------------------------------------------------------------#\n",
    "\n",
    "# Cell wall synthesis\n",
    "\n",
    "cpd02967_c = universal.metabolites.get_by_id('cpd02967_c') # N-Acetyl-beta-D-mannosaminyl-1,4-N-acetyl-D-glucosaminyldiphosphoundecaprenol\n",
    "cpd00402_c = universal.metabolites.get_by_id('cpd00402_c') # CDPglycerol\n",
    "cpd00046_c = universal.metabolites.get_by_id('cpd00046_c') # CMP\n",
    "\n",
    "cpd12894_c = cobra.Metabolite(\n",
    "    'cpd12894_c',\n",
    "    formula='',\n",
    "    name='Teichoic acid',\n",
    "    compartment='cytosol')\n",
    "\n",
    "teichoicacid_rxn = cobra.Reaction('teichoicacid_rxn')\n",
    "teichoicacid_rxn.name = 'Teichoic acid biosynthesis'\n",
    "teichoicacid_rxn.lower_bound = 0.\n",
    "teichoicacid_rxn.upper_bound = 1000.\n",
    "teichoicacid_rxn.add_metabolites({\n",
    "    cpd02967_c: -1.0,\n",
    "    cpd00402_c: -1.0,\n",
    "    cpd00046_c: 1.0,\n",
    "    cpd12894_c: 1.0\n",
    "})\n",
    "\n",
    "# Peptidoglycan subunits\n",
    " # Undecaprenyl-diphospho-N-acetylmuramoyl--N-acetylglucosamine-L-ala-D-glu-meso-2-6-diaminopimeloyl-D-ala-D-ala (right)\n",
    "cpd03495_c = universal.metabolites.get_by_id('cpd03495_c')\n",
    "# Undecaprenyl-diphospho-N-acetylmuramoyl-(N-acetylglucosamine)-L-alanyl-gamma-D-glutamyl-L-lysyl-D-alanyl-D-alanine (left)\n",
    "cpd03491_c = universal.metabolites.get_by_id('cpd03491_c') \n",
    "\n",
    "cpd00002_c = universal.metabolites.get_by_id('cpd00002_c') # ATP\n",
    "cpd00001_c = universal.metabolites.get_by_id('cpd00001_c') # H2O\n",
    "\n",
    "cpd02229_c = universal.metabolites.get_by_id('cpd02229_c') # Bactoprenyl diphosphate\n",
    "cpd00117_c = universal.metabolites.get_by_id('cpd00117_c') # D-Alanine\n",
    "cpd00008_c = universal.metabolites.get_by_id('cpd00008_c') # ADP\n",
    "cpd00009_c = universal.metabolites.get_by_id('cpd00009_c') # Phosphate\n",
    "\n",
    "cpd16661_c = cobra.Metabolite(\n",
    "    'cpd16661_c',\n",
    "    formula='',\n",
    "    name='Peptidoglycan polymer',\n",
    "    compartment='cytosol')\n",
    "\n",
    "peptidoglycan_rxn = cobra.Reaction('peptidoglycan_rxn')\n",
    "peptidoglycan_rxn.name = 'Peptidoglycan biosynthesis'\n",
    "peptidoglycan_rxn.lower_bound = 0.\n",
    "peptidoglycan_rxn.upper_bound = 1000.\n",
    "peptidoglycan_rxn.add_metabolites({\n",
    "    cpd03491_c: -1.0,\n",
    "    cpd03495_c: -1.0,\n",
    "    cpd00002_c: -4.0,\n",
    "    cpd00001_c: -1.0,\n",
    "    cpd16661_c: 1.0,\n",
    "    cpd02229_c: 1.0,\n",
    "    cpd00117_c: 0.5, # D-Alanine\n",
    "    cpd00008_c: 4.0, # ADP\n",
    "    cpd00009_c: 4.0 # Phosphate\n",
    "})\n",
    "\n",
    "cellwall_c = cobra.Metabolite(\n",
    "    'cellwall_c',\n",
    "    formula='',\n",
    "    name='Cell Wall polymer',\n",
    "    compartment='cytosol')\n",
    "\n",
    "cellwall_rxn = cobra.Reaction('cellwall_rxn')\n",
    "cellwall_rxn.name = 'Cell wall biosynthesis'\n",
    "cellwall_rxn.lower_bound = 0.\n",
    "cellwall_rxn.upper_bound = 1000.\n",
    "cellwall_rxn.add_metabolites({\n",
    "    cpd16661_c: -1.5,\n",
    "    cpd12894_c: -0.05,\n",
    "    cellwall_c: 1.0\n",
    "})\n",
    "\n",
    "#--------------------------------------------------------------------------------#\n",
    "\n",
    "# Lipid pool\n",
    "\n",
    "cpd15543_c = universal.metabolites.get_by_id('cpd15543_c') # Phosphatidylglycerophosphate ditetradecanoyl\n",
    "cpd15545_c = universal.metabolites.get_by_id('cpd15545_c') # Phosphatidylglycerophosphate dihexadecanoyl\n",
    "cpd15540_c = universal.metabolites.get_by_id('cpd15540_c') # Phosphatidylglycerol dioctadecanoyl\n",
    "cpd15728_c = universal.metabolites.get_by_id('cpd15728_c') # Diglucosyl-1,2 dipalmitoylglycerol\n",
    "cpd15729_c = universal.metabolites.get_by_id('cpd15729_c') # Diglucosyl-1,2 dimyristoylglycerol\n",
    "cpd15737_c = universal.metabolites.get_by_id('cpd15737_c') # Monoglucosyl-1,2 dipalmitoylglycerol\n",
    "cpd15738_c = universal.metabolites.get_by_id('cpd15738_c') # Monoglucosyl-1,2 dimyristoylglycerol\n",
    "\n",
    "cpd11852_c = cobra.Metabolite(\n",
    "    'cpd11852_c',\n",
    "    formula='',\n",
    "    name='Lipid Pool',\n",
    "    compartment='cytosol')\n",
    "\n",
    "lipid_rxn = cobra.Reaction('lipid_rxn')\n",
    "lipid_rxn.name = 'Lipid composition'\n",
    "lipid_rxn.lower_bound = 0.\n",
    "lipid_rxn.upper_bound = 1000.\n",
    "lipid_rxn.add_metabolites({\n",
    "    cpd15543_c: -0.005,\n",
    "    cpd15545_c: -0.005,\n",
    "    cpd15540_c: -0.005,\n",
    "    cpd15728_c: -0.005,\n",
    "    cpd15729_c: -0.005,\n",
    "    cpd15737_c: -0.005,\n",
    "    cpd15738_c: -0.005,\n",
    "    cpd11852_c: 1.0\n",
    "})\n",
    "\n",
    "#--------------------------------------------------------------------------------#\n",
    "\n",
    "# Ions, Vitamins, & Cofactors\n",
    "\n",
    "# Vitamins\n",
    "cpd00104_c = universal.metabolites.get_by_id('cpd00104_c') # Biotin          MDM\n",
    "cpd00644_c = universal.metabolites.get_by_id('cpd00644_c') # Pantothenate    MDM\n",
    "cpd00263_c = universal.metabolites.get_by_id('cpd00263_c') # Pyridoxine      MDM\n",
    "cpd00393_c = universal.metabolites.get_by_id('cpd00393_c') #  folate\n",
    "cpd00133_c = universal.metabolites.get_by_id('cpd00133_c') #  nicotinamide\n",
    "cpd00443_c = universal.metabolites.get_by_id('cpd00443_c') #  p-aminobenzoic acid\n",
    "cpd00220_c = universal.metabolites.get_by_id('cpd00220_c') #  riboflavin  \n",
    "cpd00305_c = universal.metabolites.get_by_id('cpd00305_c') #  thiamin\n",
    "\n",
    "# Ions\n",
    "cpd00149_c = universal.metabolites.get_by_id('cpd00149_c') # Cobalt\n",
    "cpd00030_c = universal.metabolites.get_by_id('cpd00030_c') # Manganese\n",
    "cpd00254_c = universal.metabolites.get_by_id('cpd00254_c') # Magnesium\n",
    "cpd00971_c = universal.metabolites.get_by_id('cpd00971_c') # Sodium\n",
    "cpd00063_c = universal.metabolites.get_by_id('cpd00063_c') # Calcium\n",
    "cpd10515_c = universal.metabolites.get_by_id('cpd10515_c') # Iron\n",
    "cpd00205_c = universal.metabolites.get_by_id('cpd00205_c') # Potassium\n",
    "cpd00099_c = universal.metabolites.get_by_id('cpd00099_c') # Chloride\n",
    "\n",
    "# Cofactors\n",
    "cpd00022_c = universal.metabolites.get_by_id('cpd00022_c') # Acetyl-CoA\n",
    "cpd00010_c = universal.metabolites.get_by_id('cpd00010_c') # CoA\n",
    "cpd00015_c = universal.metabolites.get_by_id('cpd00015_c') # FAD\n",
    "cpd00003_c = universal.metabolites.get_by_id('cpd00003_c') # NAD\n",
    "cpd00004_c = universal.metabolites.get_by_id('cpd00004_c') # NADH\n",
    "cpd00006_c = universal.metabolites.get_by_id('cpd00006_c') # NADP\n",
    "cpd00005_c = universal.metabolites.get_by_id('cpd00005_c') # NADPH\n",
    "\n",
    "# Energy molecules\n",
    "cpd00002_c = universal.metabolites.get_by_id('cpd00002_c') # ATP\n",
    "cpd00008_c = universal.metabolites.get_by_id('cpd00008_c') # ADP\n",
    "cpd00009_c = universal.metabolites.get_by_id('cpd00009_c') # Phosphate\n",
    "cpd00012_c = universal.metabolites.get_by_id('cpd00012_c') # PPi\n",
    "cpd00038_c = universal.metabolites.get_by_id('cpd00038_c') # GTP\n",
    "cpd00031_c = universal.metabolites.get_by_id('cpd00031_c') # GDP\n",
    "\n",
    "cpd00274_c = universal.metabolites.get_by_id('cpd00274_c') # Citrulline\n",
    "\n",
    "cofactor_c = cobra.Metabolite(\n",
    "    'cofactor_c',\n",
    "    formula='',\n",
    "    name='Cofactor Pool',\n",
    "    compartment='cytosol')\n",
    "\n",
    "cofactor_rxn = cobra.Reaction('cofactor_rxn')\n",
    "cofactor_rxn.name = 'Cofactor Pool'\n",
    "cofactor_rxn.lower_bound = 0.\n",
    "cofactor_rxn.upper_bound = 1000.\n",
    "cofactor_rxn.add_metabolites({\n",
    "    cpd00104_c: -0.005, \n",
    "    cpd00644_c: -0.005, \n",
    "    cpd00263_c: -0.005, \n",
    "    cpd00393_c: -0.005,\n",
    "    cpd00133_c: -0.005,\n",
    "    cpd00443_c: -0.005,\n",
    "    cpd00220_c: -0.005,\n",
    "    cpd00305_c: -0.005,\n",
    "    cpd00149_c: -0.005, \n",
    "    cpd00030_c: -0.005, \n",
    "    cpd00254_c: -0.005, \n",
    "    cpd00971_c: -0.005, \n",
    "    cpd00063_c: -0.005, \n",
    "    cpd10515_c: -0.005, \n",
    "    cpd00205_c: -0.005,\n",
    "    cpd00099_c: -0.005, \n",
    "    cpd00022_c: -0.005,\n",
    "    cpd00010_c: -0.0005,\n",
    "    cpd00015_c: -0.0005,\n",
    "    cpd00003_c: -0.005,\n",
    "    cpd00004_c: -0.005,\n",
    "    cpd00006_c: -0.005,\n",
    "    cpd00005_c: -0.005,\n",
    "    cpd00002_c: -0.005, \n",
    "    cpd00008_c: -0.005, \n",
    "    cpd00009_c: -0.5,\n",
    "    cpd00012_c: -0.005, \n",
    "    cpd00038_c: -0.005, \n",
    "    cpd00031_c: -0.005, \n",
    "\n",
    "    cofactor_c: 1.0\n",
    "})\n",
    "\n",
    "#--------------------------------------------------------------------------------#\n",
    "\n",
    "# Final Biomass\n",
    "\n",
    "cpd11416_c = cobra.Metabolite(\n",
    "    'cpd11416_c',\n",
    "    formula='',\n",
    "    name='Biomass',\n",
    "    compartment='cytosol')\n",
    "\n",
    "biomass_rxn = cobra.Reaction('biomass')\n",
    "biomass_rxn.name = 'Gram-positive Biomass Reaction'\n",
    "biomass_rxn.lower_bound = 0.\n",
    "biomass_rxn.upper_bound = 1000.\n",
    "biomass_rxn.add_metabolites({\n",
    "    cpd17041_c: -0.4,  # Protein\n",
    "    cpd17043_c: -0.15, # RNA\n",
    "    cpd17042_c: -0.05, # DNA\n",
    "    cpd11852_c: -0.05, # Lipid\n",
    "    cellwall_c: -0.2,\n",
    "    cofactor_c: -0.2,\n",
    "    cpd00001_c: -20.0,\n",
    "    cpd00002_c: -20.0,\n",
    "    cpd00008_c: 20.0,\n",
    "    cpd00009_c: 20.0,\n",
    "    cpd11416_c: 1.0 # Biomass\n",
    "})\n",
    "\n",
    "grampos_biomass_components = [dna_rxn,rna_rxn, protein_rxn, teichoicacid_rxn, peptidoglycan_rxn, cellwall_rxn, lipid_rxn, cofactor_rxn, biomass_rxn]\n"
   ]
  },
  {
   "cell_type": "code",
   "execution_count": 54,
   "metadata": {},
   "outputs": [],
   "source": [
    "# Add components to new model\n",
    "model.add_reactions(grampos_biomass_components)\n",
    "model.add_boundary(cpd11416_c, type='sink', reaction_id='EX_biomass', lb=0.0, ub=1000.0)\n",
    "\n",
    "# Set new objective\n",
    "model.objective = 'biomass'"
   ]
  },
  {
   "cell_type": "code",
   "execution_count": 55,
   "metadata": {},
   "outputs": [
    {
     "data": {
      "text/html": [
       "\n",
       "        <table>\n",
       "            <tr>\n",
       "                <td><strong>Name</strong></td>\n",
       "                <td>Lactobacillus reuteri mlc3</td>\n",
       "            </tr><tr>\n",
       "                <td><strong>Memory address</strong></td>\n",
       "                <td>0x07f7b46cd6ef0</td>\n",
       "            </tr><tr>\n",
       "                <td><strong>Number of metabolites</strong></td>\n",
       "                <td>1156</td>\n",
       "            </tr><tr>\n",
       "                <td><strong>Number of reactions</strong></td>\n",
       "                <td>1062</td>\n",
       "            </tr><tr>\n",
       "                <td><strong>Number of groups</strong></td>\n",
       "                <td>0</td>\n",
       "            </tr><tr>\n",
       "                <td><strong>Objective expression</strong></td>\n",
       "                <td>1.0*biomass - 1.0*biomass_reverse_01e59</td>\n",
       "            </tr><tr>\n",
       "                <td><strong>Compartments</strong></td>\n",
       "                <td>cytosol, extracellular</td>\n",
       "            </tr>\n",
       "          </table>"
      ],
      "text/plain": [
       "<Model Lactobacillus reuteri mlc3 at 0x7f7b46cd6ef0>"
      ]
     },
     "execution_count": 55,
     "metadata": {},
     "output_type": "execute_result"
    }
   ],
   "source": [
    "model"
   ]
  },
  {
   "cell_type": "code",
   "execution_count": 56,
   "metadata": {},
   "outputs": [
    {
     "data": {
      "text/plain": [
       "0.0"
      ]
     },
     "execution_count": 56,
     "metadata": {},
     "output_type": "execute_result"
    }
   ],
   "source": [
    "model.slim_optimize()"
   ]
  },
  {
   "cell_type": "code",
   "execution_count": 57,
   "metadata": {},
   "outputs": [
    {
     "name": "stdout",
     "output_type": "stream",
     "text": [
      "Gapfilled 18 reactions and 6 metabolites\n"
     ]
    }
   ],
   "source": [
    "# Gapfill\n",
    "new_model = fast_gapfill(model, universal=universal, objective='biomass')"
   ]
  },
  {
   "cell_type": "code",
   "execution_count": 58,
   "metadata": {},
   "outputs": [
    {
     "data": {
      "text/html": [
       "\n",
       "        <table>\n",
       "            <tr>\n",
       "                <td><strong>Name</strong></td>\n",
       "                <td>Lactobacillus reuteri mlc3</td>\n",
       "            </tr><tr>\n",
       "                <td><strong>Memory address</strong></td>\n",
       "                <td>0x07f7b4500c320</td>\n",
       "            </tr><tr>\n",
       "                <td><strong>Number of metabolites</strong></td>\n",
       "                <td>1162</td>\n",
       "            </tr><tr>\n",
       "                <td><strong>Number of reactions</strong></td>\n",
       "                <td>1080</td>\n",
       "            </tr><tr>\n",
       "                <td><strong>Number of groups</strong></td>\n",
       "                <td>0</td>\n",
       "            </tr><tr>\n",
       "                <td><strong>Objective expression</strong></td>\n",
       "                <td>0.0 + 1.0*biomass - 1.0*biomass_reverse_01e59</td>\n",
       "            </tr><tr>\n",
       "                <td><strong>Compartments</strong></td>\n",
       "                <td>cytosol, extracellular</td>\n",
       "            </tr>\n",
       "          </table>"
      ],
      "text/plain": [
       "<Model Lactobacillus reuteri mlc3 at 0x7f7b4500c320>"
      ]
     },
     "execution_count": 58,
     "metadata": {},
     "output_type": "execute_result"
    }
   ],
   "source": [
    "new_model"
   ]
  },
  {
   "cell_type": "code",
   "execution_count": 69,
   "metadata": {},
   "outputs": [
    {
     "name": "stdout",
     "output_type": "stream",
     "text": [
      "Gapfilled 23 reactions and 4 metabolites\n"
     ]
    }
   ],
   "source": [
    "# Define minimal components and add to minimal media formulation\n",
    "from cobra.medium import minimal_medium\n",
    "\n",
    "ov = new_model.slim_optimize() * 0.1\n",
    "components = minimal_medium(new_model, ov) # pick out necessary cofactors\n",
    "essential = ['cpd00063_e','cpd00393_e','cpd00048_e','cpd00305_e','cpd00205_e','cpd00104_e','cpd00099_e',\n",
    "             'cpd00099_e','cpd00099_e','cpd00149_e','cpd00030_e','cpd10516_e','cpd00254_e','cpd00220_e',\n",
    "             'cpd00355_e','cpd00064_e','cpd00971_e','cpd00067_e']\n",
    "\n",
    "# Wegkamp et al. 2009. Applied Microbiology.\n",
    "# Lactobacillus minimal media\n",
    "pmm5 = ['cpd00001_e','cpd00009_e','cpd00026_e','cpd00029_e','cpd00059_e','cpd00051_e','cpd00023_e',\n",
    "        'cpd00107_e','cpd00322_e','cpd00060_e','cpd00066_e','cpd00161_e','cpd00065_e','cpd00069_e',\n",
    "        'cpd00156_e','cpd00218_e','cpd02201_e','cpd00220_e','cpd00220_e','cpd04877_e','cpd28790_e',\n",
    "        'cpd00355_e']\n",
    "minimal = essential + pmm5\n",
    "\n",
    "new_model = fast_gapfill(new_model, universal=universal, objective='biomass', media=minimal)"
   ]
  },
  {
   "cell_type": "code",
   "execution_count": 70,
   "metadata": {},
   "outputs": [
    {
     "data": {
      "text/html": [
       "\n",
       "        <table>\n",
       "            <tr>\n",
       "                <td><strong>Name</strong></td>\n",
       "                <td>Lactobacillus reuteri mlc3</td>\n",
       "            </tr><tr>\n",
       "                <td><strong>Memory address</strong></td>\n",
       "                <td>0x07f7b42607630</td>\n",
       "            </tr><tr>\n",
       "                <td><strong>Number of metabolites</strong></td>\n",
       "                <td>1166</td>\n",
       "            </tr><tr>\n",
       "                <td><strong>Number of reactions</strong></td>\n",
       "                <td>1103</td>\n",
       "            </tr><tr>\n",
       "                <td><strong>Number of groups</strong></td>\n",
       "                <td>0</td>\n",
       "            </tr><tr>\n",
       "                <td><strong>Objective expression</strong></td>\n",
       "                <td>0.0 + 1.0*biomass - 1.0*biomass_reverse_01e59</td>\n",
       "            </tr><tr>\n",
       "                <td><strong>Compartments</strong></td>\n",
       "                <td>cytosol, extracellular</td>\n",
       "            </tr>\n",
       "          </table>"
      ],
      "text/plain": [
       "<Model Lactobacillus reuteri mlc3 at 0x7f7b42607630>"
      ]
     },
     "execution_count": 70,
     "metadata": {},
     "output_type": "execute_result"
    }
   ],
   "source": [
    "new_model"
   ]
  },
  {
   "cell_type": "code",
   "execution_count": 71,
   "metadata": {},
   "outputs": [],
   "source": [
    "new_model = all_orphan_prune(new_model)"
   ]
  },
  {
   "cell_type": "code",
   "execution_count": 80,
   "metadata": {},
   "outputs": [
    {
     "data": {
      "text/html": [
       "\n",
       "        <table>\n",
       "            <tr>\n",
       "                <td><strong>Name</strong></td>\n",
       "                <td>iLr488</td>\n",
       "            </tr><tr>\n",
       "                <td><strong>Memory address</strong></td>\n",
       "                <td>0x07f7b42607630</td>\n",
       "            </tr><tr>\n",
       "                <td><strong>Number of metabolites</strong></td>\n",
       "                <td>1162</td>\n",
       "            </tr><tr>\n",
       "                <td><strong>Number of reactions</strong></td>\n",
       "                <td>1103</td>\n",
       "            </tr><tr>\n",
       "                <td><strong>Number of groups</strong></td>\n",
       "                <td>0</td>\n",
       "            </tr><tr>\n",
       "                <td><strong>Objective expression</strong></td>\n",
       "                <td>0.0 + 1.0*biomass - 1.0*biomass_reverse_01e59</td>\n",
       "            </tr><tr>\n",
       "                <td><strong>Compartments</strong></td>\n",
       "                <td>cytosol, extracellular</td>\n",
       "            </tr>\n",
       "          </table>"
      ],
      "text/plain": [
       "<Model iLr488 at 0x7f7b42607630>"
      ]
     },
     "execution_count": 80,
     "metadata": {},
     "output_type": "execute_result"
    }
   ],
   "source": [
    "new_model"
   ]
  },
  {
   "cell_type": "code",
   "execution_count": 73,
   "metadata": {},
   "outputs": [
    {
     "name": "stdout",
     "output_type": "stream",
     "text": [
      "488\n"
     ]
    }
   ],
   "source": [
    "print(len(new_model.genes))"
   ]
  },
  {
   "cell_type": "code",
   "execution_count": 74,
   "metadata": {},
   "outputs": [
    {
     "data": {
      "text/plain": [
       "240.6219113921842"
      ]
     },
     "execution_count": 74,
     "metadata": {},
     "output_type": "execute_result"
    }
   ],
   "source": [
    "new_model.slim_optimize()"
   ]
  },
  {
   "cell_type": "code",
   "execution_count": 77,
   "metadata": {},
   "outputs": [],
   "source": [
    "new_model.name = 'Lactobactillus reuteri mlc3'\n",
    "new_model.id = 'iLr488'"
   ]
  },
  {
   "cell_type": "code",
   "execution_count": 79,
   "metadata": {},
   "outputs": [],
   "source": [
    "cobra.io.save_json_model(new_model, '/home/mjenior/Desktop/Lawley_MixB/draft_reconstructions/lact_reut.curated.json')"
   ]
  }
 ],
 "metadata": {
  "kernelspec": {
   "display_name": "Python 3",
   "language": "python",
   "name": "python3"
  },
  "language_info": {
   "codemirror_mode": {
    "name": "ipython",
    "version": 3
   },
   "file_extension": ".py",
   "mimetype": "text/x-python",
   "name": "python",
   "nbconvert_exporter": "python",
   "pygments_lexer": "ipython3",
   "version": "3.7.3"
  }
 },
 "nbformat": 4,
 "nbformat_minor": 2
}
