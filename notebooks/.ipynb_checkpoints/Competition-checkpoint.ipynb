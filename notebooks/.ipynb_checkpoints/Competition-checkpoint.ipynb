{
 "cells": [
  {
   "cell_type": "code",
   "execution_count": 2,
   "metadata": {},
   "outputs": [],
   "source": [
    "from riptide import *"
   ]
  },
  {
   "cell_type": "code",
   "execution_count": 22,
   "metadata": {},
   "outputs": [],
   "source": [
    "iLr488 = cobra.io.load_json_model('/home/mjenior/Desktop/Lawley_MixB/draft_reconstructions/iLr488.json')\n",
    "iCdG790 = cobra.io.load_json_model('/home/mjenior/Desktop/repos/Jenior_Cdifficile_2019/data/iCdG790.json')\n",
    "iJO1366 = cobra.io.read_sbml_model('/home/mjenior/Desktop/repos/Jenior_RIPTiDe_2019/data/reconstructions/iJO1366.xml')\n",
    "iJO1366.objective = iJO1366.reactions.BIOMASS_Ec_iJO1366_WT_53p95M\n",
    "# Open all exchanges\n",
    "for rxn in iJO1366.reactions:\n",
    "    if len(rxn.reactants) == 0 or len(rxn.products) == 0:\n",
    "        rxn.bounds = (-1000.0, 1000.0)"
   ]
  },
  {
   "cell_type": "code",
   "execution_count": 23,
   "metadata": {},
   "outputs": [],
   "source": [
    "# Create pFBA transcriptome\n",
    "iLr488_transcriptome= {}\n",
    "for x in iLr488.genes: iLr488_transcriptome[x.id] = 1.0\n",
    "    \n",
    "iCdG790_transcriptome= {}\n",
    "for x in iCdG790.genes: iCdG790_transcriptome[x.id] = 1.0\n",
    "    \n",
    "iJO1366_transcriptome= {}\n",
    "for x in iJO1366.genes: iJO1366_transcriptome[x.id] = 1.0"
   ]
  },
  {
   "cell_type": "code",
   "execution_count": 7,
   "metadata": {},
   "outputs": [
    {
     "name": "stdout",
     "output_type": "stream",
     "text": [
      "\n",
      "Initializing model and integrating transcriptomic data...\n",
      "Pruning zero flux subnetworks...\n",
      "Analyzing context-specific flux distributions...\n",
      "\n",
      "Reactions pruned to 235 from 1103 (78.69% change)\n",
      "Metabolites pruned to 234 from 1162 (79.86% change)\n",
      "Flux through the objective DECREASED to ~206.72 from ~240.62 (14.09% change)\n",
      "Context-specific metabolism correlates with transcriptome (p<<0.001 ***)\n",
      "\n",
      "RIPTiDe completed in 19 seconds\n",
      "\n"
     ]
    }
   ],
   "source": [
    "# Generate parsimonious metabolic strategies\n",
    "iLr488_riptide = riptide.contextualize(model=iLr488, transcriptome=iLr488_transcriptome)"
   ]
  },
  {
   "cell_type": "code",
   "execution_count": 8,
   "metadata": {},
   "outputs": [
    {
     "name": "stdout",
     "output_type": "stream",
     "text": [
      "\n",
      "Initializing model and integrating transcriptomic data...\n",
      "Pruning zero flux subnetworks...\n",
      "Analyzing context-specific flux distributions...\n",
      "\n",
      "Reactions pruned to 280 from 1129 (75.2% change)\n",
      "Metabolites pruned to 285 from 1132 (74.82% change)\n",
      "Flux through the objective DECREASED to ~57.65 from ~65.43 (11.89% change)\n",
      "\n",
      "RIPTiDe completed in 21 seconds\n",
      "\n"
     ]
    }
   ],
   "source": [
    "# Generate parsimonious metabolic strategies\n",
    "iCdG790_riptide = riptide.contextualize(model=iCdG790, transcriptome=iCdG790_transcriptome)"
   ]
  },
  {
   "cell_type": "code",
   "execution_count": 24,
   "metadata": {},
   "outputs": [
    {
     "name": "stdout",
     "output_type": "stream",
     "text": [
      "\n",
      "Initializing model and integrating transcriptomic data...\n",
      "Pruning zero flux subnetworks...\n",
      "Analyzing context-specific flux distributions...\n",
      "\n",
      "Reactions pruned to 447 from 2583 (82.69% change)\n",
      "Metabolites pruned to 447 from 1805 (75.24% change)\n",
      "Flux through the objective DECREASED to ~86.89 from ~105.77 (17.85% change)\n",
      "\n",
      "RIPTiDe completed in 2 minutes and 7 seconds\n",
      "\n"
     ]
    }
   ],
   "source": [
    "# Generate parsimonious metabolic strategies\n",
    "iJO1366_riptide = riptide.contextualize(model=iJO1366, transcriptome=iJO1366_transcriptome)"
   ]
  },
  {
   "cell_type": "code",
   "execution_count": 18,
   "metadata": {},
   "outputs": [],
   "source": [
    "# Compare shadow prices\n",
    "solution = iCdG790_riptide.model.optimize()\n",
    "iCdG790_shadow_prices = solution.shadow_prices\n",
    "\n",
    "solution = iLr488_riptide.model.optimize()\n",
    "iLr488_shadow_prices = solution.shadow_prices\n",
    "\n",
    "solution = iJO1366_riptide.model.optimize()\n",
    "iJO1366_shadow_prices = solution.shadow_prices\n",
    "\n",
    "competition = {}\n",
    "shared_cpd = set(list(iCdG790_shadow_prices.keys())).intersection(set(list(iLr488_shadow_prices.keys())))\n",
    "for cpd in shared_cpd:\n",
    "    if not '_e' in cpd:\n",
    "        continue\n",
    "    elif iCdG790_shadow_prices[cpd] == 0.0 and iLr488_shadow_prices[cpd] == 0.0:\n",
    "        continue\n",
    "    else:\n",
    "        competition[cpd] = [iCdG790_shadow_prices[cpd], iLr488_shadow_prices[cpd]]\n",
    "        \n",
    "# Competition will be annoying since one is ModelSEED and the other is BiGG"
   ]
  },
  {
   "cell_type": "code",
   "execution_count": 19,
   "metadata": {},
   "outputs": [
    {
     "data": {
      "text/plain": [
       "{'cpd00051_e': [0.0, 2.0629455001938708e-18],\n",
       " 'cpd00117_e': [0.0, -1.227158973817688e-16],\n",
       " 'cpd00276_e': [-0.0, 7.521612791968224e-16],\n",
       " 'cpd00080_e': [0.0, 2.7689882682737275e-18],\n",
       " 'cpd00067_e': [-0.008864544490703065, -6.879270435273044e-16]}"
      ]
     },
     "execution_count": 19,
     "metadata": {},
     "output_type": "execute_result"
    }
   ],
   "source": [
    "competition"
   ]
  },
  {
   "cell_type": "code",
   "execution_count": null,
   "metadata": {},
   "outputs": [],
   "source": []
  }
 ],
 "metadata": {
  "kernelspec": {
   "display_name": "Python 3",
   "language": "python",
   "name": "python3"
  },
  "language_info": {
   "codemirror_mode": {
    "name": "ipython",
    "version": 3
   },
   "file_extension": ".py",
   "mimetype": "text/x-python",
   "name": "python",
   "nbconvert_exporter": "python",
   "pygments_lexer": "ipython3",
   "version": "3.7.3"
  }
 },
 "nbformat": 4,
 "nbformat_minor": 2
}
