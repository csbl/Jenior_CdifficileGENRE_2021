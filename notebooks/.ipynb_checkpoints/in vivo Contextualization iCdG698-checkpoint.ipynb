{
 "cells": [
  {
   "cell_type": "code",
   "execution_count": 1,
   "metadata": {},
   "outputs": [],
   "source": [
    "from riptide import *\n",
    "iCdG698 = cobra.io.load_json_model('/home/mjenior/Desktop/repos/Jenior_Cdifficile_2019/data/reconstructions/iCdG698.json')\n",
    "iCdG698.reactions.rxn05178_c.bounds = (0., 1000.)"
   ]
  },
  {
   "cell_type": "markdown",
   "metadata": {},
   "source": [
    "### Setting Extracellular Conditions"
   ]
  },
  {
   "cell_type": "code",
   "execution_count": 2,
   "metadata": {},
   "outputs": [],
   "source": [
    "# in vivo media analog\n",
    "gut = ['cpd00027_e', #glucose\n",
    "    'cpd00001_e', #water\n",
    "    'cpd00035_e', #alanine\n",
    " 'cpd00041_e', #aspartic acid\n",
    " 'cpd00023_e', #glutamic acid\n",
    " 'cpd00119_e', #histidine\n",
    " 'cpd00107_e', #leucine\n",
    " 'cpd00060_e', #methionine\n",
    " 'cpd00129_e', #proline\n",
    " 'cpd00161_e', #threonine\n",
    " 'cpd00051_e', #arginine\n",
    " 'cpd00069_e', #tyrosine\n",
    " 'cpd00084_e', #cysteine\n",
    " 'cpd00033_e', #glycine\n",
    " 'cpd00322_e', #isoleucine\n",
    " 'cpd00039_e', #lysine\n",
    " 'cpd00066_e', #phenylalanine\n",
    " 'cpd00054_e', #serine\n",
    " 'cpd00065_e', #tryptophan\n",
    " 'cpd00156_e', #valine\n",
    " 'cpd00220_e', #riboflavin\n",
    " 'cpd00644_e', #pantothentate(B5)\n",
    " 'cpd00393_e', #folate(B9)\n",
    " 'cpd00133_e', #niacin(PP)\n",
    " 'cpd00263_e', #Pyridoxine\n",
    " 'cpd00104_e', #Biotin\n",
    " 'cpd00149_e', #Cobalt\n",
    " 'cpd00971_e', #sodium\n",
    " 'cpd00099_e', #Chloride\n",
    " 'cpd00205_e', #potassium\n",
    " 'cpd00009_e', #phosphate\n",
    " 'cpd00063_e', #calcium\n",
    " 'cpd00254_e', #magnesium\n",
    " 'cpd10515_e', #Fe2+\n",
    " 'cpd00030_e', #Mn2+\n",
    " 'cpd00242_e', #Carbonate\n",
    " 'cpd00226_e', #hypoxanthine\n",
    " 'cpd01242_e', #thyminose\n",
    " 'cpd00307_e', #cytosine\n",
    " 'cpd00092_e', #uracil\n",
    "'cpd00117_e', #D-Alanine\n",
    "'cpd00067_e', #H+\n",
    "'cpd00567_e', #D-Proline\n",
    "'cpd00132_e', #L-Asparagine\n",
    "'cpd00053_e', #L-Glutamine\n",
    "'cpd00210_e', #Taurine\n",
    "'cpd00320_e', #D-Aspartate\n",
    "'cpd03279_e', #Deoxyinosine\n",
    "'cpd00246_e', #Inosine\n",
    "'cpd00311_e', #Guanosine\n",
    "'cpd00367_e', #Cytidine\n",
    "'cpd00277_e', #Deoxyguanosine\n",
    "'cpd00182_e', #Adenosine\n",
    "'cpd00654_e', #Deoxycytidine\n",
    "'cpd00412_e', #Deoxyuridine\n",
    "'cpd00438_e', #Deoxyadenosine\n",
    "'cpd00274_e', #Citrulline\n",
    "'cpd00186_e', #D-Glutamate\n",
    "       'cpd00281_e', # GABA\n",
    "       'cpd00232_e', # N-Acetyl-Neuraminic acid\n",
    "       'cpd00492_e', # N-Acetyl-D-mannosamine\n",
    "       'cpd29317_e'] # 4-hydroxyproline\n",
    "\n",
    "gut = set(['EX_' + x for x in gut])\n",
    "for rxn in iCdG698.exchanges: \n",
    "    rxn.bounds = (0., 1000.)\n",
    "    if rxn.id in gut:\n",
    "        rxn.bounds = (-1000., 1000.)\n",
    "\n"
   ]
  },
  {
   "cell_type": "code",
   "execution_count": 58,
   "metadata": {},
   "outputs": [],
   "source": [
    "# Try with ornithine racemase\n",
    "\n",
    "gene = cobra.Gene('272563.8.peg.472')\n",
    "gene.name = 'Ornithine racemase (EC 5.1.1.12)'\n",
    "gene.annotation['ccds'] = 'ATGTATCCTAGGTTAGAAATAGATATAGAAAAGTTAAAGCATAATGTAAAATTAATTTCGCAGATGTGTCATGAAAGAAATATTAAGATATCTTTTGTTACTAAATCATTTTGTGCACAAAAAGAAATAGTAGAAGAAATATGTAGTGAAGGAATAGACCATATAGCAGATTCAAGAATACAAAACTTAAAAAATTTACAAGATATAAATCTACCTAAGATATTGATTAGAATCCCAATGTTAAGTGAATTAGAAGAAGTTATCAATTATTGCGATATTAGTTTTAACTCAGAATTAGGAACAATAAAGAAATTAAATGAATTATGTGAAAGTAAAAATATTATTCATAAGATAGTTCTTATGTTTGACTTAGGAGATTTACGAGAAGGATACTTTTATGAAGAAGACTTTTTTAATAATGTAAGAGAGATAGTAAGATTAAAAAATATTGAAATAATTGGTATAGCTACAAACTTAACCTGTTATGGAGCTATTATACCATCTAGGGAAAATATAGGCAGACTGGTAAGTATAGCAAAAAGAATGGAAGAAAAATTTGGAATAAATCTAGAAATAGTATCTGGAGGTAATTCAAGTTCGATTCATCTGTTGATAAATAATAATATGCCAGAAGGTATTACTAATTTGAGAATAGGCGAGTCCATTCTACTTGGTAGAGAAACGGCATACGGTGAAAATATAAATGGAACATATCAAGATGCATTTAAATTAATATGCCAAGTAGTTGAATGTAAAGAAAAACCATCAGTTCCTATTGGAGAAATAGGAGTTGATGCCTTTAGAAATAAACCTGTTTATGAAGATAAGGGAATCTTAAAAAGGGCAATCATAGCTATAGGTAAACAAGATATAAATATTGACTCTTTAATTCCAATAGACACTGATATAAAAATATTAGGGGCAAGTTCAGACCACATGATACTAGATGTAAGTAACACAAAATATGATTATAAATTAGGTGACAATTTAGAATTTTTATTAACTTATGGGGGTATCATGTCATCTAGTACGAGCAAATATGTTGCAAAAAAAATTATAGTGTAG'\n",
    "gene.annotation['patric'] = 'fig|272563.8.peg.472'\n",
    "gene.annotation['refseq'] = 'WP_011860813.1'\n",
    "gene.annotation['refseq.locustag'] = 'NC_009089.1'\n",
    "\n",
    "cpd00064_c = iCdG698.metabolites.cpd00064_c # ornithine\n",
    "cpd00023_c = iCdG698.metabolites.cpd00023_c # glutamate\n",
    "cpd00035_c = iCdG698.metabolites.cpd00035_c # alanine     \n",
    "cpd00129_c = iCdG698.metabolites.cpd00129_c # proline\n",
    "cpd00013_c = iCdG698.metabolites.cpd00013_c # Ammonia\n",
    "\n",
    "# glutamate\n",
    "rxn00467_c = cobra.Reaction('rxn00467_c')\n",
    "rxn00467_c.name = 'Ornithine racemase'\n",
    "rxn00467_c.lower_bound = -1000.\n",
    "rxn00467_c.upper_bound = 1000.\n",
    "rxn00467_c.add_metabolites({\n",
    "    cpd00064_c: -1.0,\n",
    "    cpd00013_c: 1.0,\n",
    "    cpd00023_c: 1.0\n",
    "})\n",
    "rxn00467_c.annotation['seed.reaction'] = 'rxn00467'\n",
    "rxn00467_c.annotation['kegg.reaction'] = 'R00667'\n",
    "\n",
    "# alanine\n",
    "rxn38907_c = cobra.Reaction('rxn38907_c')\n",
    "rxn38907_c.name = 'Ornithine racemase'\n",
    "rxn38907_c.lower_bound = -1000.\n",
    "rxn38907_c.upper_bound = 1000.\n",
    "rxn38907_c.add_metabolites({\n",
    "    cpd00064_c: -1.0,\n",
    "    cpd00013_c: 1.0,\n",
    "    cpd00035_c: 1.0\n",
    "})\n",
    "rxn38907_c.annotation['seed.reaction'] = 'rxn38907'\n",
    "\n",
    "# proline\n",
    "rxn00471_c = cobra.Reaction('rxn00471_c')\n",
    "rxn00471_c.name = 'Ornithine racemase'\n",
    "rxn00471_c.lower_bound = -1000.\n",
    "rxn00471_c.upper_bound = 1000.\n",
    "rxn00471_c.add_metabolites({\n",
    "    cpd00064_c: -1.0,\n",
    "    cpd00013_c: 1.0,\n",
    "    cpd00129_c: 1.0\n",
    "})\n",
    "rxn00471_c.annotation['seed.reaction'] = 'rxn00471'\n",
    "rxn00471_c.annotation['kegg.reaction'] = 'R00671'\n",
    "\n",
    "rxn00467_c.gene_reaction_rule = '272563.8.peg.472'\n",
    "rxn38907_c.gene_reaction_rule = '272563.8.peg.472'\n",
    "rxn00471_c.gene_reaction_rule = '272563.8.peg.472'\n",
    "iCdG698.add_reactions([rxn38907_c, rxn00471_c])"
   ]
  },
  {
   "cell_type": "code",
   "execution_count": 59,
   "metadata": {},
   "outputs": [
    {
     "name": "stdout",
     "output_type": "stream",
     "text": [
      "Doubling time in \"in vivo\" media: 32.02 minutes\n"
     ]
    }
   ],
   "source": [
    "doubling = round((1.0 / iCdG698.slim_optimize()) * 3200.0, 2)\n",
    "print('Doubling time in \\\"in vivo\\\" media:',doubling,'minutes')"
   ]
  },
  {
   "cell_type": "markdown",
   "metadata": {},
   "source": [
    "### RIPTiDe *in vivo* Contextualization"
   ]
  },
  {
   "cell_type": "code",
   "execution_count": 4,
   "metadata": {},
   "outputs": [],
   "source": [
    "# Read in in vivo C. difficile transcription\n",
    "low_spores = riptide.read_transcription_file('/home/mjenior/Desktop/repos/Jenior_Cdifficile_2019/data/transcript/jenior_etal/cefoperazone.format.tsv', \n",
    "                                               header=True)\n",
    "high_spores = riptide.read_transcription_file('/home/mjenior/Desktop/repos/Jenior_Cdifficile_2019/data/transcript/jenior_etal/clindamycin.format.tsv', \n",
    "                                              header=True)"
   ]
  },
  {
   "cell_type": "code",
   "execution_count": 60,
   "metadata": {},
   "outputs": [
    {
     "name": "stdout",
     "output_type": "stream",
     "text": [
      "\n",
      "Running max fit RIPTiDe for objective fraction range: 0.65 to 0.85 with intervals of 0.02 \n",
      "\n",
      "Testing minimum objective fractions...\n",
      "Fraction = 0.65 | Rho = 0.11389321351491406 ; p = 0.047247396634634814\n",
      "Fraction = 0.67 | Rho = 0.1257728931189911 ; p = 0.027560474740128522\n",
      "Fraction = 0.69 | Rho = 0.12951307460348613 ; p = 0.023008960876418297\n",
      "Fraction = 0.71 | Rho = 0.14418215324186795 ; p = 0.011297862304602932\n",
      "Fraction = 0.73 | Rho = 0.14605181890202204 ; p = 0.01027147167504856\n",
      "Fraction = 0.75 | Rho = 0.1491570863755467 ; p = 0.008748360015177878\n",
      "Fraction = 0.77 | Rho = 0.1385596943351889 ; p = 0.014625259519974395\n",
      "Fraction = 0.79 | Rho = 0.13545240028595723 ; p = 0.01720134659550954\n",
      "Fraction = 0.81 | Rho = 0.15077577543158696 ; p = 0.007537464105512461\n",
      "Fraction = 0.83 | Rho = 0.10298239305141202 ; p = 0.06664114868251754\n",
      "Fraction = 0.85 | Rho = 0.13276881858766273 ; p = 0.018028970122787726\n",
      "Testing local objective fractions to 0.81...\n",
      "Fraction = 0.8 | Rho = 0.14337805808311346 ; p = 0.011629513394292619\n",
      "Fraction = 0.82 | Rho = 0.1239626899570024 ; p = 0.027077511181991778\n",
      "\n",
      "Context-specific metabolism fit with 0.81 of optimal objective flux\n",
      "\n",
      "Max fit RIPTiDe completed in 4 minutes and 14 seconds \n",
      "\n"
     ]
    }
   ],
   "source": [
    "low_spores_riptide = riptide.maxfit_contextualize(model=iCdG698, transcriptome=low_spores)"
   ]
  },
  {
   "cell_type": "code",
   "execution_count": 61,
   "metadata": {},
   "outputs": [
    {
     "name": "stdout",
     "output_type": "stream",
     "text": [
      "\n",
      "Running max fit RIPTiDe for objective fraction range: 0.65 to 0.85 with intervals of 0.02 \n",
      "\n",
      "Testing minimum objective fractions...\n",
      "Fraction = 0.65 | Rho = 0.1861743211348394 ; p = 0.000934417286631449\n",
      "Fraction = 0.67 | Rho = 0.1842227242448821 ; p = 0.0010593882464592379\n",
      "Fraction = 0.69 | Rho = 0.1719825075731783 ; p = 0.0022634780533937492\n",
      "Fraction = 0.71 | Rho = 0.1833575076219473 ; p = 0.0010990573235524885\n",
      "Fraction = 0.73 | Rho = 0.18462834890607663 ; p = 0.0010130526022943819\n",
      "Fraction = 0.75 | Rho = 0.14288068032693088 ; p = 0.01061771562689127\n",
      "Fraction = 0.77 | Rho = 0.14801893058325025 ; p = 0.008723421546533001\n",
      "Fraction = 0.79 | Rho = 0.12174472290907586 ; p = 0.0302266578021788\n",
      "Fraction = 0.81 | Rho = 0.11740098226826566 ; p = 0.03638875232923432\n",
      "Fraction = 0.83 | Rho = 0.18803405059221917 ; p = 0.0007371677546031953\n",
      "Fraction = 0.85 | Rho = 0.1760671510757614 ; p = 0.0015669134152674423\n",
      "Testing local objective fractions to 0.83...\n",
      "Fraction = 0.82 | Rho = 0.11809753490439436 ; p = 0.03471039440698378\n",
      "Fraction = 0.84 | Rho = 0.17900513524470715 ; p = 0.001324795806553341\n",
      "\n",
      "Context-specific metabolism fit with 0.83 of optimal objective flux\n",
      "\n",
      "Max fit RIPTiDe completed in 4 minutes and 35 seconds \n",
      "\n"
     ]
    }
   ],
   "source": [
    "high_spores_riptide = riptide.maxfit_contextualize(model=iCdG698, transcriptome=high_spores)"
   ]
  },
  {
   "cell_type": "code",
   "execution_count": 44,
   "metadata": {},
   "outputs": [
    {
     "name": "stdout",
     "output_type": "stream",
     "text": [
      "WARNING: Output path already exists, overwriting previous files\n",
      "WARNING: Output path already exists, overwriting previous files\n"
     ]
    }
   ],
   "source": [
    "# Write results to files\n",
    "riptide.save_output(riptide_obj=low_spores_riptide, path='/home/mjenior/Desktop/repos/Jenior_Cdifficile_2019/data/contextualized_iCdG698/riptide_low_spore')\n",
    "riptide.save_output(riptide_obj=high_spores_riptide, path='/home/mjenior/Desktop/repos/Jenior_Cdifficile_2019/data/contextualized_iCdG698/riptide_high_spore')"
   ]
  },
  {
   "cell_type": "code",
   "execution_count": 12,
   "metadata": {},
   "outputs": [
    {
     "name": "stdout",
     "output_type": "stream",
     "text": [
      "WARNING: Output path already exists, overwriting previous files\n",
      "WARNING: Output path already exists, overwriting previous files\n"
     ]
    }
   ],
   "source": [
    "import scipy\n",
    "\n",
    "# Save median optimal fluxes\n",
    "outFile = '/home/mjenior/Desktop/repos/Jenior_Cdifficile_2019/data/contextualized_iCdG698/riptide_low_spore/med_opt_flux.tsv'\n",
    "with open(outFile, 'w') as tsv:\n",
    "    tsv.write('Exchange reaction ID\\tSubstrate\\tMedian optimal flux\\tsignificance\\n')\n",
    "    for exch in low_spores_riptide.model.exchanges:\n",
    "        flux = numpy.median(low_spores_riptide.flux_samples[exch.id])\n",
    "        try:\n",
    "            pval = round(scipy.stats.wilcoxon(x=list(low_spores_riptide.flux_samples[exch.id]), y=list(high_spores_riptide.flux_samples[exch.id]))[1], 3)\n",
    "        except:\n",
    "            pval = 'NA'\n",
    "        if pval != 'NA':\n",
    "            if pval <= 0.05:\n",
    "                pval = 'n.s.'\n",
    "            else:\n",
    "                pval = '*'\n",
    "        substrate = list(exch.reactants)[0].name\n",
    "        entry = exch.id + '\\t' + substrate + '\\t' + str(flux) + '\\t' + pval + '\\n'\n",
    "        tsv.write(entry)\n",
    "\n",
    "outFile = '/home/mjenior/Desktop/repos/Jenior_Cdifficile_2019/data/contextualized_iCdG698/riptide_high_spore/med_opt_flux.tsv'\n",
    "with open(outFile, 'w') as tsv:\n",
    "    tsv.write('Exchange reaction ID\\tSubstrate\\tMedian optimal flux\\tsignificance\\n')\n",
    "    for exch in high_spores_riptide.model.exchanges:\n",
    "        flux = numpy.median(high_spores_riptide.flux_samples[exch.id])\n",
    "        try:\n",
    "            pval = round(scipy.stats.wilcoxon(x=list(low_spores_riptide.flux_samples[exch.id]), y=list(high_spores_riptide.flux_samples[exch.id]))[1], 3)\n",
    "        except:\n",
    "            pval = 'NA'\n",
    "        if pval != 'NA':\n",
    "            if pval <= 0.05:\n",
    "                pval = 'n.s.'\n",
    "            else:\n",
    "                pval = '*'\n",
    "        substrate = list(exch.reactants)[0].name\n",
    "        entry = exch.id + '\\t' + substrate + '\\t' + str(flux) + '\\t' + pval + '\\n'\n",
    "        tsv.write(entry)"
   ]
  },
  {
   "cell_type": "markdown",
   "metadata": {},
   "source": [
    "### Growth Rate"
   ]
  },
  {
   "cell_type": "code",
   "execution_count": 62,
   "metadata": {},
   "outputs": [
    {
     "name": "stdout",
     "output_type": "stream",
     "text": [
      "Low spores doubling time: 38.39 minutes\n",
      "High spores doubling time: 36.98 minutes\n",
      "p-value 0.028\n"
     ]
    }
   ],
   "source": [
    "from random import sample\n",
    "import scipy\n",
    "\n",
    "doubling = round((1.0 / low_spores_riptide.model.slim_optimize()) * 3200.0, 2)\n",
    "print('Low spores doubling time: ' + str(doubling) + ' minutes')\n",
    "\n",
    "doubling = round((1.0 / high_spores_riptide.model.slim_optimize()) * 3200.0, 2)\n",
    "print('High spores doubling time: ' + str(doubling) + ' minutes')\n",
    "\n",
    "pvals = []\n",
    "maxRange = len(list(low_spores_riptide.flux_samples['biomass'])) * 10\n",
    "for x in range(1, maxRange):\n",
    "        low_spores_sample = sample(list(low_spores_riptide.flux_samples['biomass']), 10)\n",
    "        high_spores_sample = sample(list(high_spores_riptide.flux_samples['biomass']), 10)\n",
    "        pvals.append(scipy.stats.wilcoxon(x=low_spores_sample, y=high_spores_sample)[1])\n",
    "print('p-value', round(numpy.median(pvals),3))"
   ]
  },
  {
   "cell_type": "markdown",
   "metadata": {},
   "source": [
    "### Context-specific Gene Essentiality"
   ]
  },
  {
   "cell_type": "code",
   "execution_count": 63,
   "metadata": {},
   "outputs": [],
   "source": [
    "import copy\n",
    "from cobra.flux_analysis.variability import find_essential_genes\n",
    "\n",
    "def essential_genes(genre, media=None, optimum_fraction=0.01):\n",
    "    model = copy.deepcopy(genre)\n",
    "    \n",
    "    # Change media conditions if necessary\n",
    "    if media is not None:\n",
    "        exchanges = ['EX_' + x for x in media]\n",
    "        for rxn in model.reactions:\n",
    "            if len(list(rxn.products)) == 0:\n",
    "                if rxn.id in exchanges:\n",
    "                    model.reactions.get_by_id(rxn.id).lower_bound = max([-1000.0,model.reactions.get_by_id(rxn.id).lower_bound])\n",
    "                else:\n",
    "                    model.reactions.get_by_id(rxn.id).lower_bound = 0.0\n",
    "    \n",
    "    # Find essential genes\n",
    "    essential_genes = find_essential_genes(model, threshold=optimum_fraction)\n",
    "    \n",
    "    return essential_genes\n",
    "                "
   ]
  },
  {
   "cell_type": "code",
   "execution_count": 64,
   "metadata": {},
   "outputs": [
    {
     "name": "stdout",
     "output_type": "stream",
     "text": [
      "Uncontextualized essential genes: 74\n"
     ]
    }
   ],
   "source": [
    "# Unconstrained base model\n",
    "base_essential = essential_genes(iCdG698)\n",
    "base_essential_genes = set([x.id for x in base_essential])\n",
    "print('Uncontextualized essential genes: ' + str(len(base_essential_genes)))"
   ]
  },
  {
   "cell_type": "code",
   "execution_count": 65,
   "metadata": {},
   "outputs": [
    {
     "name": "stdout",
     "output_type": "stream",
     "text": [
      "Low spores essential genes: 35\n"
     ]
    }
   ],
   "source": [
    "low_spores_essential_genes = essential_genes(low_spores_riptide.model)\n",
    "low_spores_essential_genes = set([x.id for x in low_spores_essential_genes]).difference(base_essential_genes)\n",
    "print('Low spores essential genes: ' + str(len(low_spores_essential_genes)))"
   ]
  },
  {
   "cell_type": "code",
   "execution_count": 66,
   "metadata": {},
   "outputs": [
    {
     "name": "stdout",
     "output_type": "stream",
     "text": [
      "High spores essential genes: 44\n"
     ]
    }
   ],
   "source": [
    "high_spores_essential_genes = essential_genes(high_spores_riptide.model)\n",
    "high_spores_essential_genes = set([x.id for x in high_spores_essential_genes]).difference(base_essential_genes)\n",
    "print('High spores essential genes: ' + str(len(high_spores_essential_genes)))"
   ]
  },
  {
   "cell_type": "code",
   "execution_count": 67,
   "metadata": {},
   "outputs": [
    {
     "name": "stdout",
     "output_type": "stream",
     "text": [
      "in vivo shared:  34\n"
     ]
    }
   ],
   "source": [
    "invivo_essential_genes = low_spores_essential_genes.intersection(high_spores_essential_genes)\n",
    "print('in vivo shared: ', len(invivo_essential_genes))"
   ]
  },
  {
   "cell_type": "code",
   "execution_count": 95,
   "metadata": {},
   "outputs": [
    {
     "name": "stdout",
     "output_type": "stream",
     "text": [
      "Low spores only: 1\n",
      "Formate--tetrahydrofolate ligase (EC 6.3.4.3)\n",
      "\n",
      "High spores only: 10\n",
      "4-hydroxybutyrate:acetyl-CoA CoA transferase (EC 2.3.1.-)\n",
      "4-hydroxyphenylacetate decarboxylase activating enzyme | hpdA\n",
      "Acetate kinase (EC 2.7.2.1)\n",
      "methylenetetrahydrofolate dehydrogenase (NADP+) (EC 1.5.1.5)\n",
      "Deoxyribose-phosphate aldolase (EC 4.1.2.4)\n",
      "N-acetylgalactosamine-6-phosphate deacetylase | nagA\n",
      "Glycine reductase component B beta subunit (EC 1.21.4.2) / Glycine reductase component B alpha subunit (EC 1.21.4.2) | grdE\n",
      "alanine transaminase (EC 2.6.1.2)\n",
      "Glutamate synthase [NADPH] large chain (EC 1.4.1.13)\n",
      "Pyrroline-5-carboxylate reductase (EC 1.5.1.2)\n"
     ]
    }
   ],
   "source": [
    "low_spores_only_essential_genes = low_spores_essential_genes.difference(high_spores_essential_genes)\n",
    "high_spores_only_essential_genes = high_spores_essential_genes.difference(low_spores_essential_genes)\n",
    "\n",
    "print('Low spores only:',len(low_spores_only_essential_genes))\n",
    "for gene in low_spores_only_essential_genes:\n",
    "    print(iCdG698.genes.get_by_id(gene).name)\n",
    "    \n",
    "print('\\nHigh spores only:',len(high_spores_only_essential_genes))\n",
    "for gene in high_spores_only_essential_genes:\n",
    "    print(iCdG698.genes.get_by_id(gene).name)"
   ]
  },
  {
   "cell_type": "code",
   "execution_count": 69,
   "metadata": {},
   "outputs": [],
   "source": [
    "# Save results to a table\n",
    "with open('/home/mjenior/Desktop/repos/Jenior_Cdifficile_2019/results/invivo_essentiality.tsv','w') as outfile:\n",
    "    entry = 'base\\t' + '\\t'.join([str(x.id) for x in base_essential]) + '\\n'\n",
    "    outfile.write(entry)\n",
    "    entry = 'in_vivo\\t' + '\\t'.join(invivo_essential_genes) + '\\n'\n",
    "    outfile.write(entry)\n",
    "    entry = 'low_sporulation\\t' + '\\t'.join(low_spores_only_essential_genes) + '\\n'\n",
    "    outfile.write(entry)\n",
    "    entry = 'high_sporulation\\t' + '\\t'.join(high_spores_only_essential_genes) + '\\n'\n",
    "    outfile.write(entry)\n"
   ]
  },
  {
   "cell_type": "markdown",
   "metadata": {},
   "source": [
    "### Context-specific Substrate Importance"
   ]
  },
  {
   "cell_type": "code",
   "execution_count": 70,
   "metadata": {},
   "outputs": [],
   "source": [
    "# Essential substrates\n",
    "\n",
    "import pandas\n",
    "from cobra.medium import minimal_medium\n",
    "\n",
    "# Non-exhaustive\n",
    "def find_essential_metabolites(model, fraction=0.01):\n",
    "\n",
    "    min_growth = model.slim_optimize() * fraction\n",
    "    ser = minimal_medium(model, min_objective_value=min_growth, minimize_components=True)\n",
    "\n",
    "    rxns = list(ser.index)\n",
    "    fluxes = list(ser.values)\n",
    "    cpds = []\n",
    "    for x in rxns: cpds.append(model.reactions.get_by_id(x).reactants[0].name)        \n",
    "    \n",
    "    media = {'Reaction': rxns, 'Substrate': cpds, 'Units': fluxes}    \n",
    "    media = pandas.DataFrame(media)\n",
    "    print('Minimal media components: ' + str(len(media.index)))\n",
    "    \n",
    "    return(media)\n"
   ]
  },
  {
   "cell_type": "code",
   "execution_count": 71,
   "metadata": {},
   "outputs": [
    {
     "name": "stdout",
     "output_type": "stream",
     "text": [
      "Minimal media components: 38\n"
     ]
    }
   ],
   "source": [
    "low_spores_min_media = find_essential_metabolites(low_spores_riptide.model)"
   ]
  },
  {
   "cell_type": "code",
   "execution_count": 72,
   "metadata": {},
   "outputs": [
    {
     "name": "stdout",
     "output_type": "stream",
     "text": [
      "Minimal media components: 40\n"
     ]
    }
   ],
   "source": [
    "high_spores_min_media = find_essential_metabolites(high_spores_riptide.model)"
   ]
  },
  {
   "cell_type": "code",
   "execution_count": 73,
   "metadata": {},
   "outputs": [
    {
     "name": "stdout",
     "output_type": "stream",
     "text": [
      "Shared: 37\n",
      "\n",
      "Low spores only: 1\n",
      "High spores only: 3\n"
     ]
    }
   ],
   "source": [
    "low_spores_substrates = set(low_spores_min_media['Substrate'])\n",
    "high_spores_substrates = set(high_spores_min_media['Substrate'])\n",
    "\n",
    "shared_substrates = low_spores_substrates.intersection(high_spores_substrates)\n",
    "low_spores_only_substrates = low_spores_substrates.difference(high_spores_substrates)\n",
    "high_spores_only_substrates = high_spores_substrates.difference(low_spores_substrates)\n",
    "\n",
    "print('Shared: ' + str(len(shared_substrates)) + '\\n')\n",
    "print('Low spores only: ' + str(len(low_spores_only_substrates)))\n",
    "print('High spores only: ' + str(len(high_spores_only_substrates)))"
   ]
  },
  {
   "cell_type": "code",
   "execution_count": 74,
   "metadata": {},
   "outputs": [
    {
     "name": "stdout",
     "output_type": "stream",
     "text": [
      "Shared components:\n",
      "L-Serine\n",
      "Ca2+\n",
      "L-Tryptophan\n",
      "Pantothenate\n",
      "Riboflavin\n",
      "D-Proline\n",
      "L-Isoleucine\n",
      "Deoxyuridine\n",
      "Pyridoxol\n",
      "L-Methionine\n",
      "L-Phenylalanine\n",
      "Mg\n",
      "L-Aspartate\n",
      "D-Glutamate\n",
      "L-Histidine\n",
      "K+\n",
      "L-Cysteine\n",
      "L-Alanine\n",
      "Na+\n",
      "L-Tyrosine\n",
      "L-Arginine\n",
      "L-Valine\n",
      "L-Asparagine\n",
      "Nicotinamide\n",
      "L-Threonine\n",
      "D-Alanine\n",
      "Biotin\n",
      "L-Lysine\n",
      "L-Leucine\n",
      "Deoxycytidine\n",
      "Phosphate\n",
      "Fe2+\n",
      "Cl-\n",
      "N-Acetyl-Neuraminic acid\n",
      "Co2+\n",
      "Mn2+\n",
      "Folate\n",
      "\n",
      "High spores only:\n",
      "Inosine\n"
     ]
    }
   ],
   "source": [
    "print('Shared components:')\n",
    "for x in shared_substrates: print(x)\n",
    "print('\\nHigh spores only:')\n",
    "print(list(high_spores_only_substrates)[0])\n"
   ]
  },
  {
   "cell_type": "code",
   "execution_count": 75,
   "metadata": {},
   "outputs": [],
   "source": [
    "import numpy\n",
    "import cobra\n",
    "import cobra.flux_analysis\n",
    "\n",
    "def _getKey(item):\n",
    "    return item[1]\n",
    "\n",
    "# Scale each active exchange back and examine its influence on objective flux\n",
    "def find_primary_sources(model, flux_samples=False, fraction=0.01, cutoff=0.8, pfba_fraction=0.8):\n",
    "    # Requires a model \n",
    "    # Optional: flux_samples = flux samples pandas dataframe associated with model\n",
    "    #           fraction = percent of median flux to limit exchange reactions by\n",
    "    #           cutoff = quantile of top C and N sources to report\n",
    "    #           pfba_fraction = fraction of optimal objective value for pfba solution\n",
    "\n",
    "    sources = {}\n",
    "    c_sources = []\n",
    "    c_influence = []\n",
    "    n_sources = []\n",
    "    n_influence = []\n",
    "    p_source = ['p_source', -1.0]\n",
    "    s_source = ['s_source', -1.0]\n",
    "    objVal = model.slim_optimize()\n",
    "    pfba_solution = cobra.flux_analysis.pfba(model, fraction_of_optimum=pfba_fraction)\n",
    "    \n",
    "    # Parse exchange flux samples for imported metabolites\n",
    "    exchanges = [rxn.id for rxn in model.boundary]\n",
    "    for rxn in exchanges:\n",
    "        if isinstance(flux_samples, pandas.DataFrame):\n",
    "            current_samples = list(set(flux_samples[rxn]))\n",
    "            flux = numpy.mean(current_samples)\n",
    "        else:\n",
    "            flux = pfba_solution.fluxes[rxn]\n",
    "        if flux >= -1e-6: continue # Skip exported byproducts or unused reactions\n",
    "        bound = flux * fraction\n",
    "        \n",
    "        # Test for disproportionate effect on objective\n",
    "        old_bounds = model.reactions.get_by_id(rxn).bounds\n",
    "        model.reactions.get_by_id(rxn).bounds = (bound, bound)        \n",
    "        new_objVal = model.slim_optimize()\n",
    "        model.reactions.get_by_id(rxn).bounds = old_bounds # Reset bounds\n",
    "        if str(new_objVal) == 'nan': new_objVal = objVal * fraction # Correct for nan\n",
    "        \n",
    "        # Calculate the degree of change to objective value\n",
    "        if new_objVal != objVal:\n",
    "            flux_ratio = objVal / new_objVal\n",
    "            adjustment = abs(flux) * flux_ratio\n",
    "        else:\n",
    "            adjustment = 1.\n",
    "        \n",
    "        # Normalize elemental component contributions\n",
    "        metabolite = model.reactions.get_by_id(rxn).reactants[0]\n",
    "        sources[metabolite.id] = {}\n",
    "        for element in metabolite.elements.keys():\n",
    "            element_supply = float(metabolite.elements[element]) * adjustment\n",
    "            if element_supply > 0.: element_supply = numpy.log(element_supply)\n",
    "            sources[metabolite.id][element] = element_supply\n",
    "                \n",
    "            # Identify largest sources of main elements\n",
    "            if element == 'C' and element_supply > 0.0:\n",
    "                c_sources.append([metabolite.id, element_supply])\n",
    "                c_influence.append(element_supply)\n",
    "            elif element == 'N' and element_supply > 0.0:\n",
    "                n_sources.append([metabolite.id, element_supply])\n",
    "                n_influence.append(element_supply)\n",
    "            elif element == 'P' and element_supply > 0.0:\n",
    "                p_source = [metabolite.id, element_supply]\n",
    "            elif element == 'S' and element_supply > 0.0:\n",
    "                s_source = [metabolite.id, element_supply]\n",
    "    \n",
    "    # Rank by largest contributions\n",
    "    c_sources = sorted(c_sources, reverse=True, key=_getKey)\n",
    "    n_sources = sorted(n_sources, reverse=True, key=_getKey)\n",
    "    \n",
    "    print('Top carbon sources:')\n",
    "    current = max(c_influence)\n",
    "    x = 0\n",
    "    while current >= numpy.quantile(c_influence, cutoff):\n",
    "        print(model.metabolites.get_by_id(c_sources[x][0]).name + ' (' + str(round(c_sources[x][1],3)) + ')')\n",
    "        current = c_sources[x][1]\n",
    "        x += 1\n",
    "        \n",
    "    print('\\nTop nitrogen sources:')\n",
    "    current = max(n_influence)\n",
    "    x = 0\n",
    "    while current >= numpy.quantile(n_influence, cutoff):\n",
    "        print(model.metabolites.get_by_id(n_sources[x][0]).name + ' (' + str(round(n_sources[x][1],3)) + ')')\n",
    "        current = n_sources[x][1]\n",
    "        x += 1\n",
    "        \n",
    "    print('\\nPrimary phosphorous source:')\n",
    "    print(model.metabolites.get_by_id(p_source[0]).name + ' (' + str(round(p_source[1],3)) + ')')\n",
    "    \n",
    "    print('\\nPrimary sulfur source:')\n",
    "    print(model.metabolites.get_by_id(s_source[0]).name + ' (' + str(round(s_source[1],3)) + ')')\n",
    "    \n",
    "    return sources\n"
   ]
  },
  {
   "cell_type": "code",
   "execution_count": 76,
   "metadata": {},
   "outputs": [
    {
     "name": "stdout",
     "output_type": "stream",
     "text": [
      "Top carbon sources:\n",
      "N-Acetyl-Neuraminic acid (13.249)\n",
      "L-Isoleucine (12.954)\n",
      "Deoxyuridine (12.365)\n",
      "L-Tyrosine (11.959)\n",
      "L-Serine (11.513)\n",
      "D-Alanine (10.038)\n",
      "D-Glutamate (9.989)\n",
      "\n",
      "Top nitrogen sources:\n",
      "L-Isoleucine (11.163)\n",
      "Deoxyuridine (10.861)\n",
      "N-Acetyl-Neuraminic acid (10.851)\n",
      "L-Serine (10.414)\n",
      "L-Tyrosine (9.762)\n",
      "D-Alanine (8.939)\n",
      "L-Lysine (8.856)\n",
      "\n",
      "Primary phosphorous source:\n",
      "Phosphate (8.317)\n",
      "\n",
      "Primary sulfur source:\n",
      "L-Cysteine (5.275)\n"
     ]
    }
   ],
   "source": [
    "low_spores_sources = find_primary_sources(low_spores_riptide.model, flux_samples=low_spores_riptide.flux_samples)"
   ]
  },
  {
   "cell_type": "code",
   "execution_count": 77,
   "metadata": {},
   "outputs": [
    {
     "name": "stdout",
     "output_type": "stream",
     "text": [
      "Top carbon sources:\n",
      "Deoxyguanosine (13.266)\n",
      "L-Isoleucine (13.085)\n",
      "Deoxyuridine (12.431)\n",
      "N-Acetyl-Neuraminic acid (12.391)\n",
      "L-Tyrosine (12.273)\n",
      "D-Proline (12.262)\n",
      "L-Serine (11.709)\n",
      "L-Leucine (10.7)\n",
      "\n",
      "Top nitrogen sources:\n",
      "Deoxyguanosine (12.573)\n",
      "L-Isoleucine (11.293)\n",
      "Deoxyuridine (10.927)\n",
      "D-Proline (10.653)\n",
      "L-Serine (10.61)\n",
      "L-Tyrosine (10.076)\n",
      "N-Acetyl-Neuraminic acid (9.994)\n",
      "D-Alanine (9.004)\n",
      "\n",
      "Primary phosphorous source:\n",
      "Phosphate (8.399)\n",
      "\n",
      "Primary sulfur source:\n",
      "L-Cysteine (5.34)\n"
     ]
    }
   ],
   "source": [
    "high_spores_sources = find_primary_sources(high_spores_riptide.model, flux_samples=high_spores_riptide.flux_samples)"
   ]
  },
  {
   "cell_type": "markdown",
   "metadata": {},
   "source": [
    "###  Context-specific Topological Differences"
   ]
  },
  {
   "cell_type": "code",
   "execution_count": 78,
   "metadata": {},
   "outputs": [
    {
     "name": "stdout",
     "output_type": "stream",
     "text": [
      "Shared: 300\n",
      "\n",
      "Low spores only: 13\n",
      "Medium spores only: 19\n"
     ]
    }
   ],
   "source": [
    "# Shared topology - reactions\n",
    "low_spores_rxns = set([x.id for x in low_spores_riptide.model.reactions])\n",
    "high_spores_rxns = set([x.id for x in high_spores_riptide.model.reactions])\n",
    "\n",
    "shared_rxns = low_spores_rxns.intersection(high_spores_rxns)\n",
    "low_spores_only_rxns = low_spores_rxns.difference(high_spores_rxns)\n",
    "high_spores_only_rxns = high_spores_rxns.difference(low_spores_rxns)\n",
    "\n",
    "print('Shared: ' + str(len(shared_rxns)) + '\\n')\n",
    "print('Low spores only: ' + str(len(low_spores_only_rxns)))\n",
    "print('Medium spores only: ' + str(len(high_spores_only_rxns)))"
   ]
  },
  {
   "cell_type": "code",
   "execution_count": 79,
   "metadata": {},
   "outputs": [
    {
     "name": "stdout",
     "output_type": "stream",
     "text": [
      "Low spores only:\n",
      "rxn05318_c\tAdenosine hydrogen symport\n",
      "rxn01952_c\tN-Acetylmannosamine phosphotransferase\n",
      "rxn01506_c\tN-Acetyl-D-glucosamine 6-phosphate 2-epimerase\n",
      "EX_cpd00023_e\tL-Glutamate exchange\n",
      "rxn00690_c\tFormate:tetrahydrofolate ligase (ADP-forming)\n",
      "rxn05298_c\tNa+/glutamate symport\n",
      "EX_cpd00182_e\tAdenosine exchange\n",
      "EX_cpd00492_e\tN-Acetyl-D-mannosamine exchange\n",
      "rxn05559_c\tformate transport in via proton symport\n",
      "rxn05486_c\tN-Acetylmannosamine H+ symporter\n",
      "rxn03004_c\t10-Formyltetrahydrofolate:5'-phosphoribosylglycinamide formyltransferase\n",
      "rxn30075_c\tGlutamate dehydrogenase (NAD)\n",
      "EX_cpd00047_e\tFormate exchange\n",
      "\n",
      "High spores only:\n",
      "rxn03005_c\tN2-Formyl-N1-(5-phospho-D-ribosyl)glycinamide formyltransferase\n",
      "rxn00907_c\t5,10-methylenetetrahydrofolate:NADP+ oxidoreductase\n",
      "EX_cpd05178_e\tIsovalerate exchange\n",
      "rxn14152_c\t4-methyl-2-oxopentanoate oxidoreductase\n",
      "R01174_1_c\tPhosphate butyryltransferase\n",
      "rxn05201_c\tHypoxanthine hydrogen symport\n",
      "ID001_c\tIsovalerate diffusion\n",
      "EX_cpd00226_e\tHypoxanthine exchange\n",
      "rxn01347_c\tUTP:Sedoheptulose 7-phosphate 1-phosphotransferase\n",
      "EX_cpd00438_e\tDeoxyadenosine exchange\n",
      "rxn05317_c\tTransport of deoxyadenosine, extracellular\n",
      "rxn01358_c\tinosine:phosphate alpha-D-ribosyltransferase\n",
      "EX_cpd00246_e\tInosine exchange\n",
      "rxn00804_c\tLeucine aminotransferase\n",
      "rxn01859_c\tDeoxyadenosine:orthophosphate ribosyltransferase\n",
      "rxn00412_c\tUTP:L-glutamine amido-ligase (ADP-forming)\n",
      "rxn05316_c\tInosine transport in via proton symport\n",
      "rxn05938_c\tpyruvate ferredoxin oxidoreductase\n",
      "rxn00182_c\tL-glutamate:NAD+ oxidoreductase (deaminating)\n"
     ]
    }
   ],
   "source": [
    "print('Low spores only:')\n",
    "for x in low_spores_only_rxns:\n",
    "    print(x + '\\t' + iCdG698.reactions.get_by_id(x).name)\n",
    "\n",
    "print('\\nHigh spores only:')\n",
    "for y in high_spores_only_rxns:\n",
    "    print(y + '\\t' + iCdG698.reactions.get_by_id(y).name)"
   ]
  },
  {
   "cell_type": "code",
   "execution_count": 80,
   "metadata": {},
   "outputs": [
    {
     "name": "stdout",
     "output_type": "stream",
     "text": [
      "Shared: 306\n",
      "\n",
      "Low spores only: 6\n",
      "cpd00047_e\tFormate\n",
      "cpd00182_e\tAdenosine\n",
      "cpd02612_c\tN-Acetylmannosamine 6-phosphate\n",
      "cpd00492_e\tN-Acetyl-D-mannosamine\n",
      "cpd00201_c\t10-Formyltetrahydrofolate\n",
      "cpd00023_e\tL-Glutamate\n",
      "\n",
      "High spores only: 13\n",
      "cpd00200_c\t2-Oxoisocaproate\n",
      "cpd00438_e\tDeoxyadenosine\n",
      "cpd00438_c\tDeoxyadenosine\n",
      "cpd05178_e\tIsovalerate\n",
      "cpd00347_c\t5-10-Methenyltetrahydrofolate\n",
      "cpd00226_e\tHypoxanthine\n",
      "cpd11620_c\tReducedferredoxin\n",
      "cpd00246_e\tInosine\n",
      "cpd01882_c\tIsovaleryl-CoA\n",
      "cpd05178_c\tIsovalerate\n",
      "cpd00246_c\tInosine\n",
      "cpd00226_c\tHypoxanthine\n",
      "cpd11621_c\tOxidizedferredoxin\n"
     ]
    }
   ],
   "source": [
    "# Shared topology - metabolites\n",
    "low_spores_cpds = set([x.id for x in low_spores_riptide.model.metabolites])\n",
    "high_spores_cpds = set([x.id for x in high_spores_riptide.model.metabolites])\n",
    "\n",
    "shared_cpds = low_spores_cpds.intersection(high_spores_cpds)\n",
    "low_spores_only_cpds = low_spores_cpds.difference(high_spores_cpds)\n",
    "high_spores_only_cpds = high_spores_cpds.difference(low_spores_cpds)\n",
    "\n",
    "print('Shared:',len(shared_cpds))\n",
    "\n",
    "print('\\nLow spores only:',len(low_spores_only_cpds))\n",
    "for x in low_spores_only_cpds:\n",
    "    print(x + '\\t' + iCdG698.metabolites.get_by_id(x).name)\n",
    "\n",
    "\n",
    "print('\\nHigh spores only:',len(high_spores_only_cpds))\n",
    "for y in high_spores_only_cpds:\n",
    "    print(y + '\\t' + iCdG698.metabolites.get_by_id(y).name)\n"
   ]
  },
  {
   "cell_type": "markdown",
   "metadata": {},
   "source": [
    "### Reaction essentiality"
   ]
  },
  {
   "cell_type": "code",
   "execution_count": 81,
   "metadata": {},
   "outputs": [],
   "source": [
    "import copy\n",
    "from cobra.flux_analysis.variability import find_essential_reactions\n",
    "\n",
    "def essential_reactions(genre, media=None, optimum_fraction=0.01):\n",
    "    model = copy.deepcopy(genre)\n",
    "    \n",
    "    # Change media conditions if necessary\n",
    "    if media is not None:\n",
    "        exchanges = ['EX_' + x for x in media]\n",
    "        for rxn in model.reactions:\n",
    "            if len(list(rxn.products)) == 0:\n",
    "                if rxn.id in exchanges:\n",
    "                    model.reactions.get_by_id(rxn.id).lower_bound = max([-1000.0,model.reactions.get_by_id(rxn.id).lower_bound])\n",
    "                else:\n",
    "                    model.reactions.get_by_id(rxn.id).lower_bound = 0.0\n",
    "    \n",
    "    # Find essential genes\n",
    "    essential_reactions = find_essential_reactions(model, threshold=optimum_fraction)\n",
    "    \n",
    "    return essential_reactions\n",
    "                "
   ]
  },
  {
   "cell_type": "code",
   "execution_count": 82,
   "metadata": {},
   "outputs": [
    {
     "name": "stdout",
     "output_type": "stream",
     "text": [
      "Low spores essential reactions: 257\n"
     ]
    }
   ],
   "source": [
    "low_spores_essential_reactions = essential_reactions(low_spores_riptide.model)\n",
    "low_spores_essential_reactions = set([x.id for x in low_spores_essential_reactions])\n",
    "print('Low spores essential reactions: ' + str(len(low_spores_essential_reactions)))"
   ]
  },
  {
   "cell_type": "code",
   "execution_count": 83,
   "metadata": {},
   "outputs": [
    {
     "name": "stdout",
     "output_type": "stream",
     "text": [
      "High spores essential reactions: 289\n"
     ]
    }
   ],
   "source": [
    "high_spores_essential_reactions = essential_reactions(high_spores_riptide.model)\n",
    "high_spores_essential_reactions = set([x.id for x in high_spores_essential_reactions])\n",
    "print('High spores essential reactions: ' + str(len(high_spores_essential_reactions)))"
   ]
  },
  {
   "cell_type": "code",
   "execution_count": 84,
   "metadata": {},
   "outputs": [
    {
     "name": "stdout",
     "output_type": "stream",
     "text": [
      "Low spores only: 6\n",
      "High spores only: 38\n"
     ]
    }
   ],
   "source": [
    "low_spores_only_essential_reactions = low_spores_essential_reactions.difference(high_spores_essential_reactions)\n",
    "high_spores_only_essential_reactions = high_spores_essential_reactions.difference(low_spores_essential_reactions)\n",
    "\n",
    "print('Low spores only: ' + str(len(low_spores_only_essential_reactions)))\n",
    "print('High spores only: ' + str(len(high_spores_only_essential_reactions)))"
   ]
  },
  {
   "cell_type": "code",
   "execution_count": 85,
   "metadata": {},
   "outputs": [
    {
     "name": "stdout",
     "output_type": "stream",
     "text": [
      "Low only:\n",
      "rxn05318_c Adenosine hydrogen symport\n",
      "rxn00410_c UTP:ammonia ligase (ADP-forming)\n",
      "rxn00690_c Formate:tetrahydrofolate ligase (ADP-forming)\n",
      "EX_cpd00182_e Adenosine exchange\n",
      "rxn03004_c 10-Formyltetrahydrofolate:5'-phosphoribosylglycinamide formyltransferase\n",
      "rxn01505_c N-Acetyl-D-glucosamine 1-phosphate 1,6-phosphomutase\n",
      "\n",
      "High only:\n",
      "ID008_c 2,3-Dihydroxyphenylpropanoate diffusion\n",
      "rxn03005_c N2-Formyl-N1-(5-phospho-D-ribosyl)glycinamide formyltransferase\n",
      "rxn00778_c D-Ribose 1,5-phosphomutase\n",
      "rxn00504_c (S)-1-pyrroline-5-carboxylate:NADP+ oxidoreductase\n",
      "rxn00907_c 5,10-methylenetetrahydrofolate:NADP+ oxidoreductase\n",
      "rxn00225_c ATP:acetate phosphotransferase\n",
      "rxn13713_c 4-hydroxybutyrate CoA-transferase\n",
      "EX_cpd00277_e Deoxyguanosine exchange\n",
      "rxn00931_c L-Proline:NADP+ 5-oxidoreductase\n",
      "rxn01333_c sedoheptulose-7-phosphate:D-glyceraldehyde-3-phosphate glyceronetransferase\n",
      "rxn09688_c deoxyguanosine transport in via proton symport (periplasm)\n",
      "rxn00777_c D-ribose-5-phosphate aldose-ketose-isomerase\n",
      "rxn01334_c Sedoheptulose 1,7-bisphosphate D-glyceraldehyde-3-phosphate-lyase\n",
      "EX_cpd03170_e 4-Hydroxymandelate exchange\n",
      "rxn00171_c acetaldehyde:NAD+ oxidoreductase (CoA-acetylating)\n",
      "rxn00085_c L-Glutamate:NADP+ oxidoreductase (transaminating)\n",
      "rxn07124_c p-Hydroxyphenylacetate decarboxylase\n",
      "rxn00555_c L-glutamine:D-fructose-6-phosphate isomerase (deaminating)\n",
      "rxn00157_c Acetyl-CoA:formate C-acetyltransferase\n",
      "rxn01446_c Deoxyguanosine:orthophosphate ribosyltransferase\n",
      "rxn00785_c D-Fructose 6-phosphate:D-glyceraldehyde-3-phosphate glycolaldehyde transferase\n",
      "rxn01986_c 2-deoxy-D-ribose 1-phosphate 1,5-phosphomutase\n",
      "rxn10770_c Choline dehydrogenase\n",
      "EX_cpd00438_e Deoxyadenosine exchange\n",
      "rxn05317_c Transport of deoxyadenosine, extracellular\n",
      "rxn01484_c N-Acetyl-D-glucosamine-6-phosphate amidohydrolase\n",
      "rxn00527_c L-tyrosine:2-oxoglutarate aminotransferase\n",
      "rxn00784_c 2-deoxy-D-ribose-5-phosphate acetaldehyde-lyase (D-glyceraldehyde-3-phosphate-forming)\n",
      "rxn01116_c D-Ribulose-5-phosphate 3-epimerase\n",
      "rxn01345_c Sedoheptulose 1,7-bisphosphate 1-phosphohydrolase\n",
      "rxn12191_c Choline monooxygenase (NADP)\n",
      "rxn01859_c Deoxyadenosine:orthophosphate ribosyltransferase\n",
      "rxn01200_c Sedoheptulose-7-phosphate:D-glyceraldehyde-3-phosphate glycolaldehyde transferase\n",
      "rxn00871_c Phosphate butyrltransferase\n",
      "rxn11676_c Glycine reductase\n",
      "rxn01236_c ATP:butanoate 1-phosphotransferase\n",
      "rxn03641_c acetyl-CoA: 4-hydroxybutanoate CoA transferase\n",
      "EX_cpd00067_e H+ exchange\n"
     ]
    }
   ],
   "source": [
    "print('Low only:')\n",
    "for x in low_spores_only_essential_reactions:\n",
    "    print(x, iCdG698.reactions.get_by_id(x).name)\n",
    "    \n",
    "print('\\nHigh only:')\n",
    "for x in high_spores_only_essential_reactions:\n",
    "    print(x, iCdG698.reactions.get_by_id(x).name)"
   ]
  },
  {
   "cell_type": "code",
   "execution_count": 86,
   "metadata": {},
   "outputs": [],
   "source": [
    "import cobra.flux_analysis\n",
    "from cobra.flux_analysis.parsimonious import pfba\n",
    "\n",
    "# Inferring media condition\n",
    "def find_substrates_and_byproducts(model):\n",
    "    \n",
    "    pfba_solv = pfba(model)\n",
    "    \n",
    "    substrates = set()\n",
    "    byproducts = set()\n",
    "    for rxn in model.boundary:\n",
    "        if pfba_solv.fluxes[rxn.id] < 0.0:\n",
    "            substrates |= set([rxn.reactants[0].id])\n",
    "        elif pfba_solv.fluxes[rxn.id] > 0.0:\n",
    "            byproducts |= set([rxn.reactants[0].id])\n",
    "\n",
    "    print(str(len(substrates)) + ' possible growth substrates found')\n",
    "    print(str(len(byproducts)) + ' possible byproducts found\\n')\n",
    "    \n",
    "    return substrates, byproducts\n",
    "\n",
    "\n",
    "# Inferring media condition\n",
    "def find_substrates_and_byproducts_riptide(riptide):\n",
    "        \n",
    "    substrates = []\n",
    "    byproducts = []\n",
    "\n",
    "    for rxn in riptide.model.exchanges:\n",
    "        \n",
    "        if numpy.median(riptide.flux_samples[rxn.id]) < -1.0:\n",
    "            substrates.append(rxn.reactants[0].id)\n",
    "        elif numpy.median(riptide.flux_samples[rxn.id]) > 1.0:\n",
    "            byproducts.append(rxn.reactants[0].id)\n",
    "            \n",
    "    substrates = set(substrates)\n",
    "    print(str(len(substrates)) + ' possible growth substrates found')\n",
    "    byproducts = set(byproducts)\n",
    "    print(str(len(byproducts)) + ' possible byproducts found\\n')\n",
    "    \n",
    "    return substrates, byproducts\n",
    "\n",
    "# Finding sources of elements\n",
    "def find_element_sources(model):\n",
    "    \n",
    "    sources = {'C':[], 'N':[], 'P':[], 'S':[]}\n",
    "    c_source = ['cpd_id', 0.0]\n",
    "    n_source = ['cpd_id', 0.0]\n",
    "    pfba_solution = pfba(model)\n",
    "    \n",
    "    # Parse exchange flux samples for imported metabolites\n",
    "    for rxn in model.boundary:\n",
    "        \n",
    "        flux = pfba_solution.fluxes[rxn.id]\n",
    "        if flux < -1e-6:\n",
    "            metabolite = rxn.reactants[0]\n",
    "            sources[metabolite.id] = {}\n",
    "            \n",
    "            # Multiply elemental components by median flux absolute value\n",
    "            for element in metabolite.elements.keys():\n",
    "                element_supply = float(metabolite.elements[element]) * abs(flux)\n",
    "                element_supply = round(numpy.log(element_supply), 3)\n",
    "                sources[metabolite.id][element] = element_supply\n",
    "                \n",
    "                # Identify largest sources of carbon and nitrogen\n",
    "                if element == 'C' and element_supply > c_source[1]:\n",
    "                    c_source = [metabolite.id, element_supply]\n",
    "                    sources['C'].append(c_source)\n",
    "                elif element == 'N' and element_supply > n_source[1]:\n",
    "                    n_source = [metabolite.id, element_supply]\n",
    "                    sources['N'].append(n_source)\n",
    "                elif element == 'P' and element_supply > 0.0:\n",
    "                    p_source = [metabolite.id, element_supply]\n",
    "                    sources['P'].append(p_source)\n",
    "                elif element == 'S' and element_supply > 0.0:\n",
    "                    s_source = [metabolite.id, element_supply]\n",
    "                    sources['S'].append(s_source)\n",
    "                    \n",
    "    print('Primary carbon source: ' + model.metabolites.get_by_id(c_source[0]).name + ' (' + str(c_source[1]) + ')')\n",
    "    print('Primary nitrogen source: ' + model.metabolites.get_by_id(n_source[0]).name + ' (' + str(n_source[1]) + ')')\n",
    "    print('Primary phosphorus source: ' + model.metabolites.get_by_id(p_source[0]).name + ' (' + str(p_source[1]) + ')')\n",
    "    print('Primary sulfur source: ' + model.metabolites.get_by_id(s_source[0]).name + ' (' + str(s_source[1]) + ')')\n",
    "\n",
    "    return sources\n",
    "\n",
    "# Finding sources of elements\n",
    "def find_element_sources_riptide(riptide):\n",
    "    \n",
    "    sources = {'C':[], 'N':[], 'P':[], 'S':[]}\n",
    "    c_source = ['cpd_id', 0.0]\n",
    "    n_source = ['cpd_id', 0.0]\n",
    "    pfba_solution = cobra.flux_analysis.pfba(riptide.model, fraction_of_optimum=0.8)\n",
    "    baseline = pfba_solution.objective_value\n",
    "    \n",
    "    # Parse exchange flux samples for imported metabolites\n",
    "    for rxn in riptide.model.boundary:\n",
    "        \n",
    "        # Test for disproportionate effect on objective\n",
    "        flux = min(riptide.flux_samples[rxn.id])\n",
    "        if flux >= -1e-6: continue # Skip exported byproducts or unused reactions\n",
    "        new_bound = flux * 0.01\n",
    "        old_bounds = rxn.bounds\n",
    "        rxn.bounds = (new_bound, new_bound)        \n",
    "        new_objVal = riptide.model.slim_optimize()\n",
    "        rxn.bounds = old_bounds # Reset bounds\n",
    "        if str(new_objVal) == 'nan': new_objVal = baseline * 0.01\n",
    "        \n",
    "        # Calculate the degree of change to objective value\n",
    "        if new_objVal != baseline:\n",
    "            flux_ratio = baseline / new_objVal\n",
    "            adjustment = abs(flux) * flux_ratio\n",
    "        else:\n",
    "            adjustment = 1.\n",
    "       \n",
    "        if flux < -1e-6:\n",
    "        #if min(riptide.flux_samples[rxn.id]) < -1e-6:\n",
    "            #flux = abs(min(riptide.flux_samples[rxn.id]))\n",
    "            metabolite = rxn.reactants[0]\n",
    "            sources[metabolite.id] = {}\n",
    "            \n",
    "            # Multiply elemental components by median flux absolute value\n",
    "            for element in metabolite.elements.keys():\n",
    "                #element_supply = round(float(metabolite.elements[element]) * flux, 3)\n",
    "                element_supply = float(metabolite.elements[element]) * adjustment\n",
    "                element_supply = round(numpy.log2(element_supply), 3)\n",
    "                sources[metabolite.id][element] = element_supply\n",
    "                \n",
    "                # Identify largest sources of carbon and nitrogen\n",
    "                if element == 'C' and element_supply > c_source[1]:\n",
    "                    c_source = [metabolite.id, element_supply]\n",
    "                    sources['C'].append(c_source)\n",
    "                elif element == 'N' and element_supply > n_source[1]:\n",
    "                    n_source = [metabolite.id, element_supply]\n",
    "                    sources['N'].append(n_source)\n",
    "                elif element == 'P' and element_supply > 0.0:\n",
    "                    p_source = [metabolite.id, element_supply]\n",
    "                    sources['P'].append(p_source)\n",
    "                elif element == 'S' and element_supply > 0.0:\n",
    "                    s_source = [metabolite.id, element_supply]\n",
    "                    sources['S'].append(s_source)\n",
    "                    \n",
    "    print('Primary carbon source: ' + riptide.model.metabolites.get_by_id(c_source[0]).name + ' (' + str(c_source[1]) + ')')\n",
    "    print('Primary nitrogen source: ' + riptide.model.metabolites.get_by_id(n_source[0]).name + ' (' + str(n_source[1]) + ')')\n",
    "    print('Primary phosphorus source: ' + riptide.model.metabolites.get_by_id(p_source[0]).name + ' (' + str(p_source[1]) + ')')\n",
    "    print('Primary sulfur source: ' + riptide.model.metabolites.get_by_id(s_source[0]).name + ' (' + str(s_source[1]) + ')')\n",
    "\n",
    "    return sources"
   ]
  },
  {
   "cell_type": "code",
   "execution_count": 87,
   "metadata": {},
   "outputs": [
    {
     "name": "stdout",
     "output_type": "stream",
     "text": [
      "26 possible growth substrates found\n",
      "12 possible byproducts found\n",
      "\n",
      "Primary carbon source: L-Isoleucine (8.7)\n",
      "Primary nitrogen source: Guanosine (7.933)\n",
      "Primary phosphorus source: Phosphate (3.865)\n",
      "Primary sulfur source: L-Cysteine (0.808)\n"
     ]
    }
   ],
   "source": [
    "low_spores_substrates, low_spores_byproducts = find_substrates_and_byproducts_riptide(low_spores_riptide)\n",
    "low_spores_elem_sources = find_element_sources(low_spores_riptide.model)"
   ]
  },
  {
   "cell_type": "code",
   "execution_count": 88,
   "metadata": {},
   "outputs": [
    {
     "name": "stdout",
     "output_type": "stream",
     "text": [
      "26 possible growth substrates found\n",
      "12 possible byproducts found\n",
      "\n",
      "Primary carbon source: Deoxyguanosine (8.855)\n",
      "Primary nitrogen source: Deoxyguanosine (8.161)\n",
      "Primary phosphorus source: Phosphate (3.903)\n",
      "Primary sulfur source: L-Cysteine (0.845)\n"
     ]
    }
   ],
   "source": [
    "high_spores_substrates, high_spores_byproducts = find_substrates_and_byproducts_riptide(high_spores_riptide)\n",
    "high_spores_elem_sources = find_element_sources(high_spores_riptide.model)"
   ]
  },
  {
   "cell_type": "code",
   "execution_count": 89,
   "metadata": {},
   "outputs": [
    {
     "name": "stdout",
     "output_type": "stream",
     "text": [
      "Shared substrates: 25\n",
      "Low spores only substrates: 1\n",
      "High spores only substrates: 1\n"
     ]
    }
   ],
   "source": [
    "shared_substrates = low_spores_substrates.intersection(high_spores_substrates)\n",
    "low_spores_only_substrates = low_spores_substrates.difference(high_spores_substrates)\n",
    "high_spores_only_substrates = high_spores_substrates.difference(low_spores_substrates)\n",
    "\n",
    "print('Shared substrates: ' + str(len(shared_substrates)))\n",
    "print('Low spores only substrates: ' + str(len(low_spores_only_substrates)))\n",
    "print('High spores only substrates: ' + str(len(high_spores_only_substrates)))"
   ]
  },
  {
   "cell_type": "code",
   "execution_count": 90,
   "metadata": {},
   "outputs": [
    {
     "name": "stdout",
     "output_type": "stream",
     "text": [
      "\n",
      "Shared:\n",
      "cpd00567_e D-Proline\n",
      "cpd00035_e L-Alanine\n",
      "cpd00041_e L-Aspartate\n",
      "cpd00117_e D-Alanine\n",
      "cpd00054_e L-Serine\n",
      "cpd00084_e L-Cysteine\n",
      "cpd00232_e N-Acetyl-Neuraminic acid\n",
      "cpd00060_e L-Methionine\n",
      "cpd00009_e Phosphate\n",
      "cpd00119_e L-Histidine\n",
      "cpd00161_e L-Threonine\n",
      "cpd00039_e L-Lysine\n",
      "cpd00067_e H+\n",
      "cpd00322_e L-Isoleucine\n",
      "cpd00186_e D-Glutamate\n",
      "cpd00654_e Deoxycytidine\n",
      "cpd00001_e H2O\n",
      "cpd00132_e L-Asparagine\n",
      "cpd00051_e L-Arginine\n",
      "cpd00412_e Deoxyuridine\n",
      "cpd00066_e L-Phenylalanine\n",
      "cpd00069_e L-Tyrosine\n",
      "cpd00277_e Deoxyguanosine\n",
      "cpd00107_e L-Leucine\n",
      "cpd00156_e L-Valine\n",
      "\n",
      "Low only:\n",
      "cpd00311_e Guanosine -1000.0\n",
      "\n",
      "High only:\n",
      "cpd00246_e Inosine -1000.0\n"
     ]
    }
   ],
   "source": [
    "print('\\nShared:')\n",
    "for x in shared_substrates:\n",
    "    print(x, iCdG698.metabolites.get_by_id(x).name)\n",
    "\n",
    "print('\\nLow only:')\n",
    "for x in low_spores_only_substrates:\n",
    "    exchange = 'EX_' + x\n",
    "    flux = round(min(low_spores_riptide.flux_samples[exchange]), 5)\n",
    "    print(x, iCdG698.metabolites.get_by_id(x).name, flux)\n",
    "    \n",
    "print('\\nHigh only:')\n",
    "for x in high_spores_only_substrates:\n",
    "    exchange = 'EX_' + x\n",
    "    flux = round(min(high_spores_riptide.flux_samples[exchange]), 5)\n",
    "    print(x, iCdG698.metabolites.get_by_id(x).name, flux)"
   ]
  },
  {
   "cell_type": "code",
   "execution_count": 91,
   "metadata": {},
   "outputs": [
    {
     "name": "stdout",
     "output_type": "stream",
     "text": [
      "High spores: D-Proline 372.008 -862.0 -490.0\n",
      "Low spores: L-Alanine 3.873 -48.0 -52.0\n",
      "Low spores: L-Aspartate 2.407 -30.0 -32.0\n",
      "Low spores: D-Alanine 5.772 -71.0 -77.0\n",
      "Low spores: L-Serine 76.09 -377.0 -453.0\n",
      "Low spores: L-Cysteine 0.148 -2.0 -2.0\n",
      "High spores: N-Acetyl-Neuraminic acid 213.095 -462.0 -249.0\n",
      "Low spores: L-Methionine 0.297 -4.0 -4.0\n",
      "Low spores: Phosphate 3.147 -39.0 -42.0\n",
      "Low spores: L-Histidine 0.15 -2.0 -2.0\n",
      "Low spores: L-Threonine 0.545 -7.0 -7.0\n",
      "Low spores: L-Lysine 2.654 -33.0 -35.0\n",
      "Low spores: H+ 76.794 -546.0 -622.0\n",
      "Low spores: L-Isoleucine 113.177 -755.0 -868.0\n",
      "Low spores: D-Glutamate 3.298 -41.0 -44.0\n",
      "Low spores: Deoxycytidine 0.173 -2.0 -2.0\n",
      "High spores: H2O 194.85 -401.0 -206.0\n",
      "Low spores: L-Asparagine 0.708 -9.0 -9.0\n",
      "Low spores: L-Arginine 0.352 -4.0 -5.0\n",
      "Low spores: Deoxyuridine 19.76 -244.0 -263.0\n",
      "Low spores: L-Phenylalanine 0.482 -6.0 -6.0\n",
      "Low spores: L-Tyrosine 75.806 -166.0 -242.0\n",
      "Low spores: Deoxyguanosine 611.027 -91.0 -702.0\n",
      "Low spores: L-Leucine 41.644 -12.0 -54.0\n",
      "Low spores: L-Valine 0.721 -9.0 -10.0\n"
     ]
    }
   ],
   "source": [
    "for x in shared_substrates:\n",
    "    exchange = 'EX_' + x\n",
    "    flux1 = numpy.median(low_spores_riptide.flux_samples[exchange])\n",
    "    flux2 = numpy.median(high_spores_riptide.flux_samples[exchange])\n",
    "    diff = abs(flux1-flux2)\n",
    "    if flux1 > flux2:\n",
    "        print('Low spores:', iCdG698.metabolites.get_by_id(x).name, round(diff,3), round(flux1),round(flux2))\n",
    "    elif flux1 < flux2:\n",
    "        print('High spores:', iCdG698.metabolites.get_by_id(x).name, round(diff,3), round(flux1),round(flux2))\n",
    "    else:\n",
    "        print('Same:', iCdG698.metabolites.get_by_id(x).name)\n"
   ]
  },
  {
   "cell_type": "code",
   "execution_count": 92,
   "metadata": {},
   "outputs": [
    {
     "name": "stdout",
     "output_type": "stream",
     "text": [
      "Shared byproducts: 9\n",
      "Low spores only byproducts: 3\n",
      "High spores only byproducts: 3\n"
     ]
    }
   ],
   "source": [
    "shared_byproducts = low_spores_byproducts.intersection(high_spores_byproducts)\n",
    "low_spores_only_byproducts = low_spores_byproducts.difference(high_spores_byproducts)\n",
    "high_spores_only_byproducts = high_spores_byproducts.difference(low_spores_byproducts)\n",
    "\n",
    "print('Shared byproducts: ' + str(len(shared_byproducts)))\n",
    "print('Low spores only byproducts: ' + str(len(low_spores_only_byproducts)))\n",
    "print('High spores only byproducts: ' + str(len(high_spores_only_byproducts)))"
   ]
  },
  {
   "cell_type": "code",
   "execution_count": 93,
   "metadata": {},
   "outputs": [
    {
     "name": "stdout",
     "output_type": "stream",
     "text": [
      "High spores: 2-Methylbutyrate 741.0 852.0\n",
      "Low spores: Guanine 877.0 727.0\n",
      "High spores: Cytosine 231.0 250.0\n",
      "High spores: 4-Hydroxymandelate 161.0 236.0\n",
      "Low spores: N-Acetyl-D-glucosamine 973.0 806.0\n",
      "High spores: CO2 880.0 927.0\n",
      "Low spores: 5-Aminopentanoate 494.0 472.0\n",
      "High spores: Ammonia 379.0 463.0\n"
     ]
    }
   ],
   "source": [
    "for x in shared_byproducts:\n",
    "    exchange = 'EX_' + x\n",
    "    flux1 = numpy.median(low_spores_riptide.flux_samples[exchange])\n",
    "    flux2 = numpy.median(high_spores_riptide.flux_samples[exchange])\n",
    "    diff = abs(flux1-flux2)\n",
    "    if flux1 > flux2:\n",
    "        print('Low spores:', iCdG698.metabolites.get_by_id(x).name, round(flux1), round(flux2))\n",
    "    elif flux1 < flux2:\n",
    "        print('High spores:', iCdG698.metabolites.get_by_id(x).name, round(flux1), round(flux2))\n"
   ]
  },
  {
   "cell_type": "code",
   "execution_count": 94,
   "metadata": {},
   "outputs": [
    {
     "name": "stdout",
     "output_type": "stream",
     "text": [
      "Shared:\n",
      "cpd19585_e 2-Methylbutyrate 740.665 851.848\n",
      "cpd00207_e Guanine 877.341 727.291\n",
      "cpd00307_e Cytosine 231.176 249.922\n",
      "cpd00029_e Acetate 1000.0 1000.0\n",
      "cpd03170_e 4-Hydroxymandelate 160.683 235.542\n",
      "cpd00122_e N-Acetyl-D-glucosamine 973.105 805.556\n",
      "cpd00011_e CO2 879.968 926.919\n",
      "cpd00339_e 5-Aminopentanoate 493.716 471.911\n",
      "cpd00013_e Ammonia 379.498 463.086\n",
      "\n",
      "Low only:\n",
      "cpd00182_e Adenosine 8.18\n",
      "cpd00047_e Formate 164.564\n",
      "cpd00023_e L-Glutamate 248.095\n",
      "\n",
      "High only:\n",
      "cpd00226_e Hypoxanthine 480.88\n",
      "cpd00438_e Deoxyadenosine 8.844\n",
      "cpd05178_e Isovalerate 39.957\n"
     ]
    }
   ],
   "source": [
    "print('Shared:')\n",
    "for x in shared_byproducts:\n",
    "    exchange = 'EX_' + x\n",
    "    low_flux = round(numpy.median(low_spores_riptide.flux_samples[exchange]), 3)\n",
    "    hi_flux = round(numpy.median(high_spores_riptide.flux_samples[exchange]), 3)\n",
    "    print(x, iCdG698.metabolites.get_by_id(x).name, low_flux, hi_flux)\n",
    "\n",
    "print('\\nLow only:')\n",
    "for x in low_spores_only_byproducts:\n",
    "    exchange = 'EX_' + x\n",
    "    flux = round(numpy.median(low_spores_riptide.flux_samples[exchange]), 3)\n",
    "    print(x, iCdG698.metabolites.get_by_id(x).name, flux)\n",
    "    \n",
    "print('\\nHigh only:')\n",
    "for x in high_spores_only_byproducts:\n",
    "    exchange = 'EX_' + x\n",
    "    flux = round(numpy.median(high_spores_riptide.flux_samples[exchange]), 3)\n",
    "    print(x, iCdG698.metabolites.get_by_id(x).name, flux)"
   ]
  },
  {
   "cell_type": "code",
   "execution_count": null,
   "metadata": {},
   "outputs": [],
   "source": []
  }
 ],
 "metadata": {
  "kernelspec": {
   "display_name": "Python 3",
   "language": "python",
   "name": "python3"
  },
  "language_info": {
   "codemirror_mode": {
    "name": "ipython",
    "version": 3
   },
   "file_extension": ".py",
   "mimetype": "text/x-python",
   "name": "python",
   "nbconvert_exporter": "python",
   "pygments_lexer": "ipython3",
   "version": "3.7.5"
  }
 },
 "nbformat": 4,
 "nbformat_minor": 2
}
