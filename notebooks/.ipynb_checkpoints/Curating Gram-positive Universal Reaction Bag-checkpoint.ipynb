{
 "cells": [
  {
   "cell_type": "code",
   "execution_count": 1,
   "metadata": {},
   "outputs": [
    {
     "name": "stdout",
     "output_type": "stream",
     "text": [
      "Exception reporting mode: Verbose\n"
     ]
    }
   ],
   "source": [
    "# Import libraries - REQUIRES pip version 9.0.3\n",
    "import pandas\n",
    "import os\n",
    "from os.path import join\n",
    "import sys\n",
    "import scipy.stats\n",
    "import numpy\n",
    "import math\n",
    "import pickle\n",
    "import copy\n",
    "import time\n",
    "import warnings\n",
    "#warnings.filterwarnings(\"ignore\", category=UserWarning) # ignore errors in some chemical formulas\n",
    "\n",
    "# Using Cobrapy 0.13.0\n",
    "import cobra\n",
    "import cobra.test\n",
    "from cobra.io import write_sbml_model\n",
    "from cobra.flux_analysis import  flux_variability_analysis\n",
    "from cobra.flux_analysis import gapfill\n",
    "from cobra.flux_analysis.reaction import assess_component\n",
    "from cobra.manipulation.delete import *\n",
    "from cobra.flux_analysis.parsimonious import add_pfba\n",
    "from cobra.medium import find_boundary_types\n",
    "#from cobra.flux_analysis.sampling import OptGPSampler\n",
    "\n",
    "# Driven worflow for transcript integration\n",
    "#from driven.flux_analysis.transcriptomics import gimme\n",
    "#from driven.flux_analysis.transcriptomics import imat\n",
    "#from driven.data_sets.expression_profile import ExpressionProfile\n",
    "#from corda import CORDA\n",
    "\n",
    "# Confidence levels in each annotation\n",
    "import probanno\n",
    "\n",
    "# To generate new stoichiometry for biomass function\n",
    "import BOFdat\n",
    "\n",
    "# Using Gurobi solver instead of GLPK\n",
    "import gurobipy\n",
    "from optlang import gurobi_interface\n",
    "\n",
    "# Import scripted python functions\n",
    "sys.path.append('code/python/')\n",
    "from read_excel import read_excel\n",
    "\n",
    "# Estabish handler for logger\n",
    "import logging\n",
    "logging.basicConfig()\n",
    "logger = logging.getLogger('logger')\n",
    "\n",
    "# Verbose exception printing\n",
    "%xmode"
   ]
  },
  {
   "cell_type": "code",
   "execution_count": 2,
   "metadata": {},
   "outputs": [],
   "source": [
    "# Actually prune all unused metabolites and reactions (innate function does not work)\n",
    "def removeUnused(model):\n",
    "    removed_cpd = set()\n",
    "    removed_rxn = set()\n",
    "    unused_current_cpd = 1\n",
    "    unused_current_rxn = 1\n",
    "    \n",
    "    while unused_current_cpd != 0 or unused_current_rxn != 0:\n",
    "        unused_cpd = prune_unused_metabolites(model)\n",
    "        removed_cpd |= set(unused_cpd)\n",
    "        unused_rxn = prune_unused_reactions(model)\n",
    "        removed_rxn |= set(unused_rxn)\n",
    "        \n",
    "        unused_current_cpd = len(unused_cpd)\n",
    "        unused_current_rxn = len(unused_rxn)\n",
    "    \n",
    "    print('Pruned ' + str(len(removed_cpd)) + ' metabolites from model')\n",
    "    print('Pruned ' + str(len(removed_rxn)) + ' reactions from model')\n",
    "        \n",
    "    return(list(removed_cpd), list(removed_rxn))\n"
   ]
  },
  {
   "cell_type": "code",
   "execution_count": 2,
   "metadata": {},
   "outputs": [],
   "source": [
    "#mackinac.list_workspace_objects('/chenry/public/modelsupport/templates', print_output=True)\n",
    "#universal = mackinac.create_universal_model('/chenry/public/modelsupport/templates/GramPosModelTemplate')\n",
    "#cobra.io.save_json_model(universal, \"../data/GramPosUni.json\")"
   ]
  },
  {
   "cell_type": "code",
   "execution_count": 3,
   "metadata": {},
   "outputs": [],
   "source": [
    "universal = cobra.io.load_json_model('data/GramPosUni.json')"
   ]
  },
  {
   "cell_type": "code",
   "execution_count": 9,
   "metadata": {},
   "outputs": [
    {
     "data": {
      "text/html": [
       "\n",
       "        <table>\n",
       "            <tr>\n",
       "                <td><strong>Name</strong></td>\n",
       "                <td>Universal Gram-positive</td>\n",
       "            </tr><tr>\n",
       "                <td><strong>Memory address</strong></td>\n",
       "                <td>0x07fd15ab8a090</td>\n",
       "            </tr><tr>\n",
       "                <td><strong>Number of metabolites</strong></td>\n",
       "                <td>6458</td>\n",
       "            </tr><tr>\n",
       "                <td><strong>Number of reactions</strong></td>\n",
       "                <td>7632</td>\n",
       "            </tr><tr>\n",
       "                <td><strong>Objective expression</strong></td>\n",
       "                <td>0</td>\n",
       "            </tr><tr>\n",
       "                <td><strong>Compartments</strong></td>\n",
       "                <td>c, e</td>\n",
       "            </tr>\n",
       "          </table>"
      ],
      "text/plain": [
       "<Model Universal Gram-positive at 0x7fd15ab8a090>"
      ]
     },
     "execution_count": 9,
     "metadata": {},
     "output_type": "execute_result"
    }
   ],
   "source": [
    "universal"
   ]
  },
  {
   "cell_type": "code",
   "execution_count": 5,
   "metadata": {},
   "outputs": [],
   "source": [
    "universal.name = 'Universal Gram-positive'\n",
    "universal.id = 'Universal Gram-positive'"
   ]
  },
  {
   "cell_type": "code",
   "execution_count": 6,
   "metadata": {},
   "outputs": [],
   "source": [
    "# Remove ModelSEED annotated reactions containing oxygen\n",
    "universal.metabolites.cpd00007_c.remove_from_model(destructive=True)\n",
    "universal.metabolites.cpd00007_e.remove_from_model(destructive=True)"
   ]
  },
  {
   "cell_type": "code",
   "execution_count": 10,
   "metadata": {},
   "outputs": [],
   "source": [
    "# Remove remnants of old biomass reactions\n",
    "biomass_ids = ['rxn13783_c', 'rxn13784_c', 'rxn13782_c', 'bio1', 'SK_cpd11416_c']\n",
    "for rxn in biomass_ids: \n",
    "    try:\n",
    "        universal.reactions.get_by_id(rxn).remove_from_model()\n",
    "    except:\n",
    "        pass"
   ]
  },
  {
   "cell_type": "code",
   "execution_count": 11,
   "metadata": {},
   "outputs": [],
   "source": [
    "# Reformat metabolites\n",
    "for cpd in universal.metabolites:\n",
    "        \n",
    "    # Improve metabolite annotation\n",
    "    cpd.notes = {'annotation': 'ModelSEED'}\n",
    "    if cpd.compartment == 'c':\n",
    "        cpd.compartment = 'cytosol'\n",
    "    elif cpd.compartment == 'e':\n",
    "        cpd.compartment = 'extracellular'"
   ]
  },
  {
   "cell_type": "code",
   "execution_count": 12,
   "metadata": {},
   "outputs": [
    {
     "name": "stdout",
     "output_type": "stream",
     "text": [
      "Removed 156 imbalanced reactions\n"
     ]
    }
   ],
   "source": [
    "# Remove reactions with unbalanced formulas\n",
    "removed = 0\n",
    "for rxn in universal.reactions:\n",
    "    if len(list(rxn.check_mass_balance())) > 0: \n",
    "        rxn.remove_from_model(remove_orphans=True)\n",
    "        removed += 1\n",
    "print('Removed ' + str(removed) + ' imbalanced reactions')"
   ]
  },
  {
   "cell_type": "code",
   "execution_count": 13,
   "metadata": {},
   "outputs": [
    {
     "name": "stdout",
     "output_type": "stream",
     "text": [
      "Pruned 0 metabolites from model\n",
      "Pruned 8 reactions from model\n"
     ]
    }
   ],
   "source": [
    "# removed unused metabolites and reactions\n",
    "unused_cpd, unused_rxn = removeUnused(universal)"
   ]
  },
  {
   "cell_type": "code",
   "execution_count": 14,
   "metadata": {},
   "outputs": [],
   "source": [
    "# Reformat reactions\n",
    "for rxn in universal.reactions:\n",
    "    \n",
    "    # Add additional annotation\n",
    "    rxn.notes = {'citations': [], 'confidence': 0.0, 'type': 'metabolic', 'annotation': 'ModelSEED'}\n",
    "    \n",
    "    # Label general reaction type\n",
    "    substrates = set([x.id.split('_')[-1] for x in rxn.products] + [y.id.split('_')[-1] for y in rxn.reactants])\n",
    "    if rxn in universal.boundary:\n",
    "        rxn.notes['type'] = 'exchange'\n",
    "    elif 'e' in substrates and 'c' in substrates:\n",
    "        rxn.notes['type'] = 'transport'\n",
    "        "
   ]
  },
  {
   "cell_type": "code",
   "execution_count": 15,
   "metadata": {},
   "outputs": [],
   "source": [
    "cobra.io.save_json_model(universal, 'data/universal.json')"
   ]
  },
  {
   "cell_type": "code",
   "execution_count": 18,
   "metadata": {},
   "outputs": [
    {
     "name": "stdout",
     "output_type": "stream",
     "text": [
      "803\n"
     ]
    }
   ],
   "source": [
    "Rs = 0\n",
    "for cpd in universal.metabolites:\n",
    "    if 'R' in str(cpd.formula):\n",
    "        cpd.removed_from_model(destructive=True)\n",
    "        Rs += 1\n",
    "        \n",
    "print('Reactions with R-groups: ' + str(Rs))"
   ]
  },
  {
   "cell_type": "code",
   "execution_count": null,
   "metadata": {},
   "outputs": [],
   "source": []
  }
 ],
 "metadata": {
  "kernelspec": {
   "display_name": "Python [default]",
   "language": "python",
   "name": "python2"
  },
  "language_info": {
   "codemirror_mode": {
    "name": "ipython",
    "version": 2
   },
   "file_extension": ".py",
   "mimetype": "text/x-python",
   "name": "python",
   "nbconvert_exporter": "python",
   "pygments_lexer": "ipython2",
   "version": "2.7.14"
  }
 },
 "nbformat": 4,
 "nbformat_minor": 2
}
