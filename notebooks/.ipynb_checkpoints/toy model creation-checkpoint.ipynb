{
 "cells": [
  {
   "cell_type": "code",
   "execution_count": 1,
   "metadata": {},
   "outputs": [
    {
     "name": "stdout",
     "output_type": "stream",
     "text": [
      "Exception reporting mode: Verbose\n"
     ]
    }
   ],
   "source": [
    "# Import libraries - REQUIRES pip version 9.0.3\n",
    "import pandas\n",
    "import os\n",
    "from os.path import join\n",
    "import sys\n",
    "import itertools\n",
    "\n",
    "# Using Cobrapy 0.13.0\n",
    "import cobra\n",
    "import cobra.test\n",
    "from cobra import Model\n",
    "from cobra import Metabolite\n",
    "from cobra import Reaction\n",
    "from cobra.io import write_sbml_model\n",
    "\n",
    "# Estabish handler for logger\n",
    "import logging\n",
    "logging.basicConfig()\n",
    "logger = logging.getLogger('logger')\n",
    "\n",
    "# Verbose exception printing\n",
    "%xmode"
   ]
  },
  {
   "cell_type": "code",
   "execution_count": 4,
   "metadata": {},
   "outputs": [],
   "source": [
    "# Build the model\n",
    "iTEST = Model('iTEST')\n",
    "\n",
    "# Glucose exchange and transport\n",
    "gluc_e = Metabolite(\n",
    "    'gluc_e',\n",
    "    name='Glucose',\n",
    "    compartment='e')\n",
    "\n",
    "iTEST.add_boundary(gluc_e, type='exchange', reaction_id='EX_gluc_e', lb=-1000.0, ub=1000.0)\n",
    "\n",
    "gene1 = cobra.Gene('gene1')\n",
    "gene1.name = 'Glucose transporter'\n",
    "\n",
    "gluc_c = Metabolite(\n",
    "    'gluc_c',\n",
    "    name='Glucose',\n",
    "    compartment='c')\n",
    "\n",
    "rxn1 = Reaction('rxn1')\n",
    "rxn1.name = 'Glucose transport'\n",
    "rxn1.gene_reaction_rule = 'gene1'\n",
    "rxn1.lower_bound = 0. \n",
    "rxn1.upper_bound = 1000.  \n",
    "rxn1.add_metabolites({\n",
    "    gluc_e: -1.0,\n",
    "    gluc_c: 1.0\n",
    "})\n",
    "\n",
    "iTEST.add_reactions([rxn1])\n",
    "\n",
    "# Proline exchange and transport\n",
    "pro_e = Metabolite(\n",
    "    'pro_e',\n",
    "    name='Proline',\n",
    "    compartment='e')\n",
    "\n",
    "iTEST.add_boundary(pro_e, type='exchange', reaction_id='EX_pro_e', lb=-1000.0, ub=1000.0)\n",
    "\n",
    "pro_c = Metabolite(\n",
    "    'pro_c',\n",
    "    name='Proline',\n",
    "    compartment='c')\n",
    "\n",
    "gene2 = cobra.Gene('gene2')\n",
    "gene2.name = 'Proline transporter'\n",
    "\n",
    "rxn2 = Reaction('rxn2')\n",
    "rxn2.name = 'Proline transport'\n",
    "rxn2.gene_reaction_rule = 'gene2'\n",
    "rxn2.lower_bound = 0. \n",
    "rxn2.upper_bound = 1000.  \n",
    "rxn2.add_metabolites({\n",
    "    pro_e: -1.0,\n",
    "    pro_c: 1.0\n",
    "})\n",
    "\n",
    "iTEST.add_reactions([rxn2])\n",
    "\n",
    "# Glycine exchange and transport\n",
    "gly_e = Metabolite(\n",
    "    'gly_e',\n",
    "    name='Glycine',\n",
    "    compartment='e')\n",
    "\n",
    "iTEST.add_boundary(gly_e, type='exchange', reaction_id='EX_gly_e', lb=-1000.0, ub=1000.0)\n",
    "\n",
    "gly_c = Metabolite(\n",
    "    'gly_c',\n",
    "    name='Glycine',\n",
    "    compartment='c')\n",
    "\n",
    "gene3 = cobra.Gene('gene3')\n",
    "gene3.name = 'Glycine transporter'\n",
    "\n",
    "rxn3 = Reaction('rxn3')\n",
    "rxn3.name = 'Glycine transport'\n",
    "rxn3.gene_reaction_rule = 'gene3'\n",
    "rxn3.lower_bound = 0. \n",
    "rxn3.upper_bound = 1000.  \n",
    "rxn3.add_metabolites({\n",
    "    gly_e: -1.0,\n",
    "    gly_c: 1.0\n",
    "})\n",
    "\n",
    "iTEST.add_reactions([rxn3])\n",
    "\n",
    "# H exchange and transport\n",
    "h_e = Metabolite(\n",
    "    'h_e',\n",
    "    name='H+',\n",
    "    compartment='e')\n",
    "\n",
    "iTEST.add_boundary(h_e, type='exchange', reaction_id='EX_h_e', lb=-1000.0, ub=1000.0)\n",
    "\n",
    "h_c = Metabolite(\n",
    "    'h_c',\n",
    "    name='H+',\n",
    "    compartment='c')\n",
    "\n",
    "gene4 = cobra.Gene('gene4')\n",
    "gene4.name = 'Hydrogen efflux'\n",
    "\n",
    "rxn4 = Reaction('rxn4')\n",
    "rxn4.name = 'Hydrogen efflux'\n",
    "rxn4.gene_reaction_rule = 'gene4'\n",
    "rxn4.lower_bound = -1000. \n",
    "rxn4.upper_bound = 1000.  \n",
    "rxn4.add_metabolites({\n",
    "    h_c: -1.0,\n",
    "    h_e: 1.0\n",
    "})\n",
    "\n",
    "iTEST.add_reactions([rxn4])\n",
    "\n",
    "# CO2 exchange and transport\n",
    "co2_e = Metabolite(\n",
    "    'co2_e',\n",
    "    name='CO2',\n",
    "    compartment='e')\n",
    "\n",
    "iTEST.add_boundary(co2_e, type='exchange', reaction_id='EX_co2_e', lb=-1000.0, ub=1000.0)\n",
    "\n",
    "co2_c = Metabolite(\n",
    "    'co2_c',\n",
    "    name='CO2',\n",
    "    compartment='c')\n",
    "\n",
    "gene5 = cobra.Gene('gene5')\n",
    "gene5.name = 'Carbon dioxide efflux'\n",
    "\n",
    "rxn5 = Reaction('rxn5')\n",
    "rxn5.name = 'Carbon dioxide efflux'\n",
    "rxn5.gene_reaction_rule = 'gene5'\n",
    "rxn5.lower_bound = -1000. \n",
    "rxn5.upper_bound = 1000.  \n",
    "rxn5.add_metabolites({\n",
    "    co2_c: -1.0,\n",
    "    co2_e: 1.0\n",
    "})\n",
    "\n",
    "iTEST.add_reactions([rxn5])\n",
    "\n",
    "\n",
    "# Pi exchange and transport\n",
    "pi_e = Metabolite(\n",
    "    'pi_e',\n",
    "    name='Pi',\n",
    "    compartment='e')\n",
    "\n",
    "iTEST.add_boundary(pi_e, type='exchange', reaction_id='EX_pi_e', lb=-1000.0, ub=1000.0)\n",
    "\n",
    "pi_c = Metabolite(\n",
    "    'pi_c',\n",
    "    name='Pi',\n",
    "    compartment='c')\n",
    "\n",
    "gene6 = cobra.Gene('gene6')\n",
    "gene6.name = 'Phosphate transporter'\n",
    "\n",
    "rxn6 = Reaction('rxn6')\n",
    "rxn6.name = 'Phosphate transport'\n",
    "rxn6.gene_reaction_rule = 'gene6'\n",
    "rxn6.lower_bound = -1000. \n",
    "rxn6.upper_bound = 1000.  \n",
    "rxn6.add_metabolites({\n",
    "    pi_e: -1.0,\n",
    "    pi_c: 1.0\n",
    "})\n",
    "\n",
    "iTEST.add_reactions([rxn6])\n",
    "\n",
    "# ADP exchange (intracellular)\n",
    "adp_c = Metabolite(\n",
    "    'adp_c',\n",
    "    name='ADP',\n",
    "    compartment='c')\n",
    "\n",
    "iTEST.add_boundary(adp_c, type='exchange', reaction_id='EX_adp_c', lb=-1000.0, ub=1000.0)\n",
    "\n",
    "# Glycolysis\n",
    "atp_c = Metabolite(\n",
    "    'atp_c',\n",
    "    name='ATP',\n",
    "    compartment='c')\n",
    "\n",
    "gene7 = cobra.Gene('gene7')\n",
    "gene7.name = 'Glycolysis'\n",
    "\n",
    "rxn7 = Reaction('rxn7')\n",
    "rxn7.name = 'Glycolysis'\n",
    "rxn7.gene_reaction_rule = 'gene7'\n",
    "rxn7.lower_bound = 0. \n",
    "rxn7.upper_bound = 1000.  \n",
    "rxn7.add_metabolites({\n",
    "    gluc_c: -1.0,\n",
    "    adp_c: -1.0,\n",
    "    pi_c: -1.0,\n",
    "    atp_c: 1.0,\n",
    "    h_c: 1.0\n",
    "})\n",
    "\n",
    "iTEST.add_reactions([rxn7])\n",
    "\n",
    "# Stickland fermentation\n",
    "gene8 = cobra.Gene('gene8')\n",
    "gene8.name = 'Stickland fermentation'\n",
    "\n",
    "rxn8 = Reaction('rxn8')\n",
    "rxn8.name = 'Stickland fermentation'\n",
    "rxn8.gene_reaction_rule = 'gene8'\n",
    "rxn8.lower_bound = 0. \n",
    "rxn8.upper_bound = 1000.  \n",
    "rxn8.add_metabolites({\n",
    "    pro_c: -1.0,\n",
    "    gly_c: -1.0,\n",
    "    adp_c: -1.0,\n",
    "    pi_c: -1.0,\n",
    "    atp_c: 1.0,\n",
    "    co2_c: 1.0,\n",
    "    h_c: 1.0\n",
    "})\n",
    "\n",
    "iTEST.add_reactions([rxn8])\n",
    "\n",
    "# ATP demand (objective)\n",
    "iTEST.add_boundary(atp_c, type='demand', reaction_id='DM_atp_c', lb=None, ub=1000.0)\n",
    "iTEST.objective = 'DM_atp_c'\n"
   ]
  },
  {
   "cell_type": "code",
   "execution_count": 5,
   "metadata": {},
   "outputs": [
    {
     "data": {
      "text/html": [
       "\n",
       "        <table>\n",
       "            <tr>\n",
       "                <td><strong>Name</strong></td>\n",
       "                <td>iTEST</td>\n",
       "            </tr><tr>\n",
       "                <td><strong>Memory address</strong></td>\n",
       "                <td>0x07fe3fbdf8a50</td>\n",
       "            </tr><tr>\n",
       "                <td><strong>Number of metabolites</strong></td>\n",
       "                <td>14</td>\n",
       "            </tr><tr>\n",
       "                <td><strong>Number of reactions</strong></td>\n",
       "                <td>16</td>\n",
       "            </tr><tr>\n",
       "                <td><strong>Objective expression</strong></td>\n",
       "                <td>0.0 + 1.0*DM_atp_c - 1.0*DM_atp_c_reverse_1b037</td>\n",
       "            </tr><tr>\n",
       "                <td><strong>Compartments</strong></td>\n",
       "                <td>c, e</td>\n",
       "            </tr>\n",
       "          </table>"
      ],
      "text/plain": [
       "<Model iTEST at 0x7fe3fbdf8a50>"
      ]
     },
     "execution_count": 5,
     "metadata": {},
     "output_type": "execute_result"
    }
   ],
   "source": [
    "iTEST"
   ]
  },
  {
   "cell_type": "code",
   "execution_count": 4,
   "metadata": {},
   "outputs": [
    {
     "data": {
      "text/plain": [
       "[<Reaction EX_gluc_e at 0x7fb94d704590>,\n",
       " <Reaction rxn1 at 0x7fb9616e6550>,\n",
       " <Reaction EX_pro_e at 0x7fb98f524790>,\n",
       " <Reaction rxn2 at 0x7fb94d704750>,\n",
       " <Reaction EX_gly_e at 0x7fb94d704a90>,\n",
       " <Reaction rxn3 at 0x7fb94d704bd0>,\n",
       " <Reaction EX_h_e at 0x7fb94d704cd0>,\n",
       " <Reaction rxn4 at 0x7fb94d704790>,\n",
       " <Reaction EX_co2_e at 0x7fb94d704dd0>,\n",
       " <Reaction rxn5 at 0x7fb94d722090>,\n",
       " <Reaction EX_pi_e at 0x7fb94d722190>,\n",
       " <Reaction rxn6 at 0x7fb94d7222d0>,\n",
       " <Reaction EX_adp_c at 0x7fb94d7223d0>,\n",
       " <Reaction rxn7 at 0x7fb94d722510>,\n",
       " <Reaction rxn8 at 0x7fb94d722750>,\n",
       " <Reaction DM_atp_c at 0x7fb94d722950>]"
      ]
     },
     "execution_count": 4,
     "metadata": {},
     "output_type": "execute_result"
    }
   ],
   "source": [
    "iTEST.reactions"
   ]
  },
  {
   "cell_type": "code",
   "execution_count": null,
   "metadata": {},
   "outputs": [],
   "source": []
  },
  {
   "cell_type": "code",
   "execution_count": null,
   "metadata": {},
   "outputs": [],
   "source": []
  },
  {
   "cell_type": "code",
   "execution_count": null,
   "metadata": {},
   "outputs": [],
   "source": []
  },
  {
   "cell_type": "code",
   "execution_count": null,
   "metadata": {},
   "outputs": [],
   "source": []
  },
  {
   "cell_type": "code",
   "execution_count": 6,
   "metadata": {},
   "outputs": [],
   "source": [
    "# Write to an SBML for later use\n",
    "cobra.io.write_sbml_model(iTEST, '/home/mjenior/Desktop/repos/Cdiff_modeling/data/itest8.sbml')"
   ]
  },
  {
   "cell_type": "code",
   "execution_count": 7,
   "metadata": {},
   "outputs": [],
   "source": [
    "solution = iTEST.optimize()"
   ]
  },
  {
   "cell_type": "code",
   "execution_count": 8,
   "metadata": {},
   "outputs": [
    {
     "data": {
      "text/plain": [
       "1000.0"
      ]
     },
     "execution_count": 8,
     "metadata": {},
     "output_type": "execute_result"
    }
   ],
   "source": [
    "solution.objective_value"
   ]
  },
  {
   "cell_type": "code",
   "execution_count": 9,
   "metadata": {},
   "outputs": [
    {
     "data": {
      "text/plain": [
       "EX_gluc_e   -1000.0\n",
       "rxn1         1000.0\n",
       "EX_pro_e        0.0\n",
       "rxn2            0.0\n",
       "EX_gly_e        0.0\n",
       "rxn3            0.0\n",
       "EX_h_e       1000.0\n",
       "rxn4         1000.0\n",
       "EX_co2_e        0.0\n",
       "rxn5            0.0\n",
       "EX_pi_e     -1000.0\n",
       "rxn6         1000.0\n",
       "EX_adp_c    -1000.0\n",
       "rxn7         1000.0\n",
       "rxn8            0.0\n",
       "DM_atp_c     1000.0\n",
       "Name: fluxes, dtype: float64"
      ]
     },
     "execution_count": 9,
     "metadata": {},
     "output_type": "execute_result"
    }
   ],
   "source": [
    "solution.fluxes"
   ]
  },
  {
   "cell_type": "code",
   "execution_count": 40,
   "metadata": {},
   "outputs": [],
   "source": [
    "# Close glucose exchange\n",
    "iTEST.reactions.get_by_id('EX_gluc_e').bounds = (0.0, 0.0)"
   ]
  },
  {
   "cell_type": "code",
   "execution_count": 41,
   "metadata": {},
   "outputs": [],
   "source": [
    "solution = iTEST.optimize()"
   ]
  },
  {
   "cell_type": "code",
   "execution_count": 42,
   "metadata": {},
   "outputs": [
    {
     "data": {
      "text/plain": [
       "1000.0"
      ]
     },
     "execution_count": 42,
     "metadata": {},
     "output_type": "execute_result"
    }
   ],
   "source": [
    "solution.objective_value"
   ]
  },
  {
   "cell_type": "code",
   "execution_count": 43,
   "metadata": {},
   "outputs": [
    {
     "data": {
      "text/plain": [
       "EX_gluc_e       0.0\n",
       "rxn1            0.0\n",
       "EX_pro_e    -1000.0\n",
       "rxn2         1000.0\n",
       "EX_gly_e    -1000.0\n",
       "rxn3         1000.0\n",
       "EX_h_e       1000.0\n",
       "rxn4        -1000.0\n",
       "EX_co2_e     1000.0\n",
       "rxn5        -1000.0\n",
       "EX_pi_e     -1000.0\n",
       "rxn6         1000.0\n",
       "EX_adp_c    -1000.0\n",
       "rxn7            0.0\n",
       "rxn8         1000.0\n",
       "DM_atp_c     1000.0\n",
       "Name: fluxes, dtype: float64"
      ]
     },
     "execution_count": 43,
     "metadata": {},
     "output_type": "execute_result"
    }
   ],
   "source": [
    "# Forces Stickland fermentation\n",
    "solution.fluxes"
   ]
  },
  {
   "cell_type": "code",
   "execution_count": null,
   "metadata": {},
   "outputs": [],
   "source": []
  }
 ],
 "metadata": {
  "kernelspec": {
   "display_name": "Python [default]",
   "language": "python",
   "name": "python2"
  },
  "language_info": {
   "codemirror_mode": {
    "name": "ipython",
    "version": 2
   },
   "file_extension": ".py",
   "mimetype": "text/x-python",
   "name": "python",
   "nbconvert_exporter": "python",
   "pygments_lexer": "ipython2",
   "version": "2.7.14"
  }
 },
 "nbformat": 4,
 "nbformat_minor": 2
}
