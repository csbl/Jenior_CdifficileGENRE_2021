{
 "cells": [
  {
   "cell_type": "code",
   "execution_count": 1,
   "metadata": {},
   "outputs": [
    {
     "name": "stdout",
     "output_type": "stream",
     "text": [
      "Exception reporting mode: Verbose\n"
     ]
    }
   ],
   "source": [
    "# Import libraries - REQUIRES pip version 9.0.3\n",
    "import pandas\n",
    "import os\n",
    "from os.path import join\n",
    "import sys\n",
    "import scipy.stats\n",
    "import numpy\n",
    "import math\n",
    "import pickle\n",
    "import copy\n",
    "import time\n",
    "import random\n",
    "\n",
    "import warnings\n",
    "\n",
    "# Using Cobrapy 0.13.0\n",
    "import cobra\n",
    "import cobra.test\n",
    "from cobra.flux_analysis.sampling import OptGPSampler\n",
    "from cobra.manipulation.delete import *\n",
    "from cobra.flux_analysis.parsimonious import add_pfba\n",
    "from cobra.medium import find_boundary_types\n",
    "#from cobra.flux_analysis.sampling import OptGPSampler\n",
    "\n",
    "# Using Gurobi solver instead of GLPK\n",
    "import gurobipy\n",
    "from optlang import gurobi_interface\n",
    "\n",
    "# Estabish handler for logger\n",
    "import logging\n",
    "logging.basicConfig()\n",
    "logger = logging.getLogger('logger')\n",
    "\n",
    "# Verbose exception printing\n",
    "%xmode"
   ]
  },
  {
   "cell_type": "code",
   "execution_count": 9,
   "metadata": {},
   "outputs": [],
   "source": [
    "# Define functions\n",
    "\n",
    "# Identify potentially gapfilled reactions\n",
    "def findGapfilledRxn(model, exclude=[]):\n",
    "    gapfilled = []\n",
    "    transport = findTransports(model)\n",
    "    if not type(exclude) is list:\n",
    "        exclude = [exclude]\n",
    "        \n",
    "    for index in model.reactions:\n",
    "        if len(list(index.genes)) == 0:\n",
    "            if not index in model.boundary:\n",
    "                if not index.id in exclude or not index.id in transport:\n",
    "                    gapfilled.append(index.id)\n",
    "    \n",
    "    if len(gapfilled) > 0:\n",
    "        print(str(len(gapfilled)) + ' metabolic reactions not associated with genes')\n",
    "    \n",
    "    return gapfilled\n",
    "\n",
    "# Check for missing transport and exchange reactions\n",
    "def missingRxns(model, extracellular=['e','Extracellular']):\n",
    "\n",
    "    transporters = set(findTransports(model))\n",
    "    exchanges = set([x.id for x in model.exchanges])\n",
    "    \n",
    "    missing_exchanges = []\n",
    "    missing_transports = []\n",
    "    \n",
    "    for metabolite in model.metabolites:\n",
    "        if not metabolite.compartment in extracellular or metabolite.id.split('_')[1] != 'e':\n",
    "            continue\n",
    "\n",
    "        curr_rxns = set([x.id for x in list(metabolite.reactions)])\n",
    "        \n",
    "        if bool(curr_rxns & transporters) == False:\n",
    "            missing_transports.append(metabolite.id)\n",
    "        if bool(curr_rxns & exchanges) == False:\n",
    "            missing_exchanges.append(metabolite.id)\n",
    "    \n",
    "    if len(missing_transports) != 0:\n",
    "        print(str(len(missing_transports)) + ' extracellular metabolites are missing transport reactions')\n",
    "    if len(missing_exchanges) != 0:\n",
    "        print(str(len(missing_exchanges)) + ' extracellular metabolites are missing exchange reactions')\n",
    "        \n",
    "    return missing_transports, missing_exchanges\n",
    "\n",
    "\n",
    "# Checks which cytosolic metabolites are generated for free (bacteria only)\n",
    "def checkFreeMass(raw_model, cytosol='Cytosol'):\n",
    "    \n",
    "    with raw_model as model:\n",
    "        \n",
    "        # Close all exchanges\n",
    "        for index in model.boundary:\n",
    "            model.reactions.get_by_id(index.id).lower_bound = 0.\n",
    "        \n",
    "        # Identify all metabolites that are produced within the network\n",
    "        demand_metabolites = [x.reactants[0].id for x in model.demands if len(x.reactants) > 0] + [x.products[0].id for x in model.demands if len(x.products) > 0]\n",
    "\n",
    "        free = []\n",
    "        for index in model.metabolites: \n",
    "            if index.id in demand_metabolites:\n",
    "                continue\n",
    "            elif not index.compartment in cytosol:\n",
    "                continue\n",
    "            else:\n",
    "                demand = model.add_boundary(index, type='demand')\n",
    "                model.objective = demand\n",
    "                obj_val = model.slim_optimize(error_value=0.)\n",
    "                if obj_val > 1e-8:\n",
    "                    free.append(index.id)\n",
    "                model.remove_reactions([demand])\n",
    "    \n",
    "    if len(free) > 0:\n",
    "        print(str(len(free)) + ' metabolites are generated for free')\n",
    "\n",
    "    return(free)\n",
    "\n",
    "\n",
    "# Check for mass and charge balance in reactions\n",
    "def checkBalance(raw_model, exclude=[]):\n",
    "    \n",
    "    with raw_model as model:\n",
    "        imbalanced = []\n",
    "        mass_imbal = 0\n",
    "        charge_imbal = 0\n",
    "        elem_set = set()\n",
    "        for metabolite in model.metabolites:\n",
    "            try:\n",
    "                elem_set |= set(metabolite.elements.keys())\n",
    "            except:\n",
    "                pass\n",
    "        \n",
    "        if len(elem_set) == 0:\n",
    "            imbalanced = model.reactions\n",
    "            mass_imbal = len(model.reactions)\n",
    "            charge_imbal = len(model.reactions)\n",
    "            print('No elemental data associated with metabolites!')\n",
    "        \n",
    "        else:\n",
    "            if not type(exclude) is list: \n",
    "                exclude = [exclude]\n",
    "            for index in model.reactions:\n",
    "                if index in model.boundary or index.id in exclude:\n",
    "                    continue\n",
    "\n",
    "                else:\n",
    "                    try:\n",
    "                        test = index.check_mass_balance()\n",
    "                    except ValueError:\n",
    "                        continue\n",
    "\n",
    "                    if len(list(test)) > 0:\n",
    "                        imbalanced.append(index.id)\n",
    "\n",
    "                        if 'charge' in test.keys():\n",
    "                            charge_imbal += 1\n",
    "                        if len(set(test.keys()).intersection(elem_set)) > 0:\n",
    "                            mass_imbal += 1\n",
    "\n",
    "    if mass_imbal != 0:\n",
    "        print(str(mass_imbal) + ' reactions are mass imbalanced')\n",
    "    if charge_imbal != 0:\n",
    "        print(str(charge_imbal) + ' reactions are charge imbalanced')\n",
    "    \n",
    "    return(imbalanced)\n",
    "\n",
    "\n",
    "# Identifies blocked reactions, 1% cutoff for fraction of optimum\n",
    "def blockedReactions(model):\n",
    "    \n",
    "    blocked = cobra.flux_analysis.variability.find_blocked_reactions(model)\n",
    "    \n",
    "    if len(blocked) != 0:\n",
    "        print(str(len(blocked)) + ' reactions are blocked')\n",
    "        \n",
    "    return blocked\n",
    "\n",
    "\n",
    "# Checks the quality of models by a couple metrics and returns problems\n",
    "def checkQuality(model, exclude=[], cytosol='c'):\n",
    "    \n",
    "    start_time = time.time()\n",
    "    \n",
    "    if model.name != None:\n",
    "        model_name = model.name\n",
    "    else:\n",
    "        model_name = 'model'\n",
    "    \n",
    "    gaps = findGapfilledRxn(model, exclude)\n",
    "    freemass = checkFreeMass(model, cytosol)\n",
    "    balance = checkBalance(model, exclude)\n",
    "    #blocked = blockedReactions(model)\n",
    "    trans, exch = missingRxns(model)\n",
    "    \n",
    "    test = gaps + freemass + balance\n",
    "    if len(test) == 0:\n",
    "        print('No inconsistencies detected')\n",
    "    \n",
    "    duration = int(round(time.time() - start_time))\n",
    "    print('Took ' + str(duration) + ' seconds to analyze ' + model_name) \n",
    "\n",
    "    return gaps, freemass, balance, trans, exch\n",
    "\n",
    "\n",
    "# Trace back through reactions immediately adjacent to a given reaction to identify blocked precursor synthesis\n",
    "def checkPrecursors(model, reaction):\n",
    "    \n",
    "    if isinstance(reaction, str) == True:\n",
    "        reaction = model.reactions.get_by_id(reaction)\n",
    "    \n",
    "    model.objective = reaction\n",
    "    obj_val = max(model.optimize(objective_sense='maximize').objective_value, abs(model.optimize(objective_sense='minimize').objective_value))\n",
    "\n",
    "    if obj_val > 0.001:\n",
    "        print('Able to produce all precursors for this reaction.')\n",
    "        return None\n",
    "    \n",
    "    else:\n",
    "        reactants = reaction.reactants\n",
    "        check = 0\n",
    "        \n",
    "        for reactant in reactants:\n",
    "            sub_reactions = list(reactant.reactions)\n",
    "            \n",
    "            for sub_reaction in sub_reactions:\n",
    "                model.objective = sub_reaction\n",
    "                obj_val = max(model.optimize(objective_sense='maximize').objective_value, abs(model.optimize(objective_sense='minimize').objective_value))\n",
    "\n",
    "                if obj_val < 0.001 and reactant in sub_reaction.products:                    \n",
    "                    print('Cannot acquire ' + str(reactant.id) + ' via ' + str(sub_reaction.id))\n",
    "                elif obj_val < 0.001 and check < 1 and reactant in sub_reaction.reactants:\n",
    "                    print(str(reactant.id) + ' not produced in any reactions.')\n",
    "                    check += 1\n",
    "\n",
    "#------------------------------------------------------------------------------------#\n",
    "\n",
    "# Function to calculate doubling time from objective value\n",
    "def doubling(model):\n",
    "    with model as m:\n",
    "        growth = (1 / float(m.slim_optimize())) * 3600 \n",
    "        growth = str(round(growth, 3)) + ' minutes'\n",
    "    return growth\n",
    "\n",
    "\n",
    "# Function to change media condition based on a list\n",
    "def changeMedia(model, media_list):\n",
    "    for index in model.exchanges:\n",
    "        if index.id in media_list:\n",
    "            model.reactions.get_by_id(index.id).lower_bound = -1000.0\n",
    "        else:\n",
    "            model.reactions.get_by_id(index.id).lower_bound = 0.0\n",
    "            \n",
    "    return model\n",
    "\n",
    "\n",
    "# Rough transcriptomic integration\n",
    "def roughContextualize(model, transcript_profile, condition):\n",
    "    \n",
    "    orig_OV = model.optimize().objective_value\n",
    "\n",
    "    model_context = copy.deepcopy(model)\n",
    "    abundances = []\n",
    "    \n",
    "    with open(transcript_profile, 'r') as transcription:\n",
    "        transcript_dict = {}\n",
    "        abundances = []\n",
    "        header = transcription.readline().strip().split(',')\n",
    "        column = header.index(condition)\n",
    "        for line in transcription:\n",
    "            line = line.split(',')\n",
    "            transcript_dict[line[0]] = float(line[column])\n",
    "            abundances.append(float(line[column]))\n",
    "    \n",
    "    min_transcription = numpy.percentile(abundances, 50)\n",
    "    penalty_bound = 10\n",
    "    \n",
    "    hits = 0\n",
    "    fails = 0\n",
    "    for gene in list(model_context.genes):\n",
    "    \n",
    "        gene = gene.name\n",
    "    \n",
    "        try:\n",
    "            curr_rxns = list(model_context.genes.get_by_id(gene).reactions)\n",
    "            hits += 1\n",
    "        except KeyError:\n",
    "            fails += 1\n",
    "            continue\n",
    "    \n",
    "        try:\n",
    "            curr_transcription = transcript_dict[gene]\n",
    "        except KeyError:\n",
    "            continue\n",
    "\n",
    "        for reaction in curr_rxns:\n",
    "            curr_id = reaction.id\n",
    "        \n",
    "            if curr_transcription >= min_transcription:            \n",
    "                model_context.reactions.get_by_id(curr_id).lower_bound = -1000\n",
    "                model_context.reactions.get_by_id(curr_id).upper_bound = 1000\n",
    "            elif curr_transcription < min_transcription:\n",
    "                if model_context.reactions.get_by_id(curr_id).lower_bound != 0:\n",
    "                    model_context.reactions.get_by_id(curr_id).lower_bound = -penalty_bound\n",
    "                if model_context.reactions.get_by_id(curr_id).upper_bound != 0:\n",
    "                    model_context.reactions.get_by_id(curr_id).upper_bound = penalty_bound\n",
    "                  \n",
    "\n",
    "    #print('Gene hits across data types: ' + str(hits))\n",
    "    #print('KeyErrors across data types: ' + str(fails) + '\\n')\n",
    "    new_OV = model_context.optimize().objective_value\n",
    "    print('New objective value: ' + str(new_OV))\n",
    "    print('Contextualized doubling time: ' + doubling(new_OV))\n",
    "    \n",
    "    return(model_context)\n",
    "\n",
    "\n",
    "# Checks for availability of reactants of a given reaction\n",
    "def availability(model, target_rxn):\n",
    "\n",
    "    precursors = model.reactions.get_by_id(target_rxn).reactants\n",
    "    \n",
    "    total = 0\n",
    "    unsuccessful = set()\n",
    "    limited = set()\n",
    "    for precursor in precursors:\n",
    "        precursor_rxn = list(model.metabolites.get_by_id(precursor.id).reactions)\n",
    "        \n",
    "        for rxn in precursor_rxn:\n",
    "            if rxn.id == target_rxn:\n",
    "                continue\n",
    "            elif precursor in model.reactions.get_by_id(rxn.id).reactants:\n",
    "                \n",
    "                model.objective = rxn\n",
    "                obj_val = model.slim_optimize()\n",
    "                if obj_val < 1e-8:\n",
    "                    unsuccessful |= set([rxn.id])\n",
    "                    limited |= set([precursor.id])\n",
    "    \n",
    "    print('Failed reactions: ' + str(len(unsuccessful)))\n",
    "    print('Limiting reactants: ' + str(len(limited)))\n",
    "    \n",
    "    return unsuccessful, limited\n",
    "\n",
    "# Removes all metabolites in a list of metabolite ids and all reactions associated with them\n",
    "def removeAll(model, metabolite_list):\n",
    "    \n",
    "    new_model = copy.deepcopy(model)\n",
    "    \n",
    "    for metabolite in metabolite_list:\n",
    "        try:\n",
    "            metabolite = new_model.metabolites.get_by_id(metabolite)\n",
    "            new_model.remove_reactions(metabolite.reactions)\n",
    "            new_model.remove_metabolites([metabolite])\n",
    "        except KeyError:\n",
    "            print(metabolite + ' not found')\n",
    "            continue\n",
    "        \n",
    "    return new_model\n",
    "\n",
    "\n",
    "# Identify transport reactions (for any number compartments)\n",
    "def findTransports(model):\n",
    "    transporters = []\n",
    "    compartments = set(list(model.compartments))\n",
    "    if len(compartments) == 1:\n",
    "        raise Exception('Model only has one compartment!')\n",
    "    \n",
    "    for reaction in model.reactions:\n",
    "        \n",
    "        reactant_compartments = set([x.compartment for x in reaction.reactants])\n",
    "        product_compartments = set([x.compartment for x in reaction.products])\n",
    "        reactant_baseID = set([x.id.split('_')[0] for x in reaction.reactants])\n",
    "        product_baseID = set([x.id.split('_')[0] for x in reaction.products])\n",
    "        \n",
    "        if reactant_compartments == product_compartments and reactant_baseID != product_baseID:\n",
    "            continue\n",
    "        elif bool(compartments & reactant_compartments) == True and bool(compartments & product_compartments) == True:\n",
    "            transporters.append(reaction.id)\n",
    "        \n",
    "    return(transporters)\n",
    "\n",
    "# Removes a given percentage of reactions from a model, ignoring objective\n",
    "def generate_gaps(model, percentage=0.2, prune=False, ignore=[]):\n",
    "    number_to_remove = int(round(len(model.reactions) * percentage))\n",
    "    rxn_ids = [x.id for x in model.reactions]\n",
    "    random.shuffle(rxn_ids)\n",
    "    rxns_to_remove = rxn_ids[-number_to_remove:]\n",
    "        \n",
    "    for rxn in ignore:\n",
    "        try:\n",
    "            rxns_to_remove.remove(rxn)\n",
    "        except ValueError:\n",
    "            continue\n",
    "    \n",
    "    truncated_model = copy.deepcopy(model)\n",
    "    truncated_model.remove_reactions(rxns_to_remove)\n",
    "    \n",
    "    if prune == True:\n",
    "        unused_cpds = prune_unused_metabolites(truncated_model)\n",
    "    \n",
    "    print('Reactions removed: ' + str(len(rxns_to_remove)))\n",
    "    print('New objective value: ' + str(truncated_model.slim_optimize()))\n",
    "    return truncated_model, rxns_to_remove\n",
    "\n",
    "\n",
    "# Calculates the sum of fluxes for a given model\n",
    "def sum_of_fluxes(model):\n",
    "    \n",
    "    with model as m:\n",
    "        solution = m.optimize()\n",
    "        flux_sum = sum(list(solution.fluxes))\n",
    "        \n",
    "    return flux_sum\n"
   ]
  },
  {
   "cell_type": "code",
   "execution_count": 15,
   "metadata": {},
   "outputs": [],
   "source": [
    "# Very fast and efficient gap filling function\n",
    "def pFBA_GapFill(model, bag, obj=None, obj_lb=10., obj_constraint=False,\n",
    "                 iters=1, tasks=None, task_lb=0.05, \n",
    "                 add_exchanges=True, extracellular='e'):\n",
    "    '''\n",
    "    Function that utilizes iterations of pFBA solution with a universal reaction bag \n",
    "    in order to gapfill a model.\n",
    "    \n",
    "    Parameters\n",
    "    ----------\n",
    "    model : cobra.Model\n",
    "        Model to be gapfilled\n",
    "    bag : cobra.Model\n",
    "        Reaction bag reference to use during gapfilling\n",
    "    obj : string\n",
    "        Reaction ID for objective function in model to be gapfilled.\n",
    "    obj_lb : float\n",
    "        Lower bound for objective function\n",
    "    obj_constraint : bool\n",
    "        Sets objective as contstraint which must be maximized\n",
    "    tasks : list or None\n",
    "        List of reactions IDs (strings) of metabolic tasks \n",
    "        to set a minimum lower bound for\n",
    "    task_lb : float\n",
    "        Lower bound for any metabolic tasks\n",
    "    iters : int\n",
    "        Number of gapfilling rounds. Unique reactions from each round are \n",
    "        saved and the union is added simulatneously to the model\n",
    "    add_exchanges : bool\n",
    "        Identifies extracellular metabolites added during gapfilling that\n",
    "        are not associated with exchange reactions and creates them\n",
    "    extracellular : string\n",
    "        Label for extracellular compartment of model\n",
    "    '''\n",
    "    start_time = time.time()\n",
    "    \n",
    "    # Save some basic network info for downstream membership testing\n",
    "    orig_rxn_ids = set([str(x.id) for x in model.reactions])\n",
    "    orig_cpd_ids = set([str(y.id) for y in model.metabolites])\n",
    "    univ_rxn_ids = set([str(z.id) for z in bag.reactions])\n",
    "    \n",
    "    # Find overlap in model and reaction bag\n",
    "    overlap_rxn_ids = univ_rxn_ids.intersection(orig_rxn_ids)\n",
    "    \n",
    "    # Get model objective reaction ID\n",
    "    if obj == None:\n",
    "        obj = get_objective(model)\n",
    "    else:\n",
    "        obj = obj\n",
    "    \n",
    "    # Modify universal reaction bag\n",
    "    new_rxn_ids = set()\n",
    "    print('Creating universal model...')\n",
    "    with bag as universal:\n",
    "\n",
    "        # Remove overlapping reactions from universal bag, and reset objective if needed\n",
    "        for rxn in overlap_rxn_ids: \n",
    "            universal.reactions.get_by_id(rxn).remove_from_model()\n",
    "        \n",
    "        # Set objective in universal if told by user\n",
    "        # Made constraint as fraction of minimum in next step\n",
    "        if obj_constraint == True:\n",
    "            universal.add_reactions([model.reactions.get_by_id(obj)])\n",
    "            universal.objective = obj\n",
    "            orig_rxn_ids.remove(obj)\n",
    "            orig_rxns = []\n",
    "            for rxn in orig_rxn_ids: \n",
    "                orig_rxns.append(copy.deepcopy(model.reactions.get_by_id(rxn)))\n",
    "        else:\n",
    "            orig_rxns = list(copy.deepcopy(model.reactions))\n",
    "            \n",
    "        # Add pFBA to universal model and add model reactions\n",
    "        add_pfba(universal)\n",
    "        universal = copy.deepcopy(universal) # reset solver\n",
    "        universal.add_reactions(orig_rxns)\n",
    "        \n",
    "        # If previous objective not set as constraint, set minimum lower bound\n",
    "        if obj_constraint == False: \n",
    "            universal.reactions.get_by_id(obj).lower_bound = obj_lb\n",
    "    \n",
    "        # Set metabolic tasks that must carry flux in gapfilled solution\n",
    "        if tasks != None:\n",
    "            for task in tasks:                    \n",
    "                universal.reactions.get_by_id(task).lower_bound = task_lb\n",
    "                \n",
    "        # Run FBA and save solution\n",
    "        print('Optimizing model with combined reactions...')\n",
    "        solution = universal.optimize()\n",
    "\n",
    "        if iters > 1:\n",
    "            print('Generating flux sampling object...')\n",
    "            optgp_object = OptGPSampler(universal, processes=4)\n",
    "        \n",
    "            # Assess the sampled flux distributions\n",
    "            print('Sampling ' + str(iters) + ' flux distributions...')\n",
    "            flux_samples = optgp_object.sample(iters)\n",
    "            rxns = list(flux_samples.columns)\n",
    "            for distribution in flux_samples.iterrows():\n",
    "                for flux in range(0, len(list(distribution[1]))):\n",
    "                    if abs(list(distribution[1])[flux]) > 1e-6:\n",
    "                        new_rxn_ids |= set([rxns[flux]]).difference(orig_rxn_ids)\n",
    "        else:\n",
    "            rxns = list(solution.fluxes.index)\n",
    "            fluxes = list(solution.fluxes)\n",
    "            for flux in range(0, len(fluxes)):\n",
    "                if abs(fluxes[flux]) > 1e-6:\n",
    "                    new_rxn_ids |= set([rxns[flux]])\n",
    "    \n",
    "    # Screen new reaction IDs\n",
    "    if obj in new_rxn_ids: new_rxn_ids.remove(obj)\n",
    "    for rxn in orig_rxn_ids:\n",
    "        try:\n",
    "            new_rxn_ids.remove(rxn)\n",
    "        except:\n",
    "            continue\n",
    "    \n",
    "    # Get reactions and metabolites to be added to the model\n",
    "    print('Retrieving reactions and metabolites needed for gapfilling...')\n",
    "    new_rxns = copy.deepcopy([bag.reactions.get_by_id(rxn) for rxn in new_rxn_ids])\n",
    "    new_cpd_ids = set()\n",
    "    for rxn in new_rxns: new_cpd_ids |= set([str(x.id) for x in list(rxn.metabolites)])\n",
    "    new_cpd_ids = new_cpd_ids.difference(orig_cpd_ids)\n",
    "    new_cpds = copy.deepcopy([bag.metabolites.get_by_id(cpd) for cpd in new_cpd_ids])\n",
    "    \n",
    "    # Copy model and gapfill \n",
    "    print('Gapfilling model...')\n",
    "    new_model = copy.deepcopy(model)\n",
    "    new_model.add_metabolites(new_cpds)\n",
    "    new_model.add_reactions(new_rxns)\n",
    "    \n",
    "    # Identify extracellular metabolites with no exchanges\n",
    "    if add_exchanges == True:\n",
    "        new_exchanges = extend_exchanges(new_model, new_cpd_ids, extracellular)\n",
    "        if len(new_exchanges) > 0: new_rxn_ids |= new_exchanges\n",
    "    \n",
    "    duration = int(round(time.time() - start_time))\n",
    "    print('Took ' + str(duration) + ' seconds to gapfill ' + str(len(new_rxn_ids)) + \\\n",
    "          ' reactions and ' + str(len(new_cpd_ids)) + ' metabolites.') \n",
    "    \n",
    "    new_obj_val = new_model.slim_optimize()\n",
    "    if new_obj_val > 1e-6:\n",
    "        print('Gapfilled model objective now carries flux (' + str(new_obj_val) + ').')\n",
    "    else:\n",
    "        print('Gapfilled model objective still does not carry flux.')\n",
    "    \n",
    "    return new_model\n",
    "\n",
    "\n",
    "# Adds missing exchanges for extracellulart metbaolites\n",
    "def extend_exchanges(model, cpd_ids, ex):\n",
    "    \n",
    "    model_exchanges = set(find_boundary_types(model, 'exchange', external_compartment=ex))\n",
    "    new_ex_ids = set()\n",
    "    \n",
    "    for cpd in cpd_ids:\n",
    "        cpd = model.metabolites.get_by_id(cpd)\n",
    "        if str(cpd.compartment) != ex:\n",
    "            continue\n",
    "        else:\n",
    "            if bool(set(cpd.reactions) & model_exchanges) == False:\n",
    "                try:\n",
    "                    new_id = 'EX_' + cpd.id\n",
    "                    model.add_boundary(cpd, type='exchange', reaction_id=new_id, lb=-1000.0, ub=1000.0)\n",
    "                    new_ex_ids |= set([new_id])\n",
    "                except ValueError:\n",
    "                    pass\n",
    "\n",
    "    return new_ex_ids\n",
    "\n",
    "\n",
    "# Returns the reaction ID of the objective reaction\n",
    "def get_objective(model):\n",
    "    \n",
    "    if len(list(model.objective.variables)) == 0:\n",
    "        raise IndexError('Model has no objective set.')\n",
    "    \n",
    "    expression = str(model.objective.expression).split()\n",
    "    if 'reverse' in expression[0]:\n",
    "        obj_id = expression[2].split('*')[-1]\n",
    "    else:\n",
    "        obj_id = expression[0].split('*')[-1]\n",
    "            \n",
    "    return obj_id\n"
   ]
  },
  {
   "cell_type": "markdown",
   "metadata": {},
   "source": [
    "### Toy Model"
   ]
  },
  {
   "cell_type": "code",
   "execution_count": 100,
   "metadata": {},
   "outputs": [],
   "source": [
    "toy = cobra.io.read_sbml_model('data/toy_model.sbml')"
   ]
  },
  {
   "cell_type": "code",
   "execution_count": 101,
   "metadata": {},
   "outputs": [
    {
     "data": {
      "text/html": [
       "\n",
       "        <table>\n",
       "            <tr>\n",
       "                <td><strong>Name</strong></td>\n",
       "                <td>toy_model</td>\n",
       "            </tr><tr>\n",
       "                <td><strong>Memory address</strong></td>\n",
       "                <td>0x07f2274dbb590</td>\n",
       "            </tr><tr>\n",
       "                <td><strong>Number of metabolites</strong></td>\n",
       "                <td>7</td>\n",
       "            </tr><tr>\n",
       "                <td><strong>Number of reactions</strong></td>\n",
       "                <td>9</td>\n",
       "            </tr><tr>\n",
       "                <td><strong>Objective expression</strong></td>\n",
       "                <td>0</td>\n",
       "            </tr><tr>\n",
       "                <td><strong>Compartments</strong></td>\n",
       "                <td>c, e</td>\n",
       "            </tr>\n",
       "          </table>"
      ],
      "text/plain": [
       "<Model toy_model at 0x7f2274dbb590>"
      ]
     },
     "execution_count": 101,
     "metadata": {},
     "output_type": "execute_result"
    }
   ],
   "source": [
    "toy"
   ]
  },
  {
   "cell_type": "code",
   "execution_count": 102,
   "metadata": {},
   "outputs": [],
   "source": [
    "# Remove specific reactions\n",
    "test_model = copy.deepcopy(toy)\n",
    "test_model.remove_reactions(['rxn3','rxn4','rxn5','rxn6'])"
   ]
  },
  {
   "cell_type": "code",
   "execution_count": 103,
   "metadata": {},
   "outputs": [],
   "source": [
    "test_model.objective = 'biomass_rxn'"
   ]
  },
  {
   "cell_type": "code",
   "execution_count": 107,
   "metadata": {},
   "outputs": [
    {
     "name": "stdout",
     "output_type": "stream",
     "text": [
      "Creating universal model...\n",
      "Optimizing model with new reactions...\n",
      "Generating flux sampling object...\n",
      "Sampling 2 flux distributions...\n",
      "Retrieving reactions and metabolites needed for gapfilling...\n",
      "Gapfilling model...\n",
      "Took 0 seconds to gapfill 4 reactions and 0 metabolites.\n",
      "Gapfilled model objective now carries flux.\n"
     ]
    }
   ],
   "source": [
    "test_gapfill = pFBA_GapFill(test_model, toy, iters=2, extracellular='e')"
   ]
  },
  {
   "cell_type": "code",
   "execution_count": 105,
   "metadata": {},
   "outputs": [
    {
     "data": {
      "text/html": [
       "\n",
       "        <table>\n",
       "            <tr>\n",
       "                <td><strong>Name</strong></td>\n",
       "                <td>toy_model</td>\n",
       "            </tr><tr>\n",
       "                <td><strong>Memory address</strong></td>\n",
       "                <td>0x07f22d3afbb90</td>\n",
       "            </tr><tr>\n",
       "                <td><strong>Number of metabolites</strong></td>\n",
       "                <td>7</td>\n",
       "            </tr><tr>\n",
       "                <td><strong>Number of reactions</strong></td>\n",
       "                <td>9</td>\n",
       "            </tr><tr>\n",
       "                <td><strong>Objective expression</strong></td>\n",
       "                <td>1.0*biomass_rxn - 1.0*biomass_rxn_reverse_1a99c</td>\n",
       "            </tr><tr>\n",
       "                <td><strong>Compartments</strong></td>\n",
       "                <td>c, e</td>\n",
       "            </tr>\n",
       "          </table>"
      ],
      "text/plain": [
       "<Model toy_model at 0x7f22d3afbb90>"
      ]
     },
     "execution_count": 105,
     "metadata": {},
     "output_type": "execute_result"
    }
   ],
   "source": [
    "test_gapfill"
   ]
  },
  {
   "cell_type": "code",
   "execution_count": 159,
   "metadata": {},
   "outputs": [
    {
     "data": {
      "text/plain": [
       "1000.0"
      ]
     },
     "execution_count": 159,
     "metadata": {},
     "output_type": "execute_result"
    }
   ],
   "source": [
    "test_gapfill.slim_optimize()"
   ]
  },
  {
   "cell_type": "markdown",
   "metadata": {},
   "source": [
    "### iML1515"
   ]
  },
  {
   "cell_type": "code",
   "execution_count": 112,
   "metadata": {},
   "outputs": [],
   "source": [
    "iML1515 = cobra.io.read_sbml_model('data/iML1515.xml')"
   ]
  },
  {
   "cell_type": "code",
   "execution_count": 115,
   "metadata": {},
   "outputs": [
    {
     "data": {
      "text/html": [
       "\n",
       "        <table>\n",
       "            <tr>\n",
       "                <td><strong>Name</strong></td>\n",
       "                <td>iML1515</td>\n",
       "            </tr><tr>\n",
       "                <td><strong>Memory address</strong></td>\n",
       "                <td>0x07f2281e6f0d0</td>\n",
       "            </tr><tr>\n",
       "                <td><strong>Number of metabolites</strong></td>\n",
       "                <td>1877</td>\n",
       "            </tr><tr>\n",
       "                <td><strong>Number of reactions</strong></td>\n",
       "                <td>2712</td>\n",
       "            </tr><tr>\n",
       "                <td><strong>Objective expression</strong></td>\n",
       "                <td>-1.0*BIOMASS_Ec_iML1515_core_75p37M_reverse_35685 + 1.0*BIOMASS_Ec_iML1515_core_75p37M</td>\n",
       "            </tr><tr>\n",
       "                <td><strong>Compartments</strong></td>\n",
       "                <td>periplasm, cytosol, extracellular space</td>\n",
       "            </tr>\n",
       "          </table>"
      ],
      "text/plain": [
       "<Model iML1515 at 0x7f2281e6f0d0>"
      ]
     },
     "execution_count": 115,
     "metadata": {},
     "output_type": "execute_result"
    }
   ],
   "source": [
    "iML1515"
   ]
  },
  {
   "cell_type": "code",
   "execution_count": 114,
   "metadata": {},
   "outputs": [
    {
     "name": "stdout",
     "output_type": "stream",
     "text": [
      "Reactions removed: 271\n",
      "New objective value: nan\n"
     ]
    }
   ],
   "source": [
    "test_model, removed_rxns = generate_gaps(iML1515, percentage=0.1, prune=True, ignore=['BIOMASS_Ec_iML1515_core_75p37M_reverse','BIOMASS_Ec_iML1515_core_75p37M'])"
   ]
  },
  {
   "cell_type": "code",
   "execution_count": 116,
   "metadata": {},
   "outputs": [
    {
     "data": {
      "text/html": [
       "\n",
       "        <table>\n",
       "            <tr>\n",
       "                <td><strong>Name</strong></td>\n",
       "                <td>iML1515</td>\n",
       "            </tr><tr>\n",
       "                <td><strong>Memory address</strong></td>\n",
       "                <td>0x07f227709f590</td>\n",
       "            </tr><tr>\n",
       "                <td><strong>Number of metabolites</strong></td>\n",
       "                <td>1853</td>\n",
       "            </tr><tr>\n",
       "                <td><strong>Number of reactions</strong></td>\n",
       "                <td>2441</td>\n",
       "            </tr><tr>\n",
       "                <td><strong>Objective expression</strong></td>\n",
       "                <td>1.0*BIOMASS_Ec_iML1515_core_75p37M - 1.0*BIOMASS_Ec_iML1515_core_75p37M_reverse_35685</td>\n",
       "            </tr><tr>\n",
       "                <td><strong>Compartments</strong></td>\n",
       "                <td>periplasm, cytosol, extracellular space</td>\n",
       "            </tr>\n",
       "          </table>"
      ],
      "text/plain": [
       "<Model iML1515 at 0x7f227709f590>"
      ]
     },
     "execution_count": 116,
     "metadata": {},
     "output_type": "execute_result"
    }
   ],
   "source": [
    "test_model"
   ]
  },
  {
   "cell_type": "code",
   "execution_count": 117,
   "metadata": {},
   "outputs": [
    {
     "name": "stdout",
     "output_type": "stream",
     "text": [
      "Creating universal model...\n"
     ]
    },
    {
     "ename": "ContainerAlreadyContains",
     "evalue": "Container '<optlang.container.Container object at 0x7f22901fa290>' already contains an object with name 'fixed_objective_6c94da15-a6f0-11e8-bbc5-f8633f05fb68'.",
     "output_type": "error",
     "traceback": [
      "\u001b[0;31m---------------------------------------------------------------------------\u001b[0m",
      "\u001b[0;31mContainerAlreadyContains\u001b[0m                  Traceback (most recent call last)",
      "\u001b[0;32m<ipython-input-117-42974c757c9a>\u001b[0m in \u001b[0;36m<module>\u001b[0;34m()\u001b[0m\n\u001b[0;32m----> 1\u001b[0;31m \u001b[0mtest_gapfill\u001b[0m \u001b[0;34m=\u001b[0m \u001b[0mpFBA_GapFill\u001b[0m\u001b[0;34m(\u001b[0m\u001b[0mtest_model\u001b[0m\u001b[0;34m,\u001b[0m \u001b[0miML1515\u001b[0m\u001b[0;34m,\u001b[0m \u001b[0mlb\u001b[0m\u001b[0;34m=\u001b[0m\u001b[0;36m100.\u001b[0m\u001b[0;34m)\u001b[0m\u001b[0;34m\u001b[0m\u001b[0m\n\u001b[0m        \u001b[0;36mglobal\u001b[0m \u001b[0;36mtest_gapfill\u001b[0m \u001b[0;34m= <Model iML1515 at 0x7f2271afa090>\u001b[0m\u001b[0;34m\n        \u001b[0m\u001b[0;36mglobal\u001b[0m \u001b[0;36mpFBA_GapFill\u001b[0m \u001b[0;34m= <function pFBA_GapFill at 0x7f226fcdf488>\u001b[0m\u001b[0;34m\n        \u001b[0m\u001b[0;36mglobal\u001b[0m \u001b[0;36mtest_model\u001b[0m \u001b[0;34m= <Model iML1515 at 0x7f227709f590>\u001b[0m\u001b[0;34m\n        \u001b[0m\u001b[0;36mglobal\u001b[0m \u001b[0;36miML1515\u001b[0m \u001b[0;34m= <Model iML1515 at 0x7f2281e6f0d0>\u001b[0m\u001b[0;34m\n        \u001b[0m\u001b[0;36mglobal\u001b[0m \u001b[0;36mlb\u001b[0m \u001b[0;34m= \u001b[0;36mundefined\u001b[0m\u001b[0m\n",
      "\u001b[0;32m<ipython-input-106-82bc3aa91ae0>\u001b[0m in \u001b[0;36mpFBA_GapFill\u001b[0;34m(model=<Model iML1515>, bag=<Model iML1515>, tasks=None, lb=100.0, obj='BIOMASS_Ec_iML1515_core_75p37M', iters=1, add_exchanges=True, extracellular='Extracellular', obj_constraint=False)\u001b[0m\n\u001b[1;32m    100\u001b[0m             \u001b[0;32mfor\u001b[0m \u001b[0mflux\u001b[0m \u001b[0;32min\u001b[0m \u001b[0mrange\u001b[0m\u001b[0;34m(\u001b[0m\u001b[0;36m0\u001b[0m\u001b[0;34m,\u001b[0m \u001b[0mlen\u001b[0m\u001b[0;34m(\u001b[0m\u001b[0mfluxes\u001b[0m\u001b[0;34m)\u001b[0m\u001b[0;34m)\u001b[0m\u001b[0;34m:\u001b[0m\u001b[0;34m\u001b[0m\u001b[0m\n\u001b[1;32m    101\u001b[0m                 \u001b[0;32mif\u001b[0m \u001b[0mabs\u001b[0m\u001b[0;34m(\u001b[0m\u001b[0mfluxes\u001b[0m\u001b[0;34m[\u001b[0m\u001b[0mflux\u001b[0m\u001b[0;34m]\u001b[0m\u001b[0;34m)\u001b[0m \u001b[0;34m>\u001b[0m \u001b[0;36m1e-6\u001b[0m\u001b[0;34m:\u001b[0m\u001b[0;34m\u001b[0m\u001b[0m\n\u001b[0;32m--> 102\u001b[0;31m                     \u001b[0mnew_rxn_ids\u001b[0m \u001b[0;34m|=\u001b[0m \u001b[0mset\u001b[0m\u001b[0;34m(\u001b[0m\u001b[0;34m[\u001b[0m\u001b[0mrxns\u001b[0m\u001b[0;34m[\u001b[0m\u001b[0mflux\u001b[0m\u001b[0;34m]\u001b[0m\u001b[0;34m]\u001b[0m\u001b[0;34m)\u001b[0m\u001b[0;34m\u001b[0m\u001b[0m\n\u001b[0m        \u001b[0;36mnew_rxn_ids\u001b[0m \u001b[0;34m= set([])\u001b[0m\u001b[0;34m\n        \u001b[0m\u001b[0;36mglobal\u001b[0m \u001b[0;36mset\u001b[0m \u001b[0;34m= \u001b[0;36mundefined\u001b[0m\u001b[0m\u001b[0;34m\n        \u001b[0m\u001b[0;36mrxns\u001b[0m \u001b[0;34m= \u001b[0;36mundefined\u001b[0m\u001b[0m\u001b[0;34m\n        \u001b[0m\u001b[0;36mflux\u001b[0m \u001b[0;34m= \u001b[0;36mundefined\u001b[0m\u001b[0m\n\u001b[1;32m    103\u001b[0m \u001b[0;34m\u001b[0m\u001b[0m\n\u001b[1;32m    104\u001b[0m     \u001b[0;31m# Screen new reaction IDs\u001b[0m\u001b[0;34m\u001b[0m\u001b[0;34m\u001b[0m\u001b[0m\n",
      "\u001b[0;32m/home/mjenior/anaconda2/lib/python2.7/site-packages/cobra/core/model.pyc\u001b[0m in \u001b[0;36m__exit__\u001b[0;34m(self=<Model iML1515>, type=<type 'exceptions.TypeError'>, value=TypeError(\"in method 'intArray___setitem__', argument 3 of type 'int'\",), traceback=<traceback object>)\u001b[0m\n\u001b[1;32m   1010\u001b[0m         \u001b[0;34m\"\"\"Pop the top context manager and trigger the undo functions\"\"\"\u001b[0m\u001b[0;34m\u001b[0m\u001b[0m\n\u001b[1;32m   1011\u001b[0m         \u001b[0mcontext\u001b[0m \u001b[0;34m=\u001b[0m \u001b[0mself\u001b[0m\u001b[0;34m.\u001b[0m\u001b[0m_contexts\u001b[0m\u001b[0;34m.\u001b[0m\u001b[0mpop\u001b[0m\u001b[0;34m(\u001b[0m\u001b[0;34m)\u001b[0m\u001b[0;34m\u001b[0m\u001b[0m\n\u001b[0;32m-> 1012\u001b[0;31m         \u001b[0mcontext\u001b[0m\u001b[0;34m.\u001b[0m\u001b[0mreset\u001b[0m\u001b[0;34m(\u001b[0m\u001b[0;34m)\u001b[0m\u001b[0;34m\u001b[0m\u001b[0m\n\u001b[0m        \u001b[0;36mcontext.reset\u001b[0m \u001b[0;34m= <bound method HistoryManager.reset of <cobra.util.context.HistoryManager object at 0x7f2271158a50>>\u001b[0m\n\u001b[1;32m   1013\u001b[0m \u001b[0;34m\u001b[0m\u001b[0m\n\u001b[1;32m   1014\u001b[0m     def merge(self, right, prefix_existing=None, inplace=True,\n",
      "\u001b[0;32m/home/mjenior/anaconda2/lib/python2.7/site-packages/cobra/util/context.pyc\u001b[0m in \u001b[0;36mreset\u001b[0;34m(self=<cobra.util.context.HistoryManager object>)\u001b[0m\n\u001b[1;32m     34\u001b[0m         \u001b[0;32mwhile\u001b[0m \u001b[0mself\u001b[0m\u001b[0;34m.\u001b[0m\u001b[0m_history\u001b[0m\u001b[0;34m:\u001b[0m\u001b[0;34m\u001b[0m\u001b[0m\n\u001b[1;32m     35\u001b[0m             \u001b[0mentry\u001b[0m \u001b[0;34m=\u001b[0m \u001b[0mself\u001b[0m\u001b[0;34m.\u001b[0m\u001b[0m_history\u001b[0m\u001b[0;34m.\u001b[0m\u001b[0mpop\u001b[0m\u001b[0;34m(\u001b[0m\u001b[0;34m)\u001b[0m\u001b[0;34m\u001b[0m\u001b[0m\n\u001b[0;32m---> 36\u001b[0;31m             \u001b[0mentry\u001b[0m\u001b[0;34m(\u001b[0m\u001b[0;34m)\u001b[0m\u001b[0;34m\u001b[0m\u001b[0m\n\u001b[0m        \u001b[0;36mentry\u001b[0m \u001b[0;34m= <functools.partial object at 0x7f226f9c9ba8>\u001b[0m\n\u001b[1;32m     37\u001b[0m \u001b[0;34m\u001b[0m\u001b[0m\n\u001b[1;32m     38\u001b[0m \u001b[0;34m\u001b[0m\u001b[0m\n",
      "\u001b[0;32m/home/mjenior/anaconda2/lib/python2.7/site-packages/optlang/interface.pyc\u001b[0m in \u001b[0;36mremove\u001b[0;34m(self=<optlang.glpk_interface.Model object>, stuff=<optlang.glpk_interface.Constraint object>)\u001b[0m\n\u001b[1;32m   1386\u001b[0m         \"\"\"\n\u001b[1;32m   1387\u001b[0m         \u001b[0;32mif\u001b[0m \u001b[0mself\u001b[0m\u001b[0;34m.\u001b[0m\u001b[0m_pending_modifications\u001b[0m\u001b[0;34m.\u001b[0m\u001b[0mtoggle\u001b[0m \u001b[0;34m==\u001b[0m \u001b[0;34m'add'\u001b[0m\u001b[0;34m:\u001b[0m\u001b[0;34m\u001b[0m\u001b[0m\n\u001b[0;32m-> 1388\u001b[0;31m             \u001b[0mself\u001b[0m\u001b[0;34m.\u001b[0m\u001b[0mupdate\u001b[0m\u001b[0;34m(\u001b[0m\u001b[0;34m)\u001b[0m\u001b[0;34m\u001b[0m\u001b[0m\n\u001b[0m        \u001b[0;36mself.update\u001b[0m \u001b[0;34m= <bound method Model.update of <optlang.glpk_interface.Model object at 0x7f2277b94210>>\u001b[0m\n\u001b[1;32m   1389\u001b[0m             \u001b[0mself\u001b[0m\u001b[0;34m.\u001b[0m\u001b[0m_pending_modifications\u001b[0m\u001b[0;34m.\u001b[0m\u001b[0mtoggle\u001b[0m \u001b[0;34m=\u001b[0m \u001b[0;34m'remove'\u001b[0m\u001b[0;34m\u001b[0m\u001b[0m\n\u001b[1;32m   1390\u001b[0m         \u001b[0;32mif\u001b[0m \u001b[0misinstance\u001b[0m\u001b[0;34m(\u001b[0m\u001b[0mstuff\u001b[0m\u001b[0;34m,\u001b[0m \u001b[0mstr\u001b[0m\u001b[0;34m)\u001b[0m\u001b[0;34m:\u001b[0m\u001b[0;34m\u001b[0m\u001b[0m\n",
      "\u001b[0;32m/home/mjenior/anaconda2/lib/python2.7/site-packages/optlang/interface.pyc\u001b[0m in \u001b[0;36mupdate\u001b[0;34m(self=<optlang.glpk_interface.Model object>, callback=<type 'int'>)\u001b[0m\n\u001b[1;32m   1429\u001b[0m         \u001b[0madd_constr_sloppy\u001b[0m \u001b[0;34m=\u001b[0m \u001b[0mself\u001b[0m\u001b[0;34m.\u001b[0m\u001b[0m_pending_modifications\u001b[0m\u001b[0;34m.\u001b[0m\u001b[0madd_constr_sloppy\u001b[0m\u001b[0;34m\u001b[0m\u001b[0m\n\u001b[1;32m   1430\u001b[0m         \u001b[0;32mif\u001b[0m \u001b[0mlen\u001b[0m\u001b[0;34m(\u001b[0m\u001b[0madd_constr_sloppy\u001b[0m\u001b[0;34m)\u001b[0m \u001b[0;34m>\u001b[0m \u001b[0;36m0\u001b[0m\u001b[0;34m:\u001b[0m\u001b[0;34m\u001b[0m\u001b[0m\n\u001b[0;32m-> 1431\u001b[0;31m             \u001b[0mself\u001b[0m\u001b[0;34m.\u001b[0m\u001b[0m_add_constraints\u001b[0m\u001b[0;34m(\u001b[0m\u001b[0madd_constr_sloppy\u001b[0m\u001b[0;34m,\u001b[0m \u001b[0msloppy\u001b[0m\u001b[0;34m=\u001b[0m\u001b[0mTrue\u001b[0m\u001b[0;34m)\u001b[0m\u001b[0;34m\u001b[0m\u001b[0m\n\u001b[0m        \u001b[0;36mself._add_constraints\u001b[0m \u001b[0;34m= <bound method Model._add_constraints of <optlang.glpk_interface.Model object at 0x7f2277b94210>>\u001b[0m\u001b[0;34m\n        \u001b[0m\u001b[0;36madd_constr_sloppy\u001b[0m \u001b[0;34m= [<optlang.glpk_interface.Constraint object at 0x7f227a43fe10>]\u001b[0m\u001b[0;34m\n        \u001b[0m\u001b[0;36mglobal\u001b[0m \u001b[0;36msloppy\u001b[0m \u001b[0;34m= \u001b[0;36mundefined\u001b[0m\u001b[0m\u001b[0;34m\n        \u001b[0m\u001b[0;36mglobal\u001b[0m \u001b[0;36mTrue\u001b[0m \u001b[0;34m= \u001b[0;36mundefined\u001b[0m\u001b[0m\n\u001b[1;32m   1432\u001b[0m             \u001b[0mself\u001b[0m\u001b[0;34m.\u001b[0m\u001b[0m_pending_modifications\u001b[0m\u001b[0;34m.\u001b[0m\u001b[0madd_constr_sloppy\u001b[0m \u001b[0;34m=\u001b[0m \u001b[0;34m[\u001b[0m\u001b[0;34m]\u001b[0m\u001b[0;34m\u001b[0m\u001b[0m\n\u001b[1;32m   1433\u001b[0m \u001b[0;34m\u001b[0m\u001b[0m\n",
      "\u001b[0;32m/home/mjenior/anaconda2/lib/python2.7/site-packages/optlang/glpk_interface.pyc\u001b[0m in \u001b[0;36m_add_constraints\u001b[0;34m(self=<optlang.glpk_interface.Model object>, constraints=[<optlang.glpk_interface.Constraint object>], sloppy=True)\u001b[0m\n\u001b[1;32m    752\u001b[0m \u001b[0;34m\u001b[0m\u001b[0m\n\u001b[1;32m    753\u001b[0m     \u001b[0;32mdef\u001b[0m \u001b[0m_add_constraints\u001b[0m\u001b[0;34m(\u001b[0m\u001b[0mself\u001b[0m\u001b[0;34m,\u001b[0m \u001b[0mconstraints\u001b[0m\u001b[0;34m,\u001b[0m \u001b[0msloppy\u001b[0m\u001b[0;34m=\u001b[0m\u001b[0mFalse\u001b[0m\u001b[0;34m)\u001b[0m\u001b[0;34m:\u001b[0m\u001b[0;34m\u001b[0m\u001b[0m\n\u001b[0;32m--> 754\u001b[0;31m         \u001b[0msuper\u001b[0m\u001b[0;34m(\u001b[0m\u001b[0mModel\u001b[0m\u001b[0;34m,\u001b[0m \u001b[0mself\u001b[0m\u001b[0;34m)\u001b[0m\u001b[0;34m.\u001b[0m\u001b[0m_add_constraints\u001b[0m\u001b[0;34m(\u001b[0m\u001b[0mconstraints\u001b[0m\u001b[0;34m,\u001b[0m \u001b[0msloppy\u001b[0m\u001b[0;34m=\u001b[0m\u001b[0msloppy\u001b[0m\u001b[0;34m)\u001b[0m\u001b[0;34m\u001b[0m\u001b[0m\n\u001b[0m        \u001b[0;36mglobal\u001b[0m \u001b[0;36msuper\u001b[0m \u001b[0;34m= \u001b[0;36mundefined\u001b[0m\u001b[0m\u001b[0;34m\n        \u001b[0m\u001b[0;36mglobal\u001b[0m \u001b[0;36mModel\u001b[0m \u001b[0;34m= <class 'optlang.glpk_interface.Model'>\u001b[0m\u001b[0;34m\n        \u001b[0m\u001b[0;36mself._add_constraints\u001b[0m \u001b[0;34m= <bound method Model._add_constraints of <optlang.glpk_interface.Model object at 0x7f2277b94210>>\u001b[0m\u001b[0;34m\n        \u001b[0m\u001b[0;36mconstraints\u001b[0m \u001b[0;34m= [<optlang.glpk_interface.Constraint object at 0x7f227a43fe10>]\u001b[0m\u001b[0;34m\n        \u001b[0m\u001b[0;36msloppy\u001b[0m \u001b[0;34m= True\u001b[0m\n\u001b[1;32m    755\u001b[0m         \u001b[0;32mfor\u001b[0m \u001b[0mconstraint\u001b[0m \u001b[0;32min\u001b[0m \u001b[0mconstraints\u001b[0m\u001b[0;34m:\u001b[0m\u001b[0;34m\u001b[0m\u001b[0m\n\u001b[1;32m    756\u001b[0m             \u001b[0mconstraint\u001b[0m\u001b[0;34m.\u001b[0m\u001b[0m_problem\u001b[0m \u001b[0;34m=\u001b[0m \u001b[0mNone\u001b[0m  \u001b[0;31m# This needs to be done in order to not trigger constraint._get_expression()\u001b[0m\u001b[0;34m\u001b[0m\u001b[0m\n",
      "\u001b[0;32m/home/mjenior/anaconda2/lib/python2.7/site-packages/optlang/interface.pyc\u001b[0m in \u001b[0;36m_add_constraints\u001b[0;34m(self=<optlang.glpk_interface.Model object>, constraints=[<optlang.glpk_interface.Constraint object>], sloppy=True)\u001b[0m\n\u001b[1;32m   1533\u001b[0m                     \u001b[0;32mexcept\u001b[0m \u001b[0mKeyError\u001b[0m\u001b[0;34m:\u001b[0m\u001b[0;34m\u001b[0m\u001b[0m\n\u001b[1;32m   1534\u001b[0m                         \u001b[0mself\u001b[0m\u001b[0;34m.\u001b[0m\u001b[0m_variables_to_constraints_mapping\u001b[0m\u001b[0;34m[\u001b[0m\u001b[0mvar\u001b[0m\u001b[0;34m.\u001b[0m\u001b[0mname\u001b[0m\u001b[0;34m]\u001b[0m \u001b[0;34m=\u001b[0m \u001b[0mset\u001b[0m\u001b[0;34m(\u001b[0m\u001b[0;34m[\u001b[0m\u001b[0mconstraint_id\u001b[0m\u001b[0;34m]\u001b[0m\u001b[0;34m)\u001b[0m\u001b[0;34m\u001b[0m\u001b[0m\n\u001b[0;32m-> 1535\u001b[0;31m             \u001b[0mself\u001b[0m\u001b[0;34m.\u001b[0m\u001b[0m_constraints\u001b[0m\u001b[0;34m.\u001b[0m\u001b[0mappend\u001b[0m\u001b[0;34m(\u001b[0m\u001b[0mconstraint\u001b[0m\u001b[0;34m)\u001b[0m\u001b[0;34m\u001b[0m\u001b[0m\n\u001b[0m        \u001b[0;36mself._constraints.append\u001b[0m \u001b[0;34m= <bound method Container.append of <optlang.container.Container object at 0x7f22901fa290>>\u001b[0m\u001b[0;34m\n        \u001b[0m\u001b[0;36mconstraint\u001b[0m \u001b[0;34m= <optlang.glpk_interface.Constraint object at 0x7f227a43fe10>\u001b[0m\n\u001b[1;32m   1536\u001b[0m             \u001b[0mconstraint\u001b[0m\u001b[0;34m.\u001b[0m\u001b[0m_problem\u001b[0m \u001b[0;34m=\u001b[0m \u001b[0mself\u001b[0m\u001b[0;34m\u001b[0m\u001b[0m\n\u001b[1;32m   1537\u001b[0m \u001b[0;34m\u001b[0m\u001b[0m\n",
      "\u001b[0;32m/home/mjenior/anaconda2/lib/python2.7/site-packages/optlang/container.pyc\u001b[0m in \u001b[0;36mappend\u001b[0;34m(self=<optlang.container.Container object>, value=<optlang.glpk_interface.Constraint object>)\u001b[0m\n\u001b[1;32m    170\u001b[0m         \u001b[0mname\u001b[0m \u001b[0;34m=\u001b[0m \u001b[0mvalue\u001b[0m\u001b[0;34m.\u001b[0m\u001b[0mname\u001b[0m\u001b[0;34m\u001b[0m\u001b[0m\n\u001b[1;32m    171\u001b[0m         \u001b[0;32mif\u001b[0m \u001b[0mname\u001b[0m \u001b[0;32min\u001b[0m \u001b[0mself\u001b[0m\u001b[0;34m.\u001b[0m\u001b[0m_dict\u001b[0m\u001b[0;34m:\u001b[0m\u001b[0;34m\u001b[0m\u001b[0m\n\u001b[0;32m--> 172\u001b[0;31m             \u001b[0;32mraise\u001b[0m \u001b[0mContainerAlreadyContains\u001b[0m\u001b[0;34m(\u001b[0m\u001b[0;34m\"Container '%s' already contains an object with name '%s'.\"\u001b[0m \u001b[0;34m%\u001b[0m \u001b[0;34m(\u001b[0m\u001b[0mself\u001b[0m\u001b[0;34m,\u001b[0m \u001b[0mvalue\u001b[0m\u001b[0;34m.\u001b[0m\u001b[0mname\u001b[0m\u001b[0;34m)\u001b[0m\u001b[0;34m)\u001b[0m\u001b[0;34m\u001b[0m\u001b[0m\n\u001b[0m        \u001b[0;36mglobal\u001b[0m \u001b[0;36mContainerAlreadyContains\u001b[0m \u001b[0;34m= <class 'optlang.exceptions.ContainerAlreadyContains'>\u001b[0m\u001b[0;34m\n        \u001b[0m\u001b[0;36mself\u001b[0m \u001b[0;34m= <optlang.container.Container object at 0x7f22901fa290>\u001b[0m\u001b[0;34m\n        \u001b[0m\u001b[0;36mvalue.name\u001b[0m \u001b[0;34m= 'fixed_objective_6c94da15-a6f0-11e8-bbc5-f8633f05fb68'\u001b[0m\n\u001b[1;32m    173\u001b[0m         \u001b[0mself\u001b[0m\u001b[0;34m.\u001b[0m\u001b[0m_indices\u001b[0m\u001b[0;34m[\u001b[0m\u001b[0mname\u001b[0m\u001b[0;34m]\u001b[0m \u001b[0;34m=\u001b[0m \u001b[0mlen\u001b[0m\u001b[0;34m(\u001b[0m\u001b[0mself\u001b[0m\u001b[0;34m)\u001b[0m\u001b[0;34m\u001b[0m\u001b[0m\n\u001b[1;32m    174\u001b[0m         \u001b[0mself\u001b[0m\u001b[0;34m.\u001b[0m\u001b[0m_object_list\u001b[0m\u001b[0;34m.\u001b[0m\u001b[0mappend\u001b[0m\u001b[0;34m(\u001b[0m\u001b[0mvalue\u001b[0m\u001b[0;34m)\u001b[0m\u001b[0;34m\u001b[0m\u001b[0m\n",
      "\u001b[0;31mContainerAlreadyContains\u001b[0m: Container '<optlang.container.Container object at 0x7f22901fa290>' already contains an object with name 'fixed_objective_6c94da15-a6f0-11e8-bbc5-f8633f05fb68'."
     ]
    }
   ],
   "source": [
    "test_gapfill = pFBA_GapFill(test_model, iML1515, obj_lb=10.)"
   ]
  },
  {
   "cell_type": "code",
   "execution_count": 73,
   "metadata": {},
   "outputs": [
    {
     "data": {
      "text/html": [
       "\n",
       "        <table>\n",
       "            <tr>\n",
       "                <td><strong>Name</strong></td>\n",
       "                <td>iML1515</td>\n",
       "            </tr><tr>\n",
       "                <td><strong>Memory address</strong></td>\n",
       "                <td>0x07f2276358950</td>\n",
       "            </tr><tr>\n",
       "                <td><strong>Number of metabolites</strong></td>\n",
       "                <td>1877</td>\n",
       "            </tr><tr>\n",
       "                <td><strong>Number of reactions</strong></td>\n",
       "                <td>2441</td>\n",
       "            </tr><tr>\n",
       "                <td><strong>Objective expression</strong></td>\n",
       "                <td>1.0*BIOMASS_Ec_iML1515_core_75p37M - 1.0*BIOMASS_Ec_iML1515_core_75p37M_reverse_35685</td>\n",
       "            </tr><tr>\n",
       "                <td><strong>Compartments</strong></td>\n",
       "                <td>periplasm, cytosol, extracellular space</td>\n",
       "            </tr>\n",
       "          </table>"
      ],
      "text/plain": [
       "<Model iML1515 at 0x7f2276358950>"
      ]
     },
     "execution_count": 73,
     "metadata": {},
     "output_type": "execute_result"
    }
   ],
   "source": [
    "test_gapfill"
   ]
  },
  {
   "cell_type": "markdown",
   "metadata": {},
   "source": [
    "### New C. difficile model"
   ]
  },
  {
   "cell_type": "code",
   "execution_count": 16,
   "metadata": {},
   "outputs": [],
   "source": [
    "# Read in models\n",
    "universal = cobra.io.load_json_model('data/universal.json')\n",
    "cd630_PATRIC = cobra.io.read_sbml_model('data/PATRIC/temp_cd630PATRIC.sbml') # partially curated"
   ]
  },
  {
   "cell_type": "code",
   "execution_count": 17,
   "metadata": {},
   "outputs": [
    {
     "name": "stdout",
     "output_type": "stream",
     "text": [
      "Creating universal model...\n",
      "Optimizing model with new reactions...\n",
      "Retrieving reactions and metabolites needed for gapfilling...\n",
      "Gapfilling model...\n",
      "Took 84 seconds to gapfill 23 reactions and 1 metabolites.\n",
      "Gapfilled model objective now carries flux (97.8947890902).\n"
     ]
    }
   ],
   "source": [
    "test_gapfill = pFBA_GapFill(cd630_PATRIC, universal, iters=1, obj_lb=50., extracellular='Extracellular')"
   ]
  },
  {
   "cell_type": "code",
   "execution_count": 18,
   "metadata": {},
   "outputs": [
    {
     "data": {
      "text/plain": [
       "'36.774 minutes'"
      ]
     },
     "execution_count": 18,
     "metadata": {},
     "output_type": "execute_result"
    }
   ],
   "source": [
    "doubling(test_gapfill)"
   ]
  },
  {
   "cell_type": "code",
   "execution_count": 22,
   "metadata": {},
   "outputs": [
    {
     "data": {
      "text/html": [
       "\n",
       "        <table>\n",
       "            <tr>\n",
       "                <td><strong>Name</strong></td>\n",
       "                <td>272563.8</td>\n",
       "            </tr><tr>\n",
       "                <td><strong>Memory address</strong></td>\n",
       "                <td>0x07f1826246110</td>\n",
       "            </tr><tr>\n",
       "                <td><strong>Number of metabolites</strong></td>\n",
       "                <td>1248</td>\n",
       "            </tr><tr>\n",
       "                <td><strong>Number of reactions</strong></td>\n",
       "                <td>1193</td>\n",
       "            </tr><tr>\n",
       "                <td><strong>Objective expression</strong></td>\n",
       "                <td>1.0*biomass - 1.0*biomass_reverse_01e59</td>\n",
       "            </tr><tr>\n",
       "                <td><strong>Compartments</strong></td>\n",
       "                <td>Cytosol, Extracellular</td>\n",
       "            </tr>\n",
       "          </table>"
      ],
      "text/plain": [
       "<Model 272563.8 at 0x7f1826246110>"
      ]
     },
     "execution_count": 22,
     "metadata": {},
     "output_type": "execute_result"
    }
   ],
   "source": [
    "test_gapfill"
   ]
  },
  {
   "cell_type": "code",
   "execution_count": 20,
   "metadata": {},
   "outputs": [],
   "source": [
    "unused = prune_unused_metabolites(test_gapfill)"
   ]
  },
  {
   "cell_type": "code",
   "execution_count": 23,
   "metadata": {},
   "outputs": [],
   "source": [
    "new_rxns = set([str(x.id) for x in test_gapfill.reactions]).difference(set([str(y.id) for y in cd630_PATRIC.reactions]))"
   ]
  },
  {
   "cell_type": "code",
   "execution_count": 24,
   "metadata": {},
   "outputs": [
    {
     "data": {
      "text/plain": [
       "{'rxn00553_c',\n",
       " 'rxn00620_c',\n",
       " 'rxn01352_c',\n",
       " 'rxn01520_c',\n",
       " 'rxn02011_c',\n",
       " 'rxn02286_c',\n",
       " 'rxn03852_c',\n",
       " 'rxn05291_c',\n",
       " 'rxn05293_c',\n",
       " 'rxn07466_c',\n",
       " 'rxn08040_c',\n",
       " 'rxn09016_c',\n",
       " 'rxn09063_c',\n",
       " 'rxn09065_c',\n",
       " 'rxn09119_c',\n",
       " 'rxn09124_c',\n",
       " 'rxn09147_c',\n",
       " 'rxn09163_c',\n",
       " 'rxn09341_c',\n",
       " 'rxn09429_c',\n",
       " 'rxn09433_c',\n",
       " 'rxn13012_c',\n",
       " 'rxn13914_c'}"
      ]
     },
     "execution_count": 24,
     "metadata": {},
     "output_type": "execute_result"
    }
   ],
   "source": [
    "new_rxns"
   ]
  },
  {
   "cell_type": "code",
   "execution_count": 45,
   "metadata": {},
   "outputs": [
    {
     "data": {
      "text/html": [
       "\n",
       "        <table>\n",
       "            <tr>\n",
       "                <td><strong>Reaction identifier</strong></td><td>rxn00553_c</td>\n",
       "            </tr><tr>\n",
       "                <td><strong>Name</strong></td><td>UDP-glucose:D-fructose-6-phosphate 2-alpha-D-glucosyltransferase</td>\n",
       "            </tr><tr>\n",
       "                <td><strong>Memory address</strong></td>\n",
       "                <td>0x07f1825e94350</td>\n",
       "            </tr><tr>\n",
       "                <td><strong>Stoichiometry</strong></td>\n",
       "                <td>\n",
       "                    <p style='text-align:right'>cpd00026_c + cpd00072_c <=> cpd00014_c + cpd01693_c</p>\n",
       "                    <p style='text-align:right'>UDP-glucose + D-fructose-6-phosphate <=> UDP + 6-Phosphosucrose</p>\n",
       "                </td>\n",
       "            </tr><tr>\n",
       "                <td><strong>GPR</strong></td><td></td>\n",
       "            </tr><tr>\n",
       "                <td><strong>Lower bound</strong></td><td>-1000.0</td>\n",
       "            </tr><tr>\n",
       "                <td><strong>Upper bound</strong></td><td>1000.0</td>\n",
       "            </tr>\n",
       "        </table>\n",
       "        "
      ],
      "text/plain": [
       "<Reaction rxn00553_c at 0x7f1825e94350>"
      ]
     },
     "execution_count": 45,
     "metadata": {},
     "output_type": "execute_result"
    }
   ],
   "source": [
    "test_gapfill.reactions.get_by_id('rxn00553_c')"
   ]
  },
  {
   "cell_type": "code",
   "execution_count": 48,
   "metadata": {},
   "outputs": [],
   "source": [
    "cobra.io.write_sbml_model(test_gapfill, 'data/cd630_gapfilled.sbml')"
   ]
  },
  {
   "cell_type": "code",
   "execution_count": 23,
   "metadata": {},
   "outputs": [],
   "source": [
    "new_rxns = set([str(x.id) for x in test_gapfill.reactions]).difference(set([str(y.id) for y in cd630_PATRIC.reactions]))"
   ]
  },
  {
   "cell_type": "code",
   "execution_count": 24,
   "metadata": {},
   "outputs": [
    {
     "data": {
      "text/plain": [
       "{'rxn00553_c',\n",
       " 'rxn00620_c',\n",
       " 'rxn02011_c',\n",
       " 'rxn02286_c',\n",
       " 'rxn03852_c',\n",
       " 'rxn05291_c',\n",
       " 'rxn05293_c',\n",
       " 'rxn07466_c',\n",
       " 'rxn08040_c',\n",
       " 'rxn09063_c',\n",
       " 'rxn09065_c',\n",
       " 'rxn09145_c',\n",
       " 'rxn09147_c',\n",
       " 'rxn09163_c',\n",
       " 'rxn09429_c',\n",
       " 'rxn09433_c',\n",
       " 'rxn13782_c',\n",
       " 'rxn13783_c',\n",
       " 'rxn13784_c',\n",
       " 'rxn13914_c'}"
      ]
     },
     "execution_count": 24,
     "metadata": {},
     "output_type": "execute_result"
    }
   ],
   "source": [
    "new_rxns"
   ]
  },
  {
   "cell_type": "code",
   "execution_count": null,
   "metadata": {},
   "outputs": [],
   "source": [
    "\n",
    "\n",
    "#need to probably fix reversibility of gapfilled reactions...\n",
    "\n"
   ]
  },
  {
   "cell_type": "code",
   "execution_count": 44,
   "metadata": {},
   "outputs": [
    {
     "data": {
      "text/html": [
       "\n",
       "        <table>\n",
       "            <tr>\n",
       "                <td><strong>Reaction identifier</strong></td><td>rxn13784_c</td>\n",
       "            </tr><tr>\n",
       "                <td><strong>Name</strong></td><td>RNA transcription</td>\n",
       "            </tr><tr>\n",
       "                <td><strong>Memory address</strong></td>\n",
       "                <td>0x07efcf2ee2c50</td>\n",
       "            </tr><tr>\n",
       "                <td><strong>Stoichiometry</strong></td>\n",
       "                <td>\n",
       "                    <p style='text-align:right'> --> cpd17043_c</p>\n",
       "                    <p style='text-align:right'> --> RNA transcription</p>\n",
       "                </td>\n",
       "            </tr><tr>\n",
       "                <td><strong>GPR</strong></td><td></td>\n",
       "            </tr><tr>\n",
       "                <td><strong>Lower bound</strong></td><td>0.0</td>\n",
       "            </tr><tr>\n",
       "                <td><strong>Upper bound</strong></td><td>1000.0</td>\n",
       "            </tr>\n",
       "        </table>\n",
       "        "
      ],
      "text/plain": [
       "<Reaction rxn13784_c at 0x7efcf2ee2c50>"
      ]
     },
     "execution_count": 44,
     "metadata": {},
     "output_type": "execute_result"
    }
   ],
   "source": [
    "test_gapfill.reactions.get_by_id('rxn13784_c')"
   ]
  },
  {
   "cell_type": "code",
   "execution_count": 47,
   "metadata": {},
   "outputs": [
    {
     "name": "stdout",
     "output_type": "stream",
     "text": [
      "67 metabolic reactions not associated with genes\n",
      "26 reactions are mass imbalanced\n",
      "55 reactions are charge imbalanced\n",
      "1 extracellular metabolites are missing transport reactions\n",
      "Took 2 seconds to analyze Clostridium difficile 630\n"
     ]
    }
   ],
   "source": [
    "no_genes, freemass, unbalanced, no_transport, no_exchange = checkQuality(test_gapfill)"
   ]
  },
  {
   "cell_type": "code",
   "execution_count": 30,
   "metadata": {},
   "outputs": [
    {
     "data": {
      "text/plain": [
       "['EX_cpd11574_e',\n",
       " 'EX_cpd10516_e',\n",
       " 'EX_cpd01188_e',\n",
       " 'EX_cpd00028_e',\n",
       " 'EX_cpd00010_e',\n",
       " 'EX_cpd00048_e',\n",
       " 'EX_cpd11606_e',\n",
       " 'rxn09030_c',\n",
       " 'turanose_isomerization_c',\n",
       " 'rxn18579_c',\n",
       " 'rxn05165_2_c',\n",
       " 'rxn32054_c',\n",
       " 'rxn00804_c',\n",
       " 'ID001_c',\n",
       " 'ID002_c',\n",
       " 'ID003_c',\n",
       " 'ID004_c',\n",
       " 'ID005_c',\n",
       " 'rxn11336_c',\n",
       " 'rxn12566_c',\n",
       " 'ID006_c',\n",
       " 'ID007_c',\n",
       " 'ID008_c',\n",
       " 'rxn09271_c',\n",
       " 'ID009_c',\n",
       " 'rxn08061_c',\n",
       " 'rxn05602_c',\n",
       " 'rxn10171_c',\n",
       " 'rxn09172_c',\n",
       " 'dna_rxn',\n",
       " 'rna_rxn',\n",
       " 'protein_rxn',\n",
       " 'cellwall_rxn',\n",
       " 'lipid_rxn',\n",
       " 'cofactor_rxn',\n",
       " 'biomass',\n",
       " 'rxn08686_c',\n",
       " 'rxn09031_c',\n",
       " 'rxn05467_c',\n",
       " 'rxn08186_c',\n",
       " 'rxn08952_c',\n",
       " 'rxn10161_c',\n",
       " 'rxn05175_c',\n",
       " 'rxn08304_c',\n",
       " u'rxn09145_c',\n",
       " u'rxn00620_c',\n",
       " u'rxn02286_c',\n",
       " u'rxn09433_c',\n",
       " u'rxn00553_c',\n",
       " u'rxn09063_c',\n",
       " u'rxn05293_c',\n",
       " u'rxn09065_c',\n",
       " u'rxn05291_c',\n",
       " u'rxn13914_c',\n",
       " u'rxn02011_c',\n",
       " u'rxn03852_c',\n",
       " u'rxn08040_c',\n",
       " u'rxn09147_c',\n",
       " u'rxn07466_c',\n",
       " u'rxn09429_c',\n",
       " u'rxn09163_c']"
      ]
     },
     "execution_count": 30,
     "metadata": {},
     "output_type": "execute_result"
    }
   ],
   "source": [
    "gaps"
   ]
  },
  {
   "cell_type": "code",
   "execution_count": null,
   "metadata": {},
   "outputs": [],
   "source": []
  },
  {
   "cell_type": "code",
   "execution_count": 5,
   "metadata": {},
   "outputs": [
    {
     "name": "stdout",
     "output_type": "stream",
     "text": [
      "Creating universal model...\n",
      "Optimizing model with new reactions...\n",
      "Retrieving reactions and metabolites needed for gapfilling...\n",
      "Gapfilling model...\n",
      "Took 84 seconds to gapfill 20 reactions and 0 metabolites.\n",
      "Gapfilled model objective now carries flux (60.6159042045).\n"
     ]
    }
   ],
   "source": [
    "test_gapfill = pFBA_GapFill(cd630_PATRIC, universal, iters=1000, obj_lb=50., extracellular='Extracellular')"
   ]
  },
  {
   "cell_type": "code",
   "execution_count": null,
   "metadata": {},
   "outputs": [],
   "source": []
  }
 ],
 "metadata": {
  "kernelspec": {
   "display_name": "Python [default]",
   "language": "python",
   "name": "python2"
  },
  "language_info": {
   "codemirror_mode": {
    "name": "ipython",
    "version": 2
   },
   "file_extension": ".py",
   "mimetype": "text/x-python",
   "name": "python",
   "nbconvert_exporter": "python",
   "pygments_lexer": "ipython2",
   "version": "2.7.14"
  }
 },
 "nbformat": 4,
 "nbformat_minor": 2
}
