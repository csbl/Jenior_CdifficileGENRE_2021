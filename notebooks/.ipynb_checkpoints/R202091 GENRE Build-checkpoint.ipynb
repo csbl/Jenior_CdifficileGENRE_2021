{
 "cells": [
  {
   "cell_type": "code",
   "execution_count": 1,
   "metadata": {},
   "outputs": [],
   "source": [
    "import cobra\n",
    "import copy"
   ]
  },
  {
   "cell_type": "code",
   "execution_count": 2,
   "metadata": {},
   "outputs": [],
   "source": [
    "# curated Clostridium difficile 630 model\n",
    "iCdG791 = cobra.io.load_json_model('/home/mjenior/Desktop/repos/Jenior_Cdifficile_2019/data/reconstructions/iCdG791.json')"
   ]
  },
  {
   "cell_type": "code",
   "execution_count": 3,
   "metadata": {},
   "outputs": [
    {
     "data": {
      "text/html": [
       "\n",
       "        <table>\n",
       "            <tr>\n",
       "                <td><strong>Name</strong></td>\n",
       "                <td>iCdG791</td>\n",
       "            </tr><tr>\n",
       "                <td><strong>Memory address</strong></td>\n",
       "                <td>0x07fd487ab83d0</td>\n",
       "            </tr><tr>\n",
       "                <td><strong>Number of metabolites</strong></td>\n",
       "                <td>1132</td>\n",
       "            </tr><tr>\n",
       "                <td><strong>Number of reactions</strong></td>\n",
       "                <td>1129</td>\n",
       "            </tr><tr>\n",
       "                <td><strong>Number of groups</strong></td>\n",
       "                <td>0</td>\n",
       "            </tr><tr>\n",
       "                <td><strong>Objective expression</strong></td>\n",
       "                <td>1.0*biomass - 1.0*biomass_reverse_01e59</td>\n",
       "            </tr><tr>\n",
       "                <td><strong>Compartments</strong></td>\n",
       "                <td>cytosol, extracellular</td>\n",
       "            </tr>\n",
       "          </table>"
      ],
      "text/plain": [
       "<Model iCdG791 at 0x7fd487ab83d0>"
      ]
     },
     "execution_count": 3,
     "metadata": {},
     "output_type": "execute_result"
    }
   ],
   "source": [
    "iCdG791"
   ]
  },
  {
   "cell_type": "code",
   "execution_count": 3,
   "metadata": {},
   "outputs": [
    {
     "data": {
      "text/plain": [
       "791"
      ]
     },
     "execution_count": 3,
     "metadata": {},
     "output_type": "execute_result"
    }
   ],
   "source": [
    "len(iCdG791.genes)"
   ]
  },
  {
   "cell_type": "code",
   "execution_count": 4,
   "metadata": {},
   "outputs": [
    {
     "data": {
      "text/plain": [
       "89.76884522354936"
      ]
     },
     "execution_count": 4,
     "metadata": {},
     "output_type": "execute_result"
    }
   ],
   "source": [
    "iCdG791.slim_optimize()"
   ]
  },
  {
   "cell_type": "code",
   "execution_count": 5,
   "metadata": {},
   "outputs": [],
   "source": [
    "# Get model gene IDs\n",
    "iCdG791_genes = set([x.id for x in iCdG791.genes])\n",
    "patric_draft = cobra.io.load_json_model('/home/mjenior/Desktop/repos/Jenior_Cdifficile_2019/data/r20291_draft.json')\n",
    "draft_R20291_genes = set([x.id for x in patric_draft.genes])"
   ]
  },
  {
   "cell_type": "code",
   "execution_count": 6,
   "metadata": {},
   "outputs": [],
   "source": [
    "# Read in protein alignments\n",
    "\n",
    "# 630 vs R20291\n",
    "Cd630_geneDict = {}\n",
    "R20291_missing = []\n",
    "with open('/home/mjenior/Desktop/repos/Jenior_Cdifficile_2019/data/proteome_comparisons/Cd630_R20291.tsv', 'r') as genes:\n",
    "    header = genes.readline()\n",
    "    for line in genes:\n",
    "        Cd630_gene = line.split()[0]\n",
    "        R20291_gene = line.split()[1]\n",
    "        \n",
    "        if not Cd630_gene in iCdG791_genes:\n",
    "            continue\n",
    "        elif R20291_gene == 'none':\n",
    "            R20291_missing.append(Cd630_gene)\n",
    "            continue\n",
    "        else:\n",
    "            Cd630_geneDict[Cd630_gene] = R20291_gene   \n",
    "\n",
    "# R20291 vs 630\n",
    "R20291_geneDict = {}\n",
    "Cd630_missing = []\n",
    "with open('/home/mjenior/Desktop/repos/Jenior_Cdifficile_2019/data/proteome_comparisons/R20291_Cd630.tsv', 'r') as genes:\n",
    "    header = genes.readline()\n",
    "    for line in genes:\n",
    "        R20291_gene = line.split()[0]\n",
    "        Cd630_gene = line.split()[1]\n",
    "        \n",
    "        if Cd630_gene == 'none':\n",
    "            Cd630_missing.append(R20291_gene)\n",
    "            continue\n",
    "        else:\n",
    "            R20291_geneDict[R20291_gene] = Cd630_gene  \n",
    "            \n",
    "# Peptoclostridium 630 vs R20291\n",
    "Pepto630_geneDict = {}\n",
    "with open('/home/mjenior/Desktop/repos/Jenior_Cdifficile_2019/data/proteome_comparisons/Pepto630_R20291.tsv', 'r') as genes:\n",
    "    header = genes.readline()\n",
    "    for line in genes:\n",
    "        Pepto630_gene = line.split()[0]\n",
    "        R20291_gene = line.split()[1]\n",
    "        \n",
    "        if not Pepto630_gene in iCdG791_genes:\n",
    "            continue\n",
    "        elif R20291_gene == 'none':\n",
    "            R20291_missing.append(Pepto630_gene)\n",
    "            continue\n",
    "        else:\n",
    "            Pepto630_geneDict[Pepto630_gene] = R20291_gene   \n",
    "\n",
    "# R20291 vs Peptoclostridium 630\n",
    "R20291_geneDict = {}\n",
    "Pepto630_missing = []\n",
    "with open('/home/mjenior/Desktop/repos/Jenior_Cdifficile_2019/data/proteome_comparisons/R20291_Pepto630.tsv', 'r') as genes:\n",
    "    header = genes.readline()\n",
    "    for line in genes:\n",
    "        R20291_gene = line.split()[0]\n",
    "        Pepto630_gene = line.split()[1]\n",
    "        \n",
    "        if Cd630_gene == 'none':\n",
    "            Pepto630_missing.append(R20291_gene)\n",
    "            continue\n",
    "        else:\n",
    "            R20291_geneDict[R20291_gene] = Pepto630_gene  \n",
    "\n",
    "# Create complete translation dictionary\n",
    "geneDict = {}\n",
    "geneDict.update(Cd630_geneDict)\n",
    "geneDict.update(Pepto630_geneDict)\n",
    "\n",
    "# Get gene objects to be removed\n",
    "remove_genes = [iCdG791.genes.get_by_id(x) for x in set(R20291_missing)]"
   ]
  },
  {
   "cell_type": "code",
   "execution_count": 7,
   "metadata": {},
   "outputs": [],
   "source": [
    "# Create duplicate GENRE\n",
    "draft_GENRE = copy.deepcopy(iCdG791)"
   ]
  },
  {
   "cell_type": "code",
   "execution_count": 8,
   "metadata": {},
   "outputs": [],
   "source": [
    "# Delete genes that are not present in R20291\n",
    "R20291_missing.append('1151372.4.peg.1723')\n",
    "remove_genes = [draft_GENRE.genes.get_by_id(x) for x in set(R20291_missing)]\n",
    "cobra.manipulation.delete.remove_genes(draft_GENRE, remove_genes)"
   ]
  },
  {
   "cell_type": "code",
   "execution_count": 9,
   "metadata": {},
   "outputs": [],
   "source": [
    "# Rename homologous genes\n",
    "cobra.manipulation.modify.rename_genes(draft_GENRE, geneDict)"
   ]
  },
  {
   "cell_type": "code",
   "execution_count": 10,
   "metadata": {},
   "outputs": [
    {
     "name": "stdout",
     "output_type": "stream",
     "text": [
      "Reactions added: 4\n"
     ]
    }
   ],
   "source": [
    "# Add genes that only appear in R20291\n",
    "included_genes = list(set(draft_R20291_genes).intersection(set(Cd630_missing)))\n",
    "current_rxn_ids = set([x.id for x in draft_GENRE.reactions])\n",
    "rxns_added = 0\n",
    "add_manually = []\n",
    "for gene in patric_draft.genes:\n",
    "    if not gene.id in included_genes: \n",
    "        add_manually.append(gene.id)\n",
    "        continue\n",
    "    \n",
    "    for rxn in gene.reactions:\n",
    "        if rxn.id in current_rxn_ids:\n",
    "            # update existing gene_reaction_rule\n",
    "            current_gpr = draft_GENRE.reactions.get_by_id(rxn.id).gene_reaction_rule\n",
    "            if current_gpr != '':\n",
    "                current_gpr += ' or ' + gene.id\n",
    "            else:\n",
    "                current_gpr = gene.id\n",
    "            draft_GENRE.reactions.get_by_id(rxn.id).gene_reaction_rule = current_gpr\n",
    "            # update gene name\n",
    "            draft_GENRE.genes.get_by_id(gene.id).name = patric_draft.genes.get_by_id(gene.id).name \n",
    "        else:\n",
    "            draft_GENRE.add_reactions([rxn])\n",
    "            rxns_added += 1\n",
    "            current_gpr = draft_GENRE.reactions.get_by_id(rxn.id).gene_reaction_rule\n",
    "            draft_GENRE.reactions.get_by_id(rxn.id).gene_reaction_rule = current_gpr\n",
    "            \n",
    "print('Reactions added: ' + str(rxns_added))"
   ]
  },
  {
   "cell_type": "code",
   "execution_count": 11,
   "metadata": {},
   "outputs": [
    {
     "name": "stdout",
     "output_type": "stream",
     "text": [
      "Reactions added: 8\n"
     ]
    }
   ],
   "source": [
    "# Identify genes that must be added from the draft reconstruction\n",
    "draft_genes = set([gene.id for gene in draft_GENRE.genes])\n",
    "add_manually = set(add_manually).difference(draft_genes)\n",
    "current_rxn_ids = set([x.id for x in draft_GENRE.reactions])\n",
    "\n",
    "for gene in add_manually:\n",
    "    for rxn in patric_draft.genes.get_by_id(gene).reactions:\n",
    "        if rxn.id in current_rxn_ids:\n",
    "            # update existing gene_reaction_rule\n",
    "            current_gpr = draft_GENRE.reactions.get_by_id(rxn.id).gene_reaction_rule\n",
    "            if current_gpr != '':\n",
    "                current_gpr += ' or ' + gene\n",
    "            else:\n",
    "                current_gpr = gene\n",
    "            draft_GENRE.reactions.get_by_id(rxn.id).gene_reaction_rule = current_gpr\n",
    "            # update gene name\n",
    "            draft_GENRE.genes.get_by_id(gene).name = patric_draft.genes.get_by_id(gene).name \n",
    "        else:\n",
    "            draft_GENRE.add_reactions([rxn])\n",
    "            draft_GENRE.genes.get_by_id(gene).name = patric_draft.genes.get_by_id(gene).name \n",
    "            rxns_added += 1\n",
    "\n",
    "print('Reactions added: ' + str(rxns_added))"
   ]
  },
  {
   "cell_type": "code",
   "execution_count": 12,
   "metadata": {},
   "outputs": [],
   "source": [
    "# Fix a few remaining incorrect GPRs \n",
    "draft_GENRE.reactions.rxn02003_c.gene_reaction_rule = '645463.3.peg.237'\n",
    "draft_GENRE.reactions.rxn14293_c.gene_reaction_rule += ' or 645463.3.peg.260'\n",
    "draft_GENRE.reactions.rxn06517_c.gene_reaction_rule += ' or 645463.3.peg.1978'\n",
    "draft_GENRE.reactions.rxn01404_c.gene_reaction_rule += ' or 645463.3.peg.658'\n",
    "draft_GENRE.reactions.rxn01368_c.gene_reaction_rule += ' or 645463.3.peg.769'\n",
    "draft_GENRE.reactions.rxn00119_c.gene_reaction_rule += ' or 645463.3.peg.2191'"
   ]
  },
  {
   "cell_type": "code",
   "execution_count": 13,
   "metadata": {},
   "outputs": [],
   "source": [
    "# Replace removed Biomass component\n",
    "cpd02967_c = draft_GENRE.metabolites.get_by_id('cpd02967_c') # N-Acetyl-beta-D-mannosaminyl-1,4-N-acetyl-D-glucosaminyldiphosphoundecaprenol\n",
    "cpd00402_c = draft_GENRE.metabolites.get_by_id('cpd00402_c') # CDPglycerol\n",
    "cpd00046_c = draft_GENRE.metabolites.get_by_id('cpd00046_c') # CMP\n",
    "\n",
    "cpd12894_c = cobra.Metabolite(\n",
    "    'cpd12894_c',\n",
    "    formula='',\n",
    "    name='Teichoic acid',\n",
    "    compartment='cytosol')\n",
    "\n",
    "# R20291 homolog unknown - Stabler et al. (2009). Genome Biol.\n",
    "#gene = cobra.Gene('272563.8.peg.262')\n",
    "#gene.name = 'Putative CDP-glycerol:Poly(Glycerophosphate) glycerophosphotransferase'\n",
    "\n",
    "teichoicacid_rxn = cobra.Reaction('teichoicacid_rxn')\n",
    "#teichoicacid_rxn.gene_reaction_rule = '272563.8.peg.262'\n",
    "teichoicacid_rxn.name = 'Teichoic acid biosynthesis'\n",
    "teichoicacid_rxn.lower_bound = 0.\n",
    "teichoicacid_rxn.upper_bound = 1000.\n",
    "teichoicacid_rxn.add_metabolites({\n",
    "    cpd02967_c: -1.0,\n",
    "    cpd00402_c: -1.0,\n",
    "    cpd00046_c: 1.0,\n",
    "    cpd12894_c: 1.0\n",
    "})\n",
    "draft_GENRE.add_reactions([teichoicacid_rxn])"
   ]
  },
  {
   "cell_type": "code",
   "execution_count": 14,
   "metadata": {},
   "outputs": [],
   "source": [
    "# Replace Stickland pathway reaction\n",
    "cpd00005_c = draft_GENRE.metabolites.get_by_id('cpd00005_c') # NADPH\n",
    "cpd00067_c = draft_GENRE.metabolites.get_by_id('cpd00067_c') # H+\n",
    "cpd00498_c = draft_GENRE.metabolites.get_by_id('cpd00498_c') # 2-Aceto-2-hydroxybutanoate\n",
    "cpd00006_c = draft_GENRE.metabolites.get_by_id('cpd00006_c') # NADP\n",
    "cpd02535_c = draft_GENRE.metabolites.get_by_id('cpd02535_c') # 2,3-Dihydroxy-3-methylvalerate\n",
    "\n",
    "gene = cobra.Gene('645463.3.peg.1493')\n",
    "gene.name = 'Ketol-acid reductoisomerase (NADP(+)) (EC 1.1.1.86)'\n",
    "\n",
    "rxn08764_c = cobra.Reaction('rxn08764_c')\n",
    "rxn08764_c.gene_reaction_rule = '645463.3.peg.1493'\n",
    "rxn08764_c.name = 'Teichoic acid biosynthesis'\n",
    "rxn08764_c.lower_bound = -1000.\n",
    "rxn08764_c.upper_bound = 1000.\n",
    "rxn08764_c.add_metabolites({\n",
    "    cpd00005_c: -1.0,\n",
    "    cpd00067_c: -1.0,\n",
    "    cpd00498_c: -1.0,\n",
    "    cpd00006_c: 1.0,\n",
    "    cpd02535_c: 1.0\n",
    "})\n",
    "draft_GENRE.add_reactions([rxn08764_c])"
   ]
  },
  {
   "cell_type": "code",
   "execution_count": 15,
   "metadata": {},
   "outputs": [],
   "source": [
    "# Remove DNA demand\n",
    "try:\n",
    "    draft_GENRE.reactions.get_by_id('rxn13783_c').remove_from_model(remove_orphans=True)\n",
    "except:\n",
    "    pass"
   ]
  },
  {
   "cell_type": "code",
   "execution_count": 16,
   "metadata": {},
   "outputs": [
    {
     "name": "stdout",
     "output_type": "stream",
     "text": [
      "Metabolites pruned: 2\n",
      "Reactions pruned: 0\n"
     ]
    }
   ],
   "source": [
    "# Prune orphaned nodes\n",
    "cpd_total = 0\n",
    "rxn_total = 0\n",
    "removed = 1\n",
    "while removed == 1:\n",
    "    removed = 0\n",
    "\n",
    "    # Metabolites\n",
    "    for cpd in draft_GENRE.metabolites:\n",
    "        if len(cpd.reactions) == 0:\n",
    "            cpd.remove_from_model()\n",
    "            removed = 1\n",
    "            cpd_total += 1\n",
    "\n",
    "    # Reactions\n",
    "    for rxn in draft_GENRE.reactions:\n",
    "        if len(rxn.metabolites) == 0: \n",
    "            rxn.remove_from_model()\n",
    "            removed = 1\n",
    "            rxn_total += 1\n",
    "    \n",
    "print('Metabolites pruned: ' + str(cpd_total))\n",
    "print('Reactions pruned: ' + str(rxn_total))"
   ]
  },
  {
   "cell_type": "code",
   "execution_count": 17,
   "metadata": {},
   "outputs": [],
   "source": [
    "# Fix compartments\n",
    "for cpd in draft_GENRE.metabolites:\n",
    "    if cpd.compartment == 'c':\n",
    "        cpd.compartment = 'cytosol'\n",
    "    elif cpd.compartment == 'e':\n",
    "        cpd.compartment = 'extracellular'"
   ]
  },
  {
   "cell_type": "code",
   "execution_count": 18,
   "metadata": {},
   "outputs": [],
   "source": [
    "# Open exchange bounds\n",
    "for rxn in draft_GENRE.reactions:\n",
    "    if 'EX_' in rxn.id:\n",
    "        rxn.bounds = (-1000.0,1000.0)"
   ]
  },
  {
   "cell_type": "code",
   "execution_count": 19,
   "metadata": {},
   "outputs": [
    {
     "data": {
      "text/plain": [
       "89.94470384367948"
      ]
     },
     "execution_count": 19,
     "metadata": {},
     "output_type": "execute_result"
    }
   ],
   "source": [
    "# Test that new model grows\n",
    "draft_GENRE.slim_optimize()"
   ]
  },
  {
   "cell_type": "code",
   "execution_count": 40,
   "metadata": {},
   "outputs": [
    {
     "name": "stdout",
     "output_type": "stream",
     "text": [
      "NCMM: 11.149854054237371\n",
      "MDM: 24.508304332569587\n"
     ]
    }
   ],
   "source": [
    "# Test growth in minimal media conditions\n",
    "\n",
    "# Karlsson et al. (1999). Microbiology.\n",
    "mdm = ['cpd00001_e', # water\n",
    "       'cpd00065_e', # L-Tryptophan\n",
    "       'cpd00060_e', # L-Methionine\n",
    "       'cpd00322_e', # L-Isoleucine\n",
    "       'cpd00129_e', # L-Proline\n",
    "       'cpd00156_e', # L-Valine\n",
    "       'cpd00107_e', # L-Leucine\n",
    "       'cpd00084_e', # L-Cysteine \n",
    "       'cpd00149_e', # Cobalt\n",
    "       'cpd00099_e', # Chloride\n",
    "       'cpd10515_e', # Iron\n",
    "       'cpd00030_e', # Manganese\n",
    "       'cpd00254_e', # Magnesium\n",
    "       'cpd00063_e', # Calcium\n",
    "       'cpd00205_e', # Potassium\n",
    "       'cpd00009_e', # Phosphate\n",
    "       'cpd00971_e', # Sodium\n",
    "       'cpd00242_e', # Carbonate\n",
    "       'cpd00104_e', # Biotin\n",
    "       'cpd00644_e', # Pantothenate\n",
    "       'cpd00263_e', # Pyridoxine\n",
    "       'cpd00027_e'] # D-Glucose (Carbohydrate C-source)\n",
    "\n",
    "# Theriot et al. (2013). Nature Communications.\n",
    "ncmm = ['cpd00001_e', # water\n",
    "        'cpd00104_e', # Biotin\n",
    "        'cpd00644_e', # Pantothenate\n",
    "        'cpd00263_e', # Pyridoxine\n",
    "        'cpd00149_e', # Cobalt\n",
    "        'cpd00099_e', # Chloride\n",
    "        'cpd10515_e', # Iron\n",
    "        'cpd00030_e', # Manganese\n",
    "        'cpd00254_e', # Magnesium\n",
    "        'cpd00063_e', # Calcium\n",
    "        'cpd00205_e', # Potassium\n",
    "        'cpd00009_e', # Phosphate\n",
    "        'cpd00971_e', # Sodium\n",
    "        'cpd00242_e', # Carbonate\n",
    "        'cpd00322_e', # L-Isoleucine\n",
    "        'cpd00129_e', # L-Proline\n",
    "        'cpd00156_e', # L-Valine\n",
    "        'cpd00107_e', # L-Leucine\n",
    "        'cpd00084_e', # L-Cysteine \n",
    "        'cpd00065_e', # L-Tryptophan\n",
    "        'cpd00060_e', # L-Methionine\n",
    "        'cpd00119_e', # L-Histidine\n",
    "        'cpd00033_e', # Glycine\n",
    "        'cpd00051_e', # L-Arginine\n",
    "        'cpd00161_e'] # L-Threonine\n",
    "\n",
    "ncmm_exchanges = ['EX_' + x for x in ncmm]\n",
    "for rxn in draft_GENRE.reactions:\n",
    "    if len(rxn.products) == 0 and 'EX_' in rxn.id:\n",
    "        if not rxn.id in ncmm_exchanges:\n",
    "            rxn.bounds = (0.0,1000.0)\n",
    "        else:\n",
    "            rxn.bounds = (-1000.0,1000.0)\n",
    "print('NCMM: ' + str(draft_GENRE.slim_optimize()))\n",
    "\n",
    "mdm_exchanges = ['EX_' + x for x in mdm]\n",
    "for rxn in draft_GENRE.reactions:\n",
    "    if len(rxn.products) == 0 and 'EX_' in rxn.id:\n",
    "        if not rxn.id in mdm_exchanges:\n",
    "            rxn.bounds = (0.0,1000.0)\n",
    "        else:\n",
    "            rxn.bounds = (-1000.0,1000.0)\n",
    "print('MDM: ' + str(draft_GENRE.slim_optimize()))\n",
    "\n",
    "# Leave in MDM"
   ]
  },
  {
   "cell_type": "code",
   "execution_count": 21,
   "metadata": {},
   "outputs": [],
   "source": [
    "# Name new model\n",
    "draft_GENRE.name = 'Clostridium difficile R20291'\n",
    "draft_GENRE.id = 'iCdR' + str(len(draft_GENRE.genes))"
   ]
  },
  {
   "cell_type": "code",
   "execution_count": 22,
   "metadata": {},
   "outputs": [
    {
     "data": {
      "text/html": [
       "\n",
       "        <table>\n",
       "            <tr>\n",
       "                <td><strong>Name</strong></td>\n",
       "                <td>iCdR758</td>\n",
       "            </tr><tr>\n",
       "                <td><strong>Memory address</strong></td>\n",
       "                <td>0x07fd4a1347d50</td>\n",
       "            </tr><tr>\n",
       "                <td><strong>Number of metabolites</strong></td>\n",
       "                <td>1140</td>\n",
       "            </tr><tr>\n",
       "                <td><strong>Number of reactions</strong></td>\n",
       "                <td>1135</td>\n",
       "            </tr><tr>\n",
       "                <td><strong>Number of groups</strong></td>\n",
       "                <td>0</td>\n",
       "            </tr><tr>\n",
       "                <td><strong>Objective expression</strong></td>\n",
       "                <td>0.0 + 1.0*biomass - 1.0*biomass_reverse_01e59</td>\n",
       "            </tr><tr>\n",
       "                <td><strong>Compartments</strong></td>\n",
       "                <td>cytosol, extracellular</td>\n",
       "            </tr>\n",
       "          </table>"
      ],
      "text/plain": [
       "<Model iCdR758 at 0x7fd4a1347d50>"
      ]
     },
     "execution_count": 22,
     "metadata": {},
     "output_type": "execute_result"
    }
   ],
   "source": [
    "draft_GENRE"
   ]
  },
  {
   "cell_type": "code",
   "execution_count": 41,
   "metadata": {},
   "outputs": [],
   "source": [
    "# Add annotation information\n",
    "\n",
    "# SBO designations\n",
    "# Metabolites\n",
    "for cpd in draft_GENRE.metabolites:\n",
    "    cpd.annotation['sbo'] = 'SBO:0000247'\n",
    "# Reactions\n",
    "for rxn in draft_GENRE.reactions:\n",
    "    substrates = list(rxn.metabolites)\n",
    "    compartments = set([x.compartment for x in substrates])\n",
    "    if 'EX_' in rxn.id:\n",
    "        rxn.annotation['sbo'] = 'SBO:0000627' # exchange\n",
    "    elif len(compartments) > 1:\n",
    "        rxn.annotation['sbo'] = 'SBO:0000185' # transport\n",
    "    else:\n",
    "        rxn.annotation['sbo'] = 'SBO:0000176' # metabolic\n",
    "# Biomass\n",
    "draft_GENRE.reactions.dna_rxn.annotation['sbo'] = 'SBO:0000629'  \n",
    "draft_GENRE.reactions.rna_rxn.annotation['sbo'] = 'SBO:0000629'  \n",
    "draft_GENRE.reactions.protein_rxn.annotation['sbo'] = 'SBO:0000629'  \n",
    "draft_GENRE.reactions.teichoicacid_rxn.annotation['sbo'] = 'SBO:0000629'  \n",
    "draft_GENRE.reactions.peptidoglycan_rxn.annotation['sbo'] = 'SBO:0000629'  \n",
    "draft_GENRE.reactions.cellwall_rxn.annotation['sbo'] = 'SBO:0000629'  \n",
    "draft_GENRE.reactions.lipid_rxn.annotation['sbo'] = 'SBO:0000629'  \n",
    "draft_GENRE.reactions.cofactor_rxn.annotation['sbo'] = 'SBO:0000629'  \n",
    "draft_GENRE.reactions.biomass.annotation['sbo'] = 'SBO:0000629'  \n",
    "draft_GENRE.reactions.SK_cpd11416_c.annotation['sbo'] = 'SBO:0000632'  \n",
    "# Genes\n",
    "for gene in draft_GENRE.genes:\n",
    "    gene.annotation['sbo'] = 'SBO:0000243'\n",
    "\n",
    "# RefSeq annotations\n",
    "patric_refseq = {}\n",
    "with open('/home/mjenior/Desktop/repos/Jenior_Cdifficile_2019/data/r20291_refseq_genes.tsv') as ref:\n",
    "    for line in ref:\n",
    "        patric_refseq[line.split()[0]] = line.split()[1]\n",
    "for gene in draft_GENRE.genes:\n",
    "    if '.peg.' in gene.id:\n",
    "        gene.annotation['refseq'] = 'NC_013316.1'\n",
    "        try:\n",
    "            gene.annotation['refseq.locustag'] = patric_refseq[gene.id]\n",
    "        except:\n",
    "            continue\n",
    "\n",
    "# Metabolites\n",
    "for cpd in draft_GENRE.metabolites:\n",
    "    if 'cpd' in cpd.id:\n",
    "        new_id = str(cpd.id).split('_')\n",
    "        if len(new_id) > 1:\n",
    "            del new_id[-1]\n",
    "        new_id = ''.join(new_id)\n",
    "        cpd.annotation['seed.compound'] = new_id\n",
    "draft_GENRE.metabolites.C21400_c.annotation['kegg.compound'] = 'C21400'        \n",
    "draft_GENRE.metabolites.C21399_c.annotation['kegg.compound'] = 'C21399'        \n",
    "draft_GENRE.metabolites.C21090_c.annotation['kegg.compound'] = 'C21090'        \n",
    "draft_GENRE.metabolites.C21399_e.annotation['kegg.compound'] = 'C21399'        \n",
    "\n",
    "# Reactions\n",
    "for rxn in draft_GENRE.reactions:\n",
    "    if 'rxn' in rxn.id or 'EX_' in rxn.id:\n",
    "        new_id = str(rxn.id).split('_')\n",
    "        if len(new_id) > 1:\n",
    "            del new_id[-1]\n",
    "        new_id = ''.join(new_id)\n",
    "        rxn.annotation['seed.reaction'] = new_id\n",
    "    elif 'R' in rxn.id:\n",
    "        new_id = str(rxn.id).split('_')\n",
    "        if len(new_id) > 1:\n",
    "            del new_id[-1]\n",
    "        new_id = ''.join(new_id)\n",
    "        rxn.annotation['kegg.reaction'] = new_id\n",
    "draft_GENRE.reactions.SK_cpd11416_c.annotation['seed.reaction'] = 'SK_cpd11416'\n",
    "draft_GENRE.reactions.ENOG4108HXH_c.annotation['eggnog.reaction'] = 'ENOG4108HXH'\n",
    "draft_GENRE.reactions.COG3601_c.annotation['cog.reaction'] = 'COG3601'\n",
    "draft_GENRE.reactions.K20025_c.annotation['kegg.reaction'] = 'K20025'\n",
    "\n",
    "# Genes\n",
    "for gene in draft_GENRE.genes:\n",
    "    if '.peg.' in gene.id:\n",
    "        gene.annotation['patric'] = 'fig|' + gene.id"
   ]
  },
  {
   "cell_type": "code",
   "execution_count": null,
   "metadata": {},
   "outputs": [],
   "source": [
    "# Correct residual gene names\n",
    "iCdR758.genes.get_by_id('645463.3.peg.1176').name = 'Na(+)-dependent branched-chain amino acid transporter'\n",
    "iCdR758.genes.get_by_id('645463.3.peg.735').name = 'ABC transporter, substrate-binding protein'\n",
    "iCdR758.genes.get_by_id('645463.3.peg.2463').name = 'PTS system, glucitol/sorbitol-specific IIB component'\n",
    "iCdR758.genes.get_by_id('645463.3.peg.929').name = 'N-acetylgalactosamine-6-phosphate deacetylase'\n",
    "iCdR758.genes.get_by_id('645463.3.peg.2324').name = 'ribulose-5-phosphate 4-epimerase'\n",
    "iCdR758.genes.get_by_id('645463.3.peg.46').name = 'Ribulose-5-phosphate 4-epimerase'\n",
    "iCdR758.genes.get_by_id('645463.3.peg.3015').name = 'PTS system, IIB component'\n",
    "iCdR758.genes.get_by_id('645463.3.peg.3014').name = 'PTS system, IIC component'\n",
    "iCdR758.genes.get_by_id('645463.3.peg.3016').name = 'PTS system, IIA component'\n",
    "iCdR758.genes.get_by_id('645463.3.peg.865').name = 'ABC transporter, substrate-binding protein'\n",
    "iCdR758.genes.get_by_id('645463.3.peg.862').name = 'ABC transporter, substrate-binding protein'\n",
    "iCdR758.genes.get_by_id('645463.3.peg.664').name = 'sodium-solute symporter, putative'\n",
    "iCdR758.genes.get_by_id('645463.3.peg.1783').name = 'ABC transporter, ATP-binding protein'\n",
    "iCdR758.genes.get_by_id('645463.3.peg.1421').name = 'DNA-3-methyladenine glycosylase II'\n",
    "iCdR758.genes.get_by_id('645463.3.peg.2254').name = '2-oxoglutarate/2-oxoacid ferredoxin oxidoreductase, delta subunit'\n",
    "iCdR758.genes.get_by_id('645463.3.peg.2253').name = '2-oxoglutarate/2-oxoacid ferredoxin oxidoreductase, alpha subunit'\n",
    "iCdR758.genes.get_by_id('645463.3.peg.168').name = '4-hydroxyphenylacetate decarboxylase, small subunit'\n",
    "iCdR758.genes.get_by_id('645463.3.peg.167').name = '4-hydroxyphenylacetate decarboxylase, large subunit'\n",
    "iCdR758.genes.get_by_id('645463.3.peg.2417').name = 'Indolepyruvate oxidoreductase subunit'\n",
    "iCdR758.genes.get_by_id('645463.3.peg.2389').name = 'Glycine reductase component B beta subunit'\n",
    "iCdR758.genes.get_by_id('645463.3.peg.392').name = '2-hydroxyglutaryl-CoA dehydratase, A-component'\n",
    "iCdR758.genes.get_by_id('645463.3.peg.393').name = '2-hydroxyglutaryl-CoA dehydratase, B-component'\n",
    "iCdR758.genes.get_by_id('645463.3.peg.390').name = 'Hydroxyproline dehydratase putative'\n",
    "iCdR758.genes.get_by_id('645463.3.peg.391').name = 'CoA-substrate-specific enzyme activase; 2-hydroxyglutaryl-CoA dehydratase activator, A-component'\n",
    "iCdR758.genes.get_by_id('645463.3.peg.1466').name = 'NADH-dependent reduced ferredoxin:NADP+ oxidoreductase subunit A'\n",
    "iCdR758.genes.get_by_id('645463.3.peg.169').name = '4-hydroxyphenylacetate decarboxylase activating enzyme'\n",
    "iCdR758.genes.get_by_id('645463.3.peg.2250').name = 'Acetyl-CoA synthetase (ADP-forming) alpha and beta chains, putative'\n",
    "iCdR758.genes.get_by_id('645463.3.peg.2379').name = 'Succinate-semialdehyde dehydrogenase, CoA-dependent'\n",
    "iCdR758.genes.get_by_id('645463.3.peg.976').name = 'Electron bifurcating butyryl-CoA dehydrogenase (NAD+, ferredoxin)'\n",
    "iCdR758.genes.get_by_id('645463.3.peg.2703').name = 'UDP-N-acetylmuramoyl-tripeptide--D-alanyl-D-alanine ligase'"
   ]
  },
  {
   "cell_type": "code",
   "execution_count": 42,
   "metadata": {},
   "outputs": [],
   "source": [
    "# Save to files\n",
    "cobra.io.write_sbml_model(draft_GENRE, '/home/mjenior/Desktop/repos/Jenior_Cdifficile_2019/data/reconstructions/iCdR758.sbml')\n",
    "cobra.io.save_json_model(draft_GENRE, '/home/mjenior/Desktop/repos/Jenior_Cdifficile_2019/data/reconstructions/iCdR758.json')"
   ]
  },
  {
   "cell_type": "code",
   "execution_count": null,
   "metadata": {},
   "outputs": [],
   "source": []
  }
 ],
 "metadata": {
  "kernelspec": {
   "display_name": "Python 3",
   "language": "python",
   "name": "python3"
  },
  "language_info": {
   "codemirror_mode": {
    "name": "ipython",
    "version": 3
   },
   "file_extension": ".py",
   "mimetype": "text/x-python",
   "name": "python",
   "nbconvert_exporter": "python",
   "pygments_lexer": "ipython3",
   "version": "3.7.5"
  }
 },
 "nbformat": 4,
 "nbformat_minor": 2
}
