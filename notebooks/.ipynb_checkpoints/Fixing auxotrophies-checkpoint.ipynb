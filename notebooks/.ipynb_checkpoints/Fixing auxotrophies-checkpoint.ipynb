{
 "cells": [
  {
   "cell_type": "code",
   "execution_count": 3,
   "metadata": {},
   "outputs": [],
   "source": [
    "import cobra\n",
    "\n",
    "# Quicker way to read in models\n",
    "import pickle\n",
    "def read_model(fileName, obj='none'):\n",
    "    \n",
    "    fileType = fileName.split('.')[-1]\n",
    "    \n",
    "    if fileType == 'sbml' or fileType == 'xml':\n",
    "        model = cobra.io.read_sbml_model(fileName)\n",
    "    elif fileType == 'json':\n",
    "        model = cobra.io.load_json_model(fileName)\n",
    "    elif fileType == 'yaml':\n",
    "        model = cobra.io.load_yaml_model(fileName)\n",
    "    elif fileType == 'mat':\n",
    "        model = cobra.io.load_matlab_model(fileName)\n",
    "    elif fileType == 'pkl':\n",
    "        model = pickle.load(open(fileName, 'rb'))\n",
    "    else:\n",
    "        raise TypeError('Unrecognized file extension')\n",
    "    \n",
    "    if obj != 'none': model.objective = obj\n",
    "    for rxn in model.boundary: rxn.bounds = (-1000., 1000.)\n",
    "        \n",
    "    return model\n",
    "\n",
    "\n",
    "def find_auxotrophies(model):\n",
    "    auxotrophy = []\n",
    "    threshold = model.slim_optimize() * 0.01\n",
    "    for rxn in model.boundary:\n",
    "        rxn.bounds = (0.,1000.)\n",
    "        if model.slim_optimize() < threshold: auxotrophy.append(rxn.reactants[0].id)\n",
    "        rxn.bounds = (-1000.,1000.)\n",
    "    \n",
    "    auxotrophy = set(auxotrophy)\n",
    "    print('Total auxotrophies:', len(auxotrophy))\n",
    "    \n",
    "    return auxotrophy\n",
    "\n",
    "    \n",
    "\n",
    "iCdG692 = read_model('/home/mjenior/Desktop/repos/Jenior_Cdifficile_2019/data/reconstructions/iCdG692.json')\n",
    "iCdR700 = read_model('/home/mjenior/Desktop/repos/Jenior_Cdifficile_2019/data/reconstructions/iCdR700.json')\n",
    "\n",
    "iCdG692.reactions.EX_cpd00011_e.bounds = (0., 0.) # anaerobic\n",
    "iCdR700.reactions.EX_cpd00011_e.bounds = (0., 0.) # anaerobic"
   ]
  },
  {
   "cell_type": "code",
   "execution_count": 4,
   "metadata": {},
   "outputs": [
    {
     "name": "stdout",
     "output_type": "stream",
     "text": [
      "Total auxotrophies: 13\n"
     ]
    }
   ],
   "source": [
    "iCdG692_auxotrophies = find_auxotrophies(iCdG692)"
   ]
  },
  {
   "cell_type": "code",
   "execution_count": 5,
   "metadata": {},
   "outputs": [
    {
     "name": "stdout",
     "output_type": "stream",
     "text": [
      "Total auxotrophies: 12\n"
     ]
    }
   ],
   "source": [
    "iCdR700_auxotrophies = find_auxotrophies(iCdR700)"
   ]
  },
  {
   "cell_type": "code",
   "execution_count": null,
   "metadata": {},
   "outputs": [],
   "source": []
  },
  {
   "cell_type": "code",
   "execution_count": 619,
   "metadata": {},
   "outputs": [],
   "source": [
    "iCdG692 = read_model('/home/mjenior/Desktop/repos/Jenior_Cdifficile_2019/data/reconstructions/iCdG692.json')"
   ]
  },
  {
   "cell_type": "markdown",
   "metadata": {},
   "source": [
    "### Testing for Possible Energy Generation Cycles"
   ]
  },
  {
   "cell_type": "code",
   "execution_count": 234,
   "metadata": {},
   "outputs": [],
   "source": [
    "# Dissipation reactions\n",
    "\n",
    "cpd00009_c = iCdG692.metabolites.cpd00009_c # P\n",
    "cpd00002_c = iCdG692.metabolites.cpd00002_c # ATP \n",
    "cpd00008_c = iCdG692.metabolites.cpd00008_c # ADP \n",
    "cpd00052_c = iCdG692.metabolites.cpd00052_c # CTP \n",
    "cpd00096_c = iCdG692.metabolites.cpd00096_c # CDP \n",
    "cpd00038_c = iCdG692.metabolites.cpd00038_c # GTP \n",
    "cpd00031_c = iCdG692.metabolites.cpd00031_c # GDP \n",
    "cpd00062_c = iCdG692.metabolites.cpd00062_c # UTP \n",
    "cpd00014_c = iCdG692.metabolites.cpd00014_c # UDP \n",
    "cpd00068_c = iCdG692.metabolites.cpd00068_c # ITP \n",
    "cpd00090_c = iCdG692.metabolites.cpd00090_c # IDP \n",
    "cpd00067_c = iCdG692.metabolites.cpd00067_c # H \n",
    "cpd00004_c = iCdG692.metabolites.cpd00004_c # NADH \n",
    "cpd00003_c = iCdG692.metabolites.cpd00003_c # NAD \n",
    "cpd00005_c = iCdG692.metabolites.cpd00005_c # NADPH\n",
    "cpd00006_c = iCdG692.metabolites.cpd00006_c # NADP \n",
    "cpd00982_c = iCdG692.metabolites.cpd00982_c # FADH2\n",
    "cpd00015_c = iCdG692.metabolites.cpd00015_c # FAD \n",
    "\n",
    "test_1 = cobra.Reaction('test_1')\n",
    "test_1.bounds = (0., 1000.)\n",
    "test_1.add_metabolites({ cpd00002_c: -1.0, cpd00008_c: 1.0, cpd00009_c: 1.0})\n",
    "\n",
    "test_2 = cobra.Reaction('test_2')\n",
    "test_2.bounds = (0., 1000.)\n",
    "test_2.add_metabolites({cpd00052_c: -1.0, cpd00096_c: 1.0, cpd00009_c: 1.0})\n",
    "\n",
    "test_3 = cobra.Reaction('test_3')\n",
    "test_3.bounds = (0., 1000.)\n",
    "test_3.add_metabolites({cpd00038_c: -1.0, cpd00031_c: 1.0, cpd00009_c: 1.0})\n",
    "\n",
    "test_4 = cobra.Reaction('test_4')\n",
    "test_4.bounds = (0., 1000.)\n",
    "test_4.add_metabolites({cpd00062_c: -1.0, cpd00014_c: 1.0, cpd00009_c: 1.0})\n",
    "\n",
    "test_5 = cobra.Reaction('test_5')\n",
    "test_5.bounds = (0., 1000.)\n",
    "test_5.add_metabolites({cpd00068_c: -1.0, cpd00090_c: 1.0, cpd00009_c: 1.0})\n",
    "\n",
    "test_6 = cobra.Reaction('test_6')\n",
    "test_6.bounds = (0., 1000.)\n",
    "test_6.add_metabolites({cpd00004_c: -1.0, cpd00003_c: 1.0, cpd00067_c: 1.0})\n",
    "\n",
    "test_7 = cobra.Reaction('test_7')\n",
    "test_7.bounds = (0., 1000.)\n",
    "test_7.add_metabolites({cpd00005_c: -1.0, cpd00006_c: 1.0, cpd00067_c: 1.0})\n",
    "\n",
    "test_8 = cobra.Reaction('test_8')\n",
    "test_8.bounds = (0., 1000.)\n",
    "test_8.add_metabolites({cpd00982_c: -1.0, cpd00015_c: 1.0, cpd00067_c: 2.0})\n"
   ]
  },
  {
   "cell_type": "code",
   "execution_count": 235,
   "metadata": {},
   "outputs": [
    {
     "name": "stdout",
     "output_type": "stream",
     "text": [
      "Total reactions in possible EDCs: 57\n"
     ]
    }
   ],
   "source": [
    "from copy import deepcopy\n",
    "\n",
    "model = deepcopy(iCdG692)\n",
    "model.add_reactions([test_1,test_2,test_3,test_4,test_5,test_6,test_7,test_8])\n",
    "for x in model.boundary: x.lower_bound = 0.\n",
    "test_rxns = ['test_1','test_2','test_3','test_4','test_5','test_6','test_7','test_8']\n",
    "edc = set()\n",
    "for test_rxn in test_rxns:\n",
    "    \n",
    "    model.objective = test_rxn\n",
    "    solution = model.optimize()\n",
    "    active_rxns = set([rxn.id for rxn in model.reactions if abs(solution.fluxes[rxn.id]) > 1e-6])\n",
    "    if len(active_rxns) > 0: edc |= active_rxns\n",
    "\n",
    "edc = edc.difference(set(test_rxns))\n",
    "edc = edc.difference(set([x.id for x in model.boundary]))\n",
    "print('Total reactions in possible EDCs:', len(edc))\n",
    "\n",
    "# Check reversibility \n",
    "reversible = []\n",
    "irreversible = []\n",
    "for rxn in edc:\n",
    "    if iCdG692.reactions.get_by_id(rxn).lower_bound == 0.:\n",
    "        irreversible.append(rxn)\n",
    "    elif iCdG692.reactions.get_by_id(rxn).upper_bound == 0.:\n",
    "        irreversible.append(rxn)\n",
    "    else:\n",
    "        reversible.append(rxn)\n",
    "    "
   ]
  },
  {
   "cell_type": "code",
   "execution_count": 236,
   "metadata": {},
   "outputs": [
    {
     "name": "stdout",
     "output_type": "stream",
     "text": [
      "Total possible reversibility errors: 40\n",
      "rxn00611_c sn-Glycerol-3-phosphate:NAD+ 2-oxidoreductase\n",
      "rxn08025_c Arbutin 6-phosphate glucohydrolase\n",
      "rxn00213_c UTP:alpha-D-glucose-1-phosphate uridylyltransferase\n",
      "rxn01132_c Maltose:phosphate 1-beta-D-glucosyltransferase\n",
      "rxn10030_c b-ketoacyl synthetase (n-C18:1)\n",
      "rxn00910_c 5-methyltetrahydrofolate:NADP+ oxidoreductase\n",
      "rxn00355_c UTP:alpha-D-galactose-1-phosphate uridylyltransferase\n",
      "rxn00139_c AMP:diphosphate phospho-D-ribosyltransferase\n",
      "rxn00704_c alpha-D-Glucose 1-phosphate 1,6-phosphomutase\n",
      "rxn00612_c sn-Glycerol-3-phosphate:NADP+ 2-oxidoreductase\n",
      "rxn09348_c UDPgalactose pyrophosphohydrolase\n",
      "rxn00499_c (S)-Lactate:NAD+ oxidoreductase\n",
      "rxn05227_c Aspartate oxidase\n",
      "rxn04043_c ADP:D-fructose-6-phosphate 1-phosphotransferase\n",
      "rxn00605_c UDP-glucose:D-glucose-6-phosphate 1-alpha-D-glucosyltransferase\n",
      "rxn00907_c 5,10-methylenetetrahydrofolate:NADP+ oxidoreductase\n",
      "rxn09655_c Trehalose transport via proton symport\n",
      "rxn01547_c Guanosine aminohydrolase\n",
      "rxn12212_c FAD oxidation (electron transport complex)\n",
      "rxn01366_c Uridine:phosphate alpha-D-ribosyltransferase\n",
      "rxn08655_c Glycolate oxidase\n",
      "rxn05291_c b-ketoacyl synthetase (palmitate, n-C16:0)\n",
      "rxn00707_c ITP:cytidine 5'-phosphotransferase\n",
      "rxn01649_c Xanthosine:orthophosphate ribosyltransferase\n",
      "rxn09031_c Oxygen transport via diffusion\n",
      "rxn01138_c Adenosine:phosphate alpha-D-ribosyltransferase\n",
      "rxn01966_c alpha,alpha-Trehalose:orthophosphate beta-D-glucosyltransferase\n",
      "rxn08168_c L-aspartate:fumarate oxidoreductase (deaminating)\n",
      "rxn01548_c guanosine:phosphate alpha-D-ribosyltransferase\n",
      "rxn01359_c (S)-dihydroorotate:NADP+ oxidoreductase\n",
      "rxn05313_c phosphate transport in/out via three Na+ symporter\n",
      "rxn01967_c beta-D-Glucose 1-phosphate 1,6-phosphomutase\n",
      "rxn13251_c Fumarate dependent DHORD\n",
      "rxn08976_c quinone reductase\n",
      "rxn04954_c 5-methyltetrahydrofolate:NAD+ oxidoreductase\n",
      "rxn08809_c Lysophospholipase L1 (2-acylglycerophosphoethanolamine, n-C18:1) (periplasm)\n",
      "rxn09429_c fatty acid synthase (n-C18:0)\n",
      "rxn08686_c H2O transport via diffusion\n",
      "rxn05209_c Sodium hydrogen symporter\n",
      "rxn00367_c CTP diphosphohydrolase (diphosphate-forming)\n"
     ]
    }
   ],
   "source": [
    "print('Total possible reversibility errors:', len(reversible))\n",
    "for x in reversible: print(x, iCdG692.reactions.get_by_id(x).name)"
   ]
  },
  {
   "cell_type": "code",
   "execution_count": 620,
   "metadata": {},
   "outputs": [],
   "source": [
    "iCdG692.reactions.rxn00799_c.lower_bound = 0.\n",
    "iCdG692.reactions.rxn05655_c.lower_bound = 0.\n",
    "iCdG692.reactions.rxn01870_c.lower_bound = 0.\n",
    "iCdG692.reactions.rxn00786_c.lower_bound = 0.\n",
    "iCdG692.reactions.rxn00541_c.lower_bound = 0.\n",
    "iCdG692.reactions.rxn13150_c.lower_bound = 0.\n",
    "iCdG692.reactions.rxn02005_c.lower_bound = 0.\n",
    "iCdG692.reactions.rxn10036_c.lower_bound = 0.\n",
    "iCdG692.reactions.rxn00606_c.lower_bound = 0.\n",
    "iCdG692.reactions.rxn00542_c.lower_bound = 0.\n",
    "iCdG692.reactions.rxn00519_c.lower_bound = 0.\n",
    "iCdG692.reactions.rxn01211_c.lower_bound = 0.\n",
    "iCdG692.reactions.rxn00182_c.lower_bound = 0.\n",
    "iCdG692.reactions.rxn08025_c.lower_bound = 0.\n",
    "iCdG692.reactions.rxn00213_c.lower_bound = 0.\n",
    "iCdG692.reactions.rxn10030_c.lower_bound = 0.\n",
    "iCdG692.reactions.rxn00355_c.lower_bound = 0.\n",
    "iCdG692.reactions.rxn05291_c.lower_bound = 0.\n",
    "iCdG692.reactions.rxn00707_c.lower_bound = 0.\n",
    "iCdG692.reactions.rxn08809_c.lower_bound = 0.\n",
    "iCdG692.reactions.rxn09429_c.lower_bound = 0.\n",
    "iCdG692.reactions.rxn00367_c.lower_bound = 0.\n",
    "iCdG692.reactions.rxn00292_c.lower_bound = 0.\n",
    "\n",
    "iCdG692.reactions.rxn01953_c.upper_bound = 1000.\n",
    "iCdG692.reactions.rxn00292_c.upper_bound = 1000.\n",
    "\n",
    "iCdG692.reactions.rxn05209_c.name = 'Sodium hydrogen symporter'\n",
    "iCdG692.reactions.rxn03366_c.name = 'Dihydroxypicolinate oxidoreductase'\n",
    "iCdG692.reactions.rxn03365_c.name = 'Dihydroxypicolinate oxidoreductase'"
   ]
  },
  {
   "cell_type": "code",
   "execution_count": 621,
   "metadata": {},
   "outputs": [
    {
     "data": {
      "text/plain": [
       "143.6921113236156"
      ]
     },
     "execution_count": 621,
     "metadata": {},
     "output_type": "execute_result"
    }
   ],
   "source": [
    "iCdG692.slim_optimize()"
   ]
  },
  {
   "cell_type": "code",
   "execution_count": 622,
   "metadata": {},
   "outputs": [],
   "source": [
    "# Remove incorrect aerobic reactions \n",
    "iCdG692.remove_reactions(['rxn02304_c', 'rxn09180_c'])\n",
    "\n",
    "# Add other detoxification reaction\n",
    "cpd00001_c = iCdG692.metabolites.cpd00001_c # H2O\n",
    "cpd00023_c = iCdG692.metabolites.cpd00023_c # L-Glutamate\n",
    "cpd00003_c = iCdG692.metabolites.cpd00003_c # NAD\n",
    "cpd00004_c = iCdG692.metabolites.cpd00004_c # NADH\n",
    "cpd00024_c = iCdG692.metabolites.cpd00024_c # 2-Oxoglutarate\n",
    "cpd00067_c = iCdG692.metabolites.cpd00067_c # H+\n",
    "cpd00013_c = iCdG692.metabolites.cpd00013_c # Ammonia\n",
    "\n",
    "iCdG692.remove_reactions(['rxn30075_c'])\n",
    "rxn30075_c = cobra.Reaction('rxn30075_c')\n",
    "rxn30075_c.name = 'Glutamate dehydrogenase (NAD)'\n",
    "rxn30075_c.gene_reaction_rule = '645463.3.peg.194'\n",
    "rxn30075_c.lower_bound = 0.\n",
    "rxn30075_c.upper_bound = 1000.\n",
    "rxn30075_c.add_metabolites({\n",
    "    cpd00001_c: -1.0,\n",
    "    cpd00003_c: -1.0,\n",
    "    cpd00023_c: -1.0,\n",
    "    cpd00024_c: 1.0,\n",
    "    cpd00004_c: 1.0,\n",
    "    cpd00067_c: 1.0,\n",
    "    cpd00013_c: 1.0\n",
    "})\n",
    "iCdG692.add_reactions([rxn30075_c])\n",
    "\n",
    "iCdG692.reactions.rxn30075_c.annotation['sbo'] = 'SBO:0000176' \n",
    "iCdG692.reactions.rxn30075_c.annotation['seed.reaction'] = 'rxn30075'\n",
    "iCdG692.reactions.rxn30075_c.annotation['bigg.reaction'] = 'GLUDx'\n"
   ]
  },
  {
   "cell_type": "code",
   "execution_count": 623,
   "metadata": {},
   "outputs": [],
   "source": [
    "# Correct proline auxotrophy\n",
    "iCdG692.remove_reactions(['rxn00471_c'])"
   ]
  },
  {
   "cell_type": "code",
   "execution_count": 624,
   "metadata": {},
   "outputs": [
    {
     "data": {
      "text/plain": [
       "143.69211132361568"
      ]
     },
     "execution_count": 624,
     "metadata": {},
     "output_type": "execute_result"
    }
   ],
   "source": [
    "iCdG692.slim_optimize()"
   ]
  },
  {
   "cell_type": "code",
   "execution_count": 570,
   "metadata": {},
   "outputs": [
    {
     "data": {
      "text/html": [
       "\n",
       "        <table>\n",
       "            <tr>\n",
       "                <td><strong>Name</strong></td>\n",
       "                <td>iCdG692</td>\n",
       "            </tr><tr>\n",
       "                <td><strong>Memory address</strong></td>\n",
       "                <td>0x07f79a51b1310</td>\n",
       "            </tr><tr>\n",
       "                <td><strong>Number of metabolites</strong></td>\n",
       "                <td>1235</td>\n",
       "            </tr><tr>\n",
       "                <td><strong>Number of reactions</strong></td>\n",
       "                <td>1305</td>\n",
       "            </tr><tr>\n",
       "                <td><strong>Number of groups</strong></td>\n",
       "                <td>0</td>\n",
       "            </tr><tr>\n",
       "                <td><strong>Objective expression</strong></td>\n",
       "                <td>1.0*biomass - 1.0*biomass_reverse_01e59</td>\n",
       "            </tr><tr>\n",
       "                <td><strong>Compartments</strong></td>\n",
       "                <td>cytosol, extracellular, periplasm</td>\n",
       "            </tr>\n",
       "          </table>"
      ],
      "text/plain": [
       "<Model iCdG692 at 0x7f79a51b1310>"
      ]
     },
     "execution_count": 570,
     "metadata": {},
     "output_type": "execute_result"
    }
   ],
   "source": [
    "iCdG692"
   ]
  },
  {
   "cell_type": "code",
   "execution_count": 625,
   "metadata": {},
   "outputs": [],
   "source": [
    "mdm = ['cpd00001_e', # water\n",
    "       'cpd00065_e', # L-Tryptophan\n",
    "       'cpd00060_e', # L-Methionine\n",
    "       'cpd00322_e', # L-Isoleucine\n",
    "       'cpd00129_e', # L-Proline\n",
    "       'cpd00156_e', # L-Valine\n",
    "       'cpd00107_e', # L-Leucine\n",
    "       'cpd00084_e', # L-Cysteine \n",
    "       'cpd00149_e', # Cobalt\n",
    "       'cpd00099_e', # Chloride\n",
    "       'cpd10515_e', # Iron\n",
    "       'cpd00030_e', # Manganese\n",
    "       'cpd00254_e', # Magnesium\n",
    "       'cpd00063_e', # Calcium\n",
    "       'cpd00205_e', # Potassium\n",
    "       'cpd00009_e', # Phosphate\n",
    "       'cpd00971_e', # Sodium\n",
    "       'cpd00242_e', # Carbonate\n",
    "       'cpd00104_e', # Biotin\n",
    "       'cpd00644_e', # Pantothenate\n",
    "       'cpd00263_e', # Pyridoxine\n",
    "       'cpd00027_e'] # D-Glucose (Carbohydrate C-source)\n",
    "mdm = ['EX_' + x for x in mdm]\n",
    "for rxn in iCdG692.boundary:\n",
    "    rxn.bounds = (-1000., 1000.)\n",
    "    if not rxn.id in mdm:\n",
    "        rxn.bounds = (0., 1000.)"
   ]
  },
  {
   "cell_type": "code",
   "execution_count": 626,
   "metadata": {},
   "outputs": [],
   "source": [
    "iCdG692.remove_reactions(['rxn00916_c'])\n",
    "\n",
    "cpd00002_c = iCdG692.metabolites.cpd00002_c\n",
    "cpd00013_c = iCdG692.metabolites.cpd00013_c\n",
    "cpd00497_c = iCdG692.metabolites.cpd00497_c\n",
    "cpd00012_c = iCdG692.metabolites.cpd00012_c\n",
    "cpd00018_c = iCdG692.metabolites.cpd00018_c\n",
    "cpd00067_c = iCdG692.metabolites.cpd00067_c\n",
    "cpd00126_c = iCdG692.metabolites.cpd00126_c\n",
    "\n",
    "rxn00916_c = cobra.Reaction('rxn00916_c')\n",
    "rxn00916_c.name = 'Xanthosine-phosphate:ammonia ligase (AMP-forming)'\n",
    "rxn00916_c.lower_bound = 0.\n",
    "rxn00916_c.upper_bound = 1000.\n",
    "rxn00916_c.add_metabolites({\n",
    "    cpd00002_c: -1.0,\n",
    "    cpd00013_c: -1.0,\n",
    "    cpd00497_c: -1.0,\n",
    "    cpd00012_c: 1.0,\n",
    "    cpd00018_c: 1.0,\n",
    "    cpd00067_c: 3.0,\n",
    "    cpd00126_c: 1.0\n",
    "})\n",
    "iCdG692.add_reactions([rxn00916_c])\n",
    "iCdG692.reactions.rxn00916_c.annotation['sbo'] = 'SBO:0000176' \n",
    "iCdG692.reactions.rxn00916_c.annotation['seed.reaction'] = 'rxn00916'\n",
    "iCdG692.reactions.rxn00916_c.annotation['kegg.reaction'] = 'R01230'\n"
   ]
  },
  {
   "cell_type": "code",
   "execution_count": 599,
   "metadata": {},
   "outputs": [
    {
     "name": "stdout",
     "output_type": "stream",
     "text": [
      "New reactions: 3\n",
      "New objective value: 6.1000000000000005\n"
     ]
    }
   ],
   "source": [
    "gapfilled_rxns = pfba_gapfill(iCdG692, universal_GramPos) # Biomass alone"
   ]
  },
  {
   "cell_type": "code",
   "execution_count": 600,
   "metadata": {},
   "outputs": [
    {
     "data": {
      "text/plain": [
       "{'rxn00116_c', 'rxn01347_c', 'rxn01952_c'}"
      ]
     },
     "execution_count": 600,
     "metadata": {},
     "output_type": "execute_result"
    }
   ],
   "source": [
    "gapfilled_rxns"
   ]
  },
  {
   "cell_type": "code",
   "execution_count": 627,
   "metadata": {},
   "outputs": [],
   "source": [
    "rxn00116_c = deepcopy(universal_GramPos.reactions.rxn00116_c)\n",
    "rxn01347_c = deepcopy(universal_GramPos.reactions.rxn01347_c)\n",
    "rxn01952_c = deepcopy(universal_GramPos.reactions.rxn01952_c)\n",
    "iCdG692.add_reactions([rxn00116_c, rxn01347_c, rxn01952_c])\n",
    "\n",
    "iCdG692.reactions.rxn00116_c.annotation['sbo'] = 'SBO:0000176' \n",
    "iCdG692.reactions.rxn00116_c.annotation['seed.reaction'] = 'rxn00116'\n",
    "iCdG692.reactions.rxn00116_c.annotation['kegg.reaction'] = 'R00155'\n",
    "iCdG692.reactions.rxn00116_c.annotation['bigg.reaction'] = 'NDP7'\n",
    "\n",
    "iCdG692.reactions.rxn01347_c.annotation['sbo'] = 'SBO:0000176' \n",
    "iCdG692.reactions.rxn01347_c.annotation['seed.reaction'] = 'rxn01347'\n",
    "\n",
    "iCdG692.reactions.rxn01952_c.annotation['sbo'] = 'SBO:0000176' \n",
    "iCdG692.reactions.rxn01952_c.annotation['seed.reaction'] = 'rxn01952'\n",
    "iCdG692.reactions.rxn01952_c.annotation['kegg.reaction'] = 'R02706'"
   ]
  },
  {
   "cell_type": "code",
   "execution_count": 640,
   "metadata": {},
   "outputs": [
    {
     "data": {
      "text/plain": [
       "38.307060909495995"
      ]
     },
     "execution_count": 640,
     "metadata": {},
     "output_type": "execute_result"
    }
   ],
   "source": [
    "iCdG692.slim_optimize()"
   ]
  },
  {
   "cell_type": "code",
   "execution_count": 643,
   "metadata": {},
   "outputs": [],
   "source": [
    "iCdG692.id = 'iCdG' + str(len(iCdG692.genes))"
   ]
  },
  {
   "cell_type": "code",
   "execution_count": 644,
   "metadata": {},
   "outputs": [
    {
     "data": {
      "text/html": [
       "\n",
       "        <table>\n",
       "            <tr>\n",
       "                <td><strong>Name</strong></td>\n",
       "                <td>iCdG693</td>\n",
       "            </tr><tr>\n",
       "                <td><strong>Memory address</strong></td>\n",
       "                <td>0x07f79a12d2610</td>\n",
       "            </tr><tr>\n",
       "                <td><strong>Number of metabolites</strong></td>\n",
       "                <td>1235</td>\n",
       "            </tr><tr>\n",
       "                <td><strong>Number of reactions</strong></td>\n",
       "                <td>1309</td>\n",
       "            </tr><tr>\n",
       "                <td><strong>Number of groups</strong></td>\n",
       "                <td>0</td>\n",
       "            </tr><tr>\n",
       "                <td><strong>Objective expression</strong></td>\n",
       "                <td>1.0*biomass - 1.0*biomass_reverse_01e59</td>\n",
       "            </tr><tr>\n",
       "                <td><strong>Compartments</strong></td>\n",
       "                <td>cytosol, extracellular, periplasm</td>\n",
       "            </tr>\n",
       "          </table>"
      ],
      "text/plain": [
       "<Model iCdG693 at 0x7f79a12d2610>"
      ]
     },
     "execution_count": 644,
     "metadata": {},
     "output_type": "execute_result"
    }
   ],
   "source": [
    "iCdG692"
   ]
  },
  {
   "cell_type": "code",
   "execution_count": 645,
   "metadata": {},
   "outputs": [],
   "source": [
    "cobra.io.write_sbml_model(iCdG692, '/home/mjenior/Desktop/repos/Jenior_Cdifficile_2019/data/reconstructions/iCdG693.sbml')\n",
    "cobra.io.save_json_model(iCdG692, '/home/mjenior/Desktop/repos/Jenior_Cdifficile_2019/data/reconstructions/iCdG693.json')"
   ]
  },
  {
   "cell_type": "code",
   "execution_count": null,
   "metadata": {},
   "outputs": [],
   "source": []
  }
 ],
 "metadata": {
  "kernelspec": {
   "display_name": "Python 3",
   "language": "python",
   "name": "python3"
  },
  "language_info": {
   "codemirror_mode": {
    "name": "ipython",
    "version": 3
   },
   "file_extension": ".py",
   "mimetype": "text/x-python",
   "name": "python",
   "nbconvert_exporter": "python",
   "pygments_lexer": "ipython3",
   "version": "3.7.5"
  }
 },
 "nbformat": 4,
 "nbformat_minor": 2
}
