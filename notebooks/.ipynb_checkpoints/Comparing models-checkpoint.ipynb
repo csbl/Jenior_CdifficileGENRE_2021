{
 "cells": [
  {
   "cell_type": "code",
   "execution_count": 1,
   "metadata": {},
   "outputs": [],
   "source": [
    "# Import libraries - REQUIRES pip version 9.0.3\n",
    "import pandas\n",
    "import os\n",
    "from os.path import join\n",
    "import sys\n",
    "import numpy\n",
    "import pickle\n",
    "\n",
    "# Using Cobrapy 0.13\n",
    "import cobra\n",
    "import cobra.test\n",
    "from cobra.io import write_sbml_model\n",
    "from cobra.flux_analysis import flux_variability_analysis\n",
    "from cobra.flux_analysis import gapfill\n",
    "#from cobra.flux_analysis.sampling import OptGPSampler\n",
    "\n",
    "# Using Gurobi solver instead of GLPK\n",
    "import gurobipy\n",
    "from optlang import gurobi_interface\n"
   ]
  },
  {
   "cell_type": "code",
   "execution_count": 31,
   "metadata": {},
   "outputs": [],
   "source": [
    "# Function to calculate doubling time from objective value\n",
    "def doubling(model):\n",
    "    \n",
    "    with model as m:\n",
    "        ov = m.slim_optimize()\n",
    "        if ov < 1e-6:\n",
    "            growth = 'No growth'\n",
    "        else:\n",
    "            growth = (1 / float(m.slim_optimize())) * 3600\n",
    "        \n",
    "            if growth < 60.0:\n",
    "                growth = str(round(growth, 3)) + ' minutes'\n",
    "            else:\n",
    "                growth = growth / 60\n",
    "                growth = str(round(growth, 3)) + ' hours'\n",
    "            \n",
    "    return growth\n",
    "\n",
    "\n",
    "# Identifies blocked reactions, 1% cutoff for fraction of optimum\n",
    "def blockedReactions(model):\n",
    "    \n",
    "    with model as m:\n",
    "        blocked = cobra.flux_analysis.variability.find_blocked_reactions(m)\n",
    "        nogene_blocked = []\n",
    "        nogene_gapfilled_blocked = []\n",
    "        for rxn in blocked:\n",
    "            if m.reactions.get_by_id(rxn).gene_reaction_rule == '':\n",
    "                nogene_blocked.append(rxn)\n",
    "                if m.reactions.get_by_id(rxn).notes == 'gapfilled':\n",
    "                    nogene_gapfilled_blocked.append(rxn)\n",
    "    \n",
    "    print(str(len(blocked)) + ' total reactions are blocked')\n",
    "    print(str(len(nogene_blocked)) + ' reactions without GPRs are blocked')\n",
    "    print(str(len(nogene_gapfilled_blocked)) + ' gapfilled reactions without GPRs are blocked')\n",
    "    \n",
    "    return blocked, nogene_blocked, nogene_gapfilled_blocked\n",
    "\n",
    "\n",
    "# Identify potentially gapfilled reactions\n",
    "def missingGPR(model, exclude=['dna_rxn','rna_rxn','protein_rxn','teichoicacid_rxn','peptidoglycan_rxn','lipid_rxn','cofactor_rxn','biomass']):\n",
    "    gapfilled = []\n",
    "    exch = 0\n",
    "    if not type(exclude) is list:\n",
    "        exclude = [exclude]\n",
    "        \n",
    "    for index in model.reactions:\n",
    "        if len(list(index.genes)) == 0:\n",
    "            if index.id not in exclude:\n",
    "                if len(list(index.products)) != 0:\n",
    "                    gapfilled.append(index.id)\n",
    "                else:\n",
    "                    exch += 1\n",
    "    if len(gapfilled) > 0:\n",
    "        print(str(len(gapfilled)) + ' metabolic reactions not associated with genes and ' + str(exch) + ' are exchanges')\n",
    "    \n",
    "    return gapfilled\n",
    "\n",
    "# Checks which cytosolic metabolites are generated for free (bacteria only)\n",
    "def checkFreeMass(raw_model):\n",
    "    \n",
    "    with raw_model as model:\n",
    "        \n",
    "        # Close all exchanges\n",
    "        for rxn in model.reactions:\n",
    "            if len(list(rxn.products)) == 0:\n",
    "                model.reactions.get_by_id(rxn.id).lower_bound = 0.\n",
    "        \n",
    "        free = []\n",
    "        for index in model.metabolites: \n",
    "            with model as m:\n",
    "                demand = m.add_boundary(index, type='demand')\n",
    "                m.objective = demand\n",
    "                obj_val = m.slim_optimize(error_value=0.)\n",
    "                if obj_val > 1e-6:\n",
    "                    free.append(index.id)\n",
    "    \n",
    "    if len(free) > 0:\n",
    "        print(str(len(free)) + ' metabolites are generated for free')\n",
    "\n",
    "    return(free)\n",
    "\n",
    "# Check for mass and charge balance in reactions\n",
    "def checkBalance(raw_model, exclude=['dna_rxn','rna_rxn','protein_rxn','teichoicacid_rxn','peptidoglycan_rxn','lipid_rxn','cofactor_rxn','biomass']):\n",
    "    \n",
    "    with raw_model as model:\n",
    "        imbalanced = []\n",
    "        mass_imbal = 0\n",
    "        charge_imbal = 0\n",
    "        elem_set = set()\n",
    "        for metabolite in model.metabolites:\n",
    "            try:\n",
    "                elem_set |= set(metabolite.elements.keys())\n",
    "            except:\n",
    "                pass\n",
    "        \n",
    "        if len(elem_set) == 0:\n",
    "            print('No elemental data associated with metabolites!')\n",
    "        \n",
    "        else:\n",
    "            if not type(exclude) is list: \n",
    "                exclude = [exclude]\n",
    "            for index in model.reactions:\n",
    "                if index in model.boundary or index.id in exclude:\n",
    "                    continue\n",
    "\n",
    "                else:\n",
    "                    try:\n",
    "                        test = index.check_mass_balance()\n",
    "                    except ValueError:\n",
    "                        continue\n",
    "\n",
    "                    if len(list(test)) > 0:\n",
    "                        imbalanced.append(index.id)\n",
    "\n",
    "                        if 'charge' in test.keys():\n",
    "                            charge_imbal += 1\n",
    "                        if len(set(test.keys()).intersection(elem_set)) > 0:\n",
    "                            mass_imbal += 1\n",
    "\n",
    "    if mass_imbal != 0:\n",
    "        print(str(mass_imbal) + ' reactions are mass imbalanced')\n",
    "    if charge_imbal != 0:\n",
    "        print(str(charge_imbal) + ' reactions are charge imbalanced')\n",
    "    \n",
    "    return(imbalanced)\n",
    "\n",
    "\n",
    "def checkDetermination(model):\n",
    "    if len(model.reactions) < len(model.metabolites):\n",
    "        print('Model is overdetermined')\n",
    "    if len(model.reactions) > len(model.metabolites):\n",
    "        print('Model is underdetermined')\n",
    "\n",
    "        \n",
    "# Checks the quality of models by a couple metrics and returns problems\n",
    "def checkQuality(model, exclude=['dna_rxn','rna_rxn','protein_rxn','teichoicacid_rxn','peptidoglycan_rxn','lipid_rxn','cofactor_rxn','biomass'], cytosol='cytosol'):\n",
    "    \n",
    "    if len(list(model.compartments)) == 1:\n",
    "        print('Model only has 1 compartment')\n",
    "    checkDetermination(model)\n",
    "    gaps = missingGPR(model, exclude)\n",
    "    freemass = checkFreeMass(model)\n",
    "    balance = checkBalance(model, exclude)\n",
    "    \n",
    "    test = gaps + freemass + balance\n",
    "    if len(test) == 0:\n",
    "        print('No inconsistencies detected')\n"
   ]
  },
  {
   "cell_type": "markdown",
   "metadata": {},
   "source": [
    "\n",
    "#### iMLTC806cdf\n",
    "Larocque, M., Chénard, T., & Najmanovich, R. (2014). A curated C. difficile strain 630 metabolic network: prediction of essential targets and inhibitors. BMC Systems Biology, 8, 117. http://doi.org/10.1186/s12918-014-0117-z\n",
    "\n",
    "\n",
    "#### icdf834\n",
    "Kashaf, S. S., Angione, C., & Lió, P. (2017). Making life difficult for Clostridium difficile: augmenting the pathogen’s metabolic model with transcriptomic and codon usage data for better therapeutic target characterization. BMC Systems Biology, 11, 25. http://doi.org/10.1186/s12918-017-0395-3\n",
    "\n",
    "#### iHD992\n",
    "Dannheim, H., Will, S. E., Schomburg, D., & Neumann‐Schaal, M. (2017). Clostridioides difficile 630Δerm in silico and in vivo – quantitative growth and extensive polysaccharide secretion. FEBS Open Bio, 7(4), 602–615. http://doi.org/10.1002/2211-5463.12208\n"
   ]
  },
  {
   "cell_type": "code",
   "execution_count": 4,
   "metadata": {},
   "outputs": [],
   "source": [
    "# Read in sbml files\n",
    "iMLTC806cdf = cobra.io.read_sbml_model('data/iMLTC806cdf/MODEL1409240004.xml')\n",
    "iMLTC806cdf.objective = iMLTC806cdf.reactions.get_by_id('Biomass')\n",
    "\n",
    "icdf834 = cobra.io.read_sbml_model('data/icdf834/icdf834.sbml')\n",
    "\n",
    "iHD992 = cobra.io.read_sbml_model('data/iHD992/iHD992.sbml')\n",
    "biomass_rxn = iHD992.reactions.get_by_id('Biomass')\n",
    "iHD992.objective = biomass_rxn\n",
    "\n",
    "cd630_PATRIC = cobra.io.read_sbml_model('data/PATRIC/272563.8.xml')\n",
    "\n",
    "iCd630J = cobra.io.read_sbml_model('data/iCd630J.sbml')\n"
   ]
  },
  {
   "cell_type": "code",
   "execution_count": 5,
   "metadata": {},
   "outputs": [
    {
     "data": {
      "text/html": [
       "\n",
       "        <table>\n",
       "            <tr>\n",
       "                <td><strong>Name</strong></td>\n",
       "                <td>MODEL1409240004</td>\n",
       "            </tr><tr>\n",
       "                <td><strong>Memory address</strong></td>\n",
       "                <td>0x07ff0e5708e10</td>\n",
       "            </tr><tr>\n",
       "                <td><strong>Number of metabolites</strong></td>\n",
       "                <td>1638</td>\n",
       "            </tr><tr>\n",
       "                <td><strong>Number of reactions</strong></td>\n",
       "                <td>1219</td>\n",
       "            </tr><tr>\n",
       "                <td><strong>Objective expression</strong></td>\n",
       "                <td>1.0*Biomass - 1.0*Biomass_reverse_57a34</td>\n",
       "            </tr><tr>\n",
       "                <td><strong>Compartments</strong></td>\n",
       "                <td>Cytosol, Extracellular</td>\n",
       "            </tr>\n",
       "          </table>"
      ],
      "text/plain": [
       "<Model MODEL1409240004 at 0x7ff0e5708e10>"
      ]
     },
     "execution_count": 5,
     "metadata": {},
     "output_type": "execute_result"
    }
   ],
   "source": [
    "iMLTC806cdf"
   ]
  },
  {
   "cell_type": "code",
   "execution_count": 6,
   "metadata": {},
   "outputs": [
    {
     "name": "stdout",
     "output_type": "stream",
     "text": [
      "0\n"
     ]
    }
   ],
   "source": [
    "print(len(iMLTC806cdf.genes))"
   ]
  },
  {
   "cell_type": "code",
   "execution_count": 32,
   "metadata": {},
   "outputs": [
    {
     "name": "stdout",
     "output_type": "stream",
     "text": [
      "Model is overdetermined\n",
      "1101 metabolic reactions not associated with genes (117 are exchanges)\n",
      "579 metabolites are generated for free\n",
      "34 reactions are mass imbalanced\n"
     ]
    }
   ],
   "source": [
    "checkQuality(iMLTC806cdf, exclude=['Biomass'], cytosol='c')"
   ]
  },
  {
   "cell_type": "code",
   "execution_count": 8,
   "metadata": {},
   "outputs": [
    {
     "name": "stdout",
     "output_type": "stream",
     "text": [
      "368 total reactions are blocked\n",
      "368 reactions without GPRs are blocked\n",
      "0 gapfilled reactions without GPRs are blocked\n"
     ]
    }
   ],
   "source": [
    "blocked, nogene_blocked, nogene_gapfilled_blocked = blockedReactions(iMLTC806cdf)"
   ]
  },
  {
   "cell_type": "code",
   "execution_count": 9,
   "metadata": {},
   "outputs": [
    {
     "data": {
      "text/plain": [
       "'29.807 minutes'"
      ]
     },
     "execution_count": 9,
     "metadata": {},
     "output_type": "execute_result"
    }
   ],
   "source": [
    "doubling(iMLTC806cdf)"
   ]
  },
  {
   "cell_type": "code",
   "execution_count": 10,
   "metadata": {},
   "outputs": [
    {
     "data": {
      "text/html": [
       "\n",
       "        <table>\n",
       "            <tr>\n",
       "                <td><strong>Name</strong></td>\n",
       "                <td>icdf834_ex</td>\n",
       "            </tr><tr>\n",
       "                <td><strong>Memory address</strong></td>\n",
       "                <td>0x07ff0e5708f90</td>\n",
       "            </tr><tr>\n",
       "                <td><strong>Number of metabolites</strong></td>\n",
       "                <td>807</td>\n",
       "            </tr><tr>\n",
       "                <td><strong>Number of reactions</strong></td>\n",
       "                <td>1168</td>\n",
       "            </tr><tr>\n",
       "                <td><strong>Objective expression</strong></td>\n",
       "                <td>-1.0*Biomass_reverse_57a34 + 1.0*Biomass</td>\n",
       "            </tr><tr>\n",
       "                <td><strong>Compartments</strong></td>\n",
       "                <td>Cytosol, Extracellular</td>\n",
       "            </tr>\n",
       "          </table>"
      ],
      "text/plain": [
       "<Model icdf834_ex at 0x7ff0e5708f90>"
      ]
     },
     "execution_count": 10,
     "metadata": {},
     "output_type": "execute_result"
    }
   ],
   "source": [
    "icdf834"
   ]
  },
  {
   "cell_type": "code",
   "execution_count": 11,
   "metadata": {},
   "outputs": [
    {
     "name": "stdout",
     "output_type": "stream",
     "text": [
      "832\n"
     ]
    }
   ],
   "source": [
    "print(len(icdf834.genes))"
   ]
  },
  {
   "cell_type": "code",
   "execution_count": 12,
   "metadata": {},
   "outputs": [
    {
     "name": "stdout",
     "output_type": "stream",
     "text": [
      "Model is underdetermined\n",
      "259 metabolic reactions not associated with genes\n",
      "4 metabolites are generated for free\n",
      "144 reactions are mass imbalanced\n"
     ]
    }
   ],
   "source": [
    "checkQuality(icdf834, exclude=['Biomass'], cytosol='Cytosol')"
   ]
  },
  {
   "cell_type": "code",
   "execution_count": 13,
   "metadata": {},
   "outputs": [
    {
     "data": {
      "text/plain": [
       "'24.569 minutes'"
      ]
     },
     "execution_count": 13,
     "metadata": {},
     "output_type": "execute_result"
    }
   ],
   "source": [
    "doubling(icdf834)"
   ]
  },
  {
   "cell_type": "code",
   "execution_count": 14,
   "metadata": {},
   "outputs": [
    {
     "data": {
      "text/html": [
       "\n",
       "        <table>\n",
       "            <tr>\n",
       "                <td><strong>Name</strong></td>\n",
       "                <td>iHD992</td>\n",
       "            </tr><tr>\n",
       "                <td><strong>Memory address</strong></td>\n",
       "                <td>0x07ff0e47a7f50</td>\n",
       "            </tr><tr>\n",
       "                <td><strong>Number of metabolites</strong></td>\n",
       "                <td>935</td>\n",
       "            </tr><tr>\n",
       "                <td><strong>Number of reactions</strong></td>\n",
       "                <td>1125</td>\n",
       "            </tr><tr>\n",
       "                <td><strong>Objective expression</strong></td>\n",
       "                <td>1.0*Biomass - 1.0*Biomass_reverse_57a34</td>\n",
       "            </tr><tr>\n",
       "                <td><strong>Compartments</strong></td>\n",
       "                <td>Cytosol</td>\n",
       "            </tr>\n",
       "          </table>"
      ],
      "text/plain": [
       "<Model iHD992 at 0x7ff0e47a7f50>"
      ]
     },
     "execution_count": 14,
     "metadata": {},
     "output_type": "execute_result"
    }
   ],
   "source": [
    "iHD992"
   ]
  },
  {
   "cell_type": "code",
   "execution_count": 15,
   "metadata": {},
   "outputs": [
    {
     "name": "stdout",
     "output_type": "stream",
     "text": [
      "0\n"
     ]
    }
   ],
   "source": [
    "print(len(iHD992.genes))"
   ]
  },
  {
   "cell_type": "code",
   "execution_count": 16,
   "metadata": {},
   "outputs": [
    {
     "name": "stdout",
     "output_type": "stream",
     "text": [
      "Model only has 1 compartment\n",
      "Model is underdetermined\n",
      "964 metabolic reactions not associated with genes\n",
      "303 metabolites are generated for free\n",
      "No elemental data associated with metabolites!\n"
     ]
    }
   ],
   "source": [
    "checkQuality(iHD992, exclude=['Biomass'], cytosol='Cytosol')"
   ]
  },
  {
   "cell_type": "code",
   "execution_count": 17,
   "metadata": {},
   "outputs": [
    {
     "name": "stdout",
     "output_type": "stream",
     "text": [
      "97 total reactions are blocked\n",
      "97 reactions without GPRs are blocked\n",
      "0 gapfilled reactions without GPRs are blocked\n"
     ]
    }
   ],
   "source": [
    "blocked, nogene_blocked, nogene_gapfilled_blocked = blockedReactions(iHD992)"
   ]
  },
  {
   "cell_type": "code",
   "execution_count": 18,
   "metadata": {},
   "outputs": [
    {
     "data": {
      "text/plain": [
       "'20.863 minutes'"
      ]
     },
     "execution_count": 18,
     "metadata": {},
     "output_type": "execute_result"
    }
   ],
   "source": [
    "doubling(iHD992)"
   ]
  },
  {
   "cell_type": "code",
   "execution_count": 19,
   "metadata": {},
   "outputs": [
    {
     "data": {
      "text/html": [
       "\n",
       "        <table>\n",
       "            <tr>\n",
       "                <td><strong>Name</strong></td>\n",
       "                <td>272563.8</td>\n",
       "            </tr><tr>\n",
       "                <td><strong>Memory address</strong></td>\n",
       "                <td>0x07ff0e52ce290</td>\n",
       "            </tr><tr>\n",
       "                <td><strong>Number of metabolites</strong></td>\n",
       "                <td>1265</td>\n",
       "            </tr><tr>\n",
       "                <td><strong>Number of reactions</strong></td>\n",
       "                <td>1192</td>\n",
       "            </tr><tr>\n",
       "                <td><strong>Objective expression</strong></td>\n",
       "                <td>-1.0*bio1_reverse_b18f7 + 1.0*bio1</td>\n",
       "            </tr><tr>\n",
       "                <td><strong>Compartments</strong></td>\n",
       "                <td>Cytosol, Extracellular</td>\n",
       "            </tr>\n",
       "          </table>"
      ],
      "text/plain": [
       "<Model 272563.8 at 0x7ff0e52ce290>"
      ]
     },
     "execution_count": 19,
     "metadata": {},
     "output_type": "execute_result"
    }
   ],
   "source": [
    "cd630_PATRIC"
   ]
  },
  {
   "cell_type": "code",
   "execution_count": 20,
   "metadata": {},
   "outputs": [
    {
     "name": "stdout",
     "output_type": "stream",
     "text": [
      "744\n"
     ]
    }
   ],
   "source": [
    "print(len(cd630_PATRIC.genes))"
   ]
  },
  {
   "cell_type": "code",
   "execution_count": 21,
   "metadata": {},
   "outputs": [
    {
     "name": "stdout",
     "output_type": "stream",
     "text": [
      "Model is overdetermined\n",
      "135 metabolic reactions not associated with genes\n",
      "3 metabolites are generated for free\n",
      "25 reactions are charge imbalanced\n"
     ]
    }
   ],
   "source": [
    "checkQuality(cd630_PATRIC, exclude=['bio1'], cytosol='Cytosol')"
   ]
  },
  {
   "cell_type": "code",
   "execution_count": 22,
   "metadata": {},
   "outputs": [
    {
     "name": "stdout",
     "output_type": "stream",
     "text": [
      "574 total reactions are blocked\n",
      "32 reactions without GPRs are blocked\n",
      "0 gapfilled reactions without GPRs are blocked\n"
     ]
    }
   ],
   "source": [
    "blocked, nogene_blocked, nogene_gapfilled_blocked = blockedReactions(cd630_PATRIC)"
   ]
  },
  {
   "cell_type": "code",
   "execution_count": 23,
   "metadata": {},
   "outputs": [
    {
     "data": {
      "text/plain": [
       "'1.751 hours'"
      ]
     },
     "execution_count": 23,
     "metadata": {},
     "output_type": "execute_result"
    }
   ],
   "source": [
    "doubling(cd630_PATRIC)"
   ]
  },
  {
   "cell_type": "code",
   "execution_count": 24,
   "metadata": {},
   "outputs": [
    {
     "data": {
      "text/html": [
       "\n",
       "        <table>\n",
       "            <tr>\n",
       "                <td><strong>Name</strong></td>\n",
       "                <td>iCd630J</td>\n",
       "            </tr><tr>\n",
       "                <td><strong>Memory address</strong></td>\n",
       "                <td>0x07ff0e433ec90</td>\n",
       "            </tr><tr>\n",
       "                <td><strong>Number of metabolites</strong></td>\n",
       "                <td>1175</td>\n",
       "            </tr><tr>\n",
       "                <td><strong>Number of reactions</strong></td>\n",
       "                <td>1191</td>\n",
       "            </tr><tr>\n",
       "                <td><strong>Objective expression</strong></td>\n",
       "                <td>-1.0*biomass_reverse_01e59 + 1.0*biomass</td>\n",
       "            </tr><tr>\n",
       "                <td><strong>Compartments</strong></td>\n",
       "                <td>cytosol, extracellular</td>\n",
       "            </tr>\n",
       "          </table>"
      ],
      "text/plain": [
       "<Model iCd630J at 0x7ff0e433ec90>"
      ]
     },
     "execution_count": 24,
     "metadata": {},
     "output_type": "execute_result"
    }
   ],
   "source": [
    "iCd630J"
   ]
  },
  {
   "cell_type": "code",
   "execution_count": 25,
   "metadata": {},
   "outputs": [
    {
     "name": "stdout",
     "output_type": "stream",
     "text": [
      "790\n"
     ]
    }
   ],
   "source": [
    "print(len(iCd630J.genes))"
   ]
  },
  {
   "cell_type": "code",
   "execution_count": 26,
   "metadata": {},
   "outputs": [
    {
     "name": "stdout",
     "output_type": "stream",
     "text": [
      "Model is underdetermined\n",
      "102 metabolic reactions not associated with genes\n",
      "53 reactions are charge imbalanced\n"
     ]
    }
   ],
   "source": [
    "checkQuality(iCd630J, exclude=['dna_rxn','rna_rxn','protein_rxn','teichoicacid_rxn','peptidoglycan_rxn','lipid_rxn','cofactor_rxn','biomass'], cytosol='cytosol')"
   ]
  },
  {
   "cell_type": "code",
   "execution_count": 27,
   "metadata": {},
   "outputs": [
    {
     "name": "stdout",
     "output_type": "stream",
     "text": [
      "505 total reactions are blocked\n",
      "12 reactions without GPRs are blocked\n",
      "0 gapfilled reactions without GPRs are blocked\n"
     ]
    }
   ],
   "source": [
    "blocked, nogene_blocked, nogene_gapfilled_blocked = blockedReactions(iCd630J)"
   ]
  },
  {
   "cell_type": "code",
   "execution_count": 28,
   "metadata": {},
   "outputs": [
    {
     "data": {
      "text/plain": [
       "'42.617 minutes'"
      ]
     },
     "execution_count": 28,
     "metadata": {},
     "output_type": "execute_result"
    }
   ],
   "source": [
    "doubling(iCd630J)"
   ]
  },
  {
   "cell_type": "code",
   "execution_count": null,
   "metadata": {},
   "outputs": [],
   "source": []
  },
  {
   "cell_type": "code",
   "execution_count": null,
   "metadata": {},
   "outputs": [],
   "source": []
  }
 ],
 "metadata": {
  "kernelspec": {
   "display_name": "Python [default]",
   "language": "python",
   "name": "python2"
  },
  "language_info": {
   "codemirror_mode": {
    "name": "ipython",
    "version": 2
   },
   "file_extension": ".py",
   "mimetype": "text/x-python",
   "name": "python",
   "nbconvert_exporter": "python",
   "pygments_lexer": "ipython2",
   "version": "2.7.14"
  }
 },
 "nbformat": 4,
 "nbformat_minor": 2
}
