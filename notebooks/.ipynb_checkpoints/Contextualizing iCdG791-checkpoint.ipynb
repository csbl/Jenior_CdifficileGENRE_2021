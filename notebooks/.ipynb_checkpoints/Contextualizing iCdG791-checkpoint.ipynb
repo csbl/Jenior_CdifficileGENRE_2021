{
 "cells": [
  {
   "cell_type": "code",
   "execution_count": 1,
   "metadata": {},
   "outputs": [],
   "source": [
    "from riptide import *"
   ]
  },
  {
   "cell_type": "code",
   "execution_count": 2,
   "metadata": {},
   "outputs": [],
   "source": [
    "iCdG790 = cobra.io.load_json_model('/home/mjenior/Desktop/repos/Jenior_Cdifficile_2019/data/iCdG790.json')"
   ]
  },
  {
   "cell_type": "markdown",
   "metadata": {},
   "source": [
    "### Base Model Statistics"
   ]
  },
  {
   "cell_type": "code",
   "execution_count": 3,
   "metadata": {},
   "outputs": [
    {
     "data": {
      "text/html": [
       "\n",
       "        <table>\n",
       "            <tr>\n",
       "                <td><strong>Name</strong></td>\n",
       "                <td>iCdG790</td>\n",
       "            </tr><tr>\n",
       "                <td><strong>Memory address</strong></td>\n",
       "                <td>0x07fe019a7d278</td>\n",
       "            </tr><tr>\n",
       "                <td><strong>Number of metabolites</strong></td>\n",
       "                <td>1132</td>\n",
       "            </tr><tr>\n",
       "                <td><strong>Number of reactions</strong></td>\n",
       "                <td>1129</td>\n",
       "            </tr><tr>\n",
       "                <td><strong>Number of groups</strong></td>\n",
       "                <td>0</td>\n",
       "            </tr><tr>\n",
       "                <td><strong>Objective expression</strong></td>\n",
       "                <td>1.0*biomass - 1.0*biomass_reverse_01e59</td>\n",
       "            </tr><tr>\n",
       "                <td><strong>Compartments</strong></td>\n",
       "                <td>cytosol, extracellular</td>\n",
       "            </tr>\n",
       "          </table>"
      ],
      "text/plain": [
       "<Model iCdG790 at 0x7fe019a7d278>"
      ]
     },
     "execution_count": 3,
     "metadata": {},
     "output_type": "execute_result"
    }
   ],
   "source": [
    "iCdG790"
   ]
  },
  {
   "cell_type": "code",
   "execution_count": 3,
   "metadata": {},
   "outputs": [
    {
     "name": "stdout",
     "output_type": "stream",
     "text": [
      "4.411660777385159\n"
     ]
    }
   ],
   "source": [
    "x = 0\n",
    "for cpd in iCdG790.metabolites:\n",
    "    x += len(cpd.reactions)\n",
    "print(float(x)/float(len(iCdG790.metabolites))) \n",
    "    "
   ]
  },
  {
   "cell_type": "code",
   "execution_count": 3,
   "metadata": {},
   "outputs": [
    {
     "data": {
      "text/html": [
       "\n",
       "        <table>\n",
       "            <tr>\n",
       "                <td><strong>Gene identifier</strong></td><td>272563.8.peg.1925</td>\n",
       "            </tr><tr>\n",
       "                <td><strong>Name</strong></td><td>3-phosphoshikimate 1-carboxyvinyltransferase (EC 2.5.1.19)</td>\n",
       "            </tr><tr>\n",
       "                <td><strong>Memory address</strong></td>\n",
       "                <td>0x07f108aac1c50</td>\n",
       "            </tr><tr>\n",
       "                <td><strong>Functional</strong></td><td>True</td>\n",
       "            </tr><tr>\n",
       "                <td><strong>In 2 reaction(s)</strong></td><td>\n",
       "                    rxn02201_c, rxn02200_c</td>\n",
       "            </tr>\n",
       "        </table>"
      ],
      "text/plain": [
       "<Gene 272563.8.peg.1925 at 0x7f108aac1c50>"
      ]
     },
     "execution_count": 3,
     "metadata": {},
     "output_type": "execute_result"
    }
   ],
   "source": [
    "iCdG790.genes[1]"
   ]
  },
  {
   "cell_type": "code",
   "execution_count": null,
   "metadata": {},
   "outputs": [],
   "source": []
  },
  {
   "cell_type": "code",
   "execution_count": 4,
   "metadata": {},
   "outputs": [
    {
     "name": "stdout",
     "output_type": "stream",
     "text": [
      "Objective value: 65.432\n"
     ]
    }
   ],
   "source": [
    "base_obj_val = str(round(iCdG790.slim_optimize(),3))\n",
    "print('Objective value: ' + base_obj_val)"
   ]
  },
  {
   "cell_type": "code",
   "execution_count": 5,
   "metadata": {},
   "outputs": [
    {
     "name": "stdout",
     "output_type": "stream",
     "text": [
      "Genes: 790\n",
      "Exchanges: 99\n",
      "Transporters: 104\n",
      "Metabolic reactions: 926\n"
     ]
    }
   ],
   "source": [
    "# Report some additional stats\n",
    "exch = 0\n",
    "for rxn in iCdG790.reactions:\n",
    "    if len(list(rxn.products)) == 0:\n",
    "        exch += 1\n",
    "trans = 0\n",
    "for rxn in iCdG790.reactions:\n",
    "    comps = set([x.compartment for x in list(rxn.reactants)] + [x.compartment for x in list(rxn.products)])\n",
    "    if len(comps) > 1:\n",
    "        trans += 1\n",
    "metab = len(list(iCdG790.reactions)) - exch - trans\n",
    "\n",
    "print('Genes: ' + str(len(list(iCdG790.genes))))\n",
    "print('Exchanges: ' + str(exch))\n",
    "print('Transporters: ' + str(trans))\n",
    "print('Metabolic reactions: ' + str(metab))"
   ]
  },
  {
   "cell_type": "code",
   "execution_count": 11,
   "metadata": {},
   "outputs": [
    {
     "name": "stdout",
     "output_type": "stream",
     "text": [
      "Doubling time: 48.91 minutes\n"
     ]
    }
   ],
   "source": [
    "doubling = round((1.0 / iCdG790.slim_optimize()) * 3200.0, 2)\n",
    "print('Doubling time: ' + str(doubling) + ' minutes')"
   ]
  },
  {
   "cell_type": "markdown",
   "metadata": {},
   "source": [
    "### RIPTiDe *in vivo* Contextualization"
   ]
  },
  {
   "cell_type": "code",
   "execution_count": 8,
   "metadata": {},
   "outputs": [],
   "source": [
    "# Read in in vivo C. difficile transcription\n",
    "clindamycin = riptide.read_transcription_file('/home/mjenior/Desktop/repos/Jenior_Cdifficile_2019/data/transcript/clindamycin.format.tsv', \n",
    "                                              header=True)\n",
    "streptomycin = riptide.read_transcription_file('/home/mjenior/Desktop/repos/Jenior_Cdifficile_2019/data/transcript/streptomycin.format.tsv', \n",
    "                                               header=True)"
   ]
  },
  {
   "cell_type": "code",
   "execution_count": 9,
   "metadata": {},
   "outputs": [
    {
     "name": "stdout",
     "output_type": "stream",
     "text": [
      "\n",
      "Initializing model and integrating transcriptomic data...\n",
      "Pruning zero flux subnetworks...\n",
      "Analyzing context-specific flux distributions...\n",
      "\n",
      "Reactions pruned to 276 from 1129 (75.55% change)\n",
      "Metabolites pruned to 279 from 1132 (75.35% change)\n",
      "Flux through the objective DECREASED to ~58.77 from ~65.43 (10.18% change)\n",
      "Context-specific metabolism correlates with transcriptome (p<<0.001 ***)\n",
      "\n",
      "RIPTiDe completed in 22 seconds\n",
      "\n"
     ]
    }
   ],
   "source": [
    "clinda_iCdG790_riptide = riptide.contextualize(model=iCdG790, transcriptome=clindamycin)"
   ]
  },
  {
   "cell_type": "code",
   "execution_count": 10,
   "metadata": {},
   "outputs": [
    {
     "name": "stdout",
     "output_type": "stream",
     "text": [
      "Doubling time: 54.45 minutes\n"
     ]
    }
   ],
   "source": [
    "doubling = round((1.0 / clinda_iCdG790_riptide.model.slim_optimize()) * 3200.0, 2)\n",
    "print('Doubling time: ' + str(doubling) + ' minutes')"
   ]
  },
  {
   "cell_type": "code",
   "execution_count": 11,
   "metadata": {},
   "outputs": [
    {
     "name": "stdout",
     "output_type": "stream",
     "text": [
      "\n",
      "Initializing model and integrating transcriptomic data...\n",
      "Pruning zero flux subnetworks...\n",
      "Analyzing context-specific flux distributions...\n",
      "\n",
      "Reactions pruned to 275 from 1129 (75.64% change)\n",
      "Metabolites pruned to 277 from 1132 (75.53% change)\n",
      "Flux through the objective DECREASED to ~52.83 from ~65.43 (19.26% change)\n",
      "\n",
      "RIPTiDe completed in 32 seconds\n",
      "\n"
     ]
    }
   ],
   "source": [
    "strep_iCdG790_riptide = riptide.contextualize(model=iCdG790, transcriptome=streptomycin)"
   ]
  },
  {
   "cell_type": "code",
   "execution_count": 12,
   "metadata": {},
   "outputs": [
    {
     "name": "stdout",
     "output_type": "stream",
     "text": [
      "Doubling time: 60.57 minutes\n"
     ]
    }
   ],
   "source": [
    "doubling = round((1.0 / strep_iCdG790_riptide.model.slim_optimize()) * 3200.0, 2)\n",
    "print('Doubling time: ' + str(doubling) + ' minutes')"
   ]
  },
  {
   "cell_type": "code",
   "execution_count": 50,
   "metadata": {},
   "outputs": [],
   "source": [
    "# Write flux sampling to files\n",
    "clinda_iCdG790_riptide.flux_samples.to_csv('/home/mjenior/Desktop/repos/Jenior_Cdifficile_2019/data/flux_sampling/clinda.iCdG790.flux_samples.tsv', sep='\\t')\n",
    "strep_iCdG790_riptide.flux_samples.to_csv('/home/mjenior/Desktop/repos/Jenior_Cdifficile_2019/data/flux_sampling/strep.iCdG790.flux_samples.tsv', sep='\\t')"
   ]
  },
  {
   "cell_type": "markdown",
   "metadata": {},
   "source": [
    "### Context-specific Gene Essentiality"
   ]
  },
  {
   "cell_type": "code",
   "execution_count": 13,
   "metadata": {},
   "outputs": [],
   "source": [
    "import copy\n",
    "from cobra.flux_analysis.variability import find_essential_genes\n",
    "\n",
    "def essential_genes(genre, media=None, optimum_fraction=0.01):\n",
    "    model = copy.deepcopy(genre)\n",
    "    \n",
    "    # Change media conditions if necessary\n",
    "    if media is not None:\n",
    "        exchanges = ['EX_' + x for x in media]\n",
    "        for rxn in model.reactions:\n",
    "            if len(list(rxn.products)) == 0:\n",
    "                if rxn.id in exchanges:\n",
    "                    model.reactions.get_by_id(rxn.id).lower_bound = max([-1000.0,model.reactions.get_by_id(rxn.id).lower_bound])\n",
    "                else:\n",
    "                    model.reactions.get_by_id(rxn.id).lower_bound = 0.0\n",
    "    \n",
    "    # Find essential genes\n",
    "    essential_genes = find_essential_genes(model, threshold=optimum_fraction)\n",
    "    \n",
    "    return essential_genes\n",
    "                "
   ]
  },
  {
   "cell_type": "code",
   "execution_count": 14,
   "metadata": {},
   "outputs": [
    {
     "name": "stdout",
     "output_type": "stream",
     "text": [
      "Uncontextualized essential genes: 40\n"
     ]
    }
   ],
   "source": [
    "# Unconstrained base model\n",
    "base_essential = essential_genes(iCdG790)\n",
    "base_essential_genes = set([x.id for x in base_essential])\n",
    "print('Uncontextualized essential genes: ' + str(len(base_essential_genes)))"
   ]
  },
  {
   "cell_type": "code",
   "execution_count": 15,
   "metadata": {},
   "outputs": [
    {
     "name": "stdout",
     "output_type": "stream",
     "text": [
      "Clinda essential genes: 71\n"
     ]
    }
   ],
   "source": [
    "clinda_essential_genes = essential_genes(clinda_iCdG790_riptide.model)\n",
    "clinda_essential_genes = set([x.id for x in clinda_essential_genes])\n",
    "print('Clinda essential genes: ' + str(len(clinda_essential_genes)))"
   ]
  },
  {
   "cell_type": "code",
   "execution_count": 16,
   "metadata": {},
   "outputs": [
    {
     "name": "stdout",
     "output_type": "stream",
     "text": [
      "Strep essential genes: 70\n"
     ]
    }
   ],
   "source": [
    "strep_essential_genes = essential_genes(strep_iCdG790_riptide.model)\n",
    "strep_essential_genes = set([x.id for x in strep_essential_genes])\n",
    "print('Strep essential genes: ' + str(len(strep_essential_genes)))"
   ]
  },
  {
   "cell_type": "code",
   "execution_count": 17,
   "metadata": {},
   "outputs": [
    {
     "name": "stdout",
     "output_type": "stream",
     "text": [
      "Shared: 66\n",
      "\n",
      "Strep only: 4\n",
      "Clinda only: 5\n"
     ]
    }
   ],
   "source": [
    "shared_essential_genes = strep_essential_genes.intersection(clinda_essential_genes)\n",
    "strep_only_essential_genes = strep_essential_genes.difference(clinda_essential_genes)\n",
    "clinda_only_essential_genes = clinda_essential_genes.difference(strep_essential_genes)\n",
    "\n",
    "print('Shared: ' + str(len(shared_essential_genes)) + '\\n')\n",
    "print('Strep only: ' + str(len(strep_only_essential_genes)))\n",
    "print('Clinda only: ' + str(len(clinda_only_essential_genes)))"
   ]
  },
  {
   "cell_type": "code",
   "execution_count": 18,
   "metadata": {},
   "outputs": [
    {
     "name": "stdout",
     "output_type": "stream",
     "text": [
      "\n",
      "strep only:\n",
      "Adenylate kinase (EC 2.7.4.3)\n",
      "ribokinase (EC 2.7.1.15)\n",
      "D-lactate dehydrogenase (EC 1.1.1.28)\n",
      "alanine transaminase (EC 2.6.1.2)\n",
      "\n",
      "clinda only:\n",
      "Glycerol-3-phosphate ABC transporter, permease protein UgpE (TC 3.A.1.1.3)\n",
      "Glycolate dehydrogenase (EC 1.1.99.14), subunit GlcD\n",
      "Formate dehydrogenase H (EC 1.2.1.2)\n",
      "Threonine dehydratase, catabolic (EC 4.3.1.19)\n",
      "Glycerol-3-phosphate dehydrogenase [NAD(P)+] (EC 1.1.1.94)\n"
     ]
    }
   ],
   "source": [
    "print('\\nstrep only:')\n",
    "for gene in strep_only_essential_genes:\n",
    "    print(strep_iCdG790_riptide.model.genes.get_by_id(gene).name)\n",
    "# CD630_06820 = sodium:solute symporter\n",
    "    \n",
    "print('\\nclinda only:')\n",
    "for gene in clinda_only_essential_genes:\n",
    "    print(clinda_iCdG790_riptide.model.genes.get_by_id(gene).name)"
   ]
  },
  {
   "cell_type": "markdown",
   "metadata": {},
   "source": [
    "### Context-specific Substrate Importance"
   ]
  },
  {
   "cell_type": "code",
   "execution_count": 19,
   "metadata": {},
   "outputs": [],
   "source": [
    "import pandas\n",
    "from cobra.medium import minimal_medium\n",
    "\n",
    "def find_essential_metabolites(model, fraction=0.01):\n",
    "\n",
    "    max_growth = model.slim_optimize() * fraction\n",
    "    ser = minimal_medium(model, max_growth)\n",
    "\n",
    "    rxns = list(ser.index)\n",
    "    fluxes = list(ser.values)\n",
    "    cpds = []\n",
    "    for x in rxns: cpds.append(model.reactions.get_by_id(x).reactants[0].name)        \n",
    "    \n",
    "    media = {'Reaction': rxns, 'Substrate': cpds, 'Units': fluxes}    \n",
    "    media = pandas.DataFrame(media)\n",
    "    print('Minimal media components: ' + str(len(media.index)))\n",
    "    \n",
    "    return(media)\n"
   ]
  },
  {
   "cell_type": "code",
   "execution_count": 20,
   "metadata": {},
   "outputs": [
    {
     "name": "stdout",
     "output_type": "stream",
     "text": [
      "Minimal media components: 44\n"
     ]
    }
   ],
   "source": [
    "clinda_min_media = find_essential_metabolites(clinda_iCdG790_riptide.model)"
   ]
  },
  {
   "cell_type": "code",
   "execution_count": 21,
   "metadata": {},
   "outputs": [
    {
     "name": "stdout",
     "output_type": "stream",
     "text": [
      "Minimal media components: 46\n"
     ]
    }
   ],
   "source": [
    "strep_min_media = find_essential_metabolites(strep_iCdG790_riptide.model)"
   ]
  },
  {
   "cell_type": "code",
   "execution_count": 23,
   "metadata": {},
   "outputs": [
    {
     "name": "stdout",
     "output_type": "stream",
     "text": [
      "Shared: 43\n",
      "\n",
      "Strep only: 3\n",
      "Clinda only: 1\n"
     ]
    }
   ],
   "source": [
    "strep_metabolites = set(strep_min_media['Substrate'])\n",
    "clinda_metabolites = set(clinda_min_media['Substrate'])\n",
    "\n",
    "shared_metabolites = strep_metabolites.intersection(clinda_metabolites)\n",
    "strep_only_metabolites = strep_metabolites.difference(clinda_metabolites)\n",
    "clinda_only_metabolites = clinda_metabolites.difference(strep_metabolites)\n",
    "\n",
    "print('Shared: ' + str(len(shared_metabolites)) + '\\n')\n",
    "print('Strep only: ' + str(len(strep_only_metabolites)))\n",
    "print('Clinda only: ' + str(len(clinda_only_metabolites)))"
   ]
  },
  {
   "cell_type": "code",
   "execution_count": 24,
   "metadata": {},
   "outputs": [
    {
     "name": "stdout",
     "output_type": "stream",
     "text": [
      "\n",
      "strep only:\n",
      "{'D-Lactate', 'Phosphate', 'GLUM'}\n",
      "\n",
      "clinda only:\n",
      "{'Succinate'}\n"
     ]
    }
   ],
   "source": [
    "print('\\nstrep only:')\n",
    "print(strep_only_metabolites)\n",
    "\n",
    "print('\\nclinda only:')\n",
    "print(clinda_only_metabolites)"
   ]
  },
  {
   "cell_type": "markdown",
   "metadata": {},
   "source": [
    "###  Context-specific Topological Differences"
   ]
  },
  {
   "cell_type": "code",
   "execution_count": 25,
   "metadata": {},
   "outputs": [
    {
     "name": "stdout",
     "output_type": "stream",
     "text": [
      "Shared: 262\n",
      "\n",
      "Strep only: 13\n",
      "Clinda only: 14\n"
     ]
    }
   ],
   "source": [
    "# Shared topology - reactions\n",
    "clinda_rxns = set([x.id for x in clinda_iCdG790_riptide.model.reactions])\n",
    "strep_rxns = set([x.id for x in strep_iCdG790_riptide.model.reactions])\n",
    "\n",
    "shared_rxns = strep_rxns.intersection(clinda_rxns)\n",
    "strep_only_rxns = strep_rxns.difference(clinda_rxns)\n",
    "clinda_only_rxns = clinda_rxns.difference(strep_rxns)\n",
    "\n",
    "print('Shared: ' + str(len(shared_rxns)) + '\\n')\n",
    "print('Strep only: ' + str(len(strep_only_rxns)))\n",
    "print('Clinda only: ' + str(len(clinda_only_rxns)))"
   ]
  },
  {
   "cell_type": "code",
   "execution_count": 26,
   "metadata": {},
   "outputs": [
    {
     "name": "stdout",
     "output_type": "stream",
     "text": [
      "\n",
      "strep only:\n",
      "{'EX_cpd00221_e', 'rxn10770_c', 'rxn05313_c', 'rxn12191_c', 'R01174_4_c', 'ID004_c', 'rxn10563_c', 'EX_cpd00489_e', 'rxn01368_c', 'rxn01366_c', 'rxn10171_c', 'rxn00500_c', 'EX_cpd00009_e'}\n",
      "\n",
      "clinda only:\n",
      "{'rxn01359_c', 'rxn05527_c', 'rxn08686_c', 'rxn01301_c', 'rxn00161_c', 'rxn13251_c', 'EX_cpd00001_e', 'rxn00085_c', 'rxn09271_c', 'rxn00799_c', 'rxn01648_c', 'EX_cpd00036_e', 'rxn01302_c', 'EX_cpd00307_e'}\n"
     ]
    }
   ],
   "source": [
    "print('\\nstrep only:')\n",
    "print(strep_only_rxns)\n",
    "\n",
    "print('\\nclinda only:')\n",
    "print(clinda_only_rxns)"
   ]
  },
  {
   "cell_type": "code",
   "execution_count": 28,
   "metadata": {},
   "outputs": [
    {
     "name": "stdout",
     "output_type": "stream",
     "text": [
      "Shared: 268\n",
      "\n",
      "Strep only: 9\n",
      "Clinda only: 11\n"
     ]
    }
   ],
   "source": [
    "# Shared topology - metabolites\n",
    "clinda_cpds = set([x.id for x in clinda_iCdG790_riptide.model.metabolites])\n",
    "strep_cpds = set([x.id for x in strep_iCdG790_riptide.model.metabolites])\n",
    "\n",
    "shared_cpds = strep_cpds.intersection(clinda_cpds)\n",
    "strep_only_cpds = strep_cpds.difference(clinda_cpds)\n",
    "clinda_only_cpds = clinda_cpds.difference(strep_cpds)\n",
    "\n",
    "print('Shared: ' + str(len(shared_cpds)) + '\\n')\n",
    "print('Strep only: ' + str(len(strep_only_cpds)))\n",
    "print('Clinda only: ' + str(len(clinda_only_cpds)))"
   ]
  },
  {
   "cell_type": "code",
   "execution_count": 61,
   "metadata": {},
   "outputs": [
    {
     "name": "stdout",
     "output_type": "stream",
     "text": [
      "Strep only:\n",
      "cpd00009_e\tPhosphate\n",
      "cpd00489_c\t4-Hydroxyphenylacetate\n",
      "cpd00098_c\tCholine\n",
      "cpd00221_c\tD-Lactate\n",
      "cpd00447_c\tBetaine aldehyde\n",
      "cpd00249_c\tUridine\n",
      "cpd00221_e\tD-Lactate\n",
      "cpd03165_c\t4-Hydroxyphenylacetyl-CoA\n",
      "cpd00489_e\t4-Hydroxyphenylacetate\n",
      "\n",
      "Clinda only:\n",
      "cpd00106_c\tFumarate\n",
      "cpd00307_c\tCytosine\n",
      "cpd00282_c\tS-Dihydroorotate\n",
      "cpd00247_c\tOrotate\n",
      "cpd00346_c\tL-Aspartate4-semialdehyde\n",
      "cpd00227_c\tL-Homoserine\n",
      "cpd00036_c\tSuccinate\n",
      "cpd00036_e\tSuccinate\n",
      "cpd00001_e\tH2O\n",
      "cpd00130_c\tL-Malate\n",
      "cpd00307_e\tCytosine\n"
     ]
    }
   ],
   "source": [
    "print('Strep only:')\n",
    "for x in strep_only_cpds:\n",
    "    print(x + '\\t' + strep_iCdG790_riptide.model.metabolites.get_by_id(x).name)\n",
    "\n",
    "print('\\nClinda only:')\n",
    "for y in clinda_only_cpds:\n",
    "    print(y + '\\t' + clinda_iCdG790_riptide.model.metabolites.get_by_id(y).name)"
   ]
  },
  {
   "cell_type": "markdown",
   "metadata": {},
   "source": [
    "### Reaction essentiality"
   ]
  },
  {
   "cell_type": "code",
   "execution_count": 30,
   "metadata": {},
   "outputs": [],
   "source": [
    "import copy\n",
    "from cobra.flux_analysis.variability import find_essential_reactions\n",
    "\n",
    "def essential_reactions(genre, media=None, optimum_fraction=0.01):\n",
    "    model = copy.deepcopy(genre)\n",
    "    \n",
    "    # Change media conditions if necessary\n",
    "    if media is not None:\n",
    "        exchanges = ['EX_' + x for x in media]\n",
    "        for rxn in model.reactions:\n",
    "            if len(list(rxn.products)) == 0:\n",
    "                if rxn.id in exchanges:\n",
    "                    model.reactions.get_by_id(rxn.id).lower_bound = max([-1000.0,model.reactions.get_by_id(rxn.id).lower_bound])\n",
    "                else:\n",
    "                    model.reactions.get_by_id(rxn.id).lower_bound = 0.0\n",
    "    \n",
    "    # Find essential genes\n",
    "    essential_reactions = find_essential_reactions(model, threshold=optimum_fraction)\n",
    "    \n",
    "    return essential_reactions\n",
    "                "
   ]
  },
  {
   "cell_type": "code",
   "execution_count": 31,
   "metadata": {},
   "outputs": [
    {
     "name": "stdout",
     "output_type": "stream",
     "text": [
      "Clinda essential reactions: 229\n"
     ]
    }
   ],
   "source": [
    "clinda_essential_reactions = essential_reactions(clinda_iCdG790_riptide.model)\n",
    "clinda_essential_reactions = set([x.id for x in clinda_essential_reactions])\n",
    "print('Clinda essential reactions: ' + str(len(clinda_essential_reactions)))"
   ]
  },
  {
   "cell_type": "code",
   "execution_count": 32,
   "metadata": {},
   "outputs": [
    {
     "name": "stdout",
     "output_type": "stream",
     "text": [
      "Strep essential reactions: 225\n"
     ]
    }
   ],
   "source": [
    "strep_essential_reactions = essential_reactions(strep_iCdG790_riptide.model)\n",
    "strep_essential_reactions = set([x.id for x in strep_essential_reactions])\n",
    "print('Strep essential reactions: ' + str(len(strep_essential_reactions)))"
   ]
  },
  {
   "cell_type": "code",
   "execution_count": 33,
   "metadata": {},
   "outputs": [
    {
     "name": "stdout",
     "output_type": "stream",
     "text": [
      "Strep only: 11\n",
      "Clinda only: 15\n",
      "Clinda + Strep: 214\n"
     ]
    }
   ],
   "source": [
    "strep_only_essential_reactions = strep_essential_reactions.difference(clinda_essential_reactions)\n",
    "clinda_only_essential_reactions = clinda_essential_reactions.difference(strep_essential_reactions)\n",
    "print('Strep only: ' + str(len(strep_only_essential_reactions)))\n",
    "print('Clinda only: ' + str(len(clinda_only_essential_reactions)))\n",
    "\n",
    "clinda_strep_reactions = clinda_essential_reactions.intersection(strep_essential_reactions)\n",
    "print('Clinda + Strep: ' + str(len(clinda_strep_reactions)))"
   ]
  },
  {
   "cell_type": "code",
   "execution_count": 62,
   "metadata": {},
   "outputs": [
    {
     "name": "stdout",
     "output_type": "stream",
     "text": [
      "Strep only:\n",
      "rxn04043_c\tADP:D-fructose-6-phosphate 1-phosphotransferase\n",
      "rxn00786_c\tD-fructose-1,6-bisphosphate D-glyceraldehyde-3-phosphate-lyase (glycerone-phosphate-forming)\n",
      "EX_cpd00221_e\tD-Lactate exchange\n",
      "rxn00097_c\tATP:AMP phosphotransferase\n",
      "rxn00555_c\tL-glutamine:D-fructose-6-phosphate isomerase (deaminating)\n",
      "rxn01368_c\tCytidine aminohydrolase\n",
      "rxn01366_c\tUridine:phosphate alpha-D-ribosyltransferase\n",
      "rxn10171_c\tD-lactate transport via proton symport\n",
      "EX_cpd00276_e\tGLUM exchange\n",
      "rxn05569_c\tD-glucosamine transport via PEP:Pyr PTS\n",
      "rxn00500_c\t(R)-Lactate:NAD+ oxidoreductase\n",
      "\n",
      "Clinda only:\n",
      "rxn00669_c\tPropanoate-CoA ligase\n",
      "rxn08657_c\tGlycolate oxidase\n",
      "rxn05527_c\tTRANS-RXN-199.ce\n",
      "EX_cpd00141_e\tPropionate exchange\n",
      "rxn10114_c\tformate dehydrogenase (quinone-8: 2 protons)\n",
      "EX_cpd00080_e\tGlycerol-3-phosphate exchange\n",
      "rxn09172_c\tPropionate diffusion\n",
      "rxn04794_c\tpropanoyl-CoA:formate C-propanoyltransferase\n",
      "rxn00611_c\tsn-Glycerol-3-phosphate:NAD+ 2-oxidoreductase\n",
      "rxn01648_c\tCytidine:orthophosphate alpha-D-ribosyltransferase\n",
      "rxn08976_c\tquinone reductase\n",
      "rxn05158_c\tATP phosphohydrolase (glycerol-3-phosphate-importing)\n",
      "rxn08655_c\tGlycolate oxidase\n",
      "rxn00737_c\tL-threonine ammonia-lyase (2-oxobutanoate-forming)\n",
      "EX_cpd00307_e\tCytosine exchange\n"
     ]
    }
   ],
   "source": [
    "print('Strep only:')\n",
    "for x in strep_only_essential_reactions:\n",
    "    print(x + '\\t' + strep_iCdG790_riptide.model.reactions.get_by_id(x).name)\n",
    "    \n",
    "print('\\nClinda only:')\n",
    "for y in clinda_only_essential_reactions:\n",
    "    print(y + '\\t' + clinda_iCdG790_riptide.model.reactions.get_by_id(y).name)"
   ]
  },
  {
   "cell_type": "code",
   "execution_count": null,
   "metadata": {},
   "outputs": [],
   "source": []
  }
 ],
 "metadata": {
  "kernelspec": {
   "display_name": "Python 3",
   "language": "python",
   "name": "python3"
  },
  "language_info": {
   "codemirror_mode": {
    "name": "ipython",
    "version": 3
   },
   "file_extension": ".py",
   "mimetype": "text/x-python",
   "name": "python",
   "nbconvert_exporter": "python",
   "pygments_lexer": "ipython3",
   "version": "3.7.5"
  }
 },
 "nbformat": 4,
 "nbformat_minor": 2
}
