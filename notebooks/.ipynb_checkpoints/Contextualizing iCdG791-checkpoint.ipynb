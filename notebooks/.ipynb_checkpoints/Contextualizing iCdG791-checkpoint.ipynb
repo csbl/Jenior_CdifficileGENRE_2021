{
 "cells": [
  {
   "cell_type": "code",
   "execution_count": 1,
   "metadata": {},
   "outputs": [],
   "source": [
    "from riptide import *"
   ]
  },
  {
   "cell_type": "code",
   "execution_count": 2,
   "metadata": {},
   "outputs": [],
   "source": [
    "iCdG791 = cobra.io.read_sbml_model('/home/mjenior/Desktop/repos/Jenior_Cdifficile_2019/data/reconstructions/iCdG791.sbml')\n",
    "for rxn in iCdG791.reactions:\n",
    "    if 'EX_' in rxn.id:\n",
    "        rxn.bounds = (-1000.,1000.)"
   ]
  },
  {
   "cell_type": "code",
   "execution_count": 3,
   "metadata": {},
   "outputs": [],
   "source": [
    "\n",
    "# Function to calculate doubling time from objective value\n",
    "def doublingTime(model):\n",
    "    with model as m:\n",
    "        if m.slim_optimize(error_value=0.) < 1e-6:\n",
    "            print('GENRE has no objective flux')\n",
    "        else:\n",
    "            growth = (1. / float(m.slim_optimize())) * 3600.\n",
    "            print(str(round(growth, 2)) + ' minutes doubling time')\n",
    "\n",
    "\n",
    "# Identifies blocked reactions, 1% cutoff for fraction of optimum\n",
    "def blockedReactions(model):\n",
    "    \n",
    "    with model as m:\n",
    "        blocked = cobra.flux_analysis.variability.find_blocked_reactions(m)\n",
    "        nogene_blocked = []\n",
    "        for rxn in blocked:\n",
    "            if m.reactions.get_by_id(rxn).gene_reaction_rule == '':\n",
    "                nogene_blocked.append(rxn)\n",
    "\n",
    "    print(str(len(blocked)) + ' total reactions are blocked')\n",
    "    print(str(len(nogene_blocked)) + ' reactions without GPRs are blocked')\n",
    "    \n",
    "    return blocked\n",
    "\n",
    "\n",
    "# Identify potentially gapfilled reactions\n",
    "def missingGPR(model, exclude=['biomass']):\n",
    "    \n",
    "    noGene = []        \n",
    "    for rxn in model.reactions:\n",
    "        if len(list(rxn.genes)) == 0:\n",
    "            if rxn.id not in exclude:\n",
    "                if len(list(rxn.reactants)) == 0 or len(list(rxn.products)) == 0:\n",
    "                    continue\n",
    "                else:\n",
    "                    noGene.append(rxn.id)\n",
    "                    \n",
    "    print(str(len(noGene)) + ' non-exchange reactions without genes')\n",
    "    \n",
    "    return noGene\n",
    "\n",
    "\n",
    "# Checks which cytosolic metabolites are generated for free (bacteria only)\n",
    "def checkFreeMass(model):\n",
    "\n",
    "    with model as m:\n",
    "        # Close all exchanges\n",
    "        for rxn in m.reactions:\n",
    "            if len(list(rxn.reactants)) == 0:\n",
    "                m.reactions.get_by_id(rxn.id).lower_bound = 0.\n",
    "            elif len(list(rxn.products)) == 0:\n",
    "                m.reactions.get_by_id(rxn.id).upper_bound = 0.\n",
    "        \n",
    "        free = []\n",
    "        reset = m.reactions[0]\n",
    "        for index in m.metabolites: \n",
    "            demand = m.add_boundary(index, type='demand')\n",
    "            m.objective = demand\n",
    "            obj_val = m.slim_optimize(error_value=0.)\n",
    "            if obj_val > 1e-6: free.append(index.id)\n",
    "            m.objective = reset\n",
    "            m.reactions.get_by_id(demand.id).remove_from_model(remove_orphans=True)\n",
    "    \n",
    "    print(str(len(free)) + ' metabolites are generated for free')\n",
    "\n",
    "    return free\n",
    "\n",
    "\n",
    "# Check for mass and charge balance in reactions\n",
    "def checkBalance(model, exclude=['biomass']):\n",
    "    \n",
    "    with model as m:\n",
    "\n",
    "        elements = set()\n",
    "        for cpd in m.metabolites:\n",
    "            try:\n",
    "                elements |= set(cpd.elements.keys())\n",
    "            except:\n",
    "                pass\n",
    "        \n",
    "        massImbal = []\n",
    "        chargeImbal = [] \n",
    "        if len(elements) == 0:\n",
    "            print('No elemental data associated with metabolites!')\n",
    "        else:\n",
    "            for rxn in m.reactions:\n",
    "                if rxn in m.boundary or rxn.id in exclude: continue\n",
    "                try:\n",
    "                    test = rxn.check_mass_balance()\n",
    "                except ValueError:\n",
    "                    continue\n",
    "\n",
    "                if len(list(test)) > 0:\n",
    "                    if len(set(test.keys()).intersection(elements)) > 0: massImbal.append(rxn.id)\n",
    "                    if 'charge' in test.keys(): chargeImbal.append(rxn.id)\n",
    "\n",
    "    print(str(massImbal) + ' reactions are mass imbalanced')\n",
    "    print(str(chargeImbal) + ' reactions are charge imbalanced')\n",
    "    \n",
    "    return massImbal, chargeImbal\n",
    "\n",
    "\n",
    "def basicCheck(model):\n",
    "    \n",
    "    # Determination\n",
    "    if len(model.reactions) < len(model.metabolites): \n",
    "        print('GENRE is overdetermined')\n",
    "    elif len(model.reactions) > len(model.metabolites):\n",
    "        print('GENRE is underdetermined')\n",
    "    else:\n",
    "        pass\n",
    "    \n",
    "    # Compartments\n",
    "    print('GENRE has ' + str(len(model.compartments.keys())) + ' compartments')\n",
    "    \n",
    "    # Genes\n",
    "    if len(model.genes) == 0: print('GENRE has no gene data')\n",
    "          \n",
    "    # Growth\n",
    "    doublingTime(model)\n"
   ]
  },
  {
   "cell_type": "code",
   "execution_count": 4,
   "metadata": {},
   "outputs": [
    {
     "name": "stdout",
     "output_type": "stream",
     "text": [
      "GENRE is overdetermined\n",
      "GENRE has 2 compartments\n",
      "40.1 minutes doubling time\n"
     ]
    }
   ],
   "source": [
    "basicCheck(iCdG791)"
   ]
  },
  {
   "cell_type": "code",
   "execution_count": 5,
   "metadata": {},
   "outputs": [
    {
     "name": "stdout",
     "output_type": "stream",
     "text": [
      "137 metabolites are generated for free\n"
     ]
    }
   ],
   "source": [
    "iCdG791_free = checkFreeMass(iCdG791)"
   ]
  },
  {
   "cell_type": "code",
   "execution_count": 6,
   "metadata": {},
   "outputs": [
    {
     "name": "stdout",
     "output_type": "stream",
     "text": [
      "477 total reactions are blocked\n",
      "60 reactions without GPRs are blocked\n"
     ]
    }
   ],
   "source": [
    "iCdG791_blocked = blockedReactions(iCdG791)"
   ]
  },
  {
   "cell_type": "code",
   "execution_count": 7,
   "metadata": {},
   "outputs": [
    {
     "name": "stdout",
     "output_type": "stream",
     "text": [
      "['dna_rxn', 'rna_rxn', 'protein_rxn', 'teichoicacid_rxn', 'peptidoglycan_rxn', 'lipid_rxn', 'cofactor_rxn'] reactions are mass imbalanced\n",
      "['rxn05404_c', 'rxn05459_c', 'rxn05453_c', 'rxn05350_c', 'rxn05358_c', 'rxn05408_c', 'rxn05458_c', 'rxn05359_c', 'rxn05429_c', 'rxn05452_c', 'rxn06023_c', 'rxn05409_c', 'rxn05451_c', 'rxn05460_c', 'rxn05455_c', 'rxn05379_c', 'rxn05454_c', 'rxn08808_c', 'rxn05384_c', 'rxn05456_c', 'rxn05383_c', 'R03018_c', 'rxn08168_c', 'rxn29571_c', 'rxn32054_c', 'rxn34357_c', 'rxn14152_c', 'rxn10618_c', 'R01174_2_c', 'ID002_c', 'rxn10563_c', 'R01174_4_c', 'rxn10562_c', 'R01174_5_c', 'K20025_c', 'R11076_c', 'R06782_c', 'rxn07124_c', 'rxn09271_c', 'rxn25164_c', 'ID009_c', 'rxn08061_c', 'rxn05602_c', 'rxn10171_c', 'rxn09172_c', 'dna_rxn', 'rna_rxn', 'protein_rxn', 'teichoicacid_rxn', 'peptidoglycan_rxn', 'lipid_rxn', 'cofactor_rxn', 'rxn05466_c', 'rxn10826_c', 'rxn10421_c', 'rxn13251_c', 'rxn05957_c', 'rxn00285_c', 'rxn03665_c', 'rxn01895_c', 'R11462_c'] reactions are charge imbalanced\n"
     ]
    }
   ],
   "source": [
    "iCdG791_massImbal, iCdG791_chargeImbal = checkBalance(iCdG791, exclude=['biomass'])"
   ]
  },
  {
   "cell_type": "code",
   "execution_count": 8,
   "metadata": {},
   "outputs": [
    {
     "name": "stdout",
     "output_type": "stream",
     "text": [
      "213 non-exchange reactions without genes\n"
     ]
    }
   ],
   "source": [
    "iCdG791_nogene = missingGPR(iCdG791, exclude=['biomass'])"
   ]
  },
  {
   "cell_type": "code",
   "execution_count": null,
   "metadata": {},
   "outputs": [],
   "source": []
  },
  {
   "cell_type": "code",
   "execution_count": null,
   "metadata": {},
   "outputs": [],
   "source": []
  },
  {
   "cell_type": "code",
   "execution_count": null,
   "metadata": {},
   "outputs": [],
   "source": []
  },
  {
   "cell_type": "markdown",
   "metadata": {},
   "source": [
    "### Base Model Statistics"
   ]
  },
  {
   "cell_type": "code",
   "execution_count": 3,
   "metadata": {},
   "outputs": [
    {
     "data": {
      "text/html": [
       "\n",
       "        <table>\n",
       "            <tr>\n",
       "                <td><strong>Name</strong></td>\n",
       "                <td>iCdG790</td>\n",
       "            </tr><tr>\n",
       "                <td><strong>Memory address</strong></td>\n",
       "                <td>0x07f53371a8c90</td>\n",
       "            </tr><tr>\n",
       "                <td><strong>Number of metabolites</strong></td>\n",
       "                <td>1132</td>\n",
       "            </tr><tr>\n",
       "                <td><strong>Number of reactions</strong></td>\n",
       "                <td>1129</td>\n",
       "            </tr><tr>\n",
       "                <td><strong>Number of groups</strong></td>\n",
       "                <td>0</td>\n",
       "            </tr><tr>\n",
       "                <td><strong>Objective expression</strong></td>\n",
       "                <td>1.0*biomass - 1.0*biomass_reverse_01e59</td>\n",
       "            </tr><tr>\n",
       "                <td><strong>Compartments</strong></td>\n",
       "                <td>cytosol, extracellular</td>\n",
       "            </tr>\n",
       "          </table>"
      ],
      "text/plain": [
       "<Model iCdG790 at 0x7f53371a8c90>"
      ]
     },
     "execution_count": 3,
     "metadata": {},
     "output_type": "execute_result"
    }
   ],
   "source": [
    "iCdG791"
   ]
  },
  {
   "cell_type": "code",
   "execution_count": 3,
   "metadata": {},
   "outputs": [
    {
     "name": "stdout",
     "output_type": "stream",
     "text": [
      "4.411660777385159\n"
     ]
    }
   ],
   "source": [
    "x = 0\n",
    "for cpd in iCdG791.metabolites:\n",
    "    x += len(cpd.reactions)\n",
    "print(float(x)/float(len(iCdG791.metabolites))) \n",
    "    "
   ]
  },
  {
   "cell_type": "code",
   "execution_count": 3,
   "metadata": {},
   "outputs": [
    {
     "data": {
      "text/plain": [
       "790"
      ]
     },
     "execution_count": 3,
     "metadata": {},
     "output_type": "execute_result"
    }
   ],
   "source": [
    "len(iCdG791.genes)"
   ]
  },
  {
   "cell_type": "code",
   "execution_count": null,
   "metadata": {},
   "outputs": [],
   "source": []
  },
  {
   "cell_type": "code",
   "execution_count": 4,
   "metadata": {},
   "outputs": [
    {
     "name": "stdout",
     "output_type": "stream",
     "text": [
      "Objective value: 65.432\n"
     ]
    }
   ],
   "source": [
    "base_obj_val = str(round(iCdG791.slim_optimize(),3))\n",
    "print('Objective value: ' + base_obj_val)"
   ]
  },
  {
   "cell_type": "code",
   "execution_count": 5,
   "metadata": {},
   "outputs": [
    {
     "name": "stdout",
     "output_type": "stream",
     "text": [
      "Genes: 790\n",
      "Exchanges: 99\n",
      "Transporters: 104\n",
      "Metabolic reactions: 926\n"
     ]
    }
   ],
   "source": [
    "# Report some additional stats\n",
    "exch = 0\n",
    "for rxn in iCdG791.reactions:\n",
    "    if len(list(rxn.products)) == 0:\n",
    "        exch += 1\n",
    "trans = 0\n",
    "for rxn in iCdG791.reactions:\n",
    "    comps = set([x.compartment for x in list(rxn.reactants)] + [x.compartment for x in list(rxn.products)])\n",
    "    if len(comps) > 1:\n",
    "        trans += 1\n",
    "metab = len(list(iCdG791.reactions)) - exch - trans\n",
    "\n",
    "print('Genes: ' + str(len(list(iCdG791.genes))))\n",
    "print('Exchanges: ' + str(exch))\n",
    "print('Transporters: ' + str(trans))\n",
    "print('Metabolic reactions: ' + str(metab))"
   ]
  },
  {
   "cell_type": "code",
   "execution_count": 11,
   "metadata": {},
   "outputs": [
    {
     "name": "stdout",
     "output_type": "stream",
     "text": [
      "Doubling time: 48.91 minutes\n"
     ]
    }
   ],
   "source": [
    "doubling = round((1.0 / iCdG791.slim_optimize()) * 3200.0, 2)\n",
    "print('Doubling time: ' + str(doubling) + ' minutes')"
   ]
  },
  {
   "cell_type": "markdown",
   "metadata": {},
   "source": [
    "### RIPTiDe *in vivo* Contextualization"
   ]
  },
  {
   "cell_type": "code",
   "execution_count": 3,
   "metadata": {},
   "outputs": [],
   "source": [
    "# Read in in vivo C. difficile transcription\n",
    "clindamycin = riptide.read_transcription_file('/home/mjenior/Desktop/repos/Jenior_Cdifficile_2019/data/transcript/clindamycin.format.tsv', \n",
    "                                              header=True)\n",
    "streptomycin = riptide.read_transcription_file('/home/mjenior/Desktop/repos/Jenior_Cdifficile_2019/data/transcript/streptomycin.format.tsv', \n",
    "                                               header=True)\n",
    "cefoperazone = riptide.read_transcription_file('/home/mjenior/Desktop/repos/Jenior_Cdifficile_2019/data/transcript/cefoperazone.format.tsv', \n",
    "                                               header=True)\n",
    "gnotobiotic = riptide.read_transcription_file('/home/mjenior/Desktop/repos/Jenior_Cdifficile_2019/data/transcript/gnotobiotic.format.tsv', \n",
    "                                               header=True)"
   ]
  },
  {
   "cell_type": "code",
   "execution_count": 4,
   "metadata": {},
   "outputs": [
    {
     "name": "stdout",
     "output_type": "stream",
     "text": [
      "\n",
      "Initializing model and integrating transcriptomic data...\n",
      "Pruning zero flux subnetworks...\n",
      "Analyzing context-specific flux distributions...\n",
      "\n",
      "Reactions pruned to 283 from 1129 (74.93% change)\n",
      "Metabolites pruned to 283 from 1132 (75.0% change)\n",
      "Flux through the objective DECREASED to ~73.24 from ~89.77 (18.41% change)\n",
      "Context-specific metabolism correlates with transcriptome (r=0.238, p<0.001 *)\n",
      "\n",
      "RIPTiDe completed in 26 seconds\n",
      "\n"
     ]
    }
   ],
   "source": [
    "clinda_iCdG791_riptide = riptide.contextualize(model=iCdG791, transcriptome=clindamycin, set_bounds=False)"
   ]
  },
  {
   "cell_type": "code",
   "execution_count": 5,
   "metadata": {},
   "outputs": [
    {
     "name": "stdout",
     "output_type": "stream",
     "text": [
      "Doubling time: 43.69 minutes\n"
     ]
    }
   ],
   "source": [
    "doubling = round((1.0 / clinda_iCdG791_riptide.model.slim_optimize()) * 3200.0, 2)\n",
    "print('Doubling time: ' + str(doubling) + ' minutes')"
   ]
  },
  {
   "cell_type": "code",
   "execution_count": 6,
   "metadata": {},
   "outputs": [
    {
     "name": "stdout",
     "output_type": "stream",
     "text": [
      "\n",
      "Initializing model and integrating transcriptomic data...\n",
      "Pruning zero flux subnetworks...\n",
      "Analyzing context-specific flux distributions...\n",
      "\n",
      "Reactions pruned to 288 from 1129 (74.49% change)\n",
      "Metabolites pruned to 287 from 1132 (74.65% change)\n",
      "Flux through the objective DECREASED to ~72.82 from ~89.77 (18.88% change)\n",
      "Context-specific metabolism correlates with transcriptome (r=0.189, p=0.001 *)\n",
      "\n",
      "RIPTiDe completed in 23 seconds\n",
      "\n"
     ]
    }
   ],
   "source": [
    "strep_iCdG791_riptide = riptide.contextualize(model=iCdG791, transcriptome=streptomycin, set_bounds=False)"
   ]
  },
  {
   "cell_type": "code",
   "execution_count": 7,
   "metadata": {},
   "outputs": [
    {
     "name": "stdout",
     "output_type": "stream",
     "text": [
      "Doubling time: 43.94 minutes\n"
     ]
    }
   ],
   "source": [
    "doubling = round((1.0 / strep_iCdG791_riptide.model.slim_optimize()) * 3200.0, 2)\n",
    "print('Doubling time: ' + str(doubling) + ' minutes')"
   ]
  },
  {
   "cell_type": "code",
   "execution_count": 8,
   "metadata": {},
   "outputs": [
    {
     "name": "stdout",
     "output_type": "stream",
     "text": [
      "\n",
      "Initializing model and integrating transcriptomic data...\n",
      "Pruning zero flux subnetworks...\n",
      "Analyzing context-specific flux distributions...\n",
      "\n",
      "Reactions pruned to 288 from 1129 (74.49% change)\n",
      "Metabolites pruned to 287 from 1132 (74.65% change)\n",
      "Flux through the objective DECREASED to ~74.22 from ~89.77 (17.32% change)\n",
      "Context-specific metabolism correlates with transcriptome (r=0.203, p=0.001 *)\n",
      "\n",
      "RIPTiDe completed in 25 seconds\n",
      "\n"
     ]
    }
   ],
   "source": [
    "cef_iCdG791_riptide = riptide.contextualize(model=iCdG791, transcriptome=cefoperazone, set_bounds=False)"
   ]
  },
  {
   "cell_type": "code",
   "execution_count": 9,
   "metadata": {},
   "outputs": [
    {
     "name": "stdout",
     "output_type": "stream",
     "text": [
      "Doubling time: 43.11 minutes\n"
     ]
    }
   ],
   "source": [
    "doubling = round((1.0 / cef_iCdG791_riptide.model.slim_optimize()) * 3200.0, 2)\n",
    "print('Doubling time: ' + str(doubling) + ' minutes')"
   ]
  },
  {
   "cell_type": "code",
   "execution_count": 10,
   "metadata": {},
   "outputs": [
    {
     "name": "stdout",
     "output_type": "stream",
     "text": [
      "\n",
      "Initializing model and integrating transcriptomic data...\n",
      "Pruning zero flux subnetworks...\n",
      "Analyzing context-specific flux distributions...\n",
      "\n",
      "Reactions pruned to 299 from 1129 (73.52% change)\n",
      "Metabolites pruned to 295 from 1132 (73.94% change)\n",
      "Flux through the objective DECREASED to ~75.27 from ~89.77 (16.15% change)\n",
      "Context-specific metabolism does not correlate with transcriptome (r=0.056, n.s.)\n",
      "\n",
      "RIPTiDe completed in 28 seconds\n",
      "\n"
     ]
    }
   ],
   "source": [
    "gf_iCdG791_riptide = riptide.contextualize(model=iCdG791, transcriptome=gnotobiotic, set_bounds=False)"
   ]
  },
  {
   "cell_type": "code",
   "execution_count": 11,
   "metadata": {},
   "outputs": [
    {
     "name": "stdout",
     "output_type": "stream",
     "text": [
      "Doubling time: 42.51 minutes\n"
     ]
    }
   ],
   "source": [
    "doubling = round((1.0 / gf_iCdG791_riptide.model.slim_optimize()) * 3200.0, 2)\n",
    "print('Doubling time: ' + str(doubling) + ' minutes')"
   ]
  },
  {
   "cell_type": "code",
   "execution_count": 12,
   "metadata": {},
   "outputs": [
    {
     "name": "stdout",
     "output_type": "stream",
     "text": [
      "WARNING: Output path already exists, overwriting previous files\n",
      "WARNING: Output path already exists, overwriting previous files\n",
      "WARNING: Output path already exists, overwriting previous files\n",
      "WARNING: Output path already exists, overwriting previous files\n"
     ]
    }
   ],
   "source": [
    "# Write results to files\n",
    "riptide.save_riptide_output(riptide_obj=clinda_iCdG791_riptide, path='/home/mjenior/Desktop/repos/Jenior_Cdifficile_2019/data/contextualized_iCdG791/riptide_clinda')\n",
    "riptide.save_riptide_output(riptide_obj=strep_iCdG791_riptide, path='/home/mjenior/Desktop/repos/Jenior_Cdifficile_2019/data/contextualized_iCdG791/riptide_strep')\n",
    "riptide.save_riptide_output(riptide_obj=cef_iCdG791_riptide, path='/home/mjenior/Desktop/repos/Jenior_Cdifficile_2019/data/contextualized_iCdG791/riptide_cef')\n",
    "riptide.save_riptide_output(riptide_obj=gf_iCdG791_riptide, path='/home/mjenior/Desktop/repos/Jenior_Cdifficile_2019/data/contextualized_iCdG791/riptide_gnoto')\n"
   ]
  },
  {
   "cell_type": "markdown",
   "metadata": {},
   "source": [
    "### Context-specific Gene Essentiality"
   ]
  },
  {
   "cell_type": "code",
   "execution_count": 13,
   "metadata": {},
   "outputs": [],
   "source": [
    "import copy\n",
    "from cobra.flux_analysis.variability import find_essential_genes\n",
    "\n",
    "def essential_genes(genre, media=None, optimum_fraction=0.01):\n",
    "    model = copy.deepcopy(genre)\n",
    "    \n",
    "    # Change media conditions if necessary\n",
    "    if media is not None:\n",
    "        exchanges = ['EX_' + x for x in media]\n",
    "        for rxn in model.reactions:\n",
    "            if len(list(rxn.products)) == 0:\n",
    "                if rxn.id in exchanges:\n",
    "                    model.reactions.get_by_id(rxn.id).lower_bound = max([-1000.0,model.reactions.get_by_id(rxn.id).lower_bound])\n",
    "                else:\n",
    "                    model.reactions.get_by_id(rxn.id).lower_bound = 0.0\n",
    "    \n",
    "    # Find essential genes\n",
    "    essential_genes = find_essential_genes(model, threshold=optimum_fraction)\n",
    "    \n",
    "    return essential_genes\n",
    "                "
   ]
  },
  {
   "cell_type": "code",
   "execution_count": 14,
   "metadata": {},
   "outputs": [
    {
     "name": "stdout",
     "output_type": "stream",
     "text": [
      "Uncontextualized essential genes: 40\n"
     ]
    }
   ],
   "source": [
    "# Unconstrained base model\n",
    "base_essential = essential_genes(iCdG791)\n",
    "base_essential_genes = set([x.id for x in base_essential])\n",
    "print('Uncontextualized essential genes: ' + str(len(base_essential_genes)))"
   ]
  },
  {
   "cell_type": "code",
   "execution_count": 15,
   "metadata": {},
   "outputs": [
    {
     "name": "stdout",
     "output_type": "stream",
     "text": [
      "Clinda essential genes: 71\n"
     ]
    }
   ],
   "source": [
    "clinda_essential_genes = essential_genes(clinda_iCdG791_riptide.model)\n",
    "clinda_essential_genes = set([x.id for x in clinda_essential_genes])\n",
    "print('Clinda essential genes: ' + str(len(clinda_essential_genes)))"
   ]
  },
  {
   "cell_type": "code",
   "execution_count": 16,
   "metadata": {},
   "outputs": [
    {
     "name": "stdout",
     "output_type": "stream",
     "text": [
      "Strep essential genes: 70\n"
     ]
    }
   ],
   "source": [
    "strep_essential_genes = essential_genes(strep_iCdG791_riptide.model)\n",
    "strep_essential_genes = set([x.id for x in strep_essential_genes])\n",
    "print('Strep essential genes: ' + str(len(strep_essential_genes)))"
   ]
  },
  {
   "cell_type": "code",
   "execution_count": 17,
   "metadata": {},
   "outputs": [
    {
     "name": "stdout",
     "output_type": "stream",
     "text": [
      "Shared: 66\n",
      "\n",
      "Strep only: 4\n",
      "Clinda only: 5\n"
     ]
    }
   ],
   "source": [
    "shared_essential_genes = strep_essential_genes.intersection(clinda_essential_genes)\n",
    "strep_only_essential_genes = strep_essential_genes.difference(clinda_essential_genes)\n",
    "clinda_only_essential_genes = clinda_essential_genes.difference(strep_essential_genes)\n",
    "\n",
    "print('Shared: ' + str(len(shared_essential_genes)) + '\\n')\n",
    "print('Strep only: ' + str(len(strep_only_essential_genes)))\n",
    "print('Clinda only: ' + str(len(clinda_only_essential_genes)))"
   ]
  },
  {
   "cell_type": "code",
   "execution_count": 18,
   "metadata": {},
   "outputs": [
    {
     "name": "stdout",
     "output_type": "stream",
     "text": [
      "\n",
      "strep only:\n",
      "Adenylate kinase (EC 2.7.4.3)\n",
      "ribokinase (EC 2.7.1.15)\n",
      "D-lactate dehydrogenase (EC 1.1.1.28)\n",
      "alanine transaminase (EC 2.6.1.2)\n",
      "\n",
      "clinda only:\n",
      "Glycerol-3-phosphate ABC transporter, permease protein UgpE (TC 3.A.1.1.3)\n",
      "Glycolate dehydrogenase (EC 1.1.99.14), subunit GlcD\n",
      "Formate dehydrogenase H (EC 1.2.1.2)\n",
      "Threonine dehydratase, catabolic (EC 4.3.1.19)\n",
      "Glycerol-3-phosphate dehydrogenase [NAD(P)+] (EC 1.1.1.94)\n"
     ]
    }
   ],
   "source": [
    "print('\\nstrep only:')\n",
    "for gene in strep_only_essential_genes:\n",
    "    print(strep_iCdG791_riptide.model.genes.get_by_id(gene).name)\n",
    "# CD630_06820 = sodium:solute symporter\n",
    "    \n",
    "print('\\nclinda only:')\n",
    "for gene in clinda_only_essential_genes:\n",
    "    print(clinda_iCdG791_riptide.model.genes.get_by_id(gene).name)"
   ]
  },
  {
   "cell_type": "markdown",
   "metadata": {},
   "source": [
    "### Context-specific Substrate Importance"
   ]
  },
  {
   "cell_type": "code",
   "execution_count": 19,
   "metadata": {},
   "outputs": [],
   "source": [
    "import pandas\n",
    "from cobra.medium import minimal_medium\n",
    "\n",
    "def find_essential_metabolites(model, fraction=0.01):\n",
    "\n",
    "    max_growth = model.slim_optimize() * fraction\n",
    "    ser = minimal_medium(model, max_growth)\n",
    "\n",
    "    rxns = list(ser.index)\n",
    "    fluxes = list(ser.values)\n",
    "    cpds = []\n",
    "    for x in rxns: cpds.append(model.reactions.get_by_id(x).reactants[0].name)        \n",
    "    \n",
    "    media = {'Reaction': rxns, 'Substrate': cpds, 'Units': fluxes}    \n",
    "    media = pandas.DataFrame(media)\n",
    "    print('Minimal media components: ' + str(len(media.index)))\n",
    "    \n",
    "    return(media)\n"
   ]
  },
  {
   "cell_type": "code",
   "execution_count": 20,
   "metadata": {},
   "outputs": [
    {
     "name": "stdout",
     "output_type": "stream",
     "text": [
      "Minimal media components: 44\n"
     ]
    }
   ],
   "source": [
    "clinda_min_media = find_essential_metabolites(clinda_iCdG791_riptide.model)"
   ]
  },
  {
   "cell_type": "code",
   "execution_count": 21,
   "metadata": {},
   "outputs": [
    {
     "name": "stdout",
     "output_type": "stream",
     "text": [
      "Minimal media components: 46\n"
     ]
    }
   ],
   "source": [
    "strep_min_media = find_essential_metabolites(strep_iCdG791_riptide.model)"
   ]
  },
  {
   "cell_type": "code",
   "execution_count": 23,
   "metadata": {},
   "outputs": [
    {
     "name": "stdout",
     "output_type": "stream",
     "text": [
      "Shared: 43\n",
      "\n",
      "Strep only: 3\n",
      "Clinda only: 1\n"
     ]
    }
   ],
   "source": [
    "strep_metabolites = set(strep_min_media['Substrate'])\n",
    "clinda_metabolites = set(clinda_min_media['Substrate'])\n",
    "\n",
    "shared_metabolites = strep_metabolites.intersection(clinda_metabolites)\n",
    "strep_only_metabolites = strep_metabolites.difference(clinda_metabolites)\n",
    "clinda_only_metabolites = clinda_metabolites.difference(strep_metabolites)\n",
    "\n",
    "print('Shared: ' + str(len(shared_metabolites)) + '\\n')\n",
    "print('Strep only: ' + str(len(strep_only_metabolites)))\n",
    "print('Clinda only: ' + str(len(clinda_only_metabolites)))"
   ]
  },
  {
   "cell_type": "code",
   "execution_count": 24,
   "metadata": {},
   "outputs": [
    {
     "name": "stdout",
     "output_type": "stream",
     "text": [
      "\n",
      "strep only:\n",
      "{'D-Lactate', 'Phosphate', 'GLUM'}\n",
      "\n",
      "clinda only:\n",
      "{'Succinate'}\n"
     ]
    }
   ],
   "source": [
    "print('\\nstrep only:')\n",
    "print(strep_only_metabolites)\n",
    "\n",
    "print('\\nclinda only:')\n",
    "print(clinda_only_metabolites)"
   ]
  },
  {
   "cell_type": "markdown",
   "metadata": {},
   "source": [
    "###  Context-specific Topological Differences"
   ]
  },
  {
   "cell_type": "code",
   "execution_count": 25,
   "metadata": {},
   "outputs": [
    {
     "name": "stdout",
     "output_type": "stream",
     "text": [
      "Shared: 262\n",
      "\n",
      "Strep only: 13\n",
      "Clinda only: 14\n"
     ]
    }
   ],
   "source": [
    "# Shared topology - reactions\n",
    "clinda_rxns = set([x.id for x in clinda_iCdG791_riptide.model.reactions])\n",
    "strep_rxns = set([x.id for x in strep_iCdG791_riptide.model.reactions])\n",
    "\n",
    "shared_rxns = strep_rxns.intersection(clinda_rxns)\n",
    "strep_only_rxns = strep_rxns.difference(clinda_rxns)\n",
    "clinda_only_rxns = clinda_rxns.difference(strep_rxns)\n",
    "\n",
    "print('Shared: ' + str(len(shared_rxns)) + '\\n')\n",
    "print('Strep only: ' + str(len(strep_only_rxns)))\n",
    "print('Clinda only: ' + str(len(clinda_only_rxns)))"
   ]
  },
  {
   "cell_type": "code",
   "execution_count": 26,
   "metadata": {},
   "outputs": [
    {
     "name": "stdout",
     "output_type": "stream",
     "text": [
      "\n",
      "strep only:\n",
      "{'EX_cpd00221_e', 'rxn10770_c', 'rxn05313_c', 'rxn12191_c', 'R01174_4_c', 'ID004_c', 'rxn10563_c', 'EX_cpd00489_e', 'rxn01368_c', 'rxn01366_c', 'rxn10171_c', 'rxn00500_c', 'EX_cpd00009_e'}\n",
      "\n",
      "clinda only:\n",
      "{'rxn01359_c', 'rxn05527_c', 'rxn08686_c', 'rxn01301_c', 'rxn00161_c', 'rxn13251_c', 'EX_cpd00001_e', 'rxn00085_c', 'rxn09271_c', 'rxn00799_c', 'rxn01648_c', 'EX_cpd00036_e', 'rxn01302_c', 'EX_cpd00307_e'}\n"
     ]
    }
   ],
   "source": [
    "print('\\nstrep only:')\n",
    "print(strep_only_rxns)\n",
    "\n",
    "print('\\nclinda only:')\n",
    "print(clinda_only_rxns)"
   ]
  },
  {
   "cell_type": "code",
   "execution_count": 28,
   "metadata": {},
   "outputs": [
    {
     "name": "stdout",
     "output_type": "stream",
     "text": [
      "Shared: 268\n",
      "\n",
      "Strep only: 9\n",
      "Clinda only: 11\n"
     ]
    }
   ],
   "source": [
    "# Shared topology - metabolites\n",
    "clinda_cpds = set([x.id for x in clinda_iCdG791_riptide.model.metabolites])\n",
    "strep_cpds = set([x.id for x in strep_iCdG791_riptide.model.metabolites])\n",
    "\n",
    "shared_cpds = strep_cpds.intersection(clinda_cpds)\n",
    "strep_only_cpds = strep_cpds.difference(clinda_cpds)\n",
    "clinda_only_cpds = clinda_cpds.difference(strep_cpds)\n",
    "\n",
    "print('Shared: ' + str(len(shared_cpds)) + '\\n')\n",
    "print('Strep only: ' + str(len(strep_only_cpds)))\n",
    "print('Clinda only: ' + str(len(clinda_only_cpds)))"
   ]
  },
  {
   "cell_type": "code",
   "execution_count": 61,
   "metadata": {},
   "outputs": [
    {
     "name": "stdout",
     "output_type": "stream",
     "text": [
      "Strep only:\n",
      "cpd00009_e\tPhosphate\n",
      "cpd00489_c\t4-Hydroxyphenylacetate\n",
      "cpd00098_c\tCholine\n",
      "cpd00221_c\tD-Lactate\n",
      "cpd00447_c\tBetaine aldehyde\n",
      "cpd00249_c\tUridine\n",
      "cpd00221_e\tD-Lactate\n",
      "cpd03165_c\t4-Hydroxyphenylacetyl-CoA\n",
      "cpd00489_e\t4-Hydroxyphenylacetate\n",
      "\n",
      "Clinda only:\n",
      "cpd00106_c\tFumarate\n",
      "cpd00307_c\tCytosine\n",
      "cpd00282_c\tS-Dihydroorotate\n",
      "cpd00247_c\tOrotate\n",
      "cpd00346_c\tL-Aspartate4-semialdehyde\n",
      "cpd00227_c\tL-Homoserine\n",
      "cpd00036_c\tSuccinate\n",
      "cpd00036_e\tSuccinate\n",
      "cpd00001_e\tH2O\n",
      "cpd00130_c\tL-Malate\n",
      "cpd00307_e\tCytosine\n"
     ]
    }
   ],
   "source": [
    "print('Strep only:')\n",
    "for x in strep_only_cpds:\n",
    "    print(x + '\\t' + strep_iCdG791_riptide.model.metabolites.get_by_id(x).name)\n",
    "\n",
    "print('\\nClinda only:')\n",
    "for y in clinda_only_cpds:\n",
    "    print(y + '\\t' + clinda_iCdG791_riptide.model.metabolites.get_by_id(y).name)"
   ]
  },
  {
   "cell_type": "markdown",
   "metadata": {},
   "source": [
    "### Reaction essentiality"
   ]
  },
  {
   "cell_type": "code",
   "execution_count": 30,
   "metadata": {},
   "outputs": [],
   "source": [
    "import copy\n",
    "from cobra.flux_analysis.variability import find_essential_reactions\n",
    "\n",
    "def essential_reactions(genre, media=None, optimum_fraction=0.01):\n",
    "    model = copy.deepcopy(genre)\n",
    "    \n",
    "    # Change media conditions if necessary\n",
    "    if media is not None:\n",
    "        exchanges = ['EX_' + x for x in media]\n",
    "        for rxn in model.reactions:\n",
    "            if len(list(rxn.products)) == 0:\n",
    "                if rxn.id in exchanges:\n",
    "                    model.reactions.get_by_id(rxn.id).lower_bound = max([-1000.0,model.reactions.get_by_id(rxn.id).lower_bound])\n",
    "                else:\n",
    "                    model.reactions.get_by_id(rxn.id).lower_bound = 0.0\n",
    "    \n",
    "    # Find essential genes\n",
    "    essential_reactions = find_essential_reactions(model, threshold=optimum_fraction)\n",
    "    \n",
    "    return essential_reactions\n",
    "                "
   ]
  },
  {
   "cell_type": "code",
   "execution_count": 31,
   "metadata": {},
   "outputs": [
    {
     "name": "stdout",
     "output_type": "stream",
     "text": [
      "Clinda essential reactions: 229\n"
     ]
    }
   ],
   "source": [
    "clinda_essential_reactions = essential_reactions(clinda_iCdG791_riptide.model)\n",
    "clinda_essential_reactions = set([x.id for x in clinda_essential_reactions])\n",
    "print('Clinda essential reactions: ' + str(len(clinda_essential_reactions)))"
   ]
  },
  {
   "cell_type": "code",
   "execution_count": 32,
   "metadata": {},
   "outputs": [
    {
     "name": "stdout",
     "output_type": "stream",
     "text": [
      "Strep essential reactions: 225\n"
     ]
    }
   ],
   "source": [
    "strep_essential_reactions = essential_reactions(strep_iCdG791_riptide.model)\n",
    "strep_essential_reactions = set([x.id for x in strep_essential_reactions])\n",
    "print('Strep essential reactions: ' + str(len(strep_essential_reactions)))"
   ]
  },
  {
   "cell_type": "code",
   "execution_count": 33,
   "metadata": {},
   "outputs": [
    {
     "name": "stdout",
     "output_type": "stream",
     "text": [
      "Strep only: 11\n",
      "Clinda only: 15\n",
      "Clinda + Strep: 214\n"
     ]
    }
   ],
   "source": [
    "strep_only_essential_reactions = strep_essential_reactions.difference(clinda_essential_reactions)\n",
    "clinda_only_essential_reactions = clinda_essential_reactions.difference(strep_essential_reactions)\n",
    "print('Strep only: ' + str(len(strep_only_essential_reactions)))\n",
    "print('Clinda only: ' + str(len(clinda_only_essential_reactions)))\n",
    "\n",
    "clinda_strep_reactions = clinda_essential_reactions.intersection(strep_essential_reactions)\n",
    "print('Clinda + Strep: ' + str(len(clinda_strep_reactions)))"
   ]
  },
  {
   "cell_type": "code",
   "execution_count": 62,
   "metadata": {},
   "outputs": [
    {
     "name": "stdout",
     "output_type": "stream",
     "text": [
      "Strep only:\n",
      "rxn04043_c\tADP:D-fructose-6-phosphate 1-phosphotransferase\n",
      "rxn00786_c\tD-fructose-1,6-bisphosphate D-glyceraldehyde-3-phosphate-lyase (glycerone-phosphate-forming)\n",
      "EX_cpd00221_e\tD-Lactate exchange\n",
      "rxn00097_c\tATP:AMP phosphotransferase\n",
      "rxn00555_c\tL-glutamine:D-fructose-6-phosphate isomerase (deaminating)\n",
      "rxn01368_c\tCytidine aminohydrolase\n",
      "rxn01366_c\tUridine:phosphate alpha-D-ribosyltransferase\n",
      "rxn10171_c\tD-lactate transport via proton symport\n",
      "EX_cpd00276_e\tGLUM exchange\n",
      "rxn05569_c\tD-glucosamine transport via PEP:Pyr PTS\n",
      "rxn00500_c\t(R)-Lactate:NAD+ oxidoreductase\n",
      "\n",
      "Clinda only:\n",
      "rxn00669_c\tPropanoate-CoA ligase\n",
      "rxn08657_c\tGlycolate oxidase\n",
      "rxn05527_c\tTRANS-RXN-199.ce\n",
      "EX_cpd00141_e\tPropionate exchange\n",
      "rxn10114_c\tformate dehydrogenase (quinone-8: 2 protons)\n",
      "EX_cpd00080_e\tGlycerol-3-phosphate exchange\n",
      "rxn09172_c\tPropionate diffusion\n",
      "rxn04794_c\tpropanoyl-CoA:formate C-propanoyltransferase\n",
      "rxn00611_c\tsn-Glycerol-3-phosphate:NAD+ 2-oxidoreductase\n",
      "rxn01648_c\tCytidine:orthophosphate alpha-D-ribosyltransferase\n",
      "rxn08976_c\tquinone reductase\n",
      "rxn05158_c\tATP phosphohydrolase (glycerol-3-phosphate-importing)\n",
      "rxn08655_c\tGlycolate oxidase\n",
      "rxn00737_c\tL-threonine ammonia-lyase (2-oxobutanoate-forming)\n",
      "EX_cpd00307_e\tCytosine exchange\n"
     ]
    }
   ],
   "source": [
    "print('Strep only:')\n",
    "for x in strep_only_essential_reactions:\n",
    "    print(x + '\\t' + strep_iCdG791_riptide.model.reactions.get_by_id(x).name)\n",
    "    \n",
    "print('\\nClinda only:')\n",
    "for y in clinda_only_essential_reactions:\n",
    "    print(y + '\\t' + clinda_iCdG791_riptide.model.reactions.get_by_id(y).name)"
   ]
  },
  {
   "cell_type": "code",
   "execution_count": 13,
   "metadata": {},
   "outputs": [],
   "source": [
    "# Inferring media condition\n",
    "\n",
    "def find_growth_substrates(riptide):\n",
    "    substrates = []\n",
    "    exchanges = list(set([x.id for x in riptide.model.reactions if 'EX_' in x.id]))\n",
    "    for rxn in exchanges:\n",
    "        if numpy.median(riptide.flux_samples[rxn]) < 0.0:\n",
    "            substrate_id = riptide.model.reactions.get_by_id(rxn).reactants[0].id\n",
    "            substrate_name = riptide.model.reactions.get_by_id(rxn).reactants[0].name\n",
    "            substrates.append([substrate_id, substrate_name])\n",
    "    \n",
    "    print(str(len(substrates)) + ' growth substrates found')\n",
    "    substrates = pandas.DataFrame.from_records(substrates)\n",
    "    substrates.columns = ['id','name']\n",
    "    \n",
    "    return substrates\n",
    "\n",
    "def find_byproducts(riptide):\n",
    "    byproducts = []\n",
    "    exchanges = list(set([x.id for x in riptide.model.reactions if 'EX_' in x.id]))\n",
    "    for rxn in exchanges:\n",
    "        if numpy.median(riptide.flux_samples[rxn]) > 0.0:\n",
    "            byproduct_id = riptide.model.reactions.get_by_id(rxn).reactants[0].id\n",
    "            byproduct_name = riptide.model.reactions.get_by_id(rxn).reactants[0].name\n",
    "            byproducts.append([byproduct_id, byproduct_name])\n",
    "    \n",
    "    print(str(len(byproducts)) + ' secreted byproducts found')\n",
    "    byproducts = pandas.DataFrame.from_records(byproducts)\n",
    "    byproducts.columns = ['id','name']\n",
    "    \n",
    "    return byproducts\n",
    "\n",
    "\n",
    "def find_element_sources(riptide):\n",
    "    \n",
    "    # Isolate exchange reactions\n",
    "    exchanges = []\n",
    "    for rxn in riptide.model.reactions:\n",
    "        if len(rxn.reactants) == 0 or len(rxn.products) == 0:\n",
    "            exchanges.append(rxn.id)\n",
    "    \n",
    "    sources = {}\n",
    "    c_source = ['cpd_id', 0.0]\n",
    "    n_source = ['cpd_id', 0.0]\n",
    "    \n",
    "    # Parse exchange flux samples for imported metabolites\n",
    "    for rxn in exchanges:\n",
    "        flux = abs(numpy.median(riptide.flux_samples[rxn]))\n",
    "        if flux > 1e-6:\n",
    "            metabolite = riptide.model.reactions.get_by_id(rxn).reactants[0]\n",
    "            sources[metabolite.id] = {}\n",
    "            \n",
    "            # Multiply elemental components by median flux absolute value\n",
    "            for element in metabolite.elements.keys():\n",
    "                element_supply = round(float(metabolite.elements[element]) * flux, 3)\n",
    "                sources[metabolite.id][element] = element_supply\n",
    "                \n",
    "                # Identify largest sources of carbon and nitrogen\n",
    "                if element == 'C' and element_supply > c_source[1]:\n",
    "                    c_source = [metabolite.id, element_supply]\n",
    "                elif element == 'N' and element_supply > n_source[1]:\n",
    "                    n_source = [metabolite.id, element_supply]\n",
    "                    \n",
    "    print('Primary carbon source: ' + riptide.model.metabolites.get_by_id(c_source[0]).name + ' (' + str(c_source[1]) + ')')\n",
    "    print('Primary nitrogen source: ' + riptide.model.metabolites.get_by_id(n_source[0]).name + ' (' + str(n_source[1]) + ')')\n",
    "\n",
    "    return sources"
   ]
  },
  {
   "cell_type": "code",
   "execution_count": 14,
   "metadata": {},
   "outputs": [
    {
     "name": "stdout",
     "output_type": "stream",
     "text": [
      "45 growth substrates found\n",
      "Primary carbon source: Neu5Ac (11000.0)\n",
      "Primary nitrogen source: Neu5Ac (1000.0)\n",
      "15 secreted byproducts found\n"
     ]
    }
   ],
   "source": [
    "clinda_substrates = find_growth_substrates(clinda_iCdG791_riptide)\n",
    "clinda_sources = find_element_sources(clinda_iCdG791_riptide)\n",
    "clinda_byproducts = find_byproducts(clinda_iCdG791_riptide)"
   ]
  },
  {
   "cell_type": "code",
   "execution_count": 20,
   "metadata": {},
   "outputs": [
    {
     "name": "stdout",
     "output_type": "stream",
     "text": [
      "45 growth substrates found\n",
      "Primary carbon source: Neu5Ac (11000.0)\n",
      "Primary nitrogen source: Neu5Ac (1000.0)\n",
      "14 secreted byproducts found\n"
     ]
    }
   ],
   "source": [
    "strep_substrates = find_growth_substrates(strep_iCdG791_riptide)\n",
    "strep_sources = find_element_sources(strep_iCdG791_riptide)\n",
    "strep_byproducts = find_byproducts(strep_iCdG791_riptide)"
   ]
  },
  {
   "cell_type": "code",
   "execution_count": 28,
   "metadata": {},
   "outputs": [
    {
     "name": "stdout",
     "output_type": "stream",
     "text": [
      "45 growth substrates found\n",
      "Primary carbon source: Neu5Ac (10662.341)\n",
      "Primary nitrogen source: D-Proline (1000.0)\n",
      "14 secreted byproducts found\n"
     ]
    }
   ],
   "source": [
    "cef_substrates = find_growth_substrates(cef_iCdG791_riptide)\n",
    "cef_sources = find_element_sources(cef_iCdG791_riptide)\n",
    "cef_byproducts = find_byproducts(cef_iCdG791_riptide)"
   ]
  },
  {
   "cell_type": "code",
   "execution_count": 145,
   "metadata": {},
   "outputs": [],
   "source": [
    "import numpy\n",
    "import cobra\n",
    "import cobra.flux_analysis\n",
    "\n",
    "def _getKey(item):\n",
    "    return item[1]\n",
    "\n",
    "# Scale each active exchange back and examine its influence on objective flux\n",
    "def find_primary_sources(model, flux_samples=False, fraction=0.01, cutoff=0.9, pfba_fraction=0.8):\n",
    "    # Requires a model \n",
    "    # Optional: flux_samples = flux samples pandas dataframe associated with model\n",
    "    #           fraction = percent of median flux to limit exchange reactions by\n",
    "    #           cutoff = quantile of top C and N sources to report\n",
    "    #           pfba_fraction = fraction of optimal objective value for pfba solution\n",
    "\n",
    "    sources = {}\n",
    "    c_sources = []\n",
    "    c_influence = []\n",
    "    n_sources = []\n",
    "    n_influence = []\n",
    "    p_source = ['p_source', -1.0]\n",
    "    s_source = ['s_source', -1.0]\n",
    "    objVal = model.slim_optimize()\n",
    "    pfba_solution = cobra.flux_analysis.pfba(model, fraction_of_optimum=pfba_fraction)\n",
    "    \n",
    "    # Parse exchange flux samples for imported metabolites\n",
    "    exchanges = [rxn.id for rxn in model.boundary]\n",
    "    for rxn in exchanges:\n",
    "        if isinstance(flux_samples, pandas.DataFrame):\n",
    "            flux = numpy.median(flux_samples[rxn])\n",
    "        else:\n",
    "            flux = pfba_solution.fluxes[rxn]\n",
    "        if flux >= -1e-6: continue # Skip exported byproducts or unused reactions\n",
    "        bound = flux * fraction\n",
    "        \n",
    "        # Test for disproportionate effect on objective\n",
    "        old_bounds = model.reactions.get_by_id(rxn).bounds\n",
    "        model.reactions.get_by_id(rxn).bounds = (bound, bound)        \n",
    "        new_objVal = model.slim_optimize()\n",
    "        model.reactions.get_by_id(rxn).bounds = old_bounds # Reset bounds\n",
    "        if str(new_objVal) == 'nan': new_objVal = objVal * fraction # Correct for nan\n",
    "        \n",
    "        # Calculate the degree of change to objective value\n",
    "        if new_objVal != objVal:\n",
    "            flux_ratio = objVal / new_objVal\n",
    "            adjustment = abs(flux) * flux_ratio\n",
    "        else:\n",
    "            adjustment = 1.\n",
    "        \n",
    "        # Normalize elemental component contributions\n",
    "        metabolite = model.reactions.get_by_id(rxn).reactants[0]\n",
    "        sources[metabolite.id] = {}\n",
    "        for element in metabolite.elements.keys():\n",
    "            element_supply = float(metabolite.elements[element]) * adjustment\n",
    "            if element_supply > 0.: element_supply = numpy.log(element_supply)\n",
    "            sources[metabolite.id][element] = element_supply\n",
    "                \n",
    "            # Identify largest sources of main elements\n",
    "            if element == 'C' and element_supply > 0.0:\n",
    "                c_sources.append([metabolite.id, element_supply])\n",
    "                c_influence.append(element_supply)\n",
    "            elif element == 'N' and element_supply > 0.0:\n",
    "                n_sources.append([metabolite.id, element_supply])\n",
    "                n_influence.append(element_supply)\n",
    "            elif element == 'P' and element_supply > 0.0:\n",
    "                p_source = [metabolite.id, element_supply]\n",
    "            elif element == 'S' and element_supply > 0.0:\n",
    "                s_source = [metabolite.id, element_supply]\n",
    "    \n",
    "    # Rank by largest contributions\n",
    "    c_sources = sorted(c_sources, reverse=True, key=_getKey)\n",
    "    n_sources = sorted(n_sources, reverse=True, key=_getKey)\n",
    "    \n",
    "    print('Top carbon sources:')\n",
    "    current = max(c_influence)\n",
    "    x = 0\n",
    "    while current >= numpy.quantile(c_influence, cutoff):\n",
    "        print(model.metabolites.get_by_id(c_sources[x][0]).name + ' (' + str(round(c_sources[x][1],3)) + ')')\n",
    "        current = c_sources[x][1]\n",
    "        x += 1\n",
    "        \n",
    "    print('\\nTop nitrogen sources:')\n",
    "    current = max(n_influence)\n",
    "    x = 0\n",
    "    while current >= numpy.quantile(n_influence, cutoff):\n",
    "        print(model.metabolites.get_by_id(n_sources[x][0]).name + ' (' + str(round(n_sources[x][1],3)) + ')')\n",
    "        current = n_sources[x][1]\n",
    "        x += 1\n",
    "        \n",
    "    print('\\nPrimary phosphorous source:')\n",
    "    print(model.metabolites.get_by_id(p_source[0]).name + ' (' + str(round(p_source[1],3)) + ')')\n",
    "    \n",
    "    print('\\nPrimary sulfur source:')\n",
    "    print(model.metabolites.get_by_id(s_source[0]).name + ' (' + str(round(s_source[1],3)) + ')')\n",
    "    \n",
    "    return sources\n"
   ]
  },
  {
   "cell_type": "code",
   "execution_count": 146,
   "metadata": {
    "scrolled": true
   },
   "outputs": [
    {
     "name": "stdout",
     "output_type": "stream",
     "text": [
      "Top carbon sources:\n",
      "Uracil (11.576)\n",
      "Sucrose (10.892)\n",
      "L-Glutamate (10.403)\n",
      "D-Alanine (10.046)\n",
      "L-Lysine (9.998)\n",
      "\n",
      "Top nitrogen sources:\n",
      "Uracil (10.883)\n",
      "D-Alanine (8.948)\n",
      "L-Lysine (8.899)\n",
      "L-Glutamate (8.794)\n",
      "\n",
      "Primary phosphorous source:\n",
      "Glycerol-3-phosphate (4.47)\n",
      "\n",
      "Primary sulfur source:\n",
      "L-Cysteine (5.04)\n"
     ]
    }
   ],
   "source": [
    "clinda_sources = find_primary_sources(clinda_iCdG791_riptide.model)"
   ]
  },
  {
   "cell_type": "code",
   "execution_count": 147,
   "metadata": {},
   "outputs": [
    {
     "name": "stdout",
     "output_type": "stream",
     "text": [
      "Top carbon sources:\n",
      "Sucrose (10.886)\n",
      "L-Glutamate (10.397)\n",
      "D-Alanine (10.041)\n",
      "L-Lysine (9.992)\n",
      "L-Alanine (9.769)\n",
      "\n",
      "Top nitrogen sources:\n",
      "D-Alanine (8.942)\n",
      "L-Lysine (8.893)\n",
      "L-Glutamate (8.788)\n",
      "L-Alanine (8.67)\n",
      "\n",
      "Primary phosphorous source:\n",
      "Glycerol-3-phosphate (4.87)\n",
      "\n",
      "Primary sulfur source:\n",
      "L-Cysteine (5.035)\n"
     ]
    }
   ],
   "source": [
    "strep_sources = find_primary_sources(strep_iCdG791_riptide.model)"
   ]
  },
  {
   "cell_type": "code",
   "execution_count": 142,
   "metadata": {},
   "outputs": [
    {
     "name": "stdout",
     "output_type": "stream",
     "text": [
      "Top carbon sources:\n",
      "Uracil (11.589)\n",
      "Sucrose (10.905)\n",
      "L-Glutamate (10.416)\n",
      "D-Alanine (10.06)\n",
      "L-Lysine (10.011)\n",
      "\n",
      "Top nitrogen sources:\n",
      "Uracil (10.896)\n",
      "D-Alanine (8.961)\n",
      "L-Lysine (8.912)\n",
      "L-Glutamate (8.807)\n",
      "\n",
      "Primary phosphorous source:\n",
      "Glycerol-3-phosphate (6.329)\n",
      "\n",
      "Primary sulfur source:\n",
      "L-Cysteine (5.054)\n"
     ]
    }
   ],
   "source": [
    "cef_sources = find_primary_sources(cef_iCdG791_riptide.model)"
   ]
  },
  {
   "cell_type": "code",
   "execution_count": 143,
   "metadata": {},
   "outputs": [
    {
     "name": "stdout",
     "output_type": "stream",
     "text": [
      "Top carbon sources:\n",
      "Uracil (11.603)\n",
      "Glycerol-3-phosphate (11.297)\n",
      "L-Glutamate (10.43)\n",
      "D-Alanine (10.074)\n",
      "L-Lysine (10.025)\n",
      "\n",
      "Top nitrogen sources:\n",
      "Uracil (10.91)\n",
      "D-Alanine (8.975)\n",
      "L-Lysine (8.926)\n",
      "L-Glutamate (8.821)\n",
      "L-Alanine (8.703)\n",
      "\n",
      "Primary phosphorous source:\n",
      "Glycerol-3-phosphate (10.198)\n",
      "\n",
      "Primary sulfur source:\n",
      "L-Cysteine (5.068)\n"
     ]
    }
   ],
   "source": [
    "gf_sources = find_primary_sources(gf_iCdG791_riptide.model)"
   ]
  },
  {
   "cell_type": "code",
   "execution_count": 144,
   "metadata": {},
   "outputs": [
    {
     "name": "stdout",
     "output_type": "stream",
     "text": [
      "Top carbon sources:\n",
      "Neu5Ac (9.318)\n",
      "L-Leucine (9.285)\n",
      "L-Isoleucine (9.285)\n",
      "L-Valine (9.102)\n",
      "D-Glucosamine (8.7)\n",
      "\n",
      "Top nitrogen sources:\n",
      "L-Leucine (7.493)\n",
      "L-Isoleucine (7.493)\n",
      "L-Valine (7.493)\n",
      "Neu5Ac (6.92)\n",
      "\n",
      "Primary phosphorous source:\n",
      "Glycerol-3-phosphate (6.187)\n",
      "\n",
      "Primary sulfur source:\n",
      "L-Cysteine (5.244)\n"
     ]
    }
   ],
   "source": [
    "base_sources = find_primary_sources(iCdG791)"
   ]
  },
  {
   "cell_type": "code",
   "execution_count": null,
   "metadata": {},
   "outputs": [],
   "source": [
    "# Probably need to fix a UMP related reaction"
   ]
  },
  {
   "cell_type": "code",
   "execution_count": 124,
   "metadata": {},
   "outputs": [
    {
     "data": {
      "text/html": [
       "\n",
       "        <table>\n",
       "            <tr>\n",
       "                <td><strong>Metabolite identifier</strong></td><td>cpd00092_c</td>\n",
       "            </tr><tr>\n",
       "                <td><strong>Name</strong></td><td>Uracil</td>\n",
       "            </tr><tr>\n",
       "                <td><strong>Memory address</strong></td>\n",
       "                <td>0x07f7d14195590</td>\n",
       "            </tr><tr>\n",
       "                <td><strong>Formula</strong></td><td>C4H4N2O2</td>\n",
       "            </tr><tr>\n",
       "                <td><strong>Compartment</strong></td><td>cytosol</td>\n",
       "            </tr><tr>\n",
       "                <td><strong>In 5 reaction(s)</strong></td><td>\n",
       "                    rxn00776_c, rxn01366_c, rxn00711_c, rxn01799_c, rxn05197_c</td>\n",
       "            </tr>\n",
       "        </table>"
      ],
      "text/plain": [
       "<Metabolite cpd00092_c at 0x7f7d14195590>"
      ]
     },
     "execution_count": 124,
     "metadata": {},
     "output_type": "execute_result"
    }
   ],
   "source": [
    "iCdG791.metabolites.cpd00092_c"
   ]
  },
  {
   "cell_type": "code",
   "execution_count": 126,
   "metadata": {},
   "outputs": [
    {
     "data": {
      "text/html": [
       "\n",
       "        <table>\n",
       "            <tr>\n",
       "                <td><strong>Reaction identifier</strong></td><td>rxn01366_c</td>\n",
       "            </tr><tr>\n",
       "                <td><strong>Name</strong></td><td>Uridine:phosphate alpha-D-ribosyltransferase</td>\n",
       "            </tr><tr>\n",
       "                <td><strong>Memory address</strong></td>\n",
       "                <td>0x07f7d13b10850</td>\n",
       "            </tr><tr>\n",
       "                <td><strong>Stoichiometry</strong></td>\n",
       "                <td>\n",
       "                    <p style='text-align:right'>cpd00009_c + cpd00249_c <=> cpd00092_c + cpd00475_c</p>\n",
       "                    <p style='text-align:right'>Phosphate + Uridine <=> Uracil + Ribose 1-phosphate</p>\n",
       "                </td>\n",
       "            </tr><tr>\n",
       "                <td><strong>GPR</strong></td><td>272563.8.peg.1284</td>\n",
       "            </tr><tr>\n",
       "                <td><strong>Lower bound</strong></td><td>-1000.0</td>\n",
       "            </tr><tr>\n",
       "                <td><strong>Upper bound</strong></td><td>1000.0</td>\n",
       "            </tr>\n",
       "        </table>\n",
       "        "
      ],
      "text/plain": [
       "<Reaction rxn01366_c at 0x7f7d13b10850>"
      ]
     },
     "execution_count": 126,
     "metadata": {},
     "output_type": "execute_result"
    }
   ],
   "source": [
    "iCdG791.reactions.rxn01366_c"
   ]
  },
  {
   "cell_type": "code",
   "execution_count": 127,
   "metadata": {},
   "outputs": [
    {
     "data": {
      "text/html": [
       "\n",
       "        <table>\n",
       "            <tr>\n",
       "                <td><strong>Reaction identifier</strong></td><td>rxn00711_c</td>\n",
       "            </tr><tr>\n",
       "                <td><strong>Name</strong></td><td>UMP:diphosphate phospho-alpha-D-ribosyltransferase</td>\n",
       "            </tr><tr>\n",
       "                <td><strong>Memory address</strong></td>\n",
       "                <td>0x07f7d13c34f50</td>\n",
       "            </tr><tr>\n",
       "                <td><strong>Stoichiometry</strong></td>\n",
       "                <td>\n",
       "                    <p style='text-align:right'>cpd00092_c + cpd00103_c --> cpd00012_c + cpd00067_c + cpd00091_c</p>\n",
       "                    <p style='text-align:right'>Uracil + PRPP --> PPi + H+ + UMP</p>\n",
       "                </td>\n",
       "            </tr><tr>\n",
       "                <td><strong>GPR</strong></td><td>272563.8.peg.2720 and 272563.8.peg.3645</td>\n",
       "            </tr><tr>\n",
       "                <td><strong>Lower bound</strong></td><td>0.0</td>\n",
       "            </tr><tr>\n",
       "                <td><strong>Upper bound</strong></td><td>1000.0</td>\n",
       "            </tr>\n",
       "        </table>\n",
       "        "
      ],
      "text/plain": [
       "<Reaction rxn00711_c at 0x7f7d13c34f50>"
      ]
     },
     "execution_count": 127,
     "metadata": {},
     "output_type": "execute_result"
    }
   ],
   "source": [
    "iCdG791.reactions.rxn00711_c"
   ]
  },
  {
   "cell_type": "code",
   "execution_count": 129,
   "metadata": {},
   "outputs": [
    {
     "data": {
      "text/html": [
       "\n",
       "        <table>\n",
       "            <tr>\n",
       "                <td><strong>Reaction identifier</strong></td><td>rxn05197_c</td>\n",
       "            </tr><tr>\n",
       "                <td><strong>Name</strong></td><td>Uracil permease</td>\n",
       "            </tr><tr>\n",
       "                <td><strong>Memory address</strong></td>\n",
       "                <td>0x07f7d1398b3d0</td>\n",
       "            </tr><tr>\n",
       "                <td><strong>Stoichiometry</strong></td>\n",
       "                <td>\n",
       "                    <p style='text-align:right'>cpd00067_e + cpd00092_e <=> cpd00067_c + cpd00092_c</p>\n",
       "                    <p style='text-align:right'>H+ + Uracil <=> H+ + Uracil</p>\n",
       "                </td>\n",
       "            </tr><tr>\n",
       "                <td><strong>GPR</strong></td><td>272563.8.peg.1796 or 272563.8.peg.2719</td>\n",
       "            </tr><tr>\n",
       "                <td><strong>Lower bound</strong></td><td>-1000.0</td>\n",
       "            </tr><tr>\n",
       "                <td><strong>Upper bound</strong></td><td>1000.0</td>\n",
       "            </tr>\n",
       "        </table>\n",
       "        "
      ],
      "text/plain": [
       "<Reaction rxn05197_c at 0x7f7d1398b3d0>"
      ]
     },
     "execution_count": 129,
     "metadata": {},
     "output_type": "execute_result"
    }
   ],
   "source": [
    "iCdG791.reactions.rxn05197_c"
   ]
  }
 ],
 "metadata": {
  "kernelspec": {
   "display_name": "Python 3",
   "language": "python",
   "name": "python3"
  },
  "language_info": {
   "codemirror_mode": {
    "name": "ipython",
    "version": 3
   },
   "file_extension": ".py",
   "mimetype": "text/x-python",
   "name": "python",
   "nbconvert_exporter": "python",
   "pygments_lexer": "ipython3",
   "version": "3.7.5"
  }
 },
 "nbformat": 4,
 "nbformat_minor": 2
}
