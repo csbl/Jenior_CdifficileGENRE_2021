{
 "cells": [
  {
   "cell_type": "code",
   "execution_count": 1,
   "metadata": {},
   "outputs": [],
   "source": [
    "from riptide import *"
   ]
  },
  {
   "cell_type": "code",
   "execution_count": 65,
   "metadata": {},
   "outputs": [],
   "source": [
    "#iCdJ794 = cobra.io.read_sbml_model('/home/matthew/Desktop/repos/Jenior_iCdJ794_2019/data/iCdJ794.sbml')\n",
    "iCdJ794 = cobra.io.load_json_model('/home/matthew/Desktop/repos/Jenior_iCdJ794_2019/data/iCdJ794.json')\n",
    "#iCdJ794 = cobra.io.read_sbml_model('/home/matthew/Desktop/iCdJ794.sbml')"
   ]
  },
  {
   "cell_type": "markdown",
   "metadata": {},
   "source": [
    "### Base Model Statistics"
   ]
  },
  {
   "cell_type": "code",
   "execution_count": 10,
   "metadata": {},
   "outputs": [
    {
     "data": {
      "text/html": [
       "\n",
       "        <table>\n",
       "            <tr>\n",
       "                <td><strong>Name</strong></td>\n",
       "                <td>iCdJ794</td>\n",
       "            </tr><tr>\n",
       "                <td><strong>Memory address</strong></td>\n",
       "                <td>0x07f52317ab2e8</td>\n",
       "            </tr><tr>\n",
       "                <td><strong>Number of metabolites</strong></td>\n",
       "                <td>1132</td>\n",
       "            </tr><tr>\n",
       "                <td><strong>Number of reactions</strong></td>\n",
       "                <td>1129</td>\n",
       "            </tr><tr>\n",
       "                <td><strong>Number of groups</strong></td>\n",
       "                <td>0</td>\n",
       "            </tr><tr>\n",
       "                <td><strong>Objective expression</strong></td>\n",
       "                <td>1.0*biomass - 1.0*biomass_reverse_01e59</td>\n",
       "            </tr><tr>\n",
       "                <td><strong>Compartments</strong></td>\n",
       "                <td>cytosol, extracellular</td>\n",
       "            </tr>\n",
       "          </table>"
      ],
      "text/plain": [
       "<Model iCdJ794 at 0x7f52317ab2e8>"
      ]
     },
     "execution_count": 10,
     "metadata": {},
     "output_type": "execute_result"
    }
   ],
   "source": [
    "iCdJ794"
   ]
  },
  {
   "cell_type": "code",
   "execution_count": 187,
   "metadata": {},
   "outputs": [
    {
     "data": {
      "text/plain": [
       "65.43231982360457"
      ]
     },
     "execution_count": 187,
     "metadata": {},
     "output_type": "execute_result"
    }
   ],
   "source": [
    "iCdJ794.slim_optimize()"
   ]
  },
  {
   "cell_type": "code",
   "execution_count": 4,
   "metadata": {},
   "outputs": [
    {
     "name": "stdout",
     "output_type": "stream",
     "text": [
      "Genes: 794\n",
      "Exchanges: 99\n",
      "Transporters: 104\n",
      "Metabolic reactions: 926\n"
     ]
    }
   ],
   "source": [
    "# Report some additional stats\n",
    "exch = 0\n",
    "for rxn in iCdJ794.reactions:\n",
    "    if len(list(rxn.products)) == 0:\n",
    "        exch += 1\n",
    "trans = 0\n",
    "for rxn in iCdJ794.reactions:\n",
    "    comps = set([x.compartment for x in list(rxn.reactants)] + [x.compartment for x in list(rxn.products)])\n",
    "    if len(comps) > 1:\n",
    "        trans += 1\n",
    "metab = len(list(iCdJ794.reactions)) - exch - trans\n",
    "\n",
    "print('Genes: ' + str(len(list(iCdJ794.genes))))\n",
    "print('Exchanges: ' + str(exch))\n",
    "print('Transporters: ' + str(trans))\n",
    "print('Metabolic reactions: ' + str(metab))"
   ]
  },
  {
   "cell_type": "markdown",
   "metadata": {},
   "source": [
    "### RIPTiDe *in vivo* Contextualization"
   ]
  },
  {
   "cell_type": "code",
   "execution_count": 4,
   "metadata": {},
   "outputs": [],
   "source": [
    "# Read in formatted transcription files\n",
    "def read_transcription(infile):\n",
    "    \n",
    "    abund_dict = {}\n",
    "    with open(infile, 'r') as abunds:\n",
    "        header = abunds.readline()\n",
    "        for line in abunds:\n",
    "            line = line.split()\n",
    "            gene = line[0].split('|')[0]\n",
    "            abund = float(line[2])\n",
    "            \n",
    "            abund_dict[gene] = abund\n",
    "            \n",
    "    return abund_dict\n"
   ]
  },
  {
   "cell_type": "code",
   "execution_count": 5,
   "metadata": {},
   "outputs": [],
   "source": [
    "# Read in in vivo C. difficile transcription\n",
    "cefoperazone = read_transcription('/home/matthew/Desktop/repos/Jenior_iCdJ794_2019/data/transcript/cefoperazone_630.mapped.norm.tsv')\n",
    "clindamycin = read_transcription('/home/matthew/Desktop/repos/Jenior_iCdJ794_2019/data/transcript/clindamycin_630.mapped.norm.tsv')\n",
    "streptomycin = read_transcription('/home/matthew/Desktop/repos/Jenior_iCdJ794_2019/data/transcript/streptomycin_630.mapped.norm.tsv')"
   ]
  },
  {
   "cell_type": "code",
   "execution_count": 6,
   "metadata": {},
   "outputs": [
    {
     "name": "stdout",
     "output_type": "stream",
     "text": [
      "\n",
      "Initializing model and integrating transcriptomic data...\n",
      "Pruning zero flux subnetworks...\n",
      "Exploring context-specific flux distributions...\n",
      "\n",
      "Reactions pruned to 288 from 1129 (74.49% change)\n",
      "Metabolites pruned to 284 from 1134 (74.96% change)\n",
      "Flux through the objective DECREASED to ~69.94 from ~89.77 (22.09% change)\n",
      "\n",
      "RIPTiDe completed in 27 seconds\n",
      "\n"
     ]
    }
   ],
   "source": [
    "cef_iCdJ794_riptide = riptide.contextualize(model=iCdJ794, transcription=cefoperazone, samples=1000)"
   ]
  },
  {
   "cell_type": "code",
   "execution_count": 7,
   "metadata": {
    "scrolled": true
   },
   "outputs": [
    {
     "name": "stdout",
     "output_type": "stream",
     "text": [
      "\n",
      "Initializing model and integrating transcriptomic data...\n",
      "Pruning zero flux subnetworks...\n",
      "Exploring context-specific flux distributions...\n",
      "\n",
      "Reactions pruned to 286 from 1129 (74.67% change)\n",
      "Metabolites pruned to 284 from 1134 (74.96% change)\n",
      "Flux through the objective DECREASED to ~73.18 from ~89.77 (18.48% change)\n",
      "\n",
      "RIPTiDe completed in 30 seconds\n",
      "\n"
     ]
    }
   ],
   "source": [
    "clinda_iCdJ794_riptide = riptide.contextualize(model=iCdJ794, transcription=clindamycin, samples=1000)"
   ]
  },
  {
   "cell_type": "code",
   "execution_count": 8,
   "metadata": {},
   "outputs": [
    {
     "name": "stdout",
     "output_type": "stream",
     "text": [
      "\n",
      "Initializing model and integrating transcriptomic data...\n",
      "Pruning zero flux subnetworks...\n",
      "Exploring context-specific flux distributions...\n",
      "\n",
      "Reactions pruned to 291 from 1129 (74.22% change)\n",
      "Metabolites pruned to 288 from 1134 (74.6% change)\n",
      "Flux through the objective DECREASED to ~74.9 from ~89.77 (16.56% change)\n",
      "\n",
      "RIPTiDe completed in 30 seconds\n",
      "\n"
     ]
    }
   ],
   "source": [
    "strep_iCdJ794_riptide = riptide.contextualize(model=iCdJ794, transcription=streptomycin, samples=1000)"
   ]
  },
  {
   "cell_type": "code",
   "execution_count": 9,
   "metadata": {},
   "outputs": [],
   "source": [
    "#cef_iCdJ794_riptide.fluxes.to_csv ('~/Desktop/cef_flux_samples.tsv', sep='\\t', index=None, header=True)\n",
    "#clinda_iCdJ794_riptide.fluxes.to_csv ('~/Desktop/clinda_flux_samples.tsv', sep='\\t', index=None, header=True)\n",
    "#strep_iCdJ794_riptide.fluxes.to_csv ('~/Desktop/strep_flux_samples.tsv', sep='\\t', index=None, header=True)"
   ]
  },
  {
   "cell_type": "markdown",
   "metadata": {},
   "source": [
    "### Context-specific Gene Essentiality"
   ]
  },
  {
   "cell_type": "code",
   "execution_count": 10,
   "metadata": {},
   "outputs": [],
   "source": [
    "import copy\n",
    "from cobra.flux_analysis.variability import find_essential_genes\n",
    "\n",
    "def essential_genes(genre, media=None, optimum_fraction=0.01):\n",
    "    model = copy.deepcopy(genre)\n",
    "    \n",
    "    # Change media conditions if necessary\n",
    "    if media is not None:\n",
    "        exchanges = ['EX_' + x for x in media]\n",
    "        for rxn in model.reactions:\n",
    "            if len(list(rxn.products)) == 0:\n",
    "                if rxn.id in exchanges:\n",
    "                    model.reactions.get_by_id(rxn.id).lower_bound = -1000.0\n",
    "                else:\n",
    "                    model.reactions.get_by_id(rxn.id).lower_bound = 0.0\n",
    "    \n",
    "    # Find essential genes\n",
    "    essential_genes = find_essential_genes(model, threshold=optimum_fraction)\n",
    "    \n",
    "    return essential_genes\n",
    "                "
   ]
  },
  {
   "cell_type": "code",
   "execution_count": 12,
   "metadata": {},
   "outputs": [
    {
     "name": "stdout",
     "output_type": "stream",
     "text": [
      "Uncontextualized essential genes: 43\n"
     ]
    }
   ],
   "source": [
    "# Unconstrained base model\n",
    "base_essential = essential_genes(iCdJ794)\n",
    "base_essential_genes = set([x.id for x in base_essential])\n",
    "print('Uncontextualized essential genes: ' + str(len(base_essential_genes)))"
   ]
  },
  {
   "cell_type": "code",
   "execution_count": 13,
   "metadata": {},
   "outputs": [
    {
     "name": "stdout",
     "output_type": "stream",
     "text": [
      "Cef essential genes: 63\n"
     ]
    }
   ],
   "source": [
    "cef_essential_genes = essential_genes(cef_iCdJ794_riptide.model)\n",
    "cef_essential_genes = set([x.id for x in cef_essential_genes])\n",
    "print('Cef essential genes: ' + str(len(cef_essential_genes)))"
   ]
  },
  {
   "cell_type": "code",
   "execution_count": 14,
   "metadata": {},
   "outputs": [
    {
     "name": "stdout",
     "output_type": "stream",
     "text": [
      "Clinda essential genes: 63\n"
     ]
    }
   ],
   "source": [
    "clinda_essential_genes = essential_genes(clinda_iCdJ794_riptide.model)\n",
    "clinda_essential_genes = set([x.id for x in clinda_essential_genes])\n",
    "print('Clinda essential genes: ' + str(len(clinda_essential_genes)))"
   ]
  },
  {
   "cell_type": "code",
   "execution_count": 15,
   "metadata": {},
   "outputs": [
    {
     "name": "stdout",
     "output_type": "stream",
     "text": [
      "Strep essential genes: 64\n"
     ]
    }
   ],
   "source": [
    "strep_essential_genes = essential_genes(strep_iCdJ794_riptide.model)\n",
    "strep_essential_genes = set([x.id for x in strep_essential_genes])\n",
    "print('Strep essential genes: ' + str(len(strep_essential_genes)))"
   ]
  },
  {
   "cell_type": "code",
   "execution_count": 16,
   "metadata": {},
   "outputs": [
    {
     "name": "stdout",
     "output_type": "stream",
     "text": [
      "Shared: 61\n",
      "\n",
      "Cef only: 0\n",
      "Strep only: 3\n",
      "Clinda only: 0\n"
     ]
    }
   ],
   "source": [
    "shared_essential_genes = strep_essential_genes.intersection(cef_essential_genes.intersection(clinda_essential_genes))\n",
    "cef_only_essential_genes = cef_essential_genes.difference(strep_essential_genes.union(clinda_essential_genes))\n",
    "strep_only_essential_genes = strep_essential_genes.difference(cef_essential_genes.union(clinda_essential_genes))\n",
    "clinda_only_essential_genes = clinda_essential_genes.difference(strep_essential_genes.union(cef_essential_genes))\n",
    "\n",
    "print('Shared: ' + str(len(shared_essential_genes)) + '\\n')\n",
    "print('Cef only: ' + str(len(cef_only_essential_genes)))\n",
    "print('Strep only: ' + str(len(strep_only_essential_genes)))\n",
    "print('Clinda only: ' + str(len(clinda_only_essential_genes)))"
   ]
  },
  {
   "cell_type": "markdown",
   "metadata": {},
   "source": [
    "### Context-specific Substrate Importance"
   ]
  },
  {
   "cell_type": "code",
   "execution_count": 17,
   "metadata": {},
   "outputs": [],
   "source": [
    "import pandas\n",
    "from cobra.medium import minimal_medium\n",
    "\n",
    "def find_essential_metabolites(model, fraction=0.01):\n",
    "\n",
    "    max_growth = model.slim_optimize() * fraction\n",
    "    ser = minimal_medium(model, max_growth)\n",
    "\n",
    "    rxns = list(ser.index)\n",
    "    fluxes = list(ser.values)\n",
    "    cpds = []\n",
    "    for x in rxns: cpds.append(model.reactions.get_by_id(x).reactants[0].name)        \n",
    "    \n",
    "    media = {'Reaction': rxns, 'Substrate': cpds, 'Units': fluxes}    \n",
    "    media = pandas.DataFrame(media)\n",
    "    print('Minimal media components: ' + str(len(media.index)))\n",
    "    \n",
    "    return(media)\n"
   ]
  },
  {
   "cell_type": "code",
   "execution_count": 18,
   "metadata": {},
   "outputs": [
    {
     "name": "stdout",
     "output_type": "stream",
     "text": [
      "Minimal media components: 44\n"
     ]
    }
   ],
   "source": [
    "cef_min_media = find_essential_metabolites(cef_iCdJ794_riptide.model)"
   ]
  },
  {
   "cell_type": "code",
   "execution_count": 19,
   "metadata": {},
   "outputs": [
    {
     "name": "stdout",
     "output_type": "stream",
     "text": [
      "Minimal media components: 43\n"
     ]
    }
   ],
   "source": [
    "clinda_min_media = find_essential_metabolites(clinda_iCdJ794_riptide.model)"
   ]
  },
  {
   "cell_type": "code",
   "execution_count": 20,
   "metadata": {},
   "outputs": [
    {
     "name": "stdout",
     "output_type": "stream",
     "text": [
      "Minimal media components: 44\n"
     ]
    }
   ],
   "source": [
    "strep_min_media = find_essential_metabolites(strep_iCdJ794_riptide.model)"
   ]
  },
  {
   "cell_type": "code",
   "execution_count": 21,
   "metadata": {},
   "outputs": [
    {
     "name": "stdout",
     "output_type": "stream",
     "text": [
      "Shared: 41\n",
      "\n",
      "Cef only: 1\n",
      "Strep only: 2\n",
      "Clinda only: 1\n"
     ]
    }
   ],
   "source": [
    "cef_metabolites = set(cef_min_media['Substrate'])\n",
    "strep_metabolites = set(strep_min_media['Substrate'])\n",
    "clinda_metabolites = set(clinda_min_media['Substrate'])\n",
    "\n",
    "shared_metabolites = strep_metabolites.intersection(cef_metabolites.intersection(clinda_metabolites))\n",
    "cef_only_metabolites = cef_metabolites.difference(strep_metabolites.union(clinda_metabolites))\n",
    "strep_only_metabolites = strep_metabolites.difference(cef_metabolites.union(clinda_metabolites))\n",
    "clinda_only_metabolites = clinda_metabolites.difference(strep_metabolites.union(cef_metabolites))\n",
    "\n",
    "print('Shared: ' + str(len(shared_metabolites)) + '\\n')\n",
    "print('Cef only: ' + str(len(cef_only_metabolites)))\n",
    "print('Strep only: ' + str(len(strep_only_metabolites)))\n",
    "print('Clinda only: ' + str(len(clinda_only_metabolites)))"
   ]
  },
  {
   "cell_type": "code",
   "execution_count": null,
   "metadata": {},
   "outputs": [],
   "source": []
  },
  {
   "cell_type": "code",
   "execution_count": null,
   "metadata": {},
   "outputs": [],
   "source": []
  },
  {
   "cell_type": "code",
   "execution_count": null,
   "metadata": {},
   "outputs": [],
   "source": []
  },
  {
   "cell_type": "code",
   "execution_count": null,
   "metadata": {},
   "outputs": [],
   "source": []
  },
  {
   "cell_type": "markdown",
   "metadata": {},
   "source": [
    "###  Context-specific Topological Differences"
   ]
  },
  {
   "cell_type": "code",
   "execution_count": 22,
   "metadata": {},
   "outputs": [
    {
     "name": "stdout",
     "output_type": "stream",
     "text": [
      "Shared: 257\n",
      "\n",
      "Cef only: 14\n",
      "Strep only: 16\n",
      "Clinda only: 6\n"
     ]
    }
   ],
   "source": [
    "# Shared topology - reactions\n",
    "cef_rxns = set([x.id for x in cef_iCdJ794_riptide.model.reactions])\n",
    "clinda_rxns = set([x.id for x in clinda_iCdJ794_riptide.model.reactions])\n",
    "strep_rxns = set([x.id for x in strep_iCdJ794_riptide.model.reactions])\n",
    "\n",
    "shared_rxns = strep_rxns.intersection(cef_rxns.intersection(clinda_rxns))\n",
    "cef_only_rxns = cef_rxns.difference(strep_rxns.union(clinda_rxns))\n",
    "strep_only_rxns = strep_rxns.difference(cef_rxns.union(clinda_rxns))\n",
    "clinda_only_rxns = clinda_rxns.difference(strep_rxns.union(cef_rxns))\n",
    "\n",
    "print('Shared: ' + str(len(shared_rxns)) + '\\n')\n",
    "print('Cef only: ' + str(len(cef_only_rxns)))\n",
    "print('Strep only: ' + str(len(strep_only_rxns)))\n",
    "print('Clinda only: ' + str(len(clinda_only_rxns)))"
   ]
  },
  {
   "cell_type": "code",
   "execution_count": 23,
   "metadata": {},
   "outputs": [
    {
     "name": "stdout",
     "output_type": "stream",
     "text": [
      "Shared: 266\n",
      "\n",
      "Cef only: 8\n",
      "Strep only: 9\n",
      "Clinda only: 3\n"
     ]
    }
   ],
   "source": [
    "# Shared topology - metabolites\n",
    "cef_cpds = set([x.id for x in cef_iCdJ794_riptide.model.metabolites])\n",
    "clinda_cpds = set([x.id for x in clinda_iCdJ794_riptide.model.metabolites])\n",
    "strep_cpds = set([x.id for x in strep_iCdJ794_riptide.model.metabolites])\n",
    "\n",
    "shared_cpds = strep_cpds.intersection(cef_cpds.intersection(clinda_cpds))\n",
    "cef_only_cpds = cef_cpds.difference(strep_cpds.union(clinda_cpds))\n",
    "strep_only_cpds = strep_cpds.difference(cef_cpds.union(clinda_cpds))\n",
    "clinda_only_cpds = clinda_cpds.difference(strep_cpds.union(cef_cpds))\n",
    "\n",
    "print('Shared: ' + str(len(shared_cpds)) + '\\n')\n",
    "print('Cef only: ' + str(len(cef_only_cpds)))\n",
    "print('Strep only: ' + str(len(strep_only_cpds)))\n",
    "print('Clinda only: ' + str(len(clinda_only_cpds)))"
   ]
  },
  {
   "cell_type": "code",
   "execution_count": null,
   "metadata": {},
   "outputs": [],
   "source": [
    "# Are differences seen in the previous analyses related to certain pathways\n",
    "\n",
    "# cef_only_rxns - Lactate, malate, and fumarate metabolism\n",
    "# strep_only_cpds - \n",
    "\n",
    "\n"
   ]
  },
  {
   "cell_type": "code",
   "execution_count": 24,
   "metadata": {},
   "outputs": [
    {
     "data": {
      "text/plain": [
       "{'EX_cpd00162_e',\n",
       " 'EX_cpd00226_e',\n",
       " 'rxn00171_c',\n",
       " 'rxn00355_c',\n",
       " 'rxn00539_c',\n",
       " 'rxn00541_c',\n",
       " 'rxn00737_c',\n",
       " 'rxn01280_c',\n",
       " 'rxn01281_c',\n",
       " 'rxn01505_c',\n",
       " 'rxn04794_c',\n",
       " 'rxn05201_c',\n",
       " 'rxn05551_c',\n",
       " 'rxn09341_c',\n",
       " 'rxn09348_c',\n",
       " 'rxn10175_c'}"
      ]
     },
     "execution_count": 24,
     "metadata": {},
     "output_type": "execute_result"
    }
   ],
   "source": [
    "strep_only_rxns"
   ]
  },
  {
   "cell_type": "code",
   "execution_count": 53,
   "metadata": {},
   "outputs": [
    {
     "data": {
      "text/html": [
       "\n",
       "        <table>\n",
       "            <tr>\n",
       "                <td><strong>Reaction identifier</strong></td><td>rxn04794_c</td>\n",
       "            </tr><tr>\n",
       "                <td><strong>Name</strong></td><td>propanoyl-CoA:formate C-propanoyltransferase</td>\n",
       "            </tr><tr>\n",
       "                <td><strong>Memory address</strong></td>\n",
       "                <td>0x07f2bf1cfa400</td>\n",
       "            </tr><tr>\n",
       "                <td><strong>Stoichiometry</strong></td>\n",
       "                <td>\n",
       "                    <p style='text-align:right'>cpd00010_c + cpd00094_c <=> cpd00047_c + cpd00086_c</p>\n",
       "                    <p style='text-align:right'>CoA + 2-Oxobutyrate <=> Formate + Propionyl-CoA</p>\n",
       "                </td>\n",
       "            </tr><tr>\n",
       "                <td><strong>GPR</strong></td><td>272563.8.peg.1175 or 272563.8.peg.3435 or 272563.8.peg.796</td>\n",
       "            </tr><tr>\n",
       "                <td><strong>Lower bound</strong></td><td>-1000.0</td>\n",
       "            </tr><tr>\n",
       "                <td><strong>Upper bound</strong></td><td>1000.0</td>\n",
       "            </tr>\n",
       "        </table>\n",
       "        "
      ],
      "text/plain": [
       "<Reaction rxn04794_c at 0x7f2bf1cfa400>"
      ]
     },
     "execution_count": 53,
     "metadata": {},
     "output_type": "execute_result"
    }
   ],
   "source": [
    "strep_iCdJ794_riptide.model.reactions.get_by_id('rxn04794_c')"
   ]
  },
  {
   "cell_type": "markdown",
   "metadata": {},
   "source": [
    "### Analysis of Constrained Flux Samples"
   ]
  },
  {
   "cell_type": "code",
   "execution_count": null,
   "metadata": {},
   "outputs": [],
   "source": []
  },
  {
   "cell_type": "code",
   "execution_count": null,
   "metadata": {},
   "outputs": [],
   "source": [
    "# Results from flux distribution analysis of shared reactions\n",
    "unchanged = [\"rxn03408_c\",\"rxn00519_c\",\"rxn01547_c\",\"rxn00001_c\",\"rxn12512_c\",\"rxn08669_c\",\"rxn00100_c\",\"rxn05560_c\",\"rxn05158_c\",\"rxn05298_c\",\"rxn03903_c\",\"rxn00926_c\",\"rxn03958_c\",\"rxn10060_c\",\"rxn00305_c\",\"rxn08799_c\",\"rxn05234_c\",\"rxn05555_c\",\"rxn09111_c\",\"rxn00707_c\",\"rxn00392_c\",\"rxn05219_c\",\"rxn02175_c\",\"rxn02009_c\",\"rxn00555_c\",\"rxn04043_c\",\"rxn03910_c\",\"rxn00182_c\",\"rxn03908_c\",\"rxn05496_c\",\"rxn00527_c\",\"rxn10271_c\",\"rxn08850_c\",\"rxn05645_c\",\"rxn01116_c\",\"rxn00711_c\",\"rxn01138_c\",\"rxn05494_c\",\"rxn00297_c\",\"rxn10168_c\",\"rxn09657_c\",\"rxn05236_c\",\"rxn00410_c\",\"rxn01333_c\",\"rxn12510_c\",\"rxn03933_c\",\"rxn01646_c\",\"rxn00105_c\",\"rxn02285_c\",\"rxn05663_c\",\"rxn03907_c\",\"rxn01213_c\",\"rxn00770_c\",\"rxn05059_c\",\"rxn10474_c\",\"rxn00461_c\",\"rxn10473_c\",\"rxn08309_c\",\"rxn01671_c\",\"rxn05313_c\",\"rxn00785_c\",\"rxn03909_c\",\"rxn10280_c\",\"rxn05616_c\",\"rxn00077_c\",\"rxn00134_c\",\"rxn09109_c\",\"rxn01200_c\",\"rxn00763_c\",\"rxn00122_c\",\"rxn05223_c\",\"rxn01649_c\",\"rxn09345_c\",\"rxn01466_c\",\"rxn02008_c\",\"rxn03904_c\",\"rxn00778_c\",\"rxn03901_c\",\"rxn00193_c\",\"rxn10272_c\",\"rxn10281_c\",\"rxn02341_c\",\"rxn01519_c\",\"rxn08797_c\",\"rxn05232_c\",\"rxn01513_c\",\"rxn08307_c\",\"rxn00686_c\",\"rxn00157_c\",\"rxn00933_c\",\"EX_cpd00080_e\",\"EX_cpd00023_e\",\"EX_cpd00971_e\",\"EX_cpd00051_e\",\"EX_cpd10515_e\",\"EX_cpd00009_e\",\"EX_cpd00060_e\",\"EX_cpd00035_e\",\"EX_cpd00220_e\",\"EX_cpd00117_e\"\"EX_cpd00254_e\",\"EX_cpd00205_e\",\"EX_cpd00305_e\",\"EX_cpd00065_e\",\"EX_cpd00149_e\"\"EX_cpd00099_e\",\"EX_cpd00104_e\",\"EX_cpd00011_e\",\"EX_cpd00063_e\",\"EX_cpd00039_e\"\"EX_cpd00393_e\",\"EX_cpd00030_e\",\"EX_cpd00516_e\",\"EX_cpd00084_e\",\"rxn05237_c\",\"EX_cpd00644_e\",\"R03018_c\",\"EX_cpd00263_e\",\"COG3601_c\",\"rxn05255_c\",\"EX_cpd00107_e\",\"rxn05243_c\",\"EX_cpd00066_e\",\"rxn18584_c\",\"rxn05164_c\",\"EX_cpd00119_e\",\"rxn10144_c\",\"EX_cpd00132_e\",\"rxn05151_c\",\"rxn03141_c\",\"dna_rxn\",\"rna_rxn\",\"protein_rxn\",\"teichoicacid_rxn\",\"peptidoglycan_rxn\",\"cellwall_rxn\",\"lipid_rxn\",\"cofactor_rxn\",\"biomass\",,\"SK_cpd11416_c\",\"rxn05467_c\",\"rxn08186_c\",\"rxn08952_c\",\"rxn08304_c\",\"EX_cpd00133_e\",\"rxn11334_c\",\"EX_cpd00443_e\",\"rxn10421_c\",\"rxn09142_c\",\"rxn09145_c\",\"rxn13139_c\",\"rxn00620_c\",\"rxn00777_c\",\"rxn05293_c\",\"rxn13914_c\",\"rxn09147_c\",\"rxn02011_c\",\"rxn07466_c\",\"rxn01520_c\",\"rxn09065_c\",\"rxn10840_c\",\"rxn03852_c\",\"rxn09063_c\",\"rxn05744_c\",\"rxn02286_c\",\"rxn08040_c\"]"
   ]
  },
  {
   "cell_type": "code",
   "execution_count": null,
   "metadata": {},
   "outputs": [],
   "source": []
  },
  {
   "cell_type": "code",
   "execution_count": null,
   "metadata": {},
   "outputs": [],
   "source": []
  },
  {
   "cell_type": "code",
   "execution_count": null,
   "metadata": {},
   "outputs": [],
   "source": []
  },
  {
   "cell_type": "code",
   "execution_count": null,
   "metadata": {},
   "outputs": [],
   "source": []
  },
  {
   "cell_type": "code",
   "execution_count": null,
   "metadata": {},
   "outputs": [],
   "source": []
  },
  {
   "cell_type": "code",
   "execution_count": null,
   "metadata": {},
   "outputs": [],
   "source": []
  },
  {
   "cell_type": "code",
   "execution_count": null,
   "metadata": {},
   "outputs": [],
   "source": []
  },
  {
   "cell_type": "code",
   "execution_count": null,
   "metadata": {},
   "outputs": [],
   "source": []
  },
  {
   "cell_type": "code",
   "execution_count": null,
   "metadata": {},
   "outputs": [],
   "source": []
  },
  {
   "cell_type": "code",
   "execution_count": null,
   "metadata": {},
   "outputs": [],
   "source": []
  },
  {
   "cell_type": "code",
   "execution_count": null,
   "metadata": {},
   "outputs": [],
   "source": []
  },
  {
   "cell_type": "code",
   "execution_count": null,
   "metadata": {},
   "outputs": [],
   "source": []
  },
  {
   "cell_type": "code",
   "execution_count": 73,
   "metadata": {},
   "outputs": [],
   "source": [
    "# Testing with old flux sampler\n",
    "\n",
    "from cobra.util import solver\n",
    "from cobra.sampling import optgp\n",
    "\n",
    "\n",
    "def sample_optimal_fluxes(model, fraction_of_optimum=0.75, samples=1000):\n",
    "    \n",
    "    solver.fix_objective_as_constraint(model, fraction=fraction_of_optimum)\n",
    "    sampling_object = optgp.OptGPSampler(model)\n",
    "    flux_samples = sampling_object.sample(samples)\n",
    "    \n",
    "    return flux_samples\n"
   ]
  },
  {
   "cell_type": "code",
   "execution_count": 74,
   "metadata": {
    "scrolled": true
   },
   "outputs": [],
   "source": [
    "cef_samples = sample_optimal_fluxes(cef_iCdJ794_riptide.model)"
   ]
  },
  {
   "cell_type": "code",
   "execution_count": 75,
   "metadata": {
    "scrolled": true
   },
   "outputs": [],
   "source": [
    "clinda_samples = sample_optimal_fluxes(clinda_iCdJ794_riptide.model)"
   ]
  },
  {
   "cell_type": "code",
   "execution_count": 76,
   "metadata": {
    "scrolled": true
   },
   "outputs": [],
   "source": [
    "strep_samples = sample_optimal_fluxes(strep_iCdJ794_riptide.model)"
   ]
  },
  {
   "cell_type": "code",
   "execution_count": 77,
   "metadata": {
    "scrolled": true
   },
   "outputs": [],
   "source": [
    "gnoto_samples = sample_optimal_fluxes(gnoto_iCdJ794_riptide.model)"
   ]
  },
  {
   "cell_type": "code",
   "execution_count": 81,
   "metadata": {},
   "outputs": [],
   "source": [
    "cef_samples.to_csv ('~/Desktop/cef_flux_samples.tsv', sep='\\t', index=None, header=True)\n",
    "clinda_samples.to_csv ('~/Desktop/clinda_flux_samples.tsv', sep='\\t', index=None, header=True)\n",
    "strep_samples.to_csv ('~/Desktop/strep_flux_samples.tsv', sep='\\t', index=None, header=True)\n",
    "gnoto_samples.to_csv ('~/Desktop/gnoto_flux_samples.tsv', sep='\\t', index=None, header=True)"
   ]
  },
  {
   "cell_type": "code",
   "execution_count": null,
   "metadata": {},
   "outputs": [],
   "source": []
  }
 ],
 "metadata": {
  "kernelspec": {
   "display_name": "Python 3",
   "language": "python",
   "name": "python3"
  },
  "language_info": {
   "codemirror_mode": {
    "name": "ipython",
    "version": 3
   },
   "file_extension": ".py",
   "mimetype": "text/x-python",
   "name": "python",
   "nbconvert_exporter": "python",
   "pygments_lexer": "ipython3",
   "version": "3.7.3"
  }
 },
 "nbformat": 4,
 "nbformat_minor": 2
}
