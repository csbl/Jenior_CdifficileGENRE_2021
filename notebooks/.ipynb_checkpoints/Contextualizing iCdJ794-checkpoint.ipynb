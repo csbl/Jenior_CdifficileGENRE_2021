{
 "cells": [
  {
   "cell_type": "code",
   "execution_count": 1,
   "metadata": {},
   "outputs": [],
   "source": [
    "from riptide import *"
   ]
  },
  {
   "cell_type": "code",
   "execution_count": 2,
   "metadata": {},
   "outputs": [],
   "source": [
    "iCdJ794 = cobra.io.read_sbml_model('/home/matthew/Desktop/repos/Jenior_iCdJ794_2019/data/iCdJ794.sbml')"
   ]
  },
  {
   "cell_type": "markdown",
   "metadata": {},
   "source": [
    "### Base Model Statistics"
   ]
  },
  {
   "cell_type": "code",
   "execution_count": 4,
   "metadata": {},
   "outputs": [
    {
     "data": {
      "text/html": [
       "\n",
       "        <table>\n",
       "            <tr>\n",
       "                <td><strong>Name</strong></td>\n",
       "                <td>iCdJ794</td>\n",
       "            </tr><tr>\n",
       "                <td><strong>Memory address</strong></td>\n",
       "                <td>0x07fd6e2ab4748</td>\n",
       "            </tr><tr>\n",
       "                <td><strong>Number of metabolites</strong></td>\n",
       "                <td>1134</td>\n",
       "            </tr><tr>\n",
       "                <td><strong>Number of reactions</strong></td>\n",
       "                <td>1129</td>\n",
       "            </tr><tr>\n",
       "                <td><strong>Number of groups</strong></td>\n",
       "                <td>0</td>\n",
       "            </tr><tr>\n",
       "                <td><strong>Objective expression</strong></td>\n",
       "                <td>1.0*biomass - 1.0*biomass_reverse_01e59</td>\n",
       "            </tr><tr>\n",
       "                <td><strong>Compartments</strong></td>\n",
       "                <td>cytosol, extracellular</td>\n",
       "            </tr>\n",
       "          </table>"
      ],
      "text/plain": [
       "<Model iCdJ794 at 0x7fd6e2ab4748>"
      ]
     },
     "execution_count": 4,
     "metadata": {},
     "output_type": "execute_result"
    }
   ],
   "source": [
    "iCdJ794"
   ]
  },
  {
   "cell_type": "code",
   "execution_count": 4,
   "metadata": {},
   "outputs": [
    {
     "name": "stdout",
     "output_type": "stream",
     "text": [
      "Genes: 794\n",
      "Total Reactions: 1129\n",
      "\n",
      "Exchanges: 99\n",
      "Transporters: 104\n",
      "Metabolic reactions: 926\n"
     ]
    }
   ],
   "source": [
    "# Report some additional stats\n",
    "\n",
    "print('Genes: ' + str(len(list(iCdJ794.genes))))\n",
    "\n",
    "exch = 0\n",
    "for rxn in iCdJ794.reactions:\n",
    "    if len(list(rxn.products)) == 0:\n",
    "        exch += 1\n",
    "print('Exchanges: ' + str(exch))\n",
    "\n",
    "trans = 0\n",
    "for rxn in iCdJ794.reactions:\n",
    "    comps = set([x.compartment for x in list(rxn.reactants)] + [x.compartment for x in list(rxn.products)])\n",
    "    if len(comps) > 1:\n",
    "        trans += 1\n",
    "print('Transporters: ' + str(trans))\n",
    "\n",
    "metab = len(list(iCdJ794.reactions)) - exch - trans\n",
    "print('Metabolic reactions: ' + str(metab))"
   ]
  },
  {
   "cell_type": "code",
   "execution_count": 18,
   "metadata": {},
   "outputs": [],
   "source": [
    "import copy\n",
    "from cobra.flux_analysis.variability import find_essential_genes\n",
    "\n",
    "def essential_genes(genre, media=None, optimum_fraction=0.75):\n",
    "    model = copy.deepcopy(genre)\n",
    "    \n",
    "    # Change media conditions if necessary\n",
    "    if media is not None:\n",
    "        exchanges = ['EX_' + x for x in media]\n",
    "        for rxn in model.reactions:\n",
    "            if len(list(rxn.products)) == 0:\n",
    "                if rxn.id in exchanges:\n",
    "                    model.reactions.get_by_id(rxn.id).lower_bound = -1000.0\n",
    "                else:\n",
    "                    model.reactions.get_by_id(rxn.id).lower_bound = 0.0\n",
    "    \n",
    "    # Find essential genes\n",
    "    essential_genes = find_essential_genes(model, threshold=optimum_fraction)\n",
    "    \n",
    "    print('Essential genes: ' + str(len(essential_genes)))\n",
    "    \n",
    "    return essential_genes\n",
    "                "
   ]
  },
  {
   "cell_type": "code",
   "execution_count": 10,
   "metadata": {},
   "outputs": [],
   "source": [
    "# Define media conditions\n",
    "mdm = ['cpd00001_e', # water\n",
    "       'cpd00065_e', # L-Tryptophan\n",
    "       'cpd00060_e', # L-Methionine\n",
    "       'cpd00322_e', # L-Isoleucine\n",
    "       'cpd00129_e', # L-Proline\n",
    "       'cpd00156_e', # L-Valine\n",
    "       'cpd00107_e', # L-Leucine\n",
    "       'cpd00084_e', # L-Cysteine \n",
    "       'cpd00149_e', # Cobalt\n",
    "       'cpd00099_e', # Chloride\n",
    "       'cpd10515_e', # Iron\n",
    "       'cpd00030_e', # Manganese\n",
    "       'cpd00254_e', # Magnesium\n",
    "       'cpd00063_e', # Calcium\n",
    "       'cpd00205_e', # Potassium\n",
    "       'cpd00009_e', # Phosphate\n",
    "       'cpd00971_e', # Sodium\n",
    "       'cpd00242_e', # Carbonate\n",
    "       'cpd00104_e', # Biotin\n",
    "       'cpd00305_e', # Thiamine\n",
    "       'cpd00263_e', # Pyridoxine\n",
    "       'cpd00027_e'] # D-Glucose (Carbohydrate C-source)\n",
    "\n",
    "# Theriot et al. (2013). Nature Communications.\n",
    "ncmm = ['cpd00001_e', # water\n",
    "        'cpd00104_e', # Biotin\n",
    "        'cpd00644_e', # Pantothenate\n",
    "        'cpd00263_e', # Pyridoxine\n",
    "        'cpd00149_e', # Cobalt\n",
    "        'cpd00099_e', # Chloride\n",
    "        'cpd10515_e', # Iron\n",
    "        'cpd00030_e', # Manganese\n",
    "        'cpd00254_e', # Magnesium\n",
    "        'cpd00063_e', # Calcium\n",
    "        'cpd00205_e', # Potassium\n",
    "        'cpd00009_e', # Phosphate\n",
    "        'cpd00971_e', # Sodium\n",
    "        'cpd00242_e', # Carbonate\n",
    "        'cpd00322_e', # L-Isoleucine\n",
    "        'cpd00129_e', # L-Proline\n",
    "        'cpd00156_e', # L-Valine\n",
    "        'cpd00107_e', # L-Leucine\n",
    "        'cpd00084_e', # L-Cysteine \n",
    "        'cpd00065_e', # L-Tryptophan\n",
    "        'cpd00060_e', # L-Methionine\n",
    "        'cpd00119_e', # L-Histidine\n",
    "        'cpd00033_e', # Glycine\n",
    "        'cpd00051_e', # L-Arginine\n",
    "        'cpd00161_e'] # L-Threonine"
   ]
  },
  {
   "cell_type": "code",
   "execution_count": 11,
   "metadata": {},
   "outputs": [
    {
     "name": "stdout",
     "output_type": "stream",
     "text": [
      "Essential genes: 92\n",
      "Essential genes: 80\n"
     ]
    }
   ],
   "source": [
    "# Essentiality in minimal medias\n",
    "mdm_essential = essential_genes(iCdJ794, media=mdm)\n",
    "ncmm_essential = essential_genes(iCdJ794,  media=ncmm)"
   ]
  },
  {
   "cell_type": "markdown",
   "metadata": {},
   "source": [
    "### RIPTiDe *in vivo* Contextualization"
   ]
  },
  {
   "cell_type": "code",
   "execution_count": 3,
   "metadata": {},
   "outputs": [],
   "source": [
    "# Read in formatted transcription files\n",
    "def read_transcription(infile):\n",
    "    \n",
    "    abund_dict = {}\n",
    "    with open(infile, 'r') as abunds:\n",
    "        header = abunds.readline()\n",
    "        for line in abunds:\n",
    "            line = line.split()\n",
    "            gene = line[0].split('|')[0]\n",
    "            abund = float(line[2])\n",
    "            \n",
    "            abund_dict[gene] = abund\n",
    "            \n",
    "    return abund_dict\n"
   ]
  },
  {
   "cell_type": "code",
   "execution_count": 4,
   "metadata": {},
   "outputs": [],
   "source": [
    "# Read in in vivo C. difficile transcription\n",
    "cefoperazone = read_transcription('/home/matthew/Desktop/repos/Jenior_iCdJ794_2019/data/transcript/cefoperazone_630.mapped.norm.tsv')\n",
    "clindamycin = read_transcription('/home/matthew/Desktop/repos/Jenior_iCdJ794_2019/data/transcript/clindamycin_630.mapped.norm.tsv')\n",
    "streptomycin = read_transcription('/home/matthew/Desktop/repos/Jenior_iCdJ794_2019/data/transcript/streptomycin_630.mapped.norm.tsv')\n",
    "gnotobiotic = read_transcription('/home/matthew/Desktop/repos/Jenior_iCdJ794_2019/data/transcript/gnotobiotic_630.mapped.norm.tsv')"
   ]
  },
  {
   "cell_type": "code",
   "execution_count": 5,
   "metadata": {},
   "outputs": [
    {
     "name": "stdout",
     "output_type": "stream",
     "text": [
      "\n",
      "Initializing model and integrating transcriptomic data...\n",
      "Pruning zero flux subnetworks...\n",
      "Exploring context-specific flux distributions...\n",
      "\n",
      "Reactions pruned to 288 from 1129 (74.49% change)\n",
      "Metabolites pruned to 284 from 1134 (74.96% change)\n",
      "Flux through the objective DECREASED to ~69.94 from ~89.77 (22.09% change)\n",
      "\n",
      "RIPTiDe completed in 3 seconds\n",
      "\n"
     ]
    }
   ],
   "source": [
    "cef_iCdJ794_riptide = riptide.contextualize(iCdJ794, cefoperazone)"
   ]
  },
  {
   "cell_type": "code",
   "execution_count": 6,
   "metadata": {
    "scrolled": true
   },
   "outputs": [
    {
     "name": "stdout",
     "output_type": "stream",
     "text": [
      "\n",
      "Initializing model and integrating transcriptomic data...\n",
      "Pruning zero flux subnetworks...\n",
      "Exploring context-specific flux distributions...\n",
      "\n",
      "Reactions pruned to 286 from 1129 (74.67% change)\n",
      "Metabolites pruned to 284 from 1134 (74.96% change)\n",
      "Flux through the objective DECREASED to ~73.18 from ~89.77 (18.48% change)\n",
      "\n",
      "RIPTiDe completed in 3 seconds\n",
      "\n"
     ]
    }
   ],
   "source": [
    "clinda_iCdJ794_riptide = riptide.contextualize(iCdJ794, clindamycin)"
   ]
  },
  {
   "cell_type": "code",
   "execution_count": 7,
   "metadata": {},
   "outputs": [
    {
     "name": "stdout",
     "output_type": "stream",
     "text": [
      "\n",
      "Initializing model and integrating transcriptomic data...\n",
      "Pruning zero flux subnetworks...\n",
      "Exploring context-specific flux distributions...\n",
      "\n",
      "Reactions pruned to 291 from 1129 (74.22% change)\n",
      "Metabolites pruned to 288 from 1134 (74.6% change)\n",
      "Flux through the objective DECREASED to ~74.9 from ~89.77 (16.56% change)\n",
      "\n",
      "RIPTiDe completed in 3 seconds\n",
      "\n"
     ]
    }
   ],
   "source": [
    "strep_iCdJ794_riptide = riptide.contextualize(iCdJ794, streptomycin)"
   ]
  },
  {
   "cell_type": "code",
   "execution_count": 8,
   "metadata": {},
   "outputs": [
    {
     "name": "stdout",
     "output_type": "stream",
     "text": [
      "\n",
      "Initializing model and integrating transcriptomic data...\n",
      "Pruning zero flux subnetworks...\n",
      "Exploring context-specific flux distributions...\n",
      "\n",
      "Reactions pruned to 277 from 1129 (75.47% change)\n",
      "Metabolites pruned to 279 from 1134 (75.4% change)\n",
      "Flux through the objective DECREASED to ~69.64 from ~89.77 (22.42% change)\n",
      "\n",
      "RIPTiDe completed in 3 seconds\n",
      "\n"
     ]
    }
   ],
   "source": [
    "gnoto_iCdJ794_riptide = riptide.contextualize(iCdJ794, gnotobiotic)"
   ]
  },
  {
   "cell_type": "markdown",
   "metadata": {},
   "source": [
    "### Context-specific Gene Essentiality"
   ]
  },
  {
   "cell_type": "code",
   "execution_count": 19,
   "metadata": {},
   "outputs": [
    {
     "name": "stdout",
     "output_type": "stream",
     "text": [
      "Essential genes: 43\n"
     ]
    }
   ],
   "source": [
    "# Unconstrained base model\n",
    "base_essential = essential_genes(iCdJ794)\n",
    "base_essential_ids = [x.id for x in base_essential]"
   ]
  },
  {
   "cell_type": "code",
   "execution_count": 20,
   "metadata": {},
   "outputs": [
    {
     "name": "stdout",
     "output_type": "stream",
     "text": [
      "Essential genes: 63\n"
     ]
    }
   ],
   "source": [
    "cef_essential = essential_genes(cef_iCdJ794_riptide.model)\n",
    "cef_essential_ids = [x.id for x in cef_essential]"
   ]
  },
  {
   "cell_type": "code",
   "execution_count": 21,
   "metadata": {},
   "outputs": [
    {
     "name": "stdout",
     "output_type": "stream",
     "text": [
      "Essential genes: 63\n"
     ]
    }
   ],
   "source": [
    "clinda_essential = essential_genes(clinda_iCdJ794_riptide.model)\n",
    "clinda_essential_ids = [x.id for x in clinda_essential]"
   ]
  },
  {
   "cell_type": "code",
   "execution_count": 22,
   "metadata": {},
   "outputs": [
    {
     "name": "stdout",
     "output_type": "stream",
     "text": [
      "Essential genes: 64\n"
     ]
    }
   ],
   "source": [
    "strep_essential = essential_genes(strep_iCdJ794_riptide.model)\n",
    "strep_essential_ids = [x.id for x in strep_essential]"
   ]
  },
  {
   "cell_type": "code",
   "execution_count": 23,
   "metadata": {},
   "outputs": [
    {
     "name": "stdout",
     "output_type": "stream",
     "text": [
      "Essential genes: 66\n"
     ]
    }
   ],
   "source": [
    "gnoto_essential = essential_genes(gnoto_iCdJ794_riptide.model)\n",
    "gnoto_essential_ids = [x.id for x in gnoto_essential]"
   ]
  },
  {
   "cell_type": "markdown",
   "metadata": {},
   "source": [
    "### Context-specific substrate importance"
   ]
  },
  {
   "cell_type": "code",
   "execution_count": 42,
   "metadata": {},
   "outputs": [],
   "source": [
    "import pandas\n",
    "from cobra.medium import minimal_medium\n",
    "\n",
    "def find_minimal_media(model, fraction=0.75):\n",
    "\n",
    "    max_growth = model.slim_optimize() * fraction\n",
    "    ser = minimal_medium(model, max_growth)\n",
    "\n",
    "    rxns = list(ser.index)\n",
    "    fluxes = list(ser.values)\n",
    "    cpds = []\n",
    "    for x in rxns:\n",
    "        cpds.append(model.reactions.get_by_id(x).reactants[0].name)        \n",
    "    \n",
    "    media = {'Reaction': rxns, 'Substrate': cpds, 'Fluxes': fluxes}    \n",
    "    media = pandas.DataFrame(media)\n",
    "    print('Minimal media components: ' + str(len(media.index)))\n",
    "    \n",
    "    return(media)\n"
   ]
  },
  {
   "cell_type": "code",
   "execution_count": 43,
   "metadata": {},
   "outputs": [
    {
     "name": "stdout",
     "output_type": "stream",
     "text": [
      "Minimal media components: 46\n"
     ]
    }
   ],
   "source": [
    "cef_min_media = find_minimal_media(cef_iCdJ794_riptide.model)"
   ]
  },
  {
   "cell_type": "code",
   "execution_count": 44,
   "metadata": {},
   "outputs": [
    {
     "name": "stdout",
     "output_type": "stream",
     "text": [
      "Minimal media components: 46\n"
     ]
    }
   ],
   "source": [
    "clinda_min_media = find_minimal_media(clinda_iCdJ794_riptide.model)"
   ]
  },
  {
   "cell_type": "code",
   "execution_count": 45,
   "metadata": {},
   "outputs": [
    {
     "name": "stdout",
     "output_type": "stream",
     "text": [
      "Minimal media components: 45\n"
     ]
    }
   ],
   "source": [
    "strep_min_media = find_minimal_media(strep_iCdJ794_riptide.model)"
   ]
  },
  {
   "cell_type": "code",
   "execution_count": 46,
   "metadata": {},
   "outputs": [
    {
     "name": "stdout",
     "output_type": "stream",
     "text": [
      "Minimal media components: 45\n"
     ]
    }
   ],
   "source": [
    "gnoto_min_media = find_minimal_media(gnoto_iCdJ794_riptide.model)"
   ]
  },
  {
   "cell_type": "markdown",
   "metadata": {},
   "source": [
    "### Sampling fluxes"
   ]
  },
  {
   "cell_type": "code",
   "execution_count": 73,
   "metadata": {},
   "outputs": [],
   "source": [
    "from cobra.util import solver\n",
    "from cobra.sampling import optgp\n",
    "\n",
    "\n",
    "def sample_optimal_fluxes(model, fraction_of_optimum=0.75, samples=1000):\n",
    "    \n",
    "    solver.fix_objective_as_constraint(model, fraction=fraction_of_optimum)\n",
    "    sampling_object = optgp.OptGPSampler(model)\n",
    "    flux_samples = sampling_object.sample(samples)\n",
    "    \n",
    "    return flux_samples\n"
   ]
  },
  {
   "cell_type": "code",
   "execution_count": 74,
   "metadata": {
    "scrolled": true
   },
   "outputs": [],
   "source": [
    "cef_samples = sample_optimal_fluxes(cef_iCdJ794_riptide.model)"
   ]
  },
  {
   "cell_type": "code",
   "execution_count": 75,
   "metadata": {
    "scrolled": true
   },
   "outputs": [],
   "source": [
    "clinda_samples = sample_optimal_fluxes(clinda_iCdJ794_riptide.model)"
   ]
  },
  {
   "cell_type": "code",
   "execution_count": 76,
   "metadata": {
    "scrolled": true
   },
   "outputs": [],
   "source": [
    "strep_samples = sample_optimal_fluxes(strep_iCdJ794_riptide.model)"
   ]
  },
  {
   "cell_type": "code",
   "execution_count": 77,
   "metadata": {
    "scrolled": true
   },
   "outputs": [],
   "source": [
    "gnoto_samples = sample_optimal_fluxes(gnoto_iCdJ794_riptide.model)"
   ]
  },
  {
   "cell_type": "code",
   "execution_count": 81,
   "metadata": {},
   "outputs": [],
   "source": [
    "cef_samples.to_csv ('~/Desktop/cef_flux_samples.tsv', sep='\\t', index=None, header=True)\n",
    "clinda_samples.to_csv ('~/Desktop/clinda_flux_samples.tsv', sep='\\t', index=None, header=True)\n",
    "strep_samples.to_csv ('~/Desktop/strep_flux_samples.tsv', sep='\\t', index=None, header=True)\n",
    "gnoto_samples.to_csv ('~/Desktop/gnoto_flux_samples.tsv', sep='\\t', index=None, header=True)"
   ]
  },
  {
   "cell_type": "code",
   "execution_count": null,
   "metadata": {},
   "outputs": [],
   "source": []
  }
 ],
 "metadata": {
  "kernelspec": {
   "display_name": "Python 3",
   "language": "python",
   "name": "python3"
  },
  "language_info": {
   "codemirror_mode": {
    "name": "ipython",
    "version": 3
   },
   "file_extension": ".py",
   "mimetype": "text/x-python",
   "name": "python",
   "nbconvert_exporter": "python",
   "pygments_lexer": "ipython3",
   "version": "3.7.3"
  }
 },
 "nbformat": 4,
 "nbformat_minor": 2
}
