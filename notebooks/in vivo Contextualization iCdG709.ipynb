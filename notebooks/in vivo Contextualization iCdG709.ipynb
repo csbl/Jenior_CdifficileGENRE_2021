{
 "cells": [
  {
   "cell_type": "code",
   "execution_count": 1,
   "metadata": {},
   "outputs": [],
   "source": [
    "#from riptide import *\n",
    "#iCdG698 = cobra.io.load_json_model('/home/mjenior/Desktop/repos/Jenior_Cdifficile_2019/data/reconstructions/iCdG698.json')\n",
    "#iCdG698.reactions.rxn05178_c.bounds = (0., 1000.)"
   ]
  },
  {
   "cell_type": "code",
   "execution_count": 1,
   "metadata": {},
   "outputs": [],
   "source": [
    "from riptide import *\n",
    "iCdG698 = cobra.io.load_json_model('/home/mjenior/Desktop/repos/Jenior_Cdifficile_2019/data/reconstructions/iCdG709.json')\n",
    "iCdG698.reactions.rxn05178_c.bounds = (0., 1000.)"
   ]
  },
  {
   "cell_type": "code",
   "execution_count": 2,
   "metadata": {},
   "outputs": [
    {
     "data": {
      "text/html": [
       "\n",
       "        <table>\n",
       "            <tr>\n",
       "                <td><strong>Reaction identifier</strong></td><td>rxn00297_c</td>\n",
       "            </tr><tr>\n",
       "                <td><strong>Name</strong></td><td>UDP-N-acetyl-D-glucosamine 2-epimerase</td>\n",
       "            </tr><tr>\n",
       "                <td><strong>Memory address</strong></td>\n",
       "                <td>0x07f56807e3410</td>\n",
       "            </tr><tr>\n",
       "                <td><strong>Stoichiometry</strong></td>\n",
       "                <td>\n",
       "                    <p style='text-align:right'>cpd00037_c <=> cpd00861_c</p>\n",
       "                    <p style='text-align:right'>UDP-N-acetylglucosamine <=> UDP-N-acetyl-D-mannosamine</p>\n",
       "                </td>\n",
       "            </tr><tr>\n",
       "                <td><strong>GPR</strong></td><td>272563.8.peg.1085</td>\n",
       "            </tr><tr>\n",
       "                <td><strong>Lower bound</strong></td><td>-1000.0</td>\n",
       "            </tr><tr>\n",
       "                <td><strong>Upper bound</strong></td><td>1000.0</td>\n",
       "            </tr>\n",
       "        </table>\n",
       "        "
      ],
      "text/plain": [
       "<Reaction rxn00297_c at 0x7f56807e3410>"
      ]
     },
     "execution_count": 2,
     "metadata": {},
     "output_type": "execute_result"
    }
   ],
   "source": [
    "iCdG698.reactions.rxn00297_c"
   ]
  },
  {
   "cell_type": "markdown",
   "metadata": {},
   "source": [
    "### Setting Extracellular Conditions"
   ]
  },
  {
   "cell_type": "code",
   "execution_count": 2,
   "metadata": {},
   "outputs": [],
   "source": [
    "# in vivo media analog\n",
    "gut = ['cpd00027_e', #glucose\n",
    "    'cpd00001_e', #water\n",
    "    'cpd00035_e', #alanine\n",
    " 'cpd00041_e', #aspartic acid\n",
    " 'cpd00023_e', #glutamic acid\n",
    " 'cpd00119_e', #histidine\n",
    " 'cpd00107_e', #leucine\n",
    " 'cpd00060_e', #methionine\n",
    " 'cpd00129_e', #proline\n",
    " 'cpd00161_e', #threonine\n",
    " 'cpd00051_e', #arginine\n",
    " 'cpd00069_e', #tyrosine\n",
    " 'cpd00084_e', #cysteine\n",
    " 'cpd00033_e', #glycine\n",
    " 'cpd00322_e', #isoleucine\n",
    " 'cpd00039_e', #lysine\n",
    " 'cpd00066_e', #phenylalanine\n",
    " 'cpd00054_e', #serine\n",
    " 'cpd00065_e', #tryptophan\n",
    " 'cpd00156_e', #valine\n",
    " 'cpd00220_e', #riboflavin\n",
    " 'cpd00644_e', #pantothentate(B5)\n",
    " 'cpd00393_e', #folate(B9)\n",
    " 'cpd00133_e', #niacin(PP)\n",
    " 'cpd00263_e', #Pyridoxine\n",
    " 'cpd00104_e', #Biotin\n",
    " 'cpd00149_e', #Cobalt\n",
    " 'cpd00971_e', #sodium\n",
    " 'cpd00099_e', #Chloride\n",
    " 'cpd00205_e', #potassium\n",
    " 'cpd00009_e', #phosphate\n",
    " 'cpd00063_e', #calcium\n",
    " 'cpd00254_e', #magnesium\n",
    " 'cpd10515_e', #Fe2+\n",
    " 'cpd00030_e', #Mn2+\n",
    " 'cpd00242_e', #Carbonate\n",
    " 'cpd00226_e', #hypoxanthine\n",
    " 'cpd01242_e', #thyminose\n",
    " 'cpd00307_e', #cytosine\n",
    " 'cpd00092_e', #uracil\n",
    "'cpd00117_e', #D-Alanine\n",
    "'cpd00067_e', #H+\n",
    "'cpd00567_e', #D-Proline\n",
    "'cpd00132_e', #L-Asparagine\n",
    "'cpd00053_e', #L-Glutamine\n",
    "'cpd00210_e', #Taurine\n",
    "'cpd00320_e', #D-Aspartate\n",
    "'cpd03279_e', #Deoxyinosine\n",
    "'cpd00246_e', #Inosine\n",
    "'cpd00311_e', #Guanosine\n",
    "'cpd00367_e', #Cytidine\n",
    "'cpd00277_e', #Deoxyguanosine\n",
    "'cpd00182_e', #Adenosine\n",
    "'cpd00654_e', #Deoxycytidine\n",
    "'cpd00412_e', #Deoxyuridine\n",
    "'cpd00438_e', #Deoxyadenosine\n",
    "'cpd00274_e', #Citrulline\n",
    "'cpd00186_e', #D-Glutamate\n",
    "       'cpd00281_e', # GABA\n",
    "       'cpd00232_e', # N-Acetyl-Neuraminic acid\n",
    "       'cpd00492_e', # N-Acetyl-D-mannosamine\n",
    "       'cpd29317_e'] # 4-hydroxyproline\n",
    "\n",
    "gut = set(['EX_' + x for x in gut])\n",
    "for rxn in iCdG698.exchanges: \n",
    "    rxn.bounds = (0., 1000.)\n",
    "    if rxn.id in gut:\n",
    "        rxn.bounds = (-1000., 1000.)\n",
    "\n"
   ]
  },
  {
   "cell_type": "code",
   "execution_count": 3,
   "metadata": {},
   "outputs": [
    {
     "name": "stdout",
     "output_type": "stream",
     "text": [
      "Doubling time in \"in vivo\" media: 30.99 minutes\n"
     ]
    }
   ],
   "source": [
    "doubling = round((1.0 / iCdG698.slim_optimize()) * 3200.0, 2)\n",
    "print('Doubling time in \\\"in vivo\\\" media:',doubling,'minutes')"
   ]
  },
  {
   "cell_type": "markdown",
   "metadata": {},
   "source": [
    "### RIPTiDe *in vivo* Contextualization"
   ]
  },
  {
   "cell_type": "code",
   "execution_count": 4,
   "metadata": {},
   "outputs": [],
   "source": [
    "# Read in in vivo C. difficile transcription\n",
    "low_spores = riptide.read_transcription_file('/home/mjenior/Desktop/repos/Jenior_Cdifficile_2019/data/transcript/jenior_etal/cefoperazone.format.tsv', \n",
    "                                               header=True)\n",
    "high_spores = riptide.read_transcription_file('/home/mjenior/Desktop/repos/Jenior_Cdifficile_2019/data/transcript/jenior_etal/clindamycin.format.tsv', \n",
    "                                              header=True)"
   ]
  },
  {
   "cell_type": "code",
   "execution_count": 4,
   "metadata": {},
   "outputs": [
    {
     "name": "stdout",
     "output_type": "stream",
     "text": [
      "\n",
      "Running max fit RIPTiDe for objective fraction range: 0.65 to 0.85 with intervals of 0.02 \n",
      "\n",
      "Testing minimum objective fractions...\n",
      "Fraction = 0.65 | Rho = 0.11389321351491406 ; p = 0.047247396634634814\n",
      "Fraction = 0.67 | Rho = 0.1257728931189911 ; p = 0.027560474740128522\n",
      "Fraction = 0.69 | Rho = 0.12139779278153773 ; p = 0.03348210043737028\n",
      "Fraction = 0.71 | Rho = 0.14418215324186795 ; p = 0.011297862304602932\n",
      "Fraction = 0.73 | Rho = 0.14605181890202204 ; p = 0.01027147167504856\n",
      "Fraction = 0.75 | Rho = 0.1491570863755467 ; p = 0.008748360015177878\n",
      "Fraction = 0.77 | Rho = 0.14007046573077914 ; p = 0.013879287536485995\n",
      "Fraction = 0.79 | Rho = 0.1269604021865207 ; p = 0.025391664199699123\n",
      "Fraction = 0.81 | Rho = 0.13440641700250425 ; p = 0.01735103691132872\n",
      "Fraction = 0.83 | Rho = 0.11950311287659827 ; p = 0.03287006427479083\n",
      "Fraction = 0.85 | Rho = 0.14508968342744027 ; p = 0.009237343694792758\n",
      "Testing local objective fractions to 0.75...\n",
      "Fraction = 0.74 | Rho = 0.14221378838125612 ; p = 0.012475362309648436\n",
      "Fraction = 0.76 | Rho = 0.14460388922447012 ; p = 0.011058740640581276\n",
      "\n",
      "Context-specific metabolism fit with 0.75 of optimal objective flux\n",
      "\n",
      "Max fit RIPTiDe completed in 3 minutes and 44 seconds \n",
      "\n"
     ]
    }
   ],
   "source": [
    "low_spores_riptide = riptide.maxfit_contextualize(model=iCdG698, transcriptome=low_spores)"
   ]
  },
  {
   "cell_type": "code",
   "execution_count": 5,
   "metadata": {},
   "outputs": [
    {
     "name": "stdout",
     "output_type": "stream",
     "text": [
      "\n",
      "Running max fit RIPTiDe for objective fraction range: 0.65 to 0.85 with intervals of 0.02 \n",
      "\n",
      "Testing minimum objective fractions...\n",
      "Fraction = 0.65 | Rho = 0.19022613879906866 ; p = 0.0007315638783448045\n",
      "Fraction = 0.67 | Rho = 0.17721000860410935 ; p = 0.001646340274712076\n",
      "Fraction = 0.69 | Rho = 0.18057230356648907 ; p = 0.0013353082896407683\n",
      "Fraction = 0.71 | Rho = 0.18911245069684438 ; p = 0.0007567191853443201\n",
      "Fraction = 0.73 | Rho = 0.18079682152893045 ; p = 0.0012931031500258013\n",
      "Fraction = 0.75 | Rho = 0.15819828445996653 ; p = 0.0048880226130833815\n",
      "Fraction = 0.77 | Rho = 0.13090605801922156 ; p = 0.020118785306103264\n",
      "Fraction = 0.79 | Rho = 0.1779888552713064 ; p = 0.0015688998998330597\n",
      "Fraction = 0.81 | Rho = 0.17672596939650295 ; p = 0.0016672135726048534\n",
      "Fraction = 0.83 | Rho = 0.17636775105797461 ; p = 0.0015642649986950326\n",
      "Fraction = 0.85 | Rho = 0.18477831636034345 ; p = 0.0009135205829352812\n",
      "Testing local objective fractions to 0.65...\n",
      "Fraction = 0.64 | Rho = 0.193688519720482 ; p = 0.0006443564113270816\n",
      "Fraction = 0.66 | Rho = 0.18224602116899632 ; p = 0.0012014975755986427\n",
      "\n",
      "Context-specific metabolism fit with 0.64 of optimal objective flux\n",
      "\n",
      "Max fit RIPTiDe completed in 4 minutes and 53 seconds \n",
      "\n"
     ]
    }
   ],
   "source": [
    "high_spores_riptide = riptide.maxfit_contextualize(model=iCdG698, transcriptome=high_spores)"
   ]
  },
  {
   "cell_type": "code",
   "execution_count": 5,
   "metadata": {},
   "outputs": [
    {
     "name": "stdout",
     "output_type": "stream",
     "text": [
      "\n",
      "Initializing model and integrating transcriptomic data...\n",
      "Pruning zero flux subnetworks...\n",
      "Analyzing context-specific flux distributions...\n",
      "\n",
      "Reactions pruned to 306 from 1323 (76.87% change)\n",
      "Metabolites pruned to 306 from 1243 (75.38% change)\n",
      "Flux through the objective DECREASED to ~85.39 from ~103.25 (17.3% change)\n",
      "Context-specific metabolism correlates with transcriptome (r=0.162, p=0.005 *)\n",
      "\n",
      "RIPTiDe completed in 20 seconds\n",
      "\n",
      "\n",
      "Initializing model and integrating transcriptomic data...\n",
      "Pruning zero flux subnetworks...\n",
      "Analyzing context-specific flux distributions...\n",
      "\n",
      "Reactions pruned to 317 from 1323 (76.04% change)\n",
      "Metabolites pruned to 318 from 1243 (74.42% change)\n",
      "Flux through the objective DECREASED to ~96.87 from ~103.25 (6.18% change)\n",
      "Context-specific metabolism correlates with transcriptome (r=0.175, p=0.002 *)\n",
      "\n",
      "RIPTiDe completed in 24 seconds\n",
      "\n"
     ]
    }
   ],
   "source": [
    "low_spores_riptide = riptide.contextualize(model=iCdG698, transcriptome=low_spores, fraction=0.75)\n",
    "high_spores_riptide = riptide.contextualize(model=iCdG698, transcriptome=high_spores, fraction=0.75)"
   ]
  },
  {
   "cell_type": "code",
   "execution_count": 65,
   "metadata": {},
   "outputs": [
    {
     "name": "stdout",
     "output_type": "stream",
     "text": [
      "WARNING: Output path already exists, overwriting previous files\n",
      "WARNING: Output path already exists, overwriting previous files\n"
     ]
    }
   ],
   "source": [
    "# Write results to files\n",
    "riptide.save_output(riptide_obj=low_spores_riptide, path='/home/mjenior/Desktop/repos/Jenior_Cdifficile_2019/data/contextualized_iCdG698/riptide_low_spore')\n",
    "riptide.save_output(riptide_obj=high_spores_riptide, path='/home/mjenior/Desktop/repos/Jenior_Cdifficile_2019/data/contextualized_iCdG698/riptide_high_spore')"
   ]
  },
  {
   "cell_type": "code",
   "execution_count": 6,
   "metadata": {},
   "outputs": [],
   "source": [
    "import scipy\n",
    "\n",
    "# Save median optimal fluxes\n",
    "outFile = '/home/mjenior/Desktop/repos/Jenior_Cdifficile_2019/data/contextualized_iCdG698/riptide_low_spore/med_opt_flux.tsv'\n",
    "with open(outFile, 'w') as tsv:\n",
    "    tsv.write('Exchange reaction ID\\tSubstrate\\tMedian optimal flux\\tsignificance\\n')\n",
    "    for exch in low_spores_riptide.model.exchanges:\n",
    "        flux = numpy.median(low_spores_riptide.flux_samples[exch.id])\n",
    "        try:\n",
    "            pval = round(scipy.stats.wilcoxon(x=list(low_spores_riptide.flux_samples[exch.id]), y=list(high_spores_riptide.flux_samples[exch.id]))[1], 3)\n",
    "        except:\n",
    "            pval = 'NA'\n",
    "        if pval != 'NA':\n",
    "            if pval <= 0.05:\n",
    "                pval = 'n.s.'\n",
    "            else:\n",
    "                pval = '*'\n",
    "        substrate = list(exch.reactants)[0].name\n",
    "        entry = exch.id + '\\t' + substrate + '\\t' + str(flux) + '\\t' + pval + '\\n'\n",
    "        tsv.write(entry)\n",
    "\n",
    "outFile = '/home/mjenior/Desktop/repos/Jenior_Cdifficile_2019/data/contextualized_iCdG698/riptide_high_spore/med_opt_flux.tsv'\n",
    "with open(outFile, 'w') as tsv:\n",
    "    tsv.write('Exchange reaction ID\\tSubstrate\\tMedian optimal flux\\tsignificance\\n')\n",
    "    for exch in high_spores_riptide.model.exchanges:\n",
    "        flux = numpy.median(high_spores_riptide.flux_samples[exch.id])\n",
    "        try:\n",
    "            pval = round(scipy.stats.wilcoxon(x=list(low_spores_riptide.flux_samples[exch.id]), y=list(high_spores_riptide.flux_samples[exch.id]))[1], 3)\n",
    "        except:\n",
    "            pval = 'NA'\n",
    "        if pval != 'NA':\n",
    "            if pval <= 0.05:\n",
    "                pval = 'n.s.'\n",
    "            else:\n",
    "                pval = '*'\n",
    "        substrate = list(exch.reactants)[0].name\n",
    "        entry = exch.id + '\\t' + substrate + '\\t' + str(flux) + '\\t' + pval + '\\n'\n",
    "        tsv.write(entry)"
   ]
  },
  {
   "cell_type": "markdown",
   "metadata": {},
   "source": [
    "### Growth Rate"
   ]
  },
  {
   "cell_type": "code",
   "execution_count": 7,
   "metadata": {},
   "outputs": [
    {
     "name": "stdout",
     "output_type": "stream",
     "text": [
      "Low spores doubling time: 37.48 minutes\n",
      "High spores doubling time: 33.03 minutes\n",
      "p-value 0.013\n"
     ]
    }
   ],
   "source": [
    "from random import sample\n",
    "import scipy\n",
    "\n",
    "doubling = round((1.0 / low_spores_riptide.model.slim_optimize()) * 3200.0, 2)\n",
    "print('Low spores doubling time: ' + str(doubling) + ' minutes')\n",
    "\n",
    "doubling = round((1.0 / high_spores_riptide.model.slim_optimize()) * 3200.0, 2)\n",
    "print('High spores doubling time: ' + str(doubling) + ' minutes')\n",
    "\n",
    "pvals = []\n",
    "maxRange = len(list(low_spores_riptide.flux_samples['biomass'])) * 10\n",
    "for x in range(1, maxRange):\n",
    "        low_spores_sample = sample(list(low_spores_riptide.flux_samples['biomass']), 10)\n",
    "        high_spores_sample = sample(list(high_spores_riptide.flux_samples['biomass']), 10)\n",
    "        pvals.append(scipy.stats.wilcoxon(x=low_spores_sample, y=high_spores_sample)[1])\n",
    "print('p-value', round(numpy.median(pvals),3))"
   ]
  },
  {
   "cell_type": "markdown",
   "metadata": {},
   "source": [
    "### Context-specific Gene Essentiality"
   ]
  },
  {
   "cell_type": "code",
   "execution_count": 8,
   "metadata": {},
   "outputs": [],
   "source": [
    "import copy\n",
    "from cobra.flux_analysis.variability import find_essential_genes\n",
    "\n",
    "def essential_genes(genre, media=None, optimum_fraction=0.01):\n",
    "    model = copy.deepcopy(genre)\n",
    "    \n",
    "    # Change media conditions if necessary\n",
    "    if media is not None:\n",
    "        exchanges = ['EX_' + x for x in media]\n",
    "        for rxn in model.reactions:\n",
    "            if len(list(rxn.products)) == 0:\n",
    "                if rxn.id in exchanges:\n",
    "                    model.reactions.get_by_id(rxn.id).lower_bound = max([-1000.0,model.reactions.get_by_id(rxn.id).lower_bound])\n",
    "                else:\n",
    "                    model.reactions.get_by_id(rxn.id).lower_bound = 0.0\n",
    "    \n",
    "    # Find essential genes\n",
    "    essential_genes = find_essential_genes(model, threshold=optimum_fraction)\n",
    "    \n",
    "    return essential_genes\n",
    "                "
   ]
  },
  {
   "cell_type": "code",
   "execution_count": 9,
   "metadata": {},
   "outputs": [
    {
     "name": "stdout",
     "output_type": "stream",
     "text": [
      "Uncontextualized essential genes:  74 \n",
      "\n",
      "272563.8.peg.746\tArginyl-tRNA synthetase (EC 6.1.1.19)\n",
      "272563.8.peg.242\tPhosphoribosylamine--glycine ligase (EC 6.3.4.13)\n",
      "272563.8.peg.1519\taminodeoxychorismate lyase (EC 4.1.3.38)\n",
      "272563.8.peg.1347\tAlanyl-tRNA synthetase (EC 6.1.1.7)\n",
      "272563.8.peg.164\tSubstrate-specific component RibU of riboflavin ECF transporter\n",
      "272563.8.peg.1324\tNa(+)-dependent branched-chain amino acid transporter\n",
      "272563.8.peg.601\tThreonyl-tRNA synthetase (EC 6.1.1.3)\n",
      "272563.8.peg.2360\tAsparaginyl-tRNA synthetase (EC 6.1.1.22)\n",
      "272563.8.peg.1926\tChorismate synthase (EC 4.2.3.5)\n",
      "272563.8.peg.1924\t3-dehydroquinate synthase (EC 4.2.3.4)\n",
      "272563.8.peg.2711\tphosphopantothenoylcysteine decarboxylase (EC 4.1.1.36)\n",
      "272563.8.peg.3722\tLysyl-tRNA synthetase (class II) (EC 6.1.1.6)\n",
      "272563.8.peg.123\tRibonucleotide reductase of class III (anaerobic), large subunit (EC 1.17.4.2)\n",
      "272563.8.peg.1264\t(2E,6E)-farnesyl diphosphate synthase (EC 2.5.1.10)\n",
      "272563.8.peg.1873\targininosuccinate synthase (EC 6.3.4.5)\n",
      "272563.8.peg.3708\tMethionyl-tRNA synthetase (EC 6.1.1.10)\n",
      "272563.8.peg.2946\tdihydrofolate reductase (EC 1.5.1.3)\n",
      "272563.8.peg.262\tPutative CDP-glycerol:Poly(Glycerophosphate) glycerophosphotransferase\n",
      "272563.8.peg.1922\tMagnesium and cobalt transport protein CorA\n",
      "272563.8.peg.735\tPhenylalanyl-tRNA synthetase beta chain (EC 6.1.1.20)\n",
      "272563.8.peg.1781\tSulfur carrier protein ThiS subunit\n",
      "272563.8.peg.1908\t4-hydroxy-3-methylbut-2-enyl diphosphate reductase (EC 1.17.1.2)\n",
      "272563.8.peg.787\tABC transporter, substrate-binding protein (cluster 3, basic aa/glutamine/opines)\n",
      "272563.8.peg.62\tCysteinyl-tRNA synthetase (EC 6.1.1.16)\n",
      "272563.8.peg.2333\t3-dehydroquinate dehydratase I (EC 4.2.1.10)\n",
      "272563.8.peg.2775\tUDP-N-acetylglucosamine--N-acetylmuramyl-(pentapeptide) pyrophosphoryl-undecaprenol N-acetylglucosamine transferase (EC 2.4.1.227)\n",
      "272563.8.peg.58\tProlyl-tRNA synthetase (EC 6.1.1.15)\n",
      "272563.8.peg.2778\tPhospho-N-acetylmuramoyl-pentapeptide-transferase (EC 2.7.8.13)\n",
      "272563.8.peg.1929\tShikimate kinase I (EC 2.7.1.71)\n",
      "272563.8.peg.238\tamidophosphoribosyltransferase (EC 2.4.2.14)\n",
      "272563.8.peg.3377\taspartate-semialdehyde dehydrogenase (EC 1.2.1.11)\n",
      "272563.8.peg.734\tPhenylalanyl-tRNA synthetase alpha chain (EC 6.1.1.20)\n",
      "272563.8.peg.2552\tGlycyl-tRNA synthetase alpha chain (EC 6.1.1.14)\n",
      "272563.8.peg.2741\tIsoleucyl-tRNA synthetase (EC 6.1.1.5)\n",
      "272563.8.peg.636\tChloride channel protein\n",
      "272563.8.peg.239\tphosphoribosylformylglycinamidine cyclo-ligase (EC 6.3.3.1)\n",
      "272563.8.peg.2866\tAspartyl-tRNA synthetase (EC 6.1.1.12)\n",
      "272563.8.peg.2243\t1-deoxy-D-xylulose 5-phosphate reductoisomerase (EC 1.1.1.267)\n",
      "272563.8.peg.818\tMultimodular transpeptidase-transglycosylase (EC 2.4.1.129) (EC 3.4.-.-)\n",
      "272563.8.peg.2660\t5'-nucleotidase (EC 3.1.3.5)\n",
      "272563.8.peg.2777\tUDP-N-acetylmuramoylalanine--D-glutamate ligase (EC 6.3.2.9)\n",
      "272563.8.peg.2852\tdiglucosyldiacylglycerol synthase (LTA membrane anchor synthesis)\n",
      "272563.8.peg.57\t2-C-methyl-D-erythritol 2,4-cyclodiphosphate synthase (EC 4.6.1.12)\n",
      "272563.8.peg.1678\tThiamin-phosphate pyrophosphorylase (EC 2.5.1.3)\n",
      "272563.8.peg.243\tPhosphoribosylformylglycinamidine synthase, glutamine amidotransferase subunit (EC 6.3.5.3)\n",
      "272563.8.peg.1101\tNAD kinase (EC 2.7.1.23)\n",
      "272563.8.peg.2733\tTryptophanyl-tRNA synthetase (EC 6.1.1.2)\n",
      "272563.8.peg.3725\tPantothenate kinase type III, CoaX-like (EC 2.7.1.33)\n",
      "272563.8.peg.2166\tGlutaminyl-tRNA synthetase (EC 6.1.1.18)\n",
      "272563.8.peg.139\tUDP-N-acetylglucosamine 1-carboxyvinyltransferase (EC 2.5.1.7)\n",
      "272563.8.peg.3116\tSubstrate-specific component BioY of biotin ECF transporter\n",
      "272563.8.peg.56\t2-C-methyl-D-erythritol 4-phosphate cytidylyltransferase (EC 2.7.7.60)\n",
      "272563.8.peg.1676\tHydroxymethylpyrimidine phosphate kinase ThiD (EC 2.7.4.7)\n",
      "272563.8.peg.3565\tUDP-N-acetylenolpyruvoylglucosamine reductase (EC 1.1.1.158)\n",
      "272563.8.peg.1394\tCDP-diacylglycerol--glycerol-3-phosphate 3-phosphatidyltransferase (EC 2.7.8.5)\n",
      "272563.8.peg.2779\tUDP-N-acetylmuramoyl-tripeptide--D-alanyl-D-alanine ligase (EC 6.3.2.10) | murF\n",
      "272563.8.peg.2680\tPhosphopantetheine adenylyltransferase (EC 2.7.7.3)\n",
      "272563.8.peg.1186\tDephospho-CoA kinase (EC 2.7.1.24)\n",
      "272563.8.peg.3718\tThymidylate kinase (EC 2.7.4.9)\n",
      "272563.8.peg.2867\tHistidyl-tRNA synthetase (EC 6.1.1.21)\n",
      "272563.8.peg.1382\tRiboflavin kinase (EC 2.7.1.26)\n",
      "272563.8.peg.423\tFructose-bisphosphate aldolase class II (EC 4.1.2.13)\n",
      "272563.8.peg.1266\t1-deoxy-D-xylulose 5-phosphate synthase (EC 2.2.1.7)\n",
      "272563.8.peg.2644\tLeucyl-tRNA synthetase (EC 6.1.1.4)\n",
      "272563.8.peg.1782\tSulfur carrier protein ThiS subunit\n",
      "272563.8.peg.240\tphosphoribosylglycinamide formyltransferase (EC 2.1.2.2)\n",
      "272563.8.peg.2085\tSubstrate-specific component TrpP of tryptophan ECF transporter\n",
      "272563.8.peg.2551\tGlycyl-tRNA synthetase beta chain (EC 6.1.1.14)\n",
      "272563.8.peg.3736\t4-diphosphocytidyl-2-C-methyl-D-erythritol kinase (EC 2.7.1.148)\n",
      "272563.8.peg.60\tGlutamyl-tRNA synthetase (EC 6.1.1.17)\n",
      "272563.8.peg.2247\tPhosphatidate cytidylyltransferase (EC 2.7.7.41)\n",
      "272563.8.peg.1597\tTyrosyl-tRNA synthetase (EC 6.1.1.1)\n",
      "272563.8.peg.3409\tValyl-tRNA synthetase (EC 6.1.1.9)\n",
      "272563.8.peg.3621\t5-formyltetrahydrofolate cyclo-ligase (EC 6.3.3.2)\n"
     ]
    }
   ],
   "source": [
    "# Unconstrained base model\n",
    "base_essential = essential_genes(iCdG698)\n",
    "base_essential_genes = set([x.id for x in base_essential])\n",
    "print('Uncontextualized essential genes: ', len(base_essential_genes), '\\n')\n",
    "for gene in base_essential_genes:\n",
    "    print(iCdG698.genes.get_by_id(gene).id + '\\t' + iCdG698.genes.get_by_id(gene).name)"
   ]
  },
  {
   "cell_type": "code",
   "execution_count": 10,
   "metadata": {},
   "outputs": [
    {
     "name": "stdout",
     "output_type": "stream",
     "text": [
      "Low spores essential genes: 27\n"
     ]
    }
   ],
   "source": [
    "low_spores_essential_genes = essential_genes(low_spores_riptide.model)\n",
    "low_spores_essential_genes = set([x.id for x in low_spores_essential_genes]).difference(base_essential_genes)\n",
    "print('Low spores essential genes: ' + str(len(low_spores_essential_genes)))"
   ]
  },
  {
   "cell_type": "code",
   "execution_count": 11,
   "metadata": {},
   "outputs": [
    {
     "name": "stdout",
     "output_type": "stream",
     "text": [
      "High spores essential genes: 37\n"
     ]
    }
   ],
   "source": [
    "high_spores_essential_genes = essential_genes(high_spores_riptide.model)\n",
    "high_spores_essential_genes = set([x.id for x in high_spores_essential_genes]).difference(base_essential_genes)\n",
    "print('High spores essential genes: ' + str(len(high_spores_essential_genes)))"
   ]
  },
  {
   "cell_type": "code",
   "execution_count": 12,
   "metadata": {},
   "outputs": [
    {
     "name": "stdout",
     "output_type": "stream",
     "text": [
      "in vivo shared:  24 \n",
      "\n",
      "272563.8.peg.2720\tPyrimidine operon regulatory protein PyrR\n",
      "272563.8.peg.2535\tPTS system, glucitol/sorbitol-specific IIB component (EC 2.7.1.198) / PTS system, glucitol/sorbitol-specific IIC component 2 | srlE_2\n",
      "272563.8.peg.1283\tPurine nucleoside phosphorylase (EC 2.4.2.1)\n",
      "272563.8.peg.866\tGlutamate synthase [NADPH] large chain (EC 1.4.1.13)\n",
      "272563.8.peg.2754\tGlycerol-3-phosphate dehydrogenase [NAD(P)+] (EC 1.1.1.94)\n",
      "272563.8.peg.2558\tcytidine deaminase (EC 3.5.4.5)\n",
      "272563.8.peg.2882\tPhosphoenolpyruvate-protein phosphotransferase of PTS system (EC 2.7.3.9)\n",
      "272563.8.peg.1085\tUDP-N-acetylglucosamine 2-epimerase (EC 5.1.3.14)\n",
      "272563.8.peg.202\taspartate carbamoyltransferase (EC 2.1.3.2)\n",
      "272563.8.peg.717\tsodium-solute symporter, putative\n",
      "272563.8.peg.3235\tTrehalose-6-phosphate hydrolase (EC 3.2.1.93)\n",
      "272563.8.peg.2872\tAdenine phosphoribosyltransferase (EC 2.4.2.7)\n",
      "272563.8.peg.1282\tphosphopentomutase (EC 5.4.2.7)\n",
      "272563.8.peg.3390\tproline racemase (EC 5.1.1.4)\n",
      "272563.8.peg.3645\turacil phosphoribosyltransferase (EC 2.4.2.9)\n",
      "272563.8.peg.1284\tpyrimidine-nucleoside phosphorylase (EC 2.4.2.2)\n",
      "272563.8.peg.2536\tPTS system, glucitol/sorbitol-specific IIC component (EC 2.7.1.69)\n",
      "272563.8.peg.1864\tABC transporter, ATP-binding protein (cluster 3, basic aa/glutamine/opines)\n",
      "272563.8.peg.1774\tSodium:alanine symporter family protein\n",
      "272563.8.peg.128\tphosphate butyryltransferase (EC 2.3.1.19)\n",
      "272563.8.peg.1565\tDNA-3-methyladenine glycosylase II (EC 3.2.2.21)\n",
      "272563.8.peg.105\tAdenylate kinase (EC 2.7.4.3)\n",
      "272563.8.peg.3557\tPyruvate kinase (EC 2.7.1.40)\n",
      "272563.120.peg.2623\tAspartate aminotransferase (EC 2.6.1.1)\n"
     ]
    }
   ],
   "source": [
    "invivo_essential_genes = low_spores_essential_genes.intersection(high_spores_essential_genes)\n",
    "print('in vivo shared: ', len(invivo_essential_genes),'\\n')\n",
    "for gene in invivo_essential_genes:\n",
    "    print(iCdG698.genes.get_by_id(gene).id + '\\t' + iCdG698.genes.get_by_id(gene).name)"
   ]
  },
  {
   "cell_type": "code",
   "execution_count": 13,
   "metadata": {},
   "outputs": [
    {
     "name": "stdout",
     "output_type": "stream",
     "text": [
      "Low spores only: 3\n",
      "272563.8.peg.3438\tGlucose-6-phosphate isomerase (EC 5.3.1.9)\n",
      "272563.8.peg.353\tManganese-dependent inorganic pyrophosphatase (EC 3.6.1.1)\n",
      "272563.8.peg.3323\tTriosephosphate isomerase (EC 5.3.1.1)\n",
      "\n",
      "High spores only: 13\n",
      "272563.8.peg.3634\tATP synthase gamma chain (EC 3.6.3.14)\n",
      "272563.8.peg.2469\tGlycine reductase component B beta subunit (EC 1.21.4.2) / Glycine reductase component B alpha subunit (EC 1.21.4.2) | grdE\n",
      "272563.8.peg.3633\tATP synthase beta chain (EC 3.6.3.14)\n",
      "272563.8.peg.766\tGlycine cleavage system H protein\n",
      "272563.8.peg.3635\tATP synthase alpha chain (EC 3.6.3.14)\n",
      "272563.8.peg.1061\tN-acetylgalactosamine-6-phosphate deacetylase | nagA\n",
      "272563.8.peg.1406\talanine transaminase (EC 2.6.1.2)\n",
      "272563.8.peg.757\tmethylenetetrahydrofolate dehydrogenase (NADP+) (EC 1.5.1.5)\n",
      "272563.8.peg.3632\tATP synthase epsilon chain (EC 3.6.3.14)\n",
      "272563.8.peg.3636\tATP synthase delta chain (EC 3.6.3.14)\n",
      "272563.8.peg.2355\tN-acetylneuraminate lyase (EC 4.1.3.3)\n",
      "272563.8.peg.2488\tL-aspartate oxidase (EC 1.4.3.16)\n",
      "272563.8.peg.3245\tPTS system, N-acetylglucosamine-specific IIC component (EC 2.7.1.69)\n"
     ]
    }
   ],
   "source": [
    "low_spores_only_essential_genes = low_spores_essential_genes.difference(high_spores_essential_genes)\n",
    "high_spores_only_essential_genes = high_spores_essential_genes.difference(low_spores_essential_genes)\n",
    "\n",
    "print('Low spores only:',len(low_spores_only_essential_genes))\n",
    "for gene in low_spores_only_essential_genes:\n",
    "    print(iCdG698.genes.get_by_id(gene).id + '\\t' + iCdG698.genes.get_by_id(gene).name)\n",
    "    \n",
    "print('\\nHigh spores only:',len(high_spores_only_essential_genes))\n",
    "for gene in high_spores_only_essential_genes:\n",
    "    print(iCdG698.genes.get_by_id(gene).id + '\\t' + iCdG698.genes.get_by_id(gene).name)"
   ]
  },
  {
   "cell_type": "code",
   "execution_count": 69,
   "metadata": {},
   "outputs": [],
   "source": [
    "# Save results to a table\n",
    "with open('/home/mjenior/Desktop/repos/Jenior_Cdifficile_2019/results/invivo_essentiality.tsv','w') as outfile:\n",
    "    entry = 'base\\t' + '\\t'.join([str(x.id) for x in base_essential]) + '\\n'\n",
    "    outfile.write(entry)\n",
    "    entry = 'in_vivo\\t' + '\\t'.join(invivo_essential_genes) + '\\n'\n",
    "    outfile.write(entry)\n",
    "    entry = 'low_sporulation\\t' + '\\t'.join(low_spores_only_essential_genes) + '\\n'\n",
    "    outfile.write(entry)\n",
    "    entry = 'high_sporulation\\t' + '\\t'.join(high_spores_only_essential_genes) + '\\n'\n",
    "    outfile.write(entry)\n"
   ]
  },
  {
   "cell_type": "markdown",
   "metadata": {},
   "source": [
    "### Context-specific Substrate Importance"
   ]
  },
  {
   "cell_type": "code",
   "execution_count": 14,
   "metadata": {},
   "outputs": [],
   "source": [
    "# Essential substrates\n",
    "\n",
    "import pandas\n",
    "from cobra.medium import minimal_medium\n",
    "\n",
    "# Non-exhaustive\n",
    "def find_essential_metabolites(model, fraction=0.01):\n",
    "\n",
    "    min_growth = model.slim_optimize() * fraction\n",
    "    ser = minimal_medium(model, min_objective_value=min_growth, minimize_components=True)\n",
    "\n",
    "    rxns = list(ser.index)\n",
    "    fluxes = list(ser.values)\n",
    "    cpds = []\n",
    "    for x in rxns: cpds.append(model.reactions.get_by_id(x).reactants[0].name)        \n",
    "    \n",
    "    media = {'Reaction': rxns, 'Substrate': cpds, 'Units': fluxes}    \n",
    "    media = pandas.DataFrame(media)\n",
    "    print('Minimal media components: ' + str(len(media.index)))\n",
    "    \n",
    "    return(media)\n"
   ]
  },
  {
   "cell_type": "code",
   "execution_count": 15,
   "metadata": {},
   "outputs": [
    {
     "name": "stdout",
     "output_type": "stream",
     "text": [
      "Minimal media components: 40\n"
     ]
    }
   ],
   "source": [
    "low_spores_min_media = find_essential_metabolites(low_spores_riptide.model)"
   ]
  },
  {
   "cell_type": "code",
   "execution_count": 16,
   "metadata": {},
   "outputs": [
    {
     "name": "stdout",
     "output_type": "stream",
     "text": [
      "Minimal media components: 41\n"
     ]
    }
   ],
   "source": [
    "high_spores_min_media = find_essential_metabolites(high_spores_riptide.model)"
   ]
  },
  {
   "cell_type": "code",
   "execution_count": 17,
   "metadata": {},
   "outputs": [
    {
     "name": "stdout",
     "output_type": "stream",
     "text": [
      "Shared: 37\n",
      "\n",
      "Low spores only: 3\n",
      "High spores only: 4\n"
     ]
    }
   ],
   "source": [
    "low_spores_substrates = set(low_spores_min_media['Substrate'])\n",
    "high_spores_substrates = set(high_spores_min_media['Substrate'])\n",
    "\n",
    "shared_substrates = low_spores_substrates.intersection(high_spores_substrates)\n",
    "low_spores_only_substrates = low_spores_substrates.difference(high_spores_substrates)\n",
    "high_spores_only_substrates = high_spores_substrates.difference(low_spores_substrates)\n",
    "\n",
    "print('Shared: ' + str(len(shared_substrates)) + '\\n')\n",
    "print('Low spores only: ' + str(len(low_spores_only_substrates)))\n",
    "print('High spores only: ' + str(len(high_spores_only_substrates)))"
   ]
  },
  {
   "cell_type": "code",
   "execution_count": 19,
   "metadata": {},
   "outputs": [
    {
     "name": "stdout",
     "output_type": "stream",
     "text": [
      "Shared components:\n",
      "L-Cysteine\n",
      "Cl-\n",
      "Co2+\n",
      "Nicotinamide\n",
      "Biotin\n",
      "L-Phenylalanine\n",
      "Folate\n",
      "Fe2+\n",
      "L-Leucine\n",
      "L-Lysine\n",
      "Pyridoxol\n",
      "L-Asparagine\n",
      "L-Tryptophan\n",
      "N-Acetyl-Neuraminic acid\n",
      "L-Arginine\n",
      "D-Glutamate\n",
      "L-Tyrosine\n",
      "K+\n",
      "L-Valine\n",
      "L-Methionine\n",
      "Pantothenate\n",
      "L-Glutamate\n",
      "Phosphate\n",
      "Deoxycytidine\n",
      "L-Threonine\n",
      "L-Alanine\n",
      "D-Alanine\n",
      "Mg\n",
      "L-Aspartate\n",
      "L-Histidine\n",
      "Na+\n",
      "D-Proline\n",
      "Deoxyuridine\n",
      "Riboflavin\n",
      "Ca2+\n",
      "Mn2+\n",
      "L-Isoleucine\n",
      "\n",
      "Low spores only:\n",
      "Guanosine\n",
      "H2O\n",
      "Adenosine\n",
      "\n",
      "High spores only:\n",
      "L-Serine\n",
      "D-Glucose\n",
      "Inosine\n",
      "Deoxyguanosine\n"
     ]
    }
   ],
   "source": [
    "print('Shared components:')\n",
    "for x in shared_substrates: print(x)\n",
    "print('\\nLow spores only:')\n",
    "for x in low_spores_only_substrates: print(x)\n",
    "print('\\nHigh spores only:')\n",
    "for x in high_spores_only_substrates: print(x)"
   ]
  },
  {
   "cell_type": "code",
   "execution_count": 20,
   "metadata": {},
   "outputs": [],
   "source": [
    "import numpy\n",
    "import cobra\n",
    "import cobra.flux_analysis\n",
    "\n",
    "def _getKey(item):\n",
    "    return item[1]\n",
    "\n",
    "# Scale each active exchange back and examine its influence on objective flux\n",
    "def find_primary_sources(model, flux_samples=False, fraction=0.01, cutoff=0.8, pfba_fraction=0.8):\n",
    "    # Requires a model \n",
    "    # Optional: flux_samples = flux samples pandas dataframe associated with model\n",
    "    #           fraction = percent of median flux to limit exchange reactions by\n",
    "    #           cutoff = quantile of top C and N sources to report\n",
    "    #           pfba_fraction = fraction of optimal objective value for pfba solution\n",
    "\n",
    "    sources = {}\n",
    "    c_sources = []\n",
    "    c_influence = []\n",
    "    n_sources = []\n",
    "    n_influence = []\n",
    "    p_source = ['p_source', -1.0]\n",
    "    s_source = ['s_source', -1.0]\n",
    "    objVal = model.slim_optimize()\n",
    "    pfba_solution = cobra.flux_analysis.pfba(model, fraction_of_optimum=pfba_fraction)\n",
    "    \n",
    "    # Parse exchange flux samples for imported metabolites\n",
    "    exchanges = [rxn.id for rxn in model.boundary]\n",
    "    for rxn in exchanges:\n",
    "        if isinstance(flux_samples, pandas.DataFrame):\n",
    "            current_samples = list(set(flux_samples[rxn]))\n",
    "            flux = numpy.mean(current_samples)\n",
    "        else:\n",
    "            flux = pfba_solution.fluxes[rxn]\n",
    "        if flux >= -1e-6: continue # Skip exported byproducts or unused reactions\n",
    "        bound = flux * fraction\n",
    "        \n",
    "        # Test for disproportionate effect on objective\n",
    "        old_bounds = model.reactions.get_by_id(rxn).bounds\n",
    "        model.reactions.get_by_id(rxn).bounds = (bound, bound)        \n",
    "        new_objVal = model.slim_optimize()\n",
    "        model.reactions.get_by_id(rxn).bounds = old_bounds # Reset bounds\n",
    "        if str(new_objVal) == 'nan': new_objVal = objVal * fraction # Correct for nan\n",
    "        \n",
    "        # Calculate the degree of change to objective value\n",
    "        if new_objVal != objVal:\n",
    "            flux_ratio = objVal / new_objVal\n",
    "            adjustment = abs(flux) * flux_ratio\n",
    "        else:\n",
    "            adjustment = 1.\n",
    "        \n",
    "        # Normalize elemental component contributions\n",
    "        metabolite = model.reactions.get_by_id(rxn).reactants[0]\n",
    "        sources[metabolite.id] = {}\n",
    "        for element in metabolite.elements.keys():\n",
    "            element_supply = float(metabolite.elements[element]) * adjustment\n",
    "            if element_supply > 0.: element_supply = numpy.log(element_supply)\n",
    "            sources[metabolite.id][element] = element_supply\n",
    "                \n",
    "            # Identify largest sources of main elements\n",
    "            if element == 'C' and element_supply > 0.0:\n",
    "                c_sources.append([metabolite.id, element_supply])\n",
    "                c_influence.append(element_supply)\n",
    "            elif element == 'N' and element_supply > 0.0:\n",
    "                n_sources.append([metabolite.id, element_supply])\n",
    "                n_influence.append(element_supply)\n",
    "            elif element == 'P' and element_supply > 0.0:\n",
    "                p_source = [metabolite.id, element_supply]\n",
    "            elif element == 'S' and element_supply > 0.0:\n",
    "                s_source = [metabolite.id, element_supply]\n",
    "    \n",
    "    # Rank by largest contributions\n",
    "    c_sources = sorted(c_sources, reverse=True, key=_getKey)\n",
    "    n_sources = sorted(n_sources, reverse=True, key=_getKey)\n",
    "    \n",
    "    print('Top carbon sources:')\n",
    "    current = max(c_influence)\n",
    "    x = 0\n",
    "    while current >= numpy.quantile(c_influence, cutoff):\n",
    "        print(model.metabolites.get_by_id(c_sources[x][0]).name + ' (' + str(round(c_sources[x][1],3)) + ')')\n",
    "        current = c_sources[x][1]\n",
    "        x += 1\n",
    "        \n",
    "    print('\\nTop nitrogen sources:')\n",
    "    current = max(n_influence)\n",
    "    x = 0\n",
    "    while current >= numpy.quantile(n_influence, cutoff):\n",
    "        print(model.metabolites.get_by_id(n_sources[x][0]).name + ' (' + str(round(n_sources[x][1],3)) + ')')\n",
    "        current = n_sources[x][1]\n",
    "        x += 1\n",
    "        \n",
    "    print('\\nPrimary phosphorous source:')\n",
    "    print(model.metabolites.get_by_id(p_source[0]).name + ' (' + str(round(p_source[1],3)) + ')')\n",
    "    \n",
    "    print('\\nPrimary sulfur source:')\n",
    "    print(model.metabolites.get_by_id(s_source[0]).name + ' (' + str(round(s_source[1],3)) + ')')\n",
    "    \n",
    "    return sources\n"
   ]
  },
  {
   "cell_type": "code",
   "execution_count": 21,
   "metadata": {},
   "outputs": [
    {
     "name": "stdout",
     "output_type": "stream",
     "text": [
      "Top carbon sources:\n",
      "L-Isoleucine (13.03)\n",
      "Deoxyuridine (12.368)\n",
      "Adenosine (12.334)\n",
      "L-Alanine (12.021)\n",
      "D-Alanine (10.038)\n",
      "D-Glutamate (9.992)\n",
      "L-Lysine (9.958)\n",
      "L-Aspartate (9.453)\n",
      "\n",
      "Top nitrogen sources:\n",
      "Adenosine (11.641)\n",
      "L-Isoleucine (11.238)\n",
      "L-Alanine (10.922)\n",
      "Deoxyuridine (10.864)\n",
      "D-Alanine (8.939)\n",
      "L-Lysine (8.859)\n",
      "D-Glutamate (8.383)\n",
      "L-Aspartate (8.067)\n",
      "\n",
      "Primary phosphorous source:\n",
      "Phosphate (8.312)\n",
      "\n",
      "Primary sulfur source:\n",
      "L-Cysteine (5.275)\n"
     ]
    }
   ],
   "source": [
    "low_spores_sources = find_primary_sources(low_spores_riptide.model, flux_samples=low_spores_riptide.flux_samples)"
   ]
  },
  {
   "cell_type": "code",
   "execution_count": 22,
   "metadata": {},
   "outputs": [
    {
     "name": "stdout",
     "output_type": "stream",
     "text": [
      "Top carbon sources:\n",
      "L-Isoleucine (12.993)\n",
      "N-Acetyl-Neuraminic acid (12.561)\n",
      "Deoxyuridine (12.497)\n",
      "L-Alanine (12.102)\n",
      "L-Serine (11.387)\n",
      "L-Leucine (10.974)\n",
      "L-Valine (10.895)\n",
      "D-Alanine (10.167)\n",
      "\n",
      "Top nitrogen sources:\n",
      "L-Isoleucine (11.202)\n",
      "L-Alanine (11.004)\n",
      "Deoxyuridine (10.993)\n",
      "L-Serine (10.289)\n",
      "N-Acetyl-Neuraminic acid (10.163)\n",
      "L-Valine (9.286)\n",
      "L-Leucine (9.182)\n",
      "D-Alanine (9.068)\n",
      "\n",
      "Primary phosphorous source:\n",
      "Phosphate (8.46)\n",
      "\n",
      "Primary sulfur source:\n",
      "L-Cysteine (5.4)\n"
     ]
    }
   ],
   "source": [
    "high_spores_sources = find_primary_sources(high_spores_riptide.model, flux_samples=high_spores_riptide.flux_samples)"
   ]
  },
  {
   "cell_type": "markdown",
   "metadata": {},
   "source": [
    "###  Context-specific Topological Differences"
   ]
  },
  {
   "cell_type": "code",
   "execution_count": 23,
   "metadata": {},
   "outputs": [
    {
     "name": "stdout",
     "output_type": "stream",
     "text": [
      "Shared: 291\n",
      "\n",
      "Low spores only: 15\n",
      "Medium spores only: 26\n"
     ]
    }
   ],
   "source": [
    "# Shared topology - reactions\n",
    "low_spores_rxns = set([x.id for x in low_spores_riptide.model.reactions])\n",
    "high_spores_rxns = set([x.id for x in high_spores_riptide.model.reactions])\n",
    "\n",
    "shared_rxns = low_spores_rxns.intersection(high_spores_rxns)\n",
    "low_spores_only_rxns = low_spores_rxns.difference(high_spores_rxns)\n",
    "high_spores_only_rxns = high_spores_rxns.difference(low_spores_rxns)\n",
    "\n",
    "print('Shared: ' + str(len(shared_rxns)) + '\\n')\n",
    "print('Low spores only: ' + str(len(low_spores_only_rxns)))\n",
    "print('Medium spores only: ' + str(len(high_spores_only_rxns)))"
   ]
  },
  {
   "cell_type": "code",
   "execution_count": 24,
   "metadata": {},
   "outputs": [
    {
     "name": "stdout",
     "output_type": "stream",
     "text": [
      "Low spores only:\n",
      "EX_cpd00182_e\tAdenosine exchange\n",
      "rxn00690_c\tFormate:tetrahydrofolate ligase (ADP-forming)\n",
      "rxn05486_c\tN-Acetylmannosamine H+ symporter\n",
      "rxn01506_c\tN-Acetyl-D-glucosamine 6-phosphate 2-epimerase\n",
      "rxn05569_c\tD-glucosamine transport via PEP:Pyr PTS\n",
      "rxn00558_c\tD-glucose-6-phosphate aldose-ketose-isomerase\n",
      "rxn05318_c\tAdenosine hydrogen symport\n",
      "rxn08686_c\tH2O transport via diffusion\n",
      "EX_cpd00001_e\tH2O exchange\n",
      "rxn01952_c\tN-Acetylmannosamine phosphotransferase\n",
      "rxn03004_c\t10-Formyltetrahydrofolate:5'-phosphoribosylglycinamide formyltransferase\n",
      "rxn05234_c\t2'-Deoxyguanosine 5'-triphosphate:oxydized-thioredoxin 2'-oxidoreductase\n",
      "EX_cpd00276_e\tD-Glucosamine exchange\n",
      "EX_cpd00492_e\tN-Acetyl-D-mannosamine exchange\n",
      "rxn30075_c\tGlutamate dehydrogenase (NAD)\n",
      "\n",
      "High spores only:\n",
      "EX_cpd00277_e\tDeoxyguanosine exchange\n",
      "rxn05201_c\tHypoxanthine hydrogen symport\n",
      "EX_cpd01711_e\tIsobutyrate exchange\n",
      "EX_cpd00027_e\tD-Glucose exchange\n",
      "rxn14152_c\t4-methyl-2-oxopentanoate oxidoreductase\n",
      "R01174_1_c\tPhosphate butyryltransferase\n",
      "R01214_c\tL-valine aminotransferase\n",
      "rxn13140_c\tNucleoside triphosphatase\n",
      "R01174_2_c\tPhosphate butyryltransferase\n",
      "rxn09688_c\tdeoxyguanosine transport in via proton symport (periplasm)\n",
      "rxn01347_c\tUTP:Sedoheptulose 7-phosphate 1-phosphotransferase\n",
      "rxn01446_c\tDeoxyguanosine:orthophosphate ribosyltransferase\n",
      "rxn00412_c\tUTP:L-glutamine amido-ligase (ADP-forming)\n",
      "rxn01334_c\tSedoheptulose 1,7-bisphosphate D-glyceraldehyde-3-phosphate-lyase\n",
      "rxn10618_c\t2-oxoisovalerate ferredoxin reductase\n",
      "rxn05316_c\tInosine transport in via proton symport\n",
      "EX_cpd05178_e\tIsovalerate exchange\n",
      "EX_cpd00246_e\tInosine exchange\n",
      "rxn01345_c\tSedoheptulose 1,7-bisphosphate 1-phosphohydrolase\n",
      "EX_cpd00226_e\tHypoxanthine exchange\n",
      "rxn01358_c\tinosine:phosphate alpha-D-ribosyltransferase\n",
      "rxn05938_c\tpyruvate ferredoxin oxidoreductase\n",
      "ID001_c\tIsovalerate diffusion\n",
      "rxn00804_c\tLeucine aminotransferase\n",
      "ID002_c\tIsobutyrate diffusion\n",
      "rxn05226_c\tD-glucose transport via PEP:Pyr PTS\n"
     ]
    }
   ],
   "source": [
    "print('Low spores only:')\n",
    "for x in low_spores_only_rxns:\n",
    "    print(x + '\\t' + iCdG698.reactions.get_by_id(x).name)\n",
    "\n",
    "print('\\nHigh spores only:')\n",
    "for y in high_spores_only_rxns:\n",
    "    print(y + '\\t' + iCdG698.reactions.get_by_id(y).name)"
   ]
  },
  {
   "cell_type": "code",
   "execution_count": 25,
   "metadata": {},
   "outputs": [
    {
     "name": "stdout",
     "output_type": "stream",
     "text": [
      "Shared: 300\n",
      "\n",
      "Low spores only: 6\n",
      "cpd00201_c\t10-Formyltetrahydrofolate\n",
      "cpd00182_e\tAdenosine\n",
      "cpd00001_e\tH2O\n",
      "cpd00492_e\tN-Acetyl-D-mannosamine\n",
      "cpd00276_e\tD-Glucosamine\n",
      "cpd02612_c\tN-Acetylmannosamine 6-phosphate\n",
      "\n",
      "High spores only: 18\n",
      "cpd00246_c\tInosine\n",
      "cpd00277_e\tDeoxyguanosine\n",
      "cpd01711_c\tIsobutyrate\n",
      "cpd00349_c\tSedoheptulose 1,7-bisphosphate\n",
      "cpd00027_e\tD-Glucose\n",
      "cpd11620_c\tReducedferredoxin\n",
      "cpd00246_e\tInosine\n",
      "cpd00123_c\t3-Methyl-2-oxobutanoate\n",
      "cpd00277_c\tDeoxyguanosine\n",
      "cpd01882_c\tIsovaleryl-CoA\n",
      "cpd01711_e\tIsobutyrate\n",
      "cpd00200_c\t2-Oxoisocaproate\n",
      "cpd05178_c\tIsovalerate\n",
      "cpd00481_c\tIsobutyryl-CoA\n",
      "cpd05178_e\tIsovalerate\n",
      "cpd00226_c\tHypoxanthine\n",
      "cpd00226_e\tHypoxanthine\n",
      "cpd11621_c\tOxidizedferredoxin\n"
     ]
    }
   ],
   "source": [
    "# Shared topology - metabolites\n",
    "low_spores_cpds = set([x.id for x in low_spores_riptide.model.metabolites])\n",
    "high_spores_cpds = set([x.id for x in high_spores_riptide.model.metabolites])\n",
    "\n",
    "shared_cpds = low_spores_cpds.intersection(high_spores_cpds)\n",
    "low_spores_only_cpds = low_spores_cpds.difference(high_spores_cpds)\n",
    "high_spores_only_cpds = high_spores_cpds.difference(low_spores_cpds)\n",
    "\n",
    "print('Shared:',len(shared_cpds))\n",
    "\n",
    "print('\\nLow spores only:',len(low_spores_only_cpds))\n",
    "for x in low_spores_only_cpds:\n",
    "    print(x + '\\t' + iCdG698.metabolites.get_by_id(x).name)\n",
    "\n",
    "\n",
    "print('\\nHigh spores only:',len(high_spores_only_cpds))\n",
    "for y in high_spores_only_cpds:\n",
    "    print(y + '\\t' + iCdG698.metabolites.get_by_id(y).name)\n"
   ]
  },
  {
   "cell_type": "markdown",
   "metadata": {},
   "source": [
    "### Reaction essentiality"
   ]
  },
  {
   "cell_type": "code",
   "execution_count": 26,
   "metadata": {},
   "outputs": [],
   "source": [
    "import copy\n",
    "from cobra.flux_analysis.variability import find_essential_reactions\n",
    "\n",
    "def essential_reactions(genre, media=None, optimum_fraction=0.01):\n",
    "    model = copy.deepcopy(genre)\n",
    "    \n",
    "    # Change media conditions if necessary\n",
    "    if media is not None:\n",
    "        exchanges = ['EX_' + x for x in media]\n",
    "        for rxn in model.reactions:\n",
    "            if len(list(rxn.products)) == 0:\n",
    "                if rxn.id in exchanges:\n",
    "                    model.reactions.get_by_id(rxn.id).lower_bound = max([-1000.0,model.reactions.get_by_id(rxn.id).lower_bound])\n",
    "                else:\n",
    "                    model.reactions.get_by_id(rxn.id).lower_bound = 0.0\n",
    "    \n",
    "    # Find essential genes\n",
    "    essential_reactions = find_essential_reactions(model, threshold=optimum_fraction)\n",
    "    \n",
    "    return essential_reactions\n",
    "                "
   ]
  },
  {
   "cell_type": "code",
   "execution_count": 27,
   "metadata": {},
   "outputs": [
    {
     "name": "stdout",
     "output_type": "stream",
     "text": [
      "Low spores essential reactions: 248\n"
     ]
    }
   ],
   "source": [
    "low_spores_essential_reactions = essential_reactions(low_spores_riptide.model)\n",
    "low_spores_essential_reactions = set([x.id for x in low_spores_essential_reactions])\n",
    "print('Low spores essential reactions: ' + str(len(low_spores_essential_reactions)))"
   ]
  },
  {
   "cell_type": "code",
   "execution_count": 28,
   "metadata": {},
   "outputs": [
    {
     "name": "stdout",
     "output_type": "stream",
     "text": [
      "High spores essential reactions: 276\n"
     ]
    }
   ],
   "source": [
    "high_spores_essential_reactions = essential_reactions(high_spores_riptide.model)\n",
    "high_spores_essential_reactions = set([x.id for x in high_spores_essential_reactions])\n",
    "print('High spores essential reactions: ' + str(len(high_spores_essential_reactions)))"
   ]
  },
  {
   "cell_type": "code",
   "execution_count": 29,
   "metadata": {},
   "outputs": [
    {
     "name": "stdout",
     "output_type": "stream",
     "text": [
      "Low spores only: 10\n",
      "High spores only: 38\n"
     ]
    }
   ],
   "source": [
    "low_spores_only_essential_reactions = low_spores_essential_reactions.difference(high_spores_essential_reactions)\n",
    "high_spores_only_essential_reactions = high_spores_essential_reactions.difference(low_spores_essential_reactions)\n",
    "\n",
    "print('Low spores only: ' + str(len(low_spores_only_essential_reactions)))\n",
    "print('High spores only: ' + str(len(high_spores_only_essential_reactions)))"
   ]
  },
  {
   "cell_type": "code",
   "execution_count": 30,
   "metadata": {},
   "outputs": [
    {
     "name": "stdout",
     "output_type": "stream",
     "text": [
      "Low only:\n",
      "rxn00410_c UTP:ammonia ligase (ADP-forming)\n",
      "EX_cpd00182_e Adenosine exchange\n",
      "rxn00001_c diphosphate phosphohydrolase\n",
      "rxn00558_c D-glucose-6-phosphate aldose-ketose-isomerase\n",
      "rxn05318_c Adenosine hydrogen symport\n",
      "EX_cpd00311_e Guanosine exchange\n",
      "rxn05234_c 2'-Deoxyguanosine 5'-triphosphate:oxydized-thioredoxin 2'-oxidoreductase\n",
      "rxn00747_c D-glyceraldehyde-3-phosphate aldose-ketose-isomerase\n",
      "rxn01505_c N-Acetyl-D-glucosamine 1-phosphate 1,6-phosphomutase\n",
      "rxn05204_c Guanosine hydrogen symport\n",
      "\n",
      "High only:\n",
      "rxn01200_c Sedoheptulose-7-phosphate:D-glyceraldehyde-3-phosphate glycolaldehyde transferase\n",
      "rxn01322_c N-Acetylneuraminate pyruvate-lyase (N-acetyl-D-mannosamine-forming)\n",
      "rxn00777_c D-ribose-5-phosphate aldose-ketose-isomerase\n",
      "rxn00778_c D-Ribose 1,5-phosphomutase\n",
      "EX_cpd00027_e D-Glucose exchange\n",
      "rxn01484_c N-Acetyl-D-glucosamine-6-phosphate amidohydrolase\n",
      "rxn05485_c N-Acetyl-D-glucosamine transport via PEP:Pyr PTS\n",
      "rxn00907_c 5,10-methylenetetrahydrofolate:NADP+ oxidoreductase\n",
      "rxn13140_c Nucleoside triphosphatase\n",
      "rxn05227_c Aspartate oxidase\n",
      "rxn01333_c sedoheptulose-7-phosphate:D-glyceraldehyde-3-phosphate glyceronetransferase\n",
      "rxn10883_c ATP phosphohydrolase (polar-amino-acid-importing)\n",
      "rxn08168_c L-aspartate:fumarate oxidoreductase (deaminating)\n",
      "rxn12191_c Choline monooxygenase (NADP)\n",
      "rxn00555_c L-glutamine:D-fructose-6-phosphate isomerase (deaminating)\n",
      "EX_cpd00013_e Ammonia exchange\n",
      "rxn01116_c D-Ribulose-5-phosphate 3-epimerase\n",
      "rxn08061_c Acetate transport via proton symport\n",
      "rxn01138_c Adenosine:phosphate alpha-D-ribosyltransferase\n",
      "rxn05466_c Ammonia diffusion\n",
      "rxn10042_c ATP synthase\n",
      "EX_cpd00232_e Neu5Ac exchange\n",
      "rxn00785_c D-Fructose 6-phosphate:D-glyceraldehyde-3-phosphate glycolaldehyde transferase\n",
      "rxn03005_c N2-Formyl-N1-(5-phospho-D-ribosyl)glycinamide formyltransferase\n",
      "EX_cpd00054_e L-Serine exchange\n",
      "rxn29571_c Neu5Ac H+ symporter\n",
      "rxn01359_c (S)-dihydroorotate:NADP+ oxidoreductase\n",
      "rxn01345_c Sedoheptulose 1,7-bisphosphate 1-phosphohydrolase\n",
      "rxn13251_c Fumarate dependent DHORD\n",
      "rxn00692_c 5,10-Methylenetetrahydrofolate:glycine hydroxymethyltransferase\n",
      "EX_cpd00029_e Acetate exchange\n",
      "rxn12212_c FAD oxidation (electron transport complex)\n",
      "rxn10770_c Choline dehydrogenase\n",
      "rxn05289_c NADPH:oxidized-thioredoxin oxidoreductase\n",
      "EX_cpd00122_e N-Acetyl-D-glucosamine exchange\n",
      "rxn11676_c Glycine reductase\n",
      "rxn00908_c glycine synthase\n",
      "rxn05226_c D-glucose transport via PEP:Pyr PTS\n"
     ]
    }
   ],
   "source": [
    "print('Low only:')\n",
    "for x in low_spores_only_essential_reactions:\n",
    "    print(x, iCdG698.reactions.get_by_id(x).name)\n",
    "    \n",
    "print('\\nHigh only:')\n",
    "for x in high_spores_only_essential_reactions:\n",
    "    print(x, iCdG698.reactions.get_by_id(x).name)"
   ]
  },
  {
   "cell_type": "code",
   "execution_count": 31,
   "metadata": {},
   "outputs": [],
   "source": [
    "import cobra.flux_analysis\n",
    "from cobra.flux_analysis.parsimonious import pfba\n",
    "\n",
    "# Inferring media condition\n",
    "def find_substrates_and_byproducts(model):\n",
    "    \n",
    "    pfba_solv = pfba(model)\n",
    "    \n",
    "    substrates = set()\n",
    "    byproducts = set()\n",
    "    for rxn in model.boundary:\n",
    "        if pfba_solv.fluxes[rxn.id] < 0.0:\n",
    "            substrates |= set([rxn.reactants[0].id])\n",
    "        elif pfba_solv.fluxes[rxn.id] > 0.0:\n",
    "            byproducts |= set([rxn.reactants[0].id])\n",
    "\n",
    "    print(str(len(substrates)) + ' possible growth substrates found')\n",
    "    print(str(len(byproducts)) + ' possible byproducts found\\n')\n",
    "    \n",
    "    return substrates, byproducts\n",
    "\n",
    "\n",
    "# Inferring media condition\n",
    "def find_substrates_and_byproducts_riptide(riptide):\n",
    "        \n",
    "    substrates = []\n",
    "    byproducts = []\n",
    "\n",
    "    for rxn in riptide.model.exchanges:\n",
    "        \n",
    "        if numpy.median(riptide.flux_samples[rxn.id]) < -1.0:\n",
    "            substrates.append(rxn.reactants[0].id)\n",
    "        elif numpy.median(riptide.flux_samples[rxn.id]) > 1.0:\n",
    "            byproducts.append(rxn.reactants[0].id)\n",
    "            \n",
    "    substrates = set(substrates)\n",
    "    print(str(len(substrates)) + ' possible growth substrates found')\n",
    "    byproducts = set(byproducts)\n",
    "    print(str(len(byproducts)) + ' possible byproducts found\\n')\n",
    "    \n",
    "    return substrates, byproducts\n",
    "\n",
    "# Finding sources of elements\n",
    "def find_element_sources(model):\n",
    "    \n",
    "    sources = {'C':[], 'N':[], 'P':[], 'S':[]}\n",
    "    c_source = ['cpd_id', 0.0]\n",
    "    n_source = ['cpd_id', 0.0]\n",
    "    pfba_solution = pfba(model)\n",
    "    \n",
    "    # Parse exchange flux samples for imported metabolites\n",
    "    for rxn in model.boundary:\n",
    "        \n",
    "        flux = pfba_solution.fluxes[rxn.id]\n",
    "        if flux < -1e-6:\n",
    "            metabolite = rxn.reactants[0]\n",
    "            sources[metabolite.id] = {}\n",
    "            \n",
    "            # Multiply elemental components by median flux absolute value\n",
    "            for element in metabolite.elements.keys():\n",
    "                element_supply = float(metabolite.elements[element]) * abs(flux)\n",
    "                element_supply = round(numpy.log(element_supply), 3)\n",
    "                sources[metabolite.id][element] = element_supply\n",
    "                \n",
    "                # Identify largest sources of carbon and nitrogen\n",
    "                if element == 'C' and element_supply > c_source[1]:\n",
    "                    c_source = [metabolite.id, element_supply]\n",
    "                    sources['C'].append(c_source)\n",
    "                elif element == 'N' and element_supply > n_source[1]:\n",
    "                    n_source = [metabolite.id, element_supply]\n",
    "                    sources['N'].append(n_source)\n",
    "                elif element == 'P' and element_supply > 0.0:\n",
    "                    p_source = [metabolite.id, element_supply]\n",
    "                    sources['P'].append(p_source)\n",
    "                elif element == 'S' and element_supply > 0.0:\n",
    "                    s_source = [metabolite.id, element_supply]\n",
    "                    sources['S'].append(s_source)\n",
    "                    \n",
    "    print('Primary carbon source: ' + model.metabolites.get_by_id(c_source[0]).name + ' (' + str(c_source[1]) + ')')\n",
    "    print('Primary nitrogen source: ' + model.metabolites.get_by_id(n_source[0]).name + ' (' + str(n_source[1]) + ')')\n",
    "    print('Primary phosphorus source: ' + model.metabolites.get_by_id(p_source[0]).name + ' (' + str(p_source[1]) + ')')\n",
    "    print('Primary sulfur source: ' + model.metabolites.get_by_id(s_source[0]).name + ' (' + str(s_source[1]) + ')')\n",
    "\n",
    "    return sources\n",
    "\n",
    "# Finding sources of elements\n",
    "def find_element_sources_riptide(riptide):\n",
    "    \n",
    "    sources = {'C':[], 'N':[], 'P':[], 'S':[]}\n",
    "    c_source = ['cpd_id', 0.0]\n",
    "    n_source = ['cpd_id', 0.0]\n",
    "    pfba_solution = cobra.flux_analysis.pfba(riptide.model, fraction_of_optimum=0.8)\n",
    "    baseline = pfba_solution.objective_value\n",
    "    \n",
    "    # Parse exchange flux samples for imported metabolites\n",
    "    for rxn in riptide.model.boundary:\n",
    "        \n",
    "        # Test for disproportionate effect on objective\n",
    "        flux = min(riptide.flux_samples[rxn.id])\n",
    "        if flux >= -1e-6: continue # Skip exported byproducts or unused reactions\n",
    "        new_bound = flux * 0.01\n",
    "        old_bounds = rxn.bounds\n",
    "        rxn.bounds = (new_bound, new_bound)        \n",
    "        new_objVal = riptide.model.slim_optimize()\n",
    "        rxn.bounds = old_bounds # Reset bounds\n",
    "        if str(new_objVal) == 'nan': new_objVal = baseline * 0.01\n",
    "        \n",
    "        # Calculate the degree of change to objective value\n",
    "        if new_objVal != baseline:\n",
    "            flux_ratio = baseline / new_objVal\n",
    "            adjustment = abs(flux) * flux_ratio\n",
    "        else:\n",
    "            adjustment = 1.\n",
    "       \n",
    "        if flux < -1e-6:\n",
    "        #if min(riptide.flux_samples[rxn.id]) < -1e-6:\n",
    "            #flux = abs(min(riptide.flux_samples[rxn.id]))\n",
    "            metabolite = rxn.reactants[0]\n",
    "            sources[metabolite.id] = {}\n",
    "            \n",
    "            # Multiply elemental components by median flux absolute value\n",
    "            for element in metabolite.elements.keys():\n",
    "                #element_supply = round(float(metabolite.elements[element]) * flux, 3)\n",
    "                element_supply = float(metabolite.elements[element]) * adjustment\n",
    "                element_supply = round(numpy.log2(element_supply), 3)\n",
    "                sources[metabolite.id][element] = element_supply\n",
    "                \n",
    "                # Identify largest sources of carbon and nitrogen\n",
    "                if element == 'C' and element_supply > c_source[1]:\n",
    "                    c_source = [metabolite.id, element_supply]\n",
    "                    sources['C'].append(c_source)\n",
    "                elif element == 'N' and element_supply > n_source[1]:\n",
    "                    n_source = [metabolite.id, element_supply]\n",
    "                    sources['N'].append(n_source)\n",
    "                elif element == 'P' and element_supply > 0.0:\n",
    "                    p_source = [metabolite.id, element_supply]\n",
    "                    sources['P'].append(p_source)\n",
    "                elif element == 'S' and element_supply > 0.0:\n",
    "                    s_source = [metabolite.id, element_supply]\n",
    "                    sources['S'].append(s_source)\n",
    "                    \n",
    "    print('Primary carbon source: ' + riptide.model.metabolites.get_by_id(c_source[0]).name + ' (' + str(c_source[1]) + ')')\n",
    "    print('Primary nitrogen source: ' + riptide.model.metabolites.get_by_id(n_source[0]).name + ' (' + str(n_source[1]) + ')')\n",
    "    print('Primary phosphorus source: ' + riptide.model.metabolites.get_by_id(p_source[0]).name + ' (' + str(p_source[1]) + ')')\n",
    "    print('Primary sulfur source: ' + riptide.model.metabolites.get_by_id(s_source[0]).name + ' (' + str(s_source[1]) + ')')\n",
    "\n",
    "    return sources"
   ]
  },
  {
   "cell_type": "code",
   "execution_count": 32,
   "metadata": {},
   "outputs": [
    {
     "name": "stdout",
     "output_type": "stream",
     "text": [
      "27 possible growth substrates found\n",
      "11 possible byproducts found\n",
      "\n",
      "Primary carbon source: N-Acetyl-Neuraminic acid (9.074)\n",
      "Primary nitrogen source: Guanosine (7.686)\n",
      "Primary phosphorus source: Phosphate (3.889)\n",
      "Primary sulfur source: L-Cysteine (0.832)\n"
     ]
    }
   ],
   "source": [
    "low_spores_substrates, low_spores_byproducts = find_substrates_and_byproducts_riptide(low_spores_riptide)\n",
    "low_spores_elem_sources = find_element_sources(low_spores_riptide.model)"
   ]
  },
  {
   "cell_type": "code",
   "execution_count": 33,
   "metadata": {},
   "outputs": [
    {
     "name": "stdout",
     "output_type": "stream",
     "text": [
      "27 possible growth substrates found\n",
      "12 possible byproducts found\n",
      "\n",
      "Primary carbon source: Inosine (9.189)\n",
      "Primary nitrogen source: Inosine (8.272)\n",
      "Primary phosphorus source: Phosphate (4.016)\n",
      "Primary sulfur source: L-Cysteine (0.958)\n"
     ]
    }
   ],
   "source": [
    "high_spores_substrates, high_spores_byproducts = find_substrates_and_byproducts_riptide(high_spores_riptide)\n",
    "high_spores_elem_sources = find_element_sources(high_spores_riptide.model)"
   ]
  },
  {
   "cell_type": "code",
   "execution_count": 42,
   "metadata": {},
   "outputs": [
    {
     "name": "stdout",
     "output_type": "stream",
     "text": [
      "Shared: 25\n",
      "cpd00567_e D-Proline -3.599 -4.178\n",
      "cpd00322_e L-Isoleucine -907.679 -788.508\n",
      "cpd00023_e L-Glutamate -12.795 -14.85\n",
      "cpd00060_e L-Methionine -3.547 -4.117\n",
      "cpd00161_e L-Threonine -6.516 -7.562\n",
      "cpd00156_e L-Valine -8.617 -29.263\n",
      "cpd00117_e D-Alanine -68.964 -80.046\n",
      "cpd00035_e L-Alanine -559.192 -609.119\n",
      "cpd00132_e L-Asparagine -8.46 -9.819\n",
      "cpd00069_e L-Tyrosine -5.465 -6.343\n",
      "cpd00084_e L-Cysteine -1.767 -2.051\n",
      "cpd00412_e Deoxyuridine -236.115 -274.056\n",
      "cpd00119_e L-Histidine -1.787 -2.074\n",
      "cpd00107_e L-Leucine -11.954 -30.719\n",
      "cpd00067_e H+ -748.158 -719.311\n",
      "cpd00009_e Phosphate -37.598 -43.639\n",
      "cpd00186_e D-Glutamate -39.408 -45.741\n",
      "cpd00654_e Deoxycytidine -2.069 -2.401\n",
      "cpd00051_e L-Arginine -4.204 -4.879\n",
      "cpd00039_e L-Lysine -31.711 -36.806\n",
      "cpd00054_e L-Serine -118.37 -287.935\n",
      "cpd00311_e Guanosine -471.207 -324.184\n",
      "cpd00066_e L-Phenylalanine -5.754 -6.678\n",
      "cpd00041_e L-Aspartate -28.761 -33.383\n",
      "cpd00232_e N-Acetyl-Neuraminic acid -601.508 -249.263\n",
      "\n",
      "Low only: 2\n",
      "cpd00001_e H2O -282.911\n",
      "cpd00182_e Adenosine -236.573\n",
      "\n",
      "High only: 2\n",
      "cpd00277_e Deoxyguanosine -133.441\n",
      "cpd00246_e Inosine -305.482\n"
     ]
    }
   ],
   "source": [
    "shared_substrates = low_spores_substrates.intersection(high_spores_substrates)\n",
    "low_spores_only_substrates = low_spores_substrates.difference(high_spores_substrates)\n",
    "high_spores_only_substrates = high_spores_substrates.difference(low_spores_substrates)\n",
    "\n",
    "print('Shared:', len(shared_substrates))\n",
    "for x in shared_substrates:\n",
    "    exchange = 'EX_' + x\n",
    "    low_flux = round(numpy.median(low_spores_riptide.flux_samples[exchange]), 3)\n",
    "    hi_flux = round(numpy.median(high_spores_riptide.flux_samples[exchange]), 3)\n",
    "    print(x, iCdG698.metabolites.get_by_id(x).name, low_flux, hi_flux)\n",
    "\n",
    "print('\\nLow only:', len(low_spores_only_substrates))\n",
    "for x in low_spores_only_substrates:\n",
    "    exchange = 'EX_' + x\n",
    "    flux = round(numpy.median(low_spores_riptide.flux_samples[exchange]), 3)\n",
    "    print(x, iCdG698.metabolites.get_by_id(x).name, flux)\n",
    "    \n",
    "print('\\nHigh only:', len(high_spores_only_substrates))\n",
    "for x in high_spores_only_substrates:\n",
    "    exchange = 'EX_' + x\n",
    "    flux = round(numpy.median(high_spores_riptide.flux_samples[exchange]), 3)\n",
    "    print(x, iCdG698.metabolites.get_by_id(x).name, flux)"
   ]
  },
  {
   "cell_type": "code",
   "execution_count": 35,
   "metadata": {},
   "outputs": [],
   "source": [
    "high_exchanges = set([x.id for x in high_spores_riptide.model.exchanges])\n",
    "low_exchanges = set([x.id for x in low_spores_riptide.model.exchanges])\n",
    "\n",
    "shared_exchanges = low_exchanges.intersection(high_exchanges)\n",
    "high_exchanges = high_exchanges.difference(shared_exchanges)\n",
    "low_exchanges = low_exchanges.difference(shared_exchanges)"
   ]
  },
  {
   "cell_type": "code",
   "execution_count": 40,
   "metadata": {},
   "outputs": [
    {
     "name": "stdout",
     "output_type": "stream",
     "text": [
      "Reaction\tSubstrate\tLow_spores\tHigh_spores\n",
      "EX_cpd00263_e\tPyridoxol\t-0.0657\t-0.0762\n",
      "EX_cpd00132_e\tL-Asparagine\t-8.4596\t-9.819\n",
      "EX_cpd00220_e\tRiboflavin\t-0.0722\t-0.0839\n",
      "EX_cpd00051_e\tL-Arginine\t-4.2035\t-4.879\n",
      "EX_cpd00133_e\tNicotinamide\t-0.3284\t-0.3812\n",
      "EX_cpd00205_e\tK+\t-0.0657\t-0.0762\n",
      "EX_cpd00069_e\tL-Tyrosine\t-5.4646\t-6.3427\n",
      "EX_cpd00119_e\tL-Histidine\t-1.7865\t-2.0736\n",
      "EX_cpd00156_e\tL-Valine\t-8.6173\t-29.2625\n",
      "EX_cpd00438_e\tDeoxyadenosine\t244.516\t9.2003\n",
      "EX_cpd00063_e\tCa2+\t-0.0657\t-0.0762\n",
      "EX_cpd00065_e\tL-Tryptophan\t-0.8407\t-0.9758\n",
      "EX_cpd00066_e\tL-Phenylalanine\t-5.7536\t-6.6781\n",
      "EX_cpd00186_e\tD-Glutamate\t-39.4083\t-45.7407\n",
      "EX_cpd00207_e\tGuanine\t467.8335\t526.1797\n",
      "EX_cpd00013_e\tAmmonia\t810.6501\t753.4902\n",
      "EX_cpd00030_e\tMn2+\t-0.0657\t-0.0762\n",
      "EX_cpd00107_e\tL-Leucine\t-11.9538\t-30.7194\n",
      "EX_cpd00084_e\tL-Cysteine\t-1.7668\t-2.0507\n",
      "EX_cpd00161_e\tL-Threonine\t-6.5155\t-7.5625\n",
      "EX_cpd00412_e\tDeoxyuridine\t-236.1155\t-274.0562\n",
      "EX_cpd00067_e\tH+\t-748.1576\t-719.3115\n",
      "EX_cpd00104_e\tBiotin\t-0.0657\t-0.0762\n",
      "EX_cpd10515_e\tFe2+\t-0.0657\t-0.0762\n",
      "EX_cpd00023_e\tL-Glutamate\t-12.7946\t-14.8505\n",
      "EX_cpd00232_e\tN-Acetyl-Neuraminic acid\t-601.5077\t-249.2635\n",
      "EX_cpd00307_e\tCytosine\t224.0032\t259.9977\n",
      "EX_cpd00041_e\tL-Aspartate\t-28.7615\t-33.3831\n",
      "EX_cpd00644_e\tPantothenate\t-0.1379\t-0.1601\n",
      "EX_cpd19585_e\t2-Methylbutyrate\t894.185\t774.0358\n",
      "EX_cpd00060_e\tL-Methionine\t-3.5467\t-4.1167\n",
      "EX_cpd00054_e\tL-Serine\t-118.3702\t-287.9349\n",
      "EX_cpd00047_e\tFormate\t727.6191\t823.3748\n",
      "EX_cpd00567_e\tD-Proline\t-3.5993\t-4.1776\n",
      "EX_cpd00029_e\tAcetate\t1000.0\t729.5704\n",
      "EX_cpd00039_e\tL-Lysine\t-31.7105\t-36.806\n",
      "EX_cpd00971_e\tNa+\t-0.0657\t-0.0762\n",
      "EX_cpd00117_e\tD-Alanine\t-68.9645\t-80.0462\n",
      "EX_cpd00149_e\tCo2+\t-0.0657\t-0.0762\n",
      "EX_cpd00099_e\tCl-\t-0.0657\t-0.0762\n",
      "EX_cpd00322_e\tL-Isoleucine\t-907.6788\t-788.508\n",
      "EX_cpd00393_e\tFolate\t-0.0657\t-0.0762\n",
      "EX_cpd00122_e\tN-Acetyl-D-glucosamine\t650.0813\t891.6108\n",
      "EX_cpd00035_e\tL-Alanine\t-559.1916\t-609.1191\n",
      "EX_cpd00011_e\tCO2\t874.1726\t602.532\n",
      "EX_cpd00311_e\tGuanosine\t-471.2074\t-324.1843\n",
      "EX_cpd00254_e\tMg\t-0.0657\t-0.0762\n",
      "EX_cpd00009_e\tPhosphate\t-37.5979\t-43.6394\n",
      "EX_cpd00654_e\tDeoxycytidine\t-2.0689\t-2.4014\n",
      "EX_cpd00277_e\tDeoxyguanosine\t0\t-133.4407\n",
      "EX_cpd01711_e\tIsobutyrate\t0\t16.7528\n",
      "EX_cpd05178_e\tIsovalerate\t0\t16.9348\n",
      "EX_cpd00246_e\tInosine\t0\t-305.4821\n",
      "EX_cpd00027_e\tD-Glucose\t0\t-0.1334\n",
      "EX_cpd00226_e\tHypoxanthine\t0\t305.4821\n",
      "EX_cpd00276_e\tD-Glucosamine\t38.5536\t0\n",
      "EX_cpd00182_e\tAdenosine\t-236.5731\t0\n",
      "EX_cpd00492_e\tN-Acetyl-D-mannosamine\t10.9061\t0\n",
      "EX_cpd00001_e\tH2O\t-282.9115\t0\n"
     ]
    }
   ],
   "source": [
    "print('Reaction\\tSubstrate\\tLow_spores\\tHigh_spores')\n",
    "for x in shared_exchanges:\n",
    "    low_flux = numpy.median(low_spores_riptide.flux_samples[x])\n",
    "    hi_flux = numpy.median(high_spores_riptide.flux_samples[x])\n",
    "    substrate = list(iCdG698.reactions.get_by_id(x).reactants)[0].name\n",
    "    print(x + '\\t' + substrate + '\\t' + str(round(low_flux,4)) + '\\t' + str(round(hi_flux,4)))\n",
    "\n",
    "for x in high_exchanges:\n",
    "    hi_flux = numpy.median(high_spores_riptide.flux_samples[x])\n",
    "    substrate = list(iCdG698.reactions.get_by_id(x).reactants)[0].name\n",
    "    print(x + '\\t' + substrate + '\\t0\\t' + str(round(hi_flux,4)))\n",
    "    \n",
    "for x in low_exchanges:\n",
    "    low_flux = numpy.median(low_spores_riptide.flux_samples[x])\n",
    "    substrate = list(iCdG698.reactions.get_by_id(x).reactants)[0].name\n",
    "    print(x + '\\t' + substrate + '\\t' + str(round(low_flux,4)) + '\\t0')"
   ]
  },
  {
   "cell_type": "code",
   "execution_count": 37,
   "metadata": {},
   "outputs": [
    {
     "name": "stdout",
     "output_type": "stream",
     "text": [
      "Shared byproducts: 9\n",
      "Low spores only byproducts: 2\n",
      "High spores only byproducts: 3\n"
     ]
    }
   ],
   "source": [
    "shared_byproducts = low_spores_byproducts.intersection(high_spores_byproducts)\n",
    "low_spores_only_byproducts = low_spores_byproducts.difference(high_spores_byproducts)\n",
    "high_spores_only_byproducts = high_spores_byproducts.difference(low_spores_byproducts)\n",
    "\n",
    "print('Shared byproducts: ' + str(len(shared_byproducts)))\n",
    "print('Low spores only byproducts: ' + str(len(low_spores_only_byproducts)))\n",
    "print('High spores only byproducts: ' + str(len(high_spores_only_byproducts)))"
   ]
  },
  {
   "cell_type": "code",
   "execution_count": 39,
   "metadata": {},
   "outputs": [
    {
     "name": "stdout",
     "output_type": "stream",
     "text": [
      "Shared:\n",
      "cpd00207_e Guanine 467.834 526.18\n",
      "cpd00122_e N-Acetyl-D-glucosamine 650.081 891.611\n",
      "cpd00047_e Formate 727.619 823.375\n",
      "cpd00011_e CO2 874.173 602.532\n",
      "cpd00307_e Cytosine 224.003 259.998\n",
      "cpd00013_e Ammonia 810.65 753.49\n",
      "cpd19585_e 2-Methylbutyrate 894.185 774.036\n",
      "cpd00438_e Deoxyadenosine 244.516 9.2\n",
      "cpd00029_e Acetate 1000.0 729.57\n",
      "\n",
      "Low only:\n",
      "cpd00276_e D-Glucosamine 38.554\n",
      "cpd00492_e N-Acetyl-D-mannosamine 10.906\n",
      "\n",
      "High only:\n",
      "cpd05178_e Isovalerate 16.935\n",
      "cpd01711_e Isobutyrate 16.753\n",
      "cpd00226_e Hypoxanthine 305.482\n"
     ]
    }
   ],
   "source": [
    "print('Shared:')\n",
    "for x in shared_byproducts:\n",
    "    exchange = 'EX_' + x\n",
    "    low_flux = round(numpy.median(low_spores_riptide.flux_samples[exchange]), 3)\n",
    "    hi_flux = round(numpy.median(high_spores_riptide.flux_samples[exchange]), 3)\n",
    "    print(x, iCdG698.metabolites.get_by_id(x).name, low_flux, hi_flux)\n",
    "\n",
    "print('\\nLow only:')\n",
    "for x in low_spores_only_byproducts:\n",
    "    exchange = 'EX_' + x\n",
    "    flux = round(numpy.median(low_spores_riptide.flux_samples[exchange]), 3)\n",
    "    print(x, iCdG698.metabolites.get_by_id(x).name, flux)\n",
    "    \n",
    "print('\\nHigh only:')\n",
    "for x in high_spores_only_byproducts:\n",
    "    exchange = 'EX_' + x\n",
    "    flux = round(numpy.median(high_spores_riptide.flux_samples[exchange]), 3)\n",
    "    print(x, iCdG698.metabolites.get_by_id(x).name, flux)"
   ]
  },
  {
   "cell_type": "code",
   "execution_count": null,
   "metadata": {},
   "outputs": [],
   "source": []
  }
 ],
 "metadata": {
  "kernelspec": {
   "display_name": "Python 3",
   "language": "python",
   "name": "python3"
  },
  "language_info": {
   "codemirror_mode": {
    "name": "ipython",
    "version": 3
   },
   "file_extension": ".py",
   "mimetype": "text/x-python",
   "name": "python",
   "nbconvert_exporter": "python",
   "pygments_lexer": "ipython3",
   "version": "3.7.5"
  }
 },
 "nbformat": 4,
 "nbformat_minor": 2
}
