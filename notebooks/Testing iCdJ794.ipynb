{
 "cells": [
  {
   "cell_type": "code",
   "execution_count": null,
   "metadata": {},
   "outputs": [],
   "source": [
    "from riptide import *"
   ]
  },
  {
   "cell_type": "code",
   "execution_count": 5,
   "metadata": {},
   "outputs": [],
   "source": [
    "iCdJ794 = cobra.io.read_sbml_model('data/iCdJ794.sbml')"
   ]
  },
  {
   "cell_type": "code",
   "execution_count": 61,
   "metadata": {},
   "outputs": [
    {
     "data": {
      "text/html": [
       "\n",
       "        <table>\n",
       "            <tr>\n",
       "                <td><strong>Name</strong></td>\n",
       "                <td>iCdJ794</td>\n",
       "            </tr><tr>\n",
       "                <td><strong>Memory address</strong></td>\n",
       "                <td>0x07fab498bb050</td>\n",
       "            </tr><tr>\n",
       "                <td><strong>Number of metabolites</strong></td>\n",
       "                <td>1134</td>\n",
       "            </tr><tr>\n",
       "                <td><strong>Number of reactions</strong></td>\n",
       "                <td>1129</td>\n",
       "            </tr><tr>\n",
       "                <td><strong>Objective expression</strong></td>\n",
       "                <td>-1.0*biomass_reverse_01e59 + 1.0*biomass</td>\n",
       "            </tr><tr>\n",
       "                <td><strong>Compartments</strong></td>\n",
       "                <td>cytosol, extracellular</td>\n",
       "            </tr>\n",
       "          </table>"
      ],
      "text/plain": [
       "<Model iCdJ794 at 0x7fab498bb050>"
      ]
     },
     "execution_count": 61,
     "metadata": {},
     "output_type": "execute_result"
    }
   ],
   "source": [
    "iCdJ794"
   ]
  },
  {
   "cell_type": "code",
   "execution_count": 30,
   "metadata": {},
   "outputs": [
    {
     "name": "stdout",
     "output_type": "stream",
     "text": [
      "Genes: 794\n"
     ]
    }
   ],
   "source": [
    "print('Genes: ' + str(len(list(iCdJ794.genes))))"
   ]
  },
  {
   "cell_type": "code",
   "execution_count": 23,
   "metadata": {},
   "outputs": [
    {
     "name": "stdout",
     "output_type": "stream",
     "text": [
      "Exchanges: 99\n"
     ]
    }
   ],
   "source": [
    "exch = 0\n",
    "for rxn in iCdJ794.reactions:\n",
    "    if len(list(rxn.products)) == 0:\n",
    "        exch += 1\n",
    "print('Exchanges: ' + str(exch))"
   ]
  },
  {
   "cell_type": "code",
   "execution_count": 24,
   "metadata": {},
   "outputs": [
    {
     "name": "stdout",
     "output_type": "stream",
     "text": [
      "Transporters: 104\n"
     ]
    }
   ],
   "source": [
    "trans = 0\n",
    "for rxn in iCdJ794.reactions:\n",
    "    comps = set([x.compartment for x in list(rxn.reactants)] + [x.compartment for x in list(rxn.products)])\n",
    "    if len(comps) > 1:\n",
    "        trans += 1\n",
    "print('Transporters: ' + str(trans))"
   ]
  },
  {
   "cell_type": "code",
   "execution_count": 25,
   "metadata": {},
   "outputs": [
    {
     "name": "stdout",
     "output_type": "stream",
     "text": [
      "Metabolic reactions: 936\n"
     ]
    }
   ],
   "source": [
    "metab = len(list(iCdJ794.reactions)) - exch - trans\n",
    "print('Metabolic reactions: ' + str(metab))"
   ]
  },
  {
   "cell_type": "code",
   "execution_count": 29,
   "metadata": {},
   "outputs": [
    {
     "name": "stdout",
     "output_type": "stream",
     "text": [
      "Model is overdetermined\n",
      "102 metabolic reactions not associated with genes\n",
      "54 reactions are charge imbalanced\n"
     ]
    }
   ],
   "source": [
    "no_gpr, freemass, unbalanced, no_trans, no_exch = checkQuality(iCdJ794)"
   ]
  },
  {
   "cell_type": "code",
   "execution_count": 20,
   "metadata": {},
   "outputs": [
    {
     "name": "stdout",
     "output_type": "stream",
     "text": [
      "485 total reactions are blocked\n",
      "14 reactions without GPRs are blocked\n",
      "0 gapfilled reactions without GPRs are blocked\n"
     ]
    }
   ],
   "source": [
    "blocked, nogene_blocked, nogene_gapfilled_blocked = blockedReactions(iCdJ794)"
   ]
  },
  {
   "cell_type": "code",
   "execution_count": 2,
   "metadata": {},
   "outputs": [],
   "source": [
    "# Define media conditions\n",
    "mdm = ['cpd00001_e', # water\n",
    "       'cpd00065_e', # L-Tryptophan\n",
    "       'cpd00060_e', # L-Methionine\n",
    "       'cpd00322_e', # L-Isoleucine\n",
    "       'cpd00129_e', # L-Proline\n",
    "       'cpd00156_e', # L-Valine\n",
    "       'cpd00107_e', # L-Leucine\n",
    "       'cpd00084_e', # L-Cysteine \n",
    "       'cpd00149_e', # Cobalt\n",
    "       'cpd00099_e', # Chloride\n",
    "       'cpd10515_e', # Iron\n",
    "       'cpd00030_e', # Manganese\n",
    "       'cpd00254_e', # Magnesium\n",
    "       'cpd00063_e', # Calcium\n",
    "       'cpd00205_e', # Potassium\n",
    "       'cpd00009_e', # Phosphate\n",
    "       'cpd00971_e', # Sodium\n",
    "       'cpd00242_e', # Carbonate\n",
    "       'cpd00104_e', # Biotin\n",
    "       'cpd00305_e', # Thiamine\n",
    "       'cpd00263_e', # Pyridoxine\n",
    "       'cpd00027_e'] # D-Glucose (Carbohydrate C-source)\n",
    "\n",
    "# Theriot et al. (2013). Nature Communications.\n",
    "ncmm = ['cpd00001_e', # water\n",
    "        'cpd00104_e', # Biotin\n",
    "        'cpd00644_e', # Pantothenate\n",
    "        'cpd00263_e', # Pyridoxine\n",
    "        'cpd00149_e', # Cobalt\n",
    "        'cpd00099_e', # Chloride\n",
    "        'cpd10515_e', # Iron\n",
    "        'cpd00030_e', # Manganese\n",
    "        'cpd00254_e', # Magnesium\n",
    "        'cpd00063_e', # Calcium\n",
    "        'cpd00205_e', # Potassium\n",
    "        'cpd00009_e', # Phosphate\n",
    "        'cpd00971_e', # Sodium\n",
    "        'cpd00242_e', # Carbonate\n",
    "        'cpd00322_e', # L-Isoleucine\n",
    "        'cpd00129_e', # L-Proline\n",
    "        'cpd00156_e', # L-Valine\n",
    "        'cpd00107_e', # L-Leucine\n",
    "        'cpd00084_e', # L-Cysteine \n",
    "        'cpd00065_e', # L-Tryptophan\n",
    "        'cpd00060_e', # L-Methionine\n",
    "        'cpd00119_e', # L-Histidine\n",
    "        'cpd00033_e', # Glycine\n",
    "        'cpd00051_e', # L-Arginine\n",
    "        'cpd00161_e'] # L-Threonine\n"
   ]
  },
  {
   "cell_type": "code",
   "execution_count": 42,
   "metadata": {},
   "outputs": [],
   "source": [
    "# check gene essentiality\n",
    "def essentialGenesSingle(model):\n",
    "    essential = set()\n",
    "    for gene in model.genes:\n",
    "        with model as m:\n",
    "            for rxn in gene.reactions:\n",
    "                rxn.bounds = (0.0, 0.0)\n",
    "            \n",
    "            obj_val = m.slim_optimize()\n",
    "            if obj_val < 1e-6:\n",
    "                essential |= set([gene.id])\n",
    "                    \n",
    "    print('Essential single genes: ' + str(len(essential)))\n",
    "    return essential\n",
    "\n",
    "def auxotrophy(model):\n",
    "    auxotrophy = set()\n",
    "    \n",
    "    for rxn in model.reactions:\n",
    "        if len(list(rxn.products)) > 0:\n",
    "            continue\n",
    "        else:\n",
    "            with model as m:\n",
    "                rxn.lower_bound = 0.\n",
    "                obj_val = m.slim_optimize()\n",
    "                if obj_val < 1e-6:\n",
    "                    auxotrophy |= set([list(rxn.reactants)[0].name])\n",
    "    \n",
    "    print('Auxotrophies: ' + str(len(auxotrophy)))\n",
    "    return list(auxotrophy)\n",
    "    "
   ]
  },
  {
   "cell_type": "code",
   "execution_count": 70,
   "metadata": {},
   "outputs": [
    {
     "name": "stdout",
     "output_type": "stream",
     "text": [
      "Auxotrophies: 15\n"
     ]
    }
   ],
   "source": [
    "aux_complete = auxotrophy(iCdJ794)"
   ]
  },
  {
   "cell_type": "code",
   "execution_count": 71,
   "metadata": {},
   "outputs": [
    {
     "data": {
      "text/plain": [
       "['Cl-',\n",
       " 'Mg',\n",
       " 'L-Tryptophan',\n",
       " 'Pyridoxol',\n",
       " 'L-Valine',\n",
       " 'Na+',\n",
       " 'Fe2+',\n",
       " 'L-Leucine',\n",
       " 'K+',\n",
       " 'Co2+',\n",
       " 'Ca2+',\n",
       " 'Mn2+',\n",
       " 'BIOT',\n",
       " 'L-Cysteine',\n",
       " 'L-Isoleucine']"
      ]
     },
     "execution_count": 71,
     "metadata": {},
     "output_type": "execute_result"
    }
   ],
   "source": [
    "aux_complete"
   ]
  },
  {
   "cell_type": "code",
   "execution_count": 43,
   "metadata": {},
   "outputs": [
    {
     "name": "stdout",
     "output_type": "stream",
     "text": [
      "Essential single genes: 77\n"
     ]
    }
   ],
   "source": [
    "complete_essential_single = essentialGenesSingle(iCdJ794)"
   ]
  },
  {
   "cell_type": "markdown",
   "metadata": {},
   "source": [
    "### RIPTiDe *in vivo* Contextualization"
   ]
  },
  {
   "cell_type": "code",
   "execution_count": 1,
   "metadata": {},
   "outputs": [],
   "source": [
    "from riptide import *"
   ]
  },
  {
   "cell_type": "code",
   "execution_count": 2,
   "metadata": {},
   "outputs": [],
   "source": [
    "# Read in formatted transcription files\n",
    "def read_transcription(infile):\n",
    "    \n",
    "    abund_dict = {}\n",
    "    with open(infile, 'r') as abunds:\n",
    "        header = abunds.readline()\n",
    "        for line in abunds:\n",
    "            line = line.split()\n",
    "            gene = line[0].split('|')[0]\n",
    "            abund = float(line[2])\n",
    "            \n",
    "            abund_dict[gene] = abund\n",
    "            \n",
    "    return abund_dict\n"
   ]
  },
  {
   "cell_type": "code",
   "execution_count": 3,
   "metadata": {},
   "outputs": [],
   "source": [
    "# Read in in vivo C. difficile transcription\n",
    "cefoperazone = read_transcription('/home/mjenior/Desktop/repos/Jenior_iCdJ794_NPJSysBio_2019/data/transcript/cefoperazone_630.mapped.norm.tsv')\n",
    "clindamycin = read_transcription('/home/mjenior/Desktop/repos/Jenior_iCdJ794_NPJSysBio_2019/data/transcript/clindamycin_630.mapped.norm.tsv')\n",
    "streptomycin = read_transcription('/home/mjenior/Desktop/repos/Jenior_iCdJ794_NPJSysBio_2019/data/transcript/streptomycin_630.mapped.norm.tsv')\n",
    "gnotobiotic = read_transcription('/home/mjenior/Desktop/repos/Jenior_iCdJ794_NPJSysBio_2019/data/transcript/gnotobiotic_630.mapped.norm.tsv')"
   ]
  },
  {
   "cell_type": "code",
   "execution_count": 6,
   "metadata": {},
   "outputs": [
    {
     "name": "stdout",
     "output_type": "stream",
     "text": [
      "\n",
      "        RIPTiDe v1.0\n",
      "        Released: 4/3/2019\n",
      "\n",
      "        When using, please cite:\n",
      "        Jenior ML, Moutinho TJ, and Papin JA. (2019). Parsimonious transcript data integration improves context-specific predictions \n",
      "            of bacterial metabolism in complex environments. BioRxiv. DOI .\n",
      "\n",
      "        For help with available arguments, please refer to the README associated with the GitHub repository.\n",
      "        https://github.com/mjenior/riptide\n",
      "        \n",
      "Initializing model and parsing transcriptome...\n",
      "Pruning zero flux subnetworks...\n",
      "Sampling context-specific solution space (longest step)...\n",
      "\n",
      "Reactions pruned to 291 from 1129 (74.2% reduction)\n",
      "Metabolites pruned to 289 from 1134 (74.5% reduction)\n",
      "\n",
      "Flux through the objective REDUCED to 26.738 from 89.769 (70.21% shift)\n",
      "Solution space ellipsoid volume DECREASED to ~60.793 from ~9379.267 (99.35% shift)\n",
      "\n",
      "RIPTiDe completed in 4.0 minutes\n",
      "\n"
     ]
    }
   ],
   "source": [
    "iCdJ794_cef, cef_samples = riptide(iCdJ794, cefoperazone)"
   ]
  },
  {
   "cell_type": "code",
   "execution_count": null,
   "metadata": {},
   "outputs": [],
   "source": [
    "iCdJ794_clinda, clinda_samples = riptide(iCdJ794, clindamycin)"
   ]
  },
  {
   "cell_type": "code",
   "execution_count": null,
   "metadata": {},
   "outputs": [],
   "source": [
    "iCdJ794_strep, strep_samples = riptide(iCdJ794, streptomycin)"
   ]
  },
  {
   "cell_type": "code",
   "execution_count": null,
   "metadata": {},
   "outputs": [],
   "source": [
    "iCdJ794_gnoto, gnoto_samples = riptide(iCdJ794, gnotobiotic)"
   ]
  },
  {
   "cell_type": "code",
   "execution_count": null,
   "metadata": {},
   "outputs": [],
   "source": []
  }
 ],
 "metadata": {
  "kernelspec": {
   "display_name": "Python [default]",
   "language": "python",
   "name": "python2"
  },
  "language_info": {
   "codemirror_mode": {
    "name": "ipython",
    "version": 2
   },
   "file_extension": ".py",
   "mimetype": "text/x-python",
   "name": "python",
   "nbconvert_exporter": "python",
   "pygments_lexer": "ipython2",
   "version": "2.7.14"
  }
 },
 "nbformat": 4,
 "nbformat_minor": 2
}
