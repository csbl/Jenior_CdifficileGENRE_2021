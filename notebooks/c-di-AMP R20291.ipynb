{
 "cells": [
  {
   "cell_type": "markdown",
   "metadata": {},
   "source": [
    "### Contextualizing iCdR758"
   ]
  },
  {
   "cell_type": "markdown",
   "metadata": {},
   "source": [
    "#### Background: c-di-AMP is synthesized by diadenylate cyclase (DAC) enzymes that have identifiable, conserved domains. In contrast to c-di-GMP, c-di-AMP is more limited to certain gram-positive bacteria and actinobacteria. The DAC that is most highly conserved is called DacA, and the dacA gene is highly conserved in C. difficile. We’ve also determined that it’s a functional DAC. The dacA gene is usually found in an operon with dacR (also true in C. diff). DacR appears to post-translationally regulate DacA activity but, depending on which organism you study (L. monocytogenes vs. B. subtilis), DacR can positively or negatively regulate DacA. We don’t know if or in which direction DacR affects DacA in C. diff. Also in these other bacterial species, c-di-AMP affects metabolic pathways, osmotolerance, sporulation, and more, but all distinct pathways compared to what is regulated by c-di-GMP. We want to know what c-di-AMP regulates in C. difficile.\n",
    "\n",
    "#### Our approach: artificially increase c-di-AMP in C. difficile through the over-expression of dacA. We’ve cloned dacA under an inducible promoter on a plasmid (pDacA). In parallel, we cloned the dacA-dacR genes together (pDacAR). The pDacA, pDacAR, and vector (control) were introduced into 630Derm. These strains were grown in 70:30 sporulation medium with inducer to exponential phase prior to RNA isolation."
   ]
  },
  {
   "cell_type": "markdown",
   "metadata": {},
   "source": [
    "### Annotation conversion"
   ]
  },
  {
   "cell_type": "code",
   "execution_count": 8,
   "metadata": {},
   "outputs": [],
   "source": [
    "# Read in gene list from iCdR758\n",
    "cdr775_genes = []\n",
    "with open('/home/mjenior/Desktop/tamayo_analysis/cdr775_genes.tsv', 'r') as genre_genes:\n",
    "    for line in genre_genes:\n",
    "        cdr775_genes.append(line.strip())\n",
    "cdr775_genes = set(cdr775_genes)\n",
    "\n",
    "# Parse PATRIC lookup table\n",
    "refseq_dict = {}\n",
    "refseq = set()\n",
    "gene_dict = {}\n",
    "genes = set()\n",
    "with open('/home/mjenior/Desktop/tamayo_analysis/CdR20291_genes.tsv', 'r') as gene_catalog:\n",
    "    header = gene_catalog.readline()\n",
    "    for line in gene_catalog:\n",
    "        line = line.split()\n",
    "        if len(line) == 0: continue\n",
    "        \n",
    "        if not line[0] in cdr775_genes:\n",
    "            continue\n",
    "        else:\n",
    "            refseq_dict[line[1]] = line[0]\n",
    "            refseq |= set([line[1]])\n",
    "            gene_dict[line[2]] = line[0]\n",
    "            genes |= set([line[2]])\n",
    "\n",
    "# Parse RNASeq results\n",
    "rough_1 = {}\n",
    "rough_2 = {}\n",
    "smooth_2 = {}\n",
    "smooth_3 = {}\n",
    "with open('/home/mjenior/Desktop/tamayo_analysis/tamayo_rnaseq.tsv', 'r') as transcription:\n",
    "    header = transcription.readline()\n",
    "    for line in transcription:\n",
    "        line = line.split()\n",
    "        if len(line) == 0: continue\n",
    "\n",
    "        if line[0] in refseq:\n",
    "            gene = refseq_dict[line[0]]\n",
    "            rough_1[gene] = float(line[1])\n",
    "            rough_2[gene] = float(line[2])\n",
    "            smooth_2[gene] = float(line[3])\n",
    "            smooth_3[gene] = float(line[4])\n",
    "\n",
    "        elif line[0] in genes:\n",
    "            gene = gene_dict[line[0]]\n",
    "            rough_1[gene] = float(line[1])\n",
    "            rough_2[gene] = float(line[2])\n",
    "            smooth_2[gene] = float(line[3])\n",
    "            smooth_3[gene] = float(line[4])\n",
    "\n",
    "        else:\n",
    "            continue\n",
    "\n",
    "# Save to files for easier use later\n",
    "with open('/home/mjenior/Desktop/tamayo_analysis/rough_1.tsv', 'w') as outFile:\n",
    "    for index in rough_1.keys():\n",
    "        outFile.write(index + '\\t' + str(rough_1[index]) + '\\n')\n",
    "\n",
    "with open('/home/mjenior/Desktop/tamayo_analysis/rough_2.tsv', 'w') as outFile:\n",
    "    for index in rough_2.keys():\n",
    "        outFile.write(index + '\\t' + str(rough_2[index]) + '\\n')\n",
    "\n",
    "with open('/home/mjenior/Desktop/tamayo_analysis/smooth_2.tsv', 'w') as outFile:\n",
    "    for index in smooth_2.keys():\n",
    "        outFile.write(index + '\\t' + str(smooth_2[index]) + '\\n')\n",
    "\n",
    "with open('/home/mjenior/Desktop/tamayo_analysis/smooth_3.tsv', 'w') as outFile:\n",
    "    for index in smooth_3.keys():\n",
    "        outFile.write(index + '\\t' + str(smooth_3[index]) + '\\n')\n",
    "     \n",
    "     "
   ]
  },
  {
   "cell_type": "markdown",
   "metadata": {},
   "source": [
    "## Phase Variation"
   ]
  },
  {
   "cell_type": "code",
   "execution_count": 3,
   "metadata": {},
   "outputs": [
    {
     "ename": "SyntaxError",
     "evalue": "invalid syntax (<ipython-input-3-6cd363a347d4>, line 4)",
     "output_type": "error",
     "traceback": [
      "\u001b[0;36m  File \u001b[0;32m\"<ipython-input-3-6cd363a347d4>\"\u001b[0;36m, line \u001b[0;32m4\u001b[0m\n\u001b[0;31m    for rxn in iCdR758.reactions: if 'EX_' in rxn.id: rxn.bounds = (-1000.,1000.)\u001b[0m\n\u001b[0m                                   ^\u001b[0m\n\u001b[0;31mSyntaxError\u001b[0m\u001b[0;31m:\u001b[0m invalid syntax\n"
     ]
    }
   ],
   "source": [
    "from riptide import *\n",
    "\n",
    "iCdR758 = cobra.io.load_json_model('/home/mjenior/Desktop/repos/Jenior_Cdifficile_2019/data/reconstructions/iCdR758.json')\n",
    "for rxn in iCdR758.reactions:\n",
    "    if 'EX_' in rxn.id:\n",
    "        rxn.bounds = (-1000.,1000.)\n",
    "\n",
    "# Read in transcriptomes\n",
    "rough_1 = riptide.read_transcription_file('/home/mjenior/Desktop/tamayo_analysis/rough_1.tsv')        \n",
    "rough_2 = riptide.read_transcription_file('/home/mjenior/Desktop/tamayo_analysis/rough_2.tsv')        \n",
    "smooth_2 = riptide.read_transcription_file('/home/mjenior/Desktop/tamayo_analysis/smooth_2.tsv')        \n",
    "smooth_3 = riptide.read_transcription_file('/home/mjenior/Desktop/tamayo_analysis/smooth_3.tsv')   "
   ]
  },
  {
   "cell_type": "code",
   "execution_count": null,
   "metadata": {},
   "outputs": [],
   "source": []
  },
  {
   "cell_type": "code",
   "execution_count": null,
   "metadata": {},
   "outputs": [],
   "source": []
  },
  {
   "cell_type": "code",
   "execution_count": 170,
   "metadata": {},
   "outputs": [],
   "source": [
    "def checkFreeMass(raw_model, cytosol='cytosol'):\n",
    "    \n",
    "    with raw_model as model:\n",
    "        \n",
    "        # Close all exchanges\n",
    "        for index in model.boundary:\n",
    "            model.reactions.get_by_id(index.id).lower_bound = 0.\n",
    "        \n",
    "        # Identify all metabolites that are produced within the network\n",
    "        demand_metabolites = [x.reactants[0].id for x in model.demands if len(x.reactants) > 0] + [x.products[0].id for x in model.demands if len(x.products) > 0]\n",
    "\n",
    "        free = []\n",
    "        for index in model.metabolites: \n",
    "            if index.id in demand_metabolites:\n",
    "                continue\n",
    "            elif not index.compartment in cytosol:\n",
    "                continue\n",
    "            else:\n",
    "                demand = model.add_boundary(index, type='demand')\n",
    "                model.objective = demand\n",
    "                obj_val = model.slim_optimize(error_value=0.)\n",
    "                if obj_val > 1e-8:\n",
    "                    free.append(index.id)\n",
    "                model.remove_reactions([demand])\n",
    "    \n",
    "    if len(free) > 0:\n",
    "        print(str(len(free)) + ' metabolites are generated for free')\n",
    "\n",
    "    return(free)\n",
    "\n"
   ]
  },
  {
   "cell_type": "code",
   "execution_count": 171,
   "metadata": {},
   "outputs": [
    {
     "ename": "ContainerAlreadyContains",
     "evalue": "Container '<optlang.container.Container object at 0x7f75fb374f50>' already contains an object with name 'DM_cpd00515_c'.",
     "output_type": "error",
     "traceback": [
      "\u001b[0;31m---------------------------------------------------------------------------\u001b[0m",
      "\u001b[0;31mContainerAlreadyContains\u001b[0m                  Traceback (most recent call last)",
      "\u001b[0;32m<ipython-input-171-bda0e7282cf7>\u001b[0m in \u001b[0;36m<module>\u001b[0;34m\u001b[0m\n\u001b[0;32m----> 1\u001b[0;31m \u001b[0miCdR758_free\u001b[0m \u001b[0;34m=\u001b[0m \u001b[0mcheckFreeMass\u001b[0m\u001b[0;34m(\u001b[0m\u001b[0miCdR758\u001b[0m\u001b[0;34m)\u001b[0m\u001b[0;34m\u001b[0m\u001b[0;34m\u001b[0m\u001b[0m\n\u001b[0m",
      "\u001b[0;32m<ipython-input-170-3f885c8621a5>\u001b[0m in \u001b[0;36mcheckFreeMass\u001b[0;34m(raw_model, cytosol)\u001b[0m\n\u001b[1;32m     22\u001b[0m                 \u001b[0;32mif\u001b[0m \u001b[0mobj_val\u001b[0m \u001b[0;34m>\u001b[0m \u001b[0;36m1e-8\u001b[0m\u001b[0;34m:\u001b[0m\u001b[0;34m\u001b[0m\u001b[0;34m\u001b[0m\u001b[0m\n\u001b[1;32m     23\u001b[0m                     \u001b[0mfree\u001b[0m\u001b[0;34m.\u001b[0m\u001b[0mappend\u001b[0m\u001b[0;34m(\u001b[0m\u001b[0mindex\u001b[0m\u001b[0;34m.\u001b[0m\u001b[0mid\u001b[0m\u001b[0;34m)\u001b[0m\u001b[0;34m\u001b[0m\u001b[0;34m\u001b[0m\u001b[0m\n\u001b[0;32m---> 24\u001b[0;31m                 \u001b[0mmodel\u001b[0m\u001b[0;34m.\u001b[0m\u001b[0mremove_reactions\u001b[0m\u001b[0;34m(\u001b[0m\u001b[0;34m[\u001b[0m\u001b[0mdemand\u001b[0m\u001b[0;34m]\u001b[0m\u001b[0;34m)\u001b[0m\u001b[0;34m\u001b[0m\u001b[0;34m\u001b[0m\u001b[0m\n\u001b[0m\u001b[1;32m     25\u001b[0m \u001b[0;34m\u001b[0m\u001b[0m\n\u001b[1;32m     26\u001b[0m     \u001b[0;32mif\u001b[0m \u001b[0mlen\u001b[0m\u001b[0;34m(\u001b[0m\u001b[0mfree\u001b[0m\u001b[0;34m)\u001b[0m \u001b[0;34m>\u001b[0m \u001b[0;36m0\u001b[0m\u001b[0;34m:\u001b[0m\u001b[0;34m\u001b[0m\u001b[0;34m\u001b[0m\u001b[0m\n",
      "\u001b[0;32m~/.local/lib/python3.7/site-packages/cobra/core/model.py\u001b[0m in \u001b[0;36m__exit__\u001b[0;34m(self, type, value, traceback)\u001b[0m\n\u001b[1;32m   1241\u001b[0m         \u001b[0;34m\"\"\"Pop the top context manager and trigger the undo functions\"\"\"\u001b[0m\u001b[0;34m\u001b[0m\u001b[0;34m\u001b[0m\u001b[0m\n\u001b[1;32m   1242\u001b[0m         \u001b[0mcontext\u001b[0m \u001b[0;34m=\u001b[0m \u001b[0mself\u001b[0m\u001b[0;34m.\u001b[0m\u001b[0m_contexts\u001b[0m\u001b[0;34m.\u001b[0m\u001b[0mpop\u001b[0m\u001b[0;34m(\u001b[0m\u001b[0;34m)\u001b[0m\u001b[0;34m\u001b[0m\u001b[0;34m\u001b[0m\u001b[0m\n\u001b[0;32m-> 1243\u001b[0;31m         \u001b[0mcontext\u001b[0m\u001b[0;34m.\u001b[0m\u001b[0mreset\u001b[0m\u001b[0;34m(\u001b[0m\u001b[0;34m)\u001b[0m\u001b[0;34m\u001b[0m\u001b[0;34m\u001b[0m\u001b[0m\n\u001b[0m\u001b[1;32m   1244\u001b[0m \u001b[0;34m\u001b[0m\u001b[0m\n\u001b[1;32m   1245\u001b[0m     def merge(self, right, prefix_existing=None, inplace=True,\n",
      "\u001b[0;32m~/.local/lib/python3.7/site-packages/cobra/util/context.py\u001b[0m in \u001b[0;36mreset\u001b[0;34m(self)\u001b[0m\n\u001b[1;32m     34\u001b[0m         \u001b[0;32mwhile\u001b[0m \u001b[0mself\u001b[0m\u001b[0;34m.\u001b[0m\u001b[0m_history\u001b[0m\u001b[0;34m:\u001b[0m\u001b[0;34m\u001b[0m\u001b[0;34m\u001b[0m\u001b[0m\n\u001b[1;32m     35\u001b[0m             \u001b[0mentry\u001b[0m \u001b[0;34m=\u001b[0m \u001b[0mself\u001b[0m\u001b[0;34m.\u001b[0m\u001b[0m_history\u001b[0m\u001b[0;34m.\u001b[0m\u001b[0mpop\u001b[0m\u001b[0;34m(\u001b[0m\u001b[0;34m)\u001b[0m\u001b[0;34m\u001b[0m\u001b[0;34m\u001b[0m\u001b[0m\n\u001b[0;32m---> 36\u001b[0;31m             \u001b[0mentry\u001b[0m\u001b[0;34m(\u001b[0m\u001b[0;34m)\u001b[0m\u001b[0;34m\u001b[0m\u001b[0;34m\u001b[0m\u001b[0m\n\u001b[0m\u001b[1;32m     37\u001b[0m \u001b[0;34m\u001b[0m\u001b[0m\n\u001b[1;32m     38\u001b[0m \u001b[0;34m\u001b[0m\u001b[0m\n",
      "\u001b[0;32m~/.local/lib/python3.7/site-packages/cobra/core/model.py\u001b[0m in \u001b[0;36m_populate_solver\u001b[0;34m(self, reaction_list, metabolite_list)\u001b[0m\n\u001b[1;32m    991\u001b[0m \u001b[0;34m\u001b[0m\u001b[0m\n\u001b[1;32m    992\u001b[0m         \u001b[0;32mfor\u001b[0m \u001b[0mreaction\u001b[0m \u001b[0;32min\u001b[0m \u001b[0mreaction_list\u001b[0m\u001b[0;34m:\u001b[0m\u001b[0;34m\u001b[0m\u001b[0;34m\u001b[0m\u001b[0m\n\u001b[0;32m--> 993\u001b[0;31m             \u001b[0;32mif\u001b[0m \u001b[0mreaction\u001b[0m\u001b[0;34m.\u001b[0m\u001b[0mid\u001b[0m \u001b[0;32mnot\u001b[0m \u001b[0;32min\u001b[0m \u001b[0mself\u001b[0m\u001b[0;34m.\u001b[0m\u001b[0mvariables\u001b[0m\u001b[0;34m:\u001b[0m\u001b[0;34m\u001b[0m\u001b[0;34m\u001b[0m\u001b[0m\n\u001b[0m\u001b[1;32m    994\u001b[0m                 \u001b[0mforward_variable\u001b[0m \u001b[0;34m=\u001b[0m \u001b[0mself\u001b[0m\u001b[0;34m.\u001b[0m\u001b[0mproblem\u001b[0m\u001b[0;34m.\u001b[0m\u001b[0mVariable\u001b[0m\u001b[0;34m(\u001b[0m\u001b[0mreaction\u001b[0m\u001b[0;34m.\u001b[0m\u001b[0mid\u001b[0m\u001b[0;34m)\u001b[0m\u001b[0;34m\u001b[0m\u001b[0;34m\u001b[0m\u001b[0m\n\u001b[1;32m    995\u001b[0m                 \u001b[0mreverse_variable\u001b[0m \u001b[0;34m=\u001b[0m \u001b[0mself\u001b[0m\u001b[0;34m.\u001b[0m\u001b[0mproblem\u001b[0m\u001b[0;34m.\u001b[0m\u001b[0mVariable\u001b[0m\u001b[0;34m(\u001b[0m\u001b[0mreaction\u001b[0m\u001b[0;34m.\u001b[0m\u001b[0mreverse_id\u001b[0m\u001b[0;34m)\u001b[0m\u001b[0;34m\u001b[0m\u001b[0;34m\u001b[0m\u001b[0m\n",
      "\u001b[0;32m~/.local/lib/python3.7/site-packages/cobra/core/model.py\u001b[0m in \u001b[0;36mvariables\u001b[0;34m(self)\u001b[0m\n\u001b[1;32m    929\u001b[0m             \u001b[0mA\u001b[0m \u001b[0mcontainer\u001b[0m \u001b[0;32mwith\u001b[0m \u001b[0mall\u001b[0m \u001b[0massociated\u001b[0m \u001b[0mvariables\u001b[0m\u001b[0;34m.\u001b[0m\u001b[0;34m\u001b[0m\u001b[0;34m\u001b[0m\u001b[0m\n\u001b[1;32m    930\u001b[0m         \"\"\"\n\u001b[0;32m--> 931\u001b[0;31m         \u001b[0;32mreturn\u001b[0m \u001b[0mself\u001b[0m\u001b[0;34m.\u001b[0m\u001b[0msolver\u001b[0m\u001b[0;34m.\u001b[0m\u001b[0mvariables\u001b[0m\u001b[0;34m\u001b[0m\u001b[0;34m\u001b[0m\u001b[0m\n\u001b[0m\u001b[1;32m    932\u001b[0m \u001b[0;34m\u001b[0m\u001b[0m\n\u001b[1;32m    933\u001b[0m     \u001b[0;34m@\u001b[0m\u001b[0mproperty\u001b[0m\u001b[0;34m\u001b[0m\u001b[0;34m\u001b[0m\u001b[0m\n",
      "\u001b[0;32m~/.local/lib/python3.7/site-packages/optlang/interface.py\u001b[0m in \u001b[0;36mvariables\u001b[0;34m(self)\u001b[0m\n\u001b[1;32m   1202\u001b[0m     \u001b[0;32mdef\u001b[0m \u001b[0mvariables\u001b[0m\u001b[0;34m(\u001b[0m\u001b[0mself\u001b[0m\u001b[0;34m)\u001b[0m\u001b[0;34m:\u001b[0m\u001b[0;34m\u001b[0m\u001b[0;34m\u001b[0m\u001b[0m\n\u001b[1;32m   1203\u001b[0m         \u001b[0;34m\"\"\"The model variables.\"\"\"\u001b[0m\u001b[0;34m\u001b[0m\u001b[0;34m\u001b[0m\u001b[0m\n\u001b[0;32m-> 1204\u001b[0;31m         \u001b[0mself\u001b[0m\u001b[0;34m.\u001b[0m\u001b[0mupdate\u001b[0m\u001b[0;34m(\u001b[0m\u001b[0;34m)\u001b[0m\u001b[0;34m\u001b[0m\u001b[0;34m\u001b[0m\u001b[0m\n\u001b[0m\u001b[1;32m   1205\u001b[0m         \u001b[0;32mreturn\u001b[0m \u001b[0mself\u001b[0m\u001b[0;34m.\u001b[0m\u001b[0m_variables\u001b[0m\u001b[0;34m\u001b[0m\u001b[0;34m\u001b[0m\u001b[0m\n\u001b[1;32m   1206\u001b[0m \u001b[0;34m\u001b[0m\u001b[0m\n",
      "\u001b[0;32m~/.local/lib/python3.7/site-packages/optlang/interface.py\u001b[0m in \u001b[0;36mupdate\u001b[0;34m(self, callback)\u001b[0m\n\u001b[1;32m   1421\u001b[0m         \u001b[0madd_var\u001b[0m \u001b[0;34m=\u001b[0m \u001b[0mself\u001b[0m\u001b[0;34m.\u001b[0m\u001b[0m_pending_modifications\u001b[0m\u001b[0;34m.\u001b[0m\u001b[0madd_var\u001b[0m\u001b[0;34m\u001b[0m\u001b[0;34m\u001b[0m\u001b[0m\n\u001b[1;32m   1422\u001b[0m         \u001b[0;32mif\u001b[0m \u001b[0mlen\u001b[0m\u001b[0;34m(\u001b[0m\u001b[0madd_var\u001b[0m\u001b[0;34m)\u001b[0m \u001b[0;34m>\u001b[0m \u001b[0;36m0\u001b[0m\u001b[0;34m:\u001b[0m\u001b[0;34m\u001b[0m\u001b[0;34m\u001b[0m\u001b[0m\n\u001b[0;32m-> 1423\u001b[0;31m             \u001b[0mself\u001b[0m\u001b[0;34m.\u001b[0m\u001b[0m_add_variables\u001b[0m\u001b[0;34m(\u001b[0m\u001b[0madd_var\u001b[0m\u001b[0;34m)\u001b[0m\u001b[0;34m\u001b[0m\u001b[0;34m\u001b[0m\u001b[0m\n\u001b[0m\u001b[1;32m   1424\u001b[0m             \u001b[0mself\u001b[0m\u001b[0;34m.\u001b[0m\u001b[0m_pending_modifications\u001b[0m\u001b[0;34m.\u001b[0m\u001b[0madd_var\u001b[0m \u001b[0;34m=\u001b[0m \u001b[0;34m[\u001b[0m\u001b[0;34m]\u001b[0m\u001b[0;34m\u001b[0m\u001b[0;34m\u001b[0m\u001b[0m\n\u001b[1;32m   1425\u001b[0m         \u001b[0mcallback\u001b[0m\u001b[0;34m(\u001b[0m\u001b[0;34m)\u001b[0m\u001b[0;34m\u001b[0m\u001b[0;34m\u001b[0m\u001b[0m\n",
      "\u001b[0;32m~/.local/lib/python3.7/site-packages/optlang/glpk_interface.py\u001b[0m in \u001b[0;36m_add_variables\u001b[0;34m(self, variables)\u001b[0m\n\u001b[1;32m    730\u001b[0m             \u001b[0mself\u001b[0m\u001b[0;34m.\u001b[0m\u001b[0m_glpk_set_col_bounds\u001b[0m\u001b[0;34m(\u001b[0m\u001b[0mvariable\u001b[0m\u001b[0;34m)\u001b[0m\u001b[0;34m\u001b[0m\u001b[0;34m\u001b[0m\u001b[0m\n\u001b[1;32m    731\u001b[0m             \u001b[0mglp_set_col_kind\u001b[0m\u001b[0;34m(\u001b[0m\u001b[0mself\u001b[0m\u001b[0;34m.\u001b[0m\u001b[0mproblem\u001b[0m\u001b[0;34m,\u001b[0m \u001b[0mvariable\u001b[0m\u001b[0;34m.\u001b[0m\u001b[0m_index\u001b[0m\u001b[0;34m,\u001b[0m \u001b[0m_VTYPE_TO_GLPK_VTYPE\u001b[0m\u001b[0;34m[\u001b[0m\u001b[0mvariable\u001b[0m\u001b[0;34m.\u001b[0m\u001b[0mtype\u001b[0m\u001b[0;34m]\u001b[0m\u001b[0;34m)\u001b[0m\u001b[0;34m\u001b[0m\u001b[0;34m\u001b[0m\u001b[0m\n\u001b[0;32m--> 732\u001b[0;31m         \u001b[0msuper\u001b[0m\u001b[0;34m(\u001b[0m\u001b[0mModel\u001b[0m\u001b[0;34m,\u001b[0m \u001b[0mself\u001b[0m\u001b[0;34m)\u001b[0m\u001b[0;34m.\u001b[0m\u001b[0m_add_variables\u001b[0m\u001b[0;34m(\u001b[0m\u001b[0mvariables\u001b[0m\u001b[0;34m)\u001b[0m\u001b[0;34m\u001b[0m\u001b[0;34m\u001b[0m\u001b[0m\n\u001b[0m\u001b[1;32m    733\u001b[0m \u001b[0;34m\u001b[0m\u001b[0m\n\u001b[1;32m    734\u001b[0m     \u001b[0;32mdef\u001b[0m \u001b[0m_remove_variables\u001b[0m\u001b[0;34m(\u001b[0m\u001b[0mself\u001b[0m\u001b[0;34m,\u001b[0m \u001b[0mvariables\u001b[0m\u001b[0;34m)\u001b[0m\u001b[0;34m:\u001b[0m\u001b[0;34m\u001b[0m\u001b[0;34m\u001b[0m\u001b[0m\n",
      "\u001b[0;32m~/.local/lib/python3.7/site-packages/optlang/interface.py\u001b[0m in \u001b[0;36m_add_variables\u001b[0;34m(self, variables)\u001b[0m\n\u001b[1;32m   1490\u001b[0m     \u001b[0;32mdef\u001b[0m \u001b[0m_add_variables\u001b[0m\u001b[0;34m(\u001b[0m\u001b[0mself\u001b[0m\u001b[0;34m,\u001b[0m \u001b[0mvariables\u001b[0m\u001b[0;34m)\u001b[0m\u001b[0;34m:\u001b[0m\u001b[0;34m\u001b[0m\u001b[0;34m\u001b[0m\u001b[0m\n\u001b[1;32m   1491\u001b[0m         \u001b[0;32mfor\u001b[0m \u001b[0mvariable\u001b[0m \u001b[0;32min\u001b[0m \u001b[0mvariables\u001b[0m\u001b[0;34m:\u001b[0m\u001b[0;34m\u001b[0m\u001b[0;34m\u001b[0m\u001b[0m\n\u001b[0;32m-> 1492\u001b[0;31m             \u001b[0mself\u001b[0m\u001b[0;34m.\u001b[0m\u001b[0m_variables\u001b[0m\u001b[0;34m.\u001b[0m\u001b[0mappend\u001b[0m\u001b[0;34m(\u001b[0m\u001b[0mvariable\u001b[0m\u001b[0;34m)\u001b[0m\u001b[0;34m\u001b[0m\u001b[0;34m\u001b[0m\u001b[0m\n\u001b[0m\u001b[1;32m   1493\u001b[0m             \u001b[0mself\u001b[0m\u001b[0;34m.\u001b[0m\u001b[0m_variables_to_constraints_mapping\u001b[0m\u001b[0;34m[\u001b[0m\u001b[0mvariable\u001b[0m\u001b[0;34m.\u001b[0m\u001b[0mname\u001b[0m\u001b[0;34m]\u001b[0m \u001b[0;34m=\u001b[0m \u001b[0mset\u001b[0m\u001b[0;34m(\u001b[0m\u001b[0;34m[\u001b[0m\u001b[0;34m]\u001b[0m\u001b[0;34m)\u001b[0m\u001b[0;34m\u001b[0m\u001b[0;34m\u001b[0m\u001b[0m\n\u001b[1;32m   1494\u001b[0m             \u001b[0mvariable\u001b[0m\u001b[0;34m.\u001b[0m\u001b[0mproblem\u001b[0m \u001b[0;34m=\u001b[0m \u001b[0mself\u001b[0m\u001b[0;34m\u001b[0m\u001b[0;34m\u001b[0m\u001b[0m\n",
      "\u001b[0;32m~/.local/lib/python3.7/site-packages/optlang/container.py\u001b[0m in \u001b[0;36mappend\u001b[0;34m(self, value)\u001b[0m\n\u001b[1;32m    170\u001b[0m         \u001b[0mname\u001b[0m \u001b[0;34m=\u001b[0m \u001b[0mvalue\u001b[0m\u001b[0;34m.\u001b[0m\u001b[0mname\u001b[0m\u001b[0;34m\u001b[0m\u001b[0;34m\u001b[0m\u001b[0m\n\u001b[1;32m    171\u001b[0m         \u001b[0;32mif\u001b[0m \u001b[0mname\u001b[0m \u001b[0;32min\u001b[0m \u001b[0mself\u001b[0m\u001b[0;34m.\u001b[0m\u001b[0m_dict\u001b[0m\u001b[0;34m:\u001b[0m\u001b[0;34m\u001b[0m\u001b[0;34m\u001b[0m\u001b[0m\n\u001b[0;32m--> 172\u001b[0;31m             \u001b[0;32mraise\u001b[0m \u001b[0mContainerAlreadyContains\u001b[0m\u001b[0;34m(\u001b[0m\u001b[0;34m\"Container '%s' already contains an object with name '%s'.\"\u001b[0m \u001b[0;34m%\u001b[0m \u001b[0;34m(\u001b[0m\u001b[0mself\u001b[0m\u001b[0;34m,\u001b[0m \u001b[0mvalue\u001b[0m\u001b[0;34m.\u001b[0m\u001b[0mname\u001b[0m\u001b[0;34m)\u001b[0m\u001b[0;34m)\u001b[0m\u001b[0;34m\u001b[0m\u001b[0;34m\u001b[0m\u001b[0m\n\u001b[0m\u001b[1;32m    173\u001b[0m         \u001b[0mself\u001b[0m\u001b[0;34m.\u001b[0m\u001b[0m_indices\u001b[0m\u001b[0;34m[\u001b[0m\u001b[0mname\u001b[0m\u001b[0;34m]\u001b[0m \u001b[0;34m=\u001b[0m \u001b[0mlen\u001b[0m\u001b[0;34m(\u001b[0m\u001b[0mself\u001b[0m\u001b[0;34m)\u001b[0m\u001b[0;34m\u001b[0m\u001b[0;34m\u001b[0m\u001b[0m\n\u001b[1;32m    174\u001b[0m         \u001b[0mself\u001b[0m\u001b[0;34m.\u001b[0m\u001b[0m_object_list\u001b[0m\u001b[0;34m.\u001b[0m\u001b[0mappend\u001b[0m\u001b[0;34m(\u001b[0m\u001b[0mvalue\u001b[0m\u001b[0;34m)\u001b[0m\u001b[0;34m\u001b[0m\u001b[0;34m\u001b[0m\u001b[0m\n",
      "\u001b[0;31mContainerAlreadyContains\u001b[0m: Container '<optlang.container.Container object at 0x7f75fb374f50>' already contains an object with name 'DM_cpd00515_c'."
     ]
    }
   ],
   "source": [
    "iCdR758_free = checkFreeMass(iCdR758)"
   ]
  },
  {
   "cell_type": "code",
   "execution_count": null,
   "metadata": {},
   "outputs": [],
   "source": []
  },
  {
   "cell_type": "code",
   "execution_count": null,
   "metadata": {},
   "outputs": [],
   "source": []
  },
  {
   "cell_type": "code",
   "execution_count": 2,
   "metadata": {},
   "outputs": [
    {
     "name": "stdout",
     "output_type": "stream",
     "text": [
      "\n",
      "Initializing model and integrating transcriptomic data...\n",
      "Pruning zero flux subnetworks...\n",
      "Analyzing context-specific flux distributions...\n",
      "\n",
      "Reactions pruned to 294 from 1135 (74.1% change)\n",
      "Metabolites pruned to 287 from 1140 (74.82% change)\n",
      "Flux through the objective DECREASED to ~73.5 from ~89.94 (18.28% change)\n",
      "Context-specific metabolism correlates with transcriptome (r=0.223, p<0.001 *)\n",
      "\n",
      "RIPTiDe completed in 30 seconds\n",
      "\n"
     ]
    }
   ],
   "source": [
    "iCdR758_rough1 = riptide.contextualize(model=iCdR758, transcriptome=rough_1)"
   ]
  },
  {
   "cell_type": "code",
   "execution_count": 3,
   "metadata": {},
   "outputs": [
    {
     "name": "stdout",
     "output_type": "stream",
     "text": [
      "\n",
      "Initializing model and integrating transcriptomic data...\n",
      "Pruning zero flux subnetworks...\n",
      "Analyzing context-specific flux distributions...\n",
      "\n",
      "Reactions pruned to 293 from 1135 (74.19% change)\n",
      "Metabolites pruned to 287 from 1140 (74.82% change)\n",
      "Flux through the objective DECREASED to ~73.69 from ~89.94 (18.07% change)\n",
      "Context-specific metabolism correlates with transcriptome (r=0.173, p=0.003 *)\n",
      "\n",
      "RIPTiDe completed in 18 seconds\n",
      "\n"
     ]
    }
   ],
   "source": [
    "iCdR758_rough2 = riptide.contextualize(model=iCdR758, transcriptome=rough_2)"
   ]
  },
  {
   "cell_type": "code",
   "execution_count": 4,
   "metadata": {},
   "outputs": [
    {
     "name": "stdout",
     "output_type": "stream",
     "text": [
      "\n",
      "Initializing model and integrating transcriptomic data...\n",
      "Pruning zero flux subnetworks...\n",
      "Analyzing context-specific flux distributions...\n",
      "\n",
      "Reactions pruned to 297 from 1135 (73.83% change)\n",
      "Metabolites pruned to 289 from 1140 (74.65% change)\n",
      "Flux through the objective DECREASED to ~73.1 from ~89.94 (18.72% change)\n",
      "Context-specific metabolism correlates with transcriptome (r=0.177, p=0.002 *)\n",
      "\n",
      "RIPTiDe completed in 18 seconds\n",
      "\n"
     ]
    }
   ],
   "source": [
    "iCdR758_smooth2 = riptide.contextualize(model=iCdR758, transcriptome=smooth_2)"
   ]
  },
  {
   "cell_type": "code",
   "execution_count": 5,
   "metadata": {},
   "outputs": [
    {
     "name": "stdout",
     "output_type": "stream",
     "text": [
      "\n",
      "Initializing model and integrating transcriptomic data...\n",
      "Pruning zero flux subnetworks...\n",
      "Analyzing context-specific flux distributions...\n",
      "\n",
      "Reactions pruned to 294 from 1135 (74.1% change)\n",
      "Metabolites pruned to 287 from 1140 (74.82% change)\n",
      "Flux through the objective DECREASED to ~74.18 from ~89.94 (17.52% change)\n",
      "Context-specific metabolism correlates with transcriptome (r=0.149, p=0.011 *)\n",
      "\n",
      "RIPTiDe completed in 17 seconds\n",
      "\n"
     ]
    }
   ],
   "source": [
    "iCdR758_smooth3 = riptide.contextualize(model=iCdR758, transcriptome=smooth_3)"
   ]
  },
  {
   "cell_type": "code",
   "execution_count": 6,
   "metadata": {},
   "outputs": [
    {
     "name": "stdout",
     "output_type": "stream",
     "text": [
      "WARNING: Output path already exists, overwriting previous files\n",
      "WARNING: Output path already exists, overwriting previous files\n",
      "WARNING: Output path already exists, overwriting previous files\n",
      "WARNING: Output path already exists, overwriting previous files\n"
     ]
    }
   ],
   "source": [
    "riptide.save_output(riptide_obj=iCdR758_rough1, path='/home/mjenior/Desktop/tamayo_analysis/riptide_rough1')\n",
    "riptide.save_output(riptide_obj=iCdR758_rough2, path='/home/mjenior/Desktop/tamayo_analysis/riptide_rough2')\n",
    "riptide.save_output(riptide_obj=iCdR758_smooth2, path='/home/mjenior/Desktop/tamayo_analysis/riptide_smooth2')\n",
    "riptide.save_output(riptide_obj=iCdR758_smooth3, path='/home/mjenior/Desktop/tamayo_analysis/riptide_smooth3')"
   ]
  },
  {
   "cell_type": "markdown",
   "metadata": {},
   "source": [
    "### Analysis"
   ]
  },
  {
   "cell_type": "markdown",
   "metadata": {},
   "source": [
    "#### Growth rate"
   ]
  },
  {
   "cell_type": "code",
   "execution_count": 158,
   "metadata": {},
   "outputs": [
    {
     "name": "stdout",
     "output_type": "stream",
     "text": [
      "Rough doubling time: 61.07 minutes\n",
      "Smooth doubling time: 60.61 minutes\n",
      "p-value: 0.0\n"
     ]
    }
   ],
   "source": [
    "from scipy import stats\n",
    "\n",
    "rough_biomass = list(iCdR758_rough1.flux_samples['biomass']) + list(iCdR758_rough2.flux_samples['biomass'])\n",
    "rough_growth = [(1. / numpy.median(x)) * 3600. for x in rough_biomass]\n",
    "print('Rough doubling time: ' + str(round(numpy.median(rough_growth), 2)) + ' minutes')\n",
    "\n",
    "smooth_biomass = list(iCdR758_smooth2.flux_samples['biomass']) + list(iCdR758_smooth3.flux_samples['biomass'])\n",
    "smooth_growth = [(1. / numpy.median(x)) * 3600. for x in smooth_biomass]\n",
    "print('Smooth doubling time: ' + str(round(numpy.median(smooth_growth), 2)) + ' minutes')\n",
    "\n",
    "t_stat, p_val = stats.shapiro(rough_growth)\n",
    "t_stat, p_val = stats.shapiro(smooth_growth)\n",
    "t_stat, p_val = stats.wilcoxon(rough_growth, smooth_growth)\n",
    "print('p-value: ' + str(round(p_val, 3)))"
   ]
  },
  {
   "cell_type": "markdown",
   "metadata": {},
   "source": [
    "#### Subrate utilization / Secretion"
   ]
  },
  {
   "cell_type": "code",
   "execution_count": 18,
   "metadata": {},
   "outputs": [],
   "source": [
    "# Inferring media condition\n",
    "\n",
    "def find_growth_substrates(riptide):\n",
    "    substrates = []\n",
    "    exchanges = list(set([x.id for x in riptide.model.reactions if 'EX_' in x.id]))\n",
    "    for rxn in exchanges:\n",
    "        if numpy.median(riptide.flux_samples[rxn]) < 0.0:\n",
    "            substrate_id = riptide.model.reactions.get_by_id(rxn).reactants[0].id\n",
    "            substrate_name = riptide.model.reactions.get_by_id(rxn).reactants[0].name\n",
    "            substrates.append([substrate_id, substrate_name])\n",
    "    \n",
    "    print(str(len(substrates)) + ' growth substrates found')\n",
    "    substrates = pandas.DataFrame.from_records(substrates)\n",
    "    substrates.columns = ['id','name']\n",
    "    \n",
    "    return substrates\n",
    "\n",
    "def find_byproducts(riptide):\n",
    "    byproducts = []\n",
    "    exchanges = list(set([x.id for x in riptide.model.reactions if 'EX_' in x.id]))\n",
    "    for rxn in exchanges:\n",
    "        if numpy.median(riptide.flux_samples[rxn]) > 0.0:\n",
    "            byproduct_id = riptide.model.reactions.get_by_id(rxn).reactants[0].id\n",
    "            byproduct_name = riptide.model.reactions.get_by_id(rxn).reactants[0].name\n",
    "            byproducts.append([byproduct_id, byproduct_name])\n",
    "    \n",
    "    print(str(len(byproducts)) + ' secreted byproducts found')\n",
    "    byproducts = pandas.DataFrame.from_records(byproducts)\n",
    "    byproducts.columns = ['id','name']\n",
    "    \n",
    "    return byproducts\n",
    "\n",
    "\n",
    "def find_element_sources(riptide):\n",
    "    \n",
    "    # Isolate exchange reactions\n",
    "    exchanges = []\n",
    "    for rxn in riptide.model.reactions:\n",
    "        if len(rxn.reactants) == 0 or len(rxn.products) == 0:\n",
    "            exchanges.append(rxn.id)\n",
    "    \n",
    "    sources = {}\n",
    "    c_source = ['cpd_id', 0.0]\n",
    "    n_source = ['cpd_id', 0.0]\n",
    "    \n",
    "    # PArse exchange flux samples for imported metabolites\n",
    "    for rxn in exchanges:\n",
    "        flux = abs(numpy.median(riptide.flux_samples[rxn]))\n",
    "        if flux > 1e-6:\n",
    "            metabolite = riptide.model.reactions.get_by_id(rxn).reactants[0]\n",
    "            sources[metabolite.id] = {}\n",
    "            \n",
    "            # Multiply elemental components by median flux absolute value\n",
    "            for element in metabolite.elements.keys():\n",
    "                element_supply = round(float(metabolite.elements[element]) * flux, 3)\n",
    "                sources[metabolite.id][element] = element_supply\n",
    "                \n",
    "                # Identify largest sources of carbon and nitrogen\n",
    "                if element == 'C' and element_supply > c_source[1]:\n",
    "                    c_source = [metabolite.id, element_supply]\n",
    "                elif element == 'N' and element_supply > n_source[1]:\n",
    "                    n_source = [metabolite.id, element_supply]\n",
    "                    \n",
    "    print('Primary carbon source: ' + riptide.model.metabolites.get_by_id(c_source[0]).name + ' (' + str(c_source[1]) + ')')\n",
    "    print('Primary nitrogen source: ' + riptide.model.metabolites.get_by_id(n_source[0]).name + ' (' + str(n_source[1]) + ')')\n",
    "\n",
    "    return sources"
   ]
  },
  {
   "cell_type": "code",
   "execution_count": 19,
   "metadata": {},
   "outputs": [
    {
     "name": "stdout",
     "output_type": "stream",
     "text": [
      "43 growth substrates found\n",
      "Primary carbon source: Sucrose (8488.097)\n",
      "Primary nitrogen source: Ornithine (1978.133)\n",
      "11 secreted byproducts found\n"
     ]
    }
   ],
   "source": [
    "rough1_substrates = find_growth_substrates(iCdR758_rough1)\n",
    "rough1_sources = find_element_sources(iCdR758_rough1)\n",
    "rough1_byproducts = find_byproducts(iCdR758_rough1)"
   ]
  },
  {
   "cell_type": "code",
   "execution_count": 20,
   "metadata": {},
   "outputs": [
    {
     "name": "stdout",
     "output_type": "stream",
     "text": [
      "43 growth substrates found\n",
      "Primary carbon source: Sucrose (8001.194)\n",
      "Primary nitrogen source: Ornithine (1759.983)\n",
      "11 secreted byproducts found\n"
     ]
    }
   ],
   "source": [
    "rough2_substrates = find_growth_substrates(iCdR758_rough2)\n",
    "rough2_sources = find_element_sources(iCdR758_rough2)\n",
    "rough2_byproducts = find_byproducts(iCdR758_rough2)"
   ]
  },
  {
   "cell_type": "code",
   "execution_count": 21,
   "metadata": {},
   "outputs": [
    {
     "name": "stdout",
     "output_type": "stream",
     "text": [
      "44 growth substrates found\n",
      "Primary carbon source: D-Fructose (6000.0)\n",
      "Primary nitrogen source: Ornithine (1250.531)\n",
      "12 secreted byproducts found\n"
     ]
    }
   ],
   "source": [
    "smooth2_substrates = find_growth_substrates(iCdR758_smooth2)\n",
    "smooth2_sources = find_element_sources(iCdR758_smooth2)\n",
    "smooth2_byproducts = find_byproducts(iCdR758_smooth2)"
   ]
  },
  {
   "cell_type": "code",
   "execution_count": 22,
   "metadata": {},
   "outputs": [
    {
     "name": "stdout",
     "output_type": "stream",
     "text": [
      "44 growth substrates found\n",
      "Primary carbon source: D-Mannitol (6000.0)\n",
      "Primary nitrogen source: Ornithine (1204.084)\n",
      "12 secreted byproducts found\n"
     ]
    }
   ],
   "source": [
    "smooth3_substrates = find_growth_substrates(iCdR758_smooth3)\n",
    "smooth3_sources = find_element_sources(iCdR758_smooth3)\n",
    "smooth3_byproducts = find_byproducts(iCdR758_smooth3)"
   ]
  },
  {
   "cell_type": "code",
   "execution_count": 161,
   "metadata": {},
   "outputs": [
    {
     "name": "stdout",
     "output_type": "stream",
     "text": [
      "Rough only:\n",
      "cpd00001_e\tH2O\n",
      "cpd00221_e\tD-Lactate\n",
      "\n",
      "Smooth only:\n",
      "cpd00080_e\tGlycerol-3-phosphate\n",
      "cpd00567_e\tD-Proline\n"
     ]
    }
   ],
   "source": [
    "rough_substrates = set(rough1_substrates['id']).union(set(rough2_substrates['id']))\n",
    "smooth_substrates = set(smooth3_substrates['id']).union(set(smooth2_substrates['id']))\n",
    "rough_only_substrates = rough_substrates.difference(smooth_substrates)\n",
    "smooth_only_substrates = smooth_substrates.difference(rough_substrates)\n",
    "\n",
    "print('Rough only:')\n",
    "for x in rough_only_substrates:\n",
    "    print(x + '\\t' + iCdR758.metabolites.get_by_id(x).name)\n",
    "print('\\nSmooth only:')\n",
    "for x in smooth_only_substrates:\n",
    "    print(x + '\\t' + iCdR758.metabolites.get_by_id(x).name)"
   ]
  },
  {
   "cell_type": "code",
   "execution_count": 164,
   "metadata": {},
   "outputs": [
    {
     "name": "stdout",
     "output_type": "stream",
     "text": [
      "Rough only:\n",
      "\n",
      "Smooth only:\n",
      "cpd00276_e\tD-Glucosamine\n",
      "cpd00567_e\tD-Proline\n"
     ]
    }
   ],
   "source": [
    "rough_substrates = set(rough1_substrates['id']).intersection(set(rough2_substrates['id']))\n",
    "smooth_substrates = set(smooth3_substrates['id']).intersection(set(smooth2_substrates['id']))\n",
    "rough_only_substrates = rough_substrates.difference(smooth_substrates)\n",
    "smooth_only_substrates = smooth_substrates.difference(rough_substrates)\n",
    "\n",
    "print('Rough only:')\n",
    "for x in rough_only_substrates:\n",
    "    print(x + '\\t' + iCdR758.metabolites.get_by_id(x).name)\n",
    "print('\\nSmooth only:')\n",
    "for x in smooth_only_substrates:\n",
    "    print(x + '\\t' + iCdR758.metabolites.get_by_id(x).name)"
   ]
  },
  {
   "cell_type": "code",
   "execution_count": 143,
   "metadata": {},
   "outputs": [
    {
     "name": "stdout",
     "output_type": "stream",
     "text": [
      "Rough only:\n",
      "\n",
      "Smooth only:\n",
      "cpd00001_e\tH2O\n",
      "cpd00489_e\t4-Hydroxyphenylacetate\n"
     ]
    }
   ],
   "source": [
    "rough_byproducts = set(rough1_byproducts['id']).union(set(rough2_byproducts['id']))\n",
    "smooth_byproducts = set(smooth3_byproducts['id']).union(set(smooth2_byproducts['id']))\n",
    "rough_only_byproducts = rough_byproducts.difference(smooth_byproducts)\n",
    "smooth_only_byproducts = smooth_byproducts.difference(rough_byproducts)\n",
    "\n",
    "print('Rough only:')\n",
    "for x in rough_only_byproducts:\n",
    "    print(x + '\\t' + iCdR758.metabolites.get_by_id(x).name)\n",
    "print('\\nSmooth only:')\n",
    "for x in smooth_only_byproducts:\n",
    "    print(x + '\\t' + iCdR758.metabolites.get_by_id(x).name)"
   ]
  },
  {
   "cell_type": "code",
   "execution_count": 144,
   "metadata": {},
   "outputs": [
    {
     "name": "stdout",
     "output_type": "stream",
     "text": [
      "Rough only:\n",
      "cpd05178_e\tIsovalerate\n",
      "\n",
      "Smooth only:\n",
      "cpd00489_e\t4-Hydroxyphenylacetate\n"
     ]
    }
   ],
   "source": [
    "rough_byproducts = set(rough1_byproducts['id']).intersection(set(rough2_byproducts['id']))\n",
    "smooth_byproducts = set(smooth3_byproducts['id']).intersection(set(smooth2_byproducts['id']))\n",
    "rough_only_byproducts = rough_byproducts.difference(smooth_byproducts)\n",
    "smooth_only_byproducts = smooth_byproducts.difference(rough_byproducts)\n",
    "\n",
    "print('Rough only:')\n",
    "for x in rough_only_byproducts:\n",
    "    print(x + '\\t' + iCdR758.metabolites.get_by_id(x).name)\n",
    "print('\\nSmooth only:')\n",
    "for x in smooth_only_byproducts:\n",
    "    print(x + '\\t' + iCdR758.metabolites.get_by_id(x).name)"
   ]
  },
  {
   "cell_type": "markdown",
   "metadata": {},
   "source": [
    "#### Gene Essentiality"
   ]
  },
  {
   "cell_type": "code",
   "execution_count": 91,
   "metadata": {},
   "outputs": [],
   "source": [
    "import cobra\n",
    "import cobra.flux_analysis"
   ]
  },
  {
   "cell_type": "code",
   "execution_count": 92,
   "metadata": {
    "scrolled": true
   },
   "outputs": [
    {
     "name": "stdout",
     "output_type": "stream",
     "text": [
      "43 essential genes found\n"
     ]
    }
   ],
   "source": [
    "minGrowth = iCdR758.slim_optimize() * 0.8\n",
    "base_essential_genes = cobra.flux_analysis.find_essential_genes(iCdR758, threshold=minGrowth)\n",
    "base_essential_genes = set([x.id for x in base_essential_genes])\n",
    "print(str(len(base_essential_genes)) + ' essential genes found')"
   ]
  },
  {
   "cell_type": "code",
   "execution_count": 93,
   "metadata": {},
   "outputs": [
    {
     "name": "stdout",
     "output_type": "stream",
     "text": [
      "64 essential genes found\n"
     ]
    }
   ],
   "source": [
    "minGrowth = iCdR758_rough1.model.slim_optimize() * 0.8\n",
    "rough1_essential_genes = cobra.flux_analysis.find_essential_genes(iCdR758_rough1.model, threshold=minGrowth)\n",
    "rough1_essential_genes = set([x.id for x in rough1_essential_genes])\n",
    "print(str(len(rough1_essential_genes)) + ' essential genes found')"
   ]
  },
  {
   "cell_type": "code",
   "execution_count": 94,
   "metadata": {},
   "outputs": [
    {
     "name": "stdout",
     "output_type": "stream",
     "text": [
      "63 essential genes found\n"
     ]
    }
   ],
   "source": [
    "minGrowth = iCdR758_rough2.model.slim_optimize() * 0.8\n",
    "rough2_essential_genes = cobra.flux_analysis.find_essential_genes(iCdR758_rough2.model, threshold=minGrowth)\n",
    "rough2_essential_genes = set([x.id for x in rough2_essential_genes])\n",
    "print(str(len(rough2_essential_genes)) + ' essential genes found')"
   ]
  },
  {
   "cell_type": "code",
   "execution_count": 95,
   "metadata": {},
   "outputs": [
    {
     "name": "stdout",
     "output_type": "stream",
     "text": [
      "61 essential genes found\n"
     ]
    }
   ],
   "source": [
    "minGrowth = iCdR758_smooth2.model.slim_optimize() * 0.8\n",
    "smooth2_essential_genes = cobra.flux_analysis.find_essential_genes(iCdR758_smooth2.model, threshold=minGrowth)\n",
    "smooth2_essential_genes = set([x.id for x in smooth2_essential_genes])\n",
    "print(str(len(smooth2_essential_genes)) + ' essential genes found')"
   ]
  },
  {
   "cell_type": "code",
   "execution_count": 96,
   "metadata": {},
   "outputs": [
    {
     "name": "stdout",
     "output_type": "stream",
     "text": [
      "69 essential genes found\n"
     ]
    }
   ],
   "source": [
    "minGrowth = iCdR758_smooth3.model.slim_optimize() * 0.8\n",
    "smooth3_essential_genes = cobra.flux_analysis.find_essential_genes(iCdR758_smooth3.model, threshold=minGrowth)\n",
    "smooth3_essential_genes = set([x.id for x in smooth3_essential_genes])\n",
    "print(str(len(smooth3_essential_genes)) + ' essential genes found')"
   ]
  },
  {
   "cell_type": "code",
   "execution_count": 146,
   "metadata": {},
   "outputs": [
    {
     "name": "stdout",
     "output_type": "stream",
     "text": [
      "Rough only:\n",
      "645463.3.peg.3373\tFormate dehydrogenase H (EC 1.2.1.2)\n",
      "645463.3.peg.1077\tGlycolate dehydrogenase (EC 1.1.99.14), subunit GlcD\n",
      "645463.3.peg.2376\t4-hydroxybutyrate:acetyl-CoA CoA transferase (EC 2.3.1.-)\n",
      "\n",
      "Smooth only:\n",
      "645463.3.peg.3217\tTriosephosphate isomerase (EC 5.3.1.1)\n",
      "645463.3.peg.1079\tAcetate kinase (EC 2.7.2.1)\n",
      "645463.3.peg.3413\tPyruvate kinase (EC 2.7.1.40)\n",
      "645463.3.peg.2389\tGlycine reductase component B beta subunit\n",
      "645463.3.peg.1272\tpyridoxal kinase (EC 2.7.1.35)\n",
      "645463.3.peg.3215\tEnolase (EC 4.2.1.11)\n",
      "645463.3.peg.2261\tAldehyde dehydrogenase (EC 1.2.1.3)\n"
     ]
    }
   ],
   "source": [
    "# Filter against base model\n",
    "rough1_essential_genes = rough1_essential_genes.difference(base_essential_genes)\n",
    "rough2_essential_genes = rough2_essential_genes.difference(base_essential_genes)\n",
    "smooth2_essential_genes = smooth2_essential_genes.difference(base_essential_genes)\n",
    "smooth3_essential_genes = smooth3_essential_genes.difference(base_essential_genes)\n",
    "\n",
    "# Find agreement within groups\n",
    "rough = rough1_essential_genes.union(rough2_essential_genes)\n",
    "smooth = smooth2_essential_genes.union(smooth3_essential_genes)\n",
    "\n",
    "# Contrast groups\n",
    "rough_only_essential = rough.difference(smooth)\n",
    "smooth_only_essential = smooth.difference(rough)\n",
    "\n",
    "# Display results\n",
    "print('Rough only:')\n",
    "for x in rough_only_essential:\n",
    "    print(x + '\\t' + iCdR758.genes.get_by_id(x).name)\n",
    "print('\\nSmooth only:')\n",
    "for x in smooth_only_essential:\n",
    "    print(x + '\\t' + iCdR758.genes.get_by_id(x).name)"
   ]
  },
  {
   "cell_type": "code",
   "execution_count": 145,
   "metadata": {},
   "outputs": [
    {
     "name": "stdout",
     "output_type": "stream",
     "text": [
      "Rough only:\n",
      "645463.3.peg.2678\tGlycerol-3-phosphate dehydrogenase [NAD(P)+] (EC 1.1.1.94)\n",
      "\n",
      "Smooth only:\n"
     ]
    }
   ],
   "source": [
    "# Filter against base model\n",
    "rough1_essential_genes = rough1_essential_genes.difference(base_essential_genes)\n",
    "rough2_essential_genes = rough2_essential_genes.difference(base_essential_genes)\n",
    "smooth2_essential_genes = smooth2_essential_genes.difference(base_essential_genes)\n",
    "smooth3_essential_genes = smooth3_essential_genes.difference(base_essential_genes)\n",
    "\n",
    "# Find agreement within groups\n",
    "rough = rough1_essential_genes.intersection(rough2_essential_genes)\n",
    "smooth = smooth2_essential_genes.intersection(smooth3_essential_genes)\n",
    "\n",
    "# Contrast groups\n",
    "rough_only_essential = rough.difference(smooth)\n",
    "smooth_only_essential = smooth.difference(rough)\n",
    "\n",
    "# Display results\n",
    "print('Rough only:')\n",
    "for x in rough_only_essential:\n",
    "    print(x + '\\t' + iCdR758.genes.get_by_id(x).name)\n",
    "print('\\nSmooth only:')\n",
    "for x in smooth_only_essential:\n",
    "    print(x + '\\t' + iCdR758.genes.get_by_id(x).name)"
   ]
  },
  {
   "cell_type": "markdown",
   "metadata": {},
   "source": [
    "#### Topology"
   ]
  },
  {
   "cell_type": "code",
   "execution_count": 151,
   "metadata": {},
   "outputs": [
    {
     "name": "stdout",
     "output_type": "stream",
     "text": [
      "1\n",
      "4\n",
      "416\n"
     ]
    }
   ],
   "source": [
    "# Genes\n",
    "r_genes = set([x.id for x in iCdR758_rough1.model.genes]).union(set([x.id for x in iCdR758_rough2.model.genes]))\n",
    "s_genes = set([x.id for x in iCdR758_smooth2.model.genes]).union(set([x.id for x in iCdR758_smooth3.model.genes]))\n",
    "\n",
    "print(len(r_genes.difference(s_genes)))\n",
    "print(len(s_genes.difference(r_genes)))\n",
    "print(len(r_genes.intersection(s_genes)))"
   ]
  },
  {
   "cell_type": "code",
   "execution_count": 152,
   "metadata": {},
   "outputs": [
    {
     "name": "stdout",
     "output_type": "stream",
     "text": [
      "3\n",
      "9\n",
      "294\n"
     ]
    }
   ],
   "source": [
    "# Reactions\n",
    "r_reactions = set([x.id for x in iCdR758_rough1.model.reactions]).union(set([x.id for x in iCdR758_rough2.model.reactions]))\n",
    "s_reactions = set([x.id for x in iCdR758_smooth2.model.reactions]).union(set([x.id for x in iCdR758_smooth3.model.reactions]))\n",
    "\n",
    "print(len(r_reactions.difference(s_reactions)))\n",
    "print(len(s_reactions.difference(r_reactions)))\n",
    "print(len(r_reactions.intersection(s_reactions)))"
   ]
  },
  {
   "cell_type": "code",
   "execution_count": 153,
   "metadata": {},
   "outputs": [
    {
     "name": "stdout",
     "output_type": "stream",
     "text": [
      "2\n",
      "5\n",
      "287\n"
     ]
    }
   ],
   "source": [
    "# Metabolites\n",
    "r_metabolites = set([x.id for x in iCdR758_rough1.model.metabolites]).union(set([x.id for x in iCdR758_rough2.model.metabolites]))\n",
    "s_metabolites = set([x.id for x in iCdR758_smooth2.model.metabolites]).union(set([x.id for x in iCdR758_smooth3.model.metabolites]))\n",
    "\n",
    "print(len(r_metabolites.difference(s_metabolites)))\n",
    "print(len(s_metabolites.difference(r_metabolites)))\n",
    "print(len(r_metabolites.intersection(s_metabolites)))"
   ]
  },
  {
   "cell_type": "code",
   "execution_count": 147,
   "metadata": {},
   "outputs": [
    {
     "name": "stdout",
     "output_type": "stream",
     "text": [
      "Rough only:\n",
      "\n",
      "Smooth only:\n",
      "645463.3.peg.2254\t2-oxoglutarate/2-oxoacid ferredoxin oxidoreductase, delta subunit\n",
      "645463.3.peg.664\tsodium-solute symporter, putative\n",
      "645463.3.peg.2253\t2-oxoglutarate/2-oxoacid ferredoxin oxidoreductase, alpha subunit\n",
      "645463.3.peg.2250\tAcetyl-CoA synthetase (ADP-forming) alpha and beta chains, putative\n"
     ]
    }
   ],
   "source": [
    "# Compare gene pruning between groups\n",
    "rough_pruned = iCdR758_rough1.pruned['genes'].union(iCdR758_rough2.pruned['genes'])\n",
    "smooth_pruned = iCdR758_smooth2.pruned['genes'].union(iCdR758_smooth3.pruned['genes'])\n",
    "rough_only_genes = smooth_pruned.difference(rough_pruned)\n",
    "smooth_only_genes = rough_pruned.difference(smooth_pruned)\n",
    "\n",
    "print('Rough only:')\n",
    "for x in rough_only_genes:\n",
    "    print(x + '\\t' + iCdR758.genes.get_by_id(x).name)\n",
    "print('\\nSmooth only:')\n",
    "for x in smooth_only_genes:\n",
    "    print(x + '\\t' + iCdR758.genes.get_by_id(x).name)"
   ]
  },
  {
   "cell_type": "code",
   "execution_count": 136,
   "metadata": {},
   "outputs": [
    {
     "name": "stdout",
     "output_type": "stream",
     "text": [
      "Rough only:\n",
      "645463.3.peg.389\tD-lactate dehydrogenase (EC 1.1.1.28)\n",
      "\n",
      "Smooth only:\n",
      "645463.3.peg.2254\t2-oxoglutarate/2-oxoacid ferredoxin oxidoreductase, delta subunit\n",
      "645463.3.peg.3434\tGlycerol-3-phosphate ABC transporter, permease protein UgpE (TC 3.A.1.1.3)\n",
      "645463.3.peg.2253\t2-oxoglutarate/2-oxoacid ferredoxin oxidoreductase, alpha subunit\n",
      "645463.3.peg.664\tsodium-solute symporter, putative\n"
     ]
    }
   ],
   "source": [
    "# Compare gene pruning between groups\n",
    "rough_pruned = iCdR758_rough1.pruned['genes'].intersection(iCdR758_rough2.pruned['genes'])\n",
    "smooth_pruned = iCdR758_smooth2.pruned['genes'].intersection(iCdR758_smooth3.pruned['genes'])\n",
    "rough_only_genes = smooth_pruned.difference(rough_pruned)\n",
    "smooth_only_genes = rough_pruned.difference(smooth_pruned)\n",
    "\n",
    "print('Rough only:')\n",
    "for x in rough_only_genes:\n",
    "    print(x + '\\t' + iCdR758.genes.get_by_id(x).name)\n",
    "print('\\nSmooth only:')\n",
    "for x in smooth_only_genes:\n",
    "    print(x + '\\t' + iCdR758.genes.get_by_id(x).name)"
   ]
  },
  {
   "cell_type": "code",
   "execution_count": 148,
   "metadata": {},
   "outputs": [
    {
     "name": "stdout",
     "output_type": "stream",
     "text": [
      "Rough only:\n",
      "rxn13140_c\tNucleoside triphosphatase\n",
      "rxn01548_c\tguanosine:phosphate alpha-D-ribosyltransferase\n",
      "EX_cpd00001_e\tH2O exchange\n",
      "rxn01446_c\tDeoxyguanosine:orthophosphate ribosyltransferase\n",
      "rxn00612_c\tsn-Glycerol-3-phosphate:NADP+ 2-oxidoreductase\n",
      "rxn00784_c\t2-deoxy-D-ribose-5-phosphate acetaldehyde-lyase (D-glyceraldehyde-3-phosphate-forming)\n",
      "rxn08686_c\tH2O transport via diffusion\n",
      "rxn01986_c\t2-deoxy-D-ribose 1-phosphate 1,5-phosphomutase\n",
      "rxn09341_c\tUDP-N-acetyl-D-glucosamine pyrophosphohydrolase (periplasm)\n",
      "\n",
      "Smooth only:\n",
      "rxn25164_c\tSuccinyl-CoA synthase\n",
      "ID004_c\t4-Hydroxyphenylacetate diffusion\n",
      "R01174_4_c\tPhosphate butyryltransferase\n",
      "EX_cpd00567_e\tD-Proline exchange\n",
      "rxn10563_c\tIndolepyruvate ferredoxin oxidoreductase (hydroxyphenylpyvurate)\n",
      "ENOG4108HXH_c\tD-proline sodium symporter\n",
      "EX_cpd00489_e\t4-Hydroxyphenylacetate exchange\n"
     ]
    }
   ],
   "source": [
    "# Reactions\n",
    "rough_pruned = iCdR758_rough1.pruned['reactions'].union(iCdR758_rough2.pruned['reactions'])\n",
    "smooth_pruned = iCdR758_smooth2.pruned['reactions'].union(iCdR758_smooth3.pruned['reactions'])\n",
    "rough_only_reactions = smooth_pruned.difference(rough_pruned)\n",
    "smooth_only_reactions = rough_pruned.difference(smooth_pruned)\n",
    "\n",
    "print('Rough only:')\n",
    "for x in rough_only_reactions:\n",
    "    print(x + '\\t' + iCdR758.reactions.get_by_id(x).name)\n",
    "print('\\nSmooth only:')\n",
    "for x in smooth_only_reactions:\n",
    "    print(x + '\\t' + iCdR758.reactions.get_by_id(x).name)"
   ]
  },
  {
   "cell_type": "code",
   "execution_count": 137,
   "metadata": {},
   "outputs": [
    {
     "name": "stdout",
     "output_type": "stream",
     "text": [
      "Rough only:\n",
      "EX_cpd00221_e\tD-Lactate exchange\n",
      "rxn00500_c\t(R)-Lactate:NAD+ oxidoreductase\n",
      "rxn10171_c\tD-lactate transport via proton symport\n",
      "\n",
      "Smooth only:\n",
      "rxn05158_c\tATP phosphohydrolase (glycerol-3-phosphate-importing)\n",
      "ID004_c\t4-Hydroxyphenylacetate diffusion\n",
      "rxn00611_c\tsn-Glycerol-3-phosphate:NAD+ 2-oxidoreductase\n",
      "R01174_4_c\tPhosphate butyryltransferase\n",
      "EX_cpd00567_e\tD-Proline exchange\n",
      "rxn10563_c\tIndolepyruvate ferredoxin oxidoreductase (hydroxyphenylpyvurate)\n",
      "ENOG4108HXH_c\tD-proline sodium symporter\n",
      "EX_cpd00489_e\t4-Hydroxyphenylacetate exchange\n",
      "EX_cpd00080_e\tGlycerol-3-phosphate exchange\n"
     ]
    }
   ],
   "source": [
    "# Reactions\n",
    "rough_pruned = iCdR758_rough1.pruned['reactions'].intersection(iCdR758_rough2.pruned['reactions'])\n",
    "smooth_pruned = iCdR758_smooth2.pruned['reactions'].intersection(iCdR758_smooth3.pruned['reactions'])\n",
    "rough_only_reactions = smooth_pruned.difference(rough_pruned)\n",
    "smooth_only_reactions = rough_pruned.difference(smooth_pruned)\n",
    "\n",
    "print('Rough only:')\n",
    "for x in rough_only_reactions:\n",
    "    print(x + '\\t' + iCdR758.reactions.get_by_id(x).name)\n",
    "print('\\nSmooth only:')\n",
    "for x in smooth_only_reactions:\n",
    "    print(x + '\\t' + iCdR758.reactions.get_by_id(x).name)"
   ]
  },
  {
   "cell_type": "code",
   "execution_count": 149,
   "metadata": {},
   "outputs": [
    {
     "name": "stdout",
     "output_type": "stream",
     "text": [
      "Rough only:\n",
      "cpd00277_c\tDeoxyguanosine\n",
      "cpd00001_e\tH2O\n",
      "cpd00510_c\tdeoxyribose-5-phosphate\n",
      "cpd00207_c\tGuanine\n",
      "cpd00509_c\tdeoxyribose-1-phosphate\n",
      "\n",
      "Smooth only:\n",
      "cpd03165_c\t4-Hydroxyphenylacetyl-CoA\n",
      "cpd00489_e\t4-Hydroxyphenylacetate\n",
      "cpd00567_e\tD-Proline\n",
      "cpd00489_c\t4-Hydroxyphenylacetate\n"
     ]
    }
   ],
   "source": [
    "# Metabolites\n",
    "rough_pruned = iCdR758_rough1.pruned['metabolites'].union(iCdR758_rough2.pruned['metabolites'])\n",
    "smooth_pruned = iCdR758_smooth2.pruned['metabolites'].union(iCdR758_smooth3.pruned['metabolites'])\n",
    "rough_only_metabolites = smooth_pruned.difference(rough_pruned)\n",
    "smooth_only_metabolites = rough_pruned.difference(smooth_pruned)\n",
    "\n",
    "print('Rough only:')\n",
    "for x in rough_only_metabolites:\n",
    "    print(x + '\\t' + iCdR758.metabolites.get_by_id(x).name)\n",
    "print('\\nSmooth only:')\n",
    "for x in smooth_only_metabolites:\n",
    "    print(x + '\\t' + iCdR758.metabolites.get_by_id(x).name)"
   ]
  },
  {
   "cell_type": "code",
   "execution_count": 138,
   "metadata": {},
   "outputs": [
    {
     "name": "stdout",
     "output_type": "stream",
     "text": [
      "Rough only:\n",
      "cpd00221_c\tD-Lactate\n",
      "cpd00221_e\tD-Lactate\n",
      "\n",
      "Smooth only:\n",
      "cpd03165_c\t4-Hydroxyphenylacetyl-CoA\n",
      "cpd00489_e\t4-Hydroxyphenylacetate\n",
      "cpd00080_e\tGlycerol-3-phosphate\n",
      "cpd00489_c\t4-Hydroxyphenylacetate\n",
      "cpd00567_e\tD-Proline\n"
     ]
    }
   ],
   "source": [
    "# Metabolites\n",
    "rough_pruned = iCdR758_rough1.pruned['metabolites'].intersection(iCdR758_rough2.pruned['metabolites'])\n",
    "smooth_pruned = iCdR758_smooth2.pruned['metabolites'].intersection(iCdR758_smooth3.pruned['metabolites'])\n",
    "rough_only_metabolites = smooth_pruned.difference(rough_pruned)\n",
    "smooth_only_metabolites = rough_pruned.difference(smooth_pruned)\n",
    "\n",
    "print('Rough only:')\n",
    "for x in rough_only_metabolites:\n",
    "    print(x + '\\t' + iCdR758.metabolites.get_by_id(x).name)\n",
    "print('\\nSmooth only:')\n",
    "for x in smooth_only_metabolites:\n",
    "    print(x + '\\t' + iCdR758.metabolites.get_by_id(x).name)"
   ]
  },
  {
   "cell_type": "code",
   "execution_count": null,
   "metadata": {},
   "outputs": [],
   "source": []
  },
  {
   "cell_type": "code",
   "execution_count": null,
   "metadata": {},
   "outputs": [],
   "source": []
  },
  {
   "cell_type": "code",
   "execution_count": null,
   "metadata": {},
   "outputs": [],
   "source": []
  },
  {
   "cell_type": "code",
   "execution_count": null,
   "metadata": {},
   "outputs": [],
   "source": []
  },
  {
   "cell_type": "code",
   "execution_count": null,
   "metadata": {},
   "outputs": [],
   "source": [
    "import re\n",
    "import copy\n",
    "import cobra\n",
    "\n",
    "def pathway_trace(model, substrate, threshold=0.8):\n",
    "    # model = cobra model\n",
    "    # substrate = metabolite ID of extracellular growth substrate (str)\n",
    "    # threshold = fraction of optimal objective flux to set as minimum fo pfba\n",
    "    \n",
    "    # Initialize duplicate model and get exchange reaction IDs\n",
    "    temp = copy.deepcopy(model)\n",
    "    objID = list(set((re.split('\\*|\\s', str(iCdG791.objective.expression)))).intersection(set([x.id for x in iCdG791.reactions])))[0]\n",
    "    substrate_rxns = set([x.id for x in temp.metabolites.get_by_id(substrate).reactions])\n",
    "    exchanges = set()\n",
    "    for rxn in temp.reactions:\n",
    "        if len(rxn.reactants) == 0 or len(rxn.products) == 0:\n",
    "            exchanges |= set([rxn.id])\n",
    "    \n",
    "    # Set high previous objective flux as constraint\n",
    "    objVal = temp.slim_optimize()\n",
    "    obj_constraint = temp.problem.Constraint(temp.objective.expression, lb=objVal*threshold, ub=objVal)\n",
    "    temp.add_cons_vars([obj_constraint])\n",
    "    temp.solver.update()\n",
    "    \n",
    "    # Assemble pfba objective\n",
    "    pfba_expr = symengine.RealDouble(0)\n",
    "    for rxn in temp.reactions:\n",
    "        pfba_expr += 1.0 * rxn.forward_variable\n",
    "        pfba_expr += 1.0 * rxn.reverse_variable    \n",
    "    temp.objective = temp.problem.Objective(pfba_expr, direction='min', sloppy=True)\n",
    "    temp.solver.update()\n",
    "    \n",
    "    # Identify active reactions and identify specific exchange reaction\n",
    "    solution = temp.optimize()\n",
    "    active_rxns = set([rxn.id for rxn in temp.reactions if abs(solution.fluxes[rxn.id]) > 1e-6])\n",
    "    exchanges = exchanges.intersection(active_rxns)\n",
    "    pathway = list(substrate_rxns.intersection(exchanges))\n",
    "    \n",
    "    # Parse model by flux starting with substrate of interest\n",
    "    for rxn in pathway:\n",
    "        cpds = temp.reactions.get_by_id(rxn).metabolites\n",
    "        new_rxns = \n",
    "        for cpd in cpds:\n",
    "            \n",
    "            \n",
    "        find next reaction with largest flux that is not the current reaction\n",
    "        \n",
    "        \n",
    "        \n",
    "        \n",
    "        \n",
    "        pathway.append(reaction.id)\n",
    "        \n",
    "    \n",
    "    \n",
    "    \n",
    "    \n",
    "    \n",
    "    return pathway\n",
    "    \n",
    "\n"
   ]
  },
  {
   "cell_type": "code",
   "execution_count": null,
   "metadata": {},
   "outputs": [],
   "source": []
  },
  {
   "cell_type": "code",
   "execution_count": null,
   "metadata": {},
   "outputs": [],
   "source": []
  },
  {
   "cell_type": "code",
   "execution_count": null,
   "metadata": {},
   "outputs": [],
   "source": []
  },
  {
   "cell_type": "code",
   "execution_count": 51,
   "metadata": {},
   "outputs": [],
   "source": [
    "import cobra\n",
    "import copy\n",
    "import pandas\n",
    "\n",
    "def find_blocked(model, threshold=1e-5):\n",
    "    temp_model = copy.deepcopy(model)\n",
    "    blocked = []\n",
    "\n",
    "    # Run an FVA\n",
    "    for rxn in temp_model.reactions:\n",
    "        temp_model.objective = rxn.id\n",
    "        temp_model.objective_direction = 'max'\n",
    "        max_objVal = temp_model.slim_optimize()\n",
    "        temp_model.objective_direction = 'min'\n",
    "        min_objVal = temp_model.slim_optimize()\n",
    "        if abs(max_objVal) < threshold and abs(min_objVal) < threshold: blocked.append(rxn.id)\n",
    "    \n",
    "    return blocked\n"
   ]
  },
  {
   "cell_type": "code",
   "execution_count": 151,
   "metadata": {},
   "outputs": [],
   "source": [
    "import cobra\n",
    "import copy\n",
    "import pandas\n",
    "\n",
    "def FVA(model, fraction=0.001):\n",
    "    temp_model = copy.deepcopy(model)\n",
    "    \n",
    "    # Set previous objective as a constraint\n",
    "    objVal = temp_model.slim_optimize()\n",
    "    obj_constraint = temp_model.problem.Constraint(temp_model.objective.expression, lb=objVal*fraction, ub=objVal)\n",
    "    temp_model.add_cons_vars([obj_constraint])\n",
    "    temp_model.solver.update()\n",
    "    \n",
    "    # Run an FVA\n",
    "    fva = []\n",
    "    rxn_ids = []\n",
    "    for rxn in temp_model.reactions:\n",
    "        temp_model.objective = rxn.id\n",
    "        temp_model.objective_direction = 'max'\n",
    "        max_objVal = temp_model.slim_optimize()\n",
    "        temp_model.objective_direction = 'min'\n",
    "        min_objVal = temp_model.slim_optimize()\n",
    "        rxn_ids.append(rxn.id)\n",
    "        fva.append([rxn.id, min_objVal, max_objVal])\n",
    "    fva = pandas.DataFrame.from_records(fva, columns=['id','minimum','maximum'], index=rxn_ids)\n",
    "    \n",
    "    return fva\n"
   ]
  },
  {
   "cell_type": "code",
   "execution_count": 152,
   "metadata": {},
   "outputs": [],
   "source": [
    "iCdR758_fva = FVA(iCdR758)"
   ]
  },
  {
   "cell_type": "code",
   "execution_count": 153,
   "metadata": {},
   "outputs": [
    {
     "data": {
      "text/html": [
       "<div>\n",
       "<style scoped>\n",
       "    .dataframe tbody tr th:only-of-type {\n",
       "        vertical-align: middle;\n",
       "    }\n",
       "\n",
       "    .dataframe tbody tr th {\n",
       "        vertical-align: top;\n",
       "    }\n",
       "\n",
       "    .dataframe thead th {\n",
       "        text-align: right;\n",
       "    }\n",
       "</style>\n",
       "<table border=\"1\" class=\"dataframe\">\n",
       "  <thead>\n",
       "    <tr style=\"text-align: right;\">\n",
       "      <th></th>\n",
       "      <th>id</th>\n",
       "      <th>minimum</th>\n",
       "      <th>maximum</th>\n",
       "    </tr>\n",
       "  </thead>\n",
       "  <tbody>\n",
       "    <tr>\n",
       "      <th>rxn02201_c</th>\n",
       "      <td>rxn02201_c</td>\n",
       "      <td>0.000000e+00</td>\n",
       "      <td>999.391452</td>\n",
       "    </tr>\n",
       "    <tr>\n",
       "      <th>rxn00836_c</th>\n",
       "      <td>rxn00836_c</td>\n",
       "      <td>0.000000e+00</td>\n",
       "      <td>999.391452</td>\n",
       "    </tr>\n",
       "    <tr>\n",
       "      <th>rxn00390_c</th>\n",
       "      <td>rxn00390_c</td>\n",
       "      <td>0.000000e+00</td>\n",
       "      <td>0.000000</td>\n",
       "    </tr>\n",
       "    <tr>\n",
       "      <th>rxn00423_c</th>\n",
       "      <td>rxn00423_c</td>\n",
       "      <td>0.000000e+00</td>\n",
       "      <td>1000.000000</td>\n",
       "    </tr>\n",
       "    <tr>\n",
       "      <th>rxn00364_c</th>\n",
       "      <td>rxn00364_c</td>\n",
       "      <td>0.000000e+00</td>\n",
       "      <td>0.000000</td>\n",
       "    </tr>\n",
       "    <tr>\n",
       "      <th>...</th>\n",
       "      <td>...</td>\n",
       "      <td>...</td>\n",
       "      <td>...</td>\n",
       "    </tr>\n",
       "    <tr>\n",
       "      <th>rxn01675_c</th>\n",
       "      <td>rxn01675_c</td>\n",
       "      <td>0.000000e+00</td>\n",
       "      <td>0.000000</td>\n",
       "    </tr>\n",
       "    <tr>\n",
       "      <th>rxn03887_c</th>\n",
       "      <td>rxn03887_c</td>\n",
       "      <td>0.000000e+00</td>\n",
       "      <td>0.000000</td>\n",
       "    </tr>\n",
       "    <tr>\n",
       "      <th>rxn01997_c</th>\n",
       "      <td>rxn01997_c</td>\n",
       "      <td>0.000000e+00</td>\n",
       "      <td>0.000000</td>\n",
       "    </tr>\n",
       "    <tr>\n",
       "      <th>teichoicacid_rxn</th>\n",
       "      <td>teichoicacid_rxn</td>\n",
       "      <td>8.994470e-04</td>\n",
       "      <td>0.899447</td>\n",
       "    </tr>\n",
       "    <tr>\n",
       "      <th>rxn08764_c</th>\n",
       "      <td>rxn08764_c</td>\n",
       "      <td>3.114402e-13</td>\n",
       "      <td>1000.000000</td>\n",
       "    </tr>\n",
       "  </tbody>\n",
       "</table>\n",
       "<p>1135 rows × 3 columns</p>\n",
       "</div>"
      ],
      "text/plain": [
       "                                id       minimum      maximum\n",
       "rxn02201_c              rxn02201_c  0.000000e+00   999.391452\n",
       "rxn00836_c              rxn00836_c  0.000000e+00   999.391452\n",
       "rxn00390_c              rxn00390_c  0.000000e+00     0.000000\n",
       "rxn00423_c              rxn00423_c  0.000000e+00  1000.000000\n",
       "rxn00364_c              rxn00364_c  0.000000e+00     0.000000\n",
       "...                            ...           ...          ...\n",
       "rxn01675_c              rxn01675_c  0.000000e+00     0.000000\n",
       "rxn03887_c              rxn03887_c  0.000000e+00     0.000000\n",
       "rxn01997_c              rxn01997_c  0.000000e+00     0.000000\n",
       "teichoicacid_rxn  teichoicacid_rxn  8.994470e-04     0.899447\n",
       "rxn08764_c              rxn08764_c  3.114402e-13  1000.000000\n",
       "\n",
       "[1135 rows x 3 columns]"
      ]
     },
     "execution_count": 153,
     "metadata": {},
     "output_type": "execute_result"
    }
   ],
   "source": [
    "iCdR758_fva"
   ]
  },
  {
   "cell_type": "code",
   "execution_count": 149,
   "metadata": {},
   "outputs": [],
   "source": [
    "from cobra.flux_analysis import flux_variability_analysis\n",
    "fva = flux_variability_analysis(iCdR758)"
   ]
  },
  {
   "cell_type": "code",
   "execution_count": 150,
   "metadata": {},
   "outputs": [
    {
     "data": {
      "text/html": [
       "<div>\n",
       "<style scoped>\n",
       "    .dataframe tbody tr th:only-of-type {\n",
       "        vertical-align: middle;\n",
       "    }\n",
       "\n",
       "    .dataframe tbody tr th {\n",
       "        vertical-align: top;\n",
       "    }\n",
       "\n",
       "    .dataframe thead th {\n",
       "        text-align: right;\n",
       "    }\n",
       "</style>\n",
       "<table border=\"1\" class=\"dataframe\">\n",
       "  <thead>\n",
       "    <tr style=\"text-align: right;\">\n",
       "      <th></th>\n",
       "      <th>minimum</th>\n",
       "      <th>maximum</th>\n",
       "    </tr>\n",
       "  </thead>\n",
       "  <tbody>\n",
       "    <tr>\n",
       "      <th>rxn02201_c</th>\n",
       "      <td>0.000000</td>\n",
       "      <td>8.656473e-13</td>\n",
       "    </tr>\n",
       "    <tr>\n",
       "      <th>rxn00836_c</th>\n",
       "      <td>0.000000</td>\n",
       "      <td>8.656473e-13</td>\n",
       "    </tr>\n",
       "    <tr>\n",
       "      <th>rxn00390_c</th>\n",
       "      <td>0.000000</td>\n",
       "      <td>0.000000e+00</td>\n",
       "    </tr>\n",
       "    <tr>\n",
       "      <th>rxn00423_c</th>\n",
       "      <td>0.000000</td>\n",
       "      <td>1.084597e-12</td>\n",
       "    </tr>\n",
       "    <tr>\n",
       "      <th>rxn00364_c</th>\n",
       "      <td>0.000000</td>\n",
       "      <td>4.270017e-13</td>\n",
       "    </tr>\n",
       "    <tr>\n",
       "      <th>...</th>\n",
       "      <td>...</td>\n",
       "      <td>...</td>\n",
       "    </tr>\n",
       "    <tr>\n",
       "      <th>rxn01675_c</th>\n",
       "      <td>0.000000</td>\n",
       "      <td>0.000000e+00</td>\n",
       "    </tr>\n",
       "    <tr>\n",
       "      <th>rxn03887_c</th>\n",
       "      <td>0.000000</td>\n",
       "      <td>0.000000e+00</td>\n",
       "    </tr>\n",
       "    <tr>\n",
       "      <th>rxn01997_c</th>\n",
       "      <td>0.000000</td>\n",
       "      <td>0.000000e+00</td>\n",
       "    </tr>\n",
       "    <tr>\n",
       "      <th>teichoicacid_rxn</th>\n",
       "      <td>0.899447</td>\n",
       "      <td>8.994470e-01</td>\n",
       "    </tr>\n",
       "    <tr>\n",
       "      <th>rxn08764_c</th>\n",
       "      <td>17.988941</td>\n",
       "      <td>1.798894e+01</td>\n",
       "    </tr>\n",
       "  </tbody>\n",
       "</table>\n",
       "<p>1135 rows × 2 columns</p>\n",
       "</div>"
      ],
      "text/plain": [
       "                    minimum       maximum\n",
       "rxn02201_c         0.000000  8.656473e-13\n",
       "rxn00836_c         0.000000  8.656473e-13\n",
       "rxn00390_c         0.000000  0.000000e+00\n",
       "rxn00423_c         0.000000  1.084597e-12\n",
       "rxn00364_c         0.000000  4.270017e-13\n",
       "...                     ...           ...\n",
       "rxn01675_c         0.000000  0.000000e+00\n",
       "rxn03887_c         0.000000  0.000000e+00\n",
       "rxn01997_c         0.000000  0.000000e+00\n",
       "teichoicacid_rxn   0.899447  8.994470e-01\n",
       "rxn08764_c        17.988941  1.798894e+01\n",
       "\n",
       "[1135 rows x 2 columns]"
      ]
     },
     "execution_count": 150,
     "metadata": {},
     "output_type": "execute_result"
    }
   ],
   "source": [
    "fva"
   ]
  },
  {
   "cell_type": "code",
   "execution_count": 12,
   "metadata": {},
   "outputs": [
    {
     "data": {
      "text/plain": [
       "{'D-Glucosamine', 'D-Lactate'}"
      ]
     },
     "execution_count": 12,
     "metadata": {},
     "output_type": "execute_result"
    }
   ],
   "source": [
    "set(rough1_substrates['name']).difference(set(rough2_substrates['name']))"
   ]
  },
  {
   "cell_type": "code",
   "execution_count": 13,
   "metadata": {},
   "outputs": [
    {
     "data": {
      "text/html": [
       "<div>\n",
       "<style scoped>\n",
       "    .dataframe tbody tr th:only-of-type {\n",
       "        vertical-align: middle;\n",
       "    }\n",
       "\n",
       "    .dataframe tbody tr th {\n",
       "        vertical-align: top;\n",
       "    }\n",
       "\n",
       "    .dataframe thead th {\n",
       "        text-align: right;\n",
       "    }\n",
       "</style>\n",
       "<table border=\"1\" class=\"dataframe\">\n",
       "  <thead>\n",
       "    <tr style=\"text-align: right;\">\n",
       "      <th></th>\n",
       "      <th>id</th>\n",
       "      <th>name</th>\n",
       "    </tr>\n",
       "  </thead>\n",
       "  <tbody>\n",
       "    <tr>\n",
       "      <th>0</th>\n",
       "      <td>cpd00065_e</td>\n",
       "      <td>L-Tryptophan</td>\n",
       "    </tr>\n",
       "    <tr>\n",
       "      <th>1</th>\n",
       "      <td>cpd00030_e</td>\n",
       "      <td>Mn2+</td>\n",
       "    </tr>\n",
       "    <tr>\n",
       "      <th>2</th>\n",
       "      <td>cpd00205_e</td>\n",
       "      <td>K+</td>\n",
       "    </tr>\n",
       "    <tr>\n",
       "      <th>3</th>\n",
       "      <td>cpd00254_e</td>\n",
       "      <td>Mg</td>\n",
       "    </tr>\n",
       "    <tr>\n",
       "      <th>4</th>\n",
       "      <td>cpd00220_e</td>\n",
       "      <td>Riboflavin</td>\n",
       "    </tr>\n",
       "    <tr>\n",
       "      <th>5</th>\n",
       "      <td>cpd00067_e</td>\n",
       "      <td>H+</td>\n",
       "    </tr>\n",
       "    <tr>\n",
       "      <th>6</th>\n",
       "      <td>cpd00051_e</td>\n",
       "      <td>L-Arginine</td>\n",
       "    </tr>\n",
       "    <tr>\n",
       "      <th>7</th>\n",
       "      <td>cpd00104_e</td>\n",
       "      <td>BIOT</td>\n",
       "    </tr>\n",
       "    <tr>\n",
       "      <th>8</th>\n",
       "      <td>cpd00084_e</td>\n",
       "      <td>L-Cysteine</td>\n",
       "    </tr>\n",
       "    <tr>\n",
       "      <th>9</th>\n",
       "      <td>cpd00117_e</td>\n",
       "      <td>D-Alanine</td>\n",
       "    </tr>\n",
       "    <tr>\n",
       "      <th>10</th>\n",
       "      <td>cpd00322_e</td>\n",
       "      <td>L-Isoleucine</td>\n",
       "    </tr>\n",
       "    <tr>\n",
       "      <th>11</th>\n",
       "      <td>cpd00971_e</td>\n",
       "      <td>Na+</td>\n",
       "    </tr>\n",
       "    <tr>\n",
       "      <th>12</th>\n",
       "      <td>cpd00063_e</td>\n",
       "      <td>Ca2+</td>\n",
       "    </tr>\n",
       "    <tr>\n",
       "      <th>13</th>\n",
       "      <td>cpd03170_e</td>\n",
       "      <td>4-Hydroxymandelate</td>\n",
       "    </tr>\n",
       "    <tr>\n",
       "      <th>14</th>\n",
       "      <td>cpd00516_e</td>\n",
       "      <td>meso-2,6-Diaminopimelate</td>\n",
       "    </tr>\n",
       "    <tr>\n",
       "      <th>15</th>\n",
       "      <td>cpd00054_e</td>\n",
       "      <td>L-Serine</td>\n",
       "    </tr>\n",
       "    <tr>\n",
       "      <th>16</th>\n",
       "      <td>cpd00393_e</td>\n",
       "      <td>Folate</td>\n",
       "    </tr>\n",
       "    <tr>\n",
       "      <th>17</th>\n",
       "      <td>cpd00036_e</td>\n",
       "      <td>Succinate</td>\n",
       "    </tr>\n",
       "    <tr>\n",
       "      <th>18</th>\n",
       "      <td>cpd00263_e</td>\n",
       "      <td>Pyridoxol</td>\n",
       "    </tr>\n",
       "    <tr>\n",
       "      <th>19</th>\n",
       "      <td>cpd00023_e</td>\n",
       "      <td>L-Glutamate</td>\n",
       "    </tr>\n",
       "    <tr>\n",
       "      <th>20</th>\n",
       "      <td>cpd00076_e</td>\n",
       "      <td>Sucrose</td>\n",
       "    </tr>\n",
       "    <tr>\n",
       "      <th>21</th>\n",
       "      <td>cpd00060_e</td>\n",
       "      <td>L-Methionine</td>\n",
       "    </tr>\n",
       "    <tr>\n",
       "      <th>22</th>\n",
       "      <td>cpd00035_e</td>\n",
       "      <td>L-Alanine</td>\n",
       "    </tr>\n",
       "    <tr>\n",
       "      <th>23</th>\n",
       "      <td>cpd00305_e</td>\n",
       "      <td>Thiamin</td>\n",
       "    </tr>\n",
       "    <tr>\n",
       "      <th>24</th>\n",
       "      <td>cpd00644_e</td>\n",
       "      <td>PAN</td>\n",
       "    </tr>\n",
       "    <tr>\n",
       "      <th>25</th>\n",
       "      <td>cpd00107_e</td>\n",
       "      <td>L-Leucine</td>\n",
       "    </tr>\n",
       "    <tr>\n",
       "      <th>26</th>\n",
       "      <td>cpd00066_e</td>\n",
       "      <td>L-Phenylalanine</td>\n",
       "    </tr>\n",
       "    <tr>\n",
       "      <th>27</th>\n",
       "      <td>cpd00276_e</td>\n",
       "      <td>D-Glucosamine</td>\n",
       "    </tr>\n",
       "    <tr>\n",
       "      <th>28</th>\n",
       "      <td>cpd00009_e</td>\n",
       "      <td>Phosphate</td>\n",
       "    </tr>\n",
       "    <tr>\n",
       "      <th>29</th>\n",
       "      <td>cpd00082_e</td>\n",
       "      <td>D-Fructose</td>\n",
       "    </tr>\n",
       "    <tr>\n",
       "      <th>30</th>\n",
       "      <td>cpd00226_e</td>\n",
       "      <td>HYXN</td>\n",
       "    </tr>\n",
       "    <tr>\n",
       "      <th>31</th>\n",
       "      <td>cpd00099_e</td>\n",
       "      <td>Cl-</td>\n",
       "    </tr>\n",
       "    <tr>\n",
       "      <th>32</th>\n",
       "      <td>cpd00156_e</td>\n",
       "      <td>L-Valine</td>\n",
       "    </tr>\n",
       "    <tr>\n",
       "      <th>33</th>\n",
       "      <td>cpd00132_e</td>\n",
       "      <td>L-Asparagine</td>\n",
       "    </tr>\n",
       "    <tr>\n",
       "      <th>34</th>\n",
       "      <td>cpd00133_e</td>\n",
       "      <td>Nicotinamide</td>\n",
       "    </tr>\n",
       "    <tr>\n",
       "      <th>35</th>\n",
       "      <td>cpd00443_e</td>\n",
       "      <td>ABEE</td>\n",
       "    </tr>\n",
       "    <tr>\n",
       "      <th>36</th>\n",
       "      <td>cpd01080_e</td>\n",
       "      <td>ocdca</td>\n",
       "    </tr>\n",
       "    <tr>\n",
       "      <th>37</th>\n",
       "      <td>cpd00149_e</td>\n",
       "      <td>Co2+</td>\n",
       "    </tr>\n",
       "    <tr>\n",
       "      <th>38</th>\n",
       "      <td>cpd00221_e</td>\n",
       "      <td>D-Lactate</td>\n",
       "    </tr>\n",
       "    <tr>\n",
       "      <th>39</th>\n",
       "      <td>cpd00064_e</td>\n",
       "      <td>Ornithine</td>\n",
       "    </tr>\n",
       "    <tr>\n",
       "      <th>40</th>\n",
       "      <td>cpd10515_e</td>\n",
       "      <td>Fe2+</td>\n",
       "    </tr>\n",
       "    <tr>\n",
       "      <th>41</th>\n",
       "      <td>cpd00119_e</td>\n",
       "      <td>L-Histidine</td>\n",
       "    </tr>\n",
       "    <tr>\n",
       "      <th>42</th>\n",
       "      <td>cpd00027_e</td>\n",
       "      <td>D-Glucose</td>\n",
       "    </tr>\n",
       "  </tbody>\n",
       "</table>\n",
       "</div>"
      ],
      "text/plain": [
       "            id                      name\n",
       "0   cpd00065_e              L-Tryptophan\n",
       "1   cpd00030_e                      Mn2+\n",
       "2   cpd00205_e                        K+\n",
       "3   cpd00254_e                        Mg\n",
       "4   cpd00220_e                Riboflavin\n",
       "5   cpd00067_e                        H+\n",
       "6   cpd00051_e                L-Arginine\n",
       "7   cpd00104_e                      BIOT\n",
       "8   cpd00084_e                L-Cysteine\n",
       "9   cpd00117_e                 D-Alanine\n",
       "10  cpd00322_e              L-Isoleucine\n",
       "11  cpd00971_e                       Na+\n",
       "12  cpd00063_e                      Ca2+\n",
       "13  cpd03170_e        4-Hydroxymandelate\n",
       "14  cpd00516_e  meso-2,6-Diaminopimelate\n",
       "15  cpd00054_e                  L-Serine\n",
       "16  cpd00393_e                    Folate\n",
       "17  cpd00036_e                 Succinate\n",
       "18  cpd00263_e                 Pyridoxol\n",
       "19  cpd00023_e               L-Glutamate\n",
       "20  cpd00076_e                   Sucrose\n",
       "21  cpd00060_e              L-Methionine\n",
       "22  cpd00035_e                 L-Alanine\n",
       "23  cpd00305_e                   Thiamin\n",
       "24  cpd00644_e                       PAN\n",
       "25  cpd00107_e                 L-Leucine\n",
       "26  cpd00066_e           L-Phenylalanine\n",
       "27  cpd00276_e             D-Glucosamine\n",
       "28  cpd00009_e                 Phosphate\n",
       "29  cpd00082_e                D-Fructose\n",
       "30  cpd00226_e                      HYXN\n",
       "31  cpd00099_e                       Cl-\n",
       "32  cpd00156_e                  L-Valine\n",
       "33  cpd00132_e              L-Asparagine\n",
       "34  cpd00133_e              Nicotinamide\n",
       "35  cpd00443_e                      ABEE\n",
       "36  cpd01080_e                     ocdca\n",
       "37  cpd00149_e                      Co2+\n",
       "38  cpd00221_e                 D-Lactate\n",
       "39  cpd00064_e                 Ornithine\n",
       "40  cpd10515_e                      Fe2+\n",
       "41  cpd00119_e               L-Histidine\n",
       "42  cpd00027_e                 D-Glucose"
      ]
     },
     "execution_count": 13,
     "metadata": {},
     "output_type": "execute_result"
    }
   ],
   "source": [
    "rough1_substrates"
   ]
  },
  {
   "cell_type": "code",
   "execution_count": 21,
   "metadata": {},
   "outputs": [
    {
     "name": "stdout",
     "output_type": "stream",
     "text": [
      "4-Hydroxymandelate exchange\n",
      "p-Hydroxyphenylacetate decarboxylase\n",
      "5-Aminopentanoate exchange\n",
      "2,3-Dihydroxyphenylpropanoate diffusion\n",
      "5-Aminopentanoate transport via proton symport\n",
      "D-proline reductase\n",
      "UTP:N-acetyl-alpha-D-glucosamine-1-phosphate uridylyltransferase\n",
      "alpha-D-Glucose 1-phosphate 1,6-phosphomutase\n",
      "Sucrose exchange\n",
      "sucrose transport via PEP:Pyr PTS\n"
     ]
    }
   ],
   "source": [
    "# Parse AUCRF results\n",
    "aucrf = [['EX_cpd03170_e',14.41],['rxn07124_c',14.39],['EX_cpd00339_e',13.76],['ID008_c',13.64],\n",
    "         ['rxn12566_c',9.61],['rxn20606_c',9.52],['rxn00293_c',4.57],['rxn00704_c',4.20],\n",
    "         ['EX_cpd00076_e',3.76],['rxn05655_c',3.38]]\n",
    "\n",
    "for x in aucrf: print(iCdR758.reactions.get_by_id(x[0]).name)"
   ]
  },
  {
   "cell_type": "code",
   "execution_count": 15,
   "metadata": {},
   "outputs": [
    {
     "data": {
      "text/plain": [
       "'cytosol'"
      ]
     },
     "execution_count": 15,
     "metadata": {},
     "output_type": "execute_result"
    }
   ],
   "source": []
  },
  {
   "cell_type": "code",
   "execution_count": 18,
   "metadata": {},
   "outputs": [
    {
     "name": "stdout",
     "output_type": "stream",
     "text": [
      "rxn07124_c p-Hydroxyphenylacetate decarboxylase\n",
      "ID008_c 2,3-Dihydroxyphenylpropanoate diffusion\n",
      "EX_cpd03170_e 4-Hydroxymandelate exchange\n",
      "EX_cpd00339_e 5-Aminopentanoate exchange\n",
      "rxn12566_c 5-Aminopentanoate transport via proton symport\n",
      "rxn20606_c D-proline reductase\n"
     ]
    }
   ],
   "source": [
    "top = ['rxn07124_c', 'ID008_c', 'EX_cpd03170_e', 'EX_cpd00339_e', 'rxn12566_c', 'rxn20606_c']\n",
    "for x in top:\n",
    "    print(x, iCdR758.reactions.get_by_id(x).name)"
   ]
  },
  {
   "cell_type": "code",
   "execution_count": null,
   "metadata": {},
   "outputs": [],
   "source": []
  },
  {
   "cell_type": "code",
   "execution_count": 34,
   "metadata": {},
   "outputs": [],
   "source": [
    "def find_element_sources(riptide):\n",
    "    \n",
    "    # Isolate exchange reactions\n",
    "    exchanges = []\n",
    "    for rxn in riptide.model.reactions:\n",
    "        if len(rxn.reactants) == 0 or len(rxn.products) == 0:\n",
    "            exchanges.append(rxn.id)\n",
    "    \n",
    "    sources = {}\n",
    "    c_source = ['cpd_id', 0.0]\n",
    "    n_source = ['cpd_id', 0.0]\n",
    "    \n",
    "    # PArse exchange flux samples for imported metabolites\n",
    "    for rxn in exchanges:\n",
    "        flux = abs(numpy.median(riptide.flux_samples[rxn]))\n",
    "        if flux > 1e-6:\n",
    "            metabolite = riptide.model.reactions.get_by_id(rxn).reactants[0]\n",
    "            sources[metabolite.id] = {}\n",
    "            \n",
    "            # Multiply elemental components by median flux absolute value\n",
    "            for element in metabolite.elements.keys():\n",
    "                element_supply = round(float(metabolite.elements[element]) * flux, 3)\n",
    "                sources[metabolite.id][element] = element_supply\n",
    "                \n",
    "                # Identify largest sources of carbon and nitrogen\n",
    "                if element == 'C' and element_supply > c_source[1]:\n",
    "                    c_source = [metabolite.id, element_supply]\n",
    "                elif element == 'N' and element_supply > n_source[1]:\n",
    "                    n_source = [metabolite.id, element_supply]\n",
    "                    \n",
    "    print('Primary carbon source: ' + riptide.model.metabolites.get_by_id(c_source[0]).name + ' (' + str(c_source[1]) + ')')\n",
    "    print('Primary nitrogen source: ' + riptide.model.metabolites.get_by_id(n_source[0]).name + ' (' + str(n_source[1]) + ')')\n",
    "\n",
    "    return sources\n",
    "\n",
    "        "
   ]
  },
  {
   "cell_type": "code",
   "execution_count": 35,
   "metadata": {},
   "outputs": [
    {
     "name": "stdout",
     "output_type": "stream",
     "text": [
      "Primary carbon source: Sucrose (8488.097)\n",
      "Primary nitrogen source: Ornithine (1978.133)\n"
     ]
    }
   ],
   "source": [
    "rough1_sources = find_element_sources(iCdR758_rough1)"
   ]
  },
  {
   "cell_type": "code",
   "execution_count": 39,
   "metadata": {},
   "outputs": [
    {
     "name": "stdout",
     "output_type": "stream",
     "text": [
      "Primary carbon source: Sucrose (8001.194)\n",
      "Primary nitrogen source: Ornithine (1759.983)\n"
     ]
    }
   ],
   "source": [
    "rough2_sources = find_element_sources(iCdR758_rough2)"
   ]
  },
  {
   "cell_type": "code",
   "execution_count": 40,
   "metadata": {},
   "outputs": [
    {
     "name": "stdout",
     "output_type": "stream",
     "text": [
      "Primary carbon source: D-Fructose (6000.0)\n",
      "Primary nitrogen source: Ornithine (1250.531)\n"
     ]
    }
   ],
   "source": [
    "smooth2_sources = find_element_sources(iCdR758_smooth2)"
   ]
  },
  {
   "cell_type": "code",
   "execution_count": 41,
   "metadata": {},
   "outputs": [
    {
     "name": "stdout",
     "output_type": "stream",
     "text": [
      "Primary carbon source: D-Mannitol (6000.0)\n",
      "Primary nitrogen source: Ornithine (1204.084)\n"
     ]
    }
   ],
   "source": [
    "smooth3_sources = find_element_sources(iCdR758_smooth3)"
   ]
  },
  {
   "cell_type": "code",
   "execution_count": null,
   "metadata": {},
   "outputs": [],
   "source": []
  },
  {
   "cell_type": "code",
   "execution_count": null,
   "metadata": {},
   "outputs": [],
   "source": []
  },
  {
   "cell_type": "code",
   "execution_count": null,
   "metadata": {},
   "outputs": [],
   "source": []
  },
  {
   "cell_type": "code",
   "execution_count": null,
   "metadata": {},
   "outputs": [],
   "source": []
  },
  {
   "cell_type": "code",
   "execution_count": 20,
   "metadata": {},
   "outputs": [
    {
     "data": {
      "text/html": [
       "\n",
       "        <table>\n",
       "            <tr>\n",
       "                <td><strong>Metabolite identifier</strong></td><td>cpd00076_e</td>\n",
       "            </tr><tr>\n",
       "                <td><strong>Name</strong></td><td>Sucrose</td>\n",
       "            </tr><tr>\n",
       "                <td><strong>Memory address</strong></td>\n",
       "                <td>0x07f57516c8bd0</td>\n",
       "            </tr><tr>\n",
       "                <td><strong>Formula</strong></td><td>C12H22O11</td>\n",
       "            </tr><tr>\n",
       "                <td><strong>Compartment</strong></td><td>extracellular</td>\n",
       "            </tr><tr>\n",
       "                <td><strong>In 2 reaction(s)</strong></td><td>\n",
       "                    rxn05655_c, EX_cpd00076_e</td>\n",
       "            </tr>\n",
       "        </table>"
      ],
      "text/plain": [
       "<Metabolite cpd00076_e at 0x7f57516c8bd0>"
      ]
     },
     "execution_count": 20,
     "metadata": {},
     "output_type": "execute_result"
    }
   ],
   "source": [
    "iCdR758.metabolites.cpd00076_e"
   ]
  },
  {
   "cell_type": "code",
   "execution_count": null,
   "metadata": {},
   "outputs": [],
   "source": []
  },
  {
   "cell_type": "code",
   "execution_count": 16,
   "metadata": {},
   "outputs": [
    {
     "name": "stdout",
     "output_type": "stream",
     "text": [
      "104\n"
     ]
    }
   ],
   "source": [
    "transport_rxns = []\n",
    "for rxn in iCdR758.reactions:\n",
    "    if len(set([cpd.compartment for cpd in rxn.metabolites])) > 1:\n",
    "        transport_rxns.append(rxn.id)\n",
    "print(len(transport_rxns))"
   ]
  }
 ],
 "metadata": {
  "kernelspec": {
   "display_name": "Python 3",
   "language": "python",
   "name": "python3"
  },
  "language_info": {
   "codemirror_mode": {
    "name": "ipython",
    "version": 3
   },
   "file_extension": ".py",
   "mimetype": "text/x-python",
   "name": "python",
   "nbconvert_exporter": "python",
   "pygments_lexer": "ipython3",
   "version": "3.7.5"
  }
 },
 "nbformat": 4,
 "nbformat_minor": 2
}
