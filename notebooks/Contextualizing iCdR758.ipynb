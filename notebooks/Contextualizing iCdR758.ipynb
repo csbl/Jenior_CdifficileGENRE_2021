{
 "cells": [
  {
   "cell_type": "code",
   "execution_count": 8,
   "metadata": {},
   "outputs": [],
   "source": [
    "# Read in gene list from iCdR775\n",
    "cdr775_genes = []\n",
    "with open('/home/mjenior/Desktop/tamayo_analysis/cdr775_genes.tsv', 'r') as genre_genes:\n",
    "    for line in genre_genes:\n",
    "        cdr775_genes.append(line.strip())\n",
    "cdr775_genes = set(cdr775_genes)\n",
    "\n",
    "# Parse PATRIC lookup table\n",
    "refseq_dict = {}\n",
    "refseq = set()\n",
    "gene_dict = {}\n",
    "genes = set()\n",
    "with open('/home/mjenior/Desktop/tamayo_analysis/CdR20291_genes.tsv', 'r') as gene_catalog:\n",
    "    header = gene_catalog.readline()\n",
    "    for line in gene_catalog:\n",
    "        line = line.split()\n",
    "        if len(line) == 0: continue\n",
    "        \n",
    "        if not line[0] in cdr775_genes:\n",
    "            continue\n",
    "        else:\n",
    "            refseq_dict[line[1]] = line[0]\n",
    "            refseq |= set([line[1]])\n",
    "            gene_dict[line[2]] = line[0]\n",
    "            genes |= set([line[2]])\n",
    "\n",
    "# Parse RNASeq results\n",
    "rough_1 = {}\n",
    "rough_2 = {}\n",
    "smooth_2 = {}\n",
    "smooth_3 = {}\n",
    "with open('/home/mjenior/Desktop/tamayo_analysis/tamayo_rnaseq.tsv', 'r') as transcription:\n",
    "    header = transcription.readline()\n",
    "    for line in transcription:\n",
    "        line = line.split()\n",
    "        if len(line) == 0: continue\n",
    "\n",
    "        if line[0] in refseq:\n",
    "            gene = refseq_dict[line[0]]\n",
    "            rough_1[gene] = float(line[1])\n",
    "            rough_2[gene] = float(line[2])\n",
    "            smooth_2[gene] = float(line[3])\n",
    "            smooth_3[gene] = float(line[4])\n",
    "\n",
    "        elif line[0] in genes:\n",
    "            gene = gene_dict[line[0]]\n",
    "            rough_1[gene] = float(line[1])\n",
    "            rough_2[gene] = float(line[2])\n",
    "            smooth_2[gene] = float(line[3])\n",
    "            smooth_3[gene] = float(line[4])\n",
    "\n",
    "        else:\n",
    "            continue\n",
    "\n",
    "# Save to files for easier use later\n",
    "with open('/home/mjenior/Desktop/tamayo_analysis/rough_1.tsv', 'w') as outFile:\n",
    "    for index in rough_1.keys():\n",
    "        outFile.write(index + '\\t' + str(rough_1[index]) + '\\n')\n",
    "\n",
    "with open('/home/mjenior/Desktop/tamayo_analysis/rough_2.tsv', 'w') as outFile:\n",
    "    for index in rough_2.keys():\n",
    "        outFile.write(index + '\\t' + str(rough_2[index]) + '\\n')\n",
    "\n",
    "with open('/home/mjenior/Desktop/tamayo_analysis/smooth_2.tsv', 'w') as outFile:\n",
    "    for index in smooth_2.keys():\n",
    "        outFile.write(index + '\\t' + str(smooth_2[index]) + '\\n')\n",
    "\n",
    "with open('/home/mjenior/Desktop/tamayo_analysis/smooth_3.tsv', 'w') as outFile:\n",
    "    for index in smooth_3.keys():\n",
    "        outFile.write(index + '\\t' + str(smooth_3[index]) + '\\n')\n",
    "     \n",
    "     "
   ]
  },
  {
   "cell_type": "code",
   "execution_count": 10,
   "metadata": {},
   "outputs": [],
   "source": [
    "from riptide import *\n",
    "\n",
    "iCdR758 = cobra.io.load_json_model('/home/mjenior/Desktop/repos/Jenior_Cdifficile_2019/data/reconstructions/iCdR758.json')\n",
    "for rxn in iCdR758.reactions:\n",
    "    if len(rxn.products) == 0 and 'EX_' in rxn.id:\n",
    "        rxn.bounds = (-1000.0,1000.0)\n",
    "\n",
    "# Read in transcriptomes\n",
    "rough_1 = riptide.read_transcription_file('/home/mjenior/Desktop/tamayo_analysis/rough_1.tsv')        \n",
    "rough_2 = riptide.read_transcription_file('/home/mjenior/Desktop/tamayo_analysis/rough_2.tsv')        \n",
    "smooth_2 = riptide.read_transcription_file('/home/mjenior/Desktop/tamayo_analysis/smooth_2.tsv')        \n",
    "smooth_3 = riptide.read_transcription_file('/home/mjenior/Desktop/tamayo_analysis/smooth_3.tsv')   "
   ]
  },
  {
   "cell_type": "code",
   "execution_count": 11,
   "metadata": {},
   "outputs": [
    {
     "name": "stdout",
     "output_type": "stream",
     "text": [
      "\n",
      "Initializing model and integrating transcriptomic data...\n",
      "Pruning zero flux subnetworks...\n",
      "Analyzing context-specific flux distributions...\n",
      "\n",
      "Reactions pruned to 294 from 1135 (74.1% change)\n",
      "Metabolites pruned to 287 from 1140 (74.82% change)\n",
      "Flux through the objective DECREASED to ~73.5 from ~89.94 (18.28% change)\n",
      "Context-specific metabolism correlates with transcriptome (r=0.223, p<<0.001 ***)\n",
      "\n",
      "RIPTiDe completed in 15 seconds\n",
      "\n"
     ]
    }
   ],
   "source": [
    "iCdR780_rough1 = riptide.contextualize(model=iCdR758, transcriptome=rough_1)"
   ]
  },
  {
   "cell_type": "code",
   "execution_count": 12,
   "metadata": {},
   "outputs": [
    {
     "name": "stdout",
     "output_type": "stream",
     "text": [
      "\n",
      "Initializing model and integrating transcriptomic data...\n",
      "Pruning zero flux subnetworks...\n",
      "Analyzing context-specific flux distributions...\n",
      "\n",
      "Reactions pruned to 293 from 1135 (74.19% change)\n",
      "Metabolites pruned to 287 from 1140 (74.82% change)\n",
      "Flux through the objective DECREASED to ~73.69 from ~89.94 (18.07% change)\n",
      "Context-specific metabolism correlates with transcriptome (r=0.173, p=0.003 **)\n",
      "\n",
      "RIPTiDe completed in 21 seconds\n",
      "\n"
     ]
    }
   ],
   "source": [
    "iCdR780_rough2 = riptide.contextualize(model=iCdR758, transcriptome=rough_2)"
   ]
  },
  {
   "cell_type": "code",
   "execution_count": 13,
   "metadata": {},
   "outputs": [
    {
     "name": "stdout",
     "output_type": "stream",
     "text": [
      "\n",
      "Initializing model and integrating transcriptomic data...\n",
      "Pruning zero flux subnetworks...\n",
      "Analyzing context-specific flux distributions...\n",
      "\n",
      "Reactions pruned to 297 from 1135 (73.83% change)\n",
      "Metabolites pruned to 289 from 1140 (74.65% change)\n",
      "Flux through the objective DECREASED to ~73.1 from ~89.94 (18.72% change)\n",
      "Context-specific metabolism correlates with transcriptome (r=0.177, p=0.002 **)\n",
      "\n",
      "RIPTiDe completed in 21 seconds\n",
      "\n"
     ]
    }
   ],
   "source": [
    "iCdR780_smooth2 = riptide.contextualize(model=iCdR758, transcriptome=smooth_2)"
   ]
  },
  {
   "cell_type": "code",
   "execution_count": 14,
   "metadata": {},
   "outputs": [
    {
     "name": "stdout",
     "output_type": "stream",
     "text": [
      "\n",
      "Initializing model and integrating transcriptomic data...\n",
      "Pruning zero flux subnetworks...\n",
      "Analyzing context-specific flux distributions...\n",
      "\n",
      "Reactions pruned to 294 from 1135 (74.1% change)\n",
      "Metabolites pruned to 287 from 1140 (74.82% change)\n",
      "Flux through the objective DECREASED to ~74.18 from ~89.94 (17.52% change)\n",
      "Context-specific metabolism correlates with transcriptome (r=0.149, p=0.011 *)\n",
      "\n",
      "RIPTiDe completed in 19 seconds\n",
      "\n"
     ]
    }
   ],
   "source": [
    "iCdR780_smooth3 = riptide.contextualize(model=iCdR758, transcriptome=smooth_3)"
   ]
  },
  {
   "cell_type": "code",
   "execution_count": 15,
   "metadata": {},
   "outputs": [
    {
     "name": "stdout",
     "output_type": "stream",
     "text": [
      "WARNING: Output path already exists, overwriting previous files\n",
      "WARNING: Output path already exists, overwriting previous files\n",
      "WARNING: Output path already exists, overwriting previous files\n",
      "WARNING: Output path already exists, overwriting previous files\n"
     ]
    }
   ],
   "source": [
    "riptide.save_riptide_output(riptide_obj=iCdR780_rough1, path='/home/mjenior/Desktop/tamayo_analysis/riptide_rough1')\n",
    "riptide.save_riptide_output(riptide_obj=iCdR780_rough2, path='/home/mjenior/Desktop/tamayo_analysis/riptide_rough2')\n",
    "riptide.save_riptide_output(riptide_obj=iCdR780_smooth2, path='/home/mjenior/Desktop/tamayo_analysis/riptide_smooth2')\n",
    "riptide.save_riptide_output(riptide_obj=iCdR780_smooth3, path='/home/mjenior/Desktop/tamayo_analysis/riptide_smooth3')"
   ]
  },
  {
   "cell_type": "code",
   "execution_count": null,
   "metadata": {},
   "outputs": [],
   "source": []
  },
  {
   "cell_type": "code",
   "execution_count": null,
   "metadata": {},
   "outputs": [],
   "source": []
  },
  {
   "cell_type": "markdown",
   "metadata": {},
   "source": [
    "### Analysis"
   ]
  },
  {
   "cell_type": "code",
   "execution_count": 16,
   "metadata": {},
   "outputs": [],
   "source": [
    "# Inferring media condition\n",
    "def find_growth_substrates(riptide):\n",
    "    substrates = []\n",
    "    exchanges = list(set([x.id for x in riptide.model.reactions if 'EX_' in x.id]))\n",
    "    for rxn in exchanges:\n",
    "        if numpy.median(riptide.flux_samples[rxn]) < 0.0:\n",
    "            substrate_id = riptide.model.reactions.get_by_id(rxn).reactants[0].id\n",
    "            substrate_name = riptide.model.reactions.get_by_id(rxn).reactants[0].name\n",
    "            substrates.append([substrate_id, substrate_name])\n",
    "    \n",
    "    print(str(len(substrates)) + ' growth substrates found')\n",
    "    substrates = pandas.DataFrame.from_records(substrates)\n",
    "    substrates.columns = ['id','name']\n",
    "    \n",
    "    return substrates"
   ]
  },
  {
   "cell_type": "code",
   "execution_count": 17,
   "metadata": {},
   "outputs": [
    {
     "name": "stdout",
     "output_type": "stream",
     "text": [
      "43 growth substrates found\n"
     ]
    }
   ],
   "source": [
    "rough1_substrates = find_growth_substrates(iCdR780_rough1)"
   ]
  },
  {
   "cell_type": "code",
   "execution_count": 18,
   "metadata": {},
   "outputs": [
    {
     "name": "stdout",
     "output_type": "stream",
     "text": [
      "43 growth substrates found\n"
     ]
    }
   ],
   "source": [
    "rough2_substrates = find_growth_substrates(iCdR780_rough2)"
   ]
  },
  {
   "cell_type": "code",
   "execution_count": 19,
   "metadata": {},
   "outputs": [
    {
     "name": "stdout",
     "output_type": "stream",
     "text": [
      "44 growth substrates found\n"
     ]
    }
   ],
   "source": [
    "smooth2_substrates = find_growth_substrates(iCdR780_smooth2)"
   ]
  },
  {
   "cell_type": "code",
   "execution_count": 20,
   "metadata": {},
   "outputs": [
    {
     "name": "stdout",
     "output_type": "stream",
     "text": [
      "44 growth substrates found\n"
     ]
    }
   ],
   "source": [
    "smooth3_substrates = find_growth_substrates(iCdR780_smooth3)"
   ]
  },
  {
   "cell_type": "code",
   "execution_count": 21,
   "metadata": {},
   "outputs": [
    {
     "name": "stdout",
     "output_type": "stream",
     "text": [
      "{'H2O', 'D-Lactate'}\n",
      "{'D-Proline', 'Glycerol-3-phosphate'}\n"
     ]
    }
   ],
   "source": [
    "rough = set(rough1_substrates['name']).union(set(rough2_substrates['name']))\n",
    "smooth = set(smooth3_substrates['name']).union(set(smooth2_substrates['name']))\n",
    "\n",
    "print(rough.difference(smooth))\n",
    "print(smooth.difference(rough))\n"
   ]
  },
  {
   "cell_type": "code",
   "execution_count": null,
   "metadata": {},
   "outputs": [],
   "source": []
  },
  {
   "cell_type": "code",
   "execution_count": null,
   "metadata": {},
   "outputs": [],
   "source": []
  },
  {
   "cell_type": "code",
   "execution_count": null,
   "metadata": {},
   "outputs": [],
   "source": []
  },
  {
   "cell_type": "code",
   "execution_count": null,
   "metadata": {},
   "outputs": [],
   "source": []
  }
 ],
 "metadata": {
  "kernelspec": {
   "display_name": "Python 3",
   "language": "python",
   "name": "python3"
  },
  "language_info": {
   "codemirror_mode": {
    "name": "ipython",
    "version": 3
   },
   "file_extension": ".py",
   "mimetype": "text/x-python",
   "name": "python",
   "nbconvert_exporter": "python",
   "pygments_lexer": "ipython3",
   "version": "3.7.5"
  }
 },
 "nbformat": 4,
 "nbformat_minor": 2
}
