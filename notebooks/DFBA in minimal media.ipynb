{
 "cells": [
  {
   "cell_type": "code",
   "execution_count": 2,
   "metadata": {},
   "outputs": [],
   "source": [
    "import cobra\n",
    "\n",
    "# Quicker way to read in models\n",
    "import pickle\n",
    "def read_model(fileName, obj='none'):\n",
    "    \n",
    "    fileType = fileName.split('.')[-1]\n",
    "    \n",
    "    if fileType == 'sbml' or fileType == 'xml':\n",
    "        model = cobra.io.read_sbml_model(fileName)\n",
    "    elif fileType == 'json':\n",
    "        model = cobra.io.load_json_model(fileName)\n",
    "    elif fileType == 'yaml':\n",
    "        model = cobra.io.load_yaml_model(fileName)\n",
    "    elif fileType == 'mat':\n",
    "        model = cobra.io.load_matlab_model(fileName)\n",
    "    elif fileType == 'pkl':\n",
    "        model = pickle.load(open(fileName, 'rb'))\n",
    "    else:\n",
    "        raise TypeError('Unrecognized file extension')\n",
    "    \n",
    "    if obj != 'none': model.objective = obj\n",
    "    for rxn in model.boundary: rxn.bounds = (-1000., 1000.)\n",
    "        \n",
    "    return model\n"
   ]
  },
  {
   "cell_type": "code",
   "execution_count": null,
   "metadata": {},
   "outputs": [],
   "source": [
    "iCdG692 = read_model('/home/mjenior/Desktop/repos/Jenior_Cdifficile_2019/data/reconstructions/iCdG692.json')\n",
    "iCdR700 = read_model('/home/mjenior/Desktop/repos/Jenior_Cdifficile_2019/data/reconstructions/iCdR700.json')"
   ]
  },
  {
   "cell_type": "code",
   "execution_count": null,
   "metadata": {},
   "outputs": [],
   "source": [
    "# Set media\n",
    "mdm_noGluc = ['EX_cpd00001_e', # water\n",
    "       'EX_cpd00065_e', # L-Tryptophan\n",
    "       'EX_cpd00060_e', # L-Methionine\n",
    "       'EX_cpd00322_e', # L-Isoleucine\n",
    "       'EX_cpd00129_e', # L-Proline\n",
    "       'EX_cpd00156_e', # L-Valine\n",
    "       'EX_cpd00107_e', # L-Leucine\n",
    "       'EX_cpd00084_e', # L-Cysteine \n",
    "       'EX_cpd00149_e', # Cobalt\n",
    "       'EX_cpd00099_e', # Chloride\n",
    "       'EX_cpd10515_e', # Iron\n",
    "       'EX_cpd00030_e', # Manganese\n",
    "       'EX_cpd00254_e', # Magnesium\n",
    "       'EX_cpd00063_e', # Calcium\n",
    "       'EX_cpd00205_e', # Potassium\n",
    "       'EX_cpd00009_e', # Phosphate\n",
    "       'EX_cpd00971_e', # Sodium\n",
    "       'EX_cpd00242_e', # Carbonate\n",
    "       'EX_cpd00104_e', # Biotin\n",
    "       'EX_cpd00644_e', # Pantothenate\n",
    "       'EX_cpd00263_e'] # Pyridoxine\n",
    "\n",
    "for rxn in iCdG692.boundary:\n",
    "    if not rxn.id in mdm_noGluc:\n",
    "        rxn.bounds = (0., 1000.)\n",
    "    else:\n",
    "        rxn.bounds = (-1000., 1000.)\n",
    "for rxn in iCdR700.boundary:\n",
    "    if not rxn.id in mdm_noGluc:\n",
    "        rxn.bounds = (0., 1000.)\n",
    "    else:\n",
    "        rxn.bounds = (-1000., 1000.)\n",
    "        \n",
    "mdm_noGluc_cpds = ['cpd00001_e','cpd00065_e','cpd00060_e','cpd00322_e','cpd00129_e','cpd00156_e',\n",
    "                   'cpd00107_e','cpd00084_e','cpd00149_e','cpd00099_e','cpd10515_e','cpd00030_e',\n",
    "                   'cpd00254_e','cpd00063_e','cpd00205_e','cpd00009_e','cpd00971_e','cpd00242_e',\n",
    "                   'cpd00104_e','cpd00644_e','cpd00263_e']\n",
    "\n",
    "biolog_cpds = ['cpd00383','cpd00162','cpd00438','cpd00654',\n",
    "               'cpd00277','cpd03279','cpd00412','cpd00136','cpd00339',\n",
    "               'cpd00027','cpd00208','cpd03561','cpd00029','cpd00142','cpd00182','cpd00152',\n",
    "               'cpd29695','cpd29696','cpd11586','cpd29694','cpd29697','cpd29698','cpd11582','cpd03697',\n",
    "               'cpd00085','cpd00211','cpd00098','cpd00137','cpd00424','cpd00367','cpd00307','cpd00731',\n",
    "               'cpd29694','cpd29698','cpd00117','cpd00339','cpd00320','cpd00158','cpd00082','cpd00072',\n",
    "               'cpd00108','cpd00276','cpd00089','cpd00079','cpd00186','cpd00314','cpd00138','cpd05161',\n",
    "               'cpd00637','cpd00644','cpd00105','cpd00588','cpd00161','cpd00794','cpd00154','cpd00080',\n",
    "               'cpd00504','cpd00130','cpd00393','cpd00378','cpd00047','cpd00106','cpd00281','cpd03561',\n",
    "               'cpd00042','cpd11581','cpd15603','cpd29691','cpd11592','cpd15604','cpd29693','cpd11588',\n",
    "               'cpd00100','cpd00033','cpd00155','cpd00139','cpd00207','cpd00311','cpd29317','cpd00165',\n",
    "               'cpd00226','cpd00246','cpd00035','cpd00224','cpd00051','cpd00132','cpd00041','cpd00274',\n",
    "               'cpd00395','cpd00084','cpd00751','cpd00023','cpd00053','cpd00119','cpd00227','cpd00322',\n",
    "               'cpd00159','cpd00107','cpd00039','cpd00130','cpd00060','cpd00064','cpd00066','cpd00129',\n",
    "               'cpd00054','cpd00161','cpd00065','cpd00069','cpd00156','cpd00489','cpd00121','cpd00179',\n",
    "               'cpd29700','cpd27607','cpd00122','cpd00492','cpd00477','cpd00232','cpd00075',\n",
    "               'cpd00738','cpd08928','cpd00247','cpd00443','cpd00489','cpd00009','cpd00457','cpd00141',\n",
    "               'cpd00118','cpd00215','cpd00020','cpd00220','cpd01030','cpd00036','cpd00076','cpd00210',\n",
    "               'cpd03047','cpd00305','cpd00793','cpd00184','cpd00151','cpd20885','cpd00374','cpd00092',\n",
    "               'cpd00300','cpd00249','cpd00309','cpd01217']"
   ]
  },
  {
   "cell_type": "code",
   "execution_count": null,
   "metadata": {},
   "outputs": [],
   "source": []
  },
  {
   "cell_type": "code",
   "execution_count": null,
   "metadata": {},
   "outputs": [],
   "source": []
  },
  {
   "cell_type": "code",
   "execution_count": null,
   "metadata": {},
   "outputs": [],
   "source": []
  },
  {
   "cell_type": "code",
   "execution_count": 14,
   "metadata": {},
   "outputs": [
    {
     "name": "stdout",
     "output_type": "stream",
     "text": [
      "32.240862820799514\n"
     ]
    }
   ],
   "source": [
    "model = read_model('/home/mjenior/Desktop/repos/Jenior_Cdifficile_2019/data/reconstructions/iCdG692.json')\n",
    "\n",
    "mdm_noGluc = {'EX_cpd00001_e': -1000., # water\n",
    "              'EX_cpd00065_e': -100., # L-Tryptophan\n",
    "              'EX_cpd00060_e': -100., # L-Methionine\n",
    "              'EX_cpd00322_e': -100., # L-Isoleucine\n",
    "              'EX_cpd00129_e': -100., # L-Proline\n",
    "              'EX_cpd00156_e': -100., # L-Valine\n",
    "              'EX_cpd00107_e': -100., # L-Leucine\n",
    "              'EX_cpd00084_e': -100., # L-Cysteine \n",
    "              'EX_cpd00149_e': -10., # Cobalt\n",
    "              'EX_cpd00099_e': -10., # Chloride\n",
    "              'EX_cpd10515_e': -10., # Iron\n",
    "              'EX_cpd00030_e': -10., # Manganese\n",
    "              'EX_cpd00254_e': -10., # Magnesium\n",
    "              'EX_cpd00063_e': -10., # Calcium\n",
    "              'EX_cpd00205_e': -10., # Potassium\n",
    "              'EX_cpd00009_e': -10., # Phosphate\n",
    "              'EX_cpd00971_e': -10., # Sodium\n",
    "              'EX_cpd00242_e': -10., # Carbonate\n",
    "              'EX_cpd00104_e': -10., # Biotin\n",
    "              'EX_cpd00644_e': -10., # Pantothenate\n",
    "              'EX_cpd00263_e': -10.} # Pyridoxine\n",
    "\n",
    "for rxn in model.boundary: \n",
    "    try:\n",
    "        rxn.lowed_bound = mdm_noGluc[rxn.id]\n",
    "    except KeyError:\n",
    "        rxn.bounds = (0., 1000.)\n",
    "\n",
    "print(model.slim_optimize())"
   ]
  },
  {
   "cell_type": "code",
   "execution_count": 15,
   "metadata": {},
   "outputs": [],
   "source": [
    "# DFBA function\n",
    "\n",
    "import numpy as np\n",
    "from tqdm import tqdm\n",
    "\n",
    "from scipy.integrate import solve_ivp\n",
    "\n",
    "\n",
    "import matplotlib.pyplot as plt\n",
    "%matplotlib inline\n",
    "\n",
    "def add_dynamic_bounds(model, y):\n",
    "    \"\"\"Use external concentrations to bound the uptake flux of glucose.\"\"\"\n",
    "    biomass, glucose = y  # expand the boundary species\n",
    "    glucose_max_import = -10 * glucose / (5 + glucose)\n",
    "    model.reactions.EX_cpd00027_e.lower_bound = glucose_max_import\n",
    "\n",
    "\n",
    "def dynamic_system(t, y):\n",
    "    \"\"\"Calculate the time derivative of external species.\"\"\"\n",
    "\n",
    "    biomass, glucose = y  # expand the boundary species\n",
    "\n",
    "    # Calculate the specific exchanges fluxes at the given external concentrations.\n",
    "    with model:\n",
    "        add_dynamic_bounds(model, y)\n",
    "\n",
    "        cobra.util.add_lp_feasibility(model)\n",
    "        feasibility = cobra.util.fix_objective_as_constraint(model)\n",
    "        lex_constraints = cobra.util.add_lexicographic_constraints(\n",
    "            model, ['biomass', 'EX_cpd00027_e'], ['max', 'max'])\n",
    "\n",
    "    # Since the calculated fluxes are specific rates, we multiply them by the\n",
    "    # biomass concentration to get the bulk exchange rates.\n",
    "    fluxes = lex_constraints.values\n",
    "    fluxes *= biomass\n",
    "\n",
    "    # This implementation is **not** efficient, so I display the current\n",
    "    # simulation time using a progress bar.\n",
    "    if dynamic_system.pbar is not None:\n",
    "        dynamic_system.pbar.update(1)\n",
    "        dynamic_system.pbar.set_description('t = {:.3f}'.format(t))\n",
    "\n",
    "    return fluxes\n",
    "\n",
    "dynamic_system.pbar = None\n",
    "\n",
    "\n",
    "def infeasible_event(t, y):\n",
    "    \"\"\"\n",
    "    Determine solution feasibility.\n",
    "\n",
    "    Avoiding infeasible solutions is handled by solve_ivp's built-in event detection.\n",
    "    This function re-solves the LP to determine whether or not the solution is feasible\n",
    "    (and if not, how far it is from feasibility). When the sign of this function changes\n",
    "    from -epsilon to positive, we know the solution is no longer feasible.\n",
    "\n",
    "    \"\"\"\n",
    "\n",
    "    with model:\n",
    "        add_dynamic_bounds(model, y)\n",
    "        cobra.util.add_lp_feasibility(model)\n",
    "        feasibility = cobra.util.fix_objective_as_constraint(model)\n",
    "\n",
    "    return feasibility - infeasible_event.epsilon\n",
    "\n",
    "infeasible_event.epsilon = 1E-6\n",
    "infeasible_event.direction = 1\n",
    "infeasible_event.terminal = True\n"
   ]
  },
  {
   "cell_type": "code",
   "execution_count": 16,
   "metadata": {},
   "outputs": [
    {
     "name": "stderr",
     "output_type": "stream",
     "text": [
      "t = 0.651: : 3154it [2:02:09,  2.32s/it]\n"
     ]
    }
   ],
   "source": [
    "ts = np.linspace(0, 15, 100)  # Desired integration resolution and interval\n",
    "y0 = [0.1, 10]\n",
    "\n",
    "with tqdm() as pbar:\n",
    "    dynamic_system.pbar = pbar\n",
    "\n",
    "    sol = solve_ivp(\n",
    "        fun=dynamic_system,\n",
    "        events=[infeasible_event],\n",
    "        t_span=(ts.min(), ts.max()),\n",
    "        y0=y0,\n",
    "        t_eval=ts,\n",
    "        rtol=1e-6,\n",
    "        atol=1e-8,\n",
    "        method='BDF'\n",
    "    )\n"
   ]
  },
  {
   "cell_type": "code",
   "execution_count": 17,
   "metadata": {},
   "outputs": [
    {
     "data": {
      "text/plain": [
       "  message: 'Required step size is less than spacing between numbers.'\n",
       "     nfev: 2637\n",
       "     njev: 171\n",
       "      nlu: 697\n",
       "      sol: None\n",
       "   status: -1\n",
       "  success: False\n",
       "        t: array([0.        , 0.15151515, 0.3030303 , 0.45454545, 0.60606061])\n",
       " t_events: [array([], dtype=float64)]\n",
       "        y: array([[ 1.00000000e-01,  1.43716482e+01,  1.93657168e+03,\n",
       "         2.56189137e+05,  3.38915895e+07],\n",
       "       [ 1.00000000e+01,  7.25162383e+00,  1.17158604e-07,\n",
       "        -4.44242025e-11,  4.81926842e-06]])"
      ]
     },
     "execution_count": 17,
     "metadata": {},
     "output_type": "execute_result"
    }
   ],
   "source": [
    "sol"
   ]
  },
  {
   "cell_type": "code",
   "execution_count": 18,
   "metadata": {},
   "outputs": [
    {
     "data": {
      "text/plain": [
       "Text(0, 0.5, 'Glucose')"
      ]
     },
     "execution_count": 18,
     "metadata": {},
     "output_type": "execute_result"
    },
    {
     "data": {
      "image/png": "[encoded data removed]",
      "text/plain": [
       "<Figure size 432x288 with 2 Axes>"
      ]
     },
     "metadata": {
      "needs_background": "light"
     },
     "output_type": "display_data"
    }
   ],
   "source": [
    "ax = plt.subplot(111)\n",
    "ax.plot(sol.t, sol.y.T[:, 0])\n",
    "ax2 = plt.twinx(ax)\n",
    "ax2.plot(sol.t, sol.y.T[:, 1], color='r')\n",
    "\n",
    "ax.set_ylabel('Biomass', color='b')\n",
    "ax2.set_ylabel('Glucose', color='r')"
   ]
  },
  {
   "cell_type": "code",
   "execution_count": null,
   "metadata": {},
   "outputs": [],
   "source": []
  },
  {
   "cell_type": "code",
   "execution_count": null,
   "metadata": {},
   "outputs": [],
   "source": []
  },
  {
   "cell_type": "code",
   "execution_count": null,
   "metadata": {},
   "outputs": [],
   "source": []
  },
  {
   "cell_type": "code",
   "execution_count": null,
   "metadata": {},
   "outputs": [],
   "source": []
  }
 ],
 "metadata": {
  "kernelspec": {
   "display_name": "Python 3",
   "language": "python",
   "name": "python3"
  },
  "language_info": {
   "codemirror_mode": {
    "name": "ipython",
    "version": 3
   },
   "file_extension": ".py",
   "mimetype": "text/x-python",
   "name": "python",
   "nbconvert_exporter": "python",
   "pygments_lexer": "ipython3",
   "version": "3.7.5"
  }
 },
 "nbformat": 4,
 "nbformat_minor": 2
}
