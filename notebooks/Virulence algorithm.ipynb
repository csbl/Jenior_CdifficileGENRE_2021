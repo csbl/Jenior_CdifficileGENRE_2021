{
 "cells": [
  {
   "cell_type": "code",
   "execution_count": 1,
   "metadata": {},
   "outputs": [],
   "source": [
    "from riptide import *"
   ]
  },
  {
   "cell_type": "code",
   "execution_count": 2,
   "metadata": {},
   "outputs": [
    {
     "ename": "SyntaxError",
     "evalue": "invalid syntax (<ipython-input-2-ae19f70a1357>, line 3)",
     "output_type": "error",
     "traceback": [
      "\u001b[0;36m  File \u001b[0;32m\"<ipython-input-2-ae19f70a1357>\"\u001b[0;36m, line \u001b[0;32m3\u001b[0m\n\u001b[0;31m    save riptide models and just read them in here to save time\u001b[0m\n\u001b[0m               ^\u001b[0m\n\u001b[0;31mSyntaxError\u001b[0m\u001b[0;31m:\u001b[0m invalid syntax\n"
     ]
    }
   ],
   "source": [
    "# Load in models\n",
    "\n",
    "save riptide models and just read them in here to save time\n",
    "\n",
    "# Collate reactions that utilize substrates of interest\n",
    "    saved_rxns = set()\n",
    "    for rxn in model.reactions:\n",
    "        for cpd in rxn.reactants:\n",
    "            if cpd.id in substrates:\n",
    "                saved_rxns |= set([rxn.id])\n",
    "    rxn_dict = {}"
   ]
  },
  {
   "cell_type": "code",
   "execution_count": 13,
   "metadata": {},
   "outputs": [],
   "source": [
    "# Virulence algorithm rough draft\n",
    "\n",
    "from cobra.flux_analysis.variability import *\n",
    "\n",
    "def virulence_contribution(model, substrates, optimum_fraction=0.85, cytosol='cytosol'):\n",
    "    # model = COBRA model (REQUIRED)\n",
    "    # substrates = list or set of metabolite IDs (REQUIRED)\n",
    "    # optimum_fraction = fraction of optimum to constrain previous objective\n",
    "    # cytosol = label for intracellular compartment\n",
    "    \n",
    "    # Save exchange reactions IDs\n",
    "    exchanges = set()\n",
    "    for rxn in model.reactions:\n",
    "        if len(list(rxn.reactants)) == 0 or len(list(rxn.products)) == 0:\n",
    "            exchanges |= set([rxn.id])\n",
    "        \n",
    "    # Assess essentiality of base model (1% objective flux)\n",
    "    base_genes = find_essential_genes(model)\n",
    "    base_rxns = find_essential_reactions(model)\n",
    "    \n",
    "    # Handle both intra- and extracellular metabolites\n",
    "    substrates = [x.split('_')[0] for x in substrates]\n",
    "    intracellular_cpd = set([x + '_c' for x in substrates])\n",
    "    extracellular_cpd = set([x + '_e' for x in substrates])\n",
    "    \n",
    "    # Create substrate coefficient dictionary\n",
    "    substrate_coeff_dict = {}\n",
    "    metabolites = set([x.id for x in model.metabolites])\n",
    "    for cpd in intracellular_cpd: \n",
    "        # check if metabolite is not in the model\n",
    "        if cpd not in metabolites:\n",
    "            continue\n",
    "        else:\n",
    "            substrate_coeff_dict[model.metabolites.get_by_id(cpd)] = -1.0\n",
    "    \n",
    "    # Create virulence metabolite\n",
    "    virulence_cpd_c = cobra.Metabolite(\n",
    "    'virulence',\n",
    "    name='Virulence factors',\n",
    "    compartment=cytosol)\n",
    "    substrate_coeff_dict[virulence_cpd_c] = 1.0\n",
    "        \n",
    "    with model as m:\n",
    "        \n",
    "        # Fix previous objective as a constraint\n",
    "        prev_obj_val = m.slim_optimize()\n",
    "        prev_obj_constraint = m.problem.Constraint(m.objective.expression, \n",
    "                                                   lb=prev_obj_val*optimum_fraction, ub=prev_obj_val)\n",
    "        m.add_cons_vars([prev_obj_constraint])\n",
    "    \n",
    "        # Add virulence reaction and sink\n",
    "        virulence_rxn_c = cobra.Reaction('virulence_rxn_c') \n",
    "        virulence_rxn_c.name = 'Virulence factor generation'\n",
    "        virulence_rxn_c.lower_bound = 0.\n",
    "        virulence_rxn_c.upper_bound = 1000.\n",
    "        virulence_rxn_c.add_metabolites(substrate_coeff_dict)\n",
    "        m.add_reactions([virulence_rxn_c])\n",
    "        m.add_boundary(virulence_cpd_c, type='sink', reaction_id='virulence_DM', ub=1000.)\n",
    "        \n",
    "        # Set new objective\n",
    "        m.objective = m.reactions.virulence_rxn_c\n",
    "\n",
    "        # Check essentiality, screen against those essential to biomass\n",
    "        virulence_genes = find_essential_genes(m)\n",
    "        virulence_genes = virulence_genes.difference(base_genes)\n",
    "        virulence_genes = set([x.id for x in virulence_genes])\n",
    "        virulence_rxns = find_essential_reactions(m)\n",
    "        virulence_rxns = virulence_rxns.difference(base_rxns)\n",
    "        virulence_substrates = set()\n",
    "        for rxn in virulence_rxns:\n",
    "            for cpd in rxn.reactants:\n",
    "                test = cpd.id.split('_')[0]\n",
    "                if test not in substrates:\n",
    "                    virulence_substrates |= set([cpd.id])\n",
    "        virulence_substrates = virulence_substrates.difference(set(['virulence']))\n",
    "        # Usually includes several co-factors that aren't super informative\n",
    "        \n",
    "    # Look an additonal degree away from the identified nodes, leverage to architecture of the network\n",
    "    adj_genes, adj_cpds = track_adjacent(model, virulence_rxns, virulence_substrates, virulence_genes)\n",
    "    \n",
    "    # Report some stats\n",
    "    print('Genes directly associated with virulence: ' + str(len(virulence_genes)))\n",
    "    print('Metabolites directly associated with virulence: ' + str(len(virulence_substrates)) + '\\n')\n",
    "    \n",
    "    print('Genes indirectly associated with virulence: ' + str(len(adj_genes)))\n",
    "    print('Metabolites indirectly associated with virulence: ' + str(len(adj_cpds)))\n",
    "    \n",
    "    return virulence_genes, virulence_substrates, adj_genes, adj_cpds\n",
    "\n",
    "\n",
    "def track_adjacent(model, reactions, metabolites, genes, optimum_fraction=0.85):\n",
    "    \n",
    "    # Essentiality check for near-optimal virulence production \n",
    "    with model as m:\n",
    "        obj_threshold = m.slim_optimize()\n",
    "        high_flux_genes = find_essential_genes(m, threshold=obj_threshold * optimum_fraction)\n",
    "        high_flux_reactions = find_essential_reactions(m, threshold=obj_threshold * optimum_fraction)\n",
    "        high_flux_substrates = set()\n",
    "        for rxn in high_flux_reactions:\n",
    "            for cpd in rxn.reactants:\n",
    "                if cpd.id not in metabolites:\n",
    "                    high_flux_substrates |= set([cpd.id])\n",
    "    \n",
    "    # Parse model topology for adjacency\n",
    "    adjacent_substrates = set()\n",
    "    adjacent_genes = set()\n",
    "    for cpd1 in metabolites:\n",
    "        for rxn in model.metabolites.get_by_id(cpd1).reactions:\n",
    "            if rxn.id not in reactions:\n",
    "                adjacent_genes |= rxn.genes\n",
    "                for cpd2 in rxn.reactants:\n",
    "                    if cpd2.id not in metabolites:\n",
    "                        adjacent_substrates |= set([cpd2.id])\n",
    "                \n",
    "    # Compare to high flux essentiality\n",
    "    adjacent_substrates = high_flux_substrates.intersection(adjacent_substrates)\n",
    "    adjacent_substrates = adjacent_substrates.difference(metabolites)\n",
    "    adjacent_genes = high_flux_genes.intersection(adjacent_genes)\n",
    "    adjacent_genes = adjacent_genes.difference(genes)\n",
    "    \n",
    "    return adjacent_genes, adjacent_substrates\n",
    "    \n"
   ]
  },
  {
   "cell_type": "code",
   "execution_count": 14,
   "metadata": {},
   "outputs": [],
   "source": [
    "iCdJ794 = cobra.io.read_sbml_model('/home/mjenior/Desktop/repos/Jenior_iCdJ794_2019/data/iCdJ794.sbml')\n",
    "toxin_metabolites = ['cpd00129','cpd00567']"
   ]
  },
  {
   "cell_type": "code",
   "execution_count": 15,
   "metadata": {},
   "outputs": [
    {
     "name": "stdout",
     "output_type": "stream",
     "text": [
      "Genes directly associated with virulence: 8\n",
      "Metabolites directly associated with virulence: 12\n",
      "\n",
      "Genes indirectly associated with virulence: 39\n",
      "Metabolites indirectly associated with virulence: 110\n"
     ]
    }
   ],
   "source": [
    "base_genes, base_substrates, adj_genes, adj_cpds = virulence_contribution(iCdJ794, toxin_metabolites)"
   ]
  },
  {
   "cell_type": "code",
   "execution_count": 19,
   "metadata": {},
   "outputs": [
    {
     "data": {
      "text/plain": [
       "'Phosphatidylglycerol dioctadecanoyl'"
      ]
     },
     "execution_count": 19,
     "metadata": {},
     "output_type": "execute_result"
    }
   ],
   "source": [
    "iCdJ794.metabolites.get_by_id(list(adj_cpds)[28]).name"
   ]
  },
  {
   "cell_type": "code",
   "execution_count": 48,
   "metadata": {},
   "outputs": [
    {
     "data": {
      "text/html": [
       "\n",
       "        <table>\n",
       "            <tr>\n",
       "                <td><strong>Gene identifier</strong></td><td>CD630_01120</td>\n",
       "            </tr><tr>\n",
       "                <td><strong>Name</strong></td><td>CD630_01120</td>\n",
       "            </tr><tr>\n",
       "                <td><strong>Memory address</strong></td>\n",
       "                <td>0x07fcab12c1150</td>\n",
       "            </tr><tr>\n",
       "                <td><strong>Functional</strong></td><td>True</td>\n",
       "            </tr><tr>\n",
       "                <td><strong>In 7 reaction(s)</strong></td><td>\n",
       "                    rxn00669_c, R01174_2_c, rxn00871_c, R01174_4_c, R01174_5_c, R01174_1_c, R01174_3_c</td>\n",
       "            </tr>\n",
       "        </table>"
      ],
      "text/plain": [
       "<Gene CD630_01120 at 0x7fcab12c1150>"
      ]
     },
     "execution_count": 48,
     "metadata": {},
     "output_type": "execute_result"
    }
   ],
   "source": [
    "iCdJ794.genes.get_by_id(list(base_genes)[7])"
   ]
  }
 ],
 "metadata": {
  "kernelspec": {
   "display_name": "Python 3",
   "language": "python",
   "name": "python3"
  },
  "language_info": {
   "codemirror_mode": {
    "name": "ipython",
    "version": 2
   },
   "file_extension": ".py",
   "mimetype": "text/x-python",
   "name": "python",
   "nbconvert_exporter": "python",
   "pygments_lexer": "ipython2",
   "version": "2.7.14"
  }
 },
 "nbformat": 4,
 "nbformat_minor": 2
}
