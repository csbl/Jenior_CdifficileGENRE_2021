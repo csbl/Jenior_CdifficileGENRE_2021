{
 "cells": [
  {
   "cell_type": "code",
   "execution_count": null,
   "metadata": {},
   "outputs": [],
   "source": [
    "from riptide import *"
   ]
  },
  {
   "cell_type": "code",
   "execution_count": null,
   "metadata": {},
   "outputs": [],
   "source": [
    "# Load in models\n",
    "\n",
    "save riptide models and just read them in here to save time\n",
    "\n",
    "# Collate reactions that utilize substrates of interest\n",
    "    saved_rxns = set()\n",
    "    for rxn in model.reactions:\n",
    "        for cpd in rxn.reactants:\n",
    "            if cpd.id in substrates:\n",
    "                saved_rxns |= set([rxn.id])\n",
    "    rxn_dict = {}"
   ]
  },
  {
   "cell_type": "code",
   "execution_count": 2,
   "metadata": {},
   "outputs": [],
   "source": [
    "# Virulence algorith rough draft\n",
    "\n",
    "from cobra.flux_analysis.variability import find_essential_reactions\n",
    "\n",
    "def virulence(model, substrates, optimum_fraction=0.80, cytosol='cytosol'):\n",
    "    # model = COBRA model (REQUIRED)\n",
    "    # substrates = list or set of metabolite IDs (REQUIRED)\n",
    "    # optimum_fraction = fraction of optimum to constrain previous objective\n",
    "    # cytosol = label for intracellular compartment\n",
    "    \n",
    "    # Find intracellular and extracellular versions of substrates of interest\n",
    "    # to be added later\n",
    "    \n",
    "    # Create substrate coefficient dictionary\n",
    "    substrate_coeff_dict = {}\n",
    "    metabolites = [x.id for x in model.metabolites]\n",
    "    for cpd in substrates: \n",
    "        # check if metabolite is not in the model\n",
    "        if cpd not in metabolites:\n",
    "            continue\n",
    "        else:\n",
    "            substrate_coeff_dict[cpd] = -1.0\n",
    "        \n",
    "    with model as m:\n",
    "        \n",
    "        # Fix previous objective as a constraint\n",
    "        prev_obj_val = constrained_model.slim_optimize()\n",
    "        prev_obj_constraint = constrained_model.problem.Constraint(constrained_model.objective.expression, lb=prev_obj_val*optimum_fraction, ub=prev_obj_val)\n",
    "        model.add_cons_vars([prev_obj_constraint])\n",
    "    \n",
    "        # Create virulence metabolite\n",
    "        virulence_cpd_c = cobra.Metabolite(\n",
    "        'virulence',\n",
    "        name='Virulence factors',\n",
    "        compartment=cytosol)\n",
    "        substrate_coeff_dict[rxn] = -1.0\n",
    "        \n",
    "        # Create virulence reaction\n",
    "        virulence_rxn_c = cobra.Reaction('virulence_rxn_c') \n",
    "        virulence_rxn_c.name = 'Virulence factor generation'\n",
    "        virulence_rxn_c.lower_bound = 0.\n",
    "        virulence_rxn_c.upper_bound = 1000.\n",
    "        virulence_rxn_c.add_metabolites(substrate_coeff_dict)\n",
    "        m.add_reactions([virulence_rxn_c])\n",
    "        \n",
    "        # Add virulence metabolite sink\n",
    "        m.add_boundary(virulence, type='sink', reaction_id='virulence_DM', ub=1000.)\n",
    "\n",
    "        # Check essentiality at both 1% and optimum_fraction, screen against exchanges\n",
    "        low = find_essential_reactions(m)\n",
    "        for x in low:\n",
    "            if 'EX_' in x: low.remove(x)\n",
    "        high = find_essential_reactions(m, threshold=optimum_fraction)\n",
    "        for x in high:\n",
    "            if 'EX_' in x: high.remove(x)\n",
    "    \n",
    "    return low, high\n"
   ]
  },
  {
   "cell_type": "code",
   "execution_count": null,
   "metadata": {},
   "outputs": [],
   "source": []
  }
 ],
 "metadata": {
  "kernelspec": {
   "display_name": "Python 3",
   "language": "python",
   "name": "python3"
  },
  "language_info": {
   "codemirror_mode": {
    "name": "ipython",
    "version": 2
   },
   "file_extension": ".py",
   "mimetype": "text/x-python",
   "name": "python",
   "nbconvert_exporter": "python",
   "pygments_lexer": "ipython2",
   "version": "2.7.14"
  }
 },
 "nbformat": 4,
 "nbformat_minor": 2
}
