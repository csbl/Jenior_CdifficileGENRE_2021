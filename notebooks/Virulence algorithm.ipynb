{
 "cells": [
  {
   "cell_type": "code",
   "execution_count": 1,
   "metadata": {},
   "outputs": [],
   "source": [
    "from riptide import *"
   ]
  },
  {
   "cell_type": "code",
   "execution_count": 25,
   "metadata": {},
   "outputs": [],
   "source": [
    "iCdJ794 = cobra.io.read_sbml_model('/home/matthew/Desktop/repos/Jenior_iCdJ794_2019/data/iCdJ794.sbml')"
   ]
  },
  {
   "cell_type": "code",
   "execution_count": 28,
   "metadata": {},
   "outputs": [],
   "source": [
    "# Read in formatted transcription files\n",
    "def read_transcription(infile):\n",
    "    abund_dict = {}\n",
    "    with open(infile, 'r') as abunds:\n",
    "        header = abunds.readline()\n",
    "        for line in abunds:\n",
    "            line = line.split()\n",
    "            gene = line[0].split('|')[0]\n",
    "            abund = float(line[2])\n",
    "            abund_dict[gene] = abund\n",
    "    \n",
    "    return abund_dict\n",
    "\n",
    "# Read in in vivo C. difficile transcription\n",
    "cefoperazone = read_transcription('/home/matthew/Desktop/repos/Jenior_iCdJ794_2019/data/transcript/cefoperazone_630.mapped.norm.tsv')\n",
    "clindamycin = read_transcription('/home/matthew/Desktop/repos/Jenior_iCdJ794_2019/data/transcript/clindamycin_630.mapped.norm.tsv')\n",
    "streptomycin = read_transcription('/home/matthew/Desktop/repos/Jenior_iCdJ794_2019/data/transcript/streptomycin_630.mapped.norm.tsv')"
   ]
  },
  {
   "cell_type": "code",
   "execution_count": 29,
   "metadata": {},
   "outputs": [
    {
     "name": "stdout",
     "output_type": "stream",
     "text": [
      "\n",
      "Initializing model and integrating transcriptomic data...\n",
      "Pruning zero flux subnetworks...\n",
      "Exploring context-specific flux distributions...\n",
      "\n",
      "Reactions pruned to 288 from 1129 (74.49% change)\n",
      "Metabolites pruned to 284 from 1134 (74.96% change)\n",
      "Flux through the objective DECREASED to ~69.94 from ~89.77 (22.09% change)\n",
      "\n",
      "RIPTiDe completed in 14 seconds\n",
      "\n",
      "\n",
      "Initializing model and integrating transcriptomic data...\n",
      "Pruning zero flux subnetworks...\n",
      "Exploring context-specific flux distributions...\n",
      "\n",
      "Reactions pruned to 286 from 1129 (74.67% change)\n",
      "Metabolites pruned to 284 from 1134 (74.96% change)\n",
      "Flux through the objective DECREASED to ~73.18 from ~89.77 (18.48% change)\n",
      "\n",
      "RIPTiDe completed in 15 seconds\n",
      "\n",
      "\n",
      "Initializing model and integrating transcriptomic data...\n",
      "Pruning zero flux subnetworks...\n",
      "Exploring context-specific flux distributions...\n",
      "\n",
      "Reactions pruned to 291 from 1129 (74.22% change)\n",
      "Metabolites pruned to 288 from 1134 (74.6% change)\n",
      "Flux through the objective DECREASED to ~74.9 from ~89.77 (16.56% change)\n",
      "\n",
      "RIPTiDe completed in 16 seconds\n",
      "\n"
     ]
    }
   ],
   "source": [
    "# Run RIPTiDe contextualization\n",
    "cef_iCdJ794_riptide = riptide.contextualize(model=iCdJ794, transcription=cefoperazone)\n",
    "clinda_iCdJ794_riptide = riptide.contextualize(model=iCdJ794, transcription=clindamycin)\n",
    "strep_iCdJ794_riptide = riptide.contextualize(model=iCdJ794, transcription=streptomycin)"
   ]
  },
  {
   "cell_type": "code",
   "execution_count": 43,
   "metadata": {},
   "outputs": [],
   "source": [
    "# Virulence algorithm rough draft\n",
    "\n",
    "from cobra.flux_analysis.variability import *\n",
    "\n",
    "def virulence_contribution(model, substrates, optimum_fraction=0.85, cytosol='cytosol'):\n",
    "    # model = COBRA model (REQUIRED)\n",
    "    # substrates = list or set of metabolite IDs (REQUIRED)\n",
    "    # optimum_fraction = fraction of optimum to constrain previous objective\n",
    "    # cytosol = label for intracellular compartment\n",
    "    \n",
    "    # Save exchange reactions IDs\n",
    "    exchanges = set()\n",
    "    for rxn in model.reactions:\n",
    "        if len(list(rxn.reactants)) == 0 or len(list(rxn.products)) == 0:\n",
    "            exchanges |= set([rxn.id])\n",
    "        \n",
    "    # Assess essentiality of base model (1% objective flux)\n",
    "    base_genes = find_essential_genes(model)\n",
    "    base_rxns = find_essential_reactions(model)\n",
    "    \n",
    "    # Handle both intra- and extracellular metabolites\n",
    "    substrates = [x.split('_')[0] for x in substrates]\n",
    "    intracellular_cpd = set([x + '_c' for x in substrates])\n",
    "    extracellular_cpd = set([x + '_e' for x in substrates])\n",
    "    \n",
    "    # Create substrate coefficient dictionary\n",
    "    substrate_coeff_dict = {}\n",
    "    metabolites = set([x.id for x in model.metabolites])\n",
    "    for cpd in intracellular_cpd: \n",
    "        # check if metabolite is not in the model\n",
    "        if cpd not in metabolites:\n",
    "            continue\n",
    "        else:\n",
    "            substrate_coeff_dict[model.metabolites.get_by_id(cpd)] = -1.0\n",
    "    \n",
    "    # Create virulence metabolite\n",
    "    virulence_cpd_c = cobra.Metabolite(\n",
    "    'virulence',\n",
    "    name='Virulence factors',\n",
    "    compartment=cytosol)\n",
    "    substrate_coeff_dict[virulence_cpd_c] = 1.0\n",
    "        \n",
    "    with model as m:\n",
    "        \n",
    "        # Fix previous objective as a constraint\n",
    "        prev_obj_val = m.slim_optimize()\n",
    "        prev_obj_constraint = m.problem.Constraint(m.objective.expression, \n",
    "                                                   lb=prev_obj_val*optimum_fraction, ub=prev_obj_val)\n",
    "        m.add_cons_vars([prev_obj_constraint])\n",
    "    \n",
    "        # Add virulence reaction and sink\n",
    "        virulence_rxn_c = cobra.Reaction('virulence_rxn_c') \n",
    "        virulence_rxn_c.name = 'Virulence factor generation'\n",
    "        virulence_rxn_c.lower_bound = 0.\n",
    "        virulence_rxn_c.upper_bound = 1000.\n",
    "        virulence_rxn_c.add_metabolites(substrate_coeff_dict)\n",
    "        m.add_reactions([virulence_rxn_c])\n",
    "        m.add_boundary(virulence_cpd_c, type='sink', reaction_id='virulence_DM', ub=1000.)\n",
    "        \n",
    "        # Set new objective\n",
    "        m.objective = m.reactions.virulence_rxn_c\n",
    "\n",
    "        # Check essentiality, screen against those essential to biomass\n",
    "        virulence_genes = find_essential_genes(m)\n",
    "        virulence_genes = virulence_genes.difference(base_genes)\n",
    "        virulence_genes = set([x.id for x in virulence_genes])\n",
    "        virulence_rxns = find_essential_reactions(m)\n",
    "        virulence_rxns = virulence_rxns.difference(base_rxns)\n",
    "        virulence_substrates = set()\n",
    "        for rxn in virulence_rxns:\n",
    "            for cpd in rxn.reactants:\n",
    "                test = cpd.id.split('_')[0]\n",
    "                if test not in substrates:\n",
    "                    virulence_substrates |= set([cpd.id])\n",
    "        virulence_substrates = virulence_substrates.difference(set(['virulence']))\n",
    "        # Usually includes several co-factors that aren't super informative\n",
    "        \n",
    "    # Look an additonal degree away from the identified nodes, leverage to architecture of the network\n",
    "    adj_genes, adj_cpds = track_adjacent(model, virulence_rxns, virulence_substrates, virulence_genes, intracellular_cpd)\n",
    "    \n",
    "    # Report some stats\n",
    "    print('Genes directly associated with virulence: ' + str(len(virulence_genes)))\n",
    "    print('Metabolites directly associated with virulence: ' + str(len(virulence_substrates)) + '\\n')\n",
    "    \n",
    "    print('Genes indirectly associated with virulence: ' + str(len(adj_genes)))\n",
    "    print('Metabolites indirectly associated with virulence: ' + str(len(adj_cpds)))\n",
    "    \n",
    "    return virulence_genes, virulence_substrates, adj_genes, adj_cpds\n",
    "\n",
    "\n",
    "def track_adjacent(model, reactions, metabolites, genes, ignore):\n",
    "    \n",
    "    optimum_fraction=0.85\n",
    "    \n",
    "    # Essentiality check for near-optimal virulence production \n",
    "    with model as m:\n",
    "        obj_threshold = m.slim_optimize()\n",
    "        high_flux_genes = find_essential_genes(m, threshold=obj_threshold * optimum_fraction)\n",
    "        high_flux_reactions = find_essential_reactions(m, threshold=obj_threshold * optimum_fraction)\n",
    "        high_flux_substrates = set()\n",
    "        for rxn in high_flux_reactions:\n",
    "            for cpd in rxn.reactants:\n",
    "                if cpd.id not in metabolites:\n",
    "                    high_flux_substrates |= set([cpd.id])\n",
    "    \n",
    "    # Parse model topology for adjacency\n",
    "    adjacent_substrates = set()\n",
    "    adjacent_genes = set()\n",
    "    for cpd1 in metabolites:\n",
    "        for rxn in model.metabolites.get_by_id(cpd1).reactions:\n",
    "            if rxn.id not in reactions:\n",
    "                adjacent_genes |= rxn.genes\n",
    "                for cpd2 in rxn.reactants:\n",
    "                    if cpd2.id not in metabolites:\n",
    "                        adjacent_substrates |= set([cpd2.id])\n",
    "                \n",
    "    # Compare to high flux essentiality\n",
    "    adjacent_substrates = high_flux_substrates.intersection(adjacent_substrates)\n",
    "    adjacent_substrates = adjacent_substrates.difference(metabolites).difference(ignore)\n",
    "    adjacent_genes = high_flux_genes.intersection(adjacent_genes)\n",
    "    adjacent_genes = adjacent_genes.difference(genes)\n",
    "    \n",
    "    return adjacent_genes, adjacent_substrates\n",
    "    \n"
   ]
  },
  {
   "cell_type": "code",
   "execution_count": 31,
   "metadata": {},
   "outputs": [],
   "source": [
    "# Karlsson et al. (1999). Microbiology\n",
    "# Antunes et al. (2012). Nucleic Acids Res.\n",
    "proline = ['cpd00129','cpd00567'] \n",
    "glucose = ['cpd00026','cpd00027','cpd00079','cpd00089','cpd00190','cpd00499']\n",
    "fructose = ['cpd00072','cpd00082','cpd00802','cpd00503']\n",
    "mannitol = ['cpd00314','cpd00491','cpd34018']\n",
    "sucrose = ['cpd00076','cpd19187']\n",
    "\n",
    "toxin_metabolites = proline + glucose + fructose + mannitol + sucrose"
   ]
  },
  {
   "cell_type": "code",
   "execution_count": 44,
   "metadata": {},
   "outputs": [
    {
     "name": "stdout",
     "output_type": "stream",
     "text": [
      "Genes directly associated with virulence: 8\n",
      "Metabolites directly associated with virulence: 12\n",
      "\n",
      "Genes indirectly associated with virulence: 39\n",
      "Metabolites indirectly associated with virulence: 107\n"
     ]
    }
   ],
   "source": [
    "base_genes, base_substrates, adj_genes, adj_cpds = virulence_contribution(iCdJ794, toxin_metabolites)"
   ]
  },
  {
   "cell_type": "code",
   "execution_count": 45,
   "metadata": {},
   "outputs": [
    {
     "name": "stdout",
     "output_type": "stream",
     "text": [
      "Genes directly associated with virulence: 21\n",
      "Metabolites directly associated with virulence: 50\n",
      "\n",
      "Genes indirectly associated with virulence: 71\n",
      "Metabolites indirectly associated with virulence: 138\n"
     ]
    }
   ],
   "source": [
    "cef_genes, cef_substrates, cef_adj_genes, cef_adj_cpds = virulence_contribution(cef_iCdJ794_riptide.model, toxin_metabolites)"
   ]
  },
  {
   "cell_type": "code",
   "execution_count": 46,
   "metadata": {},
   "outputs": [
    {
     "name": "stdout",
     "output_type": "stream",
     "text": [
      "Genes directly associated with virulence: 18\n",
      "Metabolites directly associated with virulence: 48\n",
      "\n",
      "Genes indirectly associated with virulence: 67\n",
      "Metabolites indirectly associated with virulence: 136\n"
     ]
    }
   ],
   "source": [
    "clinda_genes, clinda_substrates, clinda_adj_genes, clinda_adj_cpds = virulence_contribution(clinda_iCdJ794_riptide.model, toxin_metabolites)"
   ]
  },
  {
   "cell_type": "code",
   "execution_count": 47,
   "metadata": {},
   "outputs": [
    {
     "name": "stdout",
     "output_type": "stream",
     "text": [
      "Genes directly associated with virulence: 22\n",
      "Metabolites directly associated with virulence: 44\n",
      "\n",
      "Genes indirectly associated with virulence: 69\n",
      "Metabolites indirectly associated with virulence: 139\n"
     ]
    }
   ],
   "source": [
    "strep_genes, strep_substrates, strep_adj_genes, strep_adj_cpds = virulence_contribution(strep_iCdJ794_riptide.model, toxin_metabolites)"
   ]
  },
  {
   "cell_type": "code",
   "execution_count": 48,
   "metadata": {},
   "outputs": [
    {
     "name": "stdout",
     "output_type": "stream",
     "text": [
      "H2O\n",
      "2-Demethylmenaquinone 8\n",
      "Malonyl-CoA\n",
      "2-Methylbutyrate\n",
      "CoA\n",
      "Phosphate\n",
      "ATP\n",
      "Pyruvate\n",
      "Ubiquinone-8\n",
      "Glycolate\n",
      "Palmitate\n",
      "2-Methylbutyryl-CoA\n",
      "L-Aspartate\n",
      "Acetyl-CoA\n",
      "NADPH\n",
      "L-Isoleucine\n",
      "ocdca\n",
      "3MOP\n",
      "Propionate\n",
      "2-Oxoglutarate\n",
      "ADP\n",
      "Propionate\n",
      "H+\n",
      "L-Aspartate\n",
      "Na+\n",
      "2-Methylbutyrate\n",
      "Propionyl-CoA\n",
      "Formate\n",
      "NADH\n",
      "NAD\n",
      "H+\n"
     ]
    }
   ],
   "source": [
    "toxin_substrates = cef_substrates.intersection(clinda_substrates).intersection(strep_substrates)\n",
    "for x in toxin_substrates: print(iCdJ794.metabolites.get_by_id(x).name)"
   ]
  },
  {
   "cell_type": "code",
   "execution_count": 49,
   "metadata": {},
   "outputs": [
    {
     "name": "stdout",
     "output_type": "stream",
     "text": [
      "Cefoperazone:\n",
      "set()\n",
      "Clindamycin:\n",
      "set()\n",
      "Streptomycin:\n",
      "{'N-Acetyl-D-mannosamine', 'Neu5Ac', '5-Aminopentanoate'}\n"
     ]
    }
   ],
   "source": [
    "# 1st degree\n",
    "cef_only = cef_substrates.difference(clinda_substrates).difference(strep_substrates)\n",
    "cef_only = set([iCdJ794.metabolites.get_by_id(x).name for x in cef_only])\n",
    "clinda_only = clinda_substrates.difference(cef_substrates).difference(strep_substrates)\n",
    "clinda_only = set([iCdJ794.metabolites.get_by_id(x).name for x in clinda_only])\n",
    "strep_only = strep_substrates.difference(clinda_substrates).difference(cef_substrates)\n",
    "strep_only = set([iCdJ794.metabolites.get_by_id(x).name for x in strep_only])\n",
    "\n",
    "print('Cefoperazone:')\n",
    "print(cef_only)\n",
    "print('Clindamycin:')\n",
    "print(clinda_only)\n",
    "print('Streptomycin:')\n",
    "print(strep_only)"
   ]
  },
  {
   "cell_type": "code",
   "execution_count": 50,
   "metadata": {},
   "outputs": [
    {
     "name": "stdout",
     "output_type": "stream",
     "text": [
      "Cefoperazone:\n",
      "set()\n",
      "Clindamycin:\n",
      "set()\n",
      "Streptomycin:\n",
      "{'Glycine', 'N-Acetyl-D-glucosamine 6-phosphate', 'UDP-galactose', 'trdrd', 'Phosphoenolpyruvate'}\n"
     ]
    }
   ],
   "source": [
    "# 2nd degree\n",
    "cef_only = cef_adj_cpds.difference(clinda_adj_cpds).difference(strep_adj_cpds)\n",
    "cef_only = set([iCdJ794.metabolites.get_by_id(x).name for x in cef_only])\n",
    "clinda_only = clinda_adj_cpds.difference(cef_adj_cpds).difference(strep_adj_cpds)\n",
    "clinda_only = set([iCdJ794.metabolites.get_by_id(x).name for x in clinda_only])\n",
    "strep_only = strep_adj_cpds.difference(clinda_adj_cpds).difference(cef_adj_cpds)\n",
    "strep_only = set([iCdJ794.metabolites.get_by_id(x).name for x in strep_only])\n",
    "\n",
    "print('Cefoperazone:')\n",
    "print(cef_only)\n",
    "print('Clindamycin:')\n",
    "print(clinda_only)\n",
    "print('Streptomycin:')\n",
    "print(strep_only)"
   ]
  },
  {
   "cell_type": "code",
   "execution_count": null,
   "metadata": {},
   "outputs": [],
   "source": []
  }
 ],
 "metadata": {
  "kernelspec": {
   "display_name": "Python 3",
   "language": "python",
   "name": "python3"
  },
  "language_info": {
   "codemirror_mode": {
    "name": "ipython",
    "version": 3
   },
   "file_extension": ".py",
   "mimetype": "text/x-python",
   "name": "python",
   "nbconvert_exporter": "python",
   "pygments_lexer": "ipython3",
   "version": "3.7.3"
  }
 },
 "nbformat": 4,
 "nbformat_minor": 2
}
