{
 "cells": [
  {
   "cell_type": "markdown",
   "metadata": {},
   "source": [
    "### Contextualizing iCdR700"
   ]
  },
  {
   "cell_type": "markdown",
   "metadata": {},
   "source": [
    "#### Project summary..."
   ]
  },
  {
   "cell_type": "markdown",
   "metadata": {},
   "source": [
    "### Annotation conversion"
   ]
  },
  {
   "cell_type": "code",
   "execution_count": 1,
   "metadata": {},
   "outputs": [],
   "source": [
    "from riptide import *\n",
    "iCdR700 = cobra.io.load_json_model('/home/mjenior/Desktop/repos/Jenior_Cdifficile_2019/data/reconstructions/iCdR700.json')\n",
    "for rxn in iCdR700.boundary: rxn.bounds = (-1000.,1000.)\n",
    "iCdR700.reactions.EX_cpd00011_e.bounds = (0., 0.) # anaerobic"
   ]
  },
  {
   "cell_type": "code",
   "execution_count": 2,
   "metadata": {},
   "outputs": [],
   "source": [
    "# Read in gene list from iCdR700\n",
    "genre_genes = set()\n",
    "for gene in iCdR700.genes: genre_genes |= set([gene.id])\n",
    "\n",
    "# Parse PATRIC lookup table\n",
    "refseq_dict = {}\n",
    "gene_dict = {}\n",
    "with open('/home/mjenior/Desktop/repos/Jenior_Cdifficile_2019/data/transcript/tamayo_etal/phase_variation/CdR20291_genes.tsv', 'r') as gene_catalog:\n",
    "    header = gene_catalog.readline()\n",
    "    for line in gene_catalog:\n",
    "        line = line.split()\n",
    "        if not line[0] in genre_genes:\n",
    "            continue\n",
    "        else:\n",
    "            refseq_dict[line[1]] = line[0]\n",
    "            gene_dict[line[2]] = line[0]"
   ]
  },
  {
   "cell_type": "code",
   "execution_count": 3,
   "metadata": {},
   "outputs": [],
   "source": [
    "# Parse RNASeq results\n",
    "rough = {}\n",
    "smooth = {}\n",
    "\n",
    "with open('/home/mjenior/Desktop/repos/Jenior_Cdifficile_2019/data/transcript/tamayo_etal/phase_variation/tamayo_rnaseq.tsv', 'r') as transcription:\n",
    "    header = transcription.readline()\n",
    "    for line in transcription:\n",
    "        line = line.split()\n",
    "        if len(line) == 0: \n",
    "            continue\n",
    "\n",
    "        try:\n",
    "            gene = refseq_dict[line[0]]\n",
    "        except:\n",
    "            try:\n",
    "                gene = gene_dict[line[0]]\n",
    "            except:\n",
    "                continue\n",
    "\n",
    "        rough[gene] = (float(line[1]) + float(line[2])) / 2.0\n",
    "        smooth[gene] = (float(line[3]) + float(line[4])) / 2.0"
   ]
  },
  {
   "cell_type": "markdown",
   "metadata": {},
   "source": [
    "## Phase Variation"
   ]
  },
  {
   "cell_type": "code",
   "execution_count": 11,
   "metadata": {},
   "outputs": [],
   "source": [
    "# BHI\n",
    "bhi = ['cpd00027_e', #glucose\n",
    "    'cpd00001_e', #water\n",
    "    'cpd00035_e', #alanine\n",
    " 'cpd00041_e', #aspartic acid\n",
    " 'cpd00023_e', #glutamic acid\n",
    " 'cpd00119_e', #histidine\n",
    " 'cpd00107_e', #leucine\n",
    " 'cpd00060_e', #methionine\n",
    " 'cpd00129_e', #proline\n",
    " 'cpd00161_e', #threonine\n",
    " 'cpd00051_e', #arginine\n",
    " 'cpd00069_e', #tyrosine\n",
    " 'cpd00084_e', #cysteine\n",
    " 'cpd00033_e', #glycine\n",
    " 'cpd00322_e', #isoleucine\n",
    " 'cpd00039_e', #lysine\n",
    " 'cpd00066_e', #phenylalanine\n",
    " 'cpd00054_e', #serine\n",
    " 'cpd00065_e', #tryptophan\n",
    " 'cpd00156_e', #valine\n",
    " 'cpd00220_e', #riboflavin\n",
    " 'cpd00644_e', # pantothentate(B5)\n",
    " 'cpd00393_e', #folate(B9)\n",
    " 'cpd00133_e', #niacin(PP)\n",
    " 'cpd00263_e', #Pyridoxine\n",
    " 'cpd00104_e', #Biotin\n",
    " 'cpd00149_e', #Cobalt\n",
    " 'cpd00971_e', #sodium\n",
    " 'cpd00099_e', #Chloride\n",
    " 'cpd00205_e', #potassium\n",
    " 'cpd00009_e', #phosphate\n",
    " 'cpd00063_e', #calcium\n",
    " 'cpd00254_e', #magnesium\n",
    " 'cpd10515_e', #Fe2+\n",
    " 'cpd00030_e', #Mn2+\n",
    " 'cpd00242_e', #Carbonate\n",
    " 'cpd00226_e', #hypoxanthine\n",
    " 'cpd01242_e', #thyminose\n",
    " 'cpd00307_e', #cytosine\n",
    " 'cpd00092_e', #uracil\n",
    "'cpd00117_e', #D-Alanine\n",
    "'cpd00067_e', #H+\n",
    "'cpd00567_e', #D-Proline\n",
    "'cpd00132_e', #L-Asparagine\n",
    "'cpd00053_e', #L-Glutamine\n",
    "'cpd00210_e', #Taurine\n",
    "'cpd00320_e', #D-Aspartate\n",
    "'cpd03279_e', #Deoxyinosine\n",
    "'cpd00246_e', #Inosine\n",
    "'cpd00311_e', #Guanosine\n",
    "'cpd00367_e', #Cytidine\n",
    "'cpd00277_e', #Deoxyguanosine\n",
    "'cpd00182_e', #Adenosine\n",
    "'cpd00654_e', #Deoxycytidine\n",
    "'cpd00412_e', #Deoxyuridine\n",
    "'cpd00438_e', #Deoxyadenosine\n",
    "'cpd00274_e', #Citrulline\n",
    "'cpd00186_e'] #D-Glutamate\n",
    "\n",
    "dipeptides = ['EX_cpd11592_e','EX_cpd11590_e','EX_cpd11588_e','EX_cpd11586_e','EX_cpd11582_e','EX_cpd11581_e',\n",
    "              'EX_cpd15551_e','EX_cpd15603_e','EX_cpd15604_e','EX_cpd15605_e','EX_cpd15606_e','EX_cpd29695_e',\n",
    "              'EX_cpd29694_e','EX_cpd29697_e','EX_cpd29698_e','EX_cpd29696_e','EX_cpd29699_e','EX_cpd29693_e',\n",
    "              'EX_cpd29690_e','EX_cpd00731_e']\n",
    "\n",
    "bhi = list(set(bhi))\n",
    "bhi_exch = ['EX_' + x for x in bhi]\n",
    "\n",
    "for rxn in iCdR700.boundary:\n",
    "    rxn.lower_bound = 0.\n",
    "    if rxn.id in bhi_exch:\n",
    "        rxn.lower_bound = -1000."
   ]
  },
  {
   "cell_type": "code",
   "execution_count": 12,
   "metadata": {},
   "outputs": [
    {
     "name": "stdout",
     "output_type": "stream",
     "text": [
      "\n",
      "Initializing model and integrating transcriptomic data...\n",
      "Pruning zero flux subnetworks...\n",
      "Analyzing context-specific flux distributions...\n",
      "\n",
      "Reactions pruned to 324 from 1309 (75.25% change)\n",
      "Metabolites pruned to 321 from 1243 (74.18% change)\n",
      "Flux through the objective DECREASED to ~110.65 from ~121.5 (8.93% change)\n",
      "Context-specific metabolism correlates with transcriptome (r=0.144, p=0.009 *)\n",
      "\n",
      "RIPTiDe completed in 17 seconds\n",
      "\n"
     ]
    }
   ],
   "source": [
    "iCdR700_rough = riptide.contextualize(model=iCdR700, transcriptome=rough)"
   ]
  },
  {
   "cell_type": "code",
   "execution_count": 13,
   "metadata": {},
   "outputs": [
    {
     "name": "stdout",
     "output_type": "stream",
     "text": [
      "\n",
      "Initializing model and integrating transcriptomic data...\n",
      "Pruning zero flux subnetworks...\n",
      "Analyzing context-specific flux distributions...\n",
      "\n",
      "Reactions pruned to 322 from 1309 (75.4% change)\n",
      "Metabolites pruned to 317 from 1243 (74.5% change)\n",
      "Flux through the objective DECREASED to ~97.58 from ~121.5 (19.69% change)\n",
      "Context-specific metabolism does not correlate with transcriptome (r=0.077, n.s.)\n",
      "\n",
      "RIPTiDe completed in 20 seconds\n",
      "\n"
     ]
    }
   ],
   "source": [
    "iCdR700_smooth = riptide.contextualize(model=iCdR700, transcriptome=smooth)"
   ]
  },
  {
   "cell_type": "code",
   "execution_count": 112,
   "metadata": {},
   "outputs": [
    {
     "name": "stdout",
     "output_type": "stream",
     "text": [
      "WARNING: Output path already exists, overwriting previous files\n",
      "WARNING: Output path already exists, overwriting previous files\n"
     ]
    }
   ],
   "source": [
    "riptide.save_output(riptide_obj=iCdR700_rough, path='/home/mjenior/Desktop/repos/Jenior_Cdifficile_2019/data/transcript/tamayo_etal/phase_variation/riptide_rough')\n",
    "riptide.save_output(riptide_obj=iCdR700_smooth, path='/home/mjenior/Desktop/repos/Jenior_Cdifficile_2019/data/transcript/tamayo_etal/phase_variation/riptide_smooth')"
   ]
  },
  {
   "cell_type": "markdown",
   "metadata": {},
   "source": [
    "### Analysis"
   ]
  },
  {
   "cell_type": "markdown",
   "metadata": {},
   "source": [
    "#### Growth rate"
   ]
  },
  {
   "cell_type": "code",
   "execution_count": 111,
   "metadata": {},
   "outputs": [
    {
     "name": "stdout",
     "output_type": "stream",
     "text": [
      "Rough doubling time: 43.02 minutes\n",
      "Smooth doubling time: 42.91 minutes\n",
      "p-value: 0.583\n"
     ]
    }
   ],
   "source": [
    "from scipy import stats\n",
    "\n",
    "rough_growth = [(1. / numpy.median(x)) * 3600. for x in list(set(iCdR700_rough.flux_samples['biomass']))]\n",
    "print('Rough doubling time: ' + str(round(numpy.median(rough_growth), 2)) + ' minutes')\n",
    "\n",
    "smooth_growth = [(1. / numpy.median(x)) * 3600. for x in list(set(iCdR700_smooth.flux_samples['biomass']))]\n",
    "smooth_growth = list(set(smooth_growth))\n",
    "print('Smooth doubling time: ' + str(round(numpy.median(smooth_growth), 2)) + ' minutes')\n",
    "\n",
    "t_stat, p_val = stats.shapiro(rough_growth)\n",
    "t_stat, p_val = stats.shapiro(smooth_growth)\n",
    "t_stat, p_val = stats.wilcoxon(rough_growth, smooth_growth)\n",
    "print('p-value: ' + str(round(p_val, 3)))"
   ]
  },
  {
   "cell_type": "markdown",
   "metadata": {},
   "source": [
    "#### Subrate utilization / Secretion"
   ]
  },
  {
   "cell_type": "code",
   "execution_count": 84,
   "metadata": {},
   "outputs": [],
   "source": [
    "# Inferring media condition\n",
    "\n",
    "def find_growth_substrates(riptide):\n",
    "    substrates = []\n",
    "    exchanges = list(set([x.id for x in riptide.model.reactions if 'EX_' in x.id]))\n",
    "    for rxn in exchanges:\n",
    "        if numpy.median(riptide.flux_samples[rxn]) < 0.0:\n",
    "            substrate_id = riptide.model.reactions.get_by_id(rxn).reactants[0].id\n",
    "            substrates.append(substrate_id)\n",
    "    \n",
    "    substrates = set(substrates)\n",
    "    print(str(len(substrates)) + ' growth substrates found')\n",
    "\n",
    "    return substrates\n",
    "\n",
    "def find_byproducts(riptide):\n",
    "    byproducts = []\n",
    "    exchanges = list(set([x.id for x in riptide.model.reactions if 'EX_' in x.id]))\n",
    "    for rxn in exchanges:\n",
    "        if numpy.median(riptide.flux_samples[rxn]) > 0.0:\n",
    "            byproduct_id = riptide.model.reactions.get_by_id(rxn).reactants[0].id\n",
    "            byproducts.append(byproduct_id)\n",
    "    \n",
    "    byproducts = set(byproducts)\n",
    "    print(str(len(byproducts)) + ' secreted byproducts found')\n",
    "\n",
    "    return byproducts\n",
    "\n",
    "\n",
    "def find_element_sources(riptide):\n",
    "    \n",
    "    # Isolate exchange reactions\n",
    "    exchanges = []\n",
    "    for rxn in riptide.model.reactions:\n",
    "        if len(rxn.reactants) == 0 or len(rxn.products) == 0:\n",
    "            exchanges.append(rxn.id)\n",
    "    \n",
    "    sources = {}\n",
    "    c_source = ['cpd_id', 0.0]\n",
    "    n_source = ['cpd_id', 0.0]\n",
    "    \n",
    "    # PArse exchange flux samples for imported metabolites\n",
    "    for rxn in exchanges:\n",
    "        flux = abs(numpy.median(riptide.flux_samples[rxn]))\n",
    "        if flux > 1e-6:\n",
    "            metabolite = riptide.model.reactions.get_by_id(rxn).reactants[0]\n",
    "            sources[metabolite.id] = {}\n",
    "            \n",
    "            # Multiply elemental components by median flux absolute value\n",
    "            for element in metabolite.elements.keys():\n",
    "                element_supply = round(float(metabolite.elements[element]) * flux, 3)\n",
    "                sources[metabolite.id][element] = element_supply\n",
    "                \n",
    "                # Identify largest sources of carbon and nitrogen\n",
    "                if element == 'C' and element_supply > c_source[1]:\n",
    "                    c_source = [metabolite.id, element_supply]\n",
    "                elif element == 'N' and element_supply > n_source[1]:\n",
    "                    n_source = [metabolite.id, element_supply]\n",
    "                    \n",
    "    print('Primary carbon source: ' + riptide.model.metabolites.get_by_id(c_source[0]).name + ' (' + str(c_source[1]) + ')')\n",
    "    print('Primary nitrogen source: ' + riptide.model.metabolites.get_by_id(n_source[0]).name + ' (' + str(n_source[1]) + ')')\n",
    "\n",
    "    return sources"
   ]
  },
  {
   "cell_type": "code",
   "execution_count": 85,
   "metadata": {},
   "outputs": [
    {
     "name": "stdout",
     "output_type": "stream",
     "text": [
      "41 growth substrates found\n",
      "Primary carbon source: Guanosine (10000.0)\n",
      "Primary nitrogen source: Guanosine (5000.0)\n",
      "12 secreted byproducts found\n"
     ]
    }
   ],
   "source": [
    "rough_substrates = find_growth_substrates(iCdR700_rough)\n",
    "rough_sources = find_element_sources(iCdR700_rough)\n",
    "rough_byproducts = find_byproducts(iCdR700_rough)"
   ]
  },
  {
   "cell_type": "code",
   "execution_count": 86,
   "metadata": {},
   "outputs": [
    {
     "name": "stdout",
     "output_type": "stream",
     "text": [
      "41 growth substrates found\n",
      "Primary carbon source: Inosine (9850.528)\n",
      "Primary nitrogen source: Guanine (4978.217)\n",
      "11 secreted byproducts found\n"
     ]
    }
   ],
   "source": [
    "smooth_substrates = find_growth_substrates(iCdR700_smooth)\n",
    "smooth_sources = find_element_sources(iCdR700_smooth)\n",
    "smooth_byproducts = find_byproducts(iCdR700_smooth)"
   ]
  },
  {
   "cell_type": "code",
   "execution_count": 115,
   "metadata": {},
   "outputs": [
    {
     "name": "stdout",
     "output_type": "stream",
     "text": [
      "Rough only substrates:\n",
      "cpd00001_e\tH2O\n",
      "\n",
      "Smooth only substrates:\n",
      "cpd00027_e\tD-Glucose\n"
     ]
    }
   ],
   "source": [
    "rough_only_substrates = rough_substrates.difference(smooth_substrates)\n",
    "smooth_only_substrates = smooth_substrates.difference(rough_substrates)\n",
    "\n",
    "print('Rough only substrates:')\n",
    "for x in rough_only_substrates:\n",
    "    print(x + '\\t' + iCdR700.metabolites.get_by_id(x).name)\n",
    "print('\\nSmooth only substrates:')\n",
    "for x in smooth_only_substrates:\n",
    "    print(x + '\\t' + iCdR700.metabolites.get_by_id(x).name)"
   ]
  },
  {
   "cell_type": "code",
   "execution_count": 116,
   "metadata": {},
   "outputs": [
    {
     "name": "stdout",
     "output_type": "stream",
     "text": [
      "Rough only byproducts:\n",
      "cpd03170_e\t4-Hydroxymandelate\n",
      "cpd00013_e\tAmmonia\n",
      "\n",
      "Smooth only byproducts:\n",
      "cpd00001_e\tH2O\n"
     ]
    }
   ],
   "source": [
    "rough_only_byproducts = rough_byproducts.difference(smooth_byproducts)\n",
    "smooth_only_byproducts = smooth_byproducts.difference(rough_byproducts)\n",
    "\n",
    "print('Rough only byproducts:')\n",
    "for x in rough_only_byproducts:\n",
    "    print(x + '\\t' + iCdR700.metabolites.get_by_id(x).name)\n",
    "print('\\nSmooth only byproducts:')\n",
    "for x in smooth_only_byproducts:\n",
    "    print(x + '\\t' + iCdR700.metabolites.get_by_id(x).name)"
   ]
  },
  {
   "cell_type": "markdown",
   "metadata": {},
   "source": [
    "#### Gene Essentiality"
   ]
  },
  {
   "cell_type": "code",
   "execution_count": 15,
   "metadata": {},
   "outputs": [],
   "source": [
    "import cobra\n",
    "import cobra.flux_analysis"
   ]
  },
  {
   "cell_type": "code",
   "execution_count": 16,
   "metadata": {
    "scrolled": true
   },
   "outputs": [
    {
     "name": "stdout",
     "output_type": "stream",
     "text": [
      "82 core essential genes found\n"
     ]
    }
   ],
   "source": [
    "minGrowth = iCdR700.slim_optimize() * 0.8\n",
    "base_essential_genes = cobra.flux_analysis.find_essential_genes(iCdR700, threshold=minGrowth)\n",
    "base_essential_genes = set([x.id for x in base_essential_genes])\n",
    "print(str(len(base_essential_genes)) + ' core essential genes found')"
   ]
  },
  {
   "cell_type": "code",
   "execution_count": 17,
   "metadata": {},
   "outputs": [
    {
     "name": "stdout",
     "output_type": "stream",
     "text": [
      "108\n",
      "27 rough-specific essential genes\n"
     ]
    }
   ],
   "source": [
    "minGrowth = iCdR700_rough.model.slim_optimize() * 0.8\n",
    "rough_essential_genes = cobra.flux_analysis.find_essential_genes(iCdR700_rough.model, threshold=minGrowth)\n",
    "print(len(rough_essential_genes))\n",
    "rough_essential_genes = set([x.id for x in rough_essential_genes])\n",
    "rough_essential_genes = rough_essential_genes.difference(base_essential_genes)\n",
    "print(str(len(rough_essential_genes)) + ' rough-specific essential genes')"
   ]
  },
  {
   "cell_type": "code",
   "execution_count": 18,
   "metadata": {},
   "outputs": [
    {
     "name": "stdout",
     "output_type": "stream",
     "text": [
      "110\n",
      "29 smooth-specific essential genes\n"
     ]
    }
   ],
   "source": [
    "minGrowth = iCdR700_smooth.model.slim_optimize() * 0.8\n",
    "smooth_essential_genes = cobra.flux_analysis.find_essential_genes(iCdR700_smooth.model, threshold=minGrowth)\n",
    "print(len(smooth_essential_genes))\n",
    "smooth_essential_genes = set([x.id for x in smooth_essential_genes])\n",
    "smooth_essential_genes = smooth_essential_genes.difference(base_essential_genes)\n",
    "print(str(len(smooth_essential_genes)) + ' smooth-specific essential genes')"
   ]
  },
  {
   "cell_type": "code",
   "execution_count": 21,
   "metadata": {},
   "outputs": [
    {
     "data": {
      "text/plain": [
       "27"
      ]
     },
     "execution_count": 21,
     "metadata": {},
     "output_type": "execute_result"
    }
   ],
   "source": [
    "len(overlap_essential)"
   ]
  },
  {
   "cell_type": "code",
   "execution_count": 19,
   "metadata": {
    "scrolled": true
   },
   "outputs": [
    {
     "name": "stdout",
     "output_type": "stream",
     "text": [
      "Rough-only essential genes:\n",
      "\n",
      "Smooth-only essential genes:\n",
      "645463.3.peg.1421\tDNA-3-methyladenine glycosylase II\n",
      "645463.3.peg.2729\tPyruvate-flavodoxin oxidoreductase (EC 1.2.7.-)\n"
     ]
    }
   ],
   "source": [
    "# Contrast groups\n",
    "overlap_essential = smooth_essential_genes.intersection(rough_essential_genes)\n",
    "smooth_only_essential = smooth_essential_genes.difference(rough_essential_genes)\n",
    "rough_only_essential = rough_essential_genes.difference(smooth_essential_genes)\n",
    "\n",
    "# Display results\n",
    "print('Rough-only essential genes:')\n",
    "for x in rough_only_essential:\n",
    "    print(x + '\\t' + iCdR700.genes.get_by_id(x).name)\n",
    "print('\\nSmooth-only essential genes:')\n",
    "for x in smooth_only_essential:\n",
    "    print(x + '\\t' + iCdR700.genes.get_by_id(x).name)"
   ]
  },
  {
   "cell_type": "code",
   "execution_count": 143,
   "metadata": {},
   "outputs": [
    {
     "name": "stdout",
     "output_type": "stream",
     "text": [
      "Overlap essential genes, total: 107\n",
      "645463.3.peg.222\tPTS system, fructose-specific IIC component (EC 2.7.1.69)\n",
      "645463.3.peg.2187\tPhosphatidate cytidylyltransferase (EC 2.7.7.41)\n",
      "645463.3.peg.3519\turacil phosphoribosyltransferase (EC 2.4.2.9)\n",
      "645463.3.peg.232\tphosphoribosylformylglycinamidine cyclo-ligase (EC 6.3.3.1)\n",
      "645463.3.peg.682\tPhenylalanyl-tRNA synthetase beta chain (EC 6.1.1.20)\n",
      "645463.3.peg.1844\tChorismate synthase (EC 4.2.3.5)\n",
      "645463.3.peg.231\tamidophosphoribosyltransferase (EC 2.4.2.14)\n",
      "645463.3.peg.54\tCysteinyl-tRNA synthetase (EC 6.1.1.16)\n",
      "645463.3.peg.2389\tGlycine reductase component B beta subunit\n",
      "645463.3.peg.1257\talanine transaminase (EC 2.6.1.2)\n",
      "645463.3.peg.530\tThreonyl-tRNA synthetase (EC 6.1.1.3)\n",
      "645463.3.peg.1569\tLysophospholipase L2 (EC 3.1.1.5)\n",
      "645463.3.peg.3289\tproline racemase (EC 5.1.1.4)\n",
      "645463.3.peg.2480\tGlycyl-tRNA synthetase alpha chain (EC 6.1.1.14)\n",
      "645463.3.peg.1176\tNa(+)-dependent branched-chain amino acid transporter\n",
      "645463.3.peg.398\tFructose-bisphosphate aldolase class II (EC 4.1.2.13)\n",
      "645463.3.peg.2662\tIsoleucyl-tRNA synthetase (EC 6.1.1.5)\n",
      "645463.3.peg.3598\tPantothenate kinase type III, CoaX-like (EC 2.7.1.33)\n",
      "645463.3.peg.1828\t4-hydroxy-3-methylbut-2-enyl diphosphate reductase (EC 1.17.1.2)\n",
      "645463.3.peg.1374\taminodeoxychorismate lyase (EC 4.1.3.38)\n",
      "645463.3.peg.2678\tGlycerol-3-phosphate dehydrogenase [NAD(P)+] (EC 1.1.1.94)\n",
      "645463.3.peg.236\tPhosphoribosylformylglycinamidine synthase, glutamine amidotransferase subunit (EC 6.3.5.3)\n",
      "645463.3.peg.3143\tPTS system, trehalose-specific IIB component (EC 2.7.1.69)\n",
      "645463.3.peg.929\tN-acetylgalactosamine-6-phosphate deacetylase\n",
      "645463.3.peg.2721\tOligopeptide transport system permease protein oppC (TC 3.A.1.5.1)\n",
      "645463.3.peg.2699\tUDP-N-acetylglucosamine--N-acetylmuramyl-(pentapeptide) pyrophosphoryl-undecaprenol N-acetylglucosamine transferase (EC 2.4.1.227)\n",
      "645463.3.peg.2702\tPhospho-N-acetylmuramoyl-pentapeptide-transferase (EC 2.7.8.13)\n",
      "645463.3.peg.1199\tAlanyl-tRNA synthetase (EC 6.1.1.7)\n",
      "645463.3.peg.3508\tATP synthase gamma chain (EC 3.6.3.14)\n",
      "645463.3.peg.817\tGlutamate synthase [NADPH] large chain (EC 1.4.1.13)\n",
      "645463.3.peg.2183\t1-deoxy-D-xylulose 5-phosphate reductoisomerase (EC 1.1.1.267)\n",
      "645463.3.peg.2703\tUDP-N-acetylmuramoyl-tripeptide--D-alanyl-D-alanine ligase\n",
      "645463.3.peg.161\tSubstrate-specific component RibU of riboflavin ECF transporter\n",
      "645463.3.peg.2273\t3-dehydroquinate dehydratase I (EC 4.2.1.10)\n",
      "645463.3.peg.664\tsodium-solute symporter, putative\n",
      "645463.3.peg.2794\tAdenine phosphoribosyltransferase (EC 2.4.2.7)\n",
      "645463.3.peg.1451\tTyrosyl-tRNA synthetase (EC 6.1.1.1)\n",
      "645463.3.peg.2408\tL-aspartate oxidase (EC 1.4.3.16)\n",
      "645463.3.peg.2971\tSubstrate-specific component BioY of biotin ECF transporter\n",
      "645463.3.peg.235\tPhosphoribosylamine--glycine ligase (EC 6.3.4.13)\n",
      "645463.3.peg.2602\tPhosphopantetheine adenylyltransferase (EC 2.7.7.3)\n",
      "645463.3.peg.52\tGlutamyl-tRNA synthetase (EC 6.1.1.17)\n",
      "645463.3.peg.2243\tMaltose phosphorylase (EC 2.4.1.8)\n",
      "645463.3.peg.1601\tHydroxymethylpyrimidine phosphate kinase ThiD (EC 2.7.4.7)\n",
      "645463.3.peg.3509\tATP synthase alpha chain (EC 3.6.3.14)\n",
      "645463.3.peg.681\tPhenylalanyl-tRNA synthetase alpha chain (EC 6.1.1.20)\n",
      "645463.3.peg.136\tUDP-N-acetylglucosamine 1-carboxyvinyltransferase (EC 2.5.1.7)\n",
      "645463.3.peg.48\t2-C-methyl-D-erythritol 4-phosphate cytidylyltransferase (EC 2.7.7.60)\n",
      "645463.3.peg.1842\t3-dehydroquinate synthase (EC 4.2.3.4)\n",
      "645463.3.peg.1603\tThiamin-phosphate pyrophosphorylase (EC 2.5.1.3)\n",
      "645463.3.peg.2653\tTryptophanyl-tRNA synthetase (EC 6.1.1.2)\n",
      "645463.3.peg.1783\tABC transporter, ATP-binding protein\n",
      "645463.3.peg.3013\talpha-mannosidase (EC 3.2.1.24)\n",
      "645463.3.peg.1792\targininosuccinate synthase (EC 6.3.4.5)\n",
      "645463.3.peg.3595\tLysyl-tRNA synthetase (class II) (EC 6.1.1.6)\n",
      "645463.3.peg.2479\tGlycyl-tRNA synthetase beta chain (EC 6.1.1.14)\n",
      "645463.3.peg.2802\tPhosphoenolpyruvate-protein phosphotransferase of PTS system (EC 2.7.3.9) | ptsI\n",
      "645463.3.peg.3307\tValyl-tRNA synthetase (EC 6.1.1.9)\n",
      "645463.3.peg.704\tmethylenetetrahydrofolate dehydrogenase (NADP+) (EC 1.5.1.5)\n",
      "645463.3.peg.3495\t5-formyltetrahydrofolate cyclo-ligase (EC 6.3.3.2)\n",
      "645463.3.peg.49\t2-C-methyl-D-erythritol 2,4-cyclodiphosphate synthase (EC 4.6.1.12)\n",
      "645463.3.peg.3609\t4-diphosphocytidyl-2-C-methyl-D-erythritol kinase (EC 2.7.1.148)\n",
      "645463.3.peg.3276\taspartate-semialdehyde dehydrogenase (EC 1.2.1.11)\n",
      "645463.3.peg.2106\tGlutaminyl-tRNA synthetase (EC 6.1.1.18)\n",
      "645463.3.peg.3507\tATP synthase beta chain (EC 3.6.3.14)\n",
      "645463.3.peg.2789\tHistidyl-tRNA synthetase (EC 6.1.1.21)\n",
      "645463.3.peg.2774\tdiglucosyldiacylglycerol synthase (LTA membrane anchor synthesis)\n",
      "645463.3.peg.2642\tPyrimidine operon regulatory protein PyrR\n",
      "645463.3.peg.1840\tMagnesium and cobalt transport protein CorA\n",
      "645463.3.peg.1233\tRiboflavin kinase (EC 2.7.1.26)\n",
      "645463.3.peg.2042\tSubstrate-specific component TrpP of tryptophan ECF transporter\n",
      "645463.3.peg.2569\tLeucyl-tRNA synthetase (EC 6.1.1.4)\n",
      "645463.3.peg.3506\tATP synthase epsilon chain (EC 3.6.3.14)\n",
      "645463.3.peg.2701\tUDP-N-acetylmuramoylalanine--D-glutamate ligase (EC 6.3.2.9)\n",
      "645463.3.peg.233\tphosphoribosylglycinamide formyltransferase (EC 2.1.2.2)\n",
      "645463.3.peg.57\tthymidylate synthase (EC 2.1.1.45)\n",
      "645463.3.peg.1245\tCDP-diacylglycerol--glycerol-3-phosphate 3-phosphatidyltransferase (EC 2.7.8.5)\n",
      "645463.3.peg.2293\tAsparaginyl-tRNA synthetase (EC 6.1.1.22)\n",
      "645463.3.peg.2788\tAspartyl-tRNA synthetase (EC 6.1.1.12)\n",
      "645463.3.peg.971\tNAD kinase (EC 2.7.1.23)\n",
      "645463.3.peg.1079\tAcetate kinase (EC 2.7.2.1)\n",
      "645463.3.peg.3510\tATP synthase delta chain (EC 3.6.3.14)\n",
      "645463.3.peg.223\tPTS system, fructose-specific IIB component (EC 2.7.1.69)\n",
      "645463.3.peg.50\tProlyl-tRNA synthetase (EC 6.1.1.15)\n",
      "645463.3.peg.1847\tShikimate kinase I (EC 2.7.1.71)\n",
      "645463.3.peg.693\tArginyl-tRNA synthetase (EC 6.1.1.19)\n",
      "645463.3.peg.770\tMultimodular transpeptidase-transglycosylase (EC 2.4.1.129) (EC 3.4.-.-)\n",
      "645463.3.peg.102\tAdenylate kinase (EC 2.7.4.3)\n",
      "645463.3.peg.3581\tMethionyl-tRNA synthetase (EC 6.1.1.10)\n",
      "645463.3.peg.120\tRibonucleotide reductase of class III (anaerobic), large subunit (EC 1.17.4.2)\n",
      "645463.3.peg.1110\t(2E,6E)-farnesyl diphosphate synthase (EC 2.5.1.10)\n",
      "645463.3.peg.2729\tPyruvate-flavodoxin oxidoreductase (EC 1.2.7.-)\n",
      "645463.3.peg.2633\tphosphopantothenoylcysteine decarboxylase (EC 4.1.1.36)\n",
      "645463.3.peg.360\tManganese-dependent inorganic pyrophosphatase (EC 3.6.1.1)\n",
      "645463.3.peg.3591\tThymidylate kinase (EC 2.7.4.9)\n",
      "645463.3.peg.198\taspartate carbamoyltransferase (EC 2.1.3.2)\n",
      "645463.3.peg.1128\tphosphopentomutase (EC 5.4.2.7)\n",
      "645463.3.peg.3339\tGlucose-6-phosphate isomerase (EC 5.3.1.9)\n",
      "645463.3.peg.2583\t5'-nucleotidase (EC 3.1.3.5)\n",
      "645463.3.peg.1112\t1-deoxy-D-xylulose 5-phosphate synthase (EC 2.2.1.7)\n",
      "645463.3.peg.1129\tPurine nucleoside phosphorylase (EC 2.4.2.1)\n",
      "645463.3.peg.576\tChloride channel protein\n",
      "645463.3.peg.954\tUDP-N-acetylglucosamine 2-epimerase (EC 5.1.3.14)\n",
      "645463.3.peg.3421\tUDP-N-acetylenolpyruvoylglucosamine reductase (EC 1.1.1.158)\n",
      "645463.3.peg.125\tphosphate butyryltransferase (EC 2.3.1.19)\n",
      "645463.3.peg.1421\tDNA-3-methyladenine glycosylase II\n",
      "645463.3.peg.1032\tDephospho-CoA kinase (EC 2.7.1.24)\n"
     ]
    }
   ],
   "source": [
    "print('Overlap essential genes, total:', len(overlap_essential))\n",
    "for x in overlap_essential:\n",
    "    print(x + '\\t' + iCdR700.genes.get_by_id(x).name)"
   ]
  },
  {
   "cell_type": "code",
   "execution_count": 130,
   "metadata": {},
   "outputs": [
    {
     "data": {
      "text/plain": [
       "679.1890868830385"
      ]
     },
     "execution_count": 130,
     "metadata": {},
     "output_type": "execute_result"
    }
   ],
   "source": [
    "numpy.median(iCdR700_rough.flux_samples['EX_cpd00122_e'])"
   ]
  },
  {
   "cell_type": "code",
   "execution_count": 125,
   "metadata": {},
   "outputs": [
    {
     "data": {
      "text/html": [
       "\n",
       "        <table>\n",
       "            <tr>\n",
       "                <td><strong>Reaction identifier</strong></td><td>rxn05485_c</td>\n",
       "            </tr><tr>\n",
       "                <td><strong>Name</strong></td><td>N-Acetyl-D-glucosamine transport via PEP:Pyr PTS</td>\n",
       "            </tr><tr>\n",
       "                <td><strong>Memory address</strong></td>\n",
       "                <td>0x07f809aa4aa10</td>\n",
       "            </tr><tr>\n",
       "                <td><strong>Stoichiometry</strong></td>\n",
       "                <td>\n",
       "                    <p style='text-align:right'>cpd00061_c + cpd00122_e <=> cpd00020_c + cpd00293_c</p>\n",
       "                    <p style='text-align:right'>Phosphoenolpyruvate + N-Acetyl-D-glucosamine <=> Pyruvate + N-Acetyl-D-glucosamine 6-phosphate</p>\n",
       "                </td>\n",
       "            </tr><tr>\n",
       "                <td><strong>GPR</strong></td><td>645463.3.peg.2802 and 645463.3.peg.3106 and 645463.3.peg.3106</td>\n",
       "            </tr><tr>\n",
       "                <td><strong>Lower bound</strong></td><td>-1000.0</td>\n",
       "            </tr><tr>\n",
       "                <td><strong>Upper bound</strong></td><td>1000.0</td>\n",
       "            </tr>\n",
       "        </table>\n",
       "        "
      ],
      "text/plain": [
       "<Reaction rxn05485_c at 0x7f809aa4aa10>"
      ]
     },
     "execution_count": 125,
     "metadata": {},
     "output_type": "execute_result"
    }
   ],
   "source": [
    "iCdR700.reactions.rxn05485_c"
   ]
  },
  {
   "cell_type": "markdown",
   "metadata": {},
   "source": [
    "#### Topology"
   ]
  },
  {
   "cell_type": "code",
   "execution_count": 96,
   "metadata": {},
   "outputs": [
    {
     "name": "stdout",
     "output_type": "stream",
     "text": [
      "Rough-only genes: 3\n",
      "Smooth-only genes: 9\n"
     ]
    }
   ],
   "source": [
    "# Genes\n",
    "r_genes = set([x.id for x in iCdR700_rough.model.genes])\n",
    "s_genes = set([x.id for x in iCdR700_smooth.model.genes])\n",
    "\n",
    "print('Rough-only genes:', len(r_genes.difference(s_genes)))\n",
    "print('Smooth-only genes:', len(s_genes.difference(r_genes)))"
   ]
  },
  {
   "cell_type": "code",
   "execution_count": 97,
   "metadata": {},
   "outputs": [
    {
     "name": "stdout",
     "output_type": "stream",
     "text": [
      "Rough-only reactions: 6\n",
      "Smooth-only reactions: 4\n"
     ]
    }
   ],
   "source": [
    "# Reactions\n",
    "r_reactions = set([x.id for x in iCdR700_rough.model.reactions])\n",
    "s_reactions = set([x.id for x in iCdR700_smooth.model.reactions])\n",
    "\n",
    "print('Rough-only reactions:', len(r_reactions.difference(s_reactions)))\n",
    "print('Smooth-only reactions:', len(s_reactions.difference(r_reactions)))"
   ]
  },
  {
   "cell_type": "code",
   "execution_count": 98,
   "metadata": {},
   "outputs": [
    {
     "name": "stdout",
     "output_type": "stream",
     "text": [
      "Rough-only metabolites: 4\n",
      "Smooth-only metabolites: 2\n"
     ]
    }
   ],
   "source": [
    "# Metabolites\n",
    "r_metabolites = set([x.id for x in iCdR700_rough.model.metabolites])\n",
    "s_metabolites = set([x.id for x in iCdR700_smooth.model.metabolites])\n",
    "\n",
    "print('Rough-only metabolites:', len(r_metabolites.difference(s_metabolites)))\n",
    "print('Smooth-only metabolites:', len(s_metabolites.difference(r_metabolites)))"
   ]
  },
  {
   "cell_type": "code",
   "execution_count": 99,
   "metadata": {},
   "outputs": [
    {
     "name": "stdout",
     "output_type": "stream",
     "text": [
      "Rough only:\n",
      "645463.3.peg.2553\tBiosynthetic Aromatic amino acid aminotransferase beta (EC 2.6.1.57)\n",
      "645463.3.peg.169\t4-hydroxyphenylacetate decarboxylase activating enzyme\n",
      "645463.3.peg.2255\tBiosynthetic Aromatic amino acid aminotransferase beta (EC 2.6.1.57)\n",
      "\n",
      "Smooth only:\n",
      "645463.3.peg.2563\tPTS system, glucose-specific IIA component (EC 2.7.1.69)\n",
      "645463.3.peg.3057\tPTS system, glucose-specific IIA component (EC 2.7.1.69)\n",
      "645463.3.peg.1254\tPTS system, maltose and glucose-specific IIC component (EC 2.7.1.69)\n",
      "645463.3.peg.3027\tPTS system, glucose-specific IIA component (EC 2.7.1.69)\n",
      "645463.3.peg.3108\tPTS system, glucose-specific IIA component (EC 2.7.1.69)\n",
      "645463.3.peg.2714\tPTS system, glucose-specific IIC component (EC 2.7.1.69)\n",
      "645463.3.peg.1699\tSodium:alanine symporter family protein\n",
      "645463.3.peg.2561\tPTS system, maltose and glucose-specific IIC component (EC 2.7.1.69)\n",
      "645463.3.peg.3030\tPTS system, maltose and glucose-specific IIC component (EC 2.7.1.69)\n"
     ]
    }
   ],
   "source": [
    "# Compare gene pruning between groups\n",
    "rough_pruned = iCdR700_rough.pruned['genes']\n",
    "smooth_pruned = iCdR700_smooth.pruned['genes']\n",
    "rough_only_genes = smooth_pruned.difference(rough_pruned)\n",
    "smooth_only_genes = rough_pruned.difference(smooth_pruned)\n",
    "\n",
    "print('Rough only genes:')\n",
    "for x in rough_only_genes:\n",
    "    print(x + '\\t' + iCdR700.genes.get_by_id(x).name)\n",
    "print('\\nSmooth only genes:')\n",
    "for x in smooth_only_genes:\n",
    "    print(x + '\\t' + iCdR700.genes.get_by_id(x).name)"
   ]
  },
  {
   "cell_type": "code",
   "execution_count": 100,
   "metadata": {},
   "outputs": [
    {
     "name": "stdout",
     "output_type": "stream",
     "text": [
      "Rough only:\n",
      "EX_cpd00013_e\tAmmonia exchange\n",
      "ID008_c\t2,3-Dihydroxyphenylpropanoate diffusion\n",
      "rxn05466_c\tAmmonia diffusion\n",
      "rxn00527_c\tL-tyrosine:2-oxoglutarate aminotransferase\n",
      "rxn07124_c\tp-Hydroxyphenylacetate decarboxylase\n",
      "EX_cpd03170_e\t4-Hydroxymandelate exchange\n",
      "\n",
      "Smooth only:\n",
      "EX_cpd00035_e\tL-Alanine exchange\n",
      "EX_cpd00027_e\tD-Glucose exchange\n",
      "rxn05496_c\tAmino acid transporter (ala-L)\n",
      "rxn05226_c\tD-glucose transport via PEP:Pyr PTS\n"
     ]
    }
   ],
   "source": [
    "# Reactions\n",
    "rough_pruned = iCdR700_rough.pruned['reactions']\n",
    "smooth_pruned = iCdR700_smooth.pruned['reactions']\n",
    "rough_only_reactions = smooth_pruned.difference(rough_pruned)\n",
    "smooth_only_reactions = rough_pruned.difference(smooth_pruned)\n",
    "\n",
    "print('Rough only reactions:')\n",
    "for x in rough_only_reactions:\n",
    "    print(x + '\\t' + iCdR700.reactions.get_by_id(x).name)\n",
    "print('\\nSmooth only reactions:')\n",
    "for x in smooth_only_reactions:\n",
    "    print(x + '\\t' + iCdR700.reactions.get_by_id(x).name)"
   ]
  },
  {
   "cell_type": "code",
   "execution_count": 101,
   "metadata": {},
   "outputs": [
    {
     "name": "stdout",
     "output_type": "stream",
     "text": [
      "Rough only:\n",
      "cpd03170_e\t4-Hydroxymandelate\n",
      "cpd00868_c\tp-hydroxyphenylpyruvate\n",
      "cpd03170_c\t4-Hydroxymandelate\n",
      "cpd00013_e\tAmmonia\n",
      "\n",
      "Smooth only:\n",
      "cpd00027_e\tD-Glucose\n",
      "cpd00035_e\tL-Alanine\n"
     ]
    }
   ],
   "source": [
    "# Metabolites\n",
    "rough_pruned = iCdR700_rough.pruned['metabolites']\n",
    "smooth_pruned = iCdR700_smooth.pruned['metabolites']\n",
    "rough_only_metabolites = smooth_pruned.difference(rough_pruned)\n",
    "smooth_only_metabolites = rough_pruned.difference(smooth_pruned)\n",
    "\n",
    "print('Rough only metabolites:')\n",
    "for x in rough_only_metabolites:\n",
    "    print(x + '\\t' + iCdR700.metabolites.get_by_id(x).name)\n",
    "print('\\nSmooth only metabolites:')\n",
    "for x in smooth_only_metabolites:\n",
    "    print(x + '\\t' + iCdR700.metabolites.get_by_id(x).name)"
   ]
  },
  {
   "cell_type": "code",
   "execution_count": 102,
   "metadata": {},
   "outputs": [],
   "source": [
    "import numpy\n",
    "import cobra\n",
    "import cobra.flux_analysis\n",
    "\n",
    "def _getKey(item):\n",
    "    return item[1]\n",
    "\n",
    "# Scale each active exchange back and examine its influence on objective flux\n",
    "def find_primary_sources(model, flux_samples=False, fraction=0.01, cutoff=0.8, pfba_fraction=0.8):\n",
    "    # Requires a model \n",
    "    # Optional: flux_samples = flux samples pandas dataframe associated with model\n",
    "    #           fraction = percent of median flux to limit exchange reactions by\n",
    "    #           cutoff = quantile of top C and N sources to report\n",
    "    #           pfba_fraction = fraction of optimal objective value for pfba solution\n",
    "\n",
    "    sources = {}\n",
    "    c_sources = []\n",
    "    c_influence = []\n",
    "    n_sources = []\n",
    "    n_influence = []\n",
    "    p_source = ['p_source', -1.0]\n",
    "    s_source = ['s_source', -1.0]\n",
    "    objVal = model.slim_optimize()\n",
    "    pfba_solution = cobra.flux_analysis.pfba(model, fraction_of_optimum=pfba_fraction)\n",
    "    \n",
    "    # Parse exchange flux samples for imported metabolites\n",
    "    exchanges = [rxn.id for rxn in model.boundary]\n",
    "    for rxn in exchanges:\n",
    "        if isinstance(flux_samples, pandas.DataFrame):\n",
    "            current_samples = list(set(flux_samples[rxn]))\n",
    "            flux = numpy.mean(current_samples)\n",
    "        else:\n",
    "            flux = pfba_solution.fluxes[rxn]\n",
    "        if flux >= -1e-6: continue # Skip exported byproducts or unused reactions\n",
    "        bound = flux * fraction\n",
    "        \n",
    "        # Test for disproportionate effect on objective\n",
    "        old_bounds = model.reactions.get_by_id(rxn).bounds\n",
    "        model.reactions.get_by_id(rxn).bounds = (bound, bound)        \n",
    "        new_objVal = model.slim_optimize()\n",
    "        model.reactions.get_by_id(rxn).bounds = old_bounds # Reset bounds\n",
    "        if str(new_objVal) == 'nan': new_objVal = objVal * fraction # Correct for nan\n",
    "        \n",
    "        # Calculate the degree of change to objective value\n",
    "        if new_objVal != objVal:\n",
    "            flux_ratio = objVal / new_objVal\n",
    "            adjustment = abs(flux) * flux_ratio\n",
    "        else:\n",
    "            adjustment = 1.\n",
    "        \n",
    "        # Normalize elemental component contributions\n",
    "        metabolite = model.reactions.get_by_id(rxn).reactants[0]\n",
    "        sources[metabolite.id] = {}\n",
    "        for element in metabolite.elements.keys():\n",
    "            element_supply = float(metabolite.elements[element]) * adjustment\n",
    "            if element_supply > 0.: element_supply = numpy.log(element_supply)\n",
    "            sources[metabolite.id][element] = element_supply\n",
    "                \n",
    "            # Identify largest sources of main elements\n",
    "            if element == 'C' and element_supply > 0.0:\n",
    "                c_sources.append([metabolite.id, element_supply])\n",
    "                c_influence.append(element_supply)\n",
    "            elif element == 'N' and element_supply > 0.0:\n",
    "                n_sources.append([metabolite.id, element_supply])\n",
    "                n_influence.append(element_supply)\n",
    "            elif element == 'P' and element_supply > 0.0:\n",
    "                p_source = [metabolite.id, element_supply]\n",
    "            elif element == 'S' and element_supply > 0.0:\n",
    "                s_source = [metabolite.id, element_supply]\n",
    "    \n",
    "    # Rank by largest contributions\n",
    "    c_sources = sorted(c_sources, reverse=True, key=_getKey)\n",
    "    n_sources = sorted(n_sources, reverse=True, key=_getKey)\n",
    "    \n",
    "    print('Top carbon sources:')\n",
    "    current = max(c_influence)\n",
    "    x = 0\n",
    "    while current >= numpy.quantile(c_influence, cutoff):\n",
    "        print(model.metabolites.get_by_id(c_sources[x][0]).name + ' (' + str(round(c_sources[x][1],3)) + ')')\n",
    "        current = c_sources[x][1]\n",
    "        x += 1\n",
    "        \n",
    "    print('\\nTop nitrogen sources:')\n",
    "    current = max(n_influence)\n",
    "    x = 0\n",
    "    while current >= numpy.quantile(n_influence, cutoff):\n",
    "        print(model.metabolites.get_by_id(n_sources[x][0]).name + ' (' + str(round(n_sources[x][1],3)) + ')')\n",
    "        current = n_sources[x][1]\n",
    "        x += 1\n",
    "        \n",
    "    print('\\nPrimary phosphorous source:')\n",
    "    print(model.metabolites.get_by_id(p_source[0]).name + ' (' + str(round(p_source[1],3)) + ')')\n",
    "    \n",
    "    print('\\nPrimary sulfur source:')\n",
    "    print(model.metabolites.get_by_id(s_source[0]).name + ' (' + str(round(s_source[1],3)) + ')')\n",
    "    \n",
    "    return sources\n"
   ]
  },
  {
   "cell_type": "code",
   "execution_count": 103,
   "metadata": {},
   "outputs": [
    {
     "name": "stdout",
     "output_type": "stream",
     "text": [
      "Top carbon sources:\n",
      "L-ala-gly (11.383)\n",
      "L-Lysine (10.275)\n",
      "Deoxyuridine (9.718)\n",
      "L-Isoleucine (9.39)\n",
      "L-Leucine (9.3)\n",
      "Gly-Phe (9.174)\n",
      "Gly-Tyr (9.123)\n",
      "\n",
      "Top nitrogen sources:\n",
      "L-ala-gly (10.467)\n",
      "L-Lysine (9.176)\n",
      "gly-asn-L (8.261)\n",
      "Deoxyuridine (8.214)\n",
      "L-Arginine (7.849)\n",
      "L-Isoleucine (7.598)\n",
      "L-Leucine (7.508)\n",
      "\n",
      "Primary phosphorous source:\n",
      "Phosphate (8.654)\n",
      "\n",
      "Primary sulfur source:\n",
      "gly-L-met (6.293)\n"
     ]
    }
   ],
   "source": [
    "rough_sources = find_primary_sources(iCdR700_rough.model, flux_samples=iCdR700_rough.flux_samples)"
   ]
  },
  {
   "cell_type": "code",
   "execution_count": 104,
   "metadata": {},
   "outputs": [
    {
     "name": "stdout",
     "output_type": "stream",
     "text": [
      "Top carbon sources:\n",
      "L-Lysine (10.282)\n",
      "Deoxyuridine (9.725)\n",
      "L-Isoleucine (9.396)\n",
      "L-Leucine (9.306)\n",
      "Gly-Phe (9.181)\n",
      "Gly-Tyr (9.129)\n",
      "gly-asn-L (8.96)\n",
      "L-Valine (8.796)\n",
      "\n",
      "Top nitrogen sources:\n",
      "L-Lysine (9.183)\n",
      "gly-asn-L (8.267)\n",
      "Deoxyuridine (8.221)\n",
      "Guanosine (7.924)\n",
      "L-Arginine (7.855)\n",
      "Inosine (7.646)\n",
      "Deoxyinosine (7.641)\n",
      "\n",
      "Primary phosphorous source:\n",
      "Phosphate (8.66)\n",
      "\n",
      "Primary sulfur source:\n",
      "gly-L-met (6.299)\n"
     ]
    }
   ],
   "source": [
    "smooth_sources = find_primary_sources(iCdR700_smooth.model, flux_samples=iCdR700_smooth.flux_samples)"
   ]
  },
  {
   "cell_type": "code",
   "execution_count": 158,
   "metadata": {},
   "outputs": [
    {
     "name": "stdout",
     "output_type": "stream",
     "text": [
      "EX_cpd00001_e H2O exchange\n",
      "EX_cpd00107_e L-Leucine exchange\n",
      "EX_cpd00567_e D-Proline exchange\n",
      "EX_cpd00041_e L-Aspartate exchange\n",
      "EX_cpd15606_e Gly-Tyr exchange\n",
      "EX_cpd29694_e L-ala-gly exchange\n",
      "EX_cpd00277_e Deoxyguanosine exchange\n"
     ]
    }
   ],
   "source": [
    "for rxn_a in iCdR700_smooth.model.boundary:\n",
    "    try:\n",
    "        fluxes_a = numpy.mean(iCdR700_smooth.flux_samples[rxn_a.id])\n",
    "        fluxes_b = numpy.mean(iCdR700_rough.flux_samples[rxn_a.id])\n",
    "    except:\n",
    "        continue\n",
    "    \n",
    "    if fluxes_b < 0:\n",
    "        if fluxes_a > fluxes_b:\n",
    "            print(rxn_a.id, rxn_a.name)\n",
    "    else:\n",
    "        continue\n",
    "    "
   ]
  },
  {
   "cell_type": "code",
   "execution_count": 168,
   "metadata": {},
   "outputs": [
    {
     "name": "stdout",
     "output_type": "stream",
     "text": [
      "EX_cpd00001_e H2O exchange 666.6415744738214\n",
      "EX_cpd00122_e N-Acetyl-D-glucosamine exchange 732.1902463218827\n",
      "EX_cpd00226_e HYXN exchange 592.6867818470463\n",
      "EX_cpd19585_e 2-Methylbutyrate exchange 385.98466296568506\n",
      "SK_cpd11416_c Biomass sink 82.77814318783287\n",
      "EX_cpd00182_e Adenosine exchange 630.8969918984242\n"
     ]
    }
   ],
   "source": [
    "current_max = ['null', 0]\n",
    "for rxn_a in iCdR700_smooth.model.boundary:\n",
    "    fluxes_a = numpy.mean(iCdR700_smooth.flux_samples[rxn_a.id])\n",
    "    if fluxes_a > 0:\n",
    "        fluxes_b = numpy.mean(iCdR700_rough.flux_samples[rxn_a.id])\n",
    "        if fluxes_a > fluxes_b:\n",
    "            print(rxn_a.id, iCdR700_smooth.model.reactions.get_by_id(rxn_a.id).name, fluxes_a)\n",
    "        "
   ]
  }
 ],
 "metadata": {
  "kernelspec": {
   "display_name": "Python 3",
   "language": "python",
   "name": "python3"
  },
  "language_info": {
   "codemirror_mode": {
    "name": "ipython",
    "version": 3
   },
   "file_extension": ".py",
   "mimetype": "text/x-python",
   "name": "python",
   "nbconvert_exporter": "python",
   "pygments_lexer": "ipython3",
   "version": "3.7.5"
  }
 },
 "nbformat": 4,
 "nbformat_minor": 2
}
