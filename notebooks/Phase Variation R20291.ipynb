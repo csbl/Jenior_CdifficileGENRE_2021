{
 "cells": [
  {
   "cell_type": "markdown",
   "metadata": {},
   "source": [
    "### Contextualizing iCdR758"
   ]
  },
  {
   "cell_type": "markdown",
   "metadata": {},
   "source": [
    "#### Project summary..."
   ]
  },
  {
   "cell_type": "markdown",
   "metadata": {},
   "source": [
    "### Annotation conversion"
   ]
  },
  {
   "cell_type": "code",
   "execution_count": 8,
   "metadata": {},
   "outputs": [],
   "source": [
    "# Read in gene list from iCdR700\n",
    "cdr775_genes = []\n",
    "with open('/home/mjenior/Desktop/tamayo_analysis/cdr775_genes.tsv', 'r') as genre_genes:\n",
    "    for line in genre_genes:\n",
    "        cdr775_genes.append(line.strip())\n",
    "cdr775_genes = set(cdr775_genes)\n",
    "\n",
    "# Parse PATRIC lookup table\n",
    "refseq_dict = {}\n",
    "refseq = set()\n",
    "gene_dict = {}\n",
    "genes = set()\n",
    "with open('/home/mjenior/Desktop/tamayo_analysis/CdR20291_genes.tsv', 'r') as gene_catalog:\n",
    "    header = gene_catalog.readline()\n",
    "    for line in gene_catalog:\n",
    "        line = line.split()\n",
    "        if len(line) == 0: continue\n",
    "        \n",
    "        if not line[0] in cdr775_genes:\n",
    "            continue\n",
    "        else:\n",
    "            refseq_dict[line[1]] = line[0]\n",
    "            refseq |= set([line[1]])\n",
    "            gene_dict[line[2]] = line[0]\n",
    "            genes |= set([line[2]])\n",
    "\n",
    "# Parse RNASeq results\n",
    "rough_1 = {}\n",
    "rough_2 = {}\n",
    "smooth_2 = {}\n",
    "smooth_3 = {}\n",
    "with open('/home/mjenior/Desktop/tamayo_analysis/tamayo_rnaseq.tsv', 'r') as transcription:\n",
    "    header = transcription.readline()\n",
    "    for line in transcription:\n",
    "        line = line.split()\n",
    "        if len(line) == 0: continue\n",
    "\n",
    "        if line[0] in refseq:\n",
    "            gene = refseq_dict[line[0]]\n",
    "            rough_1[gene] = float(line[1])\n",
    "            rough_2[gene] = float(line[2])\n",
    "            smooth_2[gene] = float(line[3])\n",
    "            smooth_3[gene] = float(line[4])\n",
    "\n",
    "        elif line[0] in genes:\n",
    "            gene = gene_dict[line[0]]\n",
    "            rough_1[gene] = float(line[1])\n",
    "            rough_2[gene] = float(line[2])\n",
    "            smooth_2[gene] = float(line[3])\n",
    "            smooth_3[gene] = float(line[4])\n",
    "\n",
    "        else:\n",
    "            continue\n",
    "\n",
    "# Save to files for easier use later\n",
    "with open('/home/mjenior/Desktop/tamayo_analysis/rough_1.tsv', 'w') as outFile:\n",
    "    for index in rough_1.keys():\n",
    "        outFile.write(index + '\\t' + str(rough_1[index]) + '\\n')\n",
    "\n",
    "with open('/home/mjenior/Desktop/tamayo_analysis/rough_2.tsv', 'w') as outFile:\n",
    "    for index in rough_2.keys():\n",
    "        outFile.write(index + '\\t' + str(rough_2[index]) + '\\n')\n",
    "\n",
    "with open('/home/mjenior/Desktop/tamayo_analysis/smooth_2.tsv', 'w') as outFile:\n",
    "    for index in smooth_2.keys():\n",
    "        outFile.write(index + '\\t' + str(smooth_2[index]) + '\\n')\n",
    "\n",
    "with open('/home/mjenior/Desktop/tamayo_analysis/smooth_3.tsv', 'w') as outFile:\n",
    "    for index in smooth_3.keys():\n",
    "        outFile.write(index + '\\t' + str(smooth_3[index]) + '\\n')\n",
    "     \n",
    "     "
   ]
  },
  {
   "cell_type": "markdown",
   "metadata": {},
   "source": [
    "## Phase Variation"
   ]
  },
  {
   "cell_type": "code",
   "execution_count": 2,
   "metadata": {},
   "outputs": [],
   "source": [
    "from riptide import *\n",
    "iCdR700 = cobra.io.load_json_model('/home/mjenior/Desktop/repos/Jenior_Cdifficile_2019/data/reconstructions/iCdR700.json')\n",
    "for rxn in iCdR700.boundary: rxn.bounds = (-1000.,1000.)  "
   ]
  },
  {
   "cell_type": "code",
   "execution_count": 3,
   "metadata": {},
   "outputs": [],
   "source": [
    "# Read in transcriptomes\n",
    "rough_1 = riptide.read_transcription_file('/home/mjenior/Desktop/repos/Jenior_Cdifficile_2019/data/transcript/tamayo_etal/tamayo_analysis/phase_variation/rough_1.tsv')        \n",
    "rough_2 = riptide.read_transcription_file('/home/mjenior/Desktop/repos/Jenior_Cdifficile_2019/data/transcript/tamayo_etal/tamayo_analysis/phase_variation/rough_2.tsv')        \n",
    "smooth_2 = riptide.read_transcription_file('/home/mjenior/Desktop/repos/Jenior_Cdifficile_2019/data/transcript/tamayo_etal/tamayo_analysis/phase_variation/smooth_2.tsv')        \n",
    "smooth_3 = riptide.read_transcription_file('/home/mjenior/Desktop/repos/Jenior_Cdifficile_2019/data/transcript/tamayo_etal/tamayo_analysis/phase_variation/smooth_3.tsv') "
   ]
  },
  {
   "cell_type": "code",
   "execution_count": 4,
   "metadata": {},
   "outputs": [
    {
     "name": "stdout",
     "output_type": "stream",
     "text": [
      "\n",
      "Initializing model and integrating transcriptomic data...\n",
      "Pruning zero flux subnetworks...\n",
      "Analyzing context-specific flux distributions...\n",
      "\n",
      "Reactions pruned to 330 from 1307 (74.75% change)\n",
      "Metabolites pruned to 325 from 1245 (73.9% change)\n",
      "Flux through the objective DECREASED to ~162.18 from ~194.8 (16.75% change)\n",
      "Context-specific metabolism correlates with transcriptome (r=0.157, p=0.004 *)\n",
      "\n",
      "RIPTiDe completed in 22 seconds\n",
      "\n"
     ]
    }
   ],
   "source": [
    "iCdR700_rough1 = riptide.contextualize(model=iCdR700, transcriptome=rough_1)"
   ]
  },
  {
   "cell_type": "code",
   "execution_count": 5,
   "metadata": {},
   "outputs": [
    {
     "name": "stdout",
     "output_type": "stream",
     "text": [
      "\n",
      "Initializing model and integrating transcriptomic data...\n",
      "Pruning zero flux subnetworks...\n",
      "Analyzing context-specific flux distributions...\n",
      "\n",
      "Reactions pruned to 333 from 1307 (74.52% change)\n",
      "Metabolites pruned to 327 from 1245 (73.73% change)\n",
      "Flux through the objective DECREASED to ~167.22 from ~194.8 (14.16% change)\n",
      "Context-specific metabolism correlates with transcriptome (r=0.179, p=0.001 *)\n",
      "\n",
      "RIPTiDe completed in 38 seconds\n",
      "\n"
     ]
    }
   ],
   "source": [
    "iCdR700_rough2 = riptide.contextualize(model=iCdR700, transcriptome=rough_2)"
   ]
  },
  {
   "cell_type": "code",
   "execution_count": 6,
   "metadata": {},
   "outputs": [
    {
     "name": "stdout",
     "output_type": "stream",
     "text": [
      "\n",
      "Initializing model and integrating transcriptomic data...\n",
      "Pruning zero flux subnetworks...\n",
      "Analyzing context-specific flux distributions...\n",
      "\n",
      "Reactions pruned to 327 from 1307 (74.98% change)\n",
      "Metabolites pruned to 322 from 1245 (74.14% change)\n",
      "Flux through the objective DECREASED to ~165.85 from ~194.8 (14.86% change)\n",
      "Context-specific metabolism correlates with transcriptome (r=0.119, p=0.031 *)\n",
      "\n",
      "RIPTiDe completed in 28 seconds\n",
      "\n"
     ]
    }
   ],
   "source": [
    "iCdR700_smooth2 = riptide.contextualize(model=iCdR700, transcriptome=smooth_2)"
   ]
  },
  {
   "cell_type": "code",
   "execution_count": 7,
   "metadata": {},
   "outputs": [
    {
     "name": "stdout",
     "output_type": "stream",
     "text": [
      "\n",
      "Initializing model and integrating transcriptomic data...\n",
      "Pruning zero flux subnetworks...\n",
      "Analyzing context-specific flux distributions...\n",
      "\n",
      "Reactions pruned to 330 from 1307 (74.75% change)\n",
      "Metabolites pruned to 324 from 1245 (73.98% change)\n",
      "Flux through the objective DECREASED to ~171.28 from ~194.8 (12.07% change)\n",
      "Context-specific metabolism correlates with transcriptome (r=0.135, p=0.014 *)\n",
      "\n",
      "RIPTiDe completed in 29 seconds\n",
      "\n"
     ]
    }
   ],
   "source": [
    "iCdR700_smooth3 = riptide.contextualize(model=iCdR700, transcriptome=smooth_3)"
   ]
  },
  {
   "cell_type": "code",
   "execution_count": 9,
   "metadata": {},
   "outputs": [],
   "source": [
    "riptide.save_output(riptide_obj=iCdR700_rough1, path='/home/mjenior/Desktop/repos/Jenior_Cdifficile_2019/data/transcript/tamayo_etal/tamayo_analysis/phase_variation/riptide_rough1')\n",
    "riptide.save_output(riptide_obj=iCdR700_rough2, path='/home/mjenior/Desktop/repos/Jenior_Cdifficile_2019/data/transcript/tamayo_etal/tamayo_analysis/phase_variation/riptide_rough2')\n",
    "riptide.save_output(riptide_obj=iCdR700_smooth2, path='/home/mjenior/Desktop/repos/Jenior_Cdifficile_2019/data/transcript/tamayo_etal/tamayo_analysis/phase_variation/riptide_smooth2')\n",
    "riptide.save_output(riptide_obj=iCdR700_smooth3, path='/home/mjenior/Desktop/repos/Jenior_Cdifficile_2019/data/transcript/tamayo_etal/tamayo_analysis/phase_variation/riptide_smooth3')"
   ]
  },
  {
   "cell_type": "markdown",
   "metadata": {},
   "source": [
    "### Analysis"
   ]
  },
  {
   "cell_type": "markdown",
   "metadata": {},
   "source": [
    "#### Growth rate"
   ]
  },
  {
   "cell_type": "code",
   "execution_count": 10,
   "metadata": {},
   "outputs": [
    {
     "name": "stdout",
     "output_type": "stream",
     "text": [
      "Rough doubling time: 26.91 minutes\n",
      "Smooth doubling time: 26.27 minutes\n",
      "p-value: 0.0\n"
     ]
    }
   ],
   "source": [
    "from scipy import stats\n",
    "\n",
    "rough_biomass = list(iCdR700_rough1.flux_samples['biomass']) + list(iCdR700_rough2.flux_samples['biomass'])\n",
    "rough_growth = [(1. / numpy.median(x)) * 3600. for x in rough_biomass]\n",
    "print('Rough doubling time: ' + str(round(numpy.median(rough_growth), 2)) + ' minutes')\n",
    "\n",
    "smooth_biomass = list(iCdR700_smooth2.flux_samples['biomass']) + list(iCdR700_smooth3.flux_samples['biomass'])\n",
    "smooth_growth = [(1. / numpy.median(x)) * 3600. for x in smooth_biomass]\n",
    "print('Smooth doubling time: ' + str(round(numpy.median(smooth_growth), 2)) + ' minutes')\n",
    "\n",
    "t_stat, p_val = stats.shapiro(rough_growth)\n",
    "t_stat, p_val = stats.shapiro(smooth_growth)\n",
    "t_stat, p_val = stats.wilcoxon(rough_growth, smooth_growth)\n",
    "print('p-value: ' + str(round(p_val, 3)))"
   ]
  },
  {
   "cell_type": "markdown",
   "metadata": {},
   "source": [
    "#### Subrate utilization / Secretion"
   ]
  },
  {
   "cell_type": "code",
   "execution_count": 11,
   "metadata": {},
   "outputs": [],
   "source": [
    "# Inferring media condition\n",
    "\n",
    "def find_growth_substrates(riptide):\n",
    "    substrates = []\n",
    "    exchanges = list(set([x.id for x in riptide.model.reactions if 'EX_' in x.id]))\n",
    "    for rxn in exchanges:\n",
    "        if numpy.median(riptide.flux_samples[rxn]) < 0.0:\n",
    "            substrate_id = riptide.model.reactions.get_by_id(rxn).reactants[0].id\n",
    "            substrate_name = riptide.model.reactions.get_by_id(rxn).reactants[0].name\n",
    "            substrates.append([substrate_id, substrate_name])\n",
    "    \n",
    "    print(str(len(substrates)) + ' growth substrates found')\n",
    "    substrates = pandas.DataFrame.from_records(substrates)\n",
    "    substrates.columns = ['id','name']\n",
    "    \n",
    "    return substrates\n",
    "\n",
    "def find_byproducts(riptide):\n",
    "    byproducts = []\n",
    "    exchanges = list(set([x.id for x in riptide.model.reactions if 'EX_' in x.id]))\n",
    "    for rxn in exchanges:\n",
    "        if numpy.median(riptide.flux_samples[rxn]) > 0.0:\n",
    "            byproduct_id = riptide.model.reactions.get_by_id(rxn).reactants[0].id\n",
    "            byproduct_name = riptide.model.reactions.get_by_id(rxn).reactants[0].name\n",
    "            byproducts.append([byproduct_id, byproduct_name])\n",
    "    \n",
    "    print(str(len(byproducts)) + ' secreted byproducts found')\n",
    "    byproducts = pandas.DataFrame.from_records(byproducts)\n",
    "    byproducts.columns = ['id','name']\n",
    "    \n",
    "    return byproducts\n",
    "\n",
    "\n",
    "def find_element_sources(riptide):\n",
    "    \n",
    "    # Isolate exchange reactions\n",
    "    exchanges = []\n",
    "    for rxn in riptide.model.reactions:\n",
    "        if len(rxn.reactants) == 0 or len(rxn.products) == 0:\n",
    "            exchanges.append(rxn.id)\n",
    "    \n",
    "    sources = {}\n",
    "    c_source = ['cpd_id', 0.0]\n",
    "    n_source = ['cpd_id', 0.0]\n",
    "    \n",
    "    # PArse exchange flux samples for imported metabolites\n",
    "    for rxn in exchanges:\n",
    "        flux = abs(numpy.median(riptide.flux_samples[rxn]))\n",
    "        if flux > 1e-6:\n",
    "            metabolite = riptide.model.reactions.get_by_id(rxn).reactants[0]\n",
    "            sources[metabolite.id] = {}\n",
    "            \n",
    "            # Multiply elemental components by median flux absolute value\n",
    "            for element in metabolite.elements.keys():\n",
    "                element_supply = round(float(metabolite.elements[element]) * flux, 3)\n",
    "                sources[metabolite.id][element] = element_supply\n",
    "                \n",
    "                # Identify largest sources of carbon and nitrogen\n",
    "                if element == 'C' and element_supply > c_source[1]:\n",
    "                    c_source = [metabolite.id, element_supply]\n",
    "                elif element == 'N' and element_supply > n_source[1]:\n",
    "                    n_source = [metabolite.id, element_supply]\n",
    "                    \n",
    "    print('Primary carbon source: ' + riptide.model.metabolites.get_by_id(c_source[0]).name + ' (' + str(c_source[1]) + ')')\n",
    "    print('Primary nitrogen source: ' + riptide.model.metabolites.get_by_id(n_source[0]).name + ' (' + str(n_source[1]) + ')')\n",
    "\n",
    "    return sources"
   ]
  },
  {
   "cell_type": "code",
   "execution_count": 12,
   "metadata": {},
   "outputs": [
    {
     "name": "stdout",
     "output_type": "stream",
     "text": [
      "50 growth substrates found\n",
      "Primary carbon source: Inosine (10000.0)\n",
      "Primary nitrogen source: Guanine (4475.177)\n",
      "13 secreted byproducts found\n"
     ]
    }
   ],
   "source": [
    "rough1_substrates = find_growth_substrates(iCdR700_rough1)\n",
    "rough1_sources = find_element_sources(iCdR700_rough1)\n",
    "rough1_byproducts = find_byproducts(iCdR700_rough1)"
   ]
  },
  {
   "cell_type": "code",
   "execution_count": 13,
   "metadata": {},
   "outputs": [
    {
     "name": "stdout",
     "output_type": "stream",
     "text": [
      "49 growth substrates found\n",
      "Primary carbon source: D-Glucosamine (5961.472)\n",
      "Primary nitrogen source: Guanine (4884.822)\n",
      "14 secreted byproducts found\n"
     ]
    }
   ],
   "source": [
    "rough2_substrates = find_growth_substrates(iCdR700_rough2)\n",
    "rough2_sources = find_element_sources(iCdR700_rough2)\n",
    "rough2_byproducts = find_byproducts(iCdR700_rough2)"
   ]
  },
  {
   "cell_type": "code",
   "execution_count": 14,
   "metadata": {},
   "outputs": [
    {
     "name": "stdout",
     "output_type": "stream",
     "text": [
      "47 growth substrates found\n",
      "Primary carbon source: Inosine (10000.0)\n",
      "Primary nitrogen source: Guanine (4431.215)\n",
      "15 secreted byproducts found\n"
     ]
    }
   ],
   "source": [
    "smooth2_substrates = find_growth_substrates(iCdR700_smooth2)\n",
    "smooth2_sources = find_element_sources(iCdR700_smooth2)\n",
    "smooth2_byproducts = find_byproducts(iCdR700_smooth2)"
   ]
  },
  {
   "cell_type": "code",
   "execution_count": 15,
   "metadata": {},
   "outputs": [
    {
     "name": "stdout",
     "output_type": "stream",
     "text": [
      "47 growth substrates found\n",
      "Primary carbon source: Guanosine (7141.62)\n",
      "Primary nitrogen source: Guanine (5000.0)\n",
      "16 secreted byproducts found\n"
     ]
    }
   ],
   "source": [
    "smooth3_substrates = find_growth_substrates(iCdR700_smooth3)\n",
    "smooth3_sources = find_element_sources(iCdR700_smooth3)\n",
    "smooth3_byproducts = find_byproducts(iCdR700_smooth3)"
   ]
  },
  {
   "cell_type": "code",
   "execution_count": 16,
   "metadata": {},
   "outputs": [
    {
     "name": "stdout",
     "output_type": "stream",
     "text": [
      "Rough only:\n",
      "cpd03170_e\t4-Hydroxymandelate\n",
      "cpd00221_e\tD-Lactate\n",
      "cpd00567_e\tD-Proline\n",
      "cpd00122_e\tN-Acetyl-D-glucosamine\n",
      "\n",
      "Smooth only:\n",
      "cpd11588_e\tgly-pro-L\n"
     ]
    }
   ],
   "source": [
    "rough_substrates = set(rough1_substrates['id']).union(set(rough2_substrates['id']))\n",
    "smooth_substrates = set(smooth3_substrates['id']).union(set(smooth2_substrates['id']))\n",
    "rough_only_substrates = rough_substrates.difference(smooth_substrates)\n",
    "smooth_only_substrates = smooth_substrates.difference(rough_substrates)\n",
    "\n",
    "print('Rough only:')\n",
    "for x in rough_only_substrates:\n",
    "    print(x + '\\t' + iCdR700.metabolites.get_by_id(x).name)\n",
    "print('\\nSmooth only:')\n",
    "for x in smooth_only_substrates:\n",
    "    print(x + '\\t' + iCdR700.metabolites.get_by_id(x).name)"
   ]
  },
  {
   "cell_type": "code",
   "execution_count": 17,
   "metadata": {},
   "outputs": [
    {
     "name": "stdout",
     "output_type": "stream",
     "text": [
      "Rough only:\n",
      "cpd00567_e\tD-Proline\n",
      "cpd00100_e\tGlycerol\n",
      "cpd00122_e\tN-Acetyl-D-glucosamine\n",
      "\n",
      "Smooth only:\n",
      "cpd11588_e\tgly-pro-L\n"
     ]
    }
   ],
   "source": [
    "rough_substrates = set(rough1_substrates['id']).intersection(set(rough2_substrates['id']))\n",
    "smooth_substrates = set(smooth3_substrates['id']).intersection(set(smooth2_substrates['id']))\n",
    "rough_only_substrates = rough_substrates.difference(smooth_substrates)\n",
    "smooth_only_substrates = smooth_substrates.difference(rough_substrates)\n",
    "\n",
    "print('Rough only:')\n",
    "for x in rough_only_substrates:\n",
    "    print(x + '\\t' + iCdR700.metabolites.get_by_id(x).name)\n",
    "print('\\nSmooth only:')\n",
    "for x in smooth_only_substrates:\n",
    "    print(x + '\\t' + iCdR700.metabolites.get_by_id(x).name)"
   ]
  },
  {
   "cell_type": "code",
   "execution_count": 18,
   "metadata": {},
   "outputs": [
    {
     "name": "stdout",
     "output_type": "stream",
     "text": [
      "Rough only:\n",
      "cpd03170_e\t4-Hydroxymandelate\n",
      "cpd00036_e\tSuccinate\n",
      "\n",
      "Smooth only:\n",
      "cpd00013_e\tAmmonia\n",
      "cpd00011_e\tCO2\n",
      "cpd00106_e\tFumarate\n",
      "cpd00122_e\tN-Acetyl-D-glucosamine\n",
      "cpd00412_e\tDeoxyuridine\n"
     ]
    }
   ],
   "source": [
    "rough_byproducts = set(rough1_byproducts['id']).union(set(rough2_byproducts['id']))\n",
    "smooth_byproducts = set(smooth3_byproducts['id']).union(set(smooth2_byproducts['id']))\n",
    "rough_only_byproducts = rough_byproducts.difference(smooth_byproducts)\n",
    "smooth_only_byproducts = smooth_byproducts.difference(rough_byproducts)\n",
    "\n",
    "print('Rough only:')\n",
    "for x in rough_only_byproducts:\n",
    "    print(x + '\\t' + iCdR700.metabolites.get_by_id(x).name)\n",
    "print('\\nSmooth only:')\n",
    "for x in smooth_only_byproducts:\n",
    "    print(x + '\\t' + iCdR700.metabolites.get_by_id(x).name)"
   ]
  },
  {
   "cell_type": "code",
   "execution_count": 19,
   "metadata": {},
   "outputs": [
    {
     "name": "stdout",
     "output_type": "stream",
     "text": [
      "Rough only:\n",
      "\n",
      "Smooth only:\n",
      "cpd00412_e\tDeoxyuridine\n"
     ]
    }
   ],
   "source": [
    "rough_byproducts = set(rough1_byproducts['id']).intersection(set(rough2_byproducts['id']))\n",
    "smooth_byproducts = set(smooth3_byproducts['id']).intersection(set(smooth2_byproducts['id']))\n",
    "rough_only_byproducts = rough_byproducts.difference(smooth_byproducts)\n",
    "smooth_only_byproducts = smooth_byproducts.difference(rough_byproducts)\n",
    "\n",
    "print('Rough only:')\n",
    "for x in rough_only_byproducts:\n",
    "    print(x + '\\t' + iCdR700.metabolites.get_by_id(x).name)\n",
    "print('\\nSmooth only:')\n",
    "for x in smooth_only_byproducts:\n",
    "    print(x + '\\t' + iCdR700.metabolites.get_by_id(x).name)"
   ]
  },
  {
   "cell_type": "markdown",
   "metadata": {},
   "source": [
    "#### Gene Essentiality"
   ]
  },
  {
   "cell_type": "code",
   "execution_count": 20,
   "metadata": {},
   "outputs": [],
   "source": [
    "import cobra\n",
    "import cobra.flux_analysis"
   ]
  },
  {
   "cell_type": "code",
   "execution_count": 21,
   "metadata": {
    "scrolled": true
   },
   "outputs": [
    {
     "name": "stdout",
     "output_type": "stream",
     "text": [
      "57 essential genes found\n"
     ]
    }
   ],
   "source": [
    "minGrowth = iCdR700.slim_optimize() * 0.8\n",
    "base_essential_genes = cobra.flux_analysis.find_essential_genes(iCdR700, threshold=minGrowth)\n",
    "base_essential_genes = set([x.id for x in base_essential_genes])\n",
    "print(str(len(base_essential_genes)) + ' essential genes found')"
   ]
  },
  {
   "cell_type": "code",
   "execution_count": 22,
   "metadata": {},
   "outputs": [
    {
     "name": "stdout",
     "output_type": "stream",
     "text": [
      "81 essential genes found\n"
     ]
    }
   ],
   "source": [
    "minGrowth = iCdR700_rough1.model.slim_optimize() * 0.8\n",
    "rough1_essential_genes = cobra.flux_analysis.find_essential_genes(iCdR700_rough1.model, threshold=minGrowth)\n",
    "rough1_essential_genes = set([x.id for x in rough1_essential_genes])\n",
    "print(str(len(rough1_essential_genes)) + ' essential genes found')"
   ]
  },
  {
   "cell_type": "code",
   "execution_count": 23,
   "metadata": {},
   "outputs": [
    {
     "name": "stdout",
     "output_type": "stream",
     "text": [
      "79 essential genes found\n"
     ]
    }
   ],
   "source": [
    "minGrowth = iCdR700_rough2.model.slim_optimize() * 0.8\n",
    "rough2_essential_genes = cobra.flux_analysis.find_essential_genes(iCdR700_rough2.model, threshold=minGrowth)\n",
    "rough2_essential_genes = set([x.id for x in rough2_essential_genes])\n",
    "print(str(len(rough2_essential_genes)) + ' essential genes found')"
   ]
  },
  {
   "cell_type": "code",
   "execution_count": 24,
   "metadata": {},
   "outputs": [
    {
     "name": "stdout",
     "output_type": "stream",
     "text": [
      "79 essential genes found\n"
     ]
    }
   ],
   "source": [
    "minGrowth = iCdR700_smooth2.model.slim_optimize() * 0.8\n",
    "smooth2_essential_genes = cobra.flux_analysis.find_essential_genes(iCdR700_smooth2.model, threshold=minGrowth)\n",
    "smooth2_essential_genes = set([x.id for x in smooth2_essential_genes])\n",
    "print(str(len(smooth2_essential_genes)) + ' essential genes found')"
   ]
  },
  {
   "cell_type": "code",
   "execution_count": 25,
   "metadata": {},
   "outputs": [
    {
     "name": "stdout",
     "output_type": "stream",
     "text": [
      "79 essential genes found\n"
     ]
    }
   ],
   "source": [
    "minGrowth = iCdR700_smooth3.model.slim_optimize() * 0.8\n",
    "smooth3_essential_genes = cobra.flux_analysis.find_essential_genes(iCdR700_smooth3.model, threshold=minGrowth)\n",
    "smooth3_essential_genes = set([x.id for x in smooth3_essential_genes])\n",
    "print(str(len(smooth3_essential_genes)) + ' essential genes found')"
   ]
  },
  {
   "cell_type": "code",
   "execution_count": 27,
   "metadata": {},
   "outputs": [
    {
     "name": "stdout",
     "output_type": "stream",
     "text": [
      "Rough only:\n",
      "645463.3.peg.664\tsodium-solute symporter, putative\n",
      "645463.3.peg.3289\tproline racemase (EC 5.1.1.4)\n",
      "645463.3.peg.3106\tPTS system, N-acetylglucosamine-specific IIA component (EC 2.7.1.193) / PTS system, N-acetylglucosamine-specific IIB component (EC 2.7.1.193) / PTS system, N-acetylglucosamine-specific IIC component\n",
      "\n",
      "Smooth only:\n",
      "645463.3.peg.198\taspartate carbamoyltransferase (EC 2.1.3.2)\n",
      "645463.3.peg.398\tFructose-bisphosphate aldolase class II (EC 4.1.2.13)\n",
      "645463.3.peg.3339\tGlucose-6-phosphate isomerase (EC 5.3.1.9)\n",
      "645463.3.peg.929\tN-acetylgalactosamine-6-phosphate deacetylase\n"
     ]
    }
   ],
   "source": [
    "# Filter against base model\n",
    "rough1_essential_genes = rough1_essential_genes.difference(base_essential_genes)\n",
    "rough2_essential_genes = rough2_essential_genes.difference(base_essential_genes)\n",
    "smooth2_essential_genes = smooth2_essential_genes.difference(base_essential_genes)\n",
    "smooth3_essential_genes = smooth3_essential_genes.difference(base_essential_genes)\n",
    "\n",
    "# Find agreement within groups\n",
    "rough = rough1_essential_genes.union(rough2_essential_genes)\n",
    "smooth = smooth2_essential_genes.union(smooth3_essential_genes)\n",
    "\n",
    "# Contrast groups\n",
    "rough_only_essential = rough.difference(smooth)\n",
    "smooth_only_essential = smooth.difference(rough)\n",
    "\n",
    "# Display results\n",
    "print('Rough only:')\n",
    "for x in rough_only_essential:\n",
    "    print(x + '\\t' + iCdR700.genes.get_by_id(x).name)\n",
    "print('\\nSmooth only:')\n",
    "for x in smooth_only_essential:\n",
    "    print(x + '\\t' + iCdR700.genes.get_by_id(x).name)"
   ]
  },
  {
   "cell_type": "code",
   "execution_count": 28,
   "metadata": {},
   "outputs": [
    {
     "name": "stdout",
     "output_type": "stream",
     "text": [
      "Rough only:\n",
      "645463.3.peg.664\tsodium-solute symporter, putative\n",
      "645463.3.peg.3289\tproline racemase (EC 5.1.1.4)\n",
      "645463.3.peg.3106\tPTS system, N-acetylglucosamine-specific IIA component (EC 2.7.1.193) / PTS system, N-acetylglucosamine-specific IIB component (EC 2.7.1.193) / PTS system, N-acetylglucosamine-specific IIC component\n",
      "\n",
      "Smooth only:\n"
     ]
    }
   ],
   "source": [
    "# Filter against base model\n",
    "rough1_essential_genes = rough1_essential_genes.difference(base_essential_genes)\n",
    "rough2_essential_genes = rough2_essential_genes.difference(base_essential_genes)\n",
    "smooth2_essential_genes = smooth2_essential_genes.difference(base_essential_genes)\n",
    "smooth3_essential_genes = smooth3_essential_genes.difference(base_essential_genes)\n",
    "\n",
    "# Find agreement within groups\n",
    "rough = rough1_essential_genes.intersection(rough2_essential_genes)\n",
    "smooth = smooth2_essential_genes.intersection(smooth3_essential_genes)\n",
    "\n",
    "# Contrast groups\n",
    "rough_only_essential = rough.difference(smooth)\n",
    "smooth_only_essential = smooth.difference(rough)\n",
    "\n",
    "# Display results\n",
    "print('Rough only:')\n",
    "for x in rough_only_essential:\n",
    "    print(x + '\\t' + iCdR700.genes.get_by_id(x).name)\n",
    "print('\\nSmooth only:')\n",
    "for x in smooth_only_essential:\n",
    "    print(x + '\\t' + iCdR700.genes.get_by_id(x).name)"
   ]
  },
  {
   "cell_type": "markdown",
   "metadata": {},
   "source": [
    "#### Topology"
   ]
  },
  {
   "cell_type": "code",
   "execution_count": 29,
   "metadata": {},
   "outputs": [
    {
     "name": "stdout",
     "output_type": "stream",
     "text": [
      "6\n",
      "9\n",
      "202\n"
     ]
    }
   ],
   "source": [
    "# Genes\n",
    "r_genes = set([x.id for x in iCdR700_rough1.model.genes]).union(set([x.id for x in iCdR700_rough2.model.genes]))\n",
    "s_genes = set([x.id for x in iCdR700_smooth2.model.genes]).union(set([x.id for x in iCdR700_smooth3.model.genes]))\n",
    "\n",
    "print(len(r_genes.difference(s_genes)))\n",
    "print(len(s_genes.difference(r_genes)))\n",
    "print(len(r_genes.intersection(s_genes)))"
   ]
  },
  {
   "cell_type": "code",
   "execution_count": 30,
   "metadata": {},
   "outputs": [
    {
     "name": "stdout",
     "output_type": "stream",
     "text": [
      "11\n",
      "15\n",
      "332\n"
     ]
    }
   ],
   "source": [
    "# Reactions\n",
    "r_reactions = set([x.id for x in iCdR700_rough1.model.reactions]).union(set([x.id for x in iCdR700_rough2.model.reactions]))\n",
    "s_reactions = set([x.id for x in iCdR700_smooth2.model.reactions]).union(set([x.id for x in iCdR700_smooth3.model.reactions]))\n",
    "\n",
    "print(len(r_reactions.difference(s_reactions)))\n",
    "print(len(s_reactions.difference(r_reactions)))\n",
    "print(len(r_reactions.intersection(s_reactions)))"
   ]
  },
  {
   "cell_type": "code",
   "execution_count": 31,
   "metadata": {},
   "outputs": [
    {
     "name": "stdout",
     "output_type": "stream",
     "text": [
      "6\n",
      "8\n",
      "323\n"
     ]
    }
   ],
   "source": [
    "# Metabolites\n",
    "r_metabolites = set([x.id for x in iCdR700_rough1.model.metabolites]).union(set([x.id for x in iCdR700_rough2.model.metabolites]))\n",
    "s_metabolites = set([x.id for x in iCdR700_smooth2.model.metabolites]).union(set([x.id for x in iCdR700_smooth3.model.metabolites]))\n",
    "\n",
    "print(len(r_metabolites.difference(s_metabolites)))\n",
    "print(len(s_metabolites.difference(r_metabolites)))\n",
    "print(len(r_metabolites.intersection(s_metabolites)))"
   ]
  },
  {
   "cell_type": "code",
   "execution_count": 33,
   "metadata": {},
   "outputs": [
    {
     "name": "stdout",
     "output_type": "stream",
     "text": [
      "Rough only:\n",
      "645463.3.peg.3289\tproline racemase (EC 5.1.1.4)\n",
      "645463.3.peg.2255\tBiosynthetic Aromatic amino acid aminotransferase beta (EC 2.6.1.57)\n",
      "645463.3.peg.3106\tPTS system, N-acetylglucosamine-specific IIA component (EC 2.7.1.193) / PTS system, N-acetylglucosamine-specific IIB component (EC 2.7.1.193) / PTS system, N-acetylglucosamine-specific IIC component\n",
      "645463.3.peg.169\t4-hydroxyphenylacetate decarboxylase activating enzyme\n",
      "645463.3.peg.2553\tBiosynthetic Aromatic amino acid aminotransferase beta (EC 2.6.1.57)\n",
      "645463.3.peg.664\tsodium-solute symporter, putative\n",
      "645463.3.peg.389\tD-lactate dehydrogenase (EC 1.1.1.28)\n",
      "\n",
      "Smooth only:\n",
      "645463.3.peg.929\tN-acetylgalactosamine-6-phosphate deacetylase\n"
     ]
    }
   ],
   "source": [
    "# Compare gene pruning between groups\n",
    "rough_pruned = iCdR700_rough1.pruned['genes'].union(iCdR700_rough2.pruned['genes'])\n",
    "smooth_pruned = iCdR700_smooth2.pruned['genes'].union(iCdR700_smooth3.pruned['genes'])\n",
    "rough_only_genes = smooth_pruned.difference(rough_pruned)\n",
    "smooth_only_genes = rough_pruned.difference(smooth_pruned)\n",
    "\n",
    "print('Rough only:')\n",
    "for x in rough_only_genes:\n",
    "    print(x + '\\t' + iCdR700.genes.get_by_id(x).name)\n",
    "print('\\nSmooth only:')\n",
    "for x in smooth_only_genes:\n",
    "    print(x + '\\t' + iCdR700.genes.get_by_id(x).name)"
   ]
  },
  {
   "cell_type": "code",
   "execution_count": 35,
   "metadata": {},
   "outputs": [
    {
     "name": "stdout",
     "output_type": "stream",
     "text": [
      "Rough only:\n",
      "645463.3.peg.3289\tproline racemase (EC 5.1.1.4)\n",
      "645463.3.peg.2255\tBiosynthetic Aromatic amino acid aminotransferase beta (EC 2.6.1.57)\n",
      "645463.3.peg.169\t4-hydroxyphenylacetate decarboxylase activating enzyme\n",
      "645463.3.peg.441\tPTS system, sucrose-specific IIC component (EC 2.7.1.69)\n",
      "645463.3.peg.2553\tBiosynthetic Aromatic amino acid aminotransferase beta (EC 2.6.1.57)\n",
      "645463.3.peg.664\tsodium-solute symporter, putative\n",
      "\n",
      "Smooth only:\n",
      "645463.3.peg.920\tNADP-dependent malic enzyme (EC 1.1.1.40)\n",
      "645463.3.peg.2965\tAcetaldehyde dehydrogenase (EC 1.2.1.10)\n",
      "645463.3.peg.3373\tFormate dehydrogenase H (EC 1.2.1.2)\n",
      "645463.3.peg.918\tFumarate hydratase class I, alpha region (EC 4.2.1.2); L(+)-tartrate dehydratase alpha subunit (EC 4.2.1.32) | fumA\n",
      "645463.3.peg.929\tN-acetylgalactosamine-6-phosphate deacetylase\n",
      "645463.3.peg.361\tAcetaldehyde dehydrogenase (EC 1.2.1.10)\n",
      "645463.3.peg.919\tFumarate hydratase class I, beta region (EC 4.2.1.2); L(+)-tartrate dehydratase beta subunit (EC 4.2.1.32) | fumB\n",
      "645463.3.peg.3110\talcohol dehydrogenase (EC 1.1.1.1)\n",
      "645463.3.peg.3007\talcohol dehydrogenase (EC 1.1.1.1)\n"
     ]
    }
   ],
   "source": [
    "# Compare gene pruning between groups\n",
    "rough_pruned = iCdR700_rough1.pruned['genes'].intersection(iCdR700_rough2.pruned['genes'])\n",
    "smooth_pruned = iCdR700_smooth2.pruned['genes'].intersection(iCdR700_smooth3.pruned['genes'])\n",
    "rough_only_genes = smooth_pruned.difference(rough_pruned)\n",
    "smooth_only_genes = rough_pruned.difference(smooth_pruned)\n",
    "\n",
    "print('Rough only:')\n",
    "for x in rough_only_genes:\n",
    "    print(x + '\\t' + iCdR700.genes.get_by_id(x).name)\n",
    "print('\\nSmooth only:')\n",
    "for x in smooth_only_genes:\n",
    "    print(x + '\\t' + iCdR700.genes.get_by_id(x).name)"
   ]
  },
  {
   "cell_type": "code",
   "execution_count": 36,
   "metadata": {},
   "outputs": [
    {
     "name": "stdout",
     "output_type": "stream",
     "text": [
      "Rough only:\n",
      "EX_cpd00100_e\tGlycerol exchange\n",
      "rxn00579_c\tUDP-glucose:D-fructose 2-alpha-D-glucosyltransferase\n",
      "EX_cpd00567_e\tD-Proline exchange\n",
      "rxn12529_c\tTRANS-RXNAVI-26524.ce.brachyexp.GLYCEROL_GLYCEROL\n",
      "EX_cpd00122_e\tN-Acetyl-D-glucosamine exchange\n",
      "rxn04954_c\t5-methyltetrahydrofolate:NAD+ oxidoreductase\n",
      "rxn00933_c\tproline racemase\n",
      "rxn13140_c\tNucleoside triphosphatase\n",
      "ENOG4108HXH_c\tD-proline sodium symporter\n",
      "EX_cpd00221_e\tD-Lactate exchange\n",
      "rxn07124_c\tp-Hydroxyphenylacetate decarboxylase\n",
      "rxn00527_c\tL-tyrosine:2-oxoglutarate aminotransferase\n",
      "ID008_c\t2,3-Dihydroxyphenylpropanoate diffusion\n",
      "rxn05485_c\tN-Acetyl-D-glucosamine transport via PEP:Pyr PTS\n",
      "rxn10171_c\tD-lactate transport via proton symport\n",
      "rxn00500_c\t(R)-Lactate:NAD+ oxidoreductase\n",
      "EX_cpd03170_e\t4-Hydroxymandelate exchange\n",
      "rxn09658_c\tSucrose transport via proton symport\n",
      "\n",
      "Smooth only:\n",
      "rxn04113_c\tisopentenyl-diphosphate:NAD(P)+ oxidoreductase\n",
      "rxn12638_c\tmethionyl aminopeptidase\n",
      "EX_cpd11588_e\tgly-pro-L exchange\n",
      "rxn05561_c\tTransport of dicarboxylates, extracellular\n",
      "rxn04996_c\tdimethyallyl diphosphate:NADP+ oxidoreductase\n",
      "rxn05538_c\tDipeptide transport via ABC system (gly-pro-L)\n",
      "rxn01484_c\tN-Acetyl-D-glucosamine-6-phosphate amidohydrolase\n",
      "EX_cpd00106_e\tFumarate exchange\n"
     ]
    }
   ],
   "source": [
    "# Reactions\n",
    "rough_pruned = iCdR700_rough1.pruned['reactions'].union(iCdR700_rough2.pruned['reactions'])\n",
    "smooth_pruned = iCdR700_smooth2.pruned['reactions'].union(iCdR700_smooth3.pruned['reactions'])\n",
    "rough_only_reactions = smooth_pruned.difference(rough_pruned)\n",
    "smooth_only_reactions = rough_pruned.difference(smooth_pruned)\n",
    "\n",
    "print('Rough only:')\n",
    "for x in rough_only_reactions:\n",
    "    print(x + '\\t' + iCdR700.reactions.get_by_id(x).name)\n",
    "print('\\nSmooth only:')\n",
    "for x in smooth_only_reactions:\n",
    "    print(x + '\\t' + iCdR700.reactions.get_by_id(x).name)"
   ]
  },
  {
   "cell_type": "code",
   "execution_count": 37,
   "metadata": {},
   "outputs": [
    {
     "name": "stdout",
     "output_type": "stream",
     "text": [
      "Rough only:\n",
      "EX_cpd00567_e\tD-Proline exchange\n",
      "rxn00933_c\tproline racemase\n",
      "ENOG4108HXH_c\tD-proline sodium symporter\n",
      "rxn00527_c\tL-tyrosine:2-oxoglutarate aminotransferase\n",
      "rxn07124_c\tp-Hydroxyphenylacetate decarboxylase\n",
      "rxn08352_c\t(E)-4-hydroxy-3-methylbut-2-en-1-yl diphosphate reductase\n",
      "ID008_c\t2,3-Dihydroxyphenylpropanoate diffusion\n",
      "rxn05655_c\tsucrose transport via PEP:Pyr PTS\n",
      "rxn00553_c\tUDP-glucose:D-fructose-6-phosphate 2-alpha-D-glucosyltransferase\n",
      "rxn00558_c\tD-glucose-6-phosphate aldose-ketose-isomerase\n",
      "EX_cpd03170_e\t4-Hydroxymandelate exchange\n",
      "\n",
      "Smooth only:\n",
      "rxn12638_c\tmethionyl aminopeptidase\n",
      "rxn01870_c\tD-Fructose 1-phosphate D-glyceraldehyde-3-phosphate-lyase\n",
      "EX_cpd11588_e\tgly-pro-L exchange\n",
      "rxn05234_c\t2'-Deoxyguanosine 5'-triphosphate:oxydized-thioredoxin 2'-oxidoreductase\n",
      "EX_cpd00013_e\tAmmonia exchange\n",
      "rxn05466_c\tAmmonia diffusion\n",
      "rxn10114_c\tformate dehydrogenase (quinone-8: 2 protons)\n",
      "rxn00799_c\tFumarate hydratase\n",
      "rxn02380_c\tbeta-D-Glucose 6-phosphate ketol-isomerase\n",
      "rxn05538_c\tDipeptide transport via ABC system (gly-pro-L)\n",
      "rxn00763_c\tGlycerol:NAD+ oxidoreductase\n",
      "rxn08655_c\tGlycolate oxidase\n",
      "rxn01484_c\tN-Acetyl-D-glucosamine-6-phosphate amidohydrolase\n",
      "rxn00161_c\t(S)-Malate:NADP+ oxidoreductase(oxaloacetate-decarboxylating)\n",
      "rxn12188_c\t2-deoxyglucose-6-phosphatase\n"
     ]
    }
   ],
   "source": [
    "# Reactions\n",
    "rough_pruned = iCdR700_rough1.pruned['reactions'].intersection(iCdR700_rough2.pruned['reactions'])\n",
    "smooth_pruned = iCdR700_smooth2.pruned['reactions'].intersection(iCdR700_smooth3.pruned['reactions'])\n",
    "rough_only_reactions = smooth_pruned.difference(rough_pruned)\n",
    "smooth_only_reactions = rough_pruned.difference(smooth_pruned)\n",
    "\n",
    "print('Rough only:')\n",
    "for x in rough_only_reactions:\n",
    "    print(x + '\\t' + iCdR700.reactions.get_by_id(x).name)\n",
    "print('\\nSmooth only:')\n",
    "for x in smooth_only_reactions:\n",
    "    print(x + '\\t' + iCdR700.reactions.get_by_id(x).name)"
   ]
  },
  {
   "cell_type": "code",
   "execution_count": 38,
   "metadata": {},
   "outputs": [
    {
     "name": "stdout",
     "output_type": "stream",
     "text": [
      "Rough only:\n",
      "cpd03170_c\t4-Hydroxymandelate\n",
      "cpd00100_e\tGlycerol\n",
      "cpd00221_c\tD-Lactate\n",
      "cpd00868_c\tp-hydroxyphenylpyruvate\n",
      "cpd00076_e\tSucrose\n",
      "cpd03170_e\t4-Hydroxymandelate\n",
      "cpd00221_e\tD-Lactate\n",
      "cpd00076_c\tSucrose\n",
      "cpd00122_e\tN-Acetyl-D-glucosamine\n",
      "cpd00567_c\tD-Proline\n",
      "cpd00567_e\tD-Proline\n",
      "\n",
      "Smooth only:\n",
      "cpd11588_e\tgly-pro-L\n",
      "cpd00106_e\tFumarate\n",
      "cpd11588_c\tgly-pro-L\n"
     ]
    }
   ],
   "source": [
    "# Metabolites\n",
    "rough_pruned = iCdR700_rough1.pruned['metabolites'].union(iCdR700_rough2.pruned['metabolites'])\n",
    "smooth_pruned = iCdR700_smooth2.pruned['metabolites'].union(iCdR700_smooth3.pruned['metabolites'])\n",
    "rough_only_metabolites = smooth_pruned.difference(rough_pruned)\n",
    "smooth_only_metabolites = rough_pruned.difference(smooth_pruned)\n",
    "\n",
    "print('Rough only:')\n",
    "for x in rough_only_metabolites:\n",
    "    print(x + '\\t' + iCdR700.metabolites.get_by_id(x).name)\n",
    "print('\\nSmooth only:')\n",
    "for x in smooth_only_metabolites:\n",
    "    print(x + '\\t' + iCdR700.metabolites.get_by_id(x).name)"
   ]
  },
  {
   "cell_type": "code",
   "execution_count": 39,
   "metadata": {},
   "outputs": [
    {
     "name": "stdout",
     "output_type": "stream",
     "text": [
      "Rough only:\n",
      "cpd03170_c\t4-Hydroxymandelate\n",
      "cpd00868_c\tp-hydroxyphenylpyruvate\n",
      "cpd03170_e\t4-Hydroxymandelate\n",
      "cpd00567_c\tD-Proline\n",
      "cpd00567_e\tD-Proline\n",
      "cpd01693_c\t6-Phosphosucrose\n",
      "\n",
      "Smooth only:\n",
      "cpd00013_e\tAmmonia\n",
      "cpd00802_c\tD-fructose-1-phosphate\n",
      "cpd15560_c\tUbiquinone-8\n",
      "cpd11588_e\tgly-pro-L\n",
      "cpd11588_c\tgly-pro-L\n",
      "cpd00448_c\tD-Glyceraldehyde\n",
      "cpd00130_c\tL-Malate\n",
      "cpd15561_c\tUbiquinol-8\n"
     ]
    }
   ],
   "source": [
    "# Metabolites\n",
    "rough_pruned = iCdR700_rough1.pruned['metabolites'].intersection(iCdR700_rough2.pruned['metabolites'])\n",
    "smooth_pruned = iCdR700_smooth2.pruned['metabolites'].intersection(iCdR700_smooth3.pruned['metabolites'])\n",
    "rough_only_metabolites = smooth_pruned.difference(rough_pruned)\n",
    "smooth_only_metabolites = rough_pruned.difference(smooth_pruned)\n",
    "\n",
    "print('Rough only:')\n",
    "for x in rough_only_metabolites:\n",
    "    print(x + '\\t' + iCdR700.metabolites.get_by_id(x).name)\n",
    "print('\\nSmooth only:')\n",
    "for x in smooth_only_metabolites:\n",
    "    print(x + '\\t' + iCdR700.metabolites.get_by_id(x).name)"
   ]
  },
  {
   "cell_type": "code",
   "execution_count": null,
   "metadata": {},
   "outputs": [],
   "source": []
  },
  {
   "cell_type": "code",
   "execution_count": null,
   "metadata": {},
   "outputs": [],
   "source": []
  },
  {
   "cell_type": "code",
   "execution_count": null,
   "metadata": {},
   "outputs": [],
   "source": []
  },
  {
   "cell_type": "code",
   "execution_count": null,
   "metadata": {},
   "outputs": [],
   "source": []
  },
  {
   "cell_type": "code",
   "execution_count": null,
   "metadata": {},
   "outputs": [],
   "source": [
    "import re\n",
    "import copy\n",
    "import cobra\n",
    "\n",
    "def pathway_trace(model, substrate, threshold=0.8):\n",
    "    # model = cobra model\n",
    "    # substrate = metabolite ID of extracellular growth substrate (str)\n",
    "    # threshold = fraction of optimal objective flux to set as minimum fo pfba\n",
    "    \n",
    "    # Initialize duplicate model and get exchange reaction IDs\n",
    "    temp = copy.deepcopy(model)\n",
    "    objID = list(set((re.split('\\*|\\s', str(iCdG791.objective.expression)))).intersection(set([x.id for x in iCdG791.reactions])))[0]\n",
    "    substrate_rxns = set([x.id for x in temp.metabolites.get_by_id(substrate).reactions])\n",
    "    exchanges = set()\n",
    "    for rxn in temp.reactions:\n",
    "        if len(rxn.reactants) == 0 or len(rxn.products) == 0:\n",
    "            exchanges |= set([rxn.id])\n",
    "    \n",
    "    # Set high previous objective flux as constraint\n",
    "    objVal = temp.slim_optimize()\n",
    "    obj_constraint = temp.problem.Constraint(temp.objective.expression, lb=objVal*threshold, ub=objVal)\n",
    "    temp.add_cons_vars([obj_constraint])\n",
    "    temp.solver.update()\n",
    "    \n",
    "    # Assemble pfba objective\n",
    "    pfba_expr = symengine.RealDouble(0)\n",
    "    for rxn in temp.reactions:\n",
    "        pfba_expr += 1.0 * rxn.forward_variable\n",
    "        pfba_expr += 1.0 * rxn.reverse_variable    \n",
    "    temp.objective = temp.problem.Objective(pfba_expr, direction='min', sloppy=True)\n",
    "    temp.solver.update()\n",
    "    \n",
    "    # Identify active reactions and identify specific exchange reaction\n",
    "    solution = temp.optimize()\n",
    "    active_rxns = set([rxn.id for rxn in temp.reactions if abs(solution.fluxes[rxn.id]) > 1e-6])\n",
    "    exchanges = exchanges.intersection(active_rxns)\n",
    "    pathway = list(substrate_rxns.intersection(exchanges))\n",
    "    \n",
    "    # Parse model by flux starting with substrate of interest\n",
    "    for rxn in pathway:\n",
    "        cpds = temp.reactions.get_by_id(rxn).metabolites\n",
    "        new_rxns = \n",
    "        for cpd in cpds:\n",
    "            \n",
    "            \n",
    "        find next reaction with largest flux that is not the current reaction\n",
    "        \n",
    "        \n",
    "        \n",
    "        \n",
    "        \n",
    "        pathway.append(reaction.id)\n",
    "        \n",
    "    \n",
    "    \n",
    "    \n",
    "    \n",
    "    \n",
    "    return pathway\n",
    "    \n",
    "\n"
   ]
  },
  {
   "cell_type": "code",
   "execution_count": null,
   "metadata": {},
   "outputs": [],
   "source": []
  },
  {
   "cell_type": "code",
   "execution_count": null,
   "metadata": {},
   "outputs": [],
   "source": []
  },
  {
   "cell_type": "code",
   "execution_count": null,
   "metadata": {},
   "outputs": [],
   "source": []
  },
  {
   "cell_type": "code",
   "execution_count": 51,
   "metadata": {},
   "outputs": [],
   "source": [
    "import cobra\n",
    "import copy\n",
    "import pandas\n",
    "\n",
    "def find_blocked(model, threshold=1e-5):\n",
    "    temp_model = copy.deepcopy(model)\n",
    "    blocked = []\n",
    "\n",
    "    # Run an FVA\n",
    "    for rxn in temp_model.reactions:\n",
    "        temp_model.objective = rxn.id\n",
    "        temp_model.objective_direction = 'max'\n",
    "        max_objVal = temp_model.slim_optimize()\n",
    "        temp_model.objective_direction = 'min'\n",
    "        min_objVal = temp_model.slim_optimize()\n",
    "        if abs(max_objVal) < threshold and abs(min_objVal) < threshold: blocked.append(rxn.id)\n",
    "    \n",
    "    return blocked\n"
   ]
  },
  {
   "cell_type": "code",
   "execution_count": 151,
   "metadata": {},
   "outputs": [],
   "source": [
    "import cobra\n",
    "import copy\n",
    "import pandas\n",
    "\n",
    "def FVA(model, fraction=0.001):\n",
    "    temp_model = copy.deepcopy(model)\n",
    "    \n",
    "    # Set previous objective as a constraint\n",
    "    objVal = temp_model.slim_optimize()\n",
    "    obj_constraint = temp_model.problem.Constraint(temp_model.objective.expression, lb=objVal*fraction, ub=objVal)\n",
    "    temp_model.add_cons_vars([obj_constraint])\n",
    "    temp_model.solver.update()\n",
    "    \n",
    "    # Run an FVA\n",
    "    fva = []\n",
    "    rxn_ids = []\n",
    "    for rxn in temp_model.reactions:\n",
    "        temp_model.objective = rxn.id\n",
    "        temp_model.objective_direction = 'max'\n",
    "        max_objVal = temp_model.slim_optimize()\n",
    "        temp_model.objective_direction = 'min'\n",
    "        min_objVal = temp_model.slim_optimize()\n",
    "        rxn_ids.append(rxn.id)\n",
    "        fva.append([rxn.id, min_objVal, max_objVal])\n",
    "    fva = pandas.DataFrame.from_records(fva, columns=['id','minimum','maximum'], index=rxn_ids)\n",
    "    \n",
    "    return fva\n"
   ]
  },
  {
   "cell_type": "code",
   "execution_count": 152,
   "metadata": {},
   "outputs": [],
   "source": [
    "iCdR700_fva = FVA(iCdR700)"
   ]
  },
  {
   "cell_type": "code",
   "execution_count": 153,
   "metadata": {},
   "outputs": [
    {
     "data": {
      "text/html": [
       "<div>\n",
       "<style scoped>\n",
       "    .dataframe tbody tr th:only-of-type {\n",
       "        vertical-align: middle;\n",
       "    }\n",
       "\n",
       "    .dataframe tbody tr th {\n",
       "        vertical-align: top;\n",
       "    }\n",
       "\n",
       "    .dataframe thead th {\n",
       "        text-align: right;\n",
       "    }\n",
       "</style>\n",
       "<table border=\"1\" class=\"dataframe\">\n",
       "  <thead>\n",
       "    <tr style=\"text-align: right;\">\n",
       "      <th></th>\n",
       "      <th>id</th>\n",
       "      <th>minimum</th>\n",
       "      <th>maximum</th>\n",
       "    </tr>\n",
       "  </thead>\n",
       "  <tbody>\n",
       "    <tr>\n",
       "      <th>rxn02201_c</th>\n",
       "      <td>rxn02201_c</td>\n",
       "      <td>0.000000e+00</td>\n",
       "      <td>999.391452</td>\n",
       "    </tr>\n",
       "    <tr>\n",
       "      <th>rxn00836_c</th>\n",
       "      <td>rxn00836_c</td>\n",
       "      <td>0.000000e+00</td>\n",
       "      <td>999.391452</td>\n",
       "    </tr>\n",
       "    <tr>\n",
       "      <th>rxn00390_c</th>\n",
       "      <td>rxn00390_c</td>\n",
       "      <td>0.000000e+00</td>\n",
       "      <td>0.000000</td>\n",
       "    </tr>\n",
       "    <tr>\n",
       "      <th>rxn00423_c</th>\n",
       "      <td>rxn00423_c</td>\n",
       "      <td>0.000000e+00</td>\n",
       "      <td>1000.000000</td>\n",
       "    </tr>\n",
       "    <tr>\n",
       "      <th>rxn00364_c</th>\n",
       "      <td>rxn00364_c</td>\n",
       "      <td>0.000000e+00</td>\n",
       "      <td>0.000000</td>\n",
       "    </tr>\n",
       "    <tr>\n",
       "      <th>...</th>\n",
       "      <td>...</td>\n",
       "      <td>...</td>\n",
       "      <td>...</td>\n",
       "    </tr>\n",
       "    <tr>\n",
       "      <th>rxn01675_c</th>\n",
       "      <td>rxn01675_c</td>\n",
       "      <td>0.000000e+00</td>\n",
       "      <td>0.000000</td>\n",
       "    </tr>\n",
       "    <tr>\n",
       "      <th>rxn03887_c</th>\n",
       "      <td>rxn03887_c</td>\n",
       "      <td>0.000000e+00</td>\n",
       "      <td>0.000000</td>\n",
       "    </tr>\n",
       "    <tr>\n",
       "      <th>rxn01997_c</th>\n",
       "      <td>rxn01997_c</td>\n",
       "      <td>0.000000e+00</td>\n",
       "      <td>0.000000</td>\n",
       "    </tr>\n",
       "    <tr>\n",
       "      <th>teichoicacid_rxn</th>\n",
       "      <td>teichoicacid_rxn</td>\n",
       "      <td>8.994470e-04</td>\n",
       "      <td>0.899447</td>\n",
       "    </tr>\n",
       "    <tr>\n",
       "      <th>rxn08764_c</th>\n",
       "      <td>rxn08764_c</td>\n",
       "      <td>3.114402e-13</td>\n",
       "      <td>1000.000000</td>\n",
       "    </tr>\n",
       "  </tbody>\n",
       "</table>\n",
       "<p>1135 rows × 3 columns</p>\n",
       "</div>"
      ],
      "text/plain": [
       "                                id       minimum      maximum\n",
       "rxn02201_c              rxn02201_c  0.000000e+00   999.391452\n",
       "rxn00836_c              rxn00836_c  0.000000e+00   999.391452\n",
       "rxn00390_c              rxn00390_c  0.000000e+00     0.000000\n",
       "rxn00423_c              rxn00423_c  0.000000e+00  1000.000000\n",
       "rxn00364_c              rxn00364_c  0.000000e+00     0.000000\n",
       "...                            ...           ...          ...\n",
       "rxn01675_c              rxn01675_c  0.000000e+00     0.000000\n",
       "rxn03887_c              rxn03887_c  0.000000e+00     0.000000\n",
       "rxn01997_c              rxn01997_c  0.000000e+00     0.000000\n",
       "teichoicacid_rxn  teichoicacid_rxn  8.994470e-04     0.899447\n",
       "rxn08764_c              rxn08764_c  3.114402e-13  1000.000000\n",
       "\n",
       "[1135 rows x 3 columns]"
      ]
     },
     "execution_count": 153,
     "metadata": {},
     "output_type": "execute_result"
    }
   ],
   "source": [
    "iCdR700_fva"
   ]
  },
  {
   "cell_type": "code",
   "execution_count": 149,
   "metadata": {},
   "outputs": [],
   "source": [
    "from cobra.flux_analysis import flux_variability_analysis\n",
    "fva = flux_variability_analysis(iCdR700)"
   ]
  },
  {
   "cell_type": "code",
   "execution_count": 150,
   "metadata": {},
   "outputs": [
    {
     "data": {
      "text/html": [
       "<div>\n",
       "<style scoped>\n",
       "    .dataframe tbody tr th:only-of-type {\n",
       "        vertical-align: middle;\n",
       "    }\n",
       "\n",
       "    .dataframe tbody tr th {\n",
       "        vertical-align: top;\n",
       "    }\n",
       "\n",
       "    .dataframe thead th {\n",
       "        text-align: right;\n",
       "    }\n",
       "</style>\n",
       "<table border=\"1\" class=\"dataframe\">\n",
       "  <thead>\n",
       "    <tr style=\"text-align: right;\">\n",
       "      <th></th>\n",
       "      <th>minimum</th>\n",
       "      <th>maximum</th>\n",
       "    </tr>\n",
       "  </thead>\n",
       "  <tbody>\n",
       "    <tr>\n",
       "      <th>rxn02201_c</th>\n",
       "      <td>0.000000</td>\n",
       "      <td>8.656473e-13</td>\n",
       "    </tr>\n",
       "    <tr>\n",
       "      <th>rxn00836_c</th>\n",
       "      <td>0.000000</td>\n",
       "      <td>8.656473e-13</td>\n",
       "    </tr>\n",
       "    <tr>\n",
       "      <th>rxn00390_c</th>\n",
       "      <td>0.000000</td>\n",
       "      <td>0.000000e+00</td>\n",
       "    </tr>\n",
       "    <tr>\n",
       "      <th>rxn00423_c</th>\n",
       "      <td>0.000000</td>\n",
       "      <td>1.084597e-12</td>\n",
       "    </tr>\n",
       "    <tr>\n",
       "      <th>rxn00364_c</th>\n",
       "      <td>0.000000</td>\n",
       "      <td>4.270017e-13</td>\n",
       "    </tr>\n",
       "    <tr>\n",
       "      <th>...</th>\n",
       "      <td>...</td>\n",
       "      <td>...</td>\n",
       "    </tr>\n",
       "    <tr>\n",
       "      <th>rxn01675_c</th>\n",
       "      <td>0.000000</td>\n",
       "      <td>0.000000e+00</td>\n",
       "    </tr>\n",
       "    <tr>\n",
       "      <th>rxn03887_c</th>\n",
       "      <td>0.000000</td>\n",
       "      <td>0.000000e+00</td>\n",
       "    </tr>\n",
       "    <tr>\n",
       "      <th>rxn01997_c</th>\n",
       "      <td>0.000000</td>\n",
       "      <td>0.000000e+00</td>\n",
       "    </tr>\n",
       "    <tr>\n",
       "      <th>teichoicacid_rxn</th>\n",
       "      <td>0.899447</td>\n",
       "      <td>8.994470e-01</td>\n",
       "    </tr>\n",
       "    <tr>\n",
       "      <th>rxn08764_c</th>\n",
       "      <td>17.988941</td>\n",
       "      <td>1.798894e+01</td>\n",
       "    </tr>\n",
       "  </tbody>\n",
       "</table>\n",
       "<p>1135 rows × 2 columns</p>\n",
       "</div>"
      ],
      "text/plain": [
       "                    minimum       maximum\n",
       "rxn02201_c         0.000000  8.656473e-13\n",
       "rxn00836_c         0.000000  8.656473e-13\n",
       "rxn00390_c         0.000000  0.000000e+00\n",
       "rxn00423_c         0.000000  1.084597e-12\n",
       "rxn00364_c         0.000000  4.270017e-13\n",
       "...                     ...           ...\n",
       "rxn01675_c         0.000000  0.000000e+00\n",
       "rxn03887_c         0.000000  0.000000e+00\n",
       "rxn01997_c         0.000000  0.000000e+00\n",
       "teichoicacid_rxn   0.899447  8.994470e-01\n",
       "rxn08764_c        17.988941  1.798894e+01\n",
       "\n",
       "[1135 rows x 2 columns]"
      ]
     },
     "execution_count": 150,
     "metadata": {},
     "output_type": "execute_result"
    }
   ],
   "source": [
    "fva"
   ]
  },
  {
   "cell_type": "code",
   "execution_count": 12,
   "metadata": {},
   "outputs": [
    {
     "data": {
      "text/plain": [
       "{'D-Glucosamine', 'D-Lactate'}"
      ]
     },
     "execution_count": 12,
     "metadata": {},
     "output_type": "execute_result"
    }
   ],
   "source": [
    "set(rough1_substrates['name']).difference(set(rough2_substrates['name']))"
   ]
  },
  {
   "cell_type": "code",
   "execution_count": 13,
   "metadata": {},
   "outputs": [
    {
     "data": {
      "text/html": [
       "<div>\n",
       "<style scoped>\n",
       "    .dataframe tbody tr th:only-of-type {\n",
       "        vertical-align: middle;\n",
       "    }\n",
       "\n",
       "    .dataframe tbody tr th {\n",
       "        vertical-align: top;\n",
       "    }\n",
       "\n",
       "    .dataframe thead th {\n",
       "        text-align: right;\n",
       "    }\n",
       "</style>\n",
       "<table border=\"1\" class=\"dataframe\">\n",
       "  <thead>\n",
       "    <tr style=\"text-align: right;\">\n",
       "      <th></th>\n",
       "      <th>id</th>\n",
       "      <th>name</th>\n",
       "    </tr>\n",
       "  </thead>\n",
       "  <tbody>\n",
       "    <tr>\n",
       "      <th>0</th>\n",
       "      <td>cpd00065_e</td>\n",
       "      <td>L-Tryptophan</td>\n",
       "    </tr>\n",
       "    <tr>\n",
       "      <th>1</th>\n",
       "      <td>cpd00030_e</td>\n",
       "      <td>Mn2+</td>\n",
       "    </tr>\n",
       "    <tr>\n",
       "      <th>2</th>\n",
       "      <td>cpd00205_e</td>\n",
       "      <td>K+</td>\n",
       "    </tr>\n",
       "    <tr>\n",
       "      <th>3</th>\n",
       "      <td>cpd00254_e</td>\n",
       "      <td>Mg</td>\n",
       "    </tr>\n",
       "    <tr>\n",
       "      <th>4</th>\n",
       "      <td>cpd00220_e</td>\n",
       "      <td>Riboflavin</td>\n",
       "    </tr>\n",
       "    <tr>\n",
       "      <th>5</th>\n",
       "      <td>cpd00067_e</td>\n",
       "      <td>H+</td>\n",
       "    </tr>\n",
       "    <tr>\n",
       "      <th>6</th>\n",
       "      <td>cpd00051_e</td>\n",
       "      <td>L-Arginine</td>\n",
       "    </tr>\n",
       "    <tr>\n",
       "      <th>7</th>\n",
       "      <td>cpd00104_e</td>\n",
       "      <td>BIOT</td>\n",
       "    </tr>\n",
       "    <tr>\n",
       "      <th>8</th>\n",
       "      <td>cpd00084_e</td>\n",
       "      <td>L-Cysteine</td>\n",
       "    </tr>\n",
       "    <tr>\n",
       "      <th>9</th>\n",
       "      <td>cpd00117_e</td>\n",
       "      <td>D-Alanine</td>\n",
       "    </tr>\n",
       "    <tr>\n",
       "      <th>10</th>\n",
       "      <td>cpd00322_e</td>\n",
       "      <td>L-Isoleucine</td>\n",
       "    </tr>\n",
       "    <tr>\n",
       "      <th>11</th>\n",
       "      <td>cpd00971_e</td>\n",
       "      <td>Na+</td>\n",
       "    </tr>\n",
       "    <tr>\n",
       "      <th>12</th>\n",
       "      <td>cpd00063_e</td>\n",
       "      <td>Ca2+</td>\n",
       "    </tr>\n",
       "    <tr>\n",
       "      <th>13</th>\n",
       "      <td>cpd03170_e</td>\n",
       "      <td>4-Hydroxymandelate</td>\n",
       "    </tr>\n",
       "    <tr>\n",
       "      <th>14</th>\n",
       "      <td>cpd00516_e</td>\n",
       "      <td>meso-2,6-Diaminopimelate</td>\n",
       "    </tr>\n",
       "    <tr>\n",
       "      <th>15</th>\n",
       "      <td>cpd00054_e</td>\n",
       "      <td>L-Serine</td>\n",
       "    </tr>\n",
       "    <tr>\n",
       "      <th>16</th>\n",
       "      <td>cpd00393_e</td>\n",
       "      <td>Folate</td>\n",
       "    </tr>\n",
       "    <tr>\n",
       "      <th>17</th>\n",
       "      <td>cpd00036_e</td>\n",
       "      <td>Succinate</td>\n",
       "    </tr>\n",
       "    <tr>\n",
       "      <th>18</th>\n",
       "      <td>cpd00263_e</td>\n",
       "      <td>Pyridoxol</td>\n",
       "    </tr>\n",
       "    <tr>\n",
       "      <th>19</th>\n",
       "      <td>cpd00023_e</td>\n",
       "      <td>L-Glutamate</td>\n",
       "    </tr>\n",
       "    <tr>\n",
       "      <th>20</th>\n",
       "      <td>cpd00076_e</td>\n",
       "      <td>Sucrose</td>\n",
       "    </tr>\n",
       "    <tr>\n",
       "      <th>21</th>\n",
       "      <td>cpd00060_e</td>\n",
       "      <td>L-Methionine</td>\n",
       "    </tr>\n",
       "    <tr>\n",
       "      <th>22</th>\n",
       "      <td>cpd00035_e</td>\n",
       "      <td>L-Alanine</td>\n",
       "    </tr>\n",
       "    <tr>\n",
       "      <th>23</th>\n",
       "      <td>cpd00305_e</td>\n",
       "      <td>Thiamin</td>\n",
       "    </tr>\n",
       "    <tr>\n",
       "      <th>24</th>\n",
       "      <td>cpd00644_e</td>\n",
       "      <td>PAN</td>\n",
       "    </tr>\n",
       "    <tr>\n",
       "      <th>25</th>\n",
       "      <td>cpd00107_e</td>\n",
       "      <td>L-Leucine</td>\n",
       "    </tr>\n",
       "    <tr>\n",
       "      <th>26</th>\n",
       "      <td>cpd00066_e</td>\n",
       "      <td>L-Phenylalanine</td>\n",
       "    </tr>\n",
       "    <tr>\n",
       "      <th>27</th>\n",
       "      <td>cpd00276_e</td>\n",
       "      <td>D-Glucosamine</td>\n",
       "    </tr>\n",
       "    <tr>\n",
       "      <th>28</th>\n",
       "      <td>cpd00009_e</td>\n",
       "      <td>Phosphate</td>\n",
       "    </tr>\n",
       "    <tr>\n",
       "      <th>29</th>\n",
       "      <td>cpd00082_e</td>\n",
       "      <td>D-Fructose</td>\n",
       "    </tr>\n",
       "    <tr>\n",
       "      <th>30</th>\n",
       "      <td>cpd00226_e</td>\n",
       "      <td>HYXN</td>\n",
       "    </tr>\n",
       "    <tr>\n",
       "      <th>31</th>\n",
       "      <td>cpd00099_e</td>\n",
       "      <td>Cl-</td>\n",
       "    </tr>\n",
       "    <tr>\n",
       "      <th>32</th>\n",
       "      <td>cpd00156_e</td>\n",
       "      <td>L-Valine</td>\n",
       "    </tr>\n",
       "    <tr>\n",
       "      <th>33</th>\n",
       "      <td>cpd00132_e</td>\n",
       "      <td>L-Asparagine</td>\n",
       "    </tr>\n",
       "    <tr>\n",
       "      <th>34</th>\n",
       "      <td>cpd00133_e</td>\n",
       "      <td>Nicotinamide</td>\n",
       "    </tr>\n",
       "    <tr>\n",
       "      <th>35</th>\n",
       "      <td>cpd00443_e</td>\n",
       "      <td>ABEE</td>\n",
       "    </tr>\n",
       "    <tr>\n",
       "      <th>36</th>\n",
       "      <td>cpd01080_e</td>\n",
       "      <td>ocdca</td>\n",
       "    </tr>\n",
       "    <tr>\n",
       "      <th>37</th>\n",
       "      <td>cpd00149_e</td>\n",
       "      <td>Co2+</td>\n",
       "    </tr>\n",
       "    <tr>\n",
       "      <th>38</th>\n",
       "      <td>cpd00221_e</td>\n",
       "      <td>D-Lactate</td>\n",
       "    </tr>\n",
       "    <tr>\n",
       "      <th>39</th>\n",
       "      <td>cpd00064_e</td>\n",
       "      <td>Ornithine</td>\n",
       "    </tr>\n",
       "    <tr>\n",
       "      <th>40</th>\n",
       "      <td>cpd10515_e</td>\n",
       "      <td>Fe2+</td>\n",
       "    </tr>\n",
       "    <tr>\n",
       "      <th>41</th>\n",
       "      <td>cpd00119_e</td>\n",
       "      <td>L-Histidine</td>\n",
       "    </tr>\n",
       "    <tr>\n",
       "      <th>42</th>\n",
       "      <td>cpd00027_e</td>\n",
       "      <td>D-Glucose</td>\n",
       "    </tr>\n",
       "  </tbody>\n",
       "</table>\n",
       "</div>"
      ],
      "text/plain": [
       "            id                      name\n",
       "0   cpd00065_e              L-Tryptophan\n",
       "1   cpd00030_e                      Mn2+\n",
       "2   cpd00205_e                        K+\n",
       "3   cpd00254_e                        Mg\n",
       "4   cpd00220_e                Riboflavin\n",
       "5   cpd00067_e                        H+\n",
       "6   cpd00051_e                L-Arginine\n",
       "7   cpd00104_e                      BIOT\n",
       "8   cpd00084_e                L-Cysteine\n",
       "9   cpd00117_e                 D-Alanine\n",
       "10  cpd00322_e              L-Isoleucine\n",
       "11  cpd00971_e                       Na+\n",
       "12  cpd00063_e                      Ca2+\n",
       "13  cpd03170_e        4-Hydroxymandelate\n",
       "14  cpd00516_e  meso-2,6-Diaminopimelate\n",
       "15  cpd00054_e                  L-Serine\n",
       "16  cpd00393_e                    Folate\n",
       "17  cpd00036_e                 Succinate\n",
       "18  cpd00263_e                 Pyridoxol\n",
       "19  cpd00023_e               L-Glutamate\n",
       "20  cpd00076_e                   Sucrose\n",
       "21  cpd00060_e              L-Methionine\n",
       "22  cpd00035_e                 L-Alanine\n",
       "23  cpd00305_e                   Thiamin\n",
       "24  cpd00644_e                       PAN\n",
       "25  cpd00107_e                 L-Leucine\n",
       "26  cpd00066_e           L-Phenylalanine\n",
       "27  cpd00276_e             D-Glucosamine\n",
       "28  cpd00009_e                 Phosphate\n",
       "29  cpd00082_e                D-Fructose\n",
       "30  cpd00226_e                      HYXN\n",
       "31  cpd00099_e                       Cl-\n",
       "32  cpd00156_e                  L-Valine\n",
       "33  cpd00132_e              L-Asparagine\n",
       "34  cpd00133_e              Nicotinamide\n",
       "35  cpd00443_e                      ABEE\n",
       "36  cpd01080_e                     ocdca\n",
       "37  cpd00149_e                      Co2+\n",
       "38  cpd00221_e                 D-Lactate\n",
       "39  cpd00064_e                 Ornithine\n",
       "40  cpd10515_e                      Fe2+\n",
       "41  cpd00119_e               L-Histidine\n",
       "42  cpd00027_e                 D-Glucose"
      ]
     },
     "execution_count": 13,
     "metadata": {},
     "output_type": "execute_result"
    }
   ],
   "source": [
    "rough1_substrates"
   ]
  },
  {
   "cell_type": "code",
   "execution_count": 21,
   "metadata": {},
   "outputs": [
    {
     "name": "stdout",
     "output_type": "stream",
     "text": [
      "4-Hydroxymandelate exchange\n",
      "p-Hydroxyphenylacetate decarboxylase\n",
      "5-Aminopentanoate exchange\n",
      "2,3-Dihydroxyphenylpropanoate diffusion\n",
      "5-Aminopentanoate transport via proton symport\n",
      "D-proline reductase\n",
      "UTP:N-acetyl-alpha-D-glucosamine-1-phosphate uridylyltransferase\n",
      "alpha-D-Glucose 1-phosphate 1,6-phosphomutase\n",
      "Sucrose exchange\n",
      "sucrose transport via PEP:Pyr PTS\n"
     ]
    }
   ],
   "source": [
    "# Parse AUCRF results\n",
    "aucrf = [['EX_cpd03170_e',14.41],['rxn07124_c',14.39],['EX_cpd00339_e',13.76],['ID008_c',13.64],\n",
    "         ['rxn12566_c',9.61],['rxn20606_c',9.52],['rxn00293_c',4.57],['rxn00704_c',4.20],\n",
    "         ['EX_cpd00076_e',3.76],['rxn05655_c',3.38]]\n",
    "\n",
    "for x in aucrf: print(iCdR700.reactions.get_by_id(x[0]).name)"
   ]
  },
  {
   "cell_type": "code",
   "execution_count": 15,
   "metadata": {},
   "outputs": [
    {
     "data": {
      "text/plain": [
       "'cytosol'"
      ]
     },
     "execution_count": 15,
     "metadata": {},
     "output_type": "execute_result"
    }
   ],
   "source": []
  },
  {
   "cell_type": "code",
   "execution_count": 18,
   "metadata": {},
   "outputs": [
    {
     "name": "stdout",
     "output_type": "stream",
     "text": [
      "rxn07124_c p-Hydroxyphenylacetate decarboxylase\n",
      "ID008_c 2,3-Dihydroxyphenylpropanoate diffusion\n",
      "EX_cpd03170_e 4-Hydroxymandelate exchange\n",
      "EX_cpd00339_e 5-Aminopentanoate exchange\n",
      "rxn12566_c 5-Aminopentanoate transport via proton symport\n",
      "rxn20606_c D-proline reductase\n"
     ]
    }
   ],
   "source": [
    "top = ['rxn07124_c', 'ID008_c', 'EX_cpd03170_e', 'EX_cpd00339_e', 'rxn12566_c', 'rxn20606_c']\n",
    "for x in top:\n",
    "    print(x, iCdR700.reactions.get_by_id(x).name)"
   ]
  },
  {
   "cell_type": "code",
   "execution_count": null,
   "metadata": {},
   "outputs": [],
   "source": []
  },
  {
   "cell_type": "code",
   "execution_count": 34,
   "metadata": {},
   "outputs": [],
   "source": [
    "def find_element_sources(riptide):\n",
    "    \n",
    "    # Isolate exchange reactions\n",
    "    exchanges = []\n",
    "    for rxn in riptide.model.reactions:\n",
    "        if len(rxn.reactants) == 0 or len(rxn.products) == 0:\n",
    "            exchanges.append(rxn.id)\n",
    "    \n",
    "    sources = {}\n",
    "    c_source = ['cpd_id', 0.0]\n",
    "    n_source = ['cpd_id', 0.0]\n",
    "    \n",
    "    # PArse exchange flux samples for imported metabolites\n",
    "    for rxn in exchanges:\n",
    "        flux = abs(numpy.median(riptide.flux_samples[rxn]))\n",
    "        if flux > 1e-6:\n",
    "            metabolite = riptide.model.reactions.get_by_id(rxn).reactants[0]\n",
    "            sources[metabolite.id] = {}\n",
    "            \n",
    "            # Multiply elemental components by median flux absolute value\n",
    "            for element in metabolite.elements.keys():\n",
    "                element_supply = round(float(metabolite.elements[element]) * flux, 3)\n",
    "                sources[metabolite.id][element] = element_supply\n",
    "                \n",
    "                # Identify largest sources of carbon and nitrogen\n",
    "                if element == 'C' and element_supply > c_source[1]:\n",
    "                    c_source = [metabolite.id, element_supply]\n",
    "                elif element == 'N' and element_supply > n_source[1]:\n",
    "                    n_source = [metabolite.id, element_supply]\n",
    "                    \n",
    "    print('Primary carbon source: ' + riptide.model.metabolites.get_by_id(c_source[0]).name + ' (' + str(c_source[1]) + ')')\n",
    "    print('Primary nitrogen source: ' + riptide.model.metabolites.get_by_id(n_source[0]).name + ' (' + str(n_source[1]) + ')')\n",
    "\n",
    "    return sources\n",
    "\n",
    "        "
   ]
  },
  {
   "cell_type": "code",
   "execution_count": 35,
   "metadata": {},
   "outputs": [
    {
     "name": "stdout",
     "output_type": "stream",
     "text": [
      "Primary carbon source: Sucrose (8488.097)\n",
      "Primary nitrogen source: Ornithine (1978.133)\n"
     ]
    }
   ],
   "source": [
    "rough1_sources = find_element_sources(iCdR700_rough1)"
   ]
  },
  {
   "cell_type": "code",
   "execution_count": 39,
   "metadata": {},
   "outputs": [
    {
     "name": "stdout",
     "output_type": "stream",
     "text": [
      "Primary carbon source: Sucrose (8001.194)\n",
      "Primary nitrogen source: Ornithine (1759.983)\n"
     ]
    }
   ],
   "source": [
    "rough2_sources = find_element_sources(iCdR700_rough2)"
   ]
  },
  {
   "cell_type": "code",
   "execution_count": 40,
   "metadata": {},
   "outputs": [
    {
     "name": "stdout",
     "output_type": "stream",
     "text": [
      "Primary carbon source: D-Fructose (6000.0)\n",
      "Primary nitrogen source: Ornithine (1250.531)\n"
     ]
    }
   ],
   "source": [
    "smooth2_sources = find_element_sources(iCdR700_smooth2)"
   ]
  },
  {
   "cell_type": "code",
   "execution_count": 41,
   "metadata": {},
   "outputs": [
    {
     "name": "stdout",
     "output_type": "stream",
     "text": [
      "Primary carbon source: D-Mannitol (6000.0)\n",
      "Primary nitrogen source: Ornithine (1204.084)\n"
     ]
    }
   ],
   "source": [
    "smooth3_sources = find_element_sources(iCdR700_smooth3)"
   ]
  },
  {
   "cell_type": "code",
   "execution_count": null,
   "metadata": {},
   "outputs": [],
   "source": []
  },
  {
   "cell_type": "code",
   "execution_count": null,
   "metadata": {},
   "outputs": [],
   "source": []
  },
  {
   "cell_type": "code",
   "execution_count": null,
   "metadata": {},
   "outputs": [],
   "source": []
  }
 ],
 "metadata": {
  "kernelspec": {
   "display_name": "Python 3",
   "language": "python",
   "name": "python3"
  },
  "language_info": {
   "codemirror_mode": {
    "name": "ipython",
    "version": 3
   },
   "file_extension": ".py",
   "mimetype": "text/x-python",
   "name": "python",
   "nbconvert_exporter": "python",
   "pygments_lexer": "ipython3",
   "version": "3.7.5"
  }
 },
 "nbformat": 4,
 "nbformat_minor": 2
}
